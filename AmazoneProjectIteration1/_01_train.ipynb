{
 "cells": [
  {
   "cell_type": "markdown",
   "metadata": {},
   "source": [
    "# Training Set"
   ]
  },
  {
   "cell_type": "code",
   "execution_count": 18,
   "metadata": {},
   "outputs": [],
   "source": [
    "import numpy as np\n",
    "import pandas as pd\n",
    "import matplotlib.pyplot as plt\n",
    "from sklearn.externals import joblib\n",
    "%matplotlib inline"
   ]
  },
  {
   "cell_type": "markdown",
   "metadata": {},
   "source": [
    "### Read raw training data"
   ]
  },
  {
   "cell_type": "code",
   "execution_count": 19,
   "metadata": {},
   "outputs": [
    {
     "name": "stdout",
     "output_type": "stream",
     "text": [
      "(364000, 14)\n"
     ]
    }
   ],
   "source": [
    "amazon = pd.read_csv('/Users/working/Documents/ParsonsSchool/Sp19/MachineLearning/DATASET/amazon_data/raw_data_train.csv')\n",
    "print(amazon.shape)"
   ]
  },
  {
   "cell_type": "code",
   "execution_count": 20,
   "metadata": {},
   "outputs": [
    {
     "name": "stdout",
     "output_type": "stream",
     "text": [
      "   Unnamed: 0  Unnamed: 0.1      Id   ProductId          UserId  \\\n",
      "0      161979        251062  251063  B002INDU22  A16M0DLZ493518   \n",
      "1       72164        206109  206110  B0050JLAEQ  A2B940BLM1T0V3   \n",
      "2      452002        334972  334973  B003D4MW38  A2I8UYFVJ5TLHT   \n",
      "3      419090        119275  119276  B003Z7VYXW  A1YC6AYVXK7NRQ   \n",
      "4      304509         90726   90727  B003OB4BOS  A29NOSP1RGTQNK   \n",
      "\n",
      "         ProfileName  HelpfulnessNumerator  HelpfulnessDenominator  Score  \\\n",
      "0            do-good                     0                       0      4   \n",
      "1              donna                     0                       0      5   \n",
      "2         greenie227                     1                       1      5   \n",
      "3  DesDaz \"torr0015\"                     2                       2      5   \n",
      "4               Josh                     0                       0      4   \n",
      "\n",
      "         Time                           Summary  \\\n",
      "0  1331337600                             Works   \n",
      "1  1348617600    She loves, it, I love it, too!   \n",
      "2  1309737600  Excellent tea, and fast shipping   \n",
      "3  1326240000    Great results, terrific price!   \n",
      "4  1300924800                   not that spicy!   \n",
      "\n",
      "                                                Text  helpScore  helpful  \n",
      "0  We tried these and I was worried that they may...        NaN    False  \n",
      "1  My vet recommended my 11 year old cat change h...        NaN    False  \n",
      "2  This is terrific tea. I bought it to make iced...        1.0    False  \n",
      "3  I have had excellent results with this yeast. ...        1.0    False  \n",
      "4  I wasn't too disappointed, but as someone who ...        NaN    False  \n",
      "0.07315384615384615\n"
     ]
    }
   ],
   "source": [
    "print(amazon.head())\n",
    "print(amazon['helpful'].mean())"
   ]
  },
  {
   "cell_type": "code",
   "execution_count": 21,
   "metadata": {},
   "outputs": [
    {
     "name": "stdout",
     "output_type": "stream",
     "text": [
      "0         We tried I worried work. They work well. My fa...\n",
      "1         My vet recommended 11 year old cat change diet...\n",
      "2         This terrific tea. I bought iced tea, it's got...\n",
      "3         I excellent results yeast. When I opened packa...\n",
      "4         I wasn't disappointed, enjoys spicy food 'pica...\n",
      "5         My mom Bustelo cafe like old neighborhood. One...\n",
      "6         I tried samples liked them. However, I tried c...\n",
      "7         I discovered sweetener couple months ago huge ...\n",
      "8         Rooibos tea great healing skin conditions it's...\n",
      "9         I use Kretschmer Wheatgerm homemade granola re...\n",
      "10        These best hazelnuts I've years. They fresh, c...\n",
      "11        I Jamba Juice Match green tea shots...after tr...\n",
      "12        These black ink black we're seeing canned blac...\n",
      "13        I highly recommend these. They tasted great! I...\n",
      "14        I bought package 10 month old practice self fe...\n",
      "15        I bought thinking taste like peppermint patty,...\n",
      "16        I buy 2 packs daily $5 pack. When I saw case I...\n",
      "17        This bread easy make. It bread machine traditi...\n",
      "18        One best tasting honeys I tried. Forget eating...\n",
      "19        Smooth aromatic coffee that's better starbucks...\n",
      "20        You regular cold coffee. Thought expresso stro...\n",
      "21        Wow stuff good! Almost single kernel popped ti...\n",
      "22        I haven't able years, I'm glad I Amazon now. T...\n",
      "23        Excellent dinner option elderly mother, easy s...\n",
      "24        Sent gift mom mother's day loved it!! I happy ...\n",
      "25        I whirly pop bought brand popcorn (similar thi...\n",
      "26        I avoid Made In China snacks beloved Lucky, (n...\n",
      "27        This tea delicious toasted flavor I've come ap...\n",
      "28        This chicken dinner real hit 12 year old, toot...\n",
      "29        Let wow! I little apprehensive prepackaged coo...\n",
      "                                ...                        \n",
      "363970    I love protein shake! It taste like coconut va...\n",
      "363971    My husband bought cases popcorn based 5-stars ...\n",
      "363972    I ordered I intrigued knowing taste.<br />They...\n",
      "363973    I cat struvite crystals. I cranberry powder pa...\n",
      "363974    This fine flavor tea wonderful 'kick'and left ...\n",
      "363975    I excited Lickety Stik dogs. It sounds like go...\n",
      "363976    I started purchasing daughter 9 months old. We...\n",
      "363977    I idea idea mix ramen noodles chocolate, brill...\n",
      "363978    This coffee says medium roast actually little ...\n",
      "363979    I started making Vegetarian dishes help books ...\n",
      "363980    My cat loves taste food healthy eating years. ...\n",
      "363981    1st: cats don't eat brand relish like Wellness...\n",
      "363982    These best Beer Sausages I,ve come decades! Th...\n",
      "363983    The lavendar fragrant, I smell step arrived. T...\n",
      "363984    The tree looks nice, unfortunately packed prop...\n",
      "363985    It's strong, bold intense. I usually don't lik...\n",
      "363986    We cats, like food. One cats generally picky d...\n",
      "363987    I 5 year old boy 3 year old girl. I mixed wate...\n",
      "363988    Having tried different brands years, I safely ...\n",
      "363989    Who would've thought work? Yet does, time time...\n",
      "363990    My dogs \"LOVED\" them. They sit counter I kept ...\n",
      "363991    fantastic peoples busy u need fast snack stick...\n",
      "363992    While taste pretty good, I doubt I purchase ag...\n",
      "363993    The berry flavor strong - fact, far I tell, it...\n",
      "363994    This popcorn tastes like old-fashioned, homema...\n",
      "363995    My girls loved long car ride! We going NJ CA q...\n",
      "363996    Too early know. I recommended product helps jo...\n",
      "363997    Note Amazon, continue carry product worthinton...\n",
      "363998    This fancy grade good gets. You disappointed. ...\n",
      "363999    I'm grateful Keurig coffee maker! The taste Gr...\n",
      "Name: Text, Length: 364000, dtype: object\n",
      "We tried I worried work. They work well. My family loved trying them. We enjoyed lunch salad dressing fruit greek yogurt natural. Tasty.<br />The pill hard took moments melt worked right away. It lasted 20-25 minutes active eating. I think acid sour foods washes away. I try again.\n",
      "We tried I worried work. They work well. My family loved trying them. We enjoyed lunch salad dressing fruit greek yogurt natural. Tasty.<br />The pill hard took moments melt worked right away. It lasted 20-25 minutes active eating. I think acid sour foods washes away. I try again.\n",
      "my bats\n"
     ]
    }
   ],
   "source": [
    "from gensim.parsing.preprocessing import remove_stopwords\n",
    "# remove stop words in amazon.Text\n",
    "amazon['Text'] = amazon['Text'].apply(remove_stopwords)\n",
    "#newText = amazon['Text'].apply(remove_stopwords)\n",
    "print(amazon.Text)\n",
    "#print(newText)\n",
    "\n",
    "import nltk\n",
    "# nltk.download('wordnet')\n",
    "from nltk.stem import WordNetLemmatizer \n",
    "\n",
    "#Init the Wordnet Lemmatizer\n",
    "lemmatizer = WordNetLemmatizer()\n",
    "\n",
    "print(amazon['Text'][0])\n",
    "print(lemmatizer.lemmatize(amazon['Text'][0]))\n",
    "\n",
    "#gensim lemmatize needs pattern, but it is only support python 3.6 below\n",
    "# from gensim.utils import lemmatize\n",
    "# amazon['Text'] = amazon['Text'].apply(lemmatize)\n",
    "\n",
    "# leText=newText.apply(lemmatizer.lemmatize)\n",
    "print(lemmatizer.lemmatize(\"my bats\"))\n"
   ]
  },
  {
   "cell_type": "markdown",
   "metadata": {},
   "source": [
    "### Feature extraction on natural language data"
   ]
  },
  {
   "cell_type": "code",
   "execution_count": 174,
   "metadata": {},
   "outputs": [],
   "source": [
    "# # http://scikit-learn.org/stable/modules/generated/sklearn.feature_extraction.text.CountVectorizer.html\n",
    "# from sklearn.feature_extraction.text import CountVectorizer\n",
    "# vectorizer = CountVectorizer()\n",
    "# corpus = amazon.Text.as_matrix()\n",
    "# X_bag_of_words = vectorizer.fit_transform(corpus)\n",
    "# print(X_bag_of_words.toarray())\n"
   ]
  },
  {
   "cell_type": "code",
   "execution_count": 17,
   "metadata": {},
   "outputs": [
    {
     "name": "stderr",
     "output_type": "stream",
     "text": [
      "/anaconda3/lib/python3.7/site-packages/sklearn/feature_extraction/hashing.py:102: DeprecationWarning: the option non_negative=True has been deprecated in 0.19 and will be removed in version 0.21.\n",
      "  \" in version 0.21.\", DeprecationWarning)\n",
      "/anaconda3/lib/python3.7/site-packages/sklearn/feature_extraction/hashing.py:102: DeprecationWarning: the option non_negative=True has been deprecated in 0.19 and will be removed in version 0.21.\n",
      "  \" in version 0.21.\", DeprecationWarning)\n"
     ]
    },
    {
     "name": "stdout",
     "output_type": "stream",
     "text": [
      "HashingVectorizer(alternate_sign=True, analyzer='word', binary=False,\n",
      "         decode_error='strict', dtype=<class 'numpy.float64'>,\n",
      "         encoding='utf-8', input='content', lowercase=True,\n",
      "         n_features=131072, ngram_range=(1, 1), non_negative=True,\n",
      "         norm='l2', preprocessor=None, stop_words=None, strip_accents=None,\n",
      "         token_pattern='(?u)\\\\b\\\\w\\\\w+\\\\b', tokenizer=None)\n",
      "(364000, 131072)\n"
     ]
    }
   ],
   "source": [
    "# vectorize Bag of Words from review text; as sparse matrix\n",
    "from sklearn.feature_extraction.text import HashingVectorizer\n",
    "hv = HashingVectorizer(n_features=2 ** 17, non_negative=True)\n",
    "X_hv = hv.fit_transform(amazon.Text)\n",
    "#X_hv = hv.fit_transform(newText)\n",
    "print(hv)\n",
    "print(X_hv.shape)"
   ]
  },
  {
   "cell_type": "code",
   "execution_count": 176,
   "metadata": {},
   "outputs": [
    {
     "data": {
      "text/plain": [
       "scipy.sparse.csr.csr_matrix"
      ]
     },
     "execution_count": 176,
     "metadata": {},
     "output_type": "execute_result"
    }
   ],
   "source": [
    "type(X_hv)"
   ]
  },
  {
   "cell_type": "code",
   "execution_count": 177,
   "metadata": {},
   "outputs": [
    {
     "data": {
      "text/plain": [
       "['hv.pkl']"
      ]
     },
     "execution_count": 177,
     "metadata": {},
     "output_type": "execute_result"
    }
   ],
   "source": [
    "# We want to be able to use this model fit on other data (the test set)\n",
    "# So let's save a copy of this instance of HashingVectorizer to be able to transform other data with this fit\n",
    "# http://scikit-learn.org/stable/modules/model_persistence.html\n",
    "joblib.dump(hv, 'hv.pkl') # pickle"
   ]
  },
  {
   "cell_type": "code",
   "execution_count": 178,
   "metadata": {},
   "outputs": [
    {
     "data": {
      "text/plain": [
       "['transformer.pkl']"
      ]
     },
     "execution_count": 178,
     "metadata": {},
     "output_type": "execute_result"
    }
   ],
   "source": [
    "# http://scikit-learn.org/stable/modules/generated/sklearn.feature_extraction.text.TfidfTransformer.html\n",
    "from sklearn.feature_extraction.text import TfidfTransformer\n",
    "transformer = TfidfTransformer()\n",
    "X_tfidf = transformer.fit_transform(X_hv)\n",
    "\n",
    "joblib.dump(transformer, 'transformer.pkl') # pickle"
   ]
  },
  {
   "cell_type": "code",
   "execution_count": 179,
   "metadata": {},
   "outputs": [
    {
     "name": "stdout",
     "output_type": "stream",
     "text": [
      "<class 'scipy.sparse.csr.csr_matrix'>\n"
     ]
    }
   ],
   "source": [
    "print(type(X_tfidf))"
   ]
  },
  {
   "cell_type": "markdown",
   "metadata": {
    "collapsed": true
   },
   "source": [
    "### Create additional quantitative features"
   ]
  },
  {
   "cell_type": "code",
   "execution_count": 180,
   "metadata": {},
   "outputs": [
    {
     "name": "stdout",
     "output_type": "stream",
     "text": [
      "   Score  reviewLen\n",
      "0      4        281\n",
      "1      5        277\n",
      "2      5         72\n",
      "3      5        202\n",
      "4      4        121\n",
      "5      5        118\n",
      "6      5        105\n",
      "7      5        563\n",
      "8      5       1034\n",
      "9      5        452\n",
      "<class 'pandas.core.frame.DataFrame'>\n"
     ]
    }
   ],
   "source": [
    "# features from Amazon.csv to add to feature set\n",
    "amazon['reviewLen'] = amazon['Text'].str.len()\n",
    "\n",
    "X_quant_features = amazon[[\"Score\", \"reviewLen\"]]\n",
    "print(X_quant_features.head(10))\n",
    "print(type(X_quant_features))"
   ]
  },
  {
   "cell_type": "markdown",
   "metadata": {},
   "source": [
    "### Combine all quantitative features into a single sparse matrix"
   ]
  },
  {
   "cell_type": "code",
   "execution_count": 181,
   "metadata": {},
   "outputs": [
    {
     "name": "stdout",
     "output_type": "stream",
     "text": [
      "(364000, 131074)\n"
     ]
    }
   ],
   "source": [
    "from scipy.sparse import csr_matrix, hstack\n",
    "X_quant_features_csr = csr_matrix(X_quant_features)\n",
    "X_combined = hstack([X_tfidf, X_quant_features_csr])\n",
    "X_matrix = csr_matrix(X_combined) # convert to sparse matrix\n",
    "print(X_matrix.shape)"
   ]
  },
  {
   "cell_type": "code",
   "execution_count": 182,
   "metadata": {},
   "outputs": [
    {
     "name": "stdout",
     "output_type": "stream",
     "text": [
      "  (0, 1396)\t0.09755261490953315\n",
      "  (0, 5744)\t0.16638612402007336\n",
      "  (0, 10127)\t0.08443194607741517\n",
      "  (0, 12360)\t0.05783585825663549\n",
      "  (0, 17096)\t0.06896310384382182\n",
      "  (0, 17958)\t0.07172985062868213\n",
      "  (0, 21662)\t0.07109296531984213\n",
      "  (0, 22561)\t0.08558974888148561\n",
      "  (0, 24734)\t0.033805360346365824\n",
      "  (0, 26415)\t0.10709889239675342\n",
      "  (0, 27286)\t0.08178832420225421\n",
      "  (0, 30217)\t0.1077808934665522\n",
      "  (0, 30587)\t0.057280529614282774\n",
      "  (0, 32689)\t0.06542662187631546\n",
      "  (0, 35400)\t0.07205254404218642\n",
      "  (0, 35440)\t0.08000867214349118\n",
      "  (0, 36281)\t0.06572618732914116\n",
      "  (0, 37771)\t0.09939554784969735\n",
      "  (0, 38990)\t0.07042979001691516\n",
      "  (0, 39731)\t0.07342879847902052\n",
      "  (0, 41642)\t0.04390040440755441\n",
      "  (0, 42257)\t0.0600498075272038\n",
      "  (0, 47468)\t0.08178512084118028\n",
      "  (0, 51635)\t0.06192384381349832\n",
      "  (0, 52237)\t0.13712169383362013\n",
      "  :\t:\n",
      "  (0, 103968)\t0.09152392641743488\n",
      "  (0, 106191)\t0.07053060777258889\n",
      "  (0, 106475)\t0.09215930455613514\n",
      "  (0, 107760)\t0.1133030723578394\n",
      "  (0, 109683)\t0.09015316279709543\n",
      "  (0, 110653)\t0.07475937957964457\n",
      "  (0, 112660)\t0.13587549269966492\n",
      "  (0, 113371)\t0.06037243928216571\n",
      "  (0, 114268)\t0.09384875079718341\n",
      "  (0, 114999)\t0.12246176158289619\n",
      "  (0, 116852)\t0.06780013566389005\n",
      "  (0, 119281)\t0.06843218748233824\n",
      "  (0, 120784)\t0.05720742221026138\n",
      "  (0, 121369)\t0.06857098578297921\n",
      "  (0, 121790)\t0.08124386093352112\n",
      "  (0, 122164)\t0.11763376659684975\n",
      "  (0, 122202)\t0.11999330120059454\n",
      "  (0, 124610)\t0.1357670647020368\n",
      "  (0, 124824)\t0.15725391062984462\n",
      "  (0, 125577)\t0.24767610899379233\n",
      "  (0, 125969)\t0.09587700585686817\n",
      "  (0, 127723)\t0.08025599798878366\n",
      "  (0, 128705)\t0.06931284956520403\n",
      "  (0, 131072)\t5.0\n",
      "  (0, 131073)\t628.0\n"
     ]
    }
   ],
   "source": [
    "# look at an example of a \"row\" of a sparse matrix\n",
    "print(X_matrix[1234])"
   ]
  },
  {
   "cell_type": "markdown",
   "metadata": {},
   "source": [
    "### Create `X`, scaled matrix of features"
   ]
  },
  {
   "cell_type": "code",
   "execution_count": 183,
   "metadata": {},
   "outputs": [
    {
     "name": "stdout",
     "output_type": "stream",
     "text": [
      "(364000, 131074)\n"
     ]
    },
    {
     "data": {
      "text/plain": [
       "['sc.pkl']"
      ]
     },
     "execution_count": 183,
     "metadata": {},
     "output_type": "execute_result"
    }
   ],
   "source": [
    "# feature scaling\n",
    "from sklearn.preprocessing import StandardScaler\n",
    "sc = StandardScaler(with_mean=False)\n",
    "X = sc.fit_transform(X_matrix)\n",
    "print(X.shape)\n",
    "\n",
    "joblib.dump(sc, 'sc.pkl') # pickle"
   ]
  },
  {
   "cell_type": "markdown",
   "metadata": {},
   "source": [
    "### create `y`, vector of Labels"
   ]
  },
  {
   "cell_type": "code",
   "execution_count": 184,
   "metadata": {
    "scrolled": true
   },
   "outputs": [
    {
     "name": "stdout",
     "output_type": "stream",
     "text": [
      "<class 'numpy.ndarray'>\n"
     ]
    }
   ],
   "source": [
    "y = amazon['helpful'].values\n",
    "print(type(y))"
   ]
  },
  {
   "cell_type": "markdown",
   "metadata": {},
   "source": [
    "# fit models"
   ]
  },
  {
   "cell_type": "code",
   "execution_count": 185,
   "metadata": {},
   "outputs": [],
   "source": [
    "from my_measures import BinaryClassificationPerformance"
   ]
  },
  {
   "cell_type": "markdown",
   "metadata": {},
   "source": [
    "### MODEL: ordinary least squares"
   ]
  },
  {
   "cell_type": "code",
   "execution_count": 186,
   "metadata": {},
   "outputs": [
    {
     "name": "stdout",
     "output_type": "stream",
     "text": [
      "{'Pos': 26628, 'Neg': 337372, 'TP': 12496, 'TN': 185105, 'FP': 152267, 'FN': 14132, 'Accuracy': 0.5428598901098901, 'Precision': 0.07584227041265333, 'Recall': 0.4692804566621601, 'desc': 'ols'}\n"
     ]
    }
   ],
   "source": [
    "from sklearn import linear_model\n",
    "ols = linear_model.SGDClassifier(loss=\"squared_loss\")\n",
    "ols.fit(X, y)\n",
    "joblib.dump(ols, 'ols.pkl') # pickle\n",
    "\n",
    "ols_performance = BinaryClassificationPerformance(ols.predict(X), y, 'ols')\n",
    "ols_performance.compute_measures()\n",
    "print(ols_performance.performance_measures)"
   ]
  },
  {
   "cell_type": "markdown",
   "metadata": {},
   "source": [
    "### MODEL: SVM, linear"
   ]
  },
  {
   "cell_type": "code",
   "execution_count": 187,
   "metadata": {},
   "outputs": [
    {
     "name": "stdout",
     "output_type": "stream",
     "text": [
      "{'Pos': 26628, 'Neg': 337372, 'TP': 12436, 'TN': 322529, 'FP': 14843, 'FN': 14192, 'Accuracy': 0.9202335164835165, 'Precision': 0.4558818138494813, 'Recall': 0.46702718942466576, 'desc': 'svm'}\n"
     ]
    }
   ],
   "source": [
    "from sklearn import linear_model\n",
    "svm = linear_model.SGDClassifier()\n",
    "svm.fit(X, y)\n",
    "joblib.dump(svm, 'svm.pkl') # pickle\n",
    "\n",
    "svm_performance = BinaryClassificationPerformance(svm.predict(X), y, 'svm')\n",
    "svm_performance.compute_measures()\n",
    "print(svm_performance.performance_measures)"
   ]
  },
  {
   "cell_type": "markdown",
   "metadata": {},
   "source": [
    "### MODEL: logistic regression"
   ]
  },
  {
   "cell_type": "code",
   "execution_count": 200,
   "metadata": {},
   "outputs": [
    {
     "name": "stdout",
     "output_type": "stream",
     "text": [
      "{'Pos': 26628, 'Neg': 337372, 'TP': 12229, 'TN': 335616, 'FP': 1756, 'FN': 14399, 'Accuracy': 0.9556181318681318, 'Precision': 0.8744368966750089, 'Recall': 0.4592534174553102, 'desc': 'lgs'}\n"
     ]
    }
   ],
   "source": [
    "from sklearn import linear_model\n",
    "from tqdm import tqdm\n",
    "\n",
    "#for alpha in range(0.1, 1.0, 0.1):  #range只能取整数\n",
    "#tAlpha= np.linspace(0,1,11)\n",
    "#lgs = linear_model.SGDClassifier(loss='log', n_iter=50, alpha=alpha)\n",
    "\n",
    "# for alpha in np.linspace(0.0012,0.003,5):\n",
    "#     lgs = linear_model.SGDClassifier(loss='log', max_iter=50, alpha=alpha) # default alpha= 0.00001   测试到5\n",
    "lgs = linear_model.SGDClassifier(loss='log', max_iter=100, alpha=0.001572)# default alpha= 0.00001   测试到5\n",
    "# lgs = linear_model.SGDClassifier(loss='log', max_iter=100, alpha=0.00165)\n",
    "lgs.fit(X, y)\n",
    "joblib.dump(lgs, 'lgs.pkl') # pickle\n",
    "lgs_performance = BinaryClassificationPerformance(lgs.predict(X), y, 'lgs')\n",
    "lgs_performance.compute_measures()\n",
    "print(lgs_performance.performance_measures)\n",
    "# print(alpha)"
   ]
  },
  {
   "cell_type": "markdown",
   "metadata": {},
   "source": [
    "### MODEL: Naive Bayes"
   ]
  },
  {
   "cell_type": "code",
   "execution_count": 112,
   "metadata": {},
   "outputs": [
    {
     "name": "stdout",
     "output_type": "stream",
     "text": [
      "{'Pos': 26628, 'Neg': 337372, 'TP': 17394, 'TN': 294176, 'FP': 43196, 'FN': 9234, 'Accuracy': 0.8559615384615384, 'Precision': 0.2870770754249876, 'Recall': 0.653222172149617, 'desc': 'nbs'}\n"
     ]
    }
   ],
   "source": [
    "from sklearn.naive_bayes import MultinomialNB\n",
    "nbs = MultinomialNB()\n",
    "nbs.fit(X, y)\n",
    "joblib.dump(nbs, 'nbs.pkl') # pickle\n",
    "\n",
    "nbs_performance = BinaryClassificationPerformance(nbs.predict(X), y, 'nbs')\n",
    "nbs_performance.compute_measures()\n",
    "print(nbs_performance.performance_measures)"
   ]
  },
  {
   "cell_type": "markdown",
   "metadata": {},
   "source": [
    "### MODEL: Perceptron"
   ]
  },
  {
   "cell_type": "code",
   "execution_count": 113,
   "metadata": {},
   "outputs": [
    {
     "name": "stderr",
     "output_type": "stream",
     "text": [
      "/anaconda3/lib/python3.7/site-packages/sklearn/linear_model/stochastic_gradient.py:166: FutureWarning: max_iter and tol parameters have been added in SGDClassifier in 0.19. If both are left unset, they default to max_iter=5 and tol=None. If tol is not None, max_iter defaults to max_iter=1000. From 0.21, default max_iter will be 1000, and default tol will be 1e-3.\n",
      "  FutureWarning)\n"
     ]
    },
    {
     "name": "stdout",
     "output_type": "stream",
     "text": [
      "{'Pos': 26628, 'Neg': 337372, 'TP': 12579, 'TN': 322092, 'FP': 15280, 'FN': 14049, 'Accuracy': 0.9194258241758242, 'Precision': 0.45152374457087474, 'Recall': 0.472397476340694, 'desc': 'prc'}\n"
     ]
    }
   ],
   "source": [
    "from sklearn import linear_model\n",
    "prc = linear_model.SGDClassifier(loss='perceptron')\n",
    "prc.fit(X, y)\n",
    "joblib.dump(prc, 'prc.pkl') # pickle\n",
    "\n",
    "prc_performance = BinaryClassificationPerformance(prc.predict(X), y, 'prc')\n",
    "prc_performance.compute_measures()\n",
    "print(prc_performance.performance_measures)"
   ]
  },
  {
   "cell_type": "markdown",
   "metadata": {},
   "source": [
    "### MODEL: Ridge Regression Classifier"
   ]
  },
  {
   "cell_type": "code",
   "execution_count": 114,
   "metadata": {},
   "outputs": [
    {
     "name": "stdout",
     "output_type": "stream",
     "text": [
      "{'Pos': 26628, 'Neg': 337372, 'TP': 8086, 'TN': 336715, 'FP': 657, 'FN': 18542, 'Accuracy': 0.9472554945054945, 'Precision': 0.9248541690495253, 'Recall': 0.3036653147063242, 'desc': 'rdg'}\n"
     ]
    }
   ],
   "source": [
    "from sklearn import linear_model\n",
    "from tqdm import tqdm\n",
    "\n",
    "#for NumberRRC in tqdm(np.linspace(0.0,1,10)):\n",
    "rdg = linear_model.RidgeClassifier(alpha=5)\n",
    "rdg.fit(X, y)\n",
    "joblib.dump(rdg, 'rdg.pkl') # pickle\n",
    "\n",
    "rdg_performance = BinaryClassificationPerformance(rdg.predict(X), y, 'rdg')\n",
    "rdg_performance.compute_measures()\n",
    "print(rdg_performance.performance_measures)\n",
    "#print (NumberRRC)"
   ]
  },
  {
   "cell_type": "code",
   "execution_count": 115,
   "metadata": {},
   "outputs": [
    {
     "data": {
      "text/plain": [
       "{'alpha': 5,\n",
       " 'class_weight': None,\n",
       " 'copy_X': True,\n",
       " 'fit_intercept': True,\n",
       " 'max_iter': None,\n",
       " 'normalize': False,\n",
       " 'random_state': None,\n",
       " 'solver': 'auto',\n",
       " 'tol': 0.001}"
      ]
     },
     "execution_count": 115,
     "metadata": {},
     "output_type": "execute_result"
    }
   ],
   "source": [
    "rdg.get_params()"
   ]
  },
  {
   "cell_type": "markdown",
   "metadata": {},
   "source": [
    "### What is the distribution of weights, OLS vs. ridge? "
   ]
  },
  {
   "cell_type": "code",
   "execution_count": 116,
   "metadata": {},
   "outputs": [
    {
     "data": {
      "image/png": "[encoded data removed]",
      "text/plain": [
       "<Figure size 432x288 with 1 Axes>"
      ]
     },
     "metadata": {
      "needs_background": "light"
     },
     "output_type": "display_data"
    },
    {
     "data": {
      "image/png": "[encoded data removed]",
      "text/plain": [
       "<Figure size 432x288 with 1 Axes>"
      ]
     },
     "metadata": {
      "needs_background": "light"
     },
     "output_type": "display_data"
    }
   ],
   "source": [
    "plt.hist(ols.coef_[0])\n",
    "plt.show()\n",
    "\n",
    "plt.hist(rdg.coef_[0])\n",
    "plt.show()"
   ]
  },
  {
   "cell_type": "markdown",
   "metadata": {},
   "source": [
    "### MODEL: Decision Tree Classifier"
   ]
  },
  {
   "cell_type": "code",
   "execution_count": 117,
   "metadata": {},
   "outputs": [
    {
     "name": "stdout",
     "output_type": "stream",
     "text": [
      "{'Pos': 26628, 'Neg': 337372, 'TP': 9716, 'TN': 337343, 'FP': 29, 'FN': 16912, 'Accuracy': 0.9534587912087912, 'Precision': 0.9970241149307337, 'Recall': 0.3648790746582545, 'desc': 'dtc'}\n"
     ]
    }
   ],
   "source": [
    "from sklearn import tree\n",
    "dtc = tree.DecisionTreeClassifier(max_depth=100)\n",
    "dtc.fit(X_matrix, y)\n",
    "joblib.dump(dtc, 'dtc.pkl') # pickle\n",
    "\n",
    "dtc_performance = BinaryClassificationPerformance(dtc.predict(X_matrix), y, 'dtc')\n",
    "dtc_performance.compute_measures()\n",
    "print(dtc_performance.performance_measures)"
   ]
  },
  {
   "cell_type": "markdown",
   "metadata": {},
   "source": [
    "### ROC plot to compare performance of various models and fits"
   ]
  },
  {
   "cell_type": "code",
   "execution_count": 201,
   "metadata": {},
   "outputs": [
    {
     "data": {
      "image/png": "[encoded data removed]",
      "text/plain": [
       "<Figure size 432x288 with 1 Axes>"
      ]
     },
     "metadata": {
      "needs_background": "light"
     },
     "output_type": "display_data"
    }
   ],
   "source": [
    "fits = [svm_performance, lgs_performance, rdg_performance, prc_performance, ols_performance, dtc_performance, nbs_performance]\n",
    "\n",
    "for fit in fits:\n",
    "    plt.plot(fit.performance_measures['FP'] / fit.performance_measures['Neg'], \n",
    "             fit.performance_measures['TP'] / fit.performance_measures['Pos'], 'ro')\n",
    "    plt.text(fit.performance_measures['FP'] / fit.performance_measures['Neg'], \n",
    "             fit.performance_measures['TP'] / fit.performance_measures['Pos'], fit.desc)\n",
    "plt.axis([0, 1, 0, 1])\n",
    "plt.title('ROC plot: training set')\n",
    "plt.xlabel('False positive rate')\n",
    "plt.ylabel('True positive rate')\n",
    "plt.show()"
   ]
  },
  {
   "cell_type": "markdown",
   "metadata": {},
   "source": [
    "## a digression: looking inside the `rdg` object\n",
    "\n",
    "[documentation](https://scikit-learn.org/stable/modules/generated/sklearn.linear_model.RidgeClassifier.html)"
   ]
  },
  {
   "cell_type": "code",
   "execution_count": 119,
   "metadata": {},
   "outputs": [
    {
     "data": {
      "text/plain": [
       "['__abstractmethods__',\n",
       " '__class__',\n",
       " '__delattr__',\n",
       " '__dict__',\n",
       " '__dir__',\n",
       " '__doc__',\n",
       " '__eq__',\n",
       " '__format__',\n",
       " '__ge__',\n",
       " '__getattribute__',\n",
       " '__getstate__',\n",
       " '__gt__',\n",
       " '__hash__',\n",
       " '__init__',\n",
       " '__init_subclass__',\n",
       " '__le__',\n",
       " '__lt__',\n",
       " '__module__',\n",
       " '__ne__',\n",
       " '__new__',\n",
       " '__reduce__',\n",
       " '__reduce_ex__',\n",
       " '__repr__',\n",
       " '__setattr__',\n",
       " '__setstate__',\n",
       " '__sizeof__',\n",
       " '__str__',\n",
       " '__subclasshook__',\n",
       " '__weakref__',\n",
       " '_abc_impl',\n",
       " '_decision_function',\n",
       " '_estimator_type',\n",
       " '_get_param_names',\n",
       " '_label_binarizer',\n",
       " '_predict_proba_lr',\n",
       " '_preprocess_data',\n",
       " '_set_intercept',\n",
       " 'alpha',\n",
       " 'class_weight',\n",
       " 'classes_',\n",
       " 'coef_',\n",
       " 'copy_X',\n",
       " 'decision_function',\n",
       " 'fit',\n",
       " 'fit_intercept',\n",
       " 'get_params',\n",
       " 'intercept_',\n",
       " 'max_iter',\n",
       " 'n_iter_',\n",
       " 'normalize',\n",
       " 'predict',\n",
       " 'random_state',\n",
       " 'score',\n",
       " 'set_params',\n",
       " 'solver',\n",
       " 'tol']"
      ]
     },
     "execution_count": 119,
     "metadata": {},
     "output_type": "execute_result"
    }
   ],
   "source": [
    "dir(rdg)"
   ]
  },
  {
   "cell_type": "code",
   "execution_count": 34,
   "metadata": {},
   "outputs": [
    {
     "data": {
      "text/plain": [
       "{'alpha': 5,\n",
       " 'class_weight': None,\n",
       " 'copy_X': True,\n",
       " 'fit_intercept': True,\n",
       " 'max_iter': None,\n",
       " 'normalize': False,\n",
       " 'random_state': None,\n",
       " 'solver': 'auto',\n",
       " 'tol': 0.001}"
      ]
     },
     "execution_count": 34,
     "metadata": {},
     "output_type": "execute_result"
    }
   ],
   "source": [
    "rdg.get_params()"
   ]
  },
  {
   "cell_type": "code",
   "execution_count": 35,
   "metadata": {},
   "outputs": [
    {
     "data": {
      "text/plain": [
       "numpy.ndarray"
      ]
     },
     "execution_count": 35,
     "metadata": {},
     "output_type": "execute_result"
    }
   ],
   "source": [
    "type(rdg.coef_)"
   ]
  },
  {
   "cell_type": "code",
   "execution_count": 36,
   "metadata": {},
   "outputs": [
    {
     "data": {
      "text/plain": [
       "(1, 131074)"
      ]
     },
     "execution_count": 36,
     "metadata": {},
     "output_type": "execute_result"
    }
   ],
   "source": [
    "rdg.coef_.shape"
   ]
  },
  {
   "cell_type": "code",
   "execution_count": 37,
   "metadata": {},
   "outputs": [
    {
     "name": "stdout",
     "output_type": "stream",
     "text": [
      "[-0.00183324 -0.00018589  0.         ... -0.00044401  0.00266334\n",
      "  0.07976268]\n"
     ]
    }
   ],
   "source": [
    "print(rdg.coef_[0])"
   ]
  },
  {
   "cell_type": "code",
   "execution_count": 38,
   "metadata": {},
   "outputs": [
    {
     "data": {
      "image/png": "[encoded data removed]",
      "text/plain": [
       "<Figure size 432x288 with 1 Axes>"
      ]
     },
     "metadata": {
      "needs_background": "light"
     },
     "output_type": "display_data"
    }
   ],
   "source": [
    "plt.hist(rdg.coef_[0])\n",
    "plt.show()"
   ]
  },
  {
   "cell_type": "markdown",
   "metadata": {},
   "source": [
    "# looking at reviews based on their classification\n",
    "\n",
    "Let's say we decide that Ridge Regression is the best model for generalization. Let's take a look at some of the reviews and try to make a (subjective) determination of whether it's generalizing well. "
   ]
  },
  {
   "cell_type": "code",
   "execution_count": 39,
   "metadata": {},
   "outputs": [
    {
     "data": {
      "text/plain": [
       "'We tried these and I was worried that they may not work. They did work well. My family has loved trying them. We even enjoyed our lunch salad no dressing with just fruit and greek yogurt all natural. Tasty.<br />The pill was hard and took a few moments to melt but it worked right away.  It lasted for 20-25 minutes of active eating. I think the acid in the sour foods washes it away. I would try it again.'"
      ]
     },
     "execution_count": 39,
     "metadata": {},
     "output_type": "execute_result"
    }
   ],
   "source": [
    "amazon.loc[0, \"Text\"]"
   ]
  },
  {
   "cell_type": "code",
   "execution_count": 40,
   "metadata": {},
   "outputs": [
    {
     "data": {
      "text/plain": [
       "False"
      ]
     },
     "execution_count": 40,
     "metadata": {},
     "output_type": "execute_result"
    }
   ],
   "source": [
    "amazon.loc[0, \"helpful\"]"
   ]
  },
  {
   "cell_type": "code",
   "execution_count": 41,
   "metadata": {},
   "outputs": [],
   "source": [
    "ridge_predictions = rdg.predict(X)"
   ]
  },
  {
   "cell_type": "code",
   "execution_count": 42,
   "metadata": {},
   "outputs": [
    {
     "data": {
      "text/plain": [
       "(364000,)"
      ]
     },
     "execution_count": 42,
     "metadata": {},
     "output_type": "execute_result"
    }
   ],
   "source": [
    "ridge_predictions.shape"
   ]
  },
  {
   "cell_type": "code",
   "execution_count": 43,
   "metadata": {},
   "outputs": [
    {
     "name": "stdout",
     "output_type": "stream",
     "text": [
      "[False False False ...  True False False]\n"
     ]
    }
   ],
   "source": [
    "print(ridge_predictions)"
   ]
  },
  {
   "cell_type": "code",
   "execution_count": 44,
   "metadata": {},
   "outputs": [
    {
     "name": "stdout",
     "output_type": "stream",
     "text": [
      "11142\n",
      "2012-10-18 00:00:00\n",
      "5\n",
      "0\n",
      "B009L47BR6\n",
      "Best tea is grown in Sri Lanka and wanted to get this tea in US for a long time. I did not know this tea was actually from Sri Lanka and was surprised to find that it.<br /><br />Anyway, tea is superb. Would strongly recommend it.\n",
      "* * * * * * * * * \n",
      "15184\n",
      "2009-11-01 00:00:00\n",
      "2\n",
      "1\n",
      "B00315WGNK\n",
      "I ordered this product because it was described as \"all-natural with no chemical preservatives\" and the gold box price price was good.  It arrived quickly, as usual for Amazon, and it tastes good.  But, it's not \"all-natural with no chemical preservatives\" unless you consider sodium nitrite and partially hydrogenated vegetable oil to fall under that description.  I would consider ordering it again if it weren't for the artificial ingredients.<br /><br />How do they get away with suggesting that there are no artificial preservatives (sodium nitrite) in this stuff?  Sodium nitrite has been linked to migraines and colon cancer and has been used as a poison in larger quantities.\n",
      "* * * * * * * * * \n",
      "19547\n",
      "2010-08-17 00:00:00\n",
      "5\n",
      "2\n",
      "B0009F3QLQ\n",
      "The first month I tried this tea I still had pms pains of headaches and bloating and intense cramps during my period.  I was a bit turned off by the taste and smell as well in the beginning.  But I continued to drink it around the next month and noticed my usual pms bloating went down with my food cravings and headaches were non-existent.  I felt like something was \"wrong\"...and questioned myself if I was going to skip my entire period?  Well a couple days before my period I had a lot of twitching feelings in the lower abdomen than I have had in the past but no spotting.  My period was pushed a little further past my regular cycle. On the night I got my period the pain was extremely MILD on/off and only lasted until the next morning instead of the whole day.  I'm on the 3rd day and have absolutely no pain and taken way less ibuprofen than I have in the past.  The second day of my period is usually the most painful and this is a huge change for my menstrual cycle and pms.  Another thing I notice is the blood seems to be flushing out of me faster/more heavily.  Highly recommend.  Worth a try and even if it doesn't work for you it's still good tea.\n",
      "* * * * * * * * * \n",
      "24811\n",
      "2011-12-20 00:00:00\n",
      "4\n",
      "0\n",
      "B004P4TL8E\n",
      "Pros:<br />This is a fairly simple product.  A metal drawer with dividers. Great for organizing all the your K-cups. Less counter space than a carousel.<br /><br />Cons:<br />EXPENSIVE...A metal drawer with dividers for almost $50.  It raises your coffee maker about 3.25\".  We have a Keurig B60 and when it is placed on this product and shoved back towards the wall it will not open fully to accept the K-cup because of the wall cabinets it resides under.  Its not a big deal to just pull the unit forward but I think its definitely worth mentioning.\n",
      "* * * * * * * * * \n",
      "26645\n",
      "2008-05-29 00:00:00\n",
      "5\n",
      "0\n",
      "B0019K3P3E\n",
      "After chewing one piece of Spry peppermint gum you may notice your teeth and gums feeling more healthy. Since I'm always looking for natural alternatives to regular processed sugar as an ingredient, this item caught my attention.<br /><br />Not only does Xylitol not promote tooth decay, it has natural ingredients to decrease plaque formation and adhesion. Xylitol is a naturally occurring 5-carbon sugar alcohol found in many fruits including plums, strawberries and raspberries. Our bodies actual produce about 11g of Xylitol a day.<br /><br />It can be commercially manufactured from \"xylan hemicellulose\" sources such as Birch trees in Finland. Some Xylitol products are also made from corn.<br /><br />This product is made with a Xylitol, gum base, natural flavors, glycerin, gum Arabic, soy lecithin and beesewax.<br /><br />Xylitol actually has been proven to:<br /><br />Reduce Tooth Decay<br />Prevent Cavities by inhibiting the growth of bacteria<br />Inhibits the growth of a related species, Streptococcus pneumoniae, which is a cause of ear infections<br />Reduce the secretion of Plaque Acids<br />Facilitate the Remineralization of Tooth Enamel<br /><br />What more could we ask for from a gum? This gum is a natural defense system and you will start to notice the results. Unlike other sugary gums, this will reduce cavities and it is just as flavorful, if not more so than most gums.<br /><br />~The Rebecca Review\n",
      "* * * * * * * * * \n",
      "33627\n",
      "2009-03-11 00:00:00\n",
      "5\n",
      "2\n",
      "B001EPPXG6\n",
      "My husband is a wonderful amateur chef. He does all the cooking at home and is quite particular about his kitchen and what is stocked in it. He asked me to buy some dried Oregano. I found this product on Amazon.com and purchased it. There is SO much oregano; I was rather shocked at the volume when it arrived. I opened one jar and whoosh-the aroma filled my nostrils and the room around me. Joe smelled it as well, liked it and used it right away in a spaghetti sauce he was making. Excellent. We gave away 2 jars to friends and still have more than enough. I can really taste the difference between this product and an \"off the shelf\" supermarket oregano. We both heartily recommend Colorado Spice Oregano to you.\n",
      "* * * * * * * * * \n",
      "34173\n",
      "2011-12-19 00:00:00\n",
      "1\n",
      "2\n",
      "B0044UO9FY\n",
      "This candy was obviously old. Each chocolate was discolored. The Krackel krispies were not crispy and the chocolate wasn't right. Peant butter cups and Goodbars nasty, the nuts are horrible. Hersheys pulls their candy off of the shelves in the stores when it is getting old. Seller must have bought it up & sold it here last year or the year before. It has to be at least 1 or more years old. Do not buy chocolate from ZANY Values, it isn't good for you!!<br /><br />I'm sure that if the candy were FRESH that it would have been just fine. I have re-ordered from a different vendor and will let you know if theirs is fresh (as it should be) or not.\n",
      "* * * * * * * * * \n",
      "36628\n",
      "2011-03-13 00:00:00\n",
      "5\n",
      "1\n",
      "B0025VRCJY\n",
      "One of the best lemon juice that I have tried. I am recurring customer due to the high quality of this product. When the season for fresh lemos is out, this one supplement our need for the citrus on the kitchen or refreshments.<br /><br />I will continue buying it.\n",
      "* * * * * * * * * \n",
      "46317\n",
      "2012-07-18 00:00:00\n",
      "4\n",
      "0\n",
      "B005LURD4K\n",
      "I am pretty careful about what I eat and staying in shape.  I don't like to take in calories from drinks so I look for low cal drinks that are still tasty.  Other than Crystal Light, the sugar free hawaiian punch products are probably my favorite taste wise. I have tried the red punch, blue typhoon, and found this berry limeade on Amazon which I have never seen in stores.  It do like the flavor as it is similar to the other berry/fruity flavors.  It is really all a matter of preference regarding what flavors you like but if you are looking for low calorie drink packets and like fruity drinks this is definitely an option.\n",
      "* * * * * * * * * \n",
      "69883\n",
      "2011-08-16 00:00:00\n",
      "5\n",
      "1\n",
      "B000W0A78S\n",
      "i got the butter in chunks , it has a nice chocolate but strong smell :)<br />it's also very hard , i put a very small on my fingertips and rubbed it til' it turned to oil , and massaged it on my face :)<br />veeery moisturizing ^_^\n",
      "* * * * * * * * * \n",
      "83876\n",
      "2010-11-07 00:00:00\n",
      "5\n",
      "0\n",
      "B001TZJ3N0\n",
      "I hate sparkling water, so I was reluctant to try this for fear that it would taste like S. Pellegrino's sparkling mineral water...much to my amazement, I LOVE the taste of this! I love pretty much anything with a lemon flavor to it, and although this isn't really a lemon flavor per se, it has enough of a lemon taste to be called \"limonata.\" This looks like a traditional soda, since it comes in a traditional soda aluminum can. This, however, is more of a carbonated sour lemon drink that is more cool and refreshing than any soda without being excessively sweet or syrupy like regular citrus sodas can be. The only catch is that it really is sour (not excessive, but fairly strong in sourness), so if you don't like sour things you will not like this drink. You are better off going with the <a href=\"http://www.amazon.com/gp/product/B001L4EME4\">San Pellegrino Sparkling Beverage, Orange, 11.15-Ounce Cans (Pack of 24)</a>, which is not sour at all and is more of a sweet, orange flavor. If you like lemons or if you are tired of the usual Sprite/Sierra Mist/Mountain Dew flavors then give this drink a try. It is a refreshingly different twist.\n",
      "* * * * * * * * * \n",
      "85334\n",
      "2012-02-16 00:00:00\n",
      "3\n",
      "1\n",
      "B005VOOQHS\n",
      "This isn't bad.  I used to like Kool-Aid when I was a kid, especially the red flavors.  Or mixing a red with grape was also quite good.  I'm just not sure about the Mango.  I like mango flavor, and this does taste like mango to me, but it doesn't do it for me as a drink.  I also tried this with my <a href=\"http://www.amazon.com/gp/product/B001KYT6CS\">Sodastream Fountain Jet Soda Maker Starter Kit</a>, but it's not much better carbonated.  It's too sweet.  Perhaps the packets where you can add the sugar yourself would be better.\n",
      "* * * * * * * * * \n",
      "85917\n",
      "2012-01-30 00:00:00\n",
      "1\n",
      "0\n",
      "B004ROBGLW\n",
      "These lupinis I got through Amazon were soaking in a cloudy white fluid.  I've gotten the identical brand locally and it has always been clear.  I didn't want to chance eating these since I know bad batches can contain botulism.\n",
      "* * * * * * * * * \n",
      "87680\n",
      "2011-05-16 00:00:00\n",
      "3\n",
      "2\n",
      "B000OWF84C\n",
      "My purchase came in very poor condition and two of the bottles were defective. I am requested a replacement for the bottles Ihad bought and wait for response.\n",
      "* * * * * * * * * \n"
     ]
    },
    {
     "name": "stdout",
     "output_type": "stream",
     "text": [
      "101487\n",
      "2008-11-17 00:00:00\n",
      "4\n",
      "4\n",
      "B000PDO2YC\n",
      "Tasty. I get a little gas afterwards though : )<br />Also, it says vegetal, but there's meat in it (if you care).\n",
      "* * * * * * * * * \n",
      "101901\n",
      "2009-09-22 00:00:00\n",
      "4\n",
      "3\n",
      "B002AR158W\n",
      "I am a great fan of greens and oolongs, particularly scented teas.<br /><br />This puerh brews deep reddish-brown liquor.  It is a full-bodied, smooth tea.  It has a light, not overbearing floral scent and a bold, but slightly sweet, fruity taste and a somewhat astringent finish.<br /><br />I do not taste the green except in the finish.  In fact, I wondered at first if there actually was green tea in the blend.  I was also interested in what is in the teabag, so I opened one to examine it.  There is indeed green tea in it.  The teabag does not contain tea dust.  It contains fannings, which are pieces of broken leaf.<br />I have added photos so you can see the liquor and the contents of the teabag.<br /><br />You can drink this pleasant tea unadorned if you wish.  It is a good afternoon offering and is suitable to serve with dessert.  It marries very well with <a href=\"http://www.amazon.com/gp/product/B000FFAK6Y\">Dare Cookies, Lemon Creme, 12.3-Ounce Packages (Pack of 12)</a>.  You can steep this tea two or three times.  I brewed it at about 200 degrees Fahrenheit because green tea brews bitter in boiling water.  Brew it in simmering water.  I am pleasantly surprised and think this is worth trying, especially for those who want to try a new type of tea.\n",
      "* * * * * * * * * \n",
      "107114\n",
      "2011-06-05 00:00:00\n",
      "5\n",
      "1\n",
      "B0026YDOYM\n",
      "The reason I originally ordered this blend from Amazon, is that I did not need to go to the Grocery store<br />for a couple weeks, except for coffee which I was almost out of. So why not get it delivered to my front door.<br />I usually drink regular Folgers Classic Roast, but wanted to try something different.<br /><br />  I am glad I did. This is really, really tasty coffee. I do not overspend on coffee by going to Starbucks or getting any<br />specialty coffees anywhere else. So, I am really pleased by the flavor of this medium blend, which is not too mild, and not too strong.<br />It is what a cup of coffee should taste like. I will continue to order it in the future.\n",
      "* * * * * * * * * \n",
      "108932\n",
      "2012-03-26 00:00:00\n",
      "2\n",
      "3\n",
      "B000KKHRB0\n",
      "I like to purchase chocolates for my Mom. She is 79 years old, and does enjoy a piece of chocolate after dinner. I wanted to get something special for her, so Naturally I went to one of the more expensive items in this area. I waited for her to get the package and had her call me as she opened the box and tasted her first piece of very expensive chocolate. She was very happy to get the gift and thrilled that I had remembered her in this way. And that is about as far as the excitement went. She ate no more than one or a half of the chocolates a day. As each piece of chocolate is two servings. She kept the slip of paper from the box that told of each chocolate and what you were getting. As the days went on and she was telling me how she enjoyed the chocolates, the truth came out. These were nice chocolates. Nice, but not worth the money you spend on them. I told her that the next box of chocolates I get would be DIFFERENT. When she had finished the box I ordered her TWO boxes of the variety of Kirkland Chocolates. I actually spent less on TWO boxes than I had on this one small box of Chocolates. She was thrilled  not only with the fact of a gift again, but at the taste of the chocolates. She loved the Kirkland chocolates, and requested that I never spend the money on the Moonstruck Chocolates again. Although I didn't sample the candy, I believe that if you want more for your money, and a good piece of candy, skip the Moonstruck and go for the Kirkland box of chocolates. Variety PLUS a very happy Mom.<a href=\"http://www.amazon.com/gp/product/B0042TO03I\">Kirkland Signature Classic American Chocolate Holiday Gift Box 16 oz.</a>\n",
      "* * * * * * * * * \n",
      "118606\n",
      "2011-09-26 00:00:00\n",
      "3\n",
      "0\n",
      "B003YBLF2E\n",
      "I've tried five or six of the GoPicnic lunches so far, and even though I usually love salmon, this lunch is my least favorite. I'd suggest <a href=\"http://www.amazon.com/gp/product/B003YBH398\">GoPicnic Ready-to-Eat Meals, Turkey Pepperoni + Cheese, 3-Ounce Boxes (Pack of 6)</a>, <a href=\"http://www.amazon.com/gp/product/B003YBP6Q0\">GoPicnic Ready-to-Eat Meals, Hummus + Crackers, 4.4-Ounce Boxes (Pack of 6)</a>, or <a href=\"http://www.amazon.com/gp/product/B005PLC674\">GoPicnic Ready-To-Eat Meals Sunbutter + Crackers, 3.5-Ounce (Pack of 6)</a>.\n",
      "* * * * * * * * * \n",
      "123491\n",
      "2011-05-10 00:00:00\n",
      "5\n",
      "1\n",
      "B002RZ1QNG\n",
      "This is definitely sweet, but that's how I like my wine.  No backsweetening needed!  It has a pear flavor and chilled ... well, it's my favorite.\n",
      "* * * * * * * * * \n",
      "130899\n",
      "2012-10-01 00:00:00\n",
      "5\n",
      "0\n",
      "B0028VZEJQ\n",
      "I had never tried Farro before, but had a recipe that called for it and could not find it locally.  Our family is trying to eat healthier and so I am trying various whole grain products.  I made a cold salad with the cooked Farro and it was a very nice product.  It had a great texture and and mild, nutty flavor.  I also held it's texture well for several days in the cold salad. We would definitely use Farro again and though I can't compare this Farro to other brands it worked great for our needs.\n",
      "* * * * * * * * * \n",
      "150640\n",
      "2006-12-20 00:00:00\n",
      "5\n",
      "3\n",
      "B000E1HUD0\n",
      "The best rendering of connective tissue money can buy. Try all the flavors, they have something to offer for everyone!\n",
      "* * * * * * * * * \n",
      "151896\n",
      "2012-09-09 00:00:00\n",
      "3\n",
      "0\n",
      "B000EF3E2W\n",
      "SHIPPING: I received the crown prince sardines quickly, 2 day total shipping time in a nice cardboard case nicely packed by amazon in an additional box,<br /> however the box that royal crown ships the sardines in had a oily spot in one corner, upon opening the package I found 1 can arrived had begun leaking oil at somepoint, I threw that can away.  the rest of the cans were afaik undamaged. -1 star for damaged tin.  and for the record this is a non returnable purchase.<br /><br />THE TASTE: This is hard to judge since I have only tried 2 Tins so far, but I tried using alton browns sardine toast recipe with avocado, and it just did not taste that good to me.  I actually ended up feeding half of the dish to the dogs. I had made the sardine toast before with store bought brisling sardines and they tasted much much better, I loved it that time and I hoped that this would be equaled in flavor and taste, unfortunately that was not the case.  -1 star<br /><br />I will update the review with my current opinion as I try more of the tins.<br /><br />EDIT: I tried a can by itself with nothing else, eating it slowly with chopsticks today and it turns out the fish was actually quite tasty.<br />I finished the entire can with ease. :-)<br />I am going to attribute the bad flavor of the first two cans I tried to using the wrong type of vinegar with the sardine toast that I attempted to make.\n",
      "* * * * * * * * * \n",
      "167543\n",
      "2011-11-17 00:00:00\n",
      "4\n",
      "1\n",
      "B0054TWQMM\n",
      "Before I saw this product here on Amazon, if anyone mentioned \"chia\" I would think of those chia pets where you applied the seeds, watered and grew \"hair\" on your \"pet\".<br /><br />I can't BELIEVE what an easy way this is to add goodness to your diet! You literally can mix this with anything. I've had it in yogurt, in soup, pudding, oatmeal, smoothies, etc, etc. It makes me feel good to know that I'm doing something that can benefit my health.<br /><br />I have added this to my drop biscuit recipe and to banana bread. Both were extra moist and with both I was able to cut back the amount of butter/margarine in the recipes and the flavor didn't really change at all which I think is a good thing.<br /><br />I am a perpetual dieter and one thing I did notice for myself was that when adding this to various foods, I did seem to feel full longer than if I didn't add it. Also, my husband has type II diabetes and this is hasn't spiked his blood sugar because it's got protein and fiber and fiber acts like \"brakes\" for sugar/carbs so they absorb more slowly into the bloodstream and you don't get the blood sugar spikes or at the very least, it doesn't spike so high. So far, despite the holiday season and his \"cheating\" on his diabetic diet, his blood sugar numbers are actually better than this time last year - I'm not giving all the credit for that to this product but I think it's probably helping at least a bit.<br /><br />I just don't see a downside to this product. It's organic, easy to use and according to what I've read, it's good for you. I will continue to experiment with this and will absolutely be buying it again.\n",
      "* * * * * * * * * \n",
      "168349\n",
      "2012-04-25 00:00:00\n",
      "4\n",
      "0\n",
      "B004VITJWC\n",
      "The yogurt drops are so small it will take your child a while to eat them. They are great for outtings (no so great at home can be messy if dropped).  This snack will give you some time to enjoy being out and no fussy toddler to deal with.  The taste is bland but my toddler loves em.\n",
      "* * * * * * * * * \n",
      "168891\n",
      "2011-12-07 00:00:00\n",
      "5\n",
      "1\n",
      "B001AQVQL0\n",
      "The product is bright and cheerful pink and very sturdy.  The customer service was excellent.  I had some questions and they were responded to in a very timely manner with much respect.\n",
      "* * * * * * * * * \n",
      "171248\n",
      "2010-09-14 00:00:00\n",
      "3\n",
      "0\n",
      "B000CSBVOO\n",
      "I've read the reviews and I should have probably listened. When I received my product I noticed right away that some were opened as the cereal was filling on the sides of the box. They were orderly cramped in, but the lids on 18 of those were half-way opened. After checking to see what and how many of each, I counted 12 Raisins w/ Granola, 11 Smartstarts Original, 11 Special K Fruit & Yogurt, 14 Special K Red berries, and 8 Special K Original cereal which in grand total added to 56 cups, NOT the 60 as advertised. I probably won't order this again unless Kellogg's can get their act together when distributing through Amazon.<br /><br />3 stars as the cereal does taste great, especially the Red berries\n",
      "* * * * * * * * * \n",
      "171279\n",
      "2008-12-21 00:00:00\n",
      "4\n",
      "3\n",
      "B008UDPCU2\n",
      "...give this product 5 stars.  Yeah, it's not Star****s, but it's a quality cup of frothy Joe that will start the engine with smooth creaminess.  Plenty hot, but not a lot of coffee (don't use your mammoth \"venti\" cup, unless you use 2 of each disk, and even then...), it's nice to havethe option of using just the espresso disk if you need a jolt.\n",
      "* * * * * * * * * \n",
      "177712\n",
      "2009-09-16 00:00:00\n",
      "5\n",
      "40\n",
      "B002HFPW6I\n",
      "Mrs. May's Trio bars are my favorite snack/energy bars. I love them. They come in four flavors and you get five of each flavor in this variety box. Blueberry is my favorite, followed by strawberry (I like berry flavors). Cranberry comes in third, but I still really like it, just not as much as blueberry and strawberry. Though cranberries are pretty tart, the cranberry bar is not noticeably tarter than the others. My least favorite is the tropical but only because it has a less distinct taste than the others.<br /><br />The name comes from the ingredients. The bars have a trio of trios: 3 nuts, 3 seeds and 3 fruits. The nuts, seeds and 2 of the fruits are the same in all the flavors. The nuts are cashews, almonds & pistachios. The seeds are sesame, pumpkin, & sunflower. The two fruits that are in all the flavors are dates and raisins, but you don't really see or taste them so I wonder if they are cooked down into the \"glue\" that holds all the other ingredients together. The third fruit in each flavor is (obviously) dried fruit in the named flavor, though the tropical is a blend of three different tropical fruits, none of which dominates. The only other ingredients are rice malt, natural flavors, cane juice and sea salt.<br /><br />These are great bars for anyone who has issues with wheat or dairy. The label says they are wheat free, gluten free, dairy free and kosher. They also have no preservatives. If you have peanut allergies, the label says they are packaged in a peanut free facility that processes other nuts.<br /><br />Because of the nuts, they have 12 grams of fat per bar, but I've been reading articles that say nuts are a great snack and the fat in nuts is \"good\" fat. The label says there is 1.5 grams of saturated fat which surprised me but I guess some of the fat in nuts must be saturated. To round out the rest of the nutrition facts: calories, 170; total carbs, 14g; dietary fiber, 2g; sugars, 6g; protein, 5g; cholesterol, 0g; trans fat, 0g; and sodium, 45mg.<br /><br />I love the nuts and seeds and the bars don't have the mealy texture that a lot of energy/snack bars have. They are low sodium but high in taste and they are really satisfying. I used to get granola bars but these are so much better.\n",
      "* * * * * * * * * \n",
      "178793\n",
      "2012-03-27 00:00:00\n",
      "5\n",
      "1\n",
      "B003HKFMEO\n",
      "I have been involved in dog rescue for many years. I recently took in a very large hound who had been starved within an inch of his life. The vet recommended this (in addition to many other treatments and holistic measures, including yogurt!) to try to quickly get some weight on and good nutrition into the dog. You'd think a starving dog would eat anything, but often times they will not. I had to bake this hound homemade meatloaf for a month. Wellness and Nutro canned were the only \"dog foods\" I could get him to eat. But he did gain weight steadily, was able to wean off 'human food', and did very well.  After gaining 20 lbs, he was adopted by a wonderful family. When you need the best, any of the Nutro Ultra brands I would highly recommend.\n",
      "* * * * * * * * * \n",
      "178887\n",
      "2010-05-25 00:00:00\n",
      "5\n",
      "0\n",
      "B002ZX1U9A\n",
      "Lot's of flavor, is a favorite! Will always buy. Amazon is the best to purchace from. Fast service and delivery.They have the best coffee club prices around!! I cannot say thanks enough to them! Keep up the great work!! Cheryl\n",
      "* * * * * * * * * \n",
      "210581\n",
      "2011-12-07 00:00:00\n",
      "1\n",
      "21\n",
      "B001T4UMM2\n",
      "I have a 6 1/2 month old, 47lb, pit bull mix. He has absolutely no allergies, and no sensitivities. He basically eats everything without an issue, however, we found the one thing that does not agree with him, \"CHECKUPS.\" I just bought the product from Costco last night, and gave him one bone while I was home so that I could see how he reacted to it and how long it lasted. At first I was happy to see that he spent some time chewing on it. We all went to bed, and all was fine, until 4:00 am, when we were awoken by Rocco throwing up his dinner. An hour later, he proceeded to throw up blood, a large amount of blood. Soon after, he threw up blood again. We rushed him to the vet, and the vet said that this product was way too hard for a puppy that young. We were surprised to hear this because the package stated that the product was designed for puppies 6 months or older, and Rocco was double the suggested weight limit. He said this product should not be given to dogs until they are more than a year old. The product, when chewed, became sharp shards, that tore up his digestive tract. I feel terrible for putting Rocco through this. It is not worth the risk.\n",
      "* * * * * * * * * \n",
      "213370\n",
      "2011-12-11 00:00:00\n",
      "4\n",
      "2\n",
      "B005CGUTGC\n",
      "<span class=\"tiny\"> Length:: 1:39 Mins<br /><br /></span>(* this review was originally posted for the 3 oz size, a verified purchase by me on Amazon)<br /><br />I purchased three well reviewed brands of catnip for Tristan, my six month old Savannah cat. In the video, I have just placed down three plates of catnip from freshly opened packages. The brands from left to right are <a href=\"http://www.amazon.com/gp/product/B00028HN5A\">Sojos Certified Organic Catnip</a>, in the middle is the product in this listing - Cosmic Catnip (this video review shows the 3oz jar), and on the far right we have <a href=\"http://www.amazon.com/gp/product/B001VNEII0\">Frontier Catnip Leaf & Flower C/s Certified Organic, 16 Ounce Bag</a>.<br /><br />Like the little bear at Goldilock's table, Tristan tries a bit from each plate; at the end of this clip he seemed to have no *overwhelming* preference for any particular brand though. As far as his physical reactions to each (sampled separately), he did not act \"stoned\" nor hyper, he merely scratches on his scratch pad a bit more with catnip than without catnip and gives himself a good stretch. He also strongly prefers catnip infused mice to non-catnip mice and I'm happy to oblige.<br /><br />As far as which *I* prefer, if it's all the same to the cat (and it seems that it is) here's my take on things -<br /><br />The Frontier brand is by far the least expensive at just under fifteen dollars for 16oz. It is slightly more coarse and seems to have a little bit of stems mixed in. VERY fragrant though and turned out to be a close second favorite of the cat reviewing the products. I would definitely buy the Frontier brand again and use it for stuffing toys generously or for \"marinating\" his little cloth mice. Organic and suitable even for human consumption if you like it as a tea.<br /><br />The Sojos brand (1oz can) is the most expensive - by my calculations comes to over a hundred dollars for 16oz!. The description says it produces a \"harmless, euphoric state\" but we saw no evidence of that. Smelled fresh but definitely a milder aroma than the other two brands; had the finest chopped leaves of the three. Hand harvested if that is important you or your cat.<br /><br />With the Cosmic Cat brand, we *may* have a winner.....<br /><br />When the camera was off, Tristan returned to the Cosmic Cat sample several times more so than the other brands. I repeated this little taste test for the next two days and Cosmic Cat had a small but definite edge over the competition. I'd have to say that I agree with his choice; the Cosmic Cat brand leaves are darker and more fragrant than the other two brands. The leaves are also cut just right - not too fine/not too large, and no stems or coarse pieces. I find the Cosmic Cat brand's price reasonable, the storage container is very convenient, and the 3oz* size is enough not to be too little and not so much to get stale and spoil.<br /><br />Hope you find this information useful in choosing for your own cat or kitten.\n",
      "* * * * * * * * * \n",
      "215505\n",
      "2012-02-01 00:00:00\n",
      "4\n",
      "1\n",
      "B001E2DTV0\n",
      "My dad loves these meat and cheese bundles. I purchased him one for Christmas and he loved it. He especially liked the sausage. I snuck in a few bites to see how the product rated and I found the cheese to be extremely plastic-y in texture. The crackers and mustard were not really huge standouts either. What was nice was the cutting board and cheese knife that came packaged. It was a nice touch and certainly classed this gift up.<br /><br />My dad had no complaints about the gift so I would recommend it!\n",
      "* * * * * * * * * \n",
      "237353\n",
      "2008-05-30 00:00:00\n",
      "5\n",
      "9\n",
      "B000Y2CI9U\n",
      "Being a vegetarian for 19 years, I could barely remember what beef stronganoff tastes likes.  This is one of the best tasting, high protein and easiest meals I've ever made!  Since I use one package of the Morningstar Farms crumbles, there is no need to cook the meat first.  Just add the pasta, flavoring mix, water, \"meat\" crumbles, and milk (I use skim) all together!  Enjoy!\n",
      "* * * * * * * * * \n"
     ]
    },
    {
     "name": "stdout",
     "output_type": "stream",
     "text": [
      "247023\n",
      "2012-04-21 00:00:00\n",
      "5\n",
      "0\n",
      "B000VNNSEG\n",
      "Another of my favorite honeys.  This is from New Zealand, also made from the leatherwood flower.  It's a little thicker than the one from Australia, but not quite as sweet.  Delicious over Greek yogurt.\n",
      "* * * * * * * * * \n",
      "260714\n",
      "2012-01-07 00:00:00\n",
      "1\n",
      "2\n",
      "B0053TENTW\n",
      "!!! PRODUCT HAS NOTHING TO DO WITH MARVEL!!! FALSE ADVERTISEMENT!!!  WASTE OF MONEY! IF I WANTED REGULAR BUBBLE GUM TAPE FOR MY SON'S SUPERHERO THEME PARTY I WOULDVE WENT TO DOLLAR STORE OR WALMART!<a href=\"http://www.amazon.com/gp/product/B0053TENTW\">Marvel Heroes Crazy Rollz Gum, 24 count</a>\n",
      "* * * * * * * * * \n",
      "278510\n",
      "2011-08-08 00:00:00\n",
      "2\n",
      "0\n",
      "B001M0G2Q8\n",
      "Paid $33 total for this product, as I was interested in getting at little fat as possible since my wife was doing the hcg diet. But all in all, the .5g of fat you save per tbsp isn't worth the jacked up price for this cocoa. Also, the tin cans they come in are VERY messy, and for one the container swelled shut, and in the process of carefully trying to pry it open to not make a mess, the upper lid popped off, leaving a bottom lid part with a razors edge that I had to take pliers to get off, still making a mess in the process. You're better off spending $10 for a pound of organic cocoa listed elsewhere on this site.\n",
      "* * * * * * * * * \n",
      "285782\n",
      "2012-09-06 00:00:00\n",
      "5\n",
      "0\n",
      "B000N8GMEC\n",
      "this is as good as it gets in dried spices- you can smell the freshness and taste the quality. it goes with just about any dish or sauce you make. areal time saver and nice addition to any kitchen spice and condiment cabinet.\n",
      "* * * * * * * * * \n",
      "294028\n",
      "2011-03-03 00:00:00\n",
      "2\n",
      "2\n",
      "B0026LJRW8\n",
      "If your mouth is sensitive too much salt from sunflower seeds in the shell, then stay away from these. Shells at times seem like they are encrusted with salt/flavoring and can end up in clumps of 2 to 5 seeds. Also too much debris,stems etc.  for the bag size. I can have a lot more Spitz brand seeds before my mouth says no more salt.\n",
      "* * * * * * * * * \n",
      "341780\n",
      "2011-11-04 00:00:00\n",
      "5\n",
      "2\n",
      "B000CD9P88\n",
      "I've been making a simple hot cocoa recipe to try various cocoa powders, and I hadn't found one that impressed me until I tried the Callebaut powder.  The flavor is rich, deep, and complex.  Plus, the powder is very fine, and it dissolved well in hot water/milk.<br /><br />Note: When I ordered it, it was \"Prime Eligible, fulfilled by Amazon.\" Right now, it's not eligible, which increases the cost by almost 40%.  But I'd still probably pay for it, because this stuff is so much better than the competition.\n",
      "* * * * * * * * * \n",
      "356077\n",
      "2011-10-27 00:00:00\n",
      "1\n",
      "17\n",
      "B000J423MK\n",
      "Be aware that Nestle USA recently switched supply of NIDO from their Chile plant to Mexico and the quality is like night and day. Most if not all the previous 5-star ratings were based on NIDO from Chile were the quality of the milk is far superior than the Mexican milk which is horrible!\n",
      "* * * * * * * * * \n",
      "356676\n",
      "2009-12-12 00:00:00\n",
      "3\n",
      "1\n",
      "B0014EQIMU\n",
      "I am going to be blunt. This would be a very tasty product, however I believe the broth is not as rich as it should be thus killing the flavor. I tend and or suspect it maybe due to chickens being bombarded with hormones for faster growth. Genetically enhanced meat have less flavor than our meats did from years past.\n",
      "* * * * * * * * * \n"
     ]
    }
   ],
   "source": [
    "# false positives\n",
    "\n",
    "import random, time\n",
    "\n",
    "for i in range(0, len(ridge_predictions)):\n",
    "    if (ridge_predictions[i] == True):\n",
    "        if (amazon.loc[i, \"helpful\"] == False):\n",
    "            if (random.uniform(0, 1) < 0.05):\n",
    "                print(i)\n",
    "                print(time.strftime('%Y-%m-%d %H:%M:%S', time.gmtime(amazon.loc[i, \"Time\"])))\n",
    "                print(amazon.loc[i, \"Score\"])\n",
    "                print(amazon.loc[i, \"HelpfulnessDenominator\"])\n",
    "                print(amazon.loc[i, \"ProductId\"])\n",
    "                print(amazon.loc[i, \"Text\"])\n",
    "                print('* * * * * * * * * ')"
   ]
  },
  {
   "cell_type": "code",
   "execution_count": null,
   "metadata": {},
   "outputs": [],
   "source": []
  },
  {
   "cell_type": "code",
   "execution_count": null,
   "metadata": {},
   "outputs": [],
   "source": []
  },
  {
   "cell_type": "code",
   "execution_count": null,
   "metadata": {},
   "outputs": [],
   "source": []
  },
  {
   "cell_type": "code",
   "execution_count": null,
   "metadata": {},
   "outputs": [],
   "source": []
  }
 ],
 "metadata": {
  "kernelspec": {
   "display_name": "Python 3",
   "language": "python",
   "name": "python3"
  },
  "language_info": {
   "codemirror_mode": {
    "name": "ipython",
    "version": 3
   },
   "file_extension": ".py",
   "mimetype": "text/x-python",
   "name": "python",
   "nbconvert_exporter": "python",
   "pygments_lexer": "ipython3",
   "version": "3.7.1"
  }
 },
 "nbformat": 4,
 "nbformat_minor": 1
}
