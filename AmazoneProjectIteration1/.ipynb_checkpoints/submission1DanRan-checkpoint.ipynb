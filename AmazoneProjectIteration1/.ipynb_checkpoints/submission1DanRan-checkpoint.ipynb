{
 "cells": [
  {
   "cell_type": "markdown",
   "metadata": {},
   "source": [
    "# Submission 1, ML Assignment 1"
   ]
  },
  {
   "cell_type": "code",
   "execution_count": 1,
   "metadata": {},
   "outputs": [],
   "source": [
    "import numpy as np\n",
    "import pandas as pd\n",
    "import matplotlib.pyplot as plt\n",
    "from sklearn.externals import joblib\n",
    "from my_measures import BinaryClassificationPerformance\n",
    "%matplotlib inline"
   ]
  },
  {
   "cell_type": "markdown",
   "metadata": {},
   "source": [
    "### Read raw test data"
   ]
  },
  {
   "cell_type": "code",
   "execution_count": 2,
   "metadata": {},
   "outputs": [
    {
     "name": "stdout",
     "output_type": "stream",
     "text": [
      "(91000, 14)\n"
     ]
    }
   ],
   "source": [
    "amazon = pd.read_csv('/Users/working/Documents/ParsonsSchool/Sp19/MachineLearning/DATASET/amazon_data/raw_data_test.csv')\n",
    "print(amazon.shape)"
   ]
  },
  {
   "cell_type": "code",
   "execution_count": 3,
   "metadata": {},
   "outputs": [
    {
     "name": "stdout",
     "output_type": "stream",
     "text": [
      "   Unnamed: 0  Unnamed: 0.1      Id   ProductId          UserId  \\\n",
      "0      189701        133920  133921  B001E5DZUC  A1XVCNMSV13FJD   \n",
      "1      311476        382519  382520  B003GADBDO  A3T0OTH5072YRE   \n",
      "2      150296        388694  388695  B000Z91RGC  A1GF8FZHHU3Y1Q   \n",
      "3      404130        492372  492373  B0000GHNWM  A1TJT6GXDGNN8Q   \n",
      "4      218471        242244  242245  B004W3CXC4  A1H71B8U4HAJ1Y   \n",
      "\n",
      "                   ProfileName  HelpfulnessNumerator  HelpfulnessDenominator  \\\n",
      "0                        Kyong                     1                       1   \n",
      "1  M. Reynard \"kairosdreaming\"                     0                       0   \n",
      "2                        ocdme                     0                       0   \n",
      "3                   Opinunated                     0                       0   \n",
      "4            Jemi E. Broussard                     1                       2   \n",
      "\n",
      "   Score        Time                                            Summary  \\\n",
      "0      2  1280707200                              Drinkable, but barely   \n",
      "1      4  1329350400                            Honest Ade Orange Mango   \n",
      "2      5  1346976000                                          Great tea   \n",
      "3      4  1326499200  A nice blend. Medium heat - not too much vineg...   \n",
      "4      5  1316476800                               Met all expectations   \n",
      "\n",
      "                                                Text  helpScore  helpful  \n",
      "0  I really hate to give this coffee a bad review...        1.0    False  \n",
      "1  I think this has been my favorite from the Hon...        NaN    False  \n",
      "2  One of the best teas you can purchase. Has fla...        NaN    False  \n",
      "3  I really like this sauce. It is a great blend!...        NaN    False  \n",
      "4  This Beef Jerky was something my daughter reme...        0.5    False  \n",
      "0.07321978021978022\n"
     ]
    }
   ],
   "source": [
    "print(amazon.head())\n",
    "print(amazon['helpful'].mean())"
   ]
  },
  {
   "cell_type": "code",
   "execution_count": 3,
   "metadata": {},
   "outputs": [
    {
     "name": "stdout",
     "output_type": "stream",
     "text": [
      "0        strong taste good! In opinion it's exactly sub...\n",
      "1        Those searching high low salt change life end ...\n",
      "2        These treats picky cat's favorite. I've tried ...\n",
      "3        The price fantastic taste. So convenient messy...\n",
      "4        Alot chocolate; coffee bean. Not big caf-kick ...\n",
      "5        Look ingredients: water, wheat, salt, sugar \"t...\n",
      "6        I love LOVE bread mix. I'm people raised eatin...\n",
      "7        The Country Choice brand domestically produced...\n",
      "8        tastes good, easy prepare, separate pouches ea...\n",
      "9        Only recently I discovered satisying, interest...\n",
      "10       I enjoyed Tazo tea (Earl Grey favorite) restau...\n",
      "11       I skeptical sister told drug rep suggested bla...\n",
      "12       I seven grand kids. 2 fell play ground equipme...\n",
      "13       I guess I got title wrong. If food left say. I...\n",
      "14       I bought mini buster cube miniature dachshund ...\n",
      "15       I'll confess knowing little different coffees....\n",
      "16       I thrilled flavor available amazon. I seen gro...\n",
      "17       Best Lemonade market. Not sweet, Splenda inste...\n",
      "18       This little babies saved fingers puncture woun...\n",
      "19       I coffee flavoring syrup save money, expensive...\n",
      "20       We ordered jet fuel amazon sent Black Tiger da...\n",
      "21       I'm sorry I opted item. I got apparently count...\n",
      "22       Very tasty fresh. My complaint expiration date...\n",
      "23       Excellent taste low calorie snack. This size b...\n",
      "24       This best alternative soda ever. It light fres...\n",
      "25       A years ago, I worked bed breakfast favorite p...\n",
      "26       I eat marshmallow cones time I kid, I excited ...\n",
      "27       I understood bones 4 - 5 inches long, flimsy. ...\n",
      "28       I felt effects tea day I started. I noticed I ...\n",
      "29       This handy little drawer fits perfectly undern...\n",
      "                               ...                        \n",
      "90970    There ways use product good them. It stores em...\n",
      "90971    Kind Healthy Grains calls cereal, probably goo...\n",
      "90972    A big fan kettle-cooked chips I kid, I tend bu...\n",
      "90973    These bay leaves listed 16.4 oz. I received 4 ...\n",
      "90974    A wonderful way gently feel relaxed sleepy loo...\n",
      "90975    I love these.. They taste wonderful 14g protei...\n",
      "90976    What I say??? This delicious day. Sip til hear...\n",
      "90977    This product Nutiva. Like products company, hi...\n",
      "90978    It hard purchase brand split peas having pleas...\n",
      "90979    We gave month old son yesterday, formula givin...\n",
      "90980    I got Vietnamese soup Pho with.<br /><br />Pro...\n",
      "90981    I thought nice compromise I like dinner, good ...\n",
      "90982    I totally LOVE bars! If you're looking protein...\n",
      "90983    Right consistency, Excelent product overall. T...\n",
      "90984    A retriever's gotta chew! That's do! My bowser...\n",
      "90985    The flavor tea unmatchable. It carried stores ...\n",
      "90986    Vegan. Natural. Kosher. Has \"Certified Gluten-...\n",
      "90987    These tasty, however, nutrition info package, ...\n",
      "90988    I've tried rose flavor Hazer Baba Haci Bekir. ...\n",
      "90989    I SO disappointed. Even I read reviews complai...\n",
      "90990    Terrible! Not cause jam lever seat capsule, fe...\n",
      "90991    La Tourangelle Avocado Oil beautiful pale gree...\n",
      "90992    This favorite desert line. The bite it's like,...\n",
      "90993    This stuff awful. Doesn't taste like chocolate...\n",
      "90994    enjoyed shampoo. Only small needed later entir...\n",
      "90995    Trident Minty Sweet Twist best gum ever. It ke...\n",
      "90996    I love beef jerky good way. It's very, fatty, ...\n",
      "90997    These great dog, loves picky. They healthy add...\n",
      "90998    Kettle best tasting healthiest chips I tried. ...\n",
      "90999    Such great price good gum!! I def. run out!! d...\n",
      "Name: Text, Length: 91000, dtype: object\n"
     ]
    }
   ],
   "source": [
    "\n",
    "# from gensim.parsing.preprocessing import remove_stopwords\n",
    "# # remove stop words in amazon.Text\n",
    "# amazon['Text'] = amazon['Text'].apply(remove_stopwords)\n",
    "# #newText = amazon['Text'].apply(remove_stopwords)\n",
    "# print(amazon.Text)\n",
    "# #print(newText)\n"
   ]
  },
  {
   "cell_type": "markdown",
   "metadata": {},
   "source": [
    "### Feature extraction on natural language data"
   ]
  },
  {
   "cell_type": "code",
   "execution_count": null,
   "metadata": {},
   "outputs": [],
   "source": []
  },
  {
   "cell_type": "code",
   "execution_count": 4,
   "metadata": {},
   "outputs": [],
   "source": [
    "# # http://scikit-learn.org/stable/modules/generated/sklearn.feature_extraction.text.CountVectorizer.html\n",
    "# from sklearn.feature_extraction.text import CountVectorizer\n",
    "# vectorizer = CountVectorizer()\n",
    "# corpus = amazon.Text.as_matrix()\n",
    "# X_bag_of_words = vectorizer.fit_transform(corpus)\n",
    "# print(X_bag_of_words.toarray())"
   ]
  },
  {
   "cell_type": "code",
   "execution_count": 5,
   "metadata": {},
   "outputs": [
    {
     "name": "stderr",
     "output_type": "stream",
     "text": [
      "/anaconda3/lib/python3.7/site-packages/sklearn/feature_extraction/hashing.py:102: DeprecationWarning: the option non_negative=True has been deprecated in 0.19 and will be removed in version 0.21.\n",
      "  \" in version 0.21.\", DeprecationWarning)\n"
     ]
    },
    {
     "name": "stdout",
     "output_type": "stream",
     "text": [
      "(91000, 131072)\n"
     ]
    }
   ],
   "source": [
    "# vectorize Bag of Words from review text; as sparse matrix\n",
    "# from sklearn.feature_extraction.text import HashingVectorizer\n",
    "# hv = HashingVectorizer(n_features=2 ** 17, non_negative=True)\n",
    "hv = joblib.load('hv.pkl')\n",
    "X_hv = hv.transform(amazon.Text)\n",
    "print(X_hv.shape)"
   ]
  },
  {
   "cell_type": "code",
   "execution_count": 6,
   "metadata": {},
   "outputs": [],
   "source": [
    "# http://scikit-learn.org/stable/modules/generated/sklearn.feature_extraction.text.TfidfTransformer.html\n",
    "# from sklearn.feature_extraction.text import TfidfTransformer\n",
    "# transformer = TfidfTransformer()\n",
    "transformer = joblib.load('transformer.pkl')\n",
    "X_tfidf = transformer.transform(X_hv)"
   ]
  },
  {
   "cell_type": "code",
   "execution_count": 7,
   "metadata": {},
   "outputs": [
    {
     "name": "stdout",
     "output_type": "stream",
     "text": [
      "<class 'scipy.sparse.csr.csr_matrix'>\n"
     ]
    }
   ],
   "source": [
    "print(type(X_tfidf))"
   ]
  },
  {
   "cell_type": "markdown",
   "metadata": {
    "collapsed": true
   },
   "source": [
    "### Create additional quantitative features"
   ]
  },
  {
   "cell_type": "code",
   "execution_count": 8,
   "metadata": {},
   "outputs": [
    {
     "name": "stdout",
     "output_type": "stream",
     "text": [
      "   Score  reviewLen\n",
      "0      3         88\n",
      "1      5       1936\n",
      "2      5        105\n",
      "3      5        118\n",
      "4      3         85\n",
      "5      1        147\n",
      "6      5        448\n",
      "7      5        817\n",
      "8      5         60\n",
      "9      5        382\n",
      "<class 'pandas.core.frame.DataFrame'>\n"
     ]
    }
   ],
   "source": [
    "# features from Amazon.csv to add to feature set\n",
    "amazon['reviewLen'] = amazon['Text'].str.len()\n",
    "\n",
    "X_quant_features = amazon[[\"Score\", \"reviewLen\"]]\n",
    "print(X_quant_features.head(10))\n",
    "print(type(X_quant_features))"
   ]
  },
  {
   "cell_type": "markdown",
   "metadata": {},
   "source": [
    "### Combine all quantitative features into a single sparse matrix"
   ]
  },
  {
   "cell_type": "code",
   "execution_count": 9,
   "metadata": {},
   "outputs": [
    {
     "name": "stdout",
     "output_type": "stream",
     "text": [
      "(91000, 131074)\n"
     ]
    }
   ],
   "source": [
    "from scipy.sparse import csr_matrix, hstack\n",
    "X_quant_features_csr = csr_matrix(X_quant_features)\n",
    "X_combined = hstack([X_tfidf, X_quant_features_csr])\n",
    "X_matrix = csr_matrix(X_combined) # convert to sparse matrix\n",
    "print(X_matrix.shape)"
   ]
  },
  {
   "cell_type": "markdown",
   "metadata": {},
   "source": [
    "### Create `X`, scaled matrix of features"
   ]
  },
  {
   "cell_type": "code",
   "execution_count": 10,
   "metadata": {},
   "outputs": [
    {
     "name": "stdout",
     "output_type": "stream",
     "text": [
      "(91000, 131074)\n"
     ]
    }
   ],
   "source": [
    "# feature scaling\n",
    "# from sklearn.preprocessing import StandardScaler\n",
    "# sc = StandardScaler(with_mean=False)\n",
    "sc = joblib.load('sc.pkl')\n",
    "X = sc.transform(X_matrix)\n",
    "print(X.shape)"
   ]
  },
  {
   "cell_type": "markdown",
   "metadata": {},
   "source": [
    "### create `y`, vector of Labels"
   ]
  },
  {
   "cell_type": "code",
   "execution_count": 11,
   "metadata": {},
   "outputs": [
    {
     "name": "stdout",
     "output_type": "stream",
     "text": [
      "<class 'numpy.ndarray'>\n"
     ]
    }
   ],
   "source": [
    "y = amazon['helpful'].values\n",
    "print(type(y))"
   ]
  },
  {
   "cell_type": "markdown",
   "metadata": {},
   "source": [
    "### predict `y` with the fit on the training set"
   ]
  },
  {
   "cell_type": "code",
   "execution_count": 12,
   "metadata": {},
   "outputs": [
    {
     "name": "stdout",
     "output_type": "stream",
     "text": [
      "{'Pos': 6607, 'Neg': 84393, 'TP': 1480, 'TN': 81803, 'FP': 2590, 'FN': 5127, 'Accuracy': 0.9151978021978022, 'Precision': 0.36363636363636365, 'Recall': 0.22400484334796428, 'desc': 'lgs'}\n"
     ]
    }
   ],
   "source": [
    "# MODEL: logistic regression\n",
    "# from sklearn import linear_model\n",
    "# lgs = linear_model.SGDClassifier(loss='log', n_iter=50, alpha=0.00001)\n",
    "# lgs.fit(X, y)\n",
    "# joblib.dump(lgs, 'lgs.pkl') # pickle\n",
    "lgs = joblib.load('lgs.pkl')\n",
    "\n",
    "lgs_performance = BinaryClassificationPerformance(lgs.predict(X), y, 'lgs')\n",
    "lgs_performance.compute_measures()\n",
    "print(lgs_performance.performance_measures)"
   ]
  },
  {
   "cell_type": "markdown",
   "metadata": {},
   "source": [
    "### lgs plot  performance "
   ]
  },
  {
   "cell_type": "code",
   "execution_count": 14,
   "metadata": {},
   "outputs": [
    {
     "data": {
      "image/png": "[encoded data removed]",
      "text/plain": [
       "<Figure size 432x288 with 1 Axes>"
      ]
     },
     "metadata": {
      "needs_background": "light"
     },
     "output_type": "display_data"
    }
   ],
   "source": [
    "fits = [lgs_performance]\n",
    "\n",
    "for fit in fits:\n",
    "    plt.plot(fit.performance_measures['FP'] / fit.performance_measures['Neg'], \n",
    "             fit.performance_measures['TP'] / fit.performance_measures['Pos'], 'bo')\n",
    "    plt.text(fit.performance_measures['FP'] / fit.performance_measures['Neg'], \n",
    "             fit.performance_measures['TP'] / fit.performance_measures['Pos'], fit.desc)\n",
    "plt.axis([0, 1, 0, 1])\n",
    "plt.title('ROC plot: test set')\n",
    "plt.xlabel('False positive rate')\n",
    "plt.ylabel('True positive rate')\n",
    "plt.show()"
   ]
  },
  {
   "cell_type": "code",
   "execution_count": null,
   "metadata": {
    "collapsed": true
   },
   "outputs": [],
   "source": []
  }
 ],
 "metadata": {
  "kernelspec": {
   "display_name": "Python 3",
   "language": "python",
   "name": "python3"
  },
  "language_info": {
   "codemirror_mode": {
    "name": "ipython",
    "version": 3
   },
   "file_extension": ".py",
   "mimetype": "text/x-python",
   "name": "python",
   "nbconvert_exporter": "python",
   "pygments_lexer": "ipython3",
   "version": "3.7.1"
  }
 },
 "nbformat": 4,
 "nbformat_minor": 1
}
