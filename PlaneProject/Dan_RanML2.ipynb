{
 "cells": [
  {
   "cell_type": "code",
   "execution_count": 1423,
   "metadata": {},
   "outputs": [],
   "source": [
    "import numpy as np\n",
    "import pandas as pd\n",
    "import matplotlib.pyplot as plt\n",
    "import pickle\n",
    "import warnings\n",
    "from skimage import io, color, transform, feature\n",
    "import my_measures # note, this was updated March 27; make sure you are using the current version! \n",
    "%matplotlib inline"
   ]
  },
  {
   "cell_type": "code",
   "execution_count": 1424,
   "metadata": {},
   "outputs": [],
   "source": [
    "# file paths/names\n",
    "\n",
    "#root_dir = '/Users/Aaron_hill'\n",
    "\n",
    "#ci_path = root_dir + '/Dropbox/data/aws/cropped_images_18/' # cropped images for training\n",
    "#l_file = root_dir + '/Dropbox/data/aws/plane_labels_2018.csv' # csv with labels\n",
    "ci_path = '/Users/working/Documents/ParsonsSchool/Sp19/MachineLearning/DATASET/AirPlane/cropped_images_18/' # cropped images for training\n",
    "l_file = '/Users/working/Documents/ParsonsSchool/Sp19/MachineLearning/DATASET/AirPlane/plane_labels_2018.csv' # csv with labels"
   ]
  },
  {
   "cell_type": "markdown",
   "metadata": {},
   "source": [
    "# get labels and extract features from images"
   ]
  },
  {
   "cell_type": "code",
   "execution_count": 1426,
   "metadata": {},
   "outputs": [
    {
     "name": "stdout",
     "output_type": "stream",
     "text": [
      "                   img_name  plane\n",
      "0  2016-08-02T13+50+24_430Z  False\n",
      "1  2016-08-02T14+12+37_390Z  False\n",
      "2  2016-08-02T22+20+26_600Z  False\n",
      "3  2016-08-03T12+04+30_670Z  False\n",
      "4  2016-08-03T12+32+21_790Z  False\n",
      "(6758, 2)\n"
     ]
    }
   ],
   "source": [
    "# all labels\n",
    "plane_data = pd.read_csv(l_file)\n",
    "print(plane_data.head())\n",
    "print(plane_data.shape)"
   ]
  },
  {
   "cell_type": "code",
   "execution_count": 1427,
   "metadata": {},
   "outputs": [],
   "source": [
    "# in downscaling the image, what do you want the new dimensions to be?\n",
    "# the original dimensions of cropped images: (60, 140), which if 8,400 pixels\n",
    "# dims = (15, 35) # 25% of the original size, 525 pixels\n",
    "dims = (45, 105)"
   ]
  },
  {
   "cell_type": "code",
   "execution_count": 1428,
   "metadata": {},
   "outputs": [],
   "source": [
    "from skimage.exposure import rescale_intensity\n",
    "import matplotlib.pyplot as plt\n",
    "from skimage.filters import frangi, sobel, roberts, prewitt,sobel_h,scharr\n",
    "from skimage.feature import hog\n",
    "from skimage import data, exposure\n",
    "from scipy.ndimage import gaussian_filter\n",
    "from skimage.morphology import reconstruction\n",
    "\n",
    "from skimage.transform import (hough_line, hough_line_peaks,\n",
    "                               probabilistic_hough_line)"
   ]
  },
  {
   "cell_type": "code",
   "execution_count": 1430,
   "metadata": {},
   "outputs": [
    {
     "name": "stdout",
     "output_type": "stream",
     "text": [
      "downscaled image shape: \n",
      "(45, 105)\n",
      "image representation (first row of pixels): \n",
      "[0.         0.         0.         0.25704545 0.36914486 0.12304829\n",
      " 0.18056965 0.54170895 0.12181097 0.         0.         0.\n",
      " 0.         0.         0.         0.32550852 0.44247302 0.14749101\n",
      " 0.24681944 0.74045831 0.18080235 0.         0.         0.\n",
      " 0.         0.         0.         0.3661871  0.09925306 0.03308435\n",
      " 0.14228818 0.42686453 0.27697014 0.         0.         0.\n",
      " 0.         0.         0.         0.22628188 0.19348781 0.06449594\n",
      " 0.28787434 0.86362302 0.31943753 0.         0.         0.\n",
      " 0.         0.         0.         0.28471311 0.2836965  0.0945655\n",
      " 0.17732426 0.53197277 0.24653763 0.         0.         0.\n",
      " 0.         0.         0.         0.33246527 0.31266138 0.10422046\n",
      " 0.21540938 0.64622813 0.20452702 0.         0.         0.\n",
      " 0.         0.         0.         0.49185341 0.22648086 0.07549362\n",
      " 0.14723348 0.44170043 0.30470083 0.         0.         0.\n",
      " 0.         0.         0.         0.77753047 3.78609133 1.26203044\n",
      " 0.71451163 2.1435349  1.93896373 0.         0.         0.\n",
      " 0.         0.         0.         0.         0.         0.\n",
      " 0.         0.         0.        ]\n",
      "\n",
      "\n",
      "example of transformation: \n",
      "float64\n"
     ]
    },
    {
     "data": {
      "image/png": "[encoded data removed]",
      "text/plain": [
       "<Figure size 432x288 with 2 Axes>"
      ]
     },
     "metadata": {
      "needs_background": "light"
     },
     "output_type": "display_data"
    }
   ],
   "source": [
    "# scikit-image documentation on methods used for feature extraction: \n",
    "#    http://scikit-image.org/docs/dev/api/skimage.color.html#rgb2gray\n",
    "#    http://scikit-image.org/docs/dev/api/skimage.transform.html#skimage.transform.resize\n",
    "#    http://scikit-image.org/docs/stable/api/skimage.feature.html#skimage.feature.canny\n",
    "\n",
    "\n",
    "# skimage.color.convert_colorspace(arr, fromspace, tospace)\n",
    "# 表示将arr从fromspace颜色空间转换到tospace颜色空间。\n",
    "\n",
    "def image_manipulation(imname, imview=False):\n",
    "    warnings.filterwarnings('ignore')\n",
    "    imname = ci_path + imname + '.png'\n",
    "    img_raw = io.imread(imname)\n",
    "    \n",
    "#     myimg = color.convert_colorspace(img_raw, 'RGB', 'HSV')\n",
    "\n",
    "#     gray = color.rgb2gray(img_raw) # remove color\n",
    "    \n",
    "#     intes= rescale_intensity(1-gray)\n",
    "#     frangiImg= frangi(gray)\n",
    "####hog testing\n",
    "    fd, hogImg = hog(img_raw, orientations=8, pixels_per_cell=(16, 16)\n",
    "                 , cells_per_block=(1, 1), visualize=True, multichannel=True)\n",
    "#     gray = color.rgb2gray(hogImg)\n",
    " \n",
    "    \n",
    "#     edges = feature.canny(gray, sigma= 2.3, low_threshold = 0.05, high_threshold= 0.15)\n",
    "#     lines = probabilistic_hough_line(edges, threshold=10, line_length=5,\n",
    "#                                  line_gap=3) \n",
    "    \n",
    "    \n",
    "    \n",
    "## mask out \n",
    "#     gaussianImg= gaussian_filter(gray, 3)\n",
    "#     seed = np.copy(gaussianImg)\n",
    "#     seed[1:-1, 1:-1] = gaussianImg.min()\n",
    "#     mask = gaussianImg\n",
    "#     dilated = reconstruction(seed, mask, method='dilation')\n",
    "    \n",
    "#     fig, (ax1, ax2) = plt.subplots(1, 2, figsize=(8, 4), sharex=True, sharey=True)\n",
    "#     hog_image_rescaled = exposure.rescale_intensity(hogImg, in_range=(0, 10))\n",
    "#  v1\n",
    "#     sobelImg= sobel_h(gray)\n",
    "#     sobelImg2= sobel_h(sobelImg)\n",
    "#     edgefilter = sobel(sobelImg)\n",
    "#v2\n",
    "#     sobelImg= sobel(gray)\n",
    "#     sobelImg2= sobel_h(sobelImg)\n",
    "#     edgefilter = sobel_h(sobelImg2)\n",
    "    \n",
    "#     gray2= color.rgb2gray(frangiImg)\n",
    "#     print(gray.shape)\n",
    "    downscaled = transform.resize(hogImg ,(dims[0], dims[1])) # downscale image\n",
    "#     final_image = feature.canny(downscaled, sigma = 0.3) # sigma defaut=1, test 2.1 edge filter image with Canny algorithm\n",
    "#     final_image = feature.greycomatrix(downscaled,[1], [0, np.pi/4, np.pi/2, 3*np.pi/4])\n",
    "#     final_image = feature.hessian_matrix(downscaled)\n",
    "    if imview==True:\n",
    "#         io.imshow(final_image)\n",
    "        io.imshow(downscaled)\n",
    "    warnings.filterwarnings('always')\n",
    "#     return final_image\n",
    "    return downscaled\n",
    "\n",
    "# test the function, look at input/output\n",
    "test_image = image_manipulation('2017-08-25T23+24+13_390Z', True)\n",
    "print('downscaled image shape: ')\n",
    "print(test_image.shape)\n",
    "print('image representation (first row of pixels): ')\n",
    "print(test_image[1])\n",
    "print('\\n')\n",
    "print('example of transformation: ')\n",
    "print(test_image[1].dtype)"
   ]
  },
  {
   "cell_type": "code",
   "execution_count": null,
   "metadata": {},
   "outputs": [],
   "source": [
    "# construct lists for features, labels, and a crosswalk reference to image names\n",
    "\n",
    "\n",
    "features_list = []\n",
    "y_list = []\n",
    "imnames_list = []\n",
    "\n",
    "for index, row in plane_data.iterrows():\n",
    "    features_list.append(image_manipulation(row['img_name']))\n",
    "    y_list.append(row['plane'])\n",
    "    imnames_list.append(row['img_name'])\n",
    "    "
   ]
  },
  {
   "cell_type": "code",
   "execution_count": null,
   "metadata": {},
   "outputs": [],
   "source": [
    "# convert the lists to ndarrays\n",
    "features = np.asarray(features_list)\n",
    "Y = np.asarray(y_list)\n",
    "imgs = np.asarray(imnames_list)\n",
    "print('Shape of original feature representation: ')\n",
    "print(features.shape)\n",
    "\n",
    "# flatten the images ndarray to one row per image\n",
    "features_flat = features.reshape((features.shape[0], -1))\n",
    "\n",
    "print('Shape of flat feature representation: ')\n",
    "print(features_flat.shape)\n",
    "\n",
    "\n",
    "print('Shape of Y: ')\n",
    "print(Y.shape)\n",
    "\n",
    "print('Number of images with planes: ')\n",
    "print(Y.sum())\n"
   ]
  },
  {
   "cell_type": "code",
   "execution_count": null,
   "metadata": {},
   "outputs": [],
   "source": [
    "# create train and test sets\n",
    "from sklearn.model_selection import train_test_split\n",
    "\n",
    "# enter an integer for random_state\n",
    "data_train, data_test, y_train, y_test, imgs_train, imgs_test = train_test_split(features_flat, \n",
    "    Y, imgs, test_size = 0.25, random_state = 25)\n",
    "\n",
    "print('Shape of training set: ')\n",
    "print(y_train.shape)\n",
    "print('Number of training images that contain an airplane: ')\n",
    "print(y_train.sum())\n",
    "\n",
    "print(' ')\n",
    "\n",
    "print('Shape of test set: ')\n",
    "print(y_test.shape)\n",
    "print('Number of test images that contain an airplane: ')\n",
    "print(y_test.sum())\n",
    "\n",
    "# print(data_train.isnan.sum())"
   ]
  },
  {
   "cell_type": "markdown",
   "metadata": {},
   "source": [
    "# train Perceptron"
   ]
  },
  {
   "cell_type": "code",
   "execution_count": null,
   "metadata": {},
   "outputs": [],
   "source": [
    "# MODEL: Perceptron\n",
    "from sklearn import linear_model\n",
    "prc = linear_model.SGDClassifier(loss='perceptron')\n",
    "prc.fit(data_train, y_train)\n",
    "\n",
    "prc_performance = my_measures.BinaryClassificationPerformance(prc.predict(data_train), y_train, 'prc')\n",
    "prc_performance.compute_measures()\n",
    "prc_performance.performance_measures['set'] = 'train'\n",
    "print('TRAINING SET: ')\n",
    "print(prc_performance.performance_measures)\n",
    "\n",
    "prc_performance_test = my_measures.BinaryClassificationPerformance(prc.predict(data_test), y_test, 'prc')\n",
    "prc_performance_test.compute_measures()\n",
    "prc_performance_test.performance_measures['set'] = 'test'\n",
    "print('TEST SET: ')\n",
    "print(prc_performance_test.performance_measures)\n",
    "\n",
    "prc_performance_test.img_indices()\n",
    "prc_img_indices_to_view = prc_performance_test.image_indices"
   ]
  },
  {
   "cell_type": "code",
   "execution_count": null,
   "metadata": {},
   "outputs": [],
   "source": [
    "def performance_examples(typ, measures):\n",
    "    iiv = ''\n",
    "    if typ == 'FP':\n",
    "        iiv = typ + '_indices'\n",
    "    elif typ == 'TP':\n",
    "        iiv = typ + '_indices'\n",
    "    elif typ == 'FN':\n",
    "        iiv = typ + '_indices'\n",
    "    else:\n",
    "        raise ValueError('input must be \"TP\", \"FP\", or \"FN\"')\n",
    "    for img in measures[iiv]:\n",
    "#         print(imnames_list[img])\n",
    "        warnings.filterwarnings('ignore')    \n",
    "        plt.figure()\n",
    "        lookat = ci_path + imgs_test[img] + '.png' # location of original image\n",
    "        io.imshow(lookat) # show original image\n",
    "        plt.figure()\n",
    "        io.imshow(data_test[img].reshape(dims[0], dims[1])) # show manipulation for feature representation\n",
    "        warnings.filterwarnings('always')\n"
   ]
  },
  {
   "cell_type": "markdown",
   "metadata": {},
   "source": [
    "# look at examples of Perceptron classifications"
   ]
  },
  {
   "cell_type": "markdown",
   "metadata": {},
   "source": [
    "## true positives"
   ]
  },
  {
   "cell_type": "code",
   "execution_count": null,
   "metadata": {},
   "outputs": [],
   "source": [
    "performance_examples('TP', prc_img_indices_to_view)"
   ]
  },
  {
   "cell_type": "markdown",
   "metadata": {},
   "source": [
    "## false positives"
   ]
  },
  {
   "cell_type": "code",
   "execution_count": 1417,
   "metadata": {},
   "outputs": [],
   "source": [
    "performance_examples('FP', prc_img_indices_to_view)"
   ]
  },
  {
   "cell_type": "markdown",
   "metadata": {},
   "source": [
    "## false negatives"
   ]
  },
  {
   "cell_type": "code",
   "execution_count": 879,
   "metadata": {},
   "outputs": [
    {
     "ename": "KeyError",
     "evalue": "'FN_indices'",
     "output_type": "error",
     "traceback": [
      "\u001b[0;31m---------------------------------------------------------------------------\u001b[0m",
      "\u001b[0;31mKeyError\u001b[0m                                  Traceback (most recent call last)",
      "\u001b[0;32m<ipython-input-879-c903b0e2cbca>\u001b[0m in \u001b[0;36m<module>\u001b[0;34m\u001b[0m\n\u001b[0;32m----> 1\u001b[0;31m \u001b[0mperformance_examples\u001b[0m\u001b[0;34m(\u001b[0m\u001b[0;34m'FN'\u001b[0m\u001b[0;34m,\u001b[0m \u001b[0mprc_img_indices_to_view\u001b[0m\u001b[0;34m)\u001b[0m\u001b[0;34m\u001b[0m\u001b[0;34m\u001b[0m\u001b[0m\n\u001b[0m",
      "\u001b[0;32m<ipython-input-876-567332169361>\u001b[0m in \u001b[0;36mperformance_examples\u001b[0;34m(typ, measures)\u001b[0m\n\u001b[1;32m      9\u001b[0m     \u001b[0;32melse\u001b[0m\u001b[0;34m:\u001b[0m\u001b[0;34m\u001b[0m\u001b[0;34m\u001b[0m\u001b[0m\n\u001b[1;32m     10\u001b[0m         \u001b[0;32mraise\u001b[0m \u001b[0mValueError\u001b[0m\u001b[0;34m(\u001b[0m\u001b[0;34m'input must be \"TP\", \"FP\", or \"FN\"'\u001b[0m\u001b[0;34m)\u001b[0m\u001b[0;34m\u001b[0m\u001b[0;34m\u001b[0m\u001b[0m\n\u001b[0;32m---> 11\u001b[0;31m     \u001b[0;32mfor\u001b[0m \u001b[0mimg\u001b[0m \u001b[0;32min\u001b[0m \u001b[0mmeasures\u001b[0m\u001b[0;34m[\u001b[0m\u001b[0miiv\u001b[0m\u001b[0;34m]\u001b[0m\u001b[0;34m:\u001b[0m\u001b[0;34m\u001b[0m\u001b[0;34m\u001b[0m\u001b[0m\n\u001b[0m\u001b[1;32m     12\u001b[0m \u001b[0;31m#         print(imnames_list[img])\u001b[0m\u001b[0;34m\u001b[0m\u001b[0;34m\u001b[0m\u001b[0;34m\u001b[0m\u001b[0m\n\u001b[1;32m     13\u001b[0m         \u001b[0mwarnings\u001b[0m\u001b[0;34m.\u001b[0m\u001b[0mfilterwarnings\u001b[0m\u001b[0;34m(\u001b[0m\u001b[0;34m'ignore'\u001b[0m\u001b[0;34m)\u001b[0m\u001b[0;34m\u001b[0m\u001b[0;34m\u001b[0m\u001b[0m\n",
      "\u001b[0;31mKeyError\u001b[0m: 'FN_indices'"
     ]
    }
   ],
   "source": [
    "performance_examples('FN', prc_img_indices_to_view)"
   ]
  },
  {
   "cell_type": "markdown",
   "metadata": {},
   "source": [
    "# train Multilayer Perceptron, a.k.a. neural network"
   ]
  },
  {
   "cell_type": "code",
   "execution_count": null,
   "metadata": {},
   "outputs": [],
   "source": [
    "# MODEL: Multi-layer Perceptron aka neural network\n",
    "from sklearn import neural_network\n",
    "nn = neural_network.MLPClassifier(max_iter=1000)#, hidden_layer_sizes=(100,500,100))\n",
    "print(nn)\n",
    "nn.fit(data_train, y_train)\n",
    "\n",
    "nn_performance = my_measures.BinaryClassificationPerformance(nn.predict(data_train), y_train, 'nn')\n",
    "nn_performance.compute_measures()\n",
    "nn_performance.performance_measures['set'] = 'train'\n",
    "print('TRAINING SET: ')\n",
    "print(nn_performance.performance_measures)\n",
    "\n",
    "nn_performance_test = my_measures.BinaryClassificationPerformance(nn.predict(data_test), y_test, 'nn_test')\n",
    "nn_performance_test.compute_measures()\n",
    "nn_performance_test.performance_measures['set'] = 'test'\n",
    "print('TEST SET: ')\n",
    "print(nn_performance_test.performance_measures)\n",
    "\n",
    "nn_performance_test.img_indices()\n",
    "nn_img_indices_to_view = nn_performance_test.image_indices"
   ]
  },
  {
   "cell_type": "markdown",
   "metadata": {},
   "source": [
    "# look at examples of neural network classifications"
   ]
  },
  {
   "cell_type": "markdown",
   "metadata": {},
   "source": [
    "## true positives"
   ]
  },
  {
   "cell_type": "code",
   "execution_count": null,
   "metadata": {},
   "outputs": [],
   "source": [
    "performance_examples('TP', nn_img_indices_to_view)"
   ]
  },
  {
   "cell_type": "markdown",
   "metadata": {},
   "source": [
    "## false positives"
   ]
  },
  {
   "cell_type": "code",
   "execution_count": 1420,
   "metadata": {},
   "outputs": [
    {
     "data": {
      "image/png": "[encoded data removed]",
      "text/plain": [
       "<Figure size 432x288 with 1 Axes>"
      ]
     },
     "metadata": {
      "needs_background": "light"
     },
     "output_type": "display_data"
    },
    {
     "data": {
      "image/png": "[encoded data removed]",
      "text/plain": [
       "<Figure size 432x288 with 1 Axes>"
      ]
     },
     "metadata": {
      "needs_background": "light"
     },
     "output_type": "display_data"
    }
   ],
   "source": [
    "performance_examples('FP', nn_img_indices_to_view)"
   ]
  },
  {
   "cell_type": "markdown",
   "metadata": {},
   "source": [
    "## false negatives"
   ]
  },
  {
   "cell_type": "code",
   "execution_count": 1037,
   "metadata": {},
   "outputs": [
    {
     "ename": "KeyError",
     "evalue": "'FN_indices'",
     "output_type": "error",
     "traceback": [
      "\u001b[0;31m---------------------------------------------------------------------------\u001b[0m",
      "\u001b[0;31mKeyError\u001b[0m                                  Traceback (most recent call last)",
      "\u001b[0;32m<ipython-input-1037-3174b13ac62d>\u001b[0m in \u001b[0;36m<module>\u001b[0;34m\u001b[0m\n\u001b[0;32m----> 1\u001b[0;31m \u001b[0mperformance_examples\u001b[0m\u001b[0;34m(\u001b[0m\u001b[0;34m'FN'\u001b[0m\u001b[0;34m,\u001b[0m \u001b[0mnn_img_indices_to_view\u001b[0m\u001b[0;34m)\u001b[0m\u001b[0;34m\u001b[0m\u001b[0;34m\u001b[0m\u001b[0m\n\u001b[0m",
      "\u001b[0;32m<ipython-input-1024-567332169361>\u001b[0m in \u001b[0;36mperformance_examples\u001b[0;34m(typ, measures)\u001b[0m\n\u001b[1;32m      9\u001b[0m     \u001b[0;32melse\u001b[0m\u001b[0;34m:\u001b[0m\u001b[0;34m\u001b[0m\u001b[0;34m\u001b[0m\u001b[0m\n\u001b[1;32m     10\u001b[0m         \u001b[0;32mraise\u001b[0m \u001b[0mValueError\u001b[0m\u001b[0;34m(\u001b[0m\u001b[0;34m'input must be \"TP\", \"FP\", or \"FN\"'\u001b[0m\u001b[0;34m)\u001b[0m\u001b[0;34m\u001b[0m\u001b[0;34m\u001b[0m\u001b[0m\n\u001b[0;32m---> 11\u001b[0;31m     \u001b[0;32mfor\u001b[0m \u001b[0mimg\u001b[0m \u001b[0;32min\u001b[0m \u001b[0mmeasures\u001b[0m\u001b[0;34m[\u001b[0m\u001b[0miiv\u001b[0m\u001b[0;34m]\u001b[0m\u001b[0;34m:\u001b[0m\u001b[0;34m\u001b[0m\u001b[0;34m\u001b[0m\u001b[0m\n\u001b[0m\u001b[1;32m     12\u001b[0m \u001b[0;31m#         print(imnames_list[img])\u001b[0m\u001b[0;34m\u001b[0m\u001b[0;34m\u001b[0m\u001b[0;34m\u001b[0m\u001b[0m\n\u001b[1;32m     13\u001b[0m         \u001b[0mwarnings\u001b[0m\u001b[0;34m.\u001b[0m\u001b[0mfilterwarnings\u001b[0m\u001b[0;34m(\u001b[0m\u001b[0;34m'ignore'\u001b[0m\u001b[0;34m)\u001b[0m\u001b[0;34m\u001b[0m\u001b[0;34m\u001b[0m\u001b[0m\n",
      "\u001b[0;31mKeyError\u001b[0m: 'FN_indices'"
     ]
    }
   ],
   "source": [
    "performance_examples('FN', nn_img_indices_to_view)"
   ]
  },
  {
   "cell_type": "markdown",
   "metadata": {},
   "source": [
    "# comparisons"
   ]
  },
  {
   "cell_type": "code",
   "execution_count": 1421,
   "metadata": {},
   "outputs": [],
   "source": [
    "# list of fits to compare: \n",
    "final_fits = []\n",
    "final_fits.append(prc_performance.performance_measures)\n",
    "final_fits.append(prc_performance_test.performance_measures)\n",
    "final_fits.append(nn_performance.performance_measures)\n",
    "final_fits.append(nn_performance_test.performance_measures)"
   ]
  },
  {
   "cell_type": "code",
   "execution_count": 1422,
   "metadata": {},
   "outputs": [
    {
     "data": {
      "image/png": "[encoded data removed]",
      "text/plain": [
       "<Figure size 720x720 with 1 Axes>"
      ]
     },
     "metadata": {
      "needs_background": "light"
     },
     "output_type": "display_data"
    }
   ],
   "source": [
    "plt.figure(figsize=(10,10))\n",
    "\n",
    "for fit in final_fits:\n",
    "    if fit['set'] == 'train':\n",
    "        color = 'co'\n",
    "    else:\n",
    "        color = 'ro'\n",
    "    plt.plot(fit['FP'] / fit['Neg'], \n",
    "             fit['TP'] / fit['Pos'], color, markersize=12)\n",
    "    plt.text(fit['FP'] / fit['Neg'], \n",
    "             fit['TP'] / fit['Pos'], fit['desc'] + ': ' + fit['set'], fontsize=16)\n",
    "plt.axis([0, 1, 0, 1])\n",
    "plt.title('ROC plot: test set')\n",
    "plt.xlabel('False positive rate')\n",
    "plt.ylabel('True positive rate')\n",
    "plt.show()\n"
   ]
  },
  {
   "cell_type": "code",
   "execution_count": null,
   "metadata": {},
   "outputs": [],
   "source": []
  },
  {
   "cell_type": "code",
   "execution_count": null,
   "metadata": {},
   "outputs": [],
   "source": []
  },
  {
   "cell_type": "code",
   "execution_count": null,
   "metadata": {},
   "outputs": [],
   "source": []
  }
 ],
 "metadata": {
  "kernelspec": {
   "display_name": "Python 3",
   "language": "python",
   "name": "python3"
  },
  "language_info": {
   "codemirror_mode": {
    "name": "ipython",
    "version": 3
   },
   "file_extension": ".py",
   "mimetype": "text/x-python",
   "name": "python",
   "nbconvert_exporter": "python",
   "pygments_lexer": "ipython3",
   "version": "3.7.1"
  }
 },
 "nbformat": 4,
 "nbformat_minor": 2
}
