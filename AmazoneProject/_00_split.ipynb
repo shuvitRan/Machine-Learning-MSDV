{
 "cells": [
  {
   "cell_type": "code",
   "execution_count": 2,
   "metadata": {},
   "outputs": [],
   "source": [
    "import numpy as np\n",
    "import pandas as pd"
   ]
  },
  {
   "cell_type": "markdown",
   "metadata": {},
   "source": [
    "### read in the full Amazon file (455,000 rows)"
   ]
  },
  {
   "cell_type": "code",
   "execution_count": 3,
   "metadata": {},
   "outputs": [
    {
     "name": "stdout",
     "output_type": "stream",
     "text": [
      "(455000, 13)\n"
     ]
    }
   ],
   "source": [
    "amazon = pd.read_csv('/Users/working/Documents/ParsonsSchool/Sp19/MachineLearning/DATASET/Amazon.csv')\n",
    "print(amazon.shape)"
   ]
  },
  {
   "cell_type": "markdown",
   "metadata": {},
   "source": [
    "### randomly split the dataset into training and test sets"
   ]
  },
  {
   "cell_type": "code",
   "execution_count": 6,
   "metadata": {},
   "outputs": [],
   "source": [
    "# create training and test sets\n",
    "from sklearn.model_selection import train_test_split\n",
    "\n",
    "# enter an integer for the random_state parameter; any integer will work\n",
    "raw_data_train, raw_data_test, y_train, y_test = train_test_split(amazon, amazon['helpful'], test_size= 0.2, random_state= 55)\n",
    "\n"
   ]
  },
  {
   "cell_type": "markdown",
   "metadata": {},
   "source": [
    "### check that the file sizes are what you expected"
   ]
  },
  {
   "cell_type": "code",
   "execution_count": 8,
   "metadata": {},
   "outputs": [
    {
     "name": "stdout",
     "output_type": "stream",
     "text": [
      "(364000, 13)\n",
      "(91000, 13)\n",
      "(364000,)\n",
      "(91000,)\n",
      "        Unnamed: 0      Id   ProductId          UserId        ProfileName  \\\n",
      "161979      251062  251063  B002INDU22  A16M0DLZ493518            do-good   \n",
      "72164       206109  206110  B0050JLAEQ  A2B940BLM1T0V3              donna   \n",
      "452002      334972  334973  B003D4MW38  A2I8UYFVJ5TLHT         greenie227   \n",
      "419090      119275  119276  B003Z7VYXW  A1YC6AYVXK7NRQ  DesDaz \"torr0015\"   \n",
      "304509       90726   90727  B003OB4BOS  A29NOSP1RGTQNK               Josh   \n",
      "\n",
      "        HelpfulnessNumerator  HelpfulnessDenominator  Score        Time  \\\n",
      "161979                     0                       0      4  1331337600   \n",
      "72164                      0                       0      5  1348617600   \n",
      "452002                     1                       1      5  1309737600   \n",
      "419090                     2                       2      5  1326240000   \n",
      "304509                     0                       0      4  1300924800   \n",
      "\n",
      "                                 Summary  \\\n",
      "161979                             Works   \n",
      "72164     She loves, it, I love it, too!   \n",
      "452002  Excellent tea, and fast shipping   \n",
      "419090    Great results, terrific price!   \n",
      "304509                   not that spicy!   \n",
      "\n",
      "                                                     Text  helpScore  helpful  \n",
      "161979  We tried these and I was worried that they may...        NaN    False  \n",
      "72164   My vet recommended my 11 year old cat change h...        NaN    False  \n",
      "452002  This is terrific tea. I bought it to make iced...        1.0    False  \n",
      "419090  I have had excellent results with this yeast. ...        1.0    False  \n",
      "304509  I wasn't too disappointed, but as someone who ...        NaN    False  \n"
     ]
    }
   ],
   "source": [
    "print(raw_data_train.shape)\n",
    "print(raw_data_test.shape)\n",
    "print(y_train.shape)\n",
    "print(y_test.shape)\n",
    "print(raw_data_train.head())"
   ]
  },
  {
   "cell_type": "markdown",
   "metadata": {},
   "source": [
    "### export as CSV files so you have readily accessible files to read for training and testing"
   ]
  },
  {
   "cell_type": "code",
   "execution_count": 8,
   "metadata": {},
   "outputs": [],
   "source": [
    "raw_data_train.to_csv('/Users/working/Documents/ParsonsSchool/Sp19/MachineLearning/DATASET/amazon_data/raw_data_train.csv')\n",
    "raw_data_test.to_csv('/Users/working/Documents/ParsonsSchool/Sp19/MachineLearning/DATASET/amazon_data/raw_data_test.csv')\n",
    "y_train.to_csv('/Users/working/Documents/ParsonsSchool/Sp19/MachineLearning/DATASET/amazon_data/y_train.csv')\n",
    "y_test.to_csv('/Users/working/Documents/ParsonsSchool/Sp19/MachineLearning/DATASET/amazon_data/y_test.csv')\n"
   ]
  },
  {
   "cell_type": "code",
   "execution_count": null,
   "metadata": {},
   "outputs": [],
   "source": []
  }
 ],
 "metadata": {
  "kernelspec": {
   "display_name": "Python 3",
   "language": "python",
   "name": "python3"
  },
  "language_info": {
   "codemirror_mode": {
    "name": "ipython",
    "version": 3
   },
   "file_extension": ".py",
   "mimetype": "text/x-python",
   "name": "python",
   "nbconvert_exporter": "python",
   "pygments_lexer": "ipython3",
   "version": "3.7.1"
  }
 },
 "nbformat": 4,
 "nbformat_minor": 1
}
