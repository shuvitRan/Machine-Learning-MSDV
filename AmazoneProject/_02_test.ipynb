{
 "cells": [
  {
   "cell_type": "markdown",
   "metadata": {},
   "source": [
    "# Test Set"
   ]
  },
  {
   "cell_type": "code",
   "execution_count": 2,
   "metadata": {},
   "outputs": [],
   "source": [
    "import numpy as np\n",
    "import pandas as pd\n",
    "import matplotlib.pyplot as plt\n",
    "from sklearn.externals import joblib\n",
    "from my_measures import BinaryClassificationPerformance\n",
    "%matplotlib inline"
   ]
  },
  {
   "cell_type": "markdown",
   "metadata": {},
   "source": [
    "### Read raw test data"
   ]
  },
  {
   "cell_type": "code",
   "execution_count": 3,
   "metadata": {},
   "outputs": [
    {
     "name": "stdout",
     "output_type": "stream",
     "text": [
      "(91000, 14)\n"
     ]
    }
   ],
   "source": [
    "amazon = pd.read_csv('/Users/working/Documents/ParsonsSchool/Sp19/MachineLearning/DATASET/amazon_data/raw_data_test.csv')\n",
    "print(amazon.shape)"
   ]
  },
  {
   "cell_type": "code",
   "execution_count": 4,
   "metadata": {},
   "outputs": [
    {
     "name": "stdout",
     "output_type": "stream",
     "text": [
      "strong taste but good! In my opinion it's not exactly a substitute for coffee but tastes really good mixed together.\n"
     ]
    }
   ],
   "source": [
    "print(amazon.loc[0, \"Text\"])"
   ]
  },
  {
   "cell_type": "code",
   "execution_count": 5,
   "metadata": {},
   "outputs": [
    {
     "name": "stdout",
     "output_type": "stream",
     "text": [
      "   Unnamed: 0  Unnamed: 0.1      Id   ProductId          UserId  \\\n",
      "0      207103        112082  112083  B002Y2QT2K  A22Y5TJPN98DWB   \n",
      "1      139933        224640  224641  B009D53XKC  A3MDY6Y3Z6D649   \n",
      "2       76100        399707  399708  B005GIF5WY  A3LCQXQ4SFYBAU   \n",
      "3      114178        567900  567901  B005K4Q68Q  A2E65ZXD654761   \n",
      "4      285272        263134  263135  B002WW3BW8  A1XAZ0MR4TRY16   \n",
      "\n",
      "                  ProfileName  HelpfulnessNumerator  HelpfulnessDenominator  \\\n",
      "0                Eva Juergens                     1                       1   \n",
      "1  The Man Behind the Curtain                     1                       1   \n",
      "2                  Johna Jane                     0                       0   \n",
      "3                   Barbara L                     0                       0   \n",
      "4                        bfn1                     0                       0   \n",
      "\n",
      "   Score        Time                          Summary  \\\n",
      "0      3  1339286400                 chicory \"coffee\"   \n",
      "1      5  1326844800  This salt will change your life   \n",
      "2      5  1345420800                   Cat's favorite   \n",
      "3      5  1351036800                    Great tasting   \n",
      "4      3  1311552000                               OK   \n",
      "\n",
      "                                                Text  helpScore  helpful  \n",
      "0  strong taste but good! In my opinion it's not ...        1.0    False  \n",
      "1  Those searching high and low for salt that wil...        1.0    False  \n",
      "2  These treats are my picky cat's favorite.  I'v...        NaN    False  \n",
      "3  The price was as fantastic as the taste. So co...        NaN    False  \n",
      "4  Alot of chocolate; not so much coffee bean.  N...        NaN    False  \n",
      "0.0726043956043956\n"
     ]
    }
   ],
   "source": [
    "print(amazon.head())\n",
    "print(amazon['helpful'].mean())"
   ]
  },
  {
   "cell_type": "markdown",
   "metadata": {},
   "source": [
    "### Feature extraction on natural language data"
   ]
  },
  {
   "cell_type": "code",
   "execution_count": 6,
   "metadata": {},
   "outputs": [],
   "source": [
    "# # http://scikit-learn.org/stable/modules/generated/sklearn.feature_extraction.text.CountVectorizer.html\n",
    "# from sklearn.feature_extraction.text import CountVectorizer\n",
    "# vectorizer = CountVectorizer()\n",
    "# corpus = amazon.Text.as_matrix()\n",
    "# X_bag_of_words = vectorizer.fit_transform(corpus)\n",
    "# print(X_bag_of_words.toarray())"
   ]
  },
  {
   "cell_type": "code",
   "execution_count": 7,
   "metadata": {},
   "outputs": [
    {
     "name": "stderr",
     "output_type": "stream",
     "text": [
      "/anaconda3/lib/python3.7/site-packages/sklearn/feature_extraction/hashing.py:102: DeprecationWarning: the option non_negative=True has been deprecated in 0.19 and will be removed in version 0.21.\n",
      "  \" in version 0.21.\", DeprecationWarning)\n"
     ]
    },
    {
     "name": "stdout",
     "output_type": "stream",
     "text": [
      "(91000, 131072)\n"
     ]
    }
   ],
   "source": [
    "# vectorize Bag of Words from review text; as sparse matrix\n",
    "# from sklearn.feature_extraction.text import HashingVectorizer\n",
    "# hv = HashingVectorizer(n_features=2 ** 17, non_negative=True)\n",
    "hv = joblib.load('hv.pkl')\n",
    "X_hv = hv.transform(amazon.Text)\n",
    "print(X_hv.shape)"
   ]
  },
  {
   "cell_type": "code",
   "execution_count": 8,
   "metadata": {},
   "outputs": [],
   "source": [
    "# http://scikit-learn.org/stable/modules/generated/sklearn.feature_extraction.text.TfidfTransformer.html\n",
    "# from sklearn.feature_extraction.text import TfidfTransformer\n",
    "# transformer = TfidfTransformer()\n",
    "transformer = joblib.load('transformer.pkl')\n",
    "X_tfidf = transformer.transform(X_hv)"
   ]
  },
  {
   "cell_type": "code",
   "execution_count": 9,
   "metadata": {},
   "outputs": [
    {
     "name": "stdout",
     "output_type": "stream",
     "text": [
      "<class 'scipy.sparse.csr.csr_matrix'>\n"
     ]
    }
   ],
   "source": [
    "print(type(X_tfidf))"
   ]
  },
  {
   "cell_type": "markdown",
   "metadata": {
    "collapsed": true
   },
   "source": [
    "### Create additional quantitative features"
   ]
  },
  {
   "cell_type": "code",
   "execution_count": 10,
   "metadata": {},
   "outputs": [
    {
     "name": "stdout",
     "output_type": "stream",
     "text": [
      "   Score  reviewLen\n",
      "0      3        116\n",
      "1      5       2915\n",
      "2      5        152\n",
      "3      5        167\n",
      "4      3        120\n",
      "5      1        193\n",
      "6      5        732\n",
      "7      5       1122\n",
      "8      5         88\n",
      "9      5        549\n",
      "<class 'pandas.core.frame.DataFrame'>\n"
     ]
    }
   ],
   "source": [
    "# features from Amazon.csv to add to feature set\n",
    "amazon['reviewLen'] = amazon['Text'].str.len()\n",
    "\n",
    "X_quant_features = amazon[[\"Score\", \"reviewLen\"]]\n",
    "print(X_quant_features.head(10))\n",
    "print(type(X_quant_features))"
   ]
  },
  {
   "cell_type": "markdown",
   "metadata": {},
   "source": [
    "### Combine all quantitative features into a single sparse matrix"
   ]
  },
  {
   "cell_type": "code",
   "execution_count": 11,
   "metadata": {},
   "outputs": [
    {
     "name": "stdout",
     "output_type": "stream",
     "text": [
      "(91000, 131074)\n"
     ]
    }
   ],
   "source": [
    "from scipy.sparse import csr_matrix, hstack\n",
    "X_quant_features_csr = csr_matrix(X_quant_features)\n",
    "X_combined = hstack([X_tfidf, X_quant_features_csr])\n",
    "X_matrix = csr_matrix(X_combined) # convert to sparse matrix\n",
    "print(X_matrix.shape)"
   ]
  },
  {
   "cell_type": "markdown",
   "metadata": {},
   "source": [
    "### Create `X`, scaled matrix of features"
   ]
  },
  {
   "cell_type": "code",
   "execution_count": 12,
   "metadata": {},
   "outputs": [
    {
     "name": "stdout",
     "output_type": "stream",
     "text": [
      "(91000, 131074)\n"
     ]
    }
   ],
   "source": [
    "# feature scaling\n",
    "# from sklearn.preprocessing import StandardScaler\n",
    "# sc = StandardScaler(with_mean=False)\n",
    "sc = joblib.load('sc.pkl')\n",
    "X = sc.transform(X_matrix)\n",
    "print(X.shape)"
   ]
  },
  {
   "cell_type": "markdown",
   "metadata": {},
   "source": [
    "### create `y`, vector of Labels"
   ]
  },
  {
   "cell_type": "code",
   "execution_count": 13,
   "metadata": {},
   "outputs": [
    {
     "name": "stdout",
     "output_type": "stream",
     "text": [
      "<class 'numpy.ndarray'>\n"
     ]
    }
   ],
   "source": [
    "y = amazon['helpful'].values\n",
    "print(type(y))"
   ]
  },
  {
   "cell_type": "markdown",
   "metadata": {},
   "source": [
    "### predict `y` with the fit on the training set"
   ]
  },
  {
   "cell_type": "code",
   "execution_count": 14,
   "metadata": {},
   "outputs": [
    {
     "name": "stdout",
     "output_type": "stream",
     "text": [
      "{'Pos': 6607, 'Neg': 84393, 'TP': 3145, 'TN': 43706, 'FP': 40687, 'FN': 3462, 'Accuracy': 0.5148461538461538, 'Precision': 0.07175123197663807, 'Recall': 0.4760102921144241, 'desc': 'ols'}\n"
     ]
    }
   ],
   "source": [
    "# MODEL: ordinary least squares\n",
    "# from sklearn import linear_model\n",
    "# ols = linear_model.SGDClassifier(loss=\"squared_loss\")\n",
    "# ols.fit(X, y)\n",
    "# joblib.dump(ols, 'ols.pkl') # pickle\n",
    "ols = joblib.load('ols.pkl') # pickle\n",
    "\n",
    "ols_performance = BinaryClassificationPerformance(ols.predict(X), y, 'ols')\n",
    "ols_performance.compute_measures()\n",
    "print(ols_performance.performance_measures)"
   ]
  },
  {
   "cell_type": "code",
   "execution_count": 15,
   "metadata": {},
   "outputs": [
    {
     "name": "stdout",
     "output_type": "stream",
     "text": [
      "{'Pos': 6607, 'Neg': 84393, 'TP': 1703, 'TN': 78923, 'FP': 5470, 'FN': 4904, 'Accuracy': 0.886, 'Precision': 0.23741809563641433, 'Recall': 0.2577569244740427, 'desc': 'svm'}\n"
     ]
    }
   ],
   "source": [
    "# MODEL: SVM, linear\n",
    "# from sklearn import linear_model\n",
    "# svm = linear_model.SGDClassifier()\n",
    "# svm.fit(X, y)\n",
    "# joblib.dump(svm, 'svm.pkl') # pickle\n",
    "svm = joblib.load('svm.pkl') # pickle\n",
    "\n",
    "svm_performance = BinaryClassificationPerformance(svm.predict(X), y, 'svm')\n",
    "svm_performance.compute_measures()\n",
    "print(svm_performance.performance_measures)"
   ]
  },
  {
   "cell_type": "code",
   "execution_count": 16,
   "metadata": {},
   "outputs": [
    {
     "name": "stdout",
     "output_type": "stream",
     "text": [
      "{'Pos': 6607, 'Neg': 84393, 'TP': 1785, 'TN': 78753, 'FP': 5640, 'FN': 4822, 'Accuracy': 0.8850329670329671, 'Precision': 0.2404040404040404, 'Recall': 0.270168003632511, 'desc': 'lgs'}\n"
     ]
    }
   ],
   "source": [
    "# MODEL: logistic regression\n",
    "# from sklearn import linear_model\n",
    "# lgs = linear_model.SGDClassifier(loss='log', n_iter=50, alpha=0.00001)\n",
    "# lgs.fit(X, y)\n",
    "# joblib.dump(lgs, 'lgs.pkl') # pickle\n",
    "lgs = joblib.load('lgs.pkl')\n",
    "\n",
    "lgs_performance = BinaryClassificationPerformance(lgs.predict(X), y, 'lgs')\n",
    "lgs_performance.compute_measures()\n",
    "print(lgs_performance.performance_measures)"
   ]
  },
  {
   "cell_type": "code",
   "execution_count": 17,
   "metadata": {},
   "outputs": [
    {
     "name": "stdout",
     "output_type": "stream",
     "text": [
      "{'Pos': 6607, 'Neg': 84393, 'TP': 2596, 'TN': 72090, 'FP': 12303, 'FN': 4011, 'Accuracy': 0.8207252747252747, 'Precision': 0.17423988187126652, 'Recall': 0.39291660360224007, 'desc': 'nbs'}\n"
     ]
    }
   ],
   "source": [
    "# MODEL: Naive Bayes\n",
    "# from sklearn.naive_bayes import MultinomialNB\n",
    "# nbs = MultinomialNB()\n",
    "# nbs.fit(X, y)\n",
    "# joblib.dump(nbs, 'nbs.pkl') # pickle\n",
    "nbs = joblib.load('nbs.pkl')\n",
    "\n",
    "nbs_performance = BinaryClassificationPerformance(nbs.predict(X), y, 'nbs')\n",
    "nbs_performance.compute_measures()\n",
    "print(nbs_performance.performance_measures)"
   ]
  },
  {
   "cell_type": "code",
   "execution_count": 18,
   "metadata": {},
   "outputs": [
    {
     "name": "stdout",
     "output_type": "stream",
     "text": [
      "{'Pos': 6607, 'Neg': 84393, 'TP': 1590, 'TN': 79081, 'FP': 5312, 'FN': 5017, 'Accuracy': 0.8864945054945055, 'Precision': 0.2303680092726746, 'Recall': 0.24065385197517783, 'desc': 'prc'}\n"
     ]
    }
   ],
   "source": [
    "# MODEL: Perceptron\n",
    "# from sklearn import linear_model\n",
    "# prc = linear_model.SGDClassifier(loss='perceptron')\n",
    "# prc.fit(X, y)\n",
    "# joblib.dump(prc, 'prc.pkl') # pickle\n",
    "prc = joblib.load('prc.pkl')\n",
    "\n",
    "prc_performance = BinaryClassificationPerformance(prc.predict(X), y, 'prc')\n",
    "prc_performance.compute_measures()\n",
    "print(prc_performance.performance_measures)"
   ]
  },
  {
   "cell_type": "code",
   "execution_count": 19,
   "metadata": {},
   "outputs": [
    {
     "name": "stdout",
     "output_type": "stream",
     "text": [
      "{'Pos': 6607, 'Neg': 84393, 'TP': 936, 'TN': 82963, 'FP': 1430, 'FN': 5671, 'Accuracy': 0.921967032967033, 'Precision': 0.3956043956043956, 'Recall': 0.14166792795519903, 'desc': 'rdg'}\n"
     ]
    }
   ],
   "source": [
    "# MODEL: Ridge Regression Classifier\n",
    "# from sklearn import linear_model\n",
    "# rdg = linear_model.RidgeClassifier()\n",
    "# rdg.fit(X, y)\n",
    "# joblib.dump(rdg, 'rdg.pkl') # pickle\n",
    "rdg = joblib.load('rdg.pkl')\n",
    "\n",
    "rdg_performance = BinaryClassificationPerformance(rdg.predict(X), y, 'rdg')\n",
    "rdg_performance.compute_measures()\n",
    "print(rdg_performance.performance_measures)"
   ]
  },
  {
   "cell_type": "markdown",
   "metadata": {},
   "source": [
    "### ROC plot to compare performance of various models and fits"
   ]
  },
  {
   "cell_type": "code",
   "execution_count": 20,
   "metadata": {},
   "outputs": [
    {
     "data": {
      "image/png": "[encoded data removed]",
      "text/plain": [
       "<Figure size 432x288 with 1 Axes>"
      ]
     },
     "metadata": {
      "needs_background": "light"
     },
     "output_type": "display_data"
    }
   ],
   "source": [
    "fits = [svm_performance, lgs_performance, nbs_performance, rdg_performance, prc_performance, ols_performance]\n",
    "\n",
    "for fit in fits:\n",
    "    plt.plot(fit.performance_measures['FP'] / fit.performance_measures['Neg'], \n",
    "             fit.performance_measures['TP'] / fit.performance_measures['Pos'], 'bo')\n",
    "    plt.text(fit.performance_measures['FP'] / fit.performance_measures['Neg'], \n",
    "             fit.performance_measures['TP'] / fit.performance_measures['Pos'], fit.desc)\n",
    "plt.axis([0, 1, 0, 1])\n",
    "plt.title('ROC plot: test set')\n",
    "plt.xlabel('False positive rate')\n",
    "plt.ylabel('True positive rate')\n",
    "plt.show()"
   ]
  },
  {
   "cell_type": "markdown",
   "metadata": {
    "collapsed": true
   },
   "source": [
    "### looking at reviews based on their classification\n",
    "\n",
    "Let's say we decide that Ridge Regression is the best model for generalization. Let's take a look at some of the reviews and try to make a (subjective) determination of whether it's generalizing well. "
   ]
  },
  {
   "cell_type": "code",
   "execution_count": 21,
   "metadata": {},
   "outputs": [
    {
     "data": {
      "text/plain": [
       "\"strong taste but good! In my opinion it's not exactly a substitute for coffee but tastes really good mixed together.\""
      ]
     },
     "execution_count": 21,
     "metadata": {},
     "output_type": "execute_result"
    }
   ],
   "source": [
    "amazon.loc[0, \"Text\"]"
   ]
  },
  {
   "cell_type": "code",
   "execution_count": 22,
   "metadata": {},
   "outputs": [
    {
     "data": {
      "text/plain": [
       "False"
      ]
     },
     "execution_count": 22,
     "metadata": {},
     "output_type": "execute_result"
    }
   ],
   "source": [
    "amazon.loc[0, \"helpful\"]"
   ]
  },
  {
   "cell_type": "code",
   "execution_count": 23,
   "metadata": {},
   "outputs": [],
   "source": [
    "ridge_predictions = rdg.predict(X)"
   ]
  },
  {
   "cell_type": "code",
   "execution_count": 24,
   "metadata": {},
   "outputs": [
    {
     "data": {
      "text/plain": [
       "(91000,)"
      ]
     },
     "execution_count": 24,
     "metadata": {},
     "output_type": "execute_result"
    }
   ],
   "source": [
    "ridge_predictions.shape"
   ]
  },
  {
   "cell_type": "code",
   "execution_count": 25,
   "metadata": {},
   "outputs": [
    {
     "name": "stdout",
     "output_type": "stream",
     "text": [
      "[False False False ... False False False]\n"
     ]
    }
   ],
   "source": [
    "print(ridge_predictions)"
   ]
  },
  {
   "cell_type": "code",
   "execution_count": 26,
   "metadata": {},
   "outputs": [
    {
     "name": "stdout",
     "output_type": "stream",
     "text": [
      "946\n",
      "2011-08-03 00:00:00\n",
      "5\n",
      "5\n",
      "B001ECOZWC\n",
      "it is exelent quality the schoko is so smoth and melts of the tung like creme it is better then any godiva truffel i payd an fortune for\n",
      "* * * * * * * * * \n",
      "1413\n",
      "2011-11-17 00:00:00\n",
      "5\n",
      "0\n",
      "B0002268MA\n",
      "I have a lot of childhood memories that included CLOVE GUM. It was always a favorite of my Mom and considered a real treat! My Mom recently celebrated her 91st birthday. I found several nostalgic surprises for her on Amazon including GLOVE GUM. She was thrilled. Some things never change.\n",
      "* * * * * * * * * \n",
      "2018\n",
      "2005-10-25 00:00:00\n",
      "5\n",
      "4\n",
      "B0001OKREE\n",
      "The flavor of this honey is wonderful! The balance between the natural flavor of the honey and the lavender is perfect.<br /><br />My favorite use is in a honey frosting; the floral bouquet comes through in spectacular fashion. The honey also works well in my cr&egrave;me brule. (Not to mention a little butter mixed with the honey on toast)<br /><br />Jansal Valley has other honey varieties that must be tried!\n",
      "* * * * * * * * * \n",
      "2700\n",
      "2010-06-21 00:00:00\n",
      "5\n",
      "0\n",
      "B0002HDLZM\n",
      "it's very good and fresh<br />it's a great idea for gifts<br />Shatila baklawa is the best<br />i loved it ,,my only issue is that next time i order it i should get the bigger size\n",
      "* * * * * * * * * \n",
      "6658\n",
      "2009-06-24 00:00:00\n",
      "3\n",
      "2\n",
      "B001LG945O\n",
      "You know what one of my favorite sounds is? The sound of a can opening. I think it's weird, consider I'm not a huge soda drinker...since I find most sodas too be way too sweet or sugary.<br /><br />This is a review for an Orange Tangerine drink from Switch. I've never heard of them, but I was feeling kind of thirsty so I ordered a can from the vine program. It's an 8.3 ounce can of 100% carbonated juice (plus gum acacia, natural flavors and colors, ascborbic acid and soy). I don't know what to think about some of the ingredients, but I certainly do know that I like: that it's only 8 ounces and that it has no corn syrup!<br /><br />It tastes very similar to canned Minute Maid drinks, especially the Vallencia Orange offering...but does have a slightly sickly sweet aftertaste.  I don't know if I'd run out and buy a 24 pack, but if I saw this in a restaurant I'd definitely consider it as a tasty complement to a sandwich and potato chip lunch.<br /><br />The last thing I like is about the company: it seems to be an independently owned shop, and I like that.\n",
      "* * * * * * * * * \n",
      "7483\n",
      "2010-12-01 00:00:00\n",
      "5\n",
      "0\n",
      "B000F4F9HU\n",
      "I'm not too much of a tea drinker, I drink Assam and Gunpowder tea, and now I also drink Lapsang Souchong tea.  If you like single malt scotches from the Islay region (Laphroaig, Bowmore, etc.), you'll LOVE this tea.  A very strong, smoky flavor complements the high quality black tea.  If you like smoky flavor you HAVE to try this!!\n",
      "* * * * * * * * * \n",
      "8921\n",
      "2012-09-13 00:00:00\n",
      "5\n",
      "0\n",
      "B005AP4E48\n",
      "My Scottish Terriers, (3) of them, love these and have been eating these for over a year now.. These treats are healthy, and are always fresh.. Thanks, highly recommend to all.. those dog lovers out there.. Brenda in Okla...\n",
      "* * * * * * * * * \n",
      "9482\n",
      "2012-09-30 00:00:00\n",
      "5\n",
      "0\n",
      "B004NRHBC6\n",
      "After living in Korea & Japan for 8 yrs, was jonesing for perfect rice - this is it! Short grain, firm, delicious unadorned right out of the rice cooker, perfect for  chopsticks. Heaven.<br />Worth every penny, especially with amazon Prime (15 lbs free shipping, yes!)\n",
      "* * * * * * * * * \n",
      "9658\n",
      "2011-08-25 00:00:00\n",
      "5\n",
      "0\n",
      "B003IFB148\n",
      "My sister, from Brooklyn NY, sent us a jar of this Corriander Chutney from her favorite eastern quisine shop on 1st Avenue in Manhatten.  We absolutely loved it as did our friends that we introduced it to ~ AWESOME on everything...rice, vegetables, you name it!  We live in the woods with little ethnic anything available to us and are so happy to see that we can buy this product on-line via Amazon!  We plan to buy at least a case a year ~ like a fine wine :)  Mary & Ken in Bigfork, MN\n",
      "* * * * * * * * * \n",
      "9721\n",
      "2011-10-30 00:00:00\n",
      "4\n",
      "4\n",
      "B0032GHM4G\n",
      "Bugles are a great snack that have been around a long time. I can remember eating them as a kid as far back as the 1970s, and I still occasionally eat them today. They have a distinctive corny taste which, as far as I know, is unlike anything else currently on the market. On the basis of taste alone, this product would rate 5 stars, however, I am only giving 4 stars out of 5 because of the high staurated fat content, something that is easily evident from a glance at the nutrition label. Bugles have much higher saturated fat content than many other snacks - a result, I suppose, of coconut oil (rather than vegetable or corn oil) being a main ingredient. I wonder, why can't they make Bugles lower in saturated fat and overall fat content, and would it really taste any different?\n",
      "* * * * * * * * * \n",
      "10593\n",
      "2008-10-03 00:00:00\n",
      "3\n",
      "2\n",
      "B000LRH7TE\n",
      "I buy this in the large tin to cook with. If you are looking for oil to dip bread, use as a special flavor, etc.- you can find an oil to suit your taste. Yet, this is good oil. Frankly, I like Il Fornaio from the restuarant in the  NYNY casino/hotel in Vegas better. But, this oil is priced right for every day use. It is also great for salads and adding your own spices to. Get the 3L tin, and; you should be set for a bit.\n",
      "* * * * * * * * * \n",
      "12130\n",
      "2007-09-23 00:00:00\n",
      "3\n",
      "0\n",
      "B000HEC48A\n",
      "I've been giving these to my dog for the last 6 months and these are his favorite treats. However I thought these were not irradiated but it turns out they are. I think I will look into the all natural breast tenders even though they are more expensive. In the long run it's better for your dog.\n",
      "* * * * * * * * * \n",
      "12449\n",
      "2012-03-27 00:00:00\n",
      "4\n",
      "4\n",
      "B004RA04N2\n",
      "I used to buy <a href=\"http://www.amazon.com/gp/product/B000LKWXA4\">Active Umf 10+ Manuka Honey, 500-Gram Jar</a> because my research showed that Comvita is a legitimate producer of manuka honey in New Zealand.  That Comvita manuka product isn't available through Amazon's subscription anymore, so now I subscribe for this manuka honey.<br /><br />From what I read, if you are looking to buy manuka honey, you should look for the label \"UMF\" because that shows the New Zealand's certification of antibiotic property from the manuka honey.  I believe UMF 10 is the minimum, and that's what I look for because I buy manuka honey for its special antibiotic property; otherwise, I guess I wouldn't buy manuka honey because it is so expensive.<br /><br />I would give this product 5 stars if I knew for sure that it is from a good company selling manuka honey from New Zealand or Australia.  The label on this product has all the keywords I'm looking for, and that's all I have to go by for now.\n",
      "* * * * * * * * * \n",
      "15650\n",
      "2007-12-11 00:00:00\n",
      "5\n",
      "0\n",
      "B000EY3NRY\n",
      "<a href=\"http://www.amazon.com/gp/product/B000EY3NRY\">Gerrit's Fresch Extreme Power Mints, 0.5-Ounce Tins (Pack of 12)</a><br />These mints are powerful, delicious and sugar free!\n",
      "* * * * * * * * * \n",
      "16001\n",
      "2011-12-07 00:00:00\n",
      "3\n",
      "0\n",
      "B000KELCA8\n",
      "Good smokey flavor but one can has 1400mg of sodium. Overpowers the eggplant to much for me. For canned baba ghanoush, I prefer Tazah (75mg of sodium) + lemon juice (1 lemon), garlic (2-3 cloves), tahini (1-2 tablespoons), paprika (1 teaspoon) and olive oil on top.\n",
      "* * * * * * * * * \n",
      "16730\n",
      "2011-08-15 00:00:00\n",
      "5\n",
      "6\n",
      "B000CRHQN0\n",
      "UPDATE APRIL 2012: Awhile back, some Amazon customers were having a problem with the product they received.  I believe that Amazon packaging sorted out the issue. Now when I receive these from Amazon, they are always fresh and in sealed packaging. Each box is individually sealed tightly in plastic wrap.<br /><br />ORIGINAL REVIEW:<br /><br />These bars are very good, kind of like a diet Reese's Peanut Butter Cup. They taste so good that they have taken their place as my new favorite protein bar by thinkThin. They taste like chocolate and peanut butter.<br /><br />However, I should clarify that the chocolate is sort of a diet tasting chocolate. The ingredients are natural, but it is diet. It is good for a diet protein bar. It may taste a little bit dry compared to some protein bars that are loaded with sugar. There are some brands of protein bars out there that, if you read the labels, contain a lot more sugar. If you want a bar like that, then this may not be the bar for you. It tastes pretty good for the type of bar that it is: very low sugar and low fat.<br /><br />They are less sweet than other brands of protein bars, because the bars by thinkThin contain lower amounts of sugar.  However, they are healthier, so for me, it is a good trade-off. Also, if you are used to other brands of protein bars, they may not taste as rich. If one looks at the ingredient label of the other brand versus this brand, one may see a lot more sugar in the other brand.<br /><br />Note for hypogylcemics: For hypoglycemics like me, at first glance this bar appears to have 0 gms of sugar, which would help to stabilize the blood sugar. Combine that with 20 grams of protein and it sounds like a great combination for hypoglycemics. If you are not a hypoglycemic, but just looking to lower your sugar, this would seem to be a healthy bar -- and compared to many high-sugar protein bars on the market, it is.<br /><br />However - taking a look at the nutritional information, it also states there are 11 gm of \"sugar alcohol\" in the bar, which from reading the label I see come from Maltitol. Maltitol has a relatively high glycemic index, which is not good news for hypoglycemics. Seventy-five percent of Maltitol calories and sugar are absorbed by the body. This does impact blood glucose levels. Estimates state that Maltitol is 75% to 90% as sweet as sugar, depending on the source. It can also cause intestinal discomfort. So if you are a hypoglycemic, don't be fooled into thinking you are eating a truly 0 gm sugar bar. You are absorbing some sugar. Just plan your menu accordingly.<br /><br />Nutrition Facts per bar:<br />240 calories<br />Fat calories: 80<br />Total fat: 8 gm<br />Saturated fat: 3 gm<br />Cholesterol: 5 gm<br />Sodium: 240 mg<br />Total Carb.: 24 gm<br />Dietary Fiber: 1 gm<br />Sugars: 0 gm<br />Sugar Alcohol: 11 gm<br />Other Carb.: 10 gm<br />Protein: 20 gm<br /><br />If you are used to other brands of bars with a lot of sugar in them, ThinkThin may take some getting used to, but if you are looking for a lower-sugar alternative, give these a try.<br /><br />~~<br /><br />>> \"I want to die peacefully in my sleep, like my grandfather. Not screaming like the passengers in his cab.\" &lt;&lt;\n",
      "* * * * * * * * * \n",
      "18038\n",
      "2010-02-24 00:00:00\n",
      "5\n",
      "1\n",
      "B000LKXFTC\n",
      "Wow what a suprise.  I couldn't decide between the offerings on Organic Ketchup, but decided on the Muir for a couple reasons that have long since been forgotten, and new ones formed.  It's an amazing combination of \"au nataral organic\" and zest, body and soul.  It seems to be a great deal more sophisticated tasting than your garden variety catsups.  Your kids might notice initially, but surely would find it perfectly suitable for their ever-more-bazaar uses for catsup over time.  If you are concerned at all for your health, your children's health, and the health of the planet, this is surely a spectacular choice.  If you just enjoy higher quality products over generic processed foods, then this will surely please.  Either way, Muir hit a home run.  Thank you.  I'll be purchasing again.\n",
      "* * * * * * * * * \n",
      "19398\n",
      "2011-12-19 00:00:00\n",
      "5\n",
      "1\n",
      "B001EQ55T0\n",
      "Emerald Cove Organic Toasted Nori Sheets, ever since I found the Emerald toasted Nori I put it everywhere, I make Sushi with brown rice, decorate Fish dishes with shredded Nori and even fish burritos. It has a pleasant fishy taste that I like, each sheet has only 10 calories and each bag contain a packet of moisture-absorbing powder to protect the Nori from dampness.<br /><br />Also on the back of the bag there is a Pledge of Organic Purity \"All Ingredients Certified Organic - No Ingredients have been Irradiated\" I am glad about that because that was my very first concern. There is a nice and simple Sushi recipe on the back as well and Emerald Cove Nori has no Sodium. Even my Cat likes it! Product of China, Certified Kosher, I like that! Thank You\n",
      "* * * * * * * * * \n",
      "19519\n",
      "2006-11-09 00:00:00\n",
      "3\n",
      "5\n",
      "B000E123IC\n",
      "This \"soup\" is fair to middlin...needs help, additions such as scallions, cooked chicken, etc.\n",
      "* * * * * * * * * \n",
      "19534\n",
      "2012-05-16 00:00:00\n",
      "3\n",
      "0\n",
      "B000RLOB2K\n",
      "First off, the supplier is excellent, they ship fast and they have many interesting products.  Persian (let's say) pistachio nuts are suppose to be the best, and being a pistachio fan, I had to see if the claim is true.  This is the third time I've tried various types of middle eastern pistachios, and the Tadim nuts were fresh and clean.  Aside from being smaller than the bloach California nuts found in every grocery store by the bin load, they also . . . don't taste nearly as good.  Check them out for yourself, it's a good thing to try new foods from around the world, but don't expect the hype to come true.\n",
      "* * * * * * * * * \n",
      "20941\n",
      "2008-09-06 00:00:00\n",
      "4\n",
      "0\n",
      "B000FZ0TCY\n",
      "The product was really good and arrived fairly quickly. The kicker was, the sample they sent as a \"Thank you\" was even better than the original product I purchased. They'll be hearing from me again.\n",
      "* * * * * * * * * \n",
      "23059\n",
      "2005-05-01 00:00:00\n",
      "4\n",
      "6\n",
      "B0000DIYHY\n",
      "I'm not the sort of man to sit around and argue over semantics, in fact, I'm not entirely sure what \"semantics\" means.  But I'll tell you what I do know: Amazon was wrong, dead wrong, when they labeled this product Gummy Octopus.  These are Gummy \"Octopi.\" O-C-T-O-P-I. In yo' face Jeff Bezos! Booyah!\n",
      "* * * * * * * * * \n",
      "24595\n",
      "2012-01-14 00:00:00\n",
      "5\n",
      "0\n",
      "B008FHUGNQ\n",
      "I like strong, dark coffee, so I am usually disappointed by k-cups, which tend to be a little on the weak side.  I usually pack my own coffee cups (using a Keurig adapter)so I can get a strong brew, but my Keurig sometimes malfunctions when I use the adapter.  I decided to try Jet Fuel instead, and I was not disappointed -- smells rich, tastes great.  If you want that strong coffee smell and taste, you won't go wrong here.\n",
      "* * * * * * * * * \n",
      "26193\n",
      "2012-02-02 00:00:00\n",
      "5\n",
      "3\n",
      "B005VTZODI\n",
      "Bushmills 1608 is a  limited anniversary edition made with a more richly flavored grain: crystal malt.<br /><br />Rosy amber - coppery - in the glass.  It's a much richer color than usually seen in Irish.<br /><br />The nose is rich and sweet with butterscotch, maple, and malted milk with vanilla and sherry lingering.  It's yummy.<br /><br />Entry is toffee sweet with a gentle midpalate expansion of sherry, vanilla, cream soda with muted hints of the Bushmills mint.  It is a rich and sweet presentation.  Peppery around edges of tongue. Finish is gentle and relatively short, arriving with drier notes of herbal bitters, oats, and more oaky vanilla.  The herbal quality adds a bitter final note that feels bracing - a balance to the sweetness up front.  The herbal final note is recognizably kin to the mint found earlier in the palate in the more commonly met Bushmills & Bushmills black.<br /><br />All in all a richer more complex array of flavors than one usually meets in an Irish whiskey.  Bravo.  If it weren't for Middletons I'd say this rivaled the top of the heap.  This is clearly one of Ireland's stand out whiskeys.  Highly recommended.\n",
      "* * * * * * * * * \n",
      "27217\n",
      "2012-08-28 00:00:00\n",
      "1\n",
      "1\n",
      "B007RAMDJM\n",
      "What I received didn't mention the word \"reishi\" on the packaging, in contrast to the product description, it was labeled \"Dried Linch\", so I have no idea what I received.  Under \"Ingredients\" it lists dried linch and sulfites as a preservative. The item is not eligible for return.\n",
      "* * * * * * * * * \n",
      "28199\n",
      "2011-01-23 00:00:00\n",
      "4\n",
      "0\n",
      "B004AQMSV4\n",
      "The lemons were great tasting, but were a bit larger in size, and thicker skinned than I had hoped for. The jar was well packaged.\n",
      "* * * * * * * * * \n",
      "29409\n",
      "2011-05-30 00:00:00\n",
      "5\n",
      "3\n",
      "B000AEWGBM\n",
      "After years of abdominal pain my wife broke down and told her doctor \"get rid of this damn gall bladder\". Everytime she was in pain the docs would say \"gall bladder\" but the tests would come back normal. Anyway, the doc took it out and she felt tons better. Turns out she had a diseased gb that doesnt show up on scans. Anyway, it turns out in addition to having gb probs she also has IBS. I dont have to tell guys out there anything about wive becoming overly emotional during an IBS attack im sure they are already familiar. However this stuff im in love with this stuff. As soon as my wife starts showing signs of an attack im running to the kitchen to boil water. Once she starts drinking this tea her pains subside then disappear within minutes and i dont have to beat my head against the wall or rip my hair out anymore. Highly recommended....heck buy 2\n",
      "* * * * * * * * * \n",
      "30479\n",
      "2011-11-01 00:00:00\n",
      "5\n",
      "0\n",
      "B000HG84DM\n",
      "To get their fruit servings.  Each package is equivalent to one fruit in diabetic lingo.  I recommend these for all diabetic people.  Be careful when you make your purchase to verify you are getting what you want because there is a product called fruit strips that is equivalent to1/2 fruit.\n",
      "* * * * * * * * * \n",
      "32047\n",
      "2011-10-18 00:00:00\n",
      "5\n",
      "1\n",
      "B004W0W264\n",
      "I bought sourwood honey from the company's president at Peachtree Center in Atlanta last week and let me tell you, this stuff is worth every penny it costs - delicious, clean taste, sweet but not cloying, and a perfect topping to a buttered biscuit or in a cup of organic tea. I couldn't recommmend the product or the seller more highly. Get some!\n",
      "* * * * * * * * * \n",
      "33508\n",
      "2012-04-16 00:00:00\n",
      "3\n",
      "1\n",
      "B0041NYV8E\n",
      "Gold Kili All Natural Instant Beverage mix (Ginger & Lemon) is an all right drink-in-a-powder.  I have drank similar types of drinks in the past (Chrysanthemum, herbal and tea) and I thought I give this one a try.  I wasn't turned off by the taste but it wasn't lip smacking good either.  Its an acquired taste and if you enjoy drinking instant beverages (just add water) then you'll want to try this one out.  Veterans of powdered drinks need not apply.\n",
      "* * * * * * * * * \n",
      "33731\n",
      "2012-05-24 00:00:00\n",
      "5\n",
      "0\n",
      "B002GWHE1I\n",
      "I have only tried two of the flavors - Jamaican Me Crazy and Creme Brulee - and can't wait to try the others.  Both flavors are very smooth and rich.  Jamaican has a hint of rum, and Creme Brulee tastes like the dessert it is named after - rich, silky cream.<br /><br />When I was deciding whether to buy this sampler, I appreciated the clear descriptions of each flavor and the note of which ones were decaf (which I normally don't drink) <a href=\"http://www.amazon.com/gp/product/B002GWHE1I\">Coffee Bean Direct Assorted Flavored Whole Bean Coffee Sampler, 9-Pound Box</a>.  The price per ounce is very economical. I would definitely buy this again (or perhaps, pick out a couple of flavors and order 1-2 lbs. of each.  I'm very glad I discovered this on Amazon!\n",
      "* * * * * * * * * \n",
      "36496\n",
      "2011-09-30 00:00:00\n",
      "5\n",
      "1\n",
      "B001GCU0E2\n",
      "No aftertaste, mixes perfectly, just a little less sweet than real sugar but easy to compensate for.  I made Cr&egrave;me Brulee with this and it even caramelized like sugar, not a deep rich brown color but still excellent.  I will buy lots more for baking.<br /><br />Ingredients:<br />8 large Egg yolks<br />1/3 cup Diabetisweet sugar<br />2 cups Heavy cream<br />scrape the seeds of 1/2 vanilla bean<br />1/2 teaspoon of Almond Extract (optional)<br />1/4 cup Diabetisweet sugar (for the caramelized tops)<br /><br />Preparation:<br />Preheat oven to 300F. In a large bowl, whisk together egg yolks and sugar until the sugar has dissolved and the mixture is thick and pale yellow. Add cream and vanilla, Almond Extract and continue to whisk until well blended. Strain into a large bowl, skimming off any foam or bubbles.<br /><br />Divide mixture among 6 ramekins or custard cups. Place in a water bath and bake until set around the edges, but still loose in the center, about 50 to 60 minutes. Remove from oven and leave in the water bath until cooled. Remove cups from water bath and chill for at least 2 hours, or up to 2 days. When ready to serve, sprinkle about 2 teaspoons of sugar over each custard. For best results, use a small, hand-held torch to melt sugar. If you don't have a torch, place under the broiler until sugar melts. Re-chill custards for a few minutes before serving.\n",
      "* * * * * * * * * \n",
      "36926\n",
      "2009-06-14 00:00:00\n",
      "5\n",
      "1\n",
      "B000E46LX2\n",
      "I'm not sure why people here review this brand and flavor so poorly here.  A good part of me thinks it's because they're so used to the chemical taste and artificial flavorings of the big brands (MSG laden jerkys, or loaded with flavorings and preservatives).<br /><br />Anyway, back to the jerky...<br /><br />I work out, run, and teach cardio kickbox classes weekly and without lots of serious, natural protein, I will feel it within a few days.  Without exception, every other brand of jerky I've tried either uses MSG or contains so many preservatives I feel sick after eating enough to fit my needs.  Stay away from World Kitchens -- tasty but MSG loaded.<br /><br />So if you're eating real amounts of jerky, give ANY of the Golden Valley jerky products a spin for a few weeks and you'll feel a night and day difference.  Also check out my other review for more.\n",
      "* * * * * * * * * \n",
      "38863\n",
      "2012-06-21 00:00:00\n",
      "5\n",
      "0\n",
      "B000LRG18C\n",
      "This ia a great tasting avjar.  Best with grilled  sausage, pepper and onions, sided with a warmed wrap!  Enjoy!  Product was delivered quickly and wrapped for protection.\n",
      "* * * * * * * * * \n",
      "41107\n",
      "2011-04-10 00:00:00\n",
      "5\n",
      "2\n",
      "B002ESSASK\n",
      "My son is a health fanatic. He only eats things that are good for him, not things that taste good.  So when he started drinking coffee I was shocked - -but he tells me that coffee is good for your brain, it is just all the pesticides and fungicides that are added to most coffee that is not healthful.  So you always want your coffee organic.  And CostCo only carries organic coffee sporadically, if at all.  Thus we have to buy it on Amazon.  I tried several of Amazon's organic coffee offerings  - -and this one is the best for the price.  We buy it regularly on \"ship and save\" service for an additional discount.  It has a clean flavor, not at all muddy/murky.\n",
      "* * * * * * * * * \n",
      "41764\n",
      "2011-03-13 00:00:00\n",
      "5\n",
      "0\n",
      "B004DI58H0\n",
      "This tastes even better than I remember from the many years I lived in Mexico.  It zips up the taste of all my soups.\n",
      "* * * * * * * * * \n",
      "43646\n",
      "2011-06-24 00:00:00\n",
      "4\n",
      "0\n",
      "B004M8FYVG\n",
      "I think that this product delivered very well. However I will list the plusses and minuses:<br />Plus: The light foam on top and the creamy texture made drinking this coffee fun; plus, the smell was yummy. The flavor was strong and consistent every time.<br />Minus: I had to add milk to the cup before I actually brewed the coffee. If you don't like pure Arabica coffee flavors, don't purchase this particular brand. The amount brewed is very small, and the caffeine content seems to be minimal so I had to drink at least two cups.\n",
      "* * * * * * * * * \n",
      "43648\n",
      "2011-07-28 00:00:00\n",
      "5\n",
      "0\n",
      "B004NNEYUC\n",
      "I've been trying to drink lots of water, but what deters me is the flavor of just plain water. Hint provides a refreshing, good tasting alternative. The flavor in this water is very subtle and doesn't taste like fake sugar. I love it so much. The only thing bad about this product is the price. Very expensive! I drink more water during the day because of this product and I can see the benefits of being hydrated.\n",
      "* * * * * * * * * \n",
      "43663\n",
      "2008-05-14 00:00:00\n",
      "5\n",
      "5\n",
      "B004YVQ4DI\n",
      "When you compare the zesty Limonata Sparkling Lemon Beverage to other sparkly lemon beverages, you begin to realize the sheer perfection of the Limonata beverage by San Pellegrino. The balance of lemon, sparkle and zest takes this drink to the level of a gourmet beverage, which requires no mixing. I may have tasted this before, but recently ordered it while eating out at a Restaurant.<br /><br />San Pellegrino is also made with mineral water found near the town of San Pellegrino Terme which is located 70 kilometers northeast of Milan. The water flows from a thermal spring at the foot of a Dolomite mountain wall. The use of this water definitely adds to the energy this drink seems to possess.<br /><br />The carbonation seems more sophisticated and delicate. The only way to describe it is to say these waters are the champagne of sparkling waters.<br /><br />~The Rebecca Review\n",
      "* * * * * * * * * \n",
      "47845\n",
      "2011-05-05 00:00:00\n",
      "2\n",
      "2\n",
      "B000NY8OLK\n",
      "You get what you pay for with chocolate.  I buy Lindt chocolate to serve to guests occasionally, but it's a really poor cheap chocolate.  On a scale of 1-10 (10 being the best) Lindt would rate in the 2-3 range. If you really want a GREAT chocolate that has the full flavor and fine chocolate nuances, you'd have to spend three or four times as much.  I would recommend Amano Artisan Chocolate, for example.  Truly excellent.  Just a warning, however: once you taste a high-end chocolate like Amano, you will never like Lindt again.  In fact, you might just spit it out.\n",
      "* * * * * * * * * \n",
      "48026\n",
      "2011-09-17 00:00:00\n",
      "5\n",
      "0\n",
      "B003LJW6KO\n",
      "This Cavatappi is hard to find but what a lifesaver for the Amazon website and its sellers. Keep it coming.\n",
      "* * * * * * * * * \n",
      "49897\n",
      "2012-04-26 00:00:00\n",
      "4\n",
      "0\n",
      "B0033YH45Y\n",
      "I have had a hard time staying regular and I heard flax seed was good with aiding that issuse. I tryed this one and was pleased with all the added benifts it has, I have only been on it for 2 days and i'm already going regularly! I add it to my fruit smootie and works great!!!\n",
      "* * * * * * * * * \n",
      "50097\n",
      "2011-02-21 00:00:00\n",
      "5\n",
      "0\n",
      "B004391DK0\n",
      "This is an excellent product and I use it just like I used to utilize the regular Bisquick product.It works well with any recipe that calls for flour and quickening.\n",
      "* * * * * * * * * \n",
      "51884\n",
      "2010-06-11 00:00:00\n",
      "5\n",
      "3\n",
      "B001ELL288\n",
      "These Eden Dried Montmorency Cherries are perfection!  Deliciously tart and taste better than anything at Trader Joe's!  Added bonus - no sulfites or added refined sugars!  I can get them at my local grocer for $7.29/bag or on Amazon in packs of three and save!  I wish these were on subscribe and save!  I love to eat daily either out of the bag or is a favorite recipe of mine for free for you (please click on helpful below)!  In a beautiful glass bowl, place 1 diced organic pink lady apple, add a handful of <a href=\"http://www.amazon.com/gp/product/B001ELL288\">Eden Dried Montmorency Cherries, 4-Ounce Pouch (Pack of 3)</a>, add a handful of crushed Living Intentions: Gone Nuts! Maple Mesquite Flour Candied Walnuts, 3.5oz (Raw/Sprouted Snacks), cover with organic Saigon cinnamon and Redwood Hill Farms goatmilk kefir!  YUMMY!  Also delicious to add to chocolate chip cookies or pancakes!  You can get a 10pound bag directly from Eden for $197.20.  According to Eden's website, their dried montmorency cherries are gluten-free, wheat-free, fat-free, and very low sodium.  While the apple juice and safflower oil are both organic, the montmorency tart cherries are transitional to organic but I wonder in what year they are in their transition???  Traditionally known as the \"healing cherry\", contains 17 powerful antioxidants! 2.5 (1/4cup) servings per bag each with 140 calories with 2 of those being from fat. 350mg potassium, 36g carbs, 3g dietary fiber and 31g sugars. GLUTEN-FREE<br /><br />I just love adding these cherries to everything including pancakes, brownies, green bean almondine, etc.  You can substitute these tart cherries for cranberries in just about any recipe!  These dried montmorency cherries by Eden are THE BEST!<br /><br />The Remarkable Health Benefits of Cherries...<br /><br />Acute inflammation is part of the body's protective response to injuries, infections and other irritants, but long-term low grade inflammation puts you at risk of serious conditions like heart disease and diabetes.<br /><br />Tart Cherries' amazing potential to lower disease risk<br /><br />Now, new research, reported on at the Experimental Biology annual meeting in California, adds even more evidence to support cherries ability to alleviate inflammation.<br /><br />In one study, 10 overweight or obese men and women were provided with 8 ounces of tart cherry juice or a placebo beverage daily for four weeks. The results were encouraging. Participants, drinking the cherry juice, showed significant reductions in known markers of inflammation and lower levels of triglycerides (blood fats) and LDL cholesterol -- both known risk factors for heart disease.<br /><br />Researcher, Dr. Mitch Seymour, who led an animal study at the University of Michigan, in which tart cherries were again found to lower inflammation, said: \"Chronic inflammation is a whole body condition that can affect overall health, especially when it comes to the heart. This study offers further promise that foods rich in antioxidants, such as cherries, could potentially reduce inflammation and have the potential to lower disease risk.\"<br /><br />To start with, tart cherries can aid muscle recovery following exercise. A study published in the British Journal of Sports Medicine revealed that strength loss and pain following exercise were significantly less in the cherry juice trial compared to the placebo trial. Most notably, strength loss averaged over the four days after exercise was 22 per cent with the placebo but only 4 per cent with the cherry juice-drinkers.<br /><br />Several earlier studies have confirmed that tart cherries offer benefits for patients with autoimmune, neurodegenerative and connective tissue diseases, particularly rheumatoid arthritis and diabetes. Studies show that tart cherries not only reduce pain and inflammation but also offer protection against cancer. These effects are attributed to the high amounts of plant phytochemicals, known as anthocyanins, they contain.<br /><br />Research has shown that a diet containing cherries is beneficial in reducing the risk of colon cancer. When researchers fed a diet containing tart cherries, anthocyanins, or cyanidin (a non-sugar breakdown product of anthocyanins) to mice with a genetic susceptibility to colon cancer, the animals developed significantly fewer and smaller colon tumours. This study also revealed that these compounds effectively reduced the growth of two human colon cancer cell lines.<br /><br />The cancer-protective benefits of this fruit were validated in another experimental study, in which cherry fruit extract reduced the growth of both human colon cancer cells and human breast cancer cells in a dose-dependent fashion.<br /><br />Researchers have suggested that a possible mechanism by which cherries may confer these benefits is through shutting down the growth of cancer cells by depriving them of the proteins they need to grow.<br /><br />Supporting melatonin levels and brain health<br /><br />Tart cherries are one of the few food sources of melatonin, a chemical released in the body by the pineal gland that is closely connected with the regulation of the sleep-wake cycle. Melatonin also acts as a powerful antioxidant, providing neuro-protective and immune-modulating effects.<br /><br />Ongoing scientific studies are demonstrating how foods naturally rich in melatonin - like Montmorency cherries - can help sufferers of insomnia gain deep, restful sleep.<br /><br />Tart cherries are also rich in phenolic compounds, which have strong neuro-protective activity. In a laboratory setting, cherry phenolics protected neuronal cells from cell-damaging oxidative stress in a dose-dependent manner. Tart cherry compounds may therefore play an important role in protecting ageing adults against neurodegenerative conditions such as memory loss, senile dementia, and perhaps even Alzheimer's disease.<br /><br />Give it to me!<br /><br />Why do people use tart cherries and tart cherry juice?<br />Both sweet and tart cherries and cherry juice have long been used by traditional healers as a folk remedy for gout, because cherries are thought to lower urate levels in the body.<br /><br />Tart cherries are used for conditions involving inflammation and pain, such as:<br /><br />  * arthritis<br />  * gout<br />  * muscle pain<br />  * back pain<br />  * diabetes<br />  * neurodegenerative diseases<br /><br />Both sweet and tart cherries contain phenolics, naturally-occurring plant compounds that have anti-inflammatory, antioxidant effects.<br /><br />The main type of phenolic in cherries is called anthocyanins. In general, the darker the cherry color, the higher the anthocyanin content.<br /><br />Anthocyanins have been found to block two enzymes, COX-1 and COX-2, which play a role in the production of inflammatory compounds called prostaglandins. Aspirin and nonsteroidal anti-inflammatory drugs (NSAIDs) such as naproxen and ibuprofen also work this way.<br /><br />In test tube studies, cherry anthocyanins have been found to protect neurons from damage by oxidative stress. However, there have been no studies that have looked at whether cherry extracts could prevent or slow the progression of neurodegenerative diseases such as Alzheimer's disease or Parkinson's disease in humans.<br /><br />Both Balaton and Montmorency tart cherries contain relatively high levels of the antioxidant melatonin compared to other foods. Montmorency cherries contain approximately 6 times more melatonin than do Balaton cherries.<br /><br />Are tart cherries more effective than sweet cherries?<br />Generally, tart cherries have been found to have higher concentrations of phenolics and anthocyanins than sweet cherries.<br /><br />Tart cherries are also slightly lower in sugar. Half a cup of sweet cherries contains 9.3 g of sugar and 46 calories, compared to 6.6 g of sugar and 39 calories in tart cherries.<br /><br />However, there is no real evidence that these differences are significant-both types of cherries are very high in anthocyanins compared with other foods.<br /><br />It may be that we are hearing more about the health benefits of tart cherries because of the way they are marketed. In 2005, the US Food and Drug Administration sent warning letters to 29 cherry farmers and distributors for positioning tart cherries on their websites as a medicinal food that could possibly help people with gout, arthritis, diabetes, and prevent cancer.<br /><br />What research has been done on tart cherries?<br />Although anthocyanins, which are also found in blueberries and other purplish-red fruits and vegetables, are known to be powerful antioxidants, no studies have looked at whether cherries--tart or sweet--can relieve symptoms of arthritis, gout, or diabetes outside the lab.<br /><br />All studies involving cherries have been very small, so we'll have to wait to see whether tart cherries are beneficial and in what quantities. In the meantime, here are a few of the studies that have been conducted so far:<br /><br />  * A small randomized controlled trial in the British Journal of Sports Medicine examined the effectiveness of a tart cherry juice blend in preventing symptoms of exercise-induced muscle damage. Fourteen male college students drank 12 fl oz of a cherry juice blend or a placebo, twice per day for eight consecutive days. Strength loss was significantly lower in people taking the cherry juice (4%) compared with the placebo (22%). Pain was also significantly lower in people taking the cherry juice.<br /><br />  * Jill M. Tall, Ph.D., research fellow at Johns Hopkins, was the lead researcher of a study that tested the effectiveness of orally administrated anthocyanins from tart cherries on inflammation-induced pain in rats. The results of the study suggested that tart cherry anthocyanins may have a beneficial role in reducing inflammatory pain.<br /><br />  * One small study published in the Journal of Nutrition supported the anti-gout effectiveness of cherries. assessed the effects of Bing cherry (a sweet cherry) consumption on healthy women and found that cherry consumption decreased blood urate levels, and there was a marginal decrease in inflammatory markers c-reactive protein and nitric oxide.\n",
      "* * * * * * * * * \n",
      "55268\n",
      "2010-05-25 00:00:00\n",
      "5\n",
      "1\n",
      "B00004RAMY\n",
      "I received this trap on Friday and Saturday that $#@%^* Mole is dead. I followed the advice of other reviewers and I had no problem on locating the trap. The only problem I had is setting it up. The directions are less than better describing the arming process. It took me awhile to figure out how to cock it and where the trigger was to be when doing so. Be ready to use some muscle when arming it and watch you fingers. I'm completely satisfied with this product. Again read the other reviews on the location procedures they used and you'll have no problems.  Good Luck!!!\n",
      "* * * * * * * * * \n",
      "57367\n",
      "2012-08-05 00:00:00\n",
      "2\n",
      "1\n",
      "B003SLTETG\n",
      "I bought the large high tech pet door 8 months ago. From the beginning, it took buying 5 collars before I could get 3 that worked. The collar radios are cheaply made, they fall apart. The nylon collars themselves easily come unravelled and are virtually impossible to find replacements.<br /><br />The door itself worked perfectly for 6 1/2 months. Then it began sticking in the open position. I have reached out the manufacturer several times, but have NEVER received a response. After reading their website FAQ, I decide to replace the motor assembly. This requires completely removing the door from the wall, removing no less than 28 different screws, prying the fly wheel from the old motor, attaching the new motor assembly to the fly wheel. Next, I wanted to test the new assembly, but you can't set the door upright without reinserting the majority of screws. Thankfully, the door worked perfectly. I reattached the back completely, then reattached the door to the wall... All for the tidy sum of 90.00 with shipping.<br /><br />One week later the door began sticking again. I contacted the company again... Still no response... The symptoms this time were a bit different. The door opens, then attempts to close 5-6 times, before successfully closing... AND this only happens as the day goes on... Not early in the morning or after several hours of non-use... I re-read the company website FAQ... They suggested replacing the motor assembly AND motherboard... After several days of no response from the company, I was getting desperate. So I ordered the motherboard... 60.00 later, the door is still acting the exact same way... Working perfectly in the morning, but sticking as the day wears on... I have spent almost 700.00 with this company and they have failed to respond to a single email or phone call... They suck!\n",
      "* * * * * * * * * \n",
      "57695\n",
      "2011-04-12 00:00:00\n",
      "2\n",
      "2\n",
      "B004DDCKGM\n",
      "I bought these thinking they would actually be less fat being labeled after a big-name weight reduction group.  13 grams of fat a serving?  Really?  Is that what is considered \"weight watching\"?  It was a bag of Whitman's chocolates pre-packaged under the WW brand and sold as something much more expensive but basically about the same fat content as just buying Whitman's chocolates and eating 3. (3 is a serving)  Sure they tasted good but so do regular chocolates.  Silly.  Not worth the money.  Just go buy a box of Whitman's and eat 3. lol\n",
      "* * * * * * * * * \n",
      "58394\n",
      "2012-06-12 00:00:00\n",
      "4\n",
      "0\n",
      "B001SAQJFQ\n",
      "I purchased this along with a soft serve ice cream maker. Talk about easy! I just Mix the Junkit with milk and cream, pour into maker and 20 minutes later we have yummy homemade ice cream.\n",
      "* * * * * * * * * \n",
      "61003\n",
      "2008-01-17 00:00:00\n",
      "5\n",
      "3\n",
      "B0009QYJV6\n",
      "An excellent robust tea.  russian Caravan has been my favorite for years.  As good as what I used to get from Fortnum and Masons for less than 1/2 the price.\n",
      "* * * * * * * * * \n",
      "61616\n",
      "2011-06-18 00:00:00\n",
      "1\n",
      "0\n",
      "B002NHSR44\n",
      "Product tastes waxy & not like chocolate.  It was quite a departure from the goodness & quality of other Newman products.\n",
      "* * * * * * * * * \n",
      "61726\n",
      "2009-06-25 00:00:00\n",
      "5\n",
      "2\n",
      "B000E3C3QW\n",
      "I think Rapunzel's is one of the best chocolates I have ever had...the dark chocolate is so smooth and the sweetness so perfect.  I have had 3 different varieties now and I order a box every time it comes on sale.  There is a distinct luciousness about eating a piece of this chocolate compared to many of the other organic varieties I have bought.\n",
      "* * * * * * * * * \n",
      "61761\n",
      "2011-04-21 00:00:00\n",
      "5\n",
      "1\n",
      "B002NHYQAS\n",
      "NOTE: Guest review from my chocolate-loving friend LW:<br /><br />I almost missed the 2.25 oz. bar at first, wedged as it was, in its brown and black wrapper, alongside the inflated-to-full-size plastic air cushion in its Amazon book box. But once I'd extricated it and opened it, it was substantial. All 22 grams of fat (13 saturated) of it. Sorry, I looked. But not to worry -- that's for the whole bar. With a modicum of discipline, you can easily spread that shame across six nights by breaking off one generous carefully scored square each night (bigger squares than the one on your hotel pillow). That's all you need at a go anyway -- the taste is very rich with a subtle liqueur-like finish -- just what you'd hope its 54% cocoa content would deliver.<br /><br />[Bar provided as part of Vine review program might have been smaller than bars available here for sale.]\n",
      "* * * * * * * * * \n",
      "62369\n",
      "2012-06-10 00:00:00\n",
      "5\n",
      "0\n",
      "B006LXIJBC\n",
      "Love these bucket margaritas!  They are the absolute best I have ever tasted.  So much fun to have poolside or on the beach for a great girlie afternoon!  Oh, and guys like them too.\n",
      "* * * * * * * * * \n",
      "63499\n",
      "2010-08-12 00:00:00\n",
      "5\n",
      "0\n",
      "B004SKITAG\n",
      "I have not bought this product from Amazon, but I will this late fall after we get through the hundred plus degree HEAT! I want to enjoy this product without meltdown. I can only find this amazing treat at the place I work. It is sad! I would describe this as a malted smooth and creamy bar with a crisp crunch. I adore this bar. I usually can take or leave candy and like another reviewer, I am now hooked and want this treat whenever I can find it! It is well worth the calorie count as long as you know YOUR limit. YUM!  UPDATE! 09/14/2010  Ordered this product and it shipped from NY to Iowa in PERFECT condition. I am SO impressed. The shipping wasn't really high and was only a couple dollars more when I got brave and decided to purchase two boxes instead of one. The seller was EXCELLENT! The boxes were bubble wrapped and taped securely, also perishible stickers were applied. Shipped Fed X and FAST. Couldn't be happier! The expiration date is late summer next year, but I know they won't be around that long. I intend on freezing some, wish this was available where I live, but until then, I will be happy with this seller and the great job they do!\n",
      "* * * * * * * * * \n",
      "63955\n",
      "2012-02-11 00:00:00\n",
      "1\n",
      "2\n",
      "B004Y18FSU\n",
      "Recently I traveled to Italy where caper berries were served as a one of the small snacks accompanying cocktails or wine in the late afternoon.  I found the caper berries in Italy to be superior and far less salty than the Del Destino Caper Berries I obtained through Yahoo.\n",
      "* * * * * * * * * \n",
      "64216\n",
      "2006-11-04 00:00:00\n",
      "5\n",
      "2\n",
      "B000FDBRGI\n",
      "Unlike other rye crisp products, Ryvita offers several varieties without the wheat which I cannot tolerate. WASA discontinued the one wheat-free product they had, and I was without a source until I discovered that Amazon carried Ryvita. Thank you for such a wonderful provision!\n",
      "* * * * * * * * * \n",
      "65512\n",
      "2011-05-03 00:00:00\n",
      "5\n",
      "2\n",
      "B001E5E3XU\n",
      "I became hooked on this spicy mustard, while living in New Zealand, and thank god I found it on Amazon. It's delicious on sandwiches, with meats and marinades, and is a fave ingredient of Nigella Lawson in a lot of her recipes. Irreplaceable and impossible to find in NorCal stores.\n",
      "* * * * * * * * * \n",
      "69270\n",
      "2012-01-05 00:00:00\n",
      "1\n",
      "1\n",
      "B003ZS0L80\n",
      "I received only 29 out of 30 pieces of Jerky with the trash from the outside can and missing jerky stuffed inside.  I had ordered them to put in boxes to donate to soldiers overseas at a gathering that night, so I had to use what I had rather than send it back.  Part of me was worried that someone had tampered with the Jerky, but it really just looked like someone got hungry based on the evidence so I used it.  Some poor solider got 1 less piece of Jerky!  Needless to say, I was quite disappointed with this purchase :(\n",
      "* * * * * * * * * \n",
      "69481\n",
      "2012-03-25 00:00:00\n",
      "5\n",
      "0\n",
      "B001GVIR9S\n",
      "I learned of this product from a Today Show Healthy Food segment. It's \"all natural since 1971,\" \"free of artificial flavors, preservatives and additives,\" and \"whole grain oats and corn.\" Made with real peanuts. Per serving, the sugar content is low (6g), low fat, and serves as a good tasty snack.  No milk needed - I've even served these in a bowl as an appetizer snack.  I first bought them on Amazon, but I am now able to find them in the Healthy Food section at the grocery. I have purchased the Peanut Butter variety because that is the flavor that the Today Show recommended, so I have not tried the other flavors.  As a side note, they named their products after adopting a puffin and her name is Barbara. You too can adopt a puffin... [...]\n",
      "* * * * * * * * * \n",
      "73666\n",
      "2010-07-20 00:00:00\n",
      "5\n",
      "0\n",
      "B000HDK0D2\n",
      "Completely changed my lifestyle 7 months ago to eating healthy and exercising, but really missed having some form of candy to have every once in awhile. These suckers definitely help get me through the sugar cravings and with 3 only having 70 calories, no high fructose corn syrup, and organic, I do not feel guilty at all sucking on these. Can't wait to put one of these containers in my dorm in the fall for some extra foot traffic.<br /><br />The suckers themselves are great. Really intense flavors that actually taste like the fruits and not pure sugar. Box, packaging, and sucker sticks feel high quality also.<br /><br />Only con I have about these is it would be nice to have an even assortment of the flavors. This is the breakdown for my first order:<br /><br />32 (21%) Sour Apple<br />29 (19%) Googly Grape<br />24 (16%) Strawberry Smash<br />23 (15%) Wet Face Watermelon<br />18 (12%) Tooberry Blueberry<br />10 (6%)  Pomegranate Pucker<br />10 (6%)  Very Cherry<br />8  (5%)  Mango Tango<br /><br />Total of 154 suckers so I received 4 extra!\n",
      "* * * * * * * * * \n",
      "77648\n",
      "2012-07-20 00:00:00\n",
      "5\n",
      "1\n",
      "B007RTR8UM\n",
      "Really helped add some boost and lift to my fine hair, even without any other mousse or product in the hair. Also, my hair seemed shinier and sleeker, too. Will definitely buy again!\n",
      "* * * * * * * * * \n",
      "77669\n",
      "2012-04-26 00:00:00\n",
      "3\n",
      "0\n",
      "B006MONQMC\n",
      "The flavor is OK but nothing special for this category of product. I have tried store brand powedered ones that taste better and are much less expensive. The label says 24 servings, but it requires using so much that you really don't endup getting 24 servings.<br /><br />The price is a bit high as well.\n",
      "* * * * * * * * * \n",
      "77738\n",
      "2012-03-21 00:00:00\n",
      "4\n",
      "0\n",
      "B000XEV9YE\n",
      "Personally, I would give this five stars. However. This isn't...ahem, 'everyone's cup of tea'. To my family, they thought it had a intolerable bitter and strong taste to it, when there are no additives. Not unlike those who seek more spicy foods, I sought for more flavor in my tea, and this was it. Now, I cannot be satisfied by Lipton's plain ol' black tea.<br /><br />Also, I've noticed that it becomes tolerable to my family when I brew the tea bag a second time. (Them Brits will probably pummel me for that) I have tasted it, and the flavor is still there, but not as overwhelming as the first brew. This may be the best way for some people; if they like it without complementary additions, but find it too strong.<br /><br />Note:<br />Why is this 4/5 stars?<br />Reply: That's because this isn't for everyone, unless of course, you add sugar and milk.\n",
      "* * * * * * * * * \n",
      "78611\n",
      "2009-11-04 00:00:00\n",
      "2\n",
      "22\n",
      "B001M050T8\n",
      "This highly reminds me of \"THE NEW COKE\" debacle. Until recently, Ovaltine was perfect in my opinion. It dissolved perfectly and uniformly. Tasted great, and was better than most other chocolate drinks in a nutritional sense. Now the formula has changed and I can't stand it. It looks, tastes and mixes like Nesquik. It takes the whole of five minutes of hand mixing to get it to dissolve. WHY? It doesn't taste as rich or of any form of real chocolate. In fact, it is nothing like the good old Ovaltine that I've always loved. It gets two stars because, independent of the old Ovaltine, I simply don't like it. In comparison, I'd give it one star for complete mockery. Whoever decided to change the recipe obviously didn't do their research or even listen to their customer base. I won't drink Ovaltine again until the recipe changes back. They should probably call it \"Ovaltine Classic\" or something to signify it's return.\n",
      "* * * * * * * * * \n",
      "79213\n",
      "2012-10-18 00:00:00\n",
      "4\n",
      "0\n",
      "B0076YVPD4\n",
      "Before writing this review I came across Alan Holyoak's excellent in-depth write-up, worth checking out. Bottom line: this thing does heat up in a minute and the pasta comes out SURPRISINGLY well-heated and moist, definitely more al dente and not mushy. The sauce is the same Barilla Tomato Basil I've eaten for years, and the fact that it heats up in separate chambers and then tossed together when you sit down to eat it makes for a really good meal. BUT, the peel-away plastic is a disaster waiting to happen. It's really stuck on there, so PLEASE, pull slowly, and as you get near the last inch before it separates from the tray, wiggle it back and forth sideways and coax it gently off the tray, or just use scissors. I've been know to try and jerk the plastic off of these things (Healthy Choice meals peel incredible easy and I'm used to that), and if I did that I'd definitely be wearing half the meal.<br /><br />I'll buy these again for work, they really a good quick way to have pasta for lunch (with a little grated parmesan of course), but it will teach me patience each time I peel it open, lol.\n",
      "* * * * * * * * * \n",
      "79775\n",
      "2012-08-18 00:00:00\n",
      "5\n",
      "0\n",
      "B004V8OYAO\n",
      "i had never tried these before so i got them cuz they looked yummy and they are!... In my opinion at least. They even smell grapey. I got a six pack to share with my friends/roomies and of course i had to look in our walmart for the grape ones but then and still yet our wal mart does not carry wild grape flavor. So yah, i like them very much. Im also very satisfied with delivery.\n",
      "* * * * * * * * * \n",
      "81187\n",
      "2009-01-11 00:00:00\n",
      "2\n",
      "1\n",
      "B000F498Y0\n",
      "howdy y'all,<br /><br />update = 2009-11-15<br /><br />i received my new order and i've a few problems ...<br /><br />[1] they are NOT from mexico<br />there's an over-sticker that says \"turkey\" on each packet and the carton also says the tomatoes are from turkey. not a problem except that the product description here says \"mexico\" and that's wrong.<br /><br />[2] they taste ... wrong.<br />the previous order was from mexico and tasted slightly sweet. that's as _i_ expect with dried tomatoes. the NEW batch, however, tastes distinctly _salty_! there is no salt listed on the packet, just sodium. unfortunately for me, i am on a restricted diet and can't afford to eat any more salt than i must. anything that tastes salty - quite salty, in this case - must be presumed to have salt in amounts that i can't afford to eat.<br /><br />[*sigh ...*]<br /><br />so i will need to give this batch to someone who will eat the tomatoes even tho they taste salty instead of slightly sweet.<br /><br />i'm going to try to contact the source and see what they have to say, but i doubt i'll be buying this product again. fooey!<br /><br />take care,<br />lee<br /><br />********<br />original date = 2009-01-11<br />howdy y'all,<br /><br />this is a good product. taste's good, easy to use, [mostly] predictable and priced pretty well, too.<br /><br />_however_ ... the last two 12-packs eventually developed moths and moth grubs. ick! [*grin*] i had eaten three of the packets already and when i when to get the next one i found grubs [worms] and moths in the bags. NOT all of them - one packet in the 2nd box seemed ok.<br /><br />so, lets see ... out of 21 packets there was ONE that had no [visible] bugs. i had already eaten 3 packets.<br /><br />how many bug eggs did i eat? [*grin*]<br /><br />now, i KNOW that one of the gotchas with organic and/or all-natural foods is the higher loss rates to pests. so it's not a _total_ surprise to find bugs hatching out.<br /><br />it is however, unacceptable.<br /><br />i admit that i had left the boxes setting in the pantry for more than three months. i was in for another round of chemo and just didn't eat anything that wasn't on my approved foods list. still, the fact that ONE packet had no bugs - and that NO bugs were loose in the box that held the packets - seems to mean that the bug eggs were on the product before i got it.<br /><br />i suppose i'll try this product one more time. but it NEEDS to be store-able for a few months for me to be able to buy it in the rather large quantities it is sold in.<br /><br />take care,<br />lee\n",
      "* * * * * * * * * \n",
      "81280\n",
      "2012-09-28 00:00:00\n",
      "5\n",
      "3\n",
      "B005LNA5VK\n",
      "I've been using this stuff for over a year now, probably have gone through six bottles.  I use them solely in Smoothies. I make smoothies every day instead of one of my meals using super food powders Spirulina, Wheatgrass, Chlorella, Superfood Greens, Maca, and bananas, apples, grapes or cantaloupe in season, always add parsley and sometimes other veggies without stems, almonds and pumpkin seeds, recently stopped using flax seeds, a long squirt of Hemp Seed Oil, two heaping teaspoons of Coconut Oil, and couple spoons of Xylitol in place of sugar.  Add plenty of water and blend until smooth.<br />This makes you lose weight and keeps it off. My frayed vertebre is feeling much stronger since last year, and now with ten minutes of exercise each day plus my 2 mile walks 4x a week, at 70 years old I'm feeling better than I have in years, and the bout of sciatica that hit me two years ago is practically gone except for a minor residue - I'm actually healing, my body is improving, rejuvenating.  No drugs thank you, they only mask your symptoms but keep you deteriorating without you noticing until it's too late.<br />Hemp seed oil is an excellent product. It's high in Omega 3 and 6 fatty acid in best ratio available so it says.  I like the squeeze bottle it comes in for smoothies, very convenient.\n",
      "* * * * * * * * * \n",
      "81562\n",
      "2011-06-03 00:00:00\n",
      "3\n",
      "9\n",
      "B00014EO2A\n",
      "You get a lot of gelatin for the money, but it isn't the same quality as name brands like Knox.<br /><br />The gelatin is much cloudier. It gels less effectively no matter what ratio of water/gelatin I tried, making for a more gooey and runny gelatin than the competition.<br /><br />However, as a food thickener it would probably work well. Just don't expect to be making a nice solid fruit salad with it.\n",
      "* * * * * * * * * \n",
      "82317\n",
      "2011-06-19 00:00:00\n",
      "3\n",
      "2\n",
      "B003ZIGNUA\n",
      "Update:<br /><br />This is not the same juice as Florida Natural Premium Juice that comes in the 59oz bottle.  This juice is from concetrated apple juice.  All of the Florida Natural Juices I have bought in the grocery store are fresh pressed from US fruit.<br /><br />I was disappointed with this product.  This juice is okay, but just okay. I gave it 3 stars because of the price and the apples are from South America.  If it had apple concentrate from China, I would not buy it.  This is not anything like the Florida Natural juice I buy at the grocers.<br /><br />The Florida Natural juice in the grocers refridgerated section is the only real apple juice, made in the USA from USA growers, left on the market.  If you know what apple juice is supposed to taste like, you will appreciate this juice and it's fresh apple taste.<br /><br />I have gone back to buying from the local supermarket.  The fresh Florida Natural is absolutely great.  I would not recommend the non-refridgerated juice such as this.\n",
      "* * * * * * * * * \n",
      "82546\n",
      "2006-08-28 00:00:00\n",
      "5\n",
      "2\n",
      "B0000WA968\n",
      "*****<br /><br />Dry Desert Lime is an unusual premium Numi tea. It is herbal tea (caffeine-free) containing solely dried lime---that's all---not lime and green/black tea, not artificial lime flavor, but real lime---alone---a truly remarkable feat. It is certified organic, and is kosher. It has the most amazing tart and lovely taste. If you like lime, you'll love this tea. If you don't like lime, definitely pass, as it is a very intense \"lime experience\". I love it!<br /><br />On the box, the manufacturer lyrically writes: \"From the far reaches of the Arabian Desert, this rare lime has been enjoyed for thousands of years, both as a spice in Middle Eastern cuisine and as a teasan. Traditionally harvested and dried in the hot desert sun, this oasis of Vitamin C has been drunk to soothe just about everything. The first taste brings a distant yet familiar impression, leaving the trace of a fleeting memory on the tip of your tongue. We find that its clean, bracing, and reviving citrus pleasure, nicely balanced with a touch of sugar, lifts the blues. Try it, you'll fall in love with it!\"<br /><br />If you like Numi teas and enjoy lime, get it---you won't be sorry. If you are new to Numi but love lime, or are curious to try it from the description, I do not think you could find a better source than Numi. In fact, I have never heard of anyone else making this tea. I enjoy serving it to company, but even more, just for me.<br /><br />*****\n",
      "* * * * * * * * * \n",
      "83834\n",
      "2012-01-02 00:00:00\n",
      "5\n",
      "0\n",
      "B0049T5BK2\n",
      "Got both the egg and the spinach Linguine.  World class with the Linguine and white clam sauce recipe from the Best Italian Classic's in the Cook's Illustrated series cook book.<br /><br />I gave one to a friend in a Christmas goody box - she made Stroganoff last PM and raved about the pasta.<br /><br />FD: she is an Italiana.\n",
      "* * * * * * * * * \n",
      "84390\n",
      "2011-11-24 00:00:00\n",
      "5\n",
      "4\n",
      "B0049YMA9W\n",
      "Vegan. Organic. Kosher. Very high quality. My maternal grandfather was a baker/pastry chef. My mother worked in his business and then carried the family traditions and expertise into our home. Prepared a large batch of a family 'favorite' [vegan-style] today which requires a large quantity of pastry flour. Very pleased with the results using the Great River flour. Beautiful whole wheat. Very economical, especially with Subscribe & Save. Highly recommended. This review is out there for those for whom it makes a difference. See all of my reviews and the vegancompassion Profile for more great choices. Check out \"Vegan Grocery Favorites\" and \"Vegan Grocery Top Ten\" & all the other helpful \"Vegan Grocery\" Listmania. Your input counts and will be greatly appreciated to benefit the search of others. Thank you. *** SUBSCRIBE & SAVE ***\n",
      "* * * * * * * * * \n",
      "84473\n",
      "2011-11-25 00:00:00\n",
      "5\n",
      "0\n",
      "B001WRHQRA\n",
      "I ordered the pumpkins spice to check out the flavor and was so pleasantly surprised...it was delicious.  I actually wish I had ordered more while the special was on.  Believe me the box went way too fast.  Everyone wanted to try it and all loved it.  Smooth flavor and just perfect amount of pumpkin spice!!!  Green Mountain has never disappointed.  I always try many different flavors, but Green Mountain especially Pumpkin Spice is one of my favorites.<br /><br />Respectfully,<br /><br />Barbara Condrey<br /><br />Wish I had a cup NOW!!!  lol\n",
      "* * * * * * * * * \n",
      "84522\n",
      "2005-06-13 00:00:00\n",
      "5\n",
      "1\n",
      "B0052OUAOK\n",
      "Unlike other nutrition bars full of sugar and starch, this is the MOST Fantastic bars I've ever had.  I'm diabetic, so I have to be careful of what I eat.  The balance of proteins to carbs is very good, plus the fact that the main carbs in this bar is greens and sea vegetables and some dates, plus soy protein, and some almond butter for fat.<br /><br />The best thing is it is NOT supersweet, but a natural sweetness. I am supersensitive to foods that are man-made and processed, and this is a natural food.  There are no chemicals or processes in it.<br /><br />It is also alkaline based food, so those of you watching your acid/alkaline in your diet and your blood, this is a great thing.<br /><br />It doesn't promote up and down spikes of your blood sugars, but keeps your blood sugar at an even keel.  Less spikes in blood sugar means less insulin means you don't gain weight.<br /><br />This bar has real nutition in it.  This is the only energy bar I will eat now.\n",
      "* * * * * * * * * \n",
      "85357\n",
      "2011-06-25 00:00:00\n",
      "5\n",
      "1\n",
      "B001IHWDX6\n",
      "This bacon salt is absoutly amazing.  We use it on almost everything.  Eggs, salads, vegetables.  My two toddlers eat zucchini because of bacon salt.  I have my whole f amily addicted to it to now.\n",
      "* * * * * * * * * \n",
      "85634\n",
      "2011-02-17 00:00:00\n",
      "5\n",
      "3\n",
      "B002J9J8QC\n",
      "Since I've been having no luck at the grocery stores (I've checked in 3 states!) and my family's addicted to this delicious peanut butter, I'm so glad to find it on line.  We're loving our first 6-pack and will likely order more so we never run out.  According to the mftr it's still being made, but I've not been able to find or order it through my grocers (tho they've tried).  Great product, great taste!\n",
      "* * * * * * * * * \n",
      "87180\n",
      "2011-08-24 00:00:00\n",
      "5\n",
      "0\n",
      "B000LBNUUU\n",
      "I'm a spice addict, I admit it.  I keep 3 types of hot spices at work and poor hot sauce or hot pepper powder in my coffee, on my fruit, in everything I eat (except ice cream.... so far).<br /><br />This stuff knocked me out with just very small amounts the first time I tried it.  Now I'm slowly working my way through the bottle and loving it.<br /><br />I mostly came to look at these reviews because I was curious where this stuff rates on the scoville scale -<br /><br />One website lists it at 40,000 Scoville (seems way too low to me, though that's compared to Tobasco sauce listed at 2,500 scoville by the same site).  That puts it below all the \"Dave's... \" and \"357...\" lines of hot sauces.<br /><br />Just for comparison, most websites list cayenne pepper as 30,000-50,000 scoville, but I can pour large quantities of cayenne pepper powder (trader joe's brand) into my food or eat it raw with no trouble, just a mild burn.  And this 100% Pain is WAY BEYOND that.  A very small amount of it will make a large bowl of soup almost too hot for me.<br /><br />Also, Original Juan's website lists this stuff in the same category with their \"Da Bomb\" line of salsas, which all have listed measurements of 119,000 scoville upward.  That seems far more realistic to me than 40,000 scoville -<br /><br />If you're not sure you can handle this level, try the Pain 85% for a lil more flavor and a lil less heat.  I haven't tried that one yet myself but I hear it's a pretty significant heat difference.\n",
      "* * * * * * * * * \n",
      "87283\n",
      "2011-10-14 00:00:00\n",
      "3\n",
      "3\n",
      "B0025UON1A\n",
      "This flavor is okay, a little salty for me, but lists beef tallow as an ingredient, so if you're looking for vegetarian, try the spicy vegetable flavor.\n",
      "* * * * * * * * * \n",
      "89924\n",
      "2011-12-22 00:00:00\n",
      "4\n",
      "3\n",
      "B005K4Q4KG\n",
      "I'm really baffled by the great differences of opinion on this product. I've tried a couple of different brands and the Grove Square was without doubt the best. I recently purchased a cup of hot cocoa at a local Joe Muggs (in a local BAM store) that was over $2  for the smallest size and really couldn't tell much difference. Obviously every person has different tastes and opinions but so many 1 and 5 star ratings for the exact same product? Oh well, I like it.<br />p.s. 11-27  I like this cocoa well enough that I have subscribed to momthly delivery with free shipping and reduced cost!\n",
      "* * * * * * * * * \n"
     ]
    }
   ],
   "source": [
    "# false positives\n",
    "\n",
    "import random, time\n",
    "\n",
    "for i in range(0, len(ridge_predictions)):\n",
    "    if (ridge_predictions[i] == True):\n",
    "        if (amazon.loc[i, \"helpful\"] == False):\n",
    "            if (random.uniform(0, 1) < 0.05):\n",
    "                print(i)\n",
    "                print(time.strftime('%Y-%m-%d %H:%M:%S', time.gmtime(amazon.loc[i, \"Time\"])))\n",
    "                print(amazon.loc[i, \"Score\"])\n",
    "                print(amazon.loc[i, \"HelpfulnessDenominator\"])\n",
    "                print(amazon.loc[i, \"ProductId\"])\n",
    "                print(amazon.loc[i, \"Text\"])\n",
    "                print('* * * * * * * * * ')"
   ]
  },
  {
   "cell_type": "code",
   "execution_count": null,
   "metadata": {},
   "outputs": [],
   "source": []
  }
 ],
 "metadata": {
  "kernelspec": {
   "display_name": "Python 3",
   "language": "python",
   "name": "python3"
  },
  "language_info": {
   "codemirror_mode": {
    "name": "ipython",
    "version": 3
   },
   "file_extension": ".py",
   "mimetype": "text/x-python",
   "name": "python",
   "nbconvert_exporter": "python",
   "pygments_lexer": "ipython3",
   "version": "3.7.1"
  }
 },
 "nbformat": 4,
 "nbformat_minor": 1
}
