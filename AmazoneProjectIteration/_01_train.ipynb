{
 "cells": [
  {
   "cell_type": "markdown",
   "metadata": {},
   "source": [
    "# Training Set"
   ]
  },
  {
   "cell_type": "code",
   "execution_count": 1,
   "metadata": {},
   "outputs": [],
   "source": [
    "import numpy as np\n",
    "import pandas as pd\n",
    "import matplotlib.pyplot as plt\n",
    "from sklearn.externals import joblib\n",
    "%matplotlib inline\n",
    "\n",
    "from tqdm import tqdm\n",
    "# from time import sleep"
   ]
  },
  {
   "cell_type": "markdown",
   "metadata": {},
   "source": [
    "### Read raw training data"
   ]
  },
  {
   "cell_type": "code",
   "execution_count": 2,
   "metadata": {},
   "outputs": [
    {
     "name": "stdout",
     "output_type": "stream",
     "text": [
      "(364000, 14)\n"
     ]
    }
   ],
   "source": [
    "# OS PATH'/Users/working/Documents/ParsonsSchool/Sp19/MachineLearning/DATASET/amazon_data/raw_data_train.csv'\n",
    "# WINDOWS PATH \"C:/Users/randa/Documents/MLdataset/amazon_data/raw_data_train.csv\"\n",
    "amazon = pd.read_csv('/Users/working/Documents/ParsonsSchool/Sp19/MachineLearning/DATASET/amazon_data/raw_data_train.csv')\n",
    "print(amazon.shape)"
   ]
  },
  {
   "cell_type": "code",
   "execution_count": 3,
   "metadata": {
    "scrolled": true
   },
   "outputs": [
    {
     "name": "stdout",
     "output_type": "stream",
     "text": [
      "   Unnamed: 0  Unnamed: 0.1      Id   ProductId          UserId  \\\n",
      "0      161979        251062  251063  B002INDU22  A16M0DLZ493518   \n",
      "1       72164        206109  206110  B0050JLAEQ  A2B940BLM1T0V3   \n",
      "2      452002        334972  334973  B003D4MW38  A2I8UYFVJ5TLHT   \n",
      "3      419090        119275  119276  B003Z7VYXW  A1YC6AYVXK7NRQ   \n",
      "4      304509         90726   90727  B003OB4BOS  A29NOSP1RGTQNK   \n",
      "\n",
      "         ProfileName  HelpfulnessNumerator  HelpfulnessDenominator  Score  \\\n",
      "0            do-good                     0                       0      4   \n",
      "1              donna                     0                       0      5   \n",
      "2         greenie227                     1                       1      5   \n",
      "3  DesDaz \"torr0015\"                     2                       2      5   \n",
      "4               Josh                     0                       0      4   \n",
      "\n",
      "         Time                           Summary  \\\n",
      "0  1331337600                             Works   \n",
      "1  1348617600    She loves, it, I love it, too!   \n",
      "2  1309737600  Excellent tea, and fast shipping   \n",
      "3  1326240000    Great results, terrific price!   \n",
      "4  1300924800                   not that spicy!   \n",
      "\n",
      "                                                Text  helpScore  helpful  \n",
      "0  We tried these and I was worried that they may...        NaN    False  \n",
      "1  My vet recommended my 11 year old cat change h...        NaN    False  \n",
      "2  This is terrific tea. I bought it to make iced...        1.0    False  \n",
      "3  I have had excellent results with this yeast. ...        1.0    False  \n",
      "4  I wasn't too disappointed, but as someone who ...        NaN    False  \n",
      "0.07315384615384615\n"
     ]
    }
   ],
   "source": [
    "print(amazon.head())\n",
    "print(amazon['helpful'].mean())"
   ]
  },
  {
   "cell_type": "markdown",
   "metadata": {},
   "source": [
    "# Remove Stopwords"
   ]
  },
  {
   "cell_type": "code",
   "execution_count": 4,
   "metadata": {
    "scrolled": true
   },
   "outputs": [],
   "source": [
    "# from gensim.parsing.preprocessing import remove_stopwords\n",
    "# # remove stop words in amazon.Text\n",
    "# amazon['Text'] = amazon['Text'].apply(remove_stopwords)\n",
    "# #newText = amazon['Text'].apply(remove_stopwords)\n",
    "# print(amazon.Text)\n",
    "\n"
   ]
  },
  {
   "cell_type": "code",
   "execution_count": 5,
   "metadata": {},
   "outputs": [
    {
     "name": "stdout",
     "output_type": "stream",
     "text": [
      "**************************************************\n"
     ]
    },
    {
     "name": "stderr",
     "output_type": "stream",
     "text": [
      "  0%|          | 13/364000 [00:00<49:34, 122.37it/s]"
     ]
    },
    {
     "name": "stdout",
     "output_type": "stream",
     "text": [
      "[b'world/NN', b'be/VB', b'go/VB']\n"
     ]
    },
    {
     "name": "stderr",
     "output_type": "stream",
     "text": [
      "100%|██████████| 364000/364000 [44:05<00:00, 137.61it/s]\n"
     ]
    }
   ],
   "source": [
    "#Lemmatization \n",
    "\n",
    "\n",
    "\n",
    "# import nltk\n",
    "# nltk.download('wordnet')\n",
    "# from nltk.stem import WordNetLemmatizer \n",
    "#Init the Wordnet Lemmatizer\n",
    "# lemmatizer = WordNetLemmatizer()\n",
    "\n",
    "#print(amazon['Text'][0])\n",
    "#print(lemmatizer.lemmatize(amazon['Text'][0]))\n",
    "\n",
    "#gensim lemmatize needs pattern, but it is only support python 2.7 or 3.6 below\n",
    "\n",
    "from gensim.utils import lemmatize\n",
    "print('**************************************************')\n",
    "print(lemmatize('Hello World! How is it going?!'))\n",
    "\n",
    "\n",
    "# lemmAmazon=[]\n",
    "# for x in amazon['Text']:\n",
    "#     #for y in amazon['Text'][x]:\n",
    "#     lemmAmazon.append([wd.decode('utf-8').split('/')[0] for wd in lemmatize(x)])\n",
    "# print(lemmAmazon)\n",
    "\n",
    "\n",
    "    \n",
    "# [wd.decode('utf-8').split('/')[0] for wd in lemmatize('Hello World! How is it going?!')]\n",
    "# amazon['Text'] = amazon['Text'].apply(lemmatize)\n",
    "# print(amazon.Text.head())\n",
    "\n",
    "\n",
    "# leText=newText.apply(lemmatizer.lemmatize)\n",
    "# print(lemmatizer.lemmatize(\"my bats\"))\n",
    "\n",
    "\n",
    "# too slow\n",
    "# for i,w in tqdm(enumerate(amazon['Text'])):\n",
    "#     amazon['Text'][i] = [[wd.decode('utf-8').split('/')[0] for wd in lemmatize(w)]]\n",
    "\n",
    "amaLemma=[]\n",
    "for w in tqdm(amazon['Text']):\n",
    "    amaLemma.append([wd.decode('utf-8').split('/')[0] for wd in lemmatize(w)])"
   ]
  },
  {
   "cell_type": "code",
   "execution_count": 6,
   "metadata": {},
   "outputs": [
    {
     "name": "stdout",
     "output_type": "stream",
     "text": [
      "try\n"
     ]
    }
   ],
   "source": [
    "print(amaLemma[0][0])"
   ]
  },
  {
   "cell_type": "code",
   "execution_count": 7,
   "metadata": {},
   "outputs": [
    {
     "name": "stdout",
     "output_type": "stream",
     "text": [
      "364000\n",
      "<class 'list'>\n",
      "['try', 'be', 'worry', 'not', 'work', 'do', 'work', 'well', 'family', 'have', 'love', 'try', 'even', 'enjoy', 'lunch', 'salad', 'dressing', 'just', 'fruit', 'greek', 'yogurt', 'natural', 'tasty', 'pill', 'be', 'hard', 'take', 'few', 'moment', 'melt', 'work', 'right', 'away', 'last', 'minute', 'active', 'eating', 'think', 'acid', 'sour', 'food', 'wash', 'away', 'try', 'again']\n",
      "['vet', 'recommend', 'year', 'old', 'cat', 'change', 'diet', 'due', 'blood', 'work', 'come', 'back', 'number', 'be', 'slightly', 'elevated', 'vet', 'say', 'help', 'maintain', 'kidney', 'filter', 'properly', 'put', 'special', 'canned', 'food', 'thank', 'god', 'love', 'food', 'purina', 'kidney', 'function', 'seem', 'be', 'be', 'liking', 'thus', 'far', 'tried', 'science', 'diet', 'walk', 'away', 'recommend', 'food', 'pet']\n",
      "                                                        0\n",
      "0       [try, be, worry, not, work, do, work, well, fa...\n",
      "1       [vet, recommend, year, old, cat, change, diet,...\n",
      "2       [be, terrific, tea, buy, make, iced, tea, get,...\n",
      "3       [have, have, excellent, result, yeast, open, f...\n",
      "4       [wasn, too, disappointed, someone, enjoy, spic...\n",
      "5       [mom, have, have, bustelo, cafe, just, used, g...\n",
      "6       [try, sample, liked, several, however, try, ca...\n",
      "7       [discover, sweetener, couple, month, ago, have...\n",
      "8       [rooibos, tea, be, great, healing, skin, condi...\n",
      "9       [use, kretschmer, wheatgerm, homemade, granola...\n",
      "10      [be, best, hazelnut, ve, have, year, be, very,...\n",
      "11      [used, always, go, jamba, juice, match, green,...\n",
      "12      [be, black, not, ink, black, re, used, see, ca...\n",
      "13      [highly, recommend, taste, great, fact, now, r...\n",
      "14      [buy, package, month, old, practice, self, fee...\n",
      "15      [buy, think, taste, peppermint, patty, reviewe...\n",
      "16      [used, buy, pack, almost, daily, pack, see, ca...\n",
      "17      [bread, be, very, easy, make, be, make, bread,...\n",
      "18      [best, taste, honey, have, ever, try, forget, ...\n",
      "19      [aromatic, coffee, better, starbucks, burnt, s...\n",
      "20      [get, regular, cold, coffee, think, expresso, ...\n",
      "21      [stuff, be, good, almost, single, kernel, pop,...\n",
      "22      [haven, be, able, get, year, glad, get, amazon...\n",
      "23      [excellent, dinner, option, elderly, mother, e...\n",
      "24      [send, gift, mom, mother, day, love, be, very,...\n",
      "25      [own, whirly, pop, buy, brand, popcorn, simila...\n",
      "26      [avoid, make, china, snack, beloved, lucky, mo...\n",
      "27      [tea, have, delicious, toast, flavor, come, ap...\n",
      "28      [chicken, dinner, be, real, hit, year, old, to...\n",
      "29      [let, just, say, be, little, apprehensive, fir...\n",
      "...                                                   ...\n",
      "363970  [love, protein, shake, taste, coconut, vanilla...\n",
      "363971  [husband, buy, case, popcorn, base, star, revi...\n",
      "363972  [order, out, be, intrigue, know, taste, br, ta...\n",
      "363973  [have, cat, struvite, crystal, have, be, used,...\n",
      "363974  [fine, flavor, tea, have, wonderful, kick, lef...\n",
      "363975  [be, excite, get, lickety, stik, dog, sound, g...\n",
      "363976  [start, purchase, daughter, be, month, old, st...\n",
      "363977  [have, idea, have, idea, mix, raman, noodle, c...\n",
      "363978  [coffee, say, medium, roast, be, actually, lit...\n",
      "363979  [just, start, make, vegetarian, dish, help, bo...\n",
      "363980  [cat, love, taste, food, be, very, healthy, ea...\n",
      "363981  [st, cat, really, don, eat, brand, much, relis...\n",
      "363982  [be, best, beer, sausage, ve, come, decade, ta...\n",
      "363983  [lavendar, be, so, fragrant, smell, front, ste...\n",
      "363984  [tree, look, nice, unfortunately, be, not, pac...\n",
      "363985  [strong, bold, intense, usually, don, strong, ...\n",
      "363986  [have, cat, seem, like, food, cat, be, general...\n",
      "363987  [have, year, old, boy, year, old, girl, mixed,...\n",
      "363988  [have, try, many, different, brand, year, safe...\n",
      "363989  [have, think, work, yet, do, time, time, again...\n",
      "363990  [dog, love, sit, next, counter, keep, wait, more]\n",
      "363991  [be, fantastic, people, be, so, busy, need, fa...\n",
      "363992  [taste, pretty, good, doubt, purchase, again, ...\n",
      "363993  [berry, flavor, be, very, strong, fact, far, t...\n",
      "363994  [popcorn, taste, old, fashion, homemade, popco...\n",
      "363995  [girl, love, long, car, ride, be, go, nj, be, ...\n",
      "363996  [too, early, know, be, recommend, product, hel...\n",
      "363997  [note, amazon, please, continue, carry, produc...\n",
      "363998  [fancy, grade, be, good, get, not, be, disappo...\n",
      "363999  [grateful, keurig, coffee, maker, taste, green...\n",
      "\n",
      "[364000 rows x 1 columns]\n"
     ]
    }
   ],
   "source": [
    "amazon['Text'].tail()\n",
    "\n",
    "\n",
    "print(len(amaLemma))\n",
    "print(type(amaLemma))\n",
    "\n",
    "print(amaLemma[0])\n",
    "print(amaLemma[1])\n",
    "\n",
    "amaNp=np.array(amaLemma)\n",
    "amaDF=pd.DataFrame(amaNp)\n",
    "\n",
    "amaDF.to_csv('/Users/working/Documents/ParsonsSchool/Sp19/MachineLearning/DATASET/amazon_data/AmazonLemmatizedWithStopwords.csv')\n",
    "print(amaDF)\n",
    "#amaLemma.to_csv('/Users/working/Documents/ParsonsSchool/Sp19/MachineLearning/DATASET/amazon_data/AmazonLemmatized.csv')\n",
    "\n",
    "# amaLemmaDF = pd.DataFrame(amaLemma, columns=['Text'])\n",
    "\n"
   ]
  },
  {
   "cell_type": "code",
   "execution_count": 8,
   "metadata": {},
   "outputs": [
    {
     "name": "stdout",
     "output_type": "stream",
     "text": [
      "                                                   0\n",
      "0  [try, be, worry, not, work, do, work, well, fa...\n",
      "1  [vet, recommend, year, old, cat, change, diet,...\n",
      "2  [be, terrific, tea, buy, make, iced, tea, get,...\n",
      "3  [have, have, excellent, result, yeast, open, f...\n",
      "4  [wasn, too, disappointed, someone, enjoy, spic...\n",
      "<class 'pandas.core.frame.DataFrame'>\n",
      "['try', 'be', 'worry', 'not', 'work', 'do', 'work', 'well', 'family', 'have', 'love', 'try', 'even', 'enjoy', 'lunch', 'salad', 'dressing', 'just', 'fruit', 'greek', 'yogurt', 'natural', 'tasty', 'pill', 'be', 'hard', 'take', 'few', 'moment', 'melt', 'work', 'right', 'away', 'last', 'minute', 'active', 'eating', 'think', 'acid', 'sour', 'food', 'wash', 'away', 'try', 'again']\n"
     ]
    }
   ],
   "source": [
    "print(amaDF.head())\n",
    "print(type(amaDF))\n",
    "print(amaDF[0][0])\n",
    "\n",
    "# print(amaDF[0][0].dtypes)"
   ]
  },
  {
   "cell_type": "code",
   "execution_count": null,
   "metadata": {},
   "outputs": [],
   "source": []
  },
  {
   "cell_type": "code",
   "execution_count": 9,
   "metadata": {},
   "outputs": [
    {
     "name": "stdout",
     "output_type": "stream",
     "text": [
      "0    try be worry not work do work well family have...\n",
      "1    vet recommend year old cat change diet due blo...\n",
      "2    be terrific tea buy make iced tea get smooth l...\n",
      "3    have have excellent result yeast open first pa...\n",
      "4    wasn too disappointed someone enjoy spicy food...\n",
      "Name: 0, dtype: object\n"
     ]
    }
   ],
   "source": [
    "# lemmAmazon[0]\n",
    "\n",
    "# jointTest=' '.join(lemmAmazon[0])\n",
    "\n",
    "amaDFOut = amaDF[0].apply(' '.join)\n",
    "print(amaDFOut.head())\n"
   ]
  },
  {
   "cell_type": "code",
   "execution_count": 10,
   "metadata": {},
   "outputs": [
    {
     "name": "stdout",
     "output_type": "stream",
     "text": [
      "try be worry not work do work well family have love try even enjoy lunch salad dressing just fruit greek yogurt natural tasty pill be hard take few moment melt work right away last minute active eating think acid sour food wash away try again\n",
      "We tried these and I was worried that they may not work. They did work well. My family has loved trying them. We even enjoyed our lunch salad no dressing with just fruit and greek yogurt all natural. Tasty.<br />The pill was hard and took a few moments to melt but it worked right away.  It lasted for 20-25 minutes of active eating. I think the acid in the sour foods washes it away. I would try it again.\n",
      "364000\n"
     ]
    }
   ],
   "source": [
    "print(amaDFOut[0])\n",
    "print(amazon[\"Text\"][0])\n",
    "\n",
    "print(len(amaDFOut))"
   ]
  },
  {
   "cell_type": "markdown",
   "metadata": {},
   "source": [
    "### Feature extraction on natural language data"
   ]
  },
  {
   "cell_type": "markdown",
   "metadata": {},
   "source": [
    "### Extraction By CountVecorizer"
   ]
  },
  {
   "cell_type": "code",
   "execution_count": 12,
   "metadata": {},
   "outputs": [
    {
     "name": "stderr",
     "output_type": "stream",
     "text": [
      "/anaconda3/envs/Py36env/lib/python3.6/site-packages/ipykernel_launcher.py:5: FutureWarning: Method .as_matrix will be removed in a future version. Use .values instead.\n",
      "  \"\"\"\n"
     ]
    },
    {
     "name": "stdout",
     "output_type": "stream",
     "text": [
      "[[0 0 0 ... 0 0 0]\n",
      " [0 0 0 ... 0 0 0]\n",
      " [0 0 0 ... 0 0 0]\n",
      " ...\n",
      " [0 0 0 ... 0 0 0]\n",
      " [0 0 0 ... 0 0 0]\n",
      " [0 0 0 ... 0 0 0]]\n"
     ]
    }
   ],
   "source": [
    "# # http://scikit-learn.org/stable/modules/generated/sklearn.feature_extraction.text.CountVectorizer.html\n",
    "from sklearn.feature_extraction.text import CountVectorizer\n",
    "vectorizer = CountVectorizer()\n",
    "# corpus = amazon.Text.as_matrix()\n",
    "corpus = amaDFOut.as_matrix()\n",
    "X_bag_of_words = vectorizer.fit_transform(corpus)\n",
    "print(X_bag_of_words.toarray())\n",
    "\n",
    "# corpusForId= amazon.ProductId.as_matrix()\n",
    "# bagOfId= vectorizer.fit_transform(corpusForId)\n",
    "\n"
   ]
  },
  {
   "cell_type": "code",
   "execution_count": 13,
   "metadata": {},
   "outputs": [
    {
     "name": "stdout",
     "output_type": "stream",
     "text": [
      "(364000, 76362)\n"
     ]
    },
    {
     "data": {
      "text/plain": [
       "scipy.sparse.csr.csr_matrix"
      ]
     },
     "execution_count": 13,
     "metadata": {},
     "output_type": "execute_result"
    }
   ],
   "source": [
    "print(X_bag_of_words.shape)\n",
    "# print(X_bag_of_words[0])\n",
    "type(X_bag_of_words)\n",
    "\n",
    "# print(bagOfId[100])\n"
   ]
  },
  {
   "cell_type": "code",
   "execution_count": 14,
   "metadata": {},
   "outputs": [
    {
     "data": {
      "text/plain": [
       "['vectorizer.pkl']"
      ]
     },
     "execution_count": 14,
     "metadata": {},
     "output_type": "execute_result"
    }
   ],
   "source": [
    "joblib.dump(vectorizer,'vectorizer.pkl')"
   ]
  },
  {
   "cell_type": "markdown",
   "metadata": {},
   "source": [
    "### Hashing Vectorizer"
   ]
  },
  {
   "cell_type": "code",
   "execution_count": null,
   "metadata": {},
   "outputs": [],
   "source": [
    "# # vectorize Bag of Words from review text; as sparse matrix\n",
    "# from sklearn.feature_extraction.text import HashingVectorizer\n",
    "# # hv = HashingVectorizer(n_features=2 ** 17, non_negative=True)\n",
    "# hv = HashingVectorizer(n_features=2 ** 20, non_negative=True)\n",
    "# # X_hv = hv.fit_transform(amazon.Text)\n",
    "# X_hv = hv.fit_transform(amaDFOut)\n",
    "# print(hv)\n",
    "# print(X_hv.shape)"
   ]
  },
  {
   "cell_type": "code",
   "execution_count": null,
   "metadata": {},
   "outputs": [],
   "source": [
    "# type(X_hv)"
   ]
  },
  {
   "cell_type": "code",
   "execution_count": null,
   "metadata": {},
   "outputs": [],
   "source": [
    "# # We want to be able to use this model fit on other data (the test set)\n",
    "# # So let's save a copy of this instance of HashingVectorizer to be able to transform other data with this fit\n",
    "# # http://scikit-learn.org/stable/modules/model_persistence.html\n",
    "# joblib.dump(hv, 'hv.pkl') # pickle\n"
   ]
  },
  {
   "cell_type": "code",
   "execution_count": 15,
   "metadata": {},
   "outputs": [
    {
     "data": {
      "text/plain": [
       "['transformer.pkl']"
      ]
     },
     "execution_count": 15,
     "metadata": {},
     "output_type": "execute_result"
    }
   ],
   "source": [
    "# http://scikit-learn.org/stable/modules/generated/sklearn.feature_extraction.text.TfidfTransformer.html\n",
    "from sklearn.feature_extraction.text import TfidfTransformer\n",
    "transformer = TfidfTransformer()\n",
    "X_tfidf = transformer.fit_transform(X_bag_of_words)\n",
    "\n",
    "\n",
    "joblib.dump(transformer, 'transformer.pkl') # pickle"
   ]
  },
  {
   "cell_type": "code",
   "execution_count": 16,
   "metadata": {},
   "outputs": [
    {
     "name": "stdout",
     "output_type": "stream",
     "text": [
      "<class 'scipy.sparse.csr.csr_matrix'>\n"
     ]
    }
   ],
   "source": [
    "print(type(X_tfidf))\n",
    "# print(type(X2_tfidf))"
   ]
  },
  {
   "cell_type": "code",
   "execution_count": null,
   "metadata": {},
   "outputs": [],
   "source": [
    "# amazon['Pid']= bagOfId\n",
    "# print(amazon.Pid)"
   ]
  },
  {
   "cell_type": "markdown",
   "metadata": {},
   "source": [
    "### Time Converting"
   ]
  },
  {
   "cell_type": "code",
   "execution_count": 101,
   "metadata": {},
   "outputs": [
    {
     "name": "stdout",
     "output_type": "stream",
     "text": [
      "363990     2\n",
      "363991     1\n",
      "363992     6\n",
      "363993     2\n",
      "363994     4\n",
      "363995     4\n",
      "363996     9\n",
      "363997    10\n",
      "363998     8\n",
      "363999     1\n",
      "Name: amaMonth, dtype: int64\n",
      "0    4\n",
      "1    1\n",
      "2    6\n",
      "3    1\n",
      "4    2\n",
      "5    6\n",
      "6    3\n",
      "7    0\n",
      "8    5\n",
      "9    1\n",
      "Name: amaDay, dtype: int64\n",
      "0    2012\n",
      "1    2012\n",
      "2    2011\n",
      "3    2012\n",
      "4    2011\n",
      "5    2012\n",
      "6    2012\n",
      "7    2008\n",
      "8    2011\n",
      "9    2012\n",
      "Name: amaYear, dtype: int64\n"
     ]
    }
   ],
   "source": [
    "import datetime\n",
    "# ts= time.\n",
    "# amazoneHour = datetime.datetime.fromtimestamp(1331337600).strftime(\"%H\")\n",
    "# amazoneDay = datetime.datetime.fromtimestamp(1331337600).strftime(\"%a\")\n",
    "\n",
    "# amazoneTest= datetime.datetime.strftime(datetime.datetime.fromtimestamp(1331337600), \"%H\")\n",
    "# # amazoneHour= datetime.datetime.strftime(\"%H\", amazoneHour)\n",
    "# print(amazoneTest)\n",
    "# print(amazoneDay)\n",
    "\n",
    "amazon['amaRead'] = amazon['Time'].apply(datetime.datetime.fromtimestamp)\n",
    "amazon['amaMonth'] = amazon['amaRead'].apply(datetime.datetime.strftime, format=(\"%m\"))\n",
    "amazon['amaMonth'] = amazon['amaMonth'].apply(int)\n",
    "amazon['amaDay'] =amazon['amaRead'].apply(datetime.datetime.weekday)#is , format=(\"%A\"))\n",
    "\n",
    "\n",
    "amazon['amaYear']=amazon['amaRead'].apply(datetime.datetime.strftime, format=(\"%Y\"))\n",
    "amazon['amaYear']= amazon['amaYear'].apply(int)\n",
    "# amazon['readableamaDay'] =amazon['amaRead'].apply(datetime.datetime.strftime , format=(\"%A\"))\n",
    "# print(amazon['amaRead'].tail(10))\n",
    "print(amazon['amaMonth'].tail(10))\n",
    "print(amazon['amaDay'].head(10))\n",
    "print(amazon['amaYear'].head(10))\n",
    "# print(amazon['readableamaDay'].head(10))"
   ]
  },
  {
   "cell_type": "code",
   "execution_count": 156,
   "metadata": {},
   "outputs": [
    {
     "name": "stdout",
     "output_type": "stream",
     "text": [
      "0    12\n",
      "1     9\n",
      "2    42\n",
      "3     1\n",
      "4     6\n",
      "5     6\n",
      "6    27\n",
      "7     0\n",
      "8    45\n",
      "9     9\n",
      "Name: strangeF, dtype: int64\n"
     ]
    }
   ],
   "source": [
    "# ###more feature test\n"
   ]
  },
  {
   "cell_type": "markdown",
   "metadata": {
    "collapsed": true
   },
   "source": [
    "### Create additional quantitative features"
   ]
  },
  {
   "cell_type": "code",
   "execution_count": 219,
   "metadata": {},
   "outputs": [
    {
     "name": "stdout",
     "output_type": "stream",
     "text": [
      "   reviewLen  Score  reviewLenAfterLe  amaDay  amaMonth  revPlusScore  amaYear\n",
      "0        406      4               242       4         3          1624     2012\n",
      "1        398      5               278       1         9          1990     2012\n",
      "2         95      5                58       6         7           475     2011\n",
      "3        354      5               208       1         1          1770     2012\n",
      "4        175      4               119       2         3           700     2011\n",
      "5        252      5               148       6         1          1260     2012\n",
      "6        206      5               106       3         9          1030     2012\n",
      "7        972      5               610       0         1          4860     2008\n",
      "8       1476      5               982       5         9          7380     2011\n",
      "9        640      5               425       1         9          3200     2012\n",
      "<class 'pandas.core.frame.DataFrame'>\n"
     ]
    }
   ],
   "source": [
    "# features from Amazon.csv to add to feature set\n",
    "amazon['reviewLen'] = amazon['Text'].str.len()\n",
    "amazon['reviewLenAfterLe'] = amaDFOut.str.len()\n",
    "\n",
    "amazon['revPlusScore']=  amazon['reviewLen']*amazon['Score']\n",
    "# print(amazon['strangeF'].head(10))\n",
    "\n",
    "# X_quant_features = amazon[[\"Score\", \"reviewLen\",\"amaDay\",\"amaHour\"]]\n",
    "X_quant_features = amazon[[\"reviewLen\",\"Score\",\"reviewLenAfterLe\",\"amaDay\", \"amaMonth\", \"revPlusScore\",\"amaYear\"]]\n",
    "print(X_quant_features.head(10))\n",
    "print(type(X_quant_features))"
   ]
  },
  {
   "cell_type": "code",
   "execution_count": 220,
   "metadata": {},
   "outputs": [],
   "source": [
    "#try adding time from amazon.csv"
   ]
  },
  {
   "cell_type": "markdown",
   "metadata": {},
   "source": [
    "### Combine all quantitative features into a single sparse matrix"
   ]
  },
  {
   "cell_type": "code",
   "execution_count": 221,
   "metadata": {},
   "outputs": [
    {
     "name": "stdout",
     "output_type": "stream",
     "text": [
      "(364000, 76369)\n"
     ]
    }
   ],
   "source": [
    "from scipy.sparse import csr_matrix, hstack\n",
    "X_quant_features_csr = csr_matrix(X_quant_features)\n",
    "X_combined = hstack([X_tfidf, X_quant_features_csr])\n",
    "X_matrix = csr_matrix(X_combined) # convert to sparse matrix\n",
    "print(X_matrix.shape)"
   ]
  },
  {
   "cell_type": "code",
   "execution_count": 222,
   "metadata": {},
   "outputs": [
    {
     "name": "stdout",
     "output_type": "stream",
     "text": [
      "  (0, 143)\t0.08288818068471387\n",
      "  (0, 316)\t0.12002338227779079\n",
      "  (0, 634)\t0.1090312892957206\n",
      "  (0, 649)\t0.1595174171657956\n",
      "  (0, 1875)\t0.04787813739090102\n",
      "  (0, 2055)\t0.09845254992230668\n",
      "  (0, 3426)\t0.06948579502025531\n",
      "  (0, 4133)\t0.07212294592284339\n",
      "  (0, 5229)\t0.19321152620821294\n",
      "  (0, 6422)\t0.05723403222175528\n",
      "  (0, 7466)\t0.0551024648166298\n",
      "  (0, 7531)\t0.33801294607403226\n",
      "  (0, 9383)\t0.1534336781778006\n",
      "  (0, 10918)\t0.07368432312475039\n",
      "  (0, 13364)\t0.08778638927395312\n",
      "  (0, 13606)\t0.08829386649845035\n",
      "  (0, 14048)\t0.08181385943913173\n",
      "  (0, 15626)\t0.25881201485585065\n",
      "  (0, 18930)\t0.03911728150355961\n",
      "  (0, 20085)\t0.08639850233235279\n",
      "  (0, 20286)\t0.13917025869199234\n",
      "  (0, 23175)\t0.0717330833258597\n",
      "  (0, 24079)\t0.160807668837318\n",
      "  (0, 24639)\t0.03905963392590498\n",
      "  (0, 24972)\t0.11276641351908574\n",
      "  :\t:\n",
      "  (0, 59819)\t0.1587126653507582\n",
      "  (0, 59955)\t0.06871791002594894\n",
      "  (0, 60404)\t0.06757683884101522\n",
      "  (0, 61743)\t0.1104682261844962\n",
      "  (0, 61749)\t0.10427680332418586\n",
      "  (0, 62251)\t0.05981225394419099\n",
      "  (0, 64000)\t0.08130308256691782\n",
      "  (0, 64461)\t0.09111120744525128\n",
      "  (0, 64568)\t0.16231949936765938\n",
      "  (0, 66309)\t0.033734833203382865\n",
      "  (0, 66498)\t0.05269527812873671\n",
      "  (0, 66749)\t0.13894612315611526\n",
      "  (0, 67325)\t0.056591643121908175\n",
      "  (0, 69133)\t0.03912419043376961\n",
      "  (0, 71328)\t0.04827172562528407\n",
      "  (0, 71782)\t0.05575469384806\n",
      "  (0, 74827)\t0.09086000708486075\n",
      "  (0, 75436)\t0.07436965941354853\n",
      "  (0, 76362)\t976.0\n",
      "  (0, 76363)\t5.0\n",
      "  (0, 76364)\t613.0\n",
      "  (0, 76365)\t4.0\n",
      "  (0, 76366)\t12.0\n",
      "  (0, 76367)\t4880.0\n",
      "  (0, 76368)\t2009.0\n"
     ]
    }
   ],
   "source": [
    "# look at an example of a \"row\" of a sparse matrix\n",
    "print(X_matrix[1234])"
   ]
  },
  {
   "cell_type": "markdown",
   "metadata": {},
   "source": [
    "### Create `X`, scaled matrix of features"
   ]
  },
  {
   "cell_type": "code",
   "execution_count": 223,
   "metadata": {},
   "outputs": [
    {
     "name": "stdout",
     "output_type": "stream",
     "text": [
      "(364000, 76369)\n"
     ]
    },
    {
     "data": {
      "text/plain": [
       "['sc.pkl']"
      ]
     },
     "execution_count": 223,
     "metadata": {},
     "output_type": "execute_result"
    }
   ],
   "source": [
    "# feature scaling\n",
    "from sklearn.preprocessing import StandardScaler\n",
    "sc = StandardScaler(with_mean=False)\n",
    "X = sc.fit_transform(X_matrix)\n",
    "print(X.shape)\n",
    "\n",
    "joblib.dump(sc, 'sc.pkl') # pickle"
   ]
  },
  {
   "cell_type": "markdown",
   "metadata": {},
   "source": [
    "### create `y`, vector of Labels"
   ]
  },
  {
   "cell_type": "code",
   "execution_count": 224,
   "metadata": {
    "scrolled": true
   },
   "outputs": [
    {
     "name": "stdout",
     "output_type": "stream",
     "text": [
      "<class 'numpy.ndarray'>\n"
     ]
    }
   ],
   "source": [
    "y = amazon['helpful'].values\n",
    "print(type(y))"
   ]
  },
  {
   "cell_type": "markdown",
   "metadata": {},
   "source": [
    "# fit models"
   ]
  },
  {
   "cell_type": "code",
   "execution_count": 225,
   "metadata": {},
   "outputs": [],
   "source": [
    "from my_measures import BinaryClassificationPerformance"
   ]
  },
  {
   "cell_type": "markdown",
   "metadata": {},
   "source": [
    "### MODEL: ordinary least squares"
   ]
  },
  {
   "cell_type": "code",
   "execution_count": 226,
   "metadata": {},
   "outputs": [
    {
     "name": "stderr",
     "output_type": "stream",
     "text": [
      "/anaconda3/envs/Py36env/lib/python3.6/site-packages/sklearn/linear_model/stochastic_gradient.py:166: FutureWarning: max_iter and tol parameters have been added in SGDClassifier in 0.19. If both are left unset, they default to max_iter=5 and tol=None. If tol is not None, max_iter defaults to max_iter=1000. From 0.21, default max_iter will be 1000, and default tol will be 1e-3.\n",
      "  FutureWarning)\n"
     ]
    },
    {
     "name": "stdout",
     "output_type": "stream",
     "text": [
      "{'Pos': 26628, 'Neg': 337372, 'TP': 303, 'TN': 335065, 'FP': 2307, 'FN': 26325, 'Accuracy': 0.9213406593406593, 'Precision': 0.11609195402298851, 'Recall': 0.011378999549346552, 'desc': 'ols'}\n"
     ]
    }
   ],
   "source": [
    "from sklearn import linear_model\n",
    "ols = linear_model.SGDClassifier(loss=\"squared_loss\")\n",
    "ols.fit(X, y)\n",
    "joblib.dump(ols, 'ols.pkl') # pickle\n",
    "\n",
    "ols_performance = BinaryClassificationPerformance(ols.predict(X), y, 'ols')\n",
    "ols_performance.compute_measures()\n",
    "print(ols_performance.performance_measures)"
   ]
  },
  {
   "cell_type": "markdown",
   "metadata": {},
   "source": [
    "### MODEL: SVM, linear"
   ]
  },
  {
   "cell_type": "code",
   "execution_count": 227,
   "metadata": {},
   "outputs": [
    {
     "name": "stdout",
     "output_type": "stream",
     "text": [
      "{'Pos': 26628, 'Neg': 337372, 'TP': 2135, 'TN': 337369, 'FP': 3, 'FN': 24493, 'Accuracy': 0.9327032967032967, 'Precision': 0.9985968194574368, 'Recall': 0.08017875920084122, 'desc': 'svm'}\n"
     ]
    }
   ],
   "source": [
    "from sklearn import linear_model\n",
    "svm = linear_model.SGDClassifier()\n",
    "svm.fit(X, y)\n",
    "joblib.dump(svm, 'svm.pkl') # pickle\n",
    "\n",
    "svm_performance = BinaryClassificationPerformance(svm.predict(X), y, 'svm')\n",
    "svm_performance.compute_measures()\n",
    "print(svm_performance.performance_measures)"
   ]
  },
  {
   "cell_type": "markdown",
   "metadata": {},
   "source": [
    "### MODEL: logistic regression"
   ]
  },
  {
   "cell_type": "code",
   "execution_count": 260,
   "metadata": {},
   "outputs": [
    {
     "name": "stderr",
     "output_type": "stream",
     "text": [
      "/anaconda3/envs/Py36env/lib/python3.6/site-packages/sklearn/linear_model/stochastic_gradient.py:152: DeprecationWarning: n_iter parameter is deprecated in 0.19 and will be removed in 0.21. Use max_iter and tol instead.\n",
      "  DeprecationWarning)\n"
     ]
    },
    {
     "name": "stdout",
     "output_type": "stream",
     "text": [
      "{'Pos': 26628, 'Neg': 337372, 'TP': 19871, 'TN': 301896, 'FP': 35476, 'FN': 6757, 'Accuracy': 0.8839752747252747, 'Precision': 0.3590257827885884, 'Recall': 0.746244554604176, 'desc': 'lgs'}\n"
     ]
    }
   ],
   "source": [
    "from sklearn import linear_model\n",
    "\n",
    "\n",
    "#for alpha in range(1, 5, 0.1):  #range只能取整数\n",
    "#tAlpha= np.linspace(0,1,11)\n",
    "#lgs = linear_model.SGDClassifier(loss='log', n_iter=50, alpha=alpha)\n",
    "\n",
    "# for alpha in np.linspace(0.00043, 0.0045 ,10):\n",
    "#     lgs = linear_model.SGDClassifier(loss='log', n_iter=150, alpha=alpha) # default alpha= 0.00001   测试到5\n",
    "lgs = linear_model.SGDClassifier(loss='log', n_iter=100, alpha=0.0026711)# default alpha= 0.00001   测试到5\n",
    "#     lgs = linear_model.SGDClassifier(loss='log', max_iter=100, alpha=0.00165)\n",
    "lgs.fit(X, y)\n",
    "joblib.dump(lgs, 'lgs.pkl') # pickle\n",
    "lgs_performance = BinaryClassificationPerformance(lgs.predict(X), y, 'lgs')\n",
    "lgs_performance.compute_measures()\n",
    "print(lgs_performance.performance_measures)\n",
    "# print(alpha)"
   ]
  },
  {
   "cell_type": "markdown",
   "metadata": {},
   "source": [
    "### MODEL: Naive Bayes"
   ]
  },
  {
   "cell_type": "code",
   "execution_count": 229,
   "metadata": {},
   "outputs": [
    {
     "name": "stdout",
     "output_type": "stream",
     "text": [
      "{'Pos': 26628, 'Neg': 337372, 'TP': 14542, 'TN': 312099, 'FP': 25273, 'FN': 12086, 'Accuracy': 0.8973653846153846, 'Precision': 0.36523923144543513, 'Recall': 0.546116869460718, 'desc': 'nbs'}\n"
     ]
    }
   ],
   "source": [
    "from sklearn.naive_bayes import MultinomialNB\n",
    "nbs = MultinomialNB()\n",
    "nbs.fit(X, y)\n",
    "joblib.dump(nbs, 'nbs.pkl') # pickle\n",
    "\n",
    "nbs_performance = BinaryClassificationPerformance(nbs.predict(X), y, 'nbs')\n",
    "nbs_performance.compute_measures()\n",
    "print(nbs_performance.performance_measures)"
   ]
  },
  {
   "cell_type": "markdown",
   "metadata": {},
   "source": [
    "### MODEL: Perceptron"
   ]
  },
  {
   "cell_type": "code",
   "execution_count": 230,
   "metadata": {},
   "outputs": [
    {
     "name": "stderr",
     "output_type": "stream",
     "text": [
      "/anaconda3/envs/Py36env/lib/python3.6/site-packages/sklearn/linear_model/stochastic_gradient.py:166: FutureWarning: max_iter and tol parameters have been added in SGDClassifier in 0.19. If both are left unset, they default to max_iter=5 and tol=None. If tol is not None, max_iter defaults to max_iter=1000. From 0.21, default max_iter will be 1000, and default tol will be 1e-3.\n",
      "  FutureWarning)\n"
     ]
    },
    {
     "name": "stdout",
     "output_type": "stream",
     "text": [
      "{'Pos': 26628, 'Neg': 337372, 'TP': 19560, 'TN': 267443, 'FP': 69929, 'FN': 7068, 'Accuracy': 0.7884697802197802, 'Precision': 0.2185743499201019, 'Recall': 0.7345651194231636, 'desc': 'prc'}\n"
     ]
    }
   ],
   "source": [
    "from sklearn import linear_model\n",
    "# for randomS in range(1, 50,1):\n",
    "prc = linear_model.SGDClassifier(loss='perceptron', random_state=21)\n",
    "prc.fit(X, y)\n",
    "joblib.dump(prc, 'prc.pkl') # pickle\n",
    "\n",
    "prc_performance = BinaryClassificationPerformance(prc.predict(X), y, 'prc')\n",
    "prc_performance.compute_measures()\n",
    "#     print(randomS)\n",
    "print(prc_performance.performance_measures)"
   ]
  },
  {
   "cell_type": "markdown",
   "metadata": {},
   "source": [
    "### MODEL: Ridge Regression Classifier"
   ]
  },
  {
   "cell_type": "code",
   "execution_count": 243,
   "metadata": {},
   "outputs": [
    {
     "name": "stdout",
     "output_type": "stream",
     "text": [
      "{'Pos': 26628, 'Neg': 337372, 'TP': 8093, 'TN': 336806, 'FP': 566, 'FN': 18535, 'Accuracy': 0.9475247252747253, 'Precision': 0.9346344843515417, 'Recall': 0.30392819588403186, 'desc': 'rdg'}\n"
     ]
    },
    {
     "name": "stderr",
     "output_type": "stream",
     "text": [
      "/anaconda3/envs/Py36env/lib/python3.6/site-packages/sklearn/linear_model/sag.py:334: ConvergenceWarning: The max_iter was reached which means the coef_ did not converge\n",
      "  \"the coef_ did not converge\", ConvergenceWarning)\n"
     ]
    }
   ],
   "source": [
    "from sklearn import linear_model\n",
    "\n",
    "\n",
    "# for NumberRRC in tqdm(np.linspace(0.0001,1,5)):\n",
    "#     rdg = linear_model.RidgeClassifier(alpha=0.5, tol=0.0001)\n",
    "rdg = linear_model.RidgeClassifier(alpha=0.5, tol=0.0001, max_iter= 500, normalize = True )\n",
    "rdg.fit(X, y)\n",
    "joblib.dump(rdg, 'rdg.pkl') # pickle\n",
    "\n",
    "rdg_performance = BinaryClassificationPerformance(rdg.predict(X), y, 'rdg')\n",
    "rdg_performance.compute_measures()\n",
    "print(rdg_performance.performance_measures)\n",
    "#     print (NumberRRC)"
   ]
  },
  {
   "cell_type": "code",
   "execution_count": 232,
   "metadata": {},
   "outputs": [
    {
     "data": {
      "text/plain": [
       "{'alpha': 0.5,\n",
       " 'class_weight': None,\n",
       " 'copy_X': True,\n",
       " 'fit_intercept': True,\n",
       " 'max_iter': 500,\n",
       " 'normalize': False,\n",
       " 'random_state': None,\n",
       " 'solver': 'auto',\n",
       " 'tol': 0.001}"
      ]
     },
     "execution_count": 232,
     "metadata": {},
     "output_type": "execute_result"
    }
   ],
   "source": [
    "rdg.get_params()"
   ]
  },
  {
   "cell_type": "markdown",
   "metadata": {},
   "source": [
    "### What is the distribution of weights, OLS vs. ridge? "
   ]
  },
  {
   "cell_type": "code",
   "execution_count": 233,
   "metadata": {},
   "outputs": [
    {
     "data": {
      "image/png": "[encoded data removed]",
      "text/plain": [
       "<Figure size 432x288 with 1 Axes>"
      ]
     },
     "metadata": {
      "needs_background": "light"
     },
     "output_type": "display_data"
    },
    {
     "data": {
      "image/png": "[encoded data removed]",
      "text/plain": [
       "<Figure size 432x288 with 1 Axes>"
      ]
     },
     "metadata": {
      "needs_background": "light"
     },
     "output_type": "display_data"
    }
   ],
   "source": [
    "plt.hist(ols.coef_[0])\n",
    "plt.show()\n",
    "\n",
    "plt.hist(rdg.coef_[0])\n",
    "plt.show()"
   ]
  },
  {
   "cell_type": "markdown",
   "metadata": {},
   "source": [
    "### MODEL: Decision Tree Classifier"
   ]
  },
  {
   "cell_type": "code",
   "execution_count": 234,
   "metadata": {},
   "outputs": [
    {
     "name": "stdout",
     "output_type": "stream",
     "text": [
      "{'Pos': 26628, 'Neg': 337372, 'TP': 17169, 'TN': 337344, 'FP': 28, 'FN': 9459, 'Accuracy': 0.9739368131868131, 'Precision': 0.9983718090364598, 'Recall': 0.644772420009013, 'desc': 'dtc'}\n"
     ]
    }
   ],
   "source": [
    "from sklearn import tree\n",
    "dtc = tree.DecisionTreeClassifier(max_depth=100)\n",
    "dtc.fit(X_matrix, y)\n",
    "joblib.dump(dtc, 'dtc.pkl') # pickle\n",
    "\n",
    "dtc_performance = BinaryClassificationPerformance(dtc.predict(X_matrix), y, 'dtc')\n",
    "dtc_performance.compute_measures()\n",
    "print(dtc_performance.performance_measures)"
   ]
  },
  {
   "cell_type": "markdown",
   "metadata": {},
   "source": [
    "### Random Forests"
   ]
  },
  {
   "cell_type": "code",
   "execution_count": 178,
   "metadata": {},
   "outputs": [],
   "source": [
    "# from sklearn.ensemble import RandomForestClassifier\n",
    "\n",
    "# #max_depth 10-100, minsamples_split 样本量大增大, n_estimators弱学习最大迭代次数， 太小欠拟合默认100//min_samples_split =120\n",
    "# rfc = RandomForestClassifier(max_depth= 100,n_estimators=100)\n",
    "# rfc.fit(X_matrix, y)\n",
    "# joblib.dump(rfc, 'rfc.pkl')\n",
    "\n",
    "# rfc_performance = BinaryClassificationPerformance(rfc.predict(X_matrix), y, 'rfc')\n",
    "# rfc_performance.compute_measures()\n",
    "# print(rfc_performance.performance_measures)\n",
    "\n"
   ]
  },
  {
   "cell_type": "code",
   "execution_count": 179,
   "metadata": {},
   "outputs": [],
   "source": [
    "# print(rfc.feature_importances_[-10:])\n",
    "# print(rfc.feature_importances_)"
   ]
  },
  {
   "cell_type": "markdown",
   "metadata": {},
   "source": [
    "### ROC plot to compare performance of various models and fits"
   ]
  },
  {
   "cell_type": "code",
   "execution_count": 261,
   "metadata": {},
   "outputs": [
    {
     "data": {
      "image/png": "[encoded data removed]",
      "text/plain": [
       "<Figure size 432x288 with 1 Axes>"
      ]
     },
     "metadata": {
      "needs_background": "light"
     },
     "output_type": "display_data"
    }
   ],
   "source": [
    "fits = [svm_performance, lgs_performance, rdg_performance, prc_performance, ols_performance, dtc_performance, nbs_performance]\n",
    "\n",
    "for fit in fits:\n",
    "    plt.plot(fit.performance_measures['FP'] / fit.performance_measures['Neg'], \n",
    "             fit.performance_measures['TP'] / fit.performance_measures['Pos'], 'ro')\n",
    "    plt.text(fit.performance_measures['FP'] / fit.performance_measures['Neg'], \n",
    "             fit.performance_measures['TP'] / fit.performance_measures['Pos'], fit.desc)\n",
    "plt.axis([0, 1, 0, 1])\n",
    "plt.title('ROC plot: training set')\n",
    "plt.xlabel('False positive rate')\n",
    "plt.ylabel('True positive rate')\n",
    "plt.show()"
   ]
  },
  {
   "cell_type": "markdown",
   "metadata": {},
   "source": [
    "## a digression: looking inside the `rdg` object\n",
    "\n",
    "[documentation](https://scikit-learn.org/stable/modules/generated/sklearn.linear_model.RidgeClassifier.html)"
   ]
  },
  {
   "cell_type": "code",
   "execution_count": 144,
   "metadata": {},
   "outputs": [
    {
     "data": {
      "text/plain": [
       "['__abstractmethods__',\n",
       " '__class__',\n",
       " '__delattr__',\n",
       " '__dict__',\n",
       " '__dir__',\n",
       " '__doc__',\n",
       " '__eq__',\n",
       " '__format__',\n",
       " '__ge__',\n",
       " '__getattribute__',\n",
       " '__getstate__',\n",
       " '__gt__',\n",
       " '__hash__',\n",
       " '__init__',\n",
       " '__init_subclass__',\n",
       " '__le__',\n",
       " '__lt__',\n",
       " '__module__',\n",
       " '__ne__',\n",
       " '__new__',\n",
       " '__reduce__',\n",
       " '__reduce_ex__',\n",
       " '__repr__',\n",
       " '__setattr__',\n",
       " '__setstate__',\n",
       " '__sizeof__',\n",
       " '__str__',\n",
       " '__subclasshook__',\n",
       " '__weakref__',\n",
       " '_abc_cache',\n",
       " '_abc_negative_cache',\n",
       " '_abc_negative_cache_version',\n",
       " '_abc_registry',\n",
       " '_decision_function',\n",
       " '_estimator_type',\n",
       " '_get_param_names',\n",
       " '_label_binarizer',\n",
       " '_predict_proba_lr',\n",
       " '_preprocess_data',\n",
       " '_set_intercept',\n",
       " 'alpha',\n",
       " 'class_weight',\n",
       " 'classes_',\n",
       " 'coef_',\n",
       " 'copy_X',\n",
       " 'decision_function',\n",
       " 'fit',\n",
       " 'fit_intercept',\n",
       " 'get_params',\n",
       " 'intercept_',\n",
       " 'max_iter',\n",
       " 'n_iter_',\n",
       " 'normalize',\n",
       " 'predict',\n",
       " 'random_state',\n",
       " 'score',\n",
       " 'set_params',\n",
       " 'solver',\n",
       " 'tol']"
      ]
     },
     "execution_count": 144,
     "metadata": {},
     "output_type": "execute_result"
    }
   ],
   "source": [
    "dir(rdg)"
   ]
  },
  {
   "cell_type": "code",
   "execution_count": 145,
   "metadata": {},
   "outputs": [
    {
     "data": {
      "text/plain": [
       "{'alpha': 0.5,\n",
       " 'class_weight': None,\n",
       " 'copy_X': True,\n",
       " 'fit_intercept': True,\n",
       " 'max_iter': None,\n",
       " 'normalize': False,\n",
       " 'random_state': None,\n",
       " 'solver': 'auto',\n",
       " 'tol': 0.0001}"
      ]
     },
     "execution_count": 145,
     "metadata": {},
     "output_type": "execute_result"
    }
   ],
   "source": [
    "rdg.get_params()"
   ]
  },
  {
   "cell_type": "code",
   "execution_count": 146,
   "metadata": {},
   "outputs": [
    {
     "data": {
      "text/plain": [
       "numpy.ndarray"
      ]
     },
     "execution_count": 146,
     "metadata": {},
     "output_type": "execute_result"
    }
   ],
   "source": [
    "type(rdg.coef_)"
   ]
  },
  {
   "cell_type": "code",
   "execution_count": 147,
   "metadata": {},
   "outputs": [
    {
     "data": {
      "text/plain": [
       "(1, 76367)"
      ]
     },
     "execution_count": 147,
     "metadata": {},
     "output_type": "execute_result"
    }
   ],
   "source": [
    "rdg.coef_.shape"
   ]
  },
  {
   "cell_type": "code",
   "execution_count": 148,
   "metadata": {},
   "outputs": [
    {
     "name": "stdout",
     "output_type": "stream",
     "text": [
      "[-0.00025118 -0.00028911  0.00095594 ...  0.04226933 -0.00469479\n",
      " -0.01371418]\n"
     ]
    }
   ],
   "source": [
    "print(rdg.coef_[0])"
   ]
  },
  {
   "cell_type": "code",
   "execution_count": 149,
   "metadata": {},
   "outputs": [
    {
     "data": {
      "image/png": "[encoded data removed]",
      "text/plain": [
       "<Figure size 432x288 with 1 Axes>"
      ]
     },
     "metadata": {
      "needs_background": "light"
     },
     "output_type": "display_data"
    }
   ],
   "source": [
    "plt.hist(rdg.coef_[0])\n",
    "plt.show()"
   ]
  },
  {
   "cell_type": "markdown",
   "metadata": {},
   "source": [
    "# looking at reviews based on their classification\n",
    "\n",
    "Let's say we decide that Ridge Regression is the best model for generalization. Let's take a look at some of the reviews and try to make a (subjective) determination of whether it's generalizing well. "
   ]
  },
  {
   "cell_type": "code",
   "execution_count": 150,
   "metadata": {},
   "outputs": [
    {
     "data": {
      "text/plain": [
       "'We tried these and I was worried that they may not work. They did work well. My family has loved trying them. We even enjoyed our lunch salad no dressing with just fruit and greek yogurt all natural. Tasty.<br />The pill was hard and took a few moments to melt but it worked right away.  It lasted for 20-25 minutes of active eating. I think the acid in the sour foods washes it away. I would try it again.'"
      ]
     },
     "execution_count": 150,
     "metadata": {},
     "output_type": "execute_result"
    }
   ],
   "source": [
    "amazon.loc[0, \"Text\"]"
   ]
  },
  {
   "cell_type": "code",
   "execution_count": 151,
   "metadata": {},
   "outputs": [
    {
     "data": {
      "text/plain": [
       "False"
      ]
     },
     "execution_count": 151,
     "metadata": {},
     "output_type": "execute_result"
    }
   ],
   "source": [
    "amazon.loc[0, \"helpful\"]"
   ]
  },
  {
   "cell_type": "code",
   "execution_count": 152,
   "metadata": {},
   "outputs": [],
   "source": [
    "ridge_predictions = rdg.predict(X)"
   ]
  },
  {
   "cell_type": "code",
   "execution_count": 153,
   "metadata": {},
   "outputs": [
    {
     "data": {
      "text/plain": [
       "(364000,)"
      ]
     },
     "execution_count": 153,
     "metadata": {},
     "output_type": "execute_result"
    }
   ],
   "source": [
    "ridge_predictions.shape"
   ]
  },
  {
   "cell_type": "code",
   "execution_count": 154,
   "metadata": {},
   "outputs": [
    {
     "name": "stdout",
     "output_type": "stream",
     "text": [
      "[False False False ...  True False False]\n"
     ]
    }
   ],
   "source": [
    "print(ridge_predictions)"
   ]
  },
  {
   "cell_type": "code",
   "execution_count": 155,
   "metadata": {},
   "outputs": [
    {
     "name": "stdout",
     "output_type": "stream",
     "text": [
      "21465\n",
      "2011-09-22 00:00:00\n",
      "5\n",
      "1\n",
      "B003710RWK\n",
      "Spring In The Air take great pride in delivering their flowers in first class condition. One needs this reassurance when sending that special gift to know the recipient will be delighted..\n",
      "* * * * * * * * * \n",
      "30300\n",
      "2011-04-07 00:00:00\n",
      "1\n",
      "7\n",
      "B0009YUI86\n",
      "October 8, 2010. The Blue Buffalo Company of Wilton, Connecticut has announced a dog food recall of certain batches of some of its popular products due to potentially toxic levels of vitamin D.<br /><br />My dog got extremely sick, and was very upset to hear of this.  Only thing that changed with his diet/life was blue buffalo.  I literally almost lost my dog last week and had to have in surgery because his gallbladder was about to explode.  He quit eating completely, was throwing up, diarrhea, and took him to the vet to realize his liver was swollen and gallbladder had to come out.  It's sad to think you pay good money for dog food and you still could be feeding him poison.  I don't know how I will every trust dog food products anymore.  Please make sure there is no recalls on food you are feeding your dog.\n",
      "* * * * * * * * * \n",
      "32288\n",
      "2012-01-11 00:00:00\n",
      "5\n",
      "0\n",
      "B00524S2JU\n",
      "i have eaten at panda express before and had very low expectations regarding  the taste  and quality of take out sauces that are given to customers.  it seems that what is dressed on the food seems to have a more concentrated flavor and are of higher quality.  i have to admit that after trying this sauce, it  seems that i was talking out of my hat.  the concentration  of flavor is comparable to the Mae  Ploy brand that i usually buy.  it has a kick and contains pieces of dried red pepper for additional heat, and serious garlic.  this stuff has a wonderful thickness which i also was not expecting.  i am waitlisted to purchase another case and will be trying additional panda flavors.\n",
      "* * * * * * * * * \n",
      "62670\n",
      "2011-03-17 00:00:00\n",
      "3\n",
      "3\n",
      "B0045XE32E\n",
      "I can't give these less than 3 stars because... well, dogs eat them.<br /><br />However, be aware that these are another brand of extremely hard dog biscuit, while most dogs I have known seem to get most excited by softer (and stinkier) treats.  In fact, these might even be harder than the common milkbone stuff.  I can't comment on taste, but soft and stinky definitely get the biggest reactions.\n",
      "* * * * * * * * * \n",
      "63687\n",
      "2009-09-30 00:00:00\n",
      "5\n",
      "7\n",
      "B0029TECEA\n",
      "This soup is very good.  It has a nice flavor and is a solid comfort food. The container makes it practical for a fast meal, especially at work. The soup contains enough chicken to validate it's name \"chunky chicken.\"  The vegetables are substantial and hearty which makes it a real chowder and a meal in itself.  Quick, easy and tasty -- you can't ask for more than that.  Enjoy.\n",
      "* * * * * * * * * \n",
      "78998\n",
      "2011-03-22 00:00:00\n",
      "5\n",
      "2\n",
      "B000EEWZG4\n",
      "For those on a totally salt free diet, this is probably the best tasting canned salmon. In my opinion, wild caught and natural is far superior to farm-raised.<br />For those on a reduced sodium diet this salmon is also ideal, because we can add salt to suit ourselves.<br />Don't discard the oil. That is where the wonderful doctor-recommended Omega-3's are contained.<br />Each can is sufficient to make two hefty sandwiches. I like to mix in two tablespoons of quick oats (to absorb the oil); some chopped onion; my favorite condiments and spices; and a bit of Redmond Real Salt (available at Amazon). Let rest a few minutes, and then spread it over whole wheat toast, or into tortillas or pita.<br />Great Stuff!\n",
      "* * * * * * * * * \n",
      "95932\n",
      "2012-09-24 00:00:00\n",
      "5\n",
      "0\n",
      "B001IW1J2W\n",
      "This is my absolute favorite diet soda. It is hard to find. I became obsessed with it at a local deli, where they make the world's best corned beef sandwich. They also offer a full line of Dr. Brown's sodas, and this one is unbelieveably delicious and goes incredibly well with corned beef on rye. No aftertaste and the black cherry flavor is sweet and unique. Makes you want to turn away from diet coke forever. Good in the can but even better ice cold in the bottle.\n",
      "* * * * * * * * * \n",
      "99585\n",
      "2007-08-22 00:00:00\n",
      "4\n",
      "0\n",
      "B00028PU00\n",
      "****<br />I enjoy bergamot a lot, but this tea was way too fragrant for me; still it was different and enjoyable to try. The bergamot flavor is strong, not subtle, and a bit overwhelming---it's all you can taste.<br /><br />The ingredients of this tea are premium black teas with pure oil of bergamot---that's all.<br /><br />The manufacturer writes: \"Oil of bergamot comes from the rind of a citrus fruit which grows very well in the Calabria region of Italy. Pure top quality oil of bergamot is expensive but no blend or man-made flavoring can match the ethereal aroma and finely nuanced flavor of the real thing. Certain Earl Grey fanatics have grown especially fond of the top grade Calabrian oil of bergamot that we use and have asked for more, ..More,... MORE! Thus was born Stash Double Bergamot Earl Grey. In our Double Bergamot Earl Grey tea, the black tea base still serves as a solid foundation for this blend, but the oil of bergamot takes wing and soars to new unprecedented heights. The flavor is quite pronounced but not at all soapy or bitter which would happen with low grade oils. Is the flavor too strong? For a conservative drinker, maybe yes, but more adventurous types really seem to like it.\"<br /><br />I must not be adventurous enough. I do agree with the manufacturer, though, and it might be the tea for you if you're a huge fan of bergamot and want a lot of it, and I also agree that it tastes pure, not soapy or bitter at all.<br />****\n",
      "* * * * * * * * * \n",
      "113251\n",
      "2010-04-16 00:00:00\n",
      "5\n",
      "3\n",
      "B000SMN0DO\n",
      "I needed to stop drinking coffee, it was creating issues within my body, my adrenals were hurting and the Pitta in me  was on more Fire than should be.  DandyBlend has helped me stop drinking coffee and I actually like it better than coffee and knowing that I am helping my body heal at the same time is a blessing.\n",
      "* * * * * * * * * \n",
      "124597\n",
      "2010-01-31 00:00:00\n",
      "4\n",
      "6\n",
      "B001GVIRYS\n",
      "2200 Calories of Tasty Zero Calorie Artificial Sweetener<br /><br />Splenda No Calorie Sweetener, Granulated.<br /><br />I like the taste, after taste and texture of this product.  I love sweets, but I am working on losing weight.  I exercise every day, but that is not enough.  I had been adding a lot of granulated Splenda (and the granulated generic sucralose sweetener) to my diet drinks, fruit, juice and almost everything. It says zero calories, so a big time sugar junkie like me should be able to eat just as much or more than the amount of sugar that I would have eaten and still lose weight.  But it was no calories, so I used even more.  Suddenly my whole world was sweet.<br /><br />But I was gaining weight and it didn't add up.  So I looked at the bag and written on there was that the product was a source of minimal calories.  I looked up sucralose and went to the Splenda web site.  There it explained that legally, if a serving has less than 5 calories then they are entitled to call it zero calories.  But the vendor decides how much is in a serving.  If you make the serving size small enough, any food can be labeled zero calorie (that's an industry serving regulation if I ever heard of one).  Splenda says the serving size is 1 teaspoon and as long as it has less than 5 calories they can call it zero calories.  Sucralose by itself really does have nearly zero calories in any amount I would use.  But I was still gaining weight<br /><br />So I looked at that bag again.  The numbers just were not adding up.  What else is in there; it sure isn't pure sucralose or there would be a lot less product in the bag.  Well, the filler is malto dextrin.  This is a safe well known sugar that has been in food products for decades.  It has calories, but not as much as table sugar.  It's about 1/8 of the calories of regular table sugar.  That is a significant reduction.  But it is not zero.  If you are using it for baking, you use a whole lot more than one teaspoon.  The bag really ought to have the calories per cup, for those who wish to use the product for sugar replacement in baking and cooking.<br /><br />I was using so much Splenda that I was adding an extra 500 calories a day.  This 1.2 pound bag has about 2200 calories.  I've switch over to pure liquid sucralose.  It's not the same and my body missed the real sugar in the mix, but I'm getting used to it.\n",
      "* * * * * * * * * \n",
      "130260\n",
      "2011-12-23 00:00:00\n",
      "5\n",
      "0\n",
      "B001E5E2M2\n",
      "This Himalayan Sea Salt is worth every penny. It is clean, less biting than other sea salt. I feel it is a bit sweeter than normal salt, while my wife says it's a more mineral taste. Compared to sel de mer, this Himalayan salt is more versatile - it can go with bolognese, seafood, and burgers equally well. And as another reviewer said, it's light pink color makes for good table conversation.\n",
      "* * * * * * * * * \n"
     ]
    },
    {
     "name": "stdout",
     "output_type": "stream",
     "text": [
      "142574\n",
      "2011-11-25 00:00:00\n",
      "5\n",
      "1\n",
      "B000VK08OC\n",
      "Wedderspoon Raw Organic Manuka Honey is an excellent product.  It has outstanding taste and appearance. It is one of the finest honeys I have ever tasted.\n",
      "* * * * * * * * * \n",
      "150934\n",
      "2011-01-20 00:00:00\n",
      "5\n",
      "3\n",
      "B001NC8HS6\n",
      "I was shopping at my local drug store late one Saturday night and I stumbled across this brand of animal crackers. I've tried Barnum and Keebler before but not this brand so I wanted to get it. These Stauffer's Animal Crackers are a lighter version of both the Barnum and Keebler. They have less fat and calories and taste more like a cracker whereas the other 2 are more like cookies. So I guess you can eat more of these without feeling as guilty. One aspect of these Animal Crackers that really stood out for me is that they have amazing shelf life. The package I bought is not the same as this one on Amazon - it more resembled a potato chip package. So I opened it and ate some and then closed it with a clip and then I forgot about it for a while. It must have been sitting there for about 2 months before I remembered I had it. So I tried it and it was as good and as fresh as new. I was amazed. Would definitely buy these again.\n",
      "* * * * * * * * * \n",
      "169401\n",
      "2012-04-25 00:00:00\n",
      "4\n",
      "0\n",
      "B001EO6DSY\n",
      "These are good but needs the water to make them rejuvenate again.  You can eat them in place of candy.\n",
      "* * * * * * * * * \n",
      "170393\n",
      "2011-07-12 00:00:00\n",
      "5\n",
      "0\n",
      "B000V6DWJY\n",
      "We are unable to find Peanut Butter Nips around here so it was great to be able to get them from ordering by e-mail. They came very fast so we didn't have to go into withdrawl. Ha Ha! Thank you. MSB\n",
      "* * * * * * * * * \n",
      "180568\n",
      "2008-01-23 00:00:00\n",
      "3\n",
      "3\n",
      "B000LLM9GQ\n",
      "Good quality canned albacore tuna has very little fishy taste or smell.  Sadly, Chicken of the Sea is not a good quality albacore tuna.<br /><br />These days, I buy albacore because \"regular\" canned tuna smells so strong,it makes me want to gag. (Think cheap cat food.)  It tastes too fishy, and is filled with less than desirable pieces. (Skin, etc.) Albacore contains \"cleaner\" meat chunks and I rarely ever see any bad bits in the can. It's paler in color and has a much more desirable flavor.<br /><br />Growing up, my Mom always bought \"regular\" tuna, (as opposed to albacore) and I never remember it smelling as strong as \"regular\" tuna does now. I've tried many different brands, and I've finally realized that I have to move to the pricier albacore for a better \"tuna\" experience.<br /><br />This Chicken of the Sea Albacore is very watery, (more to drain off) and the consistency in the can is \"loose.\" (As opposed to \"chunky\") It seems more processed than other brands. It has a stronger odor and taste than I prefer, and this will keep me from buying it again.\n",
      "* * * * * * * * * \n",
      "184035\n",
      "2011-11-28 00:00:00\n",
      "5\n",
      "0\n",
      "B004NBDBS0\n",
      "I bought this for my husband after having it recommended by a co-worker who was able to avoid prescription medication for a few more years for her rheumatoid arthritis by drinking this daily.  My husband waited 10 years to have one knee replacement and is now waiting for the \"quality of life\" determination for the second knee because of his age.  He has noticed a marked difference in his pain on a daily basis and has continued to take it daily for a couple months now.  It was cheaper here that from the web site as well.\n",
      "* * * * * * * * * \n",
      "185895\n",
      "2012-09-12 00:00:00\n",
      "4\n",
      "0\n",
      "B003O7DVRA\n",
      "I have used both Nido and <a href=\"http://www.amazon.com/gp/product/B004K0862K\">Peak Dry Whole Milk Powder, 900-Grams</a> for years and I will say that this is the runner-up for high quality,dried whole milk. It is great to have in the pantry for emergencies or if you simply can't ever get to the bottom of a carton of fresh milk before it goes off.<br />* I find that Nido doesn't dissolve as readily as Peak powder.<br />* Also,I feel that Peak simply has a superior creaminess factor to Nido,which makes it better for drinking,so I would rather use Nido for baking and cooking.<br />* Check the expiry dates before purchase if you buying for emergency purposes,aiming at a 24 month window.\n",
      "* * * * * * * * * \n",
      "186262\n",
      "2008-07-10 00:00:00\n",
      "5\n",
      "0\n",
      "B009M2LUEW\n",
      "FINALLY AN ALL NATURAL ALTERNATIVE TO ASPARTAME. THE MAKERS OF THIS SODA HAVE DONE AN AMAZING JOB. RICH ROBUST ROOTBEER FLAVOR, NO AFTERTASTE, AND NO CALORIES. WHAT MORE COULD I ASK FOR?  DEEEE-LICIOUS!!!!!!!!!!!!!!!\n",
      "* * * * * * * * * \n",
      "203068\n",
      "2012-09-15 00:00:00\n",
      "4\n",
      "1\n",
      "B005HE1KRQ\n",
      "I bought a bag of this stuff just for kicks. I like Cream of Rice and usually make it with a little butter and salt. I had no idea what Teff would taste like, but it is fantastic, it really is! Kind of like a nutty Cream of Rice but with a very nice consistency. I am definitely a converted Teff eater!<br /><br />I followed the directions on the bag: boil 2 cups of lightly salted water, then add 1/2 cup of Teff. It says to cover and let it simmer for 15-20 minutes or until all the water is absorbed. The first time I made it, the Teff was all over the inside of the pot and cover. So it needs to be on a very low simmer. I find that it works best to cook it like they say but stir it around 2-3 times during the first 15 minutes.<br /><br />UPDATE: By the way, if you cook it the entire time with the cover on like the directions say, the water won't evaporate. I remove the cover about half-way through. I set the kitchen timer for 5 minute intervals and simmer the Teff, then come back and stir it. After 10 minutes, I leave the cover off, otherwise the water won't evaporate and it will be too watery.<br /><br />If you don't use a low simmer, it will stick to the sides of the pot so you have to stir it to make sure it doesn't stick to the bottom.<br /><br />It takes around 17-18 minutes, it has the consistency of a bit loose Cream of Rice or oatmeal in terms of how much water stays in. I turn off the heat and keep stirring until it stops bubbling, then put it in a bowl.<br /><br />Note: The portion size above and on the instructions yields a huge bowl of the stuff, definitely two big servings. Cut the ingredients in half for one serving. Also, don't over-salt it, it seems to carry the salt taste pretty well.<br /><br />I mix about a 1/4 teaspoon of butter and a bit more salt to taste and it is really delicious, it really is. Definitely recommended. Although it is a bit expensive. But it's good! In fact, I'd say it's probably the best hot breakfast cereal I ever ate -- except I eat it all the time, for a snack!<br /><br />It gets 5 stars as a food, but I dropped a star because it is a bit fussy to cook. But if I can do it, anyone can!\n",
      "* * * * * * * * * \n",
      "216307\n",
      "2012-01-02 00:00:00\n",
      "1\n",
      "5\n",
      "B0013M5EM8\n",
      "I Ordered Truffle Salt, but got Procini salt instead...Item is marked not for return, sent Amazon an email, waiting to hear back from someone...\n",
      "* * * * * * * * * \n",
      "220823\n",
      "2008-08-14 00:00:00\n",
      "1\n",
      "64\n",
      "B001EO5T52\n",
      "I ordered some xylitol and erythritol products from this company and found some of them had a very, very strange, foul smell. Kinda like mothballs. They get some of their products made in China (the erythritol, apparently), so I called the company with my concerns, worried about possible contamination. I waited politely while the receptionist asked the CEO if I could have a refund just for the strange smelling items (even though it is listed on the web site as refundable). She came back and said, yeah, they'd take it back this once, but they would never accept another order from me again. Next she started to chastise me for ordering more than one of the same thing since I'd never ordered from them before. (Note: I only wanted a refund for the unopened bags of the item in question. I did not ask to return anything else in the order.)<br /><br />I explained that I had ordered it before from another company, but she interrupted me to say that I should test one item from each new company before assuming the items are the same. Well, in chemistry class we've learned that pure chemical substances should be the same, and it says as much on their own web site. While I was pointing this out, she hung up on me.<br /><br />I had ordered a wide variety of this companies products - xylitol, erythritol, candies, gums, etc. Some were ok, but the ones that had the bad smell had me worried. I was very surprised when they did not want to stand behind their product guarantee and told me not to order again when I was only returning the items that seemed to be defective. I have learned that some products are made in the US, but when I called I only inquired about the erythritol, which they themselves confirmed was made in China.<br /><br />NOW foods offers the same items that I have ordered and they smell and taste just as sweet as sugar. They are also available here on Amazon.com.<br />Try them instead -- I am sticking with them from now on.<br /><br />---------------------------------<br />-I ordered a wide variety of things, including this item: erythritol, xylitol, gum, candy, etc. It included this item and a lot of other things.<br />-I asked only for money back on items I tried that were suspect as being defective, and then only for the items I had not opened.<br />-I asked the manufacturer if the items were safe to consume, given the very odd odor some of them emitted.  This was as a result of a legitimate concern.<br />-I did not know at the time that only some products came from China -- the customer service rep did not make that distinction when I asked. I was therefore worried about all of them.<br />-My review concerns primarily the customer service problems I had, as well as the concern with the origin of their products I had ordered in general.<br /><br />Personally I think it is odd that when I called to return a small part of a rather large order that the customer service rep did not want to honor the guaranteed refund posted on the web site. She literally chastised me for asking to return the items since I had ordered several of the same thing. How was I to know the substance would smell so badly? She said I should have just ordered one. What difference does it make since I had only opened one? The others were perfectly sealed. She said she would take them back after much ado, and then said they would never accept another order from me. (Like I would anyway after that).<br /><br />This company should not post a guaranteed refund when they don't mean it.\n",
      "* * * * * * * * * \n",
      "222207\n",
      "2010-07-06 00:00:00\n",
      "3\n",
      "0\n",
      "B0032G6O18\n",
      "Planted the seeds, half the package of seeds has sprouted.  Can't really say how well the plants will turn out since it is appx 80 days to maturity!  Have my fingers crossed that I will have enough to make a large batch of Salsa!\n",
      "* * * * * * * * * \n",
      "224922\n",
      "2012-03-08 00:00:00\n",
      "5\n",
      "1\n",
      "B0069H08A0\n",
      "I had this on my shelf unopened for several months, picked up on a whim and forgotten until snowstorm food became boring. By itself on lettuce, arugula, green beans, sprinkled on the Rancho Gordo heirloom beans. Makes a simple salad or veggie dish a refreshing experience. Like most quality foods, you do not need as much and you are satisfied after eating them. I am a quality over quantity cook.<br /><br />I will be stocking up!\n",
      "* * * * * * * * * \n"
     ]
    },
    {
     "name": "stdout",
     "output_type": "stream",
     "text": [
      "291579\n",
      "2011-06-05 00:00:00\n",
      "1\n",
      "2\n",
      "B000KV61FC\n",
      "The package says that this is supposed to be practically break-proof, which I thought was perfect for my year-old Beauceron who is a pretty aggressive chewer.  Finally!  A toy that would make his brain work and keep him occupied.<br /><br />Three uses.  First one he very quickly discovered how to get the treats right out.  Second, he learned how to get the screw-off bottom to come off of the jug.  Third time - he chewed the plastic to bits by the time I got it away from him - and he was in the same room with me!<br /><br />I'm a dog trainer and only recommend high-endurance products for my clients.  This didn't even come *close* to meeting my expectations!  Total disappointment.  Will not buy another 'Premier' Busy Buddy toy for my chewer!<br /><br />At almost 3 years old, we still rely on the blue K9 Kongs, Holey Moley, and Everlast Treat balls to stand up to his strong jaws and chew drive!\n",
      "* * * * * * * * * \n",
      "301947\n",
      "2009-09-10 00:00:00\n",
      "5\n",
      "0\n",
      "B000PDN3E2\n",
      "Dump a .70c can of tuna in this and you've got a meal that beats many gourmet meals I've had over the years for pocket change. Also you can add frozen vegetables and green onions if you wish. I like adding frozen peas. I dont find an egg works that well in these noodles, I add egg to the Shin Ramyun spicy noodles however.<br /> I find most people who dont like these dont add ingredients to the noodles. Trust me dump that tuna in and it's a whole new ballgame.<br /> Also adjust the amount of water you boil down slightly if you put the tuna water in there also.\n",
      "* * * * * * * * * \n",
      "304052\n",
      "2010-08-22 00:00:00\n",
      "5\n",
      "19\n",
      "B003MP15TU\n",
      "Okay so I ordered every flavor of these during the summer sale in June were most of the flavors $12, and if you signed up \"Subscribe and Save\" they were $10.50 each.  So, I will be putting up reviews as I open each box.  They have been in the fridge (keeps me from random snacking) and I opened Dark Chocolate, Chocolate Mudslide, and Mixed Nuts & White Chocolate last night.  I am 5'3\" and 118 and I try to add some protein to my diet with bars like this.  My review will only be for the Mixed Nuts & White Chocolate (others on the appropriate product pages.)  I will start with what EVERYONE really cares about: TASTE!  These bar tasted incredible to me!!!! Nutty, sweet, light, creamy white chocolate, chewy consistency, NO chemical taste, sweet but not too sweet. I read the nutrient profile and the ingredient list, and I am really pleased with the ingredient quality.  This is what attracted me to the product.  It is very low sugar, gluten free, and wheat free.  This is great for those watching their waistline.  On the other hand, it has a pretty sizeable fat content.  This one has 12(!!!) grams of fat.  So just be aware of that when including in your diet, too many of these and you WILL gain weight!  The protein is okay (10 grams), as much as 1.5 oz of grilled chicken.  (Although chicken breast doesn't have this much fat, and that's not enough chicken to fill anyone up.)  The sodium isn't bad (110 mg).  There are 8 net carbs, which subtract out the fiber and sugar alcohols (the sugar alcohols are in debate as to whether your body burns them as calories or not.)  The calories, fat, protein, and carbs are equal to: a large plain green salad, 1.5 oz chicken breast, 2 cups broccoli, almost a full tablespoon of oil.  So I say that to illustrate that this is definitely a healthy MEAL REPLACEMENT for those on the go (if you add veggies and soup) and really has TOO MANY calories for a full bar to be a snack. It also doesn't have enough heaviness/volume in your stomach to make you feel full for four hours until your next meal.  It is kind a lightweight bar compared to thinkTHIN's regular 20gram protein bars (Read my review for Dark Chocolate and Chocolate Mudslide, those have a preferable nutrient profile for a meal replacement.)  I don't really think any bar that has more fat than protein is helpful, people will still be hungry and gain weight. They do not really have enough protein to eat as a meal replacement because you will be hungry in less than four hours after eating.  If you do use as a meal replacement, add a broth soup and a large green salad with low-cal dressing, or veggies (most grocery stores sell washed broccoli, cauliflower, and carrots that you can eat on the go.)  Another way to incorporate these DELICIOUS bars into your routine is a breakfast.  Perfect for on the go and it's hard to eat more before lunch even if you do get hungry (which most people don't get very hungry before lunch.)  So in summary: EXCELLENT ALL NATURAL INGREDIENTS; DELICIOUS, SWEET NUTTY FLAVOR WITH CREAMY WHITE CHOCOLATE (as good as a candy bar); CONVENIENT PACKAGING; WEAK VITAMIN & MINERAL PROFILE (you'll still need a comprehensive multivitamin daily); CONVENIENT SOURCE OF PROTEIN; GREAT SNACK (if you eat half as a snack or the other half later in the day as a snack.)  THE PRICE IS RIGHT too based on Amazon's deal vs. in store pricing on these bars.  They are very expensive in retail stores, Amazon is selling them almost 50% off.  Helpful hint: if you sign up for Subscribe & Save, you get the best price.  You can set your shipments to every six months, and even if you don't want them then, you can delay shipment.  The point is, you really never have to buy more later in order to get the best price now.  You can keep deferring shipment.  Not saying that to scam Amazon, just saying that may help more people be willing to try a delicious bar if the price is right.  I hope this review helped you make a purchasing decision, either for or against the product.  I know I hate to waste my money, and I wanted to give a honest review.\n",
      "* * * * * * * * * \n",
      "311044\n",
      "2012-07-13 00:00:00\n",
      "5\n",
      "1\n",
      "B007678CL4\n",
      "Using Thin Shot revved up my metabolism and gave me lots of energy! I've lost 16 pds in 3 months using it. Im very grateful for the little push it has given me in my weight loss journey.\n",
      "* * * * * * * * * \n",
      "338045\n",
      "2012-02-21 00:00:00\n",
      "5\n",
      "0\n",
      "B001F0RRU0\n",
      "My dog loves these!  I first purchased them for Gus who would bring me his bone to get more.  He absolutely loved them--as does Scout, my current dog.  She gets so excited when she sees me get them out for her!\n",
      "* * * * * * * * * \n"
     ]
    }
   ],
   "source": [
    "# false positives\n",
    "\n",
    "import random, time\n",
    "\n",
    "for i in range(0, len(ridge_predictions)):\n",
    "    if (ridge_predictions[i] == True):\n",
    "        if (amazon.loc[i, \"helpful\"] == False):\n",
    "            if (random.uniform(0, 1) < 0.05):\n",
    "                print(i)\n",
    "                print(time.strftime('%Y-%m-%d %H:%M:%S', time.gmtime(amazon.loc[i, \"Time\"])))\n",
    "                print(amazon.loc[i, \"Score\"])\n",
    "                print(amazon.loc[i, \"HelpfulnessDenominator\"])\n",
    "                print(amazon.loc[i, \"ProductId\"])\n",
    "                print(amazon.loc[i, \"Text\"])\n",
    "                print('* * * * * * * * * ')"
   ]
  },
  {
   "cell_type": "code",
   "execution_count": null,
   "metadata": {},
   "outputs": [],
   "source": []
  },
  {
   "cell_type": "code",
   "execution_count": null,
   "metadata": {},
   "outputs": [],
   "source": []
  },
  {
   "cell_type": "code",
   "execution_count": null,
   "metadata": {},
   "outputs": [],
   "source": []
  }
 ],
 "metadata": {
  "kernelspec": {
   "display_name": "Python 3",
   "language": "python",
   "name": "python3"
  },
  "language_info": {
   "codemirror_mode": {
    "name": "ipython",
    "version": 3
   },
   "file_extension": ".py",
   "mimetype": "text/x-python",
   "name": "python",
   "nbconvert_exporter": "python",
   "pygments_lexer": "ipython3",
   "version": "3.6.8"
  }
 },
 "nbformat": 4,
 "nbformat_minor": 1
}
