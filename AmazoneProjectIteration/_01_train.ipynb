{
 "cells": [
  {
   "cell_type": "markdown",
   "metadata": {},
   "source": [
    "# Training Set"
   ]
  },
  {
   "cell_type": "code",
   "execution_count": 1,
   "metadata": {},
   "outputs": [],
   "source": [
    "import numpy as np\n",
    "import pandas as pd\n",
    "import matplotlib.pyplot as plt\n",
    "from sklearn.externals import joblib\n",
    "%matplotlib inline\n",
    "\n",
    "from tqdm import tqdm\n",
    "# from time import sleep"
   ]
  },
  {
   "cell_type": "markdown",
   "metadata": {},
   "source": [
    "### Read raw training data"
   ]
  },
  {
   "cell_type": "code",
   "execution_count": 2,
   "metadata": {},
   "outputs": [
    {
     "name": "stdout",
     "output_type": "stream",
     "text": [
      "(364000, 14)\n"
     ]
    }
   ],
   "source": [
    "# OS PATH'/Users/working/Documents/ParsonsSchool/Sp19/MachineLearning/DATASET/amazon_data/raw_data_train.csv'\n",
    "# WINDOWS PATH \"C:/Users/randa/Documents/MLdataset/amazon_data/raw_data_train.csv\"\n",
    "amazon = pd.read_csv('/Users/working/Documents/ParsonsSchool/Sp19/MachineLearning/DATASET/amazon_data/raw_data_train.csv')\n",
    "print(amazon.shape)"
   ]
  },
  {
   "cell_type": "code",
   "execution_count": 3,
   "metadata": {
    "scrolled": true
   },
   "outputs": [
    {
     "name": "stdout",
     "output_type": "stream",
     "text": [
      "   Unnamed: 0  Unnamed: 0.1      Id   ProductId          UserId  \\\n",
      "0      161979        251062  251063  B002INDU22  A16M0DLZ493518   \n",
      "1       72164        206109  206110  B0050JLAEQ  A2B940BLM1T0V3   \n",
      "2      452002        334972  334973  B003D4MW38  A2I8UYFVJ5TLHT   \n",
      "3      419090        119275  119276  B003Z7VYXW  A1YC6AYVXK7NRQ   \n",
      "4      304509         90726   90727  B003OB4BOS  A29NOSP1RGTQNK   \n",
      "\n",
      "         ProfileName  HelpfulnessNumerator  HelpfulnessDenominator  Score  \\\n",
      "0            do-good                     0                       0      4   \n",
      "1              donna                     0                       0      5   \n",
      "2         greenie227                     1                       1      5   \n",
      "3  DesDaz \"torr0015\"                     2                       2      5   \n",
      "4               Josh                     0                       0      4   \n",
      "\n",
      "         Time                           Summary  \\\n",
      "0  1331337600                             Works   \n",
      "1  1348617600    She loves, it, I love it, too!   \n",
      "2  1309737600  Excellent tea, and fast shipping   \n",
      "3  1326240000    Great results, terrific price!   \n",
      "4  1300924800                   not that spicy!   \n",
      "\n",
      "                                                Text  helpScore  helpful  \n",
      "0  We tried these and I was worried that they may...        NaN    False  \n",
      "1  My vet recommended my 11 year old cat change h...        NaN    False  \n",
      "2  This is terrific tea. I bought it to make iced...        1.0    False  \n",
      "3  I have had excellent results with this yeast. ...        1.0    False  \n",
      "4  I wasn't too disappointed, but as someone who ...        NaN    False  \n",
      "0.07315384615384615\n"
     ]
    }
   ],
   "source": [
    "print(amazon.head())\n",
    "print(amazon['helpful'].mean())"
   ]
  },
  {
   "cell_type": "markdown",
   "metadata": {},
   "source": [
    "# Remove Stopwords"
   ]
  },
  {
   "cell_type": "code",
   "execution_count": 4,
   "metadata": {
    "scrolled": true
   },
   "outputs": [],
   "source": [
    "# from gensim.parsing.preprocessing import remove_stopwords\n",
    "# # remove stop words in amazon.Text\n",
    "# amazon['Text'] = amazon['Text'].apply(remove_stopwords)\n",
    "# #newText = amazon['Text'].apply(remove_stopwords)\n",
    "# print(amazon.Text)\n",
    "\n"
   ]
  },
  {
   "cell_type": "code",
   "execution_count": 5,
   "metadata": {},
   "outputs": [
    {
     "name": "stdout",
     "output_type": "stream",
     "text": [
      "**************************************************\n"
     ]
    },
    {
     "name": "stderr",
     "output_type": "stream",
     "text": [
      "  0%|          | 13/364000 [00:00<49:34, 122.37it/s]"
     ]
    },
    {
     "name": "stdout",
     "output_type": "stream",
     "text": [
      "[b'world/NN', b'be/VB', b'go/VB']\n"
     ]
    },
    {
     "name": "stderr",
     "output_type": "stream",
     "text": [
      "100%|██████████| 364000/364000 [44:05<00:00, 137.61it/s]\n"
     ]
    }
   ],
   "source": [
    "#Lemmatization \n",
    "\n",
    "\n",
    "\n",
    "# import nltk\n",
    "# nltk.download('wordnet')\n",
    "# from nltk.stem import WordNetLemmatizer \n",
    "#Init the Wordnet Lemmatizer\n",
    "# lemmatizer = WordNetLemmatizer()\n",
    "\n",
    "#print(amazon['Text'][0])\n",
    "#print(lemmatizer.lemmatize(amazon['Text'][0]))\n",
    "\n",
    "#gensim lemmatize needs pattern, but it is only support python 2.7 or 3.6 below\n",
    "\n",
    "from gensim.utils import lemmatize\n",
    "print('**************************************************')\n",
    "print(lemmatize('Hello World! How is it going?!'))\n",
    "\n",
    "\n",
    "# lemmAmazon=[]\n",
    "# for x in amazon['Text']:\n",
    "#     #for y in amazon['Text'][x]:\n",
    "#     lemmAmazon.append([wd.decode('utf-8').split('/')[0] for wd in lemmatize(x)])\n",
    "# print(lemmAmazon)\n",
    "\n",
    "\n",
    "    \n",
    "# [wd.decode('utf-8').split('/')[0] for wd in lemmatize('Hello World! How is it going?!')]\n",
    "# amazon['Text'] = amazon['Text'].apply(lemmatize)\n",
    "# print(amazon.Text.head())\n",
    "\n",
    "\n",
    "# leText=newText.apply(lemmatizer.lemmatize)\n",
    "# print(lemmatizer.lemmatize(\"my bats\"))\n",
    "\n",
    "\n",
    "# too slow\n",
    "# for i,w in tqdm(enumerate(amazon['Text'])):\n",
    "#     amazon['Text'][i] = [[wd.decode('utf-8').split('/')[0] for wd in lemmatize(w)]]\n",
    "\n",
    "amaLemma=[]\n",
    "for w in tqdm(amazon['Text']):\n",
    "    amaLemma.append([wd.decode('utf-8').split('/')[0] for wd in lemmatize(w)])"
   ]
  },
  {
   "cell_type": "code",
   "execution_count": 6,
   "metadata": {},
   "outputs": [
    {
     "name": "stdout",
     "output_type": "stream",
     "text": [
      "try\n"
     ]
    }
   ],
   "source": [
    "print(amaLemma[0][0])"
   ]
  },
  {
   "cell_type": "code",
   "execution_count": 7,
   "metadata": {},
   "outputs": [
    {
     "name": "stdout",
     "output_type": "stream",
     "text": [
      "364000\n",
      "<class 'list'>\n",
      "['try', 'be', 'worry', 'not', 'work', 'do', 'work', 'well', 'family', 'have', 'love', 'try', 'even', 'enjoy', 'lunch', 'salad', 'dressing', 'just', 'fruit', 'greek', 'yogurt', 'natural', 'tasty', 'pill', 'be', 'hard', 'take', 'few', 'moment', 'melt', 'work', 'right', 'away', 'last', 'minute', 'active', 'eating', 'think', 'acid', 'sour', 'food', 'wash', 'away', 'try', 'again']\n",
      "['vet', 'recommend', 'year', 'old', 'cat', 'change', 'diet', 'due', 'blood', 'work', 'come', 'back', 'number', 'be', 'slightly', 'elevated', 'vet', 'say', 'help', 'maintain', 'kidney', 'filter', 'properly', 'put', 'special', 'canned', 'food', 'thank', 'god', 'love', 'food', 'purina', 'kidney', 'function', 'seem', 'be', 'be', 'liking', 'thus', 'far', 'tried', 'science', 'diet', 'walk', 'away', 'recommend', 'food', 'pet']\n",
      "                                                        0\n",
      "0       [try, be, worry, not, work, do, work, well, fa...\n",
      "1       [vet, recommend, year, old, cat, change, diet,...\n",
      "2       [be, terrific, tea, buy, make, iced, tea, get,...\n",
      "3       [have, have, excellent, result, yeast, open, f...\n",
      "4       [wasn, too, disappointed, someone, enjoy, spic...\n",
      "5       [mom, have, have, bustelo, cafe, just, used, g...\n",
      "6       [try, sample, liked, several, however, try, ca...\n",
      "7       [discover, sweetener, couple, month, ago, have...\n",
      "8       [rooibos, tea, be, great, healing, skin, condi...\n",
      "9       [use, kretschmer, wheatgerm, homemade, granola...\n",
      "10      [be, best, hazelnut, ve, have, year, be, very,...\n",
      "11      [used, always, go, jamba, juice, match, green,...\n",
      "12      [be, black, not, ink, black, re, used, see, ca...\n",
      "13      [highly, recommend, taste, great, fact, now, r...\n",
      "14      [buy, package, month, old, practice, self, fee...\n",
      "15      [buy, think, taste, peppermint, patty, reviewe...\n",
      "16      [used, buy, pack, almost, daily, pack, see, ca...\n",
      "17      [bread, be, very, easy, make, be, make, bread,...\n",
      "18      [best, taste, honey, have, ever, try, forget, ...\n",
      "19      [aromatic, coffee, better, starbucks, burnt, s...\n",
      "20      [get, regular, cold, coffee, think, expresso, ...\n",
      "21      [stuff, be, good, almost, single, kernel, pop,...\n",
      "22      [haven, be, able, get, year, glad, get, amazon...\n",
      "23      [excellent, dinner, option, elderly, mother, e...\n",
      "24      [send, gift, mom, mother, day, love, be, very,...\n",
      "25      [own, whirly, pop, buy, brand, popcorn, simila...\n",
      "26      [avoid, make, china, snack, beloved, lucky, mo...\n",
      "27      [tea, have, delicious, toast, flavor, come, ap...\n",
      "28      [chicken, dinner, be, real, hit, year, old, to...\n",
      "29      [let, just, say, be, little, apprehensive, fir...\n",
      "...                                                   ...\n",
      "363970  [love, protein, shake, taste, coconut, vanilla...\n",
      "363971  [husband, buy, case, popcorn, base, star, revi...\n",
      "363972  [order, out, be, intrigue, know, taste, br, ta...\n",
      "363973  [have, cat, struvite, crystal, have, be, used,...\n",
      "363974  [fine, flavor, tea, have, wonderful, kick, lef...\n",
      "363975  [be, excite, get, lickety, stik, dog, sound, g...\n",
      "363976  [start, purchase, daughter, be, month, old, st...\n",
      "363977  [have, idea, have, idea, mix, raman, noodle, c...\n",
      "363978  [coffee, say, medium, roast, be, actually, lit...\n",
      "363979  [just, start, make, vegetarian, dish, help, bo...\n",
      "363980  [cat, love, taste, food, be, very, healthy, ea...\n",
      "363981  [st, cat, really, don, eat, brand, much, relis...\n",
      "363982  [be, best, beer, sausage, ve, come, decade, ta...\n",
      "363983  [lavendar, be, so, fragrant, smell, front, ste...\n",
      "363984  [tree, look, nice, unfortunately, be, not, pac...\n",
      "363985  [strong, bold, intense, usually, don, strong, ...\n",
      "363986  [have, cat, seem, like, food, cat, be, general...\n",
      "363987  [have, year, old, boy, year, old, girl, mixed,...\n",
      "363988  [have, try, many, different, brand, year, safe...\n",
      "363989  [have, think, work, yet, do, time, time, again...\n",
      "363990  [dog, love, sit, next, counter, keep, wait, more]\n",
      "363991  [be, fantastic, people, be, so, busy, need, fa...\n",
      "363992  [taste, pretty, good, doubt, purchase, again, ...\n",
      "363993  [berry, flavor, be, very, strong, fact, far, t...\n",
      "363994  [popcorn, taste, old, fashion, homemade, popco...\n",
      "363995  [girl, love, long, car, ride, be, go, nj, be, ...\n",
      "363996  [too, early, know, be, recommend, product, hel...\n",
      "363997  [note, amazon, please, continue, carry, produc...\n",
      "363998  [fancy, grade, be, good, get, not, be, disappo...\n",
      "363999  [grateful, keurig, coffee, maker, taste, green...\n",
      "\n",
      "[364000 rows x 1 columns]\n"
     ]
    }
   ],
   "source": [
    "amazon['Text'].tail()\n",
    "\n",
    "\n",
    "print(len(amaLemma))\n",
    "print(type(amaLemma))\n",
    "\n",
    "print(amaLemma[0])\n",
    "print(amaLemma[1])\n",
    "\n",
    "amaNp=np.array(amaLemma)\n",
    "amaDF=pd.DataFrame(amaNp)\n",
    "\n",
    "amaDF.to_csv('/Users/working/Documents/ParsonsSchool/Sp19/MachineLearning/DATASET/amazon_data/AmazonLemmatizedWithStopwords.csv')\n",
    "print(amaDF)\n",
    "#amaLemma.to_csv('/Users/working/Documents/ParsonsSchool/Sp19/MachineLearning/DATASET/amazon_data/AmazonLemmatized.csv')\n",
    "\n",
    "# amaLemmaDF = pd.DataFrame(amaLemma, columns=['Text'])\n",
    "\n"
   ]
  },
  {
   "cell_type": "code",
   "execution_count": 8,
   "metadata": {},
   "outputs": [
    {
     "name": "stdout",
     "output_type": "stream",
     "text": [
      "                                                   0\n",
      "0  [try, be, worry, not, work, do, work, well, fa...\n",
      "1  [vet, recommend, year, old, cat, change, diet,...\n",
      "2  [be, terrific, tea, buy, make, iced, tea, get,...\n",
      "3  [have, have, excellent, result, yeast, open, f...\n",
      "4  [wasn, too, disappointed, someone, enjoy, spic...\n",
      "<class 'pandas.core.frame.DataFrame'>\n",
      "['try', 'be', 'worry', 'not', 'work', 'do', 'work', 'well', 'family', 'have', 'love', 'try', 'even', 'enjoy', 'lunch', 'salad', 'dressing', 'just', 'fruit', 'greek', 'yogurt', 'natural', 'tasty', 'pill', 'be', 'hard', 'take', 'few', 'moment', 'melt', 'work', 'right', 'away', 'last', 'minute', 'active', 'eating', 'think', 'acid', 'sour', 'food', 'wash', 'away', 'try', 'again']\n"
     ]
    }
   ],
   "source": [
    "print(amaDF.head())\n",
    "print(type(amaDF))\n",
    "print(amaDF[0][0])\n",
    "\n",
    "# print(amaDF[0][0].dtypes)"
   ]
  },
  {
   "cell_type": "code",
   "execution_count": null,
   "metadata": {},
   "outputs": [],
   "source": []
  },
  {
   "cell_type": "code",
   "execution_count": 9,
   "metadata": {},
   "outputs": [
    {
     "name": "stdout",
     "output_type": "stream",
     "text": [
      "0    try be worry not work do work well family have...\n",
      "1    vet recommend year old cat change diet due blo...\n",
      "2    be terrific tea buy make iced tea get smooth l...\n",
      "3    have have excellent result yeast open first pa...\n",
      "4    wasn too disappointed someone enjoy spicy food...\n",
      "Name: 0, dtype: object\n"
     ]
    }
   ],
   "source": [
    "# lemmAmazon[0]\n",
    "\n",
    "# jointTest=' '.join(lemmAmazon[0])\n",
    "\n",
    "amaDFOut = amaDF[0].apply(' '.join)\n",
    "print(amaDFOut.head())\n"
   ]
  },
  {
   "cell_type": "code",
   "execution_count": 10,
   "metadata": {},
   "outputs": [
    {
     "name": "stdout",
     "output_type": "stream",
     "text": [
      "try be worry not work do work well family have love try even enjoy lunch salad dressing just fruit greek yogurt natural tasty pill be hard take few moment melt work right away last minute active eating think acid sour food wash away try again\n",
      "We tried these and I was worried that they may not work. They did work well. My family has loved trying them. We even enjoyed our lunch salad no dressing with just fruit and greek yogurt all natural. Tasty.<br />The pill was hard and took a few moments to melt but it worked right away.  It lasted for 20-25 minutes of active eating. I think the acid in the sour foods washes it away. I would try it again.\n",
      "364000\n"
     ]
    }
   ],
   "source": [
    "print(amaDFOut[0])\n",
    "print(amazon[\"Text\"][0])\n",
    "\n",
    "print(len(amaDFOut))"
   ]
  },
  {
   "cell_type": "markdown",
   "metadata": {},
   "source": [
    "### Feature extraction on natural language data"
   ]
  },
  {
   "cell_type": "markdown",
   "metadata": {},
   "source": [
    "### Extraction By CountVecorizer"
   ]
  },
  {
   "cell_type": "code",
   "execution_count": 12,
   "metadata": {},
   "outputs": [
    {
     "name": "stderr",
     "output_type": "stream",
     "text": [
      "/anaconda3/envs/Py36env/lib/python3.6/site-packages/ipykernel_launcher.py:5: FutureWarning: Method .as_matrix will be removed in a future version. Use .values instead.\n",
      "  \"\"\"\n"
     ]
    },
    {
     "name": "stdout",
     "output_type": "stream",
     "text": [
      "[[0 0 0 ... 0 0 0]\n",
      " [0 0 0 ... 0 0 0]\n",
      " [0 0 0 ... 0 0 0]\n",
      " ...\n",
      " [0 0 0 ... 0 0 0]\n",
      " [0 0 0 ... 0 0 0]\n",
      " [0 0 0 ... 0 0 0]]\n"
     ]
    }
   ],
   "source": [
    "# # http://scikit-learn.org/stable/modules/generated/sklearn.feature_extraction.text.CountVectorizer.html\n",
    "from sklearn.feature_extraction.text import CountVectorizer\n",
    "vectorizer = CountVectorizer()\n",
    "# corpus = amazon.Text.as_matrix()\n",
    "corpus = amaDFOut.as_matrix()\n",
    "X_bag_of_words = vectorizer.fit_transform(corpus)\n",
    "print(X_bag_of_words.toarray())\n",
    "\n",
    "# corpusForId= amazon.ProductId.as_matrix()\n",
    "# bagOfId= vectorizer.fit_transform(corpusForId)\n",
    "\n"
   ]
  },
  {
   "cell_type": "code",
   "execution_count": 13,
   "metadata": {},
   "outputs": [
    {
     "name": "stdout",
     "output_type": "stream",
     "text": [
      "(364000, 76362)\n"
     ]
    },
    {
     "data": {
      "text/plain": [
       "scipy.sparse.csr.csr_matrix"
      ]
     },
     "execution_count": 13,
     "metadata": {},
     "output_type": "execute_result"
    }
   ],
   "source": [
    "print(X_bag_of_words.shape)\n",
    "# print(X_bag_of_words[0])\n",
    "type(X_bag_of_words)\n",
    "\n",
    "# print(bagOfId[100])\n"
   ]
  },
  {
   "cell_type": "code",
   "execution_count": 14,
   "metadata": {},
   "outputs": [
    {
     "data": {
      "text/plain": [
       "['vectorizer.pkl']"
      ]
     },
     "execution_count": 14,
     "metadata": {},
     "output_type": "execute_result"
    }
   ],
   "source": [
    "joblib.dump(vectorizer,'vectorizer.pkl')"
   ]
  },
  {
   "cell_type": "markdown",
   "metadata": {},
   "source": [
    "### Hashing Vectorizer"
   ]
  },
  {
   "cell_type": "code",
   "execution_count": null,
   "metadata": {},
   "outputs": [],
   "source": [
    "# # vectorize Bag of Words from review text; as sparse matrix\n",
    "# from sklearn.feature_extraction.text import HashingVectorizer\n",
    "# # hv = HashingVectorizer(n_features=2 ** 17, non_negative=True)\n",
    "# hv = HashingVectorizer(n_features=2 ** 20, non_negative=True)\n",
    "# # X_hv = hv.fit_transform(amazon.Text)\n",
    "# X_hv = hv.fit_transform(amaDFOut)\n",
    "# print(hv)\n",
    "# print(X_hv.shape)"
   ]
  },
  {
   "cell_type": "code",
   "execution_count": null,
   "metadata": {},
   "outputs": [],
   "source": [
    "# type(X_hv)"
   ]
  },
  {
   "cell_type": "code",
   "execution_count": null,
   "metadata": {},
   "outputs": [],
   "source": [
    "# # We want to be able to use this model fit on other data (the test set)\n",
    "# # So let's save a copy of this instance of HashingVectorizer to be able to transform other data with this fit\n",
    "# # http://scikit-learn.org/stable/modules/model_persistence.html\n",
    "# joblib.dump(hv, 'hv.pkl') # pickle\n"
   ]
  },
  {
   "cell_type": "code",
   "execution_count": 15,
   "metadata": {},
   "outputs": [
    {
     "data": {
      "text/plain": [
       "['transformer.pkl']"
      ]
     },
     "execution_count": 15,
     "metadata": {},
     "output_type": "execute_result"
    }
   ],
   "source": [
    "# http://scikit-learn.org/stable/modules/generated/sklearn.feature_extraction.text.TfidfTransformer.html\n",
    "from sklearn.feature_extraction.text import TfidfTransformer\n",
    "transformer = TfidfTransformer()\n",
    "X_tfidf = transformer.fit_transform(X_bag_of_words)\n",
    "\n",
    "\n",
    "joblib.dump(transformer, 'transformer.pkl') # pickle"
   ]
  },
  {
   "cell_type": "code",
   "execution_count": 16,
   "metadata": {},
   "outputs": [
    {
     "name": "stdout",
     "output_type": "stream",
     "text": [
      "<class 'scipy.sparse.csr.csr_matrix'>\n"
     ]
    }
   ],
   "source": [
    "print(type(X_tfidf))\n",
    "# print(type(X2_tfidf))"
   ]
  },
  {
   "cell_type": "code",
   "execution_count": null,
   "metadata": {},
   "outputs": [],
   "source": [
    "# amazon['Pid']= bagOfId\n",
    "# print(amazon.Pid)"
   ]
  },
  {
   "cell_type": "markdown",
   "metadata": {},
   "source": [
    "### Time Converting"
   ]
  },
  {
   "cell_type": "code",
   "execution_count": 101,
   "metadata": {},
   "outputs": [
    {
     "name": "stdout",
     "output_type": "stream",
     "text": [
      "363990     2\n",
      "363991     1\n",
      "363992     6\n",
      "363993     2\n",
      "363994     4\n",
      "363995     4\n",
      "363996     9\n",
      "363997    10\n",
      "363998     8\n",
      "363999     1\n",
      "Name: amaMonth, dtype: int64\n",
      "0    4\n",
      "1    1\n",
      "2    6\n",
      "3    1\n",
      "4    2\n",
      "5    6\n",
      "6    3\n",
      "7    0\n",
      "8    5\n",
      "9    1\n",
      "Name: amaDay, dtype: int64\n",
      "0    2012\n",
      "1    2012\n",
      "2    2011\n",
      "3    2012\n",
      "4    2011\n",
      "5    2012\n",
      "6    2012\n",
      "7    2008\n",
      "8    2011\n",
      "9    2012\n",
      "Name: amaYear, dtype: int64\n"
     ]
    }
   ],
   "source": [
    "import datetime\n",
    "# ts= time.\n",
    "# amazoneHour = datetime.datetime.fromtimestamp(1331337600).strftime(\"%H\")\n",
    "# amazoneDay = datetime.datetime.fromtimestamp(1331337600).strftime(\"%a\")\n",
    "\n",
    "# amazoneTest= datetime.datetime.strftime(datetime.datetime.fromtimestamp(1331337600), \"%H\")\n",
    "# # amazoneHour= datetime.datetime.strftime(\"%H\", amazoneHour)\n",
    "# print(amazoneTest)\n",
    "# print(amazoneDay)\n",
    "\n",
    "amazon['amaRead'] = amazon['Time'].apply(datetime.datetime.fromtimestamp)\n",
    "amazon['amaMonth'] = amazon['amaRead'].apply(datetime.datetime.strftime, format=(\"%m\"))\n",
    "amazon['amaMonth'] = amazon['amaMonth'].apply(int)\n",
    "amazon['amaDay'] =amazon['amaRead'].apply(datetime.datetime.weekday)#is , format=(\"%A\"))\n",
    "\n",
    "\n",
    "amazon['amaYear']=amazon['amaRead'].apply(datetime.datetime.strftime, format=(\"%Y\"))\n",
    "amazon['amaYear']= amazon['amaYear'].apply(int)\n",
    "# amazon['readableamaDay'] =amazon['amaRead'].apply(datetime.datetime.strftime , format=(\"%A\"))\n",
    "# print(amazon['amaRead'].tail(10))\n",
    "print(amazon['amaMonth'].tail(10))\n",
    "print(amazon['amaDay'].head(10))\n",
    "print(amazon['amaYear'].head(10))\n",
    "# print(amazon['readableamaDay'].head(10))"
   ]
  },
  {
   "cell_type": "markdown",
   "metadata": {
    "collapsed": true
   },
   "source": [
    "### Create additional quantitative features"
   ]
  },
  {
   "cell_type": "code",
   "execution_count": 102,
   "metadata": {},
   "outputs": [
    {
     "name": "stdout",
     "output_type": "stream",
     "text": [
      "   reviewLen  Score  reviewLenAfterLe  amaDay  amaMonth  amaYear\n",
      "0        406      4               242       4         3     2012\n",
      "1        398      5               278       1         9     2012\n",
      "2         95      5                58       6         7     2011\n",
      "3        354      5               208       1         1     2012\n",
      "4        175      4               119       2         3     2011\n",
      "5        252      5               148       6         1     2012\n",
      "6        206      5               106       3         9     2012\n",
      "7        972      5               610       0         1     2008\n",
      "8       1476      5               982       5         9     2011\n",
      "9        640      5               425       1         9     2012\n",
      "<class 'pandas.core.frame.DataFrame'>\n"
     ]
    }
   ],
   "source": [
    "# features from Amazon.csv to add to feature set\n",
    "amazon['reviewLen'] = amazon['Text'].str.len()\n",
    "amazon['reviewLenAfterLe'] = amaDFOut.str.len()\n",
    "\n",
    "# X_quant_features = amazon[[\"Score\", \"reviewLen\",\"amaDay\",\"amaHour\"]]\n",
    "X_quant_features = amazon[[\"reviewLen\",\"Score\",\"reviewLenAfterLe\",\"amaDay\", \"amaMonth\", \"amaYear\"]]\n",
    "print(X_quant_features.head(10))\n",
    "print(type(X_quant_features))"
   ]
  },
  {
   "cell_type": "code",
   "execution_count": 64,
   "metadata": {},
   "outputs": [],
   "source": [
    "#try adding time from amazon.csv"
   ]
  },
  {
   "cell_type": "markdown",
   "metadata": {},
   "source": [
    "### Combine all quantitative features into a single sparse matrix"
   ]
  },
  {
   "cell_type": "code",
   "execution_count": 65,
   "metadata": {},
   "outputs": [
    {
     "name": "stdout",
     "output_type": "stream",
     "text": [
      "(364000, 76366)\n"
     ]
    }
   ],
   "source": [
    "from scipy.sparse import csr_matrix, hstack\n",
    "X_quant_features_csr = csr_matrix(X_quant_features)\n",
    "X_combined = hstack([X_tfidf, X_quant_features_csr])\n",
    "X_matrix = csr_matrix(X_combined) # convert to sparse matrix\n",
    "print(X_matrix.shape)"
   ]
  },
  {
   "cell_type": "code",
   "execution_count": 66,
   "metadata": {},
   "outputs": [
    {
     "name": "stdout",
     "output_type": "stream",
     "text": [
      "  (0, 143)\t0.08288818068471387\n",
      "  (0, 316)\t0.12002338227779079\n",
      "  (0, 634)\t0.1090312892957206\n",
      "  (0, 649)\t0.1595174171657956\n",
      "  (0, 1875)\t0.04787813739090102\n",
      "  (0, 2055)\t0.09845254992230668\n",
      "  (0, 3426)\t0.06948579502025531\n",
      "  (0, 4133)\t0.07212294592284339\n",
      "  (0, 5229)\t0.19321152620821294\n",
      "  (0, 6422)\t0.05723403222175528\n",
      "  (0, 7466)\t0.0551024648166298\n",
      "  (0, 7531)\t0.33801294607403226\n",
      "  (0, 9383)\t0.1534336781778006\n",
      "  (0, 10918)\t0.07368432312475039\n",
      "  (0, 13364)\t0.08778638927395312\n",
      "  (0, 13606)\t0.08829386649845035\n",
      "  (0, 14048)\t0.08181385943913173\n",
      "  (0, 15626)\t0.25881201485585065\n",
      "  (0, 18930)\t0.03911728150355961\n",
      "  (0, 20085)\t0.08639850233235279\n",
      "  (0, 20286)\t0.13917025869199234\n",
      "  (0, 23175)\t0.0717330833258597\n",
      "  (0, 24079)\t0.160807668837318\n",
      "  (0, 24639)\t0.03905963392590498\n",
      "  (0, 24972)\t0.11276641351908574\n",
      "  :\t:\n",
      "  (0, 57685)\t0.11601766084840351\n",
      "  (0, 58668)\t0.13821247131652878\n",
      "  (0, 59362)\t0.0831718424616514\n",
      "  (0, 59819)\t0.1587126653507582\n",
      "  (0, 59955)\t0.06871791002594894\n",
      "  (0, 60404)\t0.06757683884101522\n",
      "  (0, 61743)\t0.1104682261844962\n",
      "  (0, 61749)\t0.10427680332418586\n",
      "  (0, 62251)\t0.05981225394419099\n",
      "  (0, 64000)\t0.08130308256691782\n",
      "  (0, 64461)\t0.09111120744525128\n",
      "  (0, 64568)\t0.16231949936765938\n",
      "  (0, 66309)\t0.033734833203382865\n",
      "  (0, 66498)\t0.05269527812873671\n",
      "  (0, 66749)\t0.13894612315611526\n",
      "  (0, 67325)\t0.056591643121908175\n",
      "  (0, 69133)\t0.03912419043376961\n",
      "  (0, 71328)\t0.04827172562528407\n",
      "  (0, 71782)\t0.05575469384806\n",
      "  (0, 74827)\t0.09086000708486075\n",
      "  (0, 75436)\t0.07436965941354853\n",
      "  (0, 76362)\t976.0\n",
      "  (0, 76363)\t5.0\n",
      "  (0, 76364)\t613.0\n",
      "  (0, 76365)\t4.0\n"
     ]
    }
   ],
   "source": [
    "# look at an example of a \"row\" of a sparse matrix\n",
    "print(X_matrix[1234])"
   ]
  },
  {
   "cell_type": "markdown",
   "metadata": {},
   "source": [
    "### Create `X`, scaled matrix of features"
   ]
  },
  {
   "cell_type": "code",
   "execution_count": 67,
   "metadata": {},
   "outputs": [
    {
     "name": "stdout",
     "output_type": "stream",
     "text": [
      "(364000, 76366)\n"
     ]
    },
    {
     "data": {
      "text/plain": [
       "['sc.pkl']"
      ]
     },
     "execution_count": 67,
     "metadata": {},
     "output_type": "execute_result"
    }
   ],
   "source": [
    "# feature scaling\n",
    "from sklearn.preprocessing import StandardScaler\n",
    "sc = StandardScaler(with_mean=False)\n",
    "X = sc.fit_transform(X_matrix)\n",
    "print(X.shape)\n",
    "\n",
    "joblib.dump(sc, 'sc.pkl') # pickle"
   ]
  },
  {
   "cell_type": "markdown",
   "metadata": {},
   "source": [
    "### create `y`, vector of Labels"
   ]
  },
  {
   "cell_type": "code",
   "execution_count": 68,
   "metadata": {
    "scrolled": true
   },
   "outputs": [
    {
     "name": "stdout",
     "output_type": "stream",
     "text": [
      "<class 'numpy.ndarray'>\n"
     ]
    }
   ],
   "source": [
    "y = amazon['helpful'].values\n",
    "print(type(y))"
   ]
  },
  {
   "cell_type": "markdown",
   "metadata": {},
   "source": [
    "# fit models"
   ]
  },
  {
   "cell_type": "code",
   "execution_count": 69,
   "metadata": {},
   "outputs": [],
   "source": [
    "from my_measures import BinaryClassificationPerformance"
   ]
  },
  {
   "cell_type": "markdown",
   "metadata": {},
   "source": [
    "### MODEL: ordinary least squares"
   ]
  },
  {
   "cell_type": "code",
   "execution_count": 70,
   "metadata": {},
   "outputs": [
    {
     "name": "stderr",
     "output_type": "stream",
     "text": [
      "/anaconda3/envs/Py36env/lib/python3.6/site-packages/sklearn/linear_model/stochastic_gradient.py:166: FutureWarning: max_iter and tol parameters have been added in SGDClassifier in 0.19. If both are left unset, they default to max_iter=5 and tol=None. If tol is not None, max_iter defaults to max_iter=1000. From 0.21, default max_iter will be 1000, and default tol will be 1e-3.\n",
      "  FutureWarning)\n"
     ]
    },
    {
     "name": "stdout",
     "output_type": "stream",
     "text": [
      "{'Pos': 26628, 'Neg': 337372, 'TP': 12954, 'TN': 173802, 'FP': 163570, 'FN': 13674, 'Accuracy': 0.513065934065934, 'Precision': 0.0733837891731436, 'Recall': 0.4864803965750338, 'desc': 'ols'}\n"
     ]
    }
   ],
   "source": [
    "from sklearn import linear_model\n",
    "ols = linear_model.SGDClassifier(loss=\"squared_loss\")\n",
    "ols.fit(X, y)\n",
    "joblib.dump(ols, 'ols.pkl') # pickle\n",
    "\n",
    "ols_performance = BinaryClassificationPerformance(ols.predict(X), y, 'ols')\n",
    "ols_performance.compute_measures()\n",
    "print(ols_performance.performance_measures)"
   ]
  },
  {
   "cell_type": "markdown",
   "metadata": {},
   "source": [
    "### MODEL: SVM, linear"
   ]
  },
  {
   "cell_type": "code",
   "execution_count": 71,
   "metadata": {},
   "outputs": [
    {
     "name": "stdout",
     "output_type": "stream",
     "text": [
      "{'Pos': 26628, 'Neg': 337372, 'TP': 12107, 'TN': 321480, 'FP': 15892, 'FN': 14521, 'Accuracy': 0.9164478021978022, 'Precision': 0.4324083002964392, 'Recall': 0.454671774072405, 'desc': 'svm'}\n"
     ]
    }
   ],
   "source": [
    "from sklearn import linear_model\n",
    "svm = linear_model.SGDClassifier()\n",
    "svm.fit(X, y)\n",
    "joblib.dump(svm, 'svm.pkl') # pickle\n",
    "\n",
    "svm_performance = BinaryClassificationPerformance(svm.predict(X), y, 'svm')\n",
    "svm_performance.compute_measures()\n",
    "print(svm_performance.performance_measures)"
   ]
  },
  {
   "cell_type": "markdown",
   "metadata": {},
   "source": [
    "### MODEL: logistic regression"
   ]
  },
  {
   "cell_type": "code",
   "execution_count": 72,
   "metadata": {},
   "outputs": [
    {
     "name": "stderr",
     "output_type": "stream",
     "text": [
      "/anaconda3/envs/Py36env/lib/python3.6/site-packages/sklearn/linear_model/stochastic_gradient.py:152: DeprecationWarning: n_iter parameter is deprecated in 0.19 and will be removed in 0.21. Use max_iter and tol instead.\n",
      "  DeprecationWarning)\n"
     ]
    },
    {
     "name": "stdout",
     "output_type": "stream",
     "text": [
      "{'Pos': 26628, 'Neg': 337372, 'TP': 11639, 'TN': 333936, 'FP': 3436, 'FN': 14989, 'Accuracy': 0.9493818681318681, 'Precision': 0.7720729684908789, 'Recall': 0.43709628961994895, 'desc': 'lgs'}\n"
     ]
    }
   ],
   "source": [
    "from sklearn import linear_model\n",
    "\n",
    "\n",
    "#for alpha in range(1, 5, 0.1):  #range只能取整数\n",
    "#tAlpha= np.linspace(0,1,11)\n",
    "#lgs = linear_model.SGDClassifier(loss='log', n_iter=50, alpha=alpha)\n",
    "\n",
    "# for alpha in np.linspace(0.00001, 0.0005 ,20):\n",
    "#     lgs = linear_model.SGDClassifier(loss='log', max_iter=90, alpha=alpha) # default alpha= 0.00001   测试到5\n",
    "lgs = linear_model.SGDClassifier(loss='log', n_iter=100, alpha=0.0003)# default alpha= 0.00001   测试到5\n",
    "#     lgs = linear_model.SGDClassifier(loss='log', max_iter=100, alpha=0.00165)\n",
    "lgs.fit(X, y)\n",
    "joblib.dump(lgs, 'lgs.pkl') # pickle\n",
    "lgs_performance = BinaryClassificationPerformance(lgs.predict(X), y, 'lgs')\n",
    "lgs_performance.compute_measures()\n",
    "print(lgs_performance.performance_measures)\n",
    "# print(alpha)"
   ]
  },
  {
   "cell_type": "markdown",
   "metadata": {},
   "source": [
    "### MODEL: Naive Bayes"
   ]
  },
  {
   "cell_type": "code",
   "execution_count": 73,
   "metadata": {},
   "outputs": [
    {
     "name": "stdout",
     "output_type": "stream",
     "text": [
      "{'Pos': 26628, 'Neg': 337372, 'TP': 16382, 'TN': 298899, 'FP': 38473, 'FN': 10246, 'Accuracy': 0.8661565934065935, 'Precision': 0.2986418740315377, 'Recall': 0.6152170647438786, 'desc': 'nbs'}\n"
     ]
    }
   ],
   "source": [
    "from sklearn.naive_bayes import MultinomialNB\n",
    "nbs = MultinomialNB()\n",
    "nbs.fit(X, y)\n",
    "joblib.dump(nbs, 'nbs.pkl') # pickle\n",
    "\n",
    "nbs_performance = BinaryClassificationPerformance(nbs.predict(X), y, 'nbs')\n",
    "nbs_performance.compute_measures()\n",
    "print(nbs_performance.performance_measures)"
   ]
  },
  {
   "cell_type": "markdown",
   "metadata": {},
   "source": [
    "### MODEL: Perceptron"
   ]
  },
  {
   "cell_type": "code",
   "execution_count": 74,
   "metadata": {},
   "outputs": [
    {
     "name": "stderr",
     "output_type": "stream",
     "text": [
      "/anaconda3/envs/Py36env/lib/python3.6/site-packages/sklearn/linear_model/stochastic_gradient.py:166: FutureWarning: max_iter and tol parameters have been added in SGDClassifier in 0.19. If both are left unset, they default to max_iter=5 and tol=None. If tol is not None, max_iter defaults to max_iter=1000. From 0.21, default max_iter will be 1000, and default tol will be 1e-3.\n",
      "  FutureWarning)\n"
     ]
    },
    {
     "name": "stdout",
     "output_type": "stream",
     "text": [
      "{'Pos': 26628, 'Neg': 337372, 'TP': 11765, 'TN': 321576, 'FP': 15796, 'FN': 14863, 'Accuracy': 0.9157719780219781, 'Precision': 0.42687130365371356, 'Recall': 0.4418281508186871, 'desc': 'prc'}\n"
     ]
    }
   ],
   "source": [
    "from sklearn import linear_model\n",
    "# for randomS in range(1, 50,1):\n",
    "prc = linear_model.SGDClassifier(loss='perceptron', random_state=21)\n",
    "prc.fit(X, y)\n",
    "joblib.dump(prc, 'prc.pkl') # pickle\n",
    "\n",
    "prc_performance = BinaryClassificationPerformance(prc.predict(X), y, 'prc')\n",
    "prc_performance.compute_measures()\n",
    "#     print(randomS)\n",
    "print(prc_performance.performance_measures)"
   ]
  },
  {
   "cell_type": "markdown",
   "metadata": {},
   "source": [
    "### MODEL: Ridge Regression Classifier"
   ]
  },
  {
   "cell_type": "code",
   "execution_count": 75,
   "metadata": {},
   "outputs": [
    {
     "name": "stdout",
     "output_type": "stream",
     "text": [
      "{'Pos': 26628, 'Neg': 337372, 'TP': 8138, 'TN': 336759, 'FP': 613, 'FN': 18490, 'Accuracy': 0.9475192307692307, 'Precision': 0.9299508627585419, 'Recall': 0.3056181463121526, 'desc': 'rdg'}\n"
     ]
    },
    {
     "name": "stderr",
     "output_type": "stream",
     "text": [
      "/anaconda3/envs/Py36env/lib/python3.6/site-packages/sklearn/linear_model/sag.py:334: ConvergenceWarning: The max_iter was reached which means the coef_ did not converge\n",
      "  \"the coef_ did not converge\", ConvergenceWarning)\n"
     ]
    }
   ],
   "source": [
    "from sklearn import linear_model\n",
    "from tqdm import tqdm\n",
    "\n",
    "# for NumberRRC in tqdm(np.linspace(0.00001,0.0001,4)):\n",
    "rdg = linear_model.RidgeClassifier(alpha=0.5, tol=0.0001)\n",
    "rdg.fit(X, y)\n",
    "joblib.dump(rdg, 'rdg.pkl') # pickle\n",
    "\n",
    "rdg_performance = BinaryClassificationPerformance(rdg.predict(X), y, 'rdg')\n",
    "rdg_performance.compute_measures()\n",
    "print(rdg_performance.performance_measures)\n",
    "#     print (NumberRRC)"
   ]
  },
  {
   "cell_type": "code",
   "execution_count": 76,
   "metadata": {},
   "outputs": [
    {
     "data": {
      "text/plain": [
       "{'alpha': 0.5,\n",
       " 'class_weight': None,\n",
       " 'copy_X': True,\n",
       " 'fit_intercept': True,\n",
       " 'max_iter': None,\n",
       " 'normalize': False,\n",
       " 'random_state': None,\n",
       " 'solver': 'auto',\n",
       " 'tol': 0.0001}"
      ]
     },
     "execution_count": 76,
     "metadata": {},
     "output_type": "execute_result"
    }
   ],
   "source": [
    "rdg.get_params()"
   ]
  },
  {
   "cell_type": "markdown",
   "metadata": {},
   "source": [
    "### What is the distribution of weights, OLS vs. ridge? "
   ]
  },
  {
   "cell_type": "code",
   "execution_count": 77,
   "metadata": {},
   "outputs": [
    {
     "data": {
      "image/png": "[encoded data removed]",
      "text/plain": [
       "<Figure size 432x288 with 1 Axes>"
      ]
     },
     "metadata": {
      "needs_background": "light"
     },
     "output_type": "display_data"
    },
    {
     "data": {
      "image/png": "[encoded data removed]",
      "text/plain": [
       "<Figure size 432x288 with 1 Axes>"
      ]
     },
     "metadata": {
      "needs_background": "light"
     },
     "output_type": "display_data"
    }
   ],
   "source": [
    "plt.hist(ols.coef_[0])\n",
    "plt.show()\n",
    "\n",
    "plt.hist(rdg.coef_[0])\n",
    "plt.show()"
   ]
  },
  {
   "cell_type": "markdown",
   "metadata": {},
   "source": [
    "### MODEL: Decision Tree Classifier"
   ]
  },
  {
   "cell_type": "code",
   "execution_count": 78,
   "metadata": {},
   "outputs": [
    {
     "name": "stdout",
     "output_type": "stream",
     "text": [
      "{'Pos': 26628, 'Neg': 337372, 'TP': 10596, 'TN': 337351, 'FP': 21, 'FN': 16032, 'Accuracy': 0.9558983516483517, 'Precision': 0.9980220401243289, 'Recall': 0.3979269941415052, 'desc': 'dtc'}\n"
     ]
    }
   ],
   "source": [
    "from sklearn import tree\n",
    "dtc = tree.DecisionTreeClassifier(max_depth=100)\n",
    "dtc.fit(X_matrix, y)\n",
    "joblib.dump(dtc, 'dtc.pkl') # pickle\n",
    "\n",
    "dtc_performance = BinaryClassificationPerformance(dtc.predict(X_matrix), y, 'dtc')\n",
    "dtc_performance.compute_measures()\n",
    "print(dtc_performance.performance_measures)"
   ]
  },
  {
   "cell_type": "markdown",
   "metadata": {},
   "source": [
    "### Random Forests"
   ]
  },
  {
   "cell_type": "code",
   "execution_count": 79,
   "metadata": {},
   "outputs": [],
   "source": [
    "# from sklearn.ensemble import RandomForestClassifier\n",
    "\n",
    "# #max_depth 10-100, minsamples_split 样本量大增大, n_estimators弱学习最大迭代次数， 太小欠拟合默认100//min_samples_split =120\n",
    "# rfc = RandomForestClassifier(max_depth= 100,n_estimators=100)\n",
    "# rfc.fit(X_matrix, y)\n",
    "# joblib.dump(rfc, 'rfc.pkl')\n",
    "\n",
    "# rfc_performance = BinaryClassificationPerformance(rfc.predict(X_matrix), y, 'rfc')\n",
    "# rfc_performance.compute_measures()\n",
    "# print(rfc_performance.performance_measures)\n",
    "\n"
   ]
  },
  {
   "cell_type": "code",
   "execution_count": 80,
   "metadata": {},
   "outputs": [],
   "source": [
    "# print(rfc.feature_importances_[-10:])\n",
    "# print(rfc.feature_importances_)"
   ]
  },
  {
   "cell_type": "markdown",
   "metadata": {},
   "source": [
    "### ROC plot to compare performance of various models and fits"
   ]
  },
  {
   "cell_type": "code",
   "execution_count": 81,
   "metadata": {},
   "outputs": [
    {
     "data": {
      "image/png": "[encoded data removed]",
      "text/plain": [
       "<Figure size 432x288 with 1 Axes>"
      ]
     },
     "metadata": {
      "needs_background": "light"
     },
     "output_type": "display_data"
    }
   ],
   "source": [
    "fits = [svm_performance, lgs_performance, rdg_performance, prc_performance, ols_performance, dtc_performance, nbs_performance]\n",
    "\n",
    "for fit in fits:\n",
    "    plt.plot(fit.performance_measures['FP'] / fit.performance_measures['Neg'], \n",
    "             fit.performance_measures['TP'] / fit.performance_measures['Pos'], 'ro')\n",
    "    plt.text(fit.performance_measures['FP'] / fit.performance_measures['Neg'], \n",
    "             fit.performance_measures['TP'] / fit.performance_measures['Pos'], fit.desc)\n",
    "plt.axis([0, 1, 0, 1])\n",
    "plt.title('ROC plot: training set')\n",
    "plt.xlabel('False positive rate')\n",
    "plt.ylabel('True positive rate')\n",
    "plt.show()"
   ]
  },
  {
   "cell_type": "markdown",
   "metadata": {},
   "source": [
    "## a digression: looking inside the `rdg` object\n",
    "\n",
    "[documentation](https://scikit-learn.org/stable/modules/generated/sklearn.linear_model.RidgeClassifier.html)"
   ]
  },
  {
   "cell_type": "code",
   "execution_count": 58,
   "metadata": {},
   "outputs": [
    {
     "data": {
      "text/plain": [
       "['__abstractmethods__',\n",
       " '__class__',\n",
       " '__delattr__',\n",
       " '__dict__',\n",
       " '__dir__',\n",
       " '__doc__',\n",
       " '__eq__',\n",
       " '__format__',\n",
       " '__ge__',\n",
       " '__getattribute__',\n",
       " '__getstate__',\n",
       " '__gt__',\n",
       " '__hash__',\n",
       " '__init__',\n",
       " '__init_subclass__',\n",
       " '__le__',\n",
       " '__lt__',\n",
       " '__module__',\n",
       " '__ne__',\n",
       " '__new__',\n",
       " '__reduce__',\n",
       " '__reduce_ex__',\n",
       " '__repr__',\n",
       " '__setattr__',\n",
       " '__setstate__',\n",
       " '__sizeof__',\n",
       " '__str__',\n",
       " '__subclasshook__',\n",
       " '__weakref__',\n",
       " '_abc_cache',\n",
       " '_abc_negative_cache',\n",
       " '_abc_negative_cache_version',\n",
       " '_abc_registry',\n",
       " '_decision_function',\n",
       " '_estimator_type',\n",
       " '_get_param_names',\n",
       " '_label_binarizer',\n",
       " '_predict_proba_lr',\n",
       " '_preprocess_data',\n",
       " '_set_intercept',\n",
       " 'alpha',\n",
       " 'class_weight',\n",
       " 'classes_',\n",
       " 'coef_',\n",
       " 'copy_X',\n",
       " 'decision_function',\n",
       " 'fit',\n",
       " 'fit_intercept',\n",
       " 'get_params',\n",
       " 'intercept_',\n",
       " 'max_iter',\n",
       " 'n_iter_',\n",
       " 'normalize',\n",
       " 'predict',\n",
       " 'random_state',\n",
       " 'score',\n",
       " 'set_params',\n",
       " 'solver',\n",
       " 'tol']"
      ]
     },
     "execution_count": 58,
     "metadata": {},
     "output_type": "execute_result"
    }
   ],
   "source": [
    "dir(rdg)"
   ]
  },
  {
   "cell_type": "code",
   "execution_count": 59,
   "metadata": {},
   "outputs": [
    {
     "data": {
      "text/plain": [
       "{'alpha': 0.5,\n",
       " 'class_weight': None,\n",
       " 'copy_X': True,\n",
       " 'fit_intercept': True,\n",
       " 'max_iter': None,\n",
       " 'normalize': False,\n",
       " 'random_state': None,\n",
       " 'solver': 'auto',\n",
       " 'tol': 0.0001}"
      ]
     },
     "execution_count": 59,
     "metadata": {},
     "output_type": "execute_result"
    }
   ],
   "source": [
    "rdg.get_params()"
   ]
  },
  {
   "cell_type": "code",
   "execution_count": 60,
   "metadata": {},
   "outputs": [
    {
     "data": {
      "text/plain": [
       "numpy.ndarray"
      ]
     },
     "execution_count": 60,
     "metadata": {},
     "output_type": "execute_result"
    }
   ],
   "source": [
    "type(rdg.coef_)"
   ]
  },
  {
   "cell_type": "code",
   "execution_count": 61,
   "metadata": {},
   "outputs": [
    {
     "data": {
      "text/plain": [
       "(1, 76364)"
      ]
     },
     "execution_count": 61,
     "metadata": {},
     "output_type": "execute_result"
    }
   ],
   "source": [
    "rdg.coef_.shape"
   ]
  },
  {
   "cell_type": "code",
   "execution_count": 62,
   "metadata": {},
   "outputs": [
    {
     "name": "stdout",
     "output_type": "stream",
     "text": [
      "[-0.00026863 -0.00026113  0.00093016 ... -0.00074614  0.08577923\n",
      " -0.0047512 ]\n"
     ]
    }
   ],
   "source": [
    "print(rdg.coef_[0])"
   ]
  },
  {
   "cell_type": "code",
   "execution_count": 32,
   "metadata": {},
   "outputs": [
    {
     "data": {
      "image/png": "[encoded data removed]",
      "text/plain": [
       "<Figure size 432x288 with 1 Axes>"
      ]
     },
     "metadata": {
      "needs_background": "light"
     },
     "output_type": "display_data"
    }
   ],
   "source": [
    "plt.hist(rdg.coef_[0])\n",
    "plt.show()"
   ]
  },
  {
   "cell_type": "markdown",
   "metadata": {},
   "source": [
    "# looking at reviews based on their classification\n",
    "\n",
    "Let's say we decide that Ridge Regression is the best model for generalization. Let's take a look at some of the reviews and try to make a (subjective) determination of whether it's generalizing well. "
   ]
  },
  {
   "cell_type": "code",
   "execution_count": 33,
   "metadata": {},
   "outputs": [
    {
     "data": {
      "text/plain": [
       "'We tried I worried work. They work well. My family loved trying them. We enjoyed lunch salad dressing fruit greek yogurt natural. Tasty.<br />The pill hard took moments melt worked right away. It lasted 20-25 minutes active eating. I think acid sour foods washes away. I try again.'"
      ]
     },
     "execution_count": 33,
     "metadata": {},
     "output_type": "execute_result"
    }
   ],
   "source": [
    "amazon.loc[0, \"Text\"]"
   ]
  },
  {
   "cell_type": "code",
   "execution_count": 34,
   "metadata": {},
   "outputs": [
    {
     "data": {
      "text/plain": [
       "False"
      ]
     },
     "execution_count": 34,
     "metadata": {},
     "output_type": "execute_result"
    }
   ],
   "source": [
    "amazon.loc[0, \"helpful\"]"
   ]
  },
  {
   "cell_type": "code",
   "execution_count": 35,
   "metadata": {},
   "outputs": [],
   "source": [
    "ridge_predictions = rdg.predict(X)"
   ]
  },
  {
   "cell_type": "code",
   "execution_count": 36,
   "metadata": {},
   "outputs": [
    {
     "data": {
      "text/plain": [
       "(364000,)"
      ]
     },
     "execution_count": 36,
     "metadata": {},
     "output_type": "execute_result"
    }
   ],
   "source": [
    "ridge_predictions.shape"
   ]
  },
  {
   "cell_type": "code",
   "execution_count": 37,
   "metadata": {},
   "outputs": [
    {
     "name": "stdout",
     "output_type": "stream",
     "text": [
      "[False False False ...  True False False]\n"
     ]
    }
   ],
   "source": [
    "print(ridge_predictions)"
   ]
  },
  {
   "cell_type": "code",
   "execution_count": 38,
   "metadata": {},
   "outputs": [
    {
     "name": "stdout",
     "output_type": "stream",
     "text": [
      "2296\n",
      "2011-12-10 00:00:00\n",
      "2\n",
      "0\n",
      "B000HDCNMS\n",
      "The small bag perfect size you're sharing person want quick snack.<br />The popcorn little greasy, it's sooo delicious.<br />The (BIG) problem I bag tends burn, I don't know I'm wrong, I hate it.<br /><br />The time I it: bag super burnt popcorn didn't make, bag inflate. Second time I it, worked fine. Third time, bag burnt, butter melted, big mess.<br /><br />My microwave works fine popcorn, sure wrong.\n",
      "* * * * * * * * * \n",
      "29156\n",
      "2011-01-26 00:00:00\n",
      "5\n",
      "2\n",
      "B003ULDZLM\n",
      "*****<br />This yummy unique tea. It's sort creamy (the real vanilla luscious taste), spicy like chai. It absolutely perfect I'm drinking time taste belief, plus it's decaffeinated!<br /><br />Indian Night certified organic contains fair trade certified organic Fatrikcherra Estate black tea, organic vanilla beans---that's all---and oh, incredible combination! There oils natural flavorings all, unlike flavored teas, funny aftertaste. It kosher. This tea sustainable packaging materials biodegradable recyclable, carton 100% post-consumer waste, cello wrap used. Numi says tea bags \"are natural fiber paper, trendy, \"silky\" see-though nylon tea bags\". The reason called \"full leaf\" Numi black teas contain tea dust fannings, tend tea taste bitter; instead, contain leaf, expanding brewed, \"releasing robust long lasting experience\".<br /><br />On box, manufacturer writes: \"Inspired ancient Aztec culinary secret, Numi chosen aromatic vanilla beans blend premium organic black tea. The tea grows northern India bio-dynamic Fair Trade garden surrounded beautiful tropical forests. It decaffeinated revolutionary organic CO2 process, called 'Effervescence', chemical-free method extract flavor health properties. As Indian Night steeps vibrant bronzy hue, seductive fragrance, flowery familiar, flirts senses. Magnificently smooth, exotic vanilla harmonizes black tea creamy, rich satisfying cup.\" This new (as 2007) tea Numi, description romantically describes tea experience, doesn't oversell all.<br /><br />Highly recommended.<br />*****\n",
      "* * * * * * * * * \n",
      "36628\n",
      "2011-03-13 00:00:00\n",
      "5\n",
      "1\n",
      "B0025VRCJY\n",
      "One best lemon juice I tried. I recurring customer high quality product. When season fresh lemos out, supplement need citrus kitchen refreshments.<br /><br />I continue buying it.\n",
      "* * * * * * * * * \n",
      "59022\n",
      "2010-03-17 00:00:00\n",
      "2\n",
      "2\n",
      "B001GVIUTU\n",
      "I enjoy gluten-free carob chips kid, I sad weren't market adult. The chips I remembered tasted great straight bag. I happy I heard Chatfield's Carob Chips NOT icky barley malt, dairy free. They aren't available area, I ordered bulk Amazon. When arrived, I ripped open bag- sickeningly sweet I hardly eat them. They honestly taste like white chocolate carob. Seriously, Chatfield, taste mass producing them? I hope taste better baked recipes.\n",
      "* * * * * * * * * \n",
      "66125\n",
      "2009-04-24 00:00:00\n",
      "3\n",
      "1\n",
      "B001LGGH54\n",
      "Tasty superior drinks type I tried. I expected ordinary wasn't it. Is tasty, memorably so.\n",
      "* * * * * * * * * \n",
      "73377\n",
      "2012-07-19 00:00:00\n",
      "5\n",
      "0\n",
      "B004T4LVN8\n",
      "I LOVE lemon - color, taste, everything. And True Lemon SOOOO yummy! In crystalized form doesn't change consistancy in. Lemon juice that, depending use. I tried little packets I realized form enough. So I bought large caontainers. So good - I especially like add vanilla yogurt....now I'm getting hungry....\n",
      "* * * * * * * * * \n",
      "77498\n",
      "2012-02-08 00:00:00\n",
      "4\n",
      "3\n",
      "B000EEWZEG\n",
      "The sardines tasty. However, you're watching protein fats, I product half protein half times saturated fats Crown Prince sardines olive oil. And calories. Had Amazon shown Nutrition Facts printed package I aware difference. As was, I assumption oz sardines same. Oh, well, caveat emptor!\n",
      "* * * * * * * * * \n",
      "91376\n",
      "2011-05-16 00:00:00\n",
      "5\n",
      "1\n",
      "B003DNL9W4\n",
      "Markets area Crystal Light \"sale\" $2.99 $3.49 PER container (12 quarts) Amazon's price VERY competitive - use Subscribe & Save. Plus, run out, sent right door! What better? Also, flavor, Strawberry Kiwi, makes light pink color drink doesn't stain like RED flavors can. Also, I add couple tea bags & let cold brew overnight, little \"punch\" drink. I yardwork/gardening house refreshing cold drink ready pour I come heat, worrying gulping EMPTY CALORIES (the enemy, right?) So sign up, enjoy Crystal Light Summer!\n",
      "* * * * * * * * * \n",
      "95726\n",
      "2012-01-09 00:00:00\n",
      "5\n",
      "0\n",
      "B001A1TW02\n",
      "Pleased product's quality price. Packaging good practical. Good value money.<br /><br />Avoid buying flax powder, oil content starts oxidize immediately exposure air - makes rancid-tasting unhealthy. Flax seeds healthy daily. Flax seeds contain Omega 3 fatty acids good health. Buy organic, brown golden flax seeds inexpensive cool, dry pantry year.<br /><br />You digest flax seeds (they pass right digestive tract), grind - use regular, coffee grinder. Eat 15 minutes grinding, discard what's left, don't save powder. Taken meal, ground flaxseed makes feel satisfied longer. Moreover, oil content protects lining digestive tract, it's perfect sensitive stomach.<br /><br />You love ground flax seeds sprinkled salads cooked vegetables. They're simply delicious mixed fruit smoothies, protein shakes, yogurt, soups, oatmeal. Just sure plenty fluids 10 times ground flaxseed,otherwise cause constipation<br /><br />Normal daily serving 2 tablespoons 100 pounds body weight; that's 20 grams 90 calories.<br /><br />List health benefits flax seeds:<br /><br />*Improve cardiovascular health, lowers blood pressure, \"bad\" cholesterol (LDL) blood triglyceride values.<br /><br />*Prevent arterial clots result strokes, heart attacks thromboses.<br /><br />*Boost immune system, reduces inflammation body, relieves asthma.<br /><br />*Support healthy joints improves absorption calcium.<br /><br />*Soothe ulcers, irritable bowel disorders, improves colon health, lowering risk colon cancer.<br /><br />Flax seeds richest source lignans. These phytoestrogens powerful antioxidant, anti-tumor, anti-viral, anti-fungal, anti-bacterial properties, 100 times best source - wheat bran.<br /><br />And that's all.<br /><br />To fully realize flax seeds benefits related weight loss, understand thing. Its lecithin content dissolves fats food digestive tract fiber mucilage content trap nasty fats, taken eliminated body, stored body fat.<br /><br />I don't claim doctor but, I read I learned Flax seed: In short, ground flaxseed consumed widely Europe Asia, introduced North America Colonial days, widely food 1960s', flaxseed health benefits scientifically proven.\n",
      "* * * * * * * * * \n",
      "100163\n",
      "2011-02-20 00:00:00\n",
      "5\n",
      "7\n",
      "B0045X7H9A\n",
      "Red Rain berry flavor tastes great gives energy focus day. You drink 2oz all-at-once sip day. The directions use discard 3 days opening. Refrigeration required. One bottle contains 5 calories, 3g carbs, 8333% daily value vitamin B12, 2000% daily value vitamin B6, 200% daily value Niacin, 100% daily value Folic Acid. It contains 2000mg energy blend consists Glucuronolactone, Malic Acid, Caffeine, Choline Chloride, N-Acetyle L-Tyrosine. The caffeine says comparable cup leading brand coffee. At current price $12.00 12-pack, $10.20 Amazon's Subscribe Save, it's cheaper leading energy shot product.\n",
      "* * * * * * * * * \n",
      "118606\n",
      "2011-09-26 00:00:00\n",
      "3\n",
      "0\n",
      "B003YBLF2E\n",
      "I've tried GoPicnic lunches far, I usually love salmon, lunch favorite. I'd suggest <a href=\"http://www.amazon.com/gp/product/B003YBH398\">GoPicnic Ready-to-Eat Meals, Turkey Pepperoni + Cheese, 3-Ounce Boxes (Pack 6)</a>, <a href=\"http://www.amazon.com/gp/product/B003YBP6Q0\">GoPicnic Ready-to-Eat Meals, Hummus + Crackers, 4.4-Ounce Boxes (Pack 6)</a>, <a href=\"http://www.amazon.com/gp/product/B005PLC674\">GoPicnic Ready-To-Eat Meals Sunbutter + Crackers, 3.5-Ounce (Pack 6)</a>.\n",
      "* * * * * * * * * \n",
      "123892\n",
      "2012-06-30 00:00:00\n",
      "3\n",
      "0\n",
      "B007P2OQC4\n",
      "I tried I thought useful healthy snack work. Tried home cereal. It's certainly nutrient-dense, high fiber, low sugar salt - tasty. Couldn't taste banana flavor that's I bought for. I add lot honey order choke down, kind nullifies low-sugar low-calorie benefit.<br /><br />If you're okay granola sweetness whatsoever good product you. Just me.\n",
      "* * * * * * * * * \n",
      "124547\n",
      "2012-02-02 00:00:00\n",
      "2\n",
      "8\n",
      "B004G4CNWO\n",
      "vendor description ingredients \"marshmallows\" ordered product tagged Vegan reviewer. After contacting seller rushed update description Gelatin replied back. Refunded purchase shipping.\n",
      "* * * * * * * * * \n",
      "125650\n",
      "2011-10-19 00:00:00\n",
      "5\n",
      "3\n",
      "B002GWMD7I\n",
      "From purist passion excellent Central American coffee ... ultimate. What sets guys apart roasting skills. Not little, much, glisten oil, color polished mahogany, body mouth feel, complexity true coffee flavor.\n",
      "* * * * * * * * * \n",
      "139351\n",
      "2009-04-08 00:00:00\n",
      "5\n",
      "7\n",
      "B001E5E2LS\n",
      "My chiropractor recommended Himalayan Sea Salt THE salt salt lovers, contains minerals taken processing (he calls garbage) table salt, I love it. Glad I got grinders; home RV. It mite pricey, I able purchase salt refill chiropracter lot less. I recommend product. The grinder big cumbersome, good size.\n",
      "* * * * * * * * * \n",
      "151268\n",
      "2011-12-11 00:00:00\n",
      "4\n",
      "2\n",
      "B005CGUUJS\n",
      "<span class=\"tiny\"> Length:: 1:39 Mins<br /><br /></span>(* review originally posted 3 oz size, verified purchase Amazon)<br /><br />I purchased reviewed brands catnip Tristan, month old Savannah cat. In video, I placed plates catnip freshly opened packages. The brands left right <a href=\"http://www.amazon.com/gp/product/B00028HN5A\">Sojos Certified Organic Catnip</a>, middle product listing - Cosmic Catnip (this video review shows 3oz jar), far right <a href=\"http://www.amazon.com/gp/product/B001VNEII0\">Frontier Catnip Leaf & Flower C/s Certified Organic, 16 Ounce Bag</a>.<br /><br />Like little bear Goldilock's table, Tristan tries bit plate; end clip *overwhelming* preference particular brand though. As far physical reactions (sampled separately), act \"stoned\" hyper, merely scratches scratch pad bit catnip catnip gives good stretch. He strongly prefers catnip infused mice non-catnip mice I'm happy oblige.<br /><br />As far *I* prefer, it's cat (and is) here's things -<br /><br />The Frontier brand far expensive dollars 16oz. It slightly coarse little bit stems mixed in. VERY fragrant turned close second favorite cat reviewing products. I definitely buy Frontier brand use stuffing toys generously \"marinating\" little cloth mice. Organic suitable human consumption like tea.<br /><br />The Sojos brand (1oz can) expensive - calculations comes dollars 16oz!. The description says produces \"harmless, euphoric state\" saw evidence that. Smelled fresh definitely milder aroma brands; finest chopped leaves three. Hand harvested important cat.<br /><br />With Cosmic Cat brand, *may* winner.....<br /><br />When camera off, Tristan returned Cosmic Cat sample times brands. I repeated little taste test days Cosmic Cat small definite edge competition. I'd I agree choice; Cosmic Cat brand leaves darker fragrant brands. The leaves cut right - fine/not large, stems coarse pieces. I Cosmic Cat brand's price reasonable, storage container convenient, 3oz* size little stale spoil.<br /><br />Hope information useful choosing cat kitten.\n",
      "* * * * * * * * * \n",
      "195536\n",
      "2009-05-17 00:00:00\n",
      "5\n",
      "4\n",
      "B001GCTTYY\n",
      "A little bitter trying start mixing green tea gradually change over. Taste great way ice tea. Nettle good health.\n",
      "* * * * * * * * * \n"
     ]
    },
    {
     "name": "stdout",
     "output_type": "stream",
     "text": [
      "238370\n",
      "2010-04-26 00:00:00\n",
      "3\n",
      "1\n",
      "B000F4IREM\n",
      "Although low fiber processed oil (sunflower), rice snaps fairly tasty organic. It offers nice break wheat crackers, rice crackers crispy (sharp edged).\n",
      "* * * * * * * * * \n",
      "242923\n",
      "2012-09-19 00:00:00\n",
      "5\n",
      "0\n",
      "B004AN8Q86\n",
      "Chances looking Dick Van Patten's Natural Balance, looking finding quality cat food animals. I'm firm believer buying best quality foods animals order ensure optimum good health, especially 2007 pet food recalls melamine adulterated food. Initially, I purchased food didn't factor decision.<br /><br />I long-haired cat gifted hairballs frequent basis. A friend told food swore it, claiming rugs furniture longer suffered constant scrubbing. I decided Natural Balance try amazed results. I longer cat, inherit long-haired cutie pie LOVES food. I changed food month ago, gradually mixing previous food, helps body minimize hairball activity. I want healthy happy expense worth it. This brief blurb website, information bag well:<br /><br />* Fresh Chicken, Salmon Meal, New Zealand Lamb Meal This unique blend fresh, high quality proteins provides essential amino acids help maintain strong muscle tone healthy, shiny coat.<br /><br />* Taurine Fortified To help maintain healthy heart good vision.<br /><br />* Fresh Potatoes Rich potassium excellent source highly digestible carbohydrates.<br /><br />* Preserved Naturally To maintain freshness, Natural Balance uses mixed tocopherols (Vitamin E) formulas free artificial flavors, colors chemical preservatives.<br /><br />* Skin Coat Essential Fatty Acids combined produce excellent skin coat cat.<br /><br />* High Digestibility<br /><br />No Artificial Preservatives, Flavors, Colors, Bleached Ingredients.<br /><br />If need more, check food Petco head Natural Balance website. Of course opinion look factors purchasing animals. You know needs, I food satisfies (I don't invest paper towels), obviously cat. I perfectly acceptable organic food, I mixed ... well, lets likes Natural better organic. I'm happy she's happy I'm constantly cleaning days!<br /><br />Note: This essentially review I wrote Natural Balance couple years ago, cat loves I'm buying ... Amazon.\n",
      "* * * * * * * * * \n",
      "247817\n",
      "2012-06-08 00:00:00\n",
      "5\n",
      "1\n",
      "B001D0IZBM\n",
      "After FINALLY purchasing <a href=\"http://www.amazon.com/gp/product/B000AQPMHA\">the best coffee maker</a> I've 40 years drinking coffee, hunt best tasting coffee it. When comes coffee, I suppose it's \"to own\" thing. But I've tried 'em all, varieties offered Amazon, K-cup provides pleasurable mix I looking cup coffee undisputedly Emeril's Big Easy Bold.<br /><br />Nothing beats Emeril's Big Easy Bold. There plenty brands trying suggest they're bold. I've tried \"Midnight Magic\" brand; I've tried \"Jet Fuel\" brand; I've tried \"Donut Shop\" brand; I've tried \"Extra Bolds\"; K-cup tastes like jet fuel packed cup coffee best donut shop Emeril's Big Easy Bold.<br /><br />What's cool small cup large cup Emeril's Big Easy Bold, won't lose rich flavor. Most Keurig Coffee Makers buttons let choose large small cup. Some buttons large, medium small. I like large cup. Some brands noticeably lost flavor I went medium cup large...but Emeril's.<br /><br />There question here. If like darker roast that's flavor packs punch, you've right page Amazon. Wake people, add cart. Bam!\n",
      "* * * * * * * * * \n",
      "251136\n",
      "2010-04-14 00:00:00\n",
      "5\n",
      "2\n",
      "B000YBXCXW\n",
      "I agree Fazer chocolate simply best world. And talk skeptical it. The I sister ginger bread, cherries almonds it. And I thought \"What's gingerbread cherries chocolate?\" I thought going sickening. I understand almond part. Anyway, skeptical bites I sunk. I hard satisfied chocolate world, Fazer. And day I amazed I love chocolate. In way, I wish I wouldn't it, chocolate lacking now. I finally able try dark chocolate it's delicious milk chocolate. Hope enjoy I do.\n",
      "* * * * * * * * * \n",
      "258591\n",
      "2010-04-21 00:00:00\n",
      "5\n",
      "5\n",
      "B007OXJK3Y\n",
      "I traded member Yahoo group box Coffee People Donut Shop Coffee kcup it.<br /><br />Without realizing it, I B40 selected 9.25 mug size. Now remember I thought C.P.Dounut House XBold.<br /><br />Well coffee started filling cup, All sudden wonderful aroma chocolate filled air. I thought WOW!! coffee. Though chocolate flavor, favorite Van Houtte Chocolate Almond. So drinking coffee, I emptied box hoping one. Sadly wasn't. When I went dispose Kcup wonderful fragrance chocolate emitted Kcup. The sweet nuance chocolate strong I hate throw away; ( I Kcup now). I wish car freshener like this.<br /><br />So Chocoholic like me, try. Now I want buy box flavor LOL.<br /><br />This rated light medium roast.\n",
      "* * * * * * * * * \n",
      "263839\n",
      "2011-10-11 00:00:00\n",
      "5\n",
      "1\n",
      "B003C5PBO0\n",
      "My dog rescue mites I adopted puppy. She continued experiencing problematic skin mites issue resolved. Her vet kept Rx's I knew better way I went holistic vet suggested avocado based food Avoderm. I discontinued Rx's week noticeably itchy past 3 years. Her coat stays lustrous regular swims ocean baths biweekly. The food looks better brands. When set side, clear, kibbles look cleaner better quality. Lastly, price UNBELIEVABLE!! I've purchasing Pet-- I'd cheapest ($55), I'd accumulated stupid coupons spending set amounts money price blows Pet-- water. Coupled Prime shipping can't better. Thank Amazon offering wonderful product great price & Prime shipping!!!!\n",
      "* * * * * * * * * \n",
      "269391\n",
      "2011-06-08 00:00:00\n",
      "5\n",
      "0\n",
      "B000LQJKR2\n",
      "I absolutely love tea. I drink lot tea...probably average Turk. I usually order teas Republic Tea stuff good, best black tea I tried.<br /><br />Strong smooth. Perfect.<br /><br />The seller shipped quickly efficiently. I recommend purchasing seller I plan purchasing him/her soon.\n",
      "* * * * * * * * * \n",
      "288742\n",
      "2011-08-02 00:00:00\n",
      "5\n",
      "0\n",
      "B004LL4YOM\n",
      "I tried 3 different blends coffee think great. I use solofill, thinking buying ekobrew cup. Even solofill ekobrew cup good buy putting kcups landfill.\n",
      "* * * * * * * * * \n",
      "295880\n",
      "2006-11-22 00:00:00\n",
      "1\n",
      "13\n",
      "B000DZDJM8\n",
      "I throw raisins contained crawly things and/or looks like droppings crawly things. I I generally love Newman's products, I willing raisins benefit doubt. With natural products, bugs them. That's territory organic matter. But I white grubs little brown dots weren't raisins box shrink-wrapped box. Some boxes fine, I ate raisins them, majority tainted. I'll need assured there's improvement quality control I try Newman's snack-pack organic raisins again.\n",
      "* * * * * * * * * \n",
      "304011\n",
      "2003-10-27 00:00:00\n",
      "3\n",
      "2\n",
      "B00004RYGX\n",
      "*** 1/2 stars rating &quot;Beetlejuice&quot;. This movie biggest surprises 1988, revolutionized visual effects field, established Tim Burton director huge imagination, Winona Ryder map, helped Burton & Michael Keaton signed Warner Bros. film strongest 1989 project: &quot;Batman&quot;.<br /><br /> &quot;Beetlejuice&quot; funny ghosts tale lot creativity imagination, characters easy love, situations funny bizarre time, translates entertaining movie.<br /><br /> There memorable scenes &quot;Beetlejuice&quot;, possession scene tune Harry Belafonte's &quot;Banana Boat Song&quot;, Adam & Barbara (Alec Baldwin & Geena Davis respectively) taken underworld offices.<br /><br /> &quot;Beetlejuice&quot; good option gorgeous Winona Ryder key roles, creativity Tim Burton best, funny supernatural comedy.\n",
      "* * * * * * * * * \n",
      "322462\n",
      "2011-08-19 00:00:00\n",
      "5\n",
      "2\n",
      "B001GVJNC8\n",
      "I ordered edible flowers combing local grocery stores fresh edible flowers candy. With luck I bit bullet ordered crystalized expensive I liked. They beautiful, added cupcakes. Would recommend; come perfect shape!\n",
      "* * * * * * * * * \n",
      "357300\n",
      "2009-11-10 00:00:00\n",
      "5\n",
      "0\n",
      "B0019LA5WC\n",
      "Teff general delicious healthy grain, Teff different.<br />Cook according pkg. directions add morning oatmeal hearty healthy breakfast.<br />If I wish \"Organic Brown Teff.\"\n",
      "* * * * * * * * * \n"
     ]
    }
   ],
   "source": [
    "# false positives\n",
    "\n",
    "import random, time\n",
    "\n",
    "for i in range(0, len(ridge_predictions)):\n",
    "    if (ridge_predictions[i] == True):\n",
    "        if (amazon.loc[i, \"helpful\"] == False):\n",
    "            if (random.uniform(0, 1) < 0.05):\n",
    "                print(i)\n",
    "                print(time.strftime('%Y-%m-%d %H:%M:%S', time.gmtime(amazon.loc[i, \"Time\"])))\n",
    "                print(amazon.loc[i, \"Score\"])\n",
    "                print(amazon.loc[i, \"HelpfulnessDenominator\"])\n",
    "                print(amazon.loc[i, \"ProductId\"])\n",
    "                print(amazon.loc[i, \"Text\"])\n",
    "                print('* * * * * * * * * ')"
   ]
  },
  {
   "cell_type": "code",
   "execution_count": null,
   "metadata": {},
   "outputs": [],
   "source": []
  },
  {
   "cell_type": "code",
   "execution_count": null,
   "metadata": {},
   "outputs": [],
   "source": []
  },
  {
   "cell_type": "code",
   "execution_count": null,
   "metadata": {},
   "outputs": [],
   "source": []
  }
 ],
 "metadata": {
  "kernelspec": {
   "display_name": "Python 3",
   "language": "python",
   "name": "python3"
  },
  "language_info": {
   "codemirror_mode": {
    "name": "ipython",
    "version": 3
   },
   "file_extension": ".py",
   "mimetype": "text/x-python",
   "name": "python",
   "nbconvert_exporter": "python",
   "pygments_lexer": "ipython3",
   "version": "3.6.8"
  }
 },
 "nbformat": 4,
 "nbformat_minor": 1
}
