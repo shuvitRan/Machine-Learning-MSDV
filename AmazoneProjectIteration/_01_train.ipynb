{
 "cells": [
  {
   "cell_type": "markdown",
   "metadata": {},
   "source": [
    "# Training Set"
   ]
  },
  {
   "cell_type": "code",
   "execution_count": 160,
   "metadata": {},
   "outputs": [],
   "source": [
    "import numpy as np\n",
    "import pandas as pd\n",
    "import matplotlib.pyplot as plt\n",
    "from sklearn.externals import joblib\n",
    "%matplotlib inline\n",
    "\n",
    "from tqdm import tqdm\n",
    "# from time import sleep"
   ]
  },
  {
   "cell_type": "markdown",
   "metadata": {},
   "source": [
    "### Read raw training data"
   ]
  },
  {
   "cell_type": "code",
   "execution_count": 61,
   "metadata": {},
   "outputs": [
    {
     "name": "stdout",
     "output_type": "stream",
     "text": [
      "(364000, 14)\n"
     ]
    }
   ],
   "source": [
    "# OS PATH'/Users/working/Documents/ParsonsSchool/Sp19/MachineLearning/DATASET/amazon_data/raw_data_train.csv'\n",
    "# WINDOWS PATH \"C:/Users/randa/Documents/MLdataset/amazon_data/raw_data_train.csv\"\n",
    "amazon = pd.read_csv('/Users/working/Documents/ParsonsSchool/Sp19/MachineLearning/DATASET/amazon_data/raw_data_train.csv')\n",
    "print(amazon.shape)"
   ]
  },
  {
   "cell_type": "code",
   "execution_count": 62,
   "metadata": {
    "scrolled": true
   },
   "outputs": [
    {
     "name": "stdout",
     "output_type": "stream",
     "text": [
      "   Unnamed: 0  Unnamed: 0.1      Id   ProductId          UserId  \\\n",
      "0      161979        251062  251063  B002INDU22  A16M0DLZ493518   \n",
      "1       72164        206109  206110  B0050JLAEQ  A2B940BLM1T0V3   \n",
      "2      452002        334972  334973  B003D4MW38  A2I8UYFVJ5TLHT   \n",
      "3      419090        119275  119276  B003Z7VYXW  A1YC6AYVXK7NRQ   \n",
      "4      304509         90726   90727  B003OB4BOS  A29NOSP1RGTQNK   \n",
      "\n",
      "         ProfileName  HelpfulnessNumerator  HelpfulnessDenominator  Score  \\\n",
      "0            do-good                     0                       0      4   \n",
      "1              donna                     0                       0      5   \n",
      "2         greenie227                     1                       1      5   \n",
      "3  DesDaz \"torr0015\"                     2                       2      5   \n",
      "4               Josh                     0                       0      4   \n",
      "\n",
      "         Time                           Summary  \\\n",
      "0  1331337600                             Works   \n",
      "1  1348617600    She loves, it, I love it, too!   \n",
      "2  1309737600  Excellent tea, and fast shipping   \n",
      "3  1326240000    Great results, terrific price!   \n",
      "4  1300924800                   not that spicy!   \n",
      "\n",
      "                                                Text  helpScore  helpful  \n",
      "0  We tried these and I was worried that they may...        NaN    False  \n",
      "1  My vet recommended my 11 year old cat change h...        NaN    False  \n",
      "2  This is terrific tea. I bought it to make iced...        1.0    False  \n",
      "3  I have had excellent results with this yeast. ...        1.0    False  \n",
      "4  I wasn't too disappointed, but as someone who ...        NaN    False  \n",
      "0.07315384615384615\n"
     ]
    }
   ],
   "source": [
    "print(amazon.head())\n",
    "print(amazon['helpful'].mean())"
   ]
  },
  {
   "cell_type": "code",
   "execution_count": 63,
   "metadata": {
    "scrolled": true
   },
   "outputs": [
    {
     "name": "stdout",
     "output_type": "stream",
     "text": [
      "0         We tried I worried work. They work well. My fa...\n",
      "1         My vet recommended 11 year old cat change diet...\n",
      "2         This terrific tea. I bought iced tea, it's got...\n",
      "3         I excellent results yeast. When I opened packa...\n",
      "4         I wasn't disappointed, enjoys spicy food 'pica...\n",
      "5         My mom Bustelo cafe like old neighborhood. One...\n",
      "6         I tried samples liked them. However, I tried c...\n",
      "7         I discovered sweetener couple months ago huge ...\n",
      "8         Rooibos tea great healing skin conditions it's...\n",
      "9         I use Kretschmer Wheatgerm homemade granola re...\n",
      "10        These best hazelnuts I've years. They fresh, c...\n",
      "11        I Jamba Juice Match green tea shots...after tr...\n",
      "12        These black ink black we're seeing canned blac...\n",
      "13        I highly recommend these. They tasted great! I...\n",
      "14        I bought package 10 month old practice self fe...\n",
      "15        I bought thinking taste like peppermint patty,...\n",
      "16        I buy 2 packs daily $5 pack. When I saw case I...\n",
      "17        This bread easy make. It bread machine traditi...\n",
      "18        One best tasting honeys I tried. Forget eating...\n",
      "19        Smooth aromatic coffee that's better starbucks...\n",
      "20        You regular cold coffee. Thought expresso stro...\n",
      "21        Wow stuff good! Almost single kernel popped ti...\n",
      "22        I haven't able years, I'm glad I Amazon now. T...\n",
      "23        Excellent dinner option elderly mother, easy s...\n",
      "24        Sent gift mom mother's day loved it!! I happy ...\n",
      "25        I whirly pop bought brand popcorn (similar thi...\n",
      "26        I avoid Made In China snacks beloved Lucky, (n...\n",
      "27        This tea delicious toasted flavor I've come ap...\n",
      "28        This chicken dinner real hit 12 year old, toot...\n",
      "29        Let wow! I little apprehensive prepackaged coo...\n",
      "                                ...                        \n",
      "363970    I love protein shake! It taste like coconut va...\n",
      "363971    My husband bought cases popcorn based 5-stars ...\n",
      "363972    I ordered I intrigued knowing taste.<br />They...\n",
      "363973    I cat struvite crystals. I cranberry powder pa...\n",
      "363974    This fine flavor tea wonderful 'kick'and left ...\n",
      "363975    I excited Lickety Stik dogs. It sounds like go...\n",
      "363976    I started purchasing daughter 9 months old. We...\n",
      "363977    I idea idea mix ramen noodles chocolate, brill...\n",
      "363978    This coffee says medium roast actually little ...\n",
      "363979    I started making Vegetarian dishes help books ...\n",
      "363980    My cat loves taste food healthy eating years. ...\n",
      "363981    1st: cats don't eat brand relish like Wellness...\n",
      "363982    These best Beer Sausages I,ve come decades! Th...\n",
      "363983    The lavendar fragrant, I smell step arrived. T...\n",
      "363984    The tree looks nice, unfortunately packed prop...\n",
      "363985    It's strong, bold intense. I usually don't lik...\n",
      "363986    We cats, like food. One cats generally picky d...\n",
      "363987    I 5 year old boy 3 year old girl. I mixed wate...\n",
      "363988    Having tried different brands years, I safely ...\n",
      "363989    Who would've thought work? Yet does, time time...\n",
      "363990    My dogs \"LOVED\" them. They sit counter I kept ...\n",
      "363991    fantastic peoples busy u need fast snack stick...\n",
      "363992    While taste pretty good, I doubt I purchase ag...\n",
      "363993    The berry flavor strong - fact, far I tell, it...\n",
      "363994    This popcorn tastes like old-fashioned, homema...\n",
      "363995    My girls loved long car ride! We going NJ CA q...\n",
      "363996    Too early know. I recommended product helps jo...\n",
      "363997    Note Amazon, continue carry product worthinton...\n",
      "363998    This fancy grade good gets. You disappointed. ...\n",
      "363999    I'm grateful Keurig coffee maker! The taste Gr...\n",
      "Name: Text, Length: 364000, dtype: object\n"
     ]
    }
   ],
   "source": [
    "from gensim.parsing.preprocessing import remove_stopwords\n",
    "# remove stop words in amazon.Text\n",
    "amazon['Text'] = amazon['Text'].apply(remove_stopwords)\n",
    "#newText = amazon['Text'].apply(remove_stopwords)\n",
    "print(amazon.Text)\n",
    "\n"
   ]
  },
  {
   "cell_type": "code",
   "execution_count": 65,
   "metadata": {},
   "outputs": [
    {
     "name": "stdout",
     "output_type": "stream",
     "text": [
      "**************************************************\n",
      "[b'world/NN', b'be/VB', b'go/VB']\n"
     ]
    }
   ],
   "source": [
    "#Lemmatization \n",
    "\n",
    "\n",
    "\n",
    "# import nltk\n",
    "# nltk.download('wordnet')\n",
    "# from nltk.stem import WordNetLemmatizer \n",
    "#Init the Wordnet Lemmatizer\n",
    "# lemmatizer = WordNetLemmatizer()\n",
    "\n",
    "#print(amazon['Text'][0])\n",
    "#print(lemmatizer.lemmatize(amazon['Text'][0]))\n",
    "\n",
    "#gensim lemmatize needs pattern, but it is only support python 2.7 or 3.6 below\n",
    "\n",
    "from gensim.utils import lemmatize\n",
    "print('**************************************************')\n",
    "print(lemmatize('Hello World! How is it going?!'))\n",
    "\n",
    "\n",
    "# lemmAmazon=[]\n",
    "# for x in amazon['Text']:\n",
    "#     #for y in amazon['Text'][x]:\n",
    "#     lemmAmazon.append([wd.decode('utf-8').split('/')[0] for wd in lemmatize(x)])\n",
    "# print(lemmAmazon)\n",
    "\n",
    "# too slow\n",
    "# for i,w in tqdm(enumerate(amazon['Text'])):\n",
    "#     amazon['Text'][i] = [[wd.decode('utf-8').split('/')[0] for wd in lemmatize(w)]]\n",
    "\n",
    "amaLemma=[]\n",
    "for w in amazon['Text']:\n",
    "    amaLemma.append([wd.decode('utf-8').split('/')[0] for wd in lemmatize(w)])\n",
    "    \n",
    "# [wd.decode('utf-8').split('/')[0] for wd in lemmatize('Hello World! How is it going?!')]\n",
    "# amazon['Text'] = amazon['Text'].apply(lemmatize)\n",
    "# print(amazon.Text.head())\n",
    "\n",
    "\n",
    "# leText=newText.apply(lemmatizer.lemmatize)\n",
    "# print(lemmatizer.lemmatize(\"my bats\"))"
   ]
  },
  {
   "cell_type": "code",
   "execution_count": 92,
   "metadata": {},
   "outputs": [
    {
     "name": "stdout",
     "output_type": "stream",
     "text": [
      "try\n"
     ]
    }
   ],
   "source": [
    "print(amaLemma[0][0])"
   ]
  },
  {
   "cell_type": "code",
   "execution_count": 78,
   "metadata": {},
   "outputs": [
    {
     "name": "stdout",
     "output_type": "stream",
     "text": [
      "364000\n",
      "<class 'list'>\n",
      "['try', 'worry', 'work', 'work', 'well', 'family', 'love', 'try', 'enjoy', 'lunch', 'salad', 'dressing', 'fruit', 'greek', 'yogurt', 'natural', 'tasty', 'pill', 'hard', 'take', 'moment', 'melt', 'work', 'right', 'away', 'lasted', 'minute', 'active', 'eating', 'think', 'acid', 'sour', 'food', 'wash', 'away', 'try', 'again']\n",
      "['vet', 'recommend', 'year', 'old', 'cat', 'change', 'diet', 'blood', 'work', 'come', 'number', 'slightly', 'elevated', 'vet', 'say', 'help', 'maintain', 'kidney', 'filter', 'properly', 'special', 'canned', 'food', 'thank', 'god', 'love', 'food', 'purina', 'kidney', 'function', 'liking', 'far', 'tried', 'science', 'diet', 'walk', 'away', 'recommend', 'food', 'pet']\n",
      "                                                        0\n",
      "0       [try, worry, work, work, well, family, love, t...\n",
      "1       [vet, recommend, year, old, cat, change, diet,...\n",
      "2       [terrific, tea, buy, iced, tea, get, lovely, f...\n",
      "3       [excellent, result, yeast, opened, package, po...\n",
      "4       [wasn, disappoint, enjoy, spicy, food, picante...\n",
      "5       [mom, bustelo, cafe, old, neighborhood, day, s...\n",
      "6       [try, sample, like, however, try, caribou, sal...\n",
      "7       [discovered, sweetener, couple, month, huge, f...\n",
      "8       [rooibos, tea, great, healing, skin, condition...\n",
      "9       [use, kretschmer, wheatgerm, homemade, granola...\n",
      "10      [best, hazelnut, ve, year, fresh, crisp, taste...\n",
      "11      [jamba, juice, match, green, tea, shot, try, i...\n",
      "12      [black, ink, black, re, see, canned, black, ol...\n",
      "13      [highly, recommend, taste, great, fact, review...\n",
      "14      [buy, package, month, old, practice, self, fee...\n",
      "15      [buy, think, taste, like, peppermint, patty, l...\n",
      "16      [buy, pack, daily, pack, see, case, love, hour...\n",
      "17      [bread, make, bread, machine, traditional, way...\n",
      "18      [best, taste, honey, try, forget, eat, local, ...\n",
      "19      [aromatic, coffee, better, starbucks, burnt, s...\n",
      "20      [regular, cold, coffee, think, expresso, stron...\n",
      "21      [stuff, good, almost, single, kernel, pop, tim...\n",
      "22      [haven, able, year, glad, amazon, now, taste, ...\n",
      "23      [excellent, dinner, option, elderly, mother, e...\n",
      "24      [send, gift, mom, mother, day, love, happy, ar...\n",
      "25      [whirly, pop, buy, brand, popcorn, similar, co...\n",
      "26      [avoid, make, china, snack, beloved, lucky, no...\n",
      "27      [tea, delicious, toast, flavor, come, apprecia...\n",
      "28      [chicken, dinner, real, hit, year, old, toothl...\n",
      "29      [let, little, apprehensive, prepackage, cookie...\n",
      "...                                                   ...\n",
      "363970  [love, protein, shake, taste, coconut, vanilla...\n",
      "363971  [husband, bought, case, popcorn, base, star, r...\n",
      "363972  [order, intrigue, know, taste, br, taste, good...\n",
      "363973  [cat, struvite, crystal, cranberry, powder, pa...\n",
      "363974  [fine, flavor, tea, wonderful, kick, left, fam...\n",
      "363975  [excite, lickety, stik, dog, sound, good, idea...\n",
      "363976  [start, purchase, daughter, month, old, start,...\n",
      "363977  [idea, idea, mix, raman, noodle, chocolate, br...\n",
      "363978  [coffee, say, medium, roast, actually, little,...\n",
      "363979  [start, make, vegetarian, dish, help, book, ve...\n",
      "363980  [cat, love, taste, food, healthy, eating, year...\n",
      "363981  [st, cat, don, eat, brand, relish, wellness, m...\n",
      "363982  [best, beer, sausage, ve, come, decade, taste,...\n",
      "363983  [lavendar, fragrant, smell, step, arrive, bonu...\n",
      "363984  [tree, look, nice, unfortunately, pack, proper...\n",
      "363985  [strong, bold, intense, usually, don, strong, ...\n",
      "363986  [cat, food, cat, generally, picky, dry, food, ...\n",
      "363987  [year, old, boy, year, old, girl, mixed, water...\n",
      "363988  [have, try, different, brand, year, safely, am...\n",
      "363989  [have, thought, work, yet, do, time, time, aga...\n",
      "363990        [dog, love, sit, counter, keep, wait, more]\n",
      "363991  [fantastic, people, busy, need, fast, snack, s...\n",
      "363992  [taste, pretty, good, doubt, purchase, again, ...\n",
      "363993  [berry, flavor, strong, fact, far, tell, nearl...\n",
      "363994  [popcorn, taste, old, fashion, homemade, popco...\n",
      "363995  [girl, love, long, car, ride, go, nj, quick, e...\n",
      "363996  [too, early, know, recommend, product, help, j...\n",
      "363997  [note, amazon, carry, product, worthinton, lom...\n",
      "363998  [fancy, grade, good, get, disappoint, priouct,...\n",
      "363999  [grateful, keurig, coffee, maker, taste, green...\n",
      "\n",
      "[364000 rows x 1 columns]\n"
     ]
    }
   ],
   "source": [
    "amazon['Text'].tail()\n",
    "\n",
    "\n",
    "print(len(amaLemma))\n",
    "print(type(amaLemma))\n",
    "\n",
    "print(amaLemma[0])\n",
    "print(amaLemma[1])\n",
    "\n",
    "amaNp=np.array(amaLemma)\n",
    "amaDF=pd.DataFrame(amaNp)\n",
    "\n",
    "amaDF.to_csv('/Users/working/Documents/ParsonsSchool/Sp19/MachineLearning/DATASET/amazon_data/AmazonLemmatized.csv')\n",
    "print(amaDF)\n",
    "#amaLemma.to_csv('/Users/working/Documents/ParsonsSchool/Sp19/MachineLearning/DATASET/amazon_data/AmazonLemmatized.csv')\n",
    "\n",
    "# amaLemmaDF = pd.DataFrame(amaLemma, columns=['Text'])\n",
    "\n"
   ]
  },
  {
   "cell_type": "code",
   "execution_count": 102,
   "metadata": {},
   "outputs": [
    {
     "name": "stdout",
     "output_type": "stream",
     "text": [
      "                                                   0\n",
      "0  [try, worry, work, work, well, family, love, t...\n",
      "1  [vet, recommend, year, old, cat, change, diet,...\n",
      "2  [terrific, tea, buy, iced, tea, get, lovely, f...\n",
      "3  [excellent, result, yeast, opened, package, po...\n",
      "4  [wasn, disappoint, enjoy, spicy, food, picante...\n",
      "<class 'pandas.core.frame.DataFrame'>\n",
      "['try', 'worry', 'work', 'work', 'well', 'family', 'love', 'try', 'enjoy', 'lunch', 'salad', 'dressing', 'fruit', 'greek', 'yogurt', 'natural', 'tasty', 'pill', 'hard', 'take', 'moment', 'melt', 'work', 'right', 'away', 'lasted', 'minute', 'active', 'eating', 'think', 'acid', 'sour', 'food', 'wash', 'away', 'try', 'again']\n"
     ]
    },
    {
     "ename": "AttributeError",
     "evalue": "'list' object has no attribute 'dtypes'",
     "output_type": "error",
     "traceback": [
      "\u001b[0;31m---------------------------------------------------------------------------\u001b[0m",
      "\u001b[0;31mAttributeError\u001b[0m                            Traceback (most recent call last)",
      "\u001b[0;32m<ipython-input-102-f8a3ca4b0593>\u001b[0m in \u001b[0;36m<module>\u001b[0;34m\u001b[0m\n\u001b[1;32m      3\u001b[0m \u001b[0mprint\u001b[0m\u001b[0;34m(\u001b[0m\u001b[0mamaDF\u001b[0m\u001b[0;34m[\u001b[0m\u001b[0;36m0\u001b[0m\u001b[0;34m]\u001b[0m\u001b[0;34m[\u001b[0m\u001b[0;36m0\u001b[0m\u001b[0;34m]\u001b[0m\u001b[0;34m)\u001b[0m\u001b[0;34m\u001b[0m\u001b[0;34m\u001b[0m\u001b[0m\n\u001b[1;32m      4\u001b[0m \u001b[0;34m\u001b[0m\u001b[0m\n\u001b[0;32m----> 5\u001b[0;31m \u001b[0mprint\u001b[0m\u001b[0;34m(\u001b[0m\u001b[0mamaDF\u001b[0m\u001b[0;34m[\u001b[0m\u001b[0;36m0\u001b[0m\u001b[0;34m]\u001b[0m\u001b[0;34m[\u001b[0m\u001b[0;36m0\u001b[0m\u001b[0;34m]\u001b[0m\u001b[0;34m.\u001b[0m\u001b[0mdtypes\u001b[0m\u001b[0;34m)\u001b[0m\u001b[0;34m\u001b[0m\u001b[0;34m\u001b[0m\u001b[0m\n\u001b[0m",
      "\u001b[0;31mAttributeError\u001b[0m: 'list' object has no attribute 'dtypes'"
     ]
    }
   ],
   "source": [
    "print(amaDF.head())\n",
    "print(type(amaDF))\n",
    "print(amaDF[0][0])\n",
    "\n",
    "print(amaDF[0][0].dtypes)"
   ]
  },
  {
   "cell_type": "code",
   "execution_count": null,
   "metadata": {},
   "outputs": [],
   "source": []
  },
  {
   "cell_type": "code",
   "execution_count": 106,
   "metadata": {},
   "outputs": [
    {
     "name": "stdout",
     "output_type": "stream",
     "text": [
      "0    try worry work work well family love try enjoy...\n",
      "1    vet recommend year old cat change diet blood w...\n",
      "2          terrific tea buy iced tea get lovely flavor\n",
      "3    excellent result yeast opened package pour gla...\n",
      "4    wasn disappoint enjoy spicy food picante spani...\n",
      "Name: 0, dtype: object\n"
     ]
    },
    {
     "ename": "AttributeError",
     "evalue": "'str' object has no attribute 'dtypes'",
     "output_type": "error",
     "traceback": [
      "\u001b[0;31m---------------------------------------------------------------------------\u001b[0m",
      "\u001b[0;31mAttributeError\u001b[0m                            Traceback (most recent call last)",
      "\u001b[0;32m<ipython-input-106-db5536682be1>\u001b[0m in \u001b[0;36m<module>\u001b[0;34m\u001b[0m\n\u001b[1;32m      6\u001b[0m \u001b[0mprint\u001b[0m\u001b[0;34m(\u001b[0m\u001b[0mamaDFOut\u001b[0m\u001b[0;34m.\u001b[0m\u001b[0mhead\u001b[0m\u001b[0;34m(\u001b[0m\u001b[0;34m)\u001b[0m\u001b[0;34m)\u001b[0m\u001b[0;34m\u001b[0m\u001b[0;34m\u001b[0m\u001b[0m\n\u001b[1;32m      7\u001b[0m \u001b[0;34m\u001b[0m\u001b[0m\n\u001b[0;32m----> 8\u001b[0;31m \u001b[0mprint\u001b[0m\u001b[0;34m(\u001b[0m\u001b[0mamaDFOut\u001b[0m\u001b[0;34m[\u001b[0m\u001b[0;36m0\u001b[0m\u001b[0;34m]\u001b[0m\u001b[0;34m[\u001b[0m\u001b[0;36m0\u001b[0m\u001b[0;34m]\u001b[0m\u001b[0;34m.\u001b[0m\u001b[0mdtypes\u001b[0m\u001b[0;34m)\u001b[0m\u001b[0;34m\u001b[0m\u001b[0;34m\u001b[0m\u001b[0m\n\u001b[0m",
      "\u001b[0;31mAttributeError\u001b[0m: 'str' object has no attribute 'dtypes'"
     ]
    }
   ],
   "source": [
    "# lemmAmazon[0]\n",
    "\n",
    "# jointTest=' '.join(lemmAmazon[0])\n",
    "\n",
    "amaDFOut = amaDF[0].apply(' '.join)\n",
    "print(amaDFOut.head())\n"
   ]
  },
  {
   "cell_type": "code",
   "execution_count": 376,
   "metadata": {},
   "outputs": [
    {
     "name": "stdout",
     "output_type": "stream",
     "text": [
      "try worry work work well family love try enjoy lunch salad dressing fruit greek yogurt natural tasty pill hard take moment melt work right away lasted minute active eating think acid sour food wash away try again\n",
      "We tried I worried work. They work well. My family loved trying them. We enjoyed lunch salad dressing fruit greek yogurt natural. Tasty.<br />The pill hard took moments melt worked right away. It lasted 20-25 minutes active eating. I think acid sour foods washes away. I try again.\n",
      "364000\n"
     ]
    }
   ],
   "source": [
    "print(amaDFOut[0])\n",
    "print(amazon[\"Text\"][0])\n",
    "\n",
    "print(len(amaDFOut))"
   ]
  },
  {
   "cell_type": "markdown",
   "metadata": {},
   "source": [
    "### Feature extraction on natural language data"
   ]
  },
  {
   "cell_type": "markdown",
   "metadata": {},
   "source": [
    "### Extraction By CountVecorizer"
   ]
  },
  {
   "cell_type": "code",
   "execution_count": 502,
   "metadata": {},
   "outputs": [
    {
     "name": "stderr",
     "output_type": "stream",
     "text": [
      "/anaconda3/envs/Py36env/lib/python3.6/site-packages/ipykernel_launcher.py:5: FutureWarning: Method .as_matrix will be removed in a future version. Use .values instead.\n",
      "  \"\"\"\n"
     ]
    },
    {
     "name": "stdout",
     "output_type": "stream",
     "text": [
      "[[0 0 0 ... 0 0 0]\n",
      " [0 0 0 ... 0 0 0]\n",
      " [0 0 0 ... 0 0 0]\n",
      " ...\n",
      " [0 0 0 ... 0 0 0]\n",
      " [0 0 0 ... 0 0 0]\n",
      " [0 0 0 ... 0 0 0]]\n"
     ]
    },
    {
     "name": "stderr",
     "output_type": "stream",
     "text": [
      "/anaconda3/envs/Py36env/lib/python3.6/site-packages/ipykernel_launcher.py:9: FutureWarning: Method .as_matrix will be removed in a future version. Use .values instead.\n",
      "  if __name__ == '__main__':\n"
     ]
    }
   ],
   "source": [
    "# # http://scikit-learn.org/stable/modules/generated/sklearn.feature_extraction.text.CountVectorizer.html\n",
    "from sklearn.feature_extraction.text import CountVectorizer\n",
    "vectorizer = CountVectorizer()\n",
    "# corpus = amazon.Text.as_matrix()\n",
    "corpus = amaDFOut.as_matrix()\n",
    "X_bag_of_words = vectorizer.fit_transform(corpus)\n",
    "print(X_bag_of_words.toarray())\n",
    "\n",
    "corpusForId= amazon.ProductId.as_matrix()\n",
    "bagOfId= vectorizer.fit_transform(corpusForId)\n",
    "\n"
   ]
  },
  {
   "cell_type": "code",
   "execution_count": 535,
   "metadata": {},
   "outputs": [
    {
     "name": "stdout",
     "output_type": "stream",
     "text": [
      "(364000, 76965)\n",
      "  (0, 37605)\t1\n"
     ]
    }
   ],
   "source": [
    "print(X_bag_of_words.shape)\n",
    "# print(X_bag_of_words[0])\n",
    "type(X_bag_of_words)\n",
    "\n",
    "print(bagOfId[100])\n"
   ]
  },
  {
   "cell_type": "code",
   "execution_count": 450,
   "metadata": {},
   "outputs": [
    {
     "data": {
      "text/plain": [
       "['vectorizer.pkl']"
      ]
     },
     "execution_count": 450,
     "metadata": {},
     "output_type": "execute_result"
    }
   ],
   "source": [
    "joblib.dump(vectorizer,'vectorizer.pkl')"
   ]
  },
  {
   "cell_type": "markdown",
   "metadata": {},
   "source": [
    "### Hashing Vectorizer"
   ]
  },
  {
   "cell_type": "code",
   "execution_count": 167,
   "metadata": {},
   "outputs": [
    {
     "name": "stderr",
     "output_type": "stream",
     "text": [
      "/anaconda3/envs/Py36env/lib/python3.6/site-packages/sklearn/feature_extraction/hashing.py:102: DeprecationWarning: the option non_negative=True has been deprecated in 0.19 and will be removed in version 0.21.\n",
      "  \" in version 0.21.\", DeprecationWarning)\n",
      "/anaconda3/envs/Py36env/lib/python3.6/site-packages/sklearn/feature_extraction/hashing.py:102: DeprecationWarning: the option non_negative=True has been deprecated in 0.19 and will be removed in version 0.21.\n",
      "  \" in version 0.21.\", DeprecationWarning)\n"
     ]
    },
    {
     "name": "stdout",
     "output_type": "stream",
     "text": [
      "HashingVectorizer(alternate_sign=True, analyzer='word', binary=False,\n",
      "         decode_error='strict', dtype=<class 'numpy.float64'>,\n",
      "         encoding='utf-8', input='content', lowercase=True,\n",
      "         n_features=1048576, ngram_range=(1, 1), non_negative=True,\n",
      "         norm='l2', preprocessor=None, stop_words=None, strip_accents=None,\n",
      "         token_pattern='(?u)\\\\b\\\\w\\\\w+\\\\b', tokenizer=None)\n",
      "(364000, 1048576)\n"
     ]
    }
   ],
   "source": [
    "# # vectorize Bag of Words from review text; as sparse matrix\n",
    "# from sklearn.feature_extraction.text import HashingVectorizer\n",
    "# # hv = HashingVectorizer(n_features=2 ** 17, non_negative=True)\n",
    "# hv = HashingVectorizer(n_features=2 ** 20, non_negative=True)\n",
    "# # X_hv = hv.fit_transform(amazon.Text)\n",
    "# X_hv = hv.fit_transform(amaDFOut)\n",
    "# print(hv)\n",
    "# print(X_hv.shape)"
   ]
  },
  {
   "cell_type": "code",
   "execution_count": 168,
   "metadata": {},
   "outputs": [
    {
     "data": {
      "text/plain": [
       "scipy.sparse.csr.csr_matrix"
      ]
     },
     "execution_count": 168,
     "metadata": {},
     "output_type": "execute_result"
    }
   ],
   "source": [
    "# type(X_hv)"
   ]
  },
  {
   "cell_type": "code",
   "execution_count": 169,
   "metadata": {},
   "outputs": [
    {
     "data": {
      "text/plain": [
       "['hv.pkl']"
      ]
     },
     "execution_count": 169,
     "metadata": {},
     "output_type": "execute_result"
    }
   ],
   "source": [
    "# # We want to be able to use this model fit on other data (the test set)\n",
    "# # So let's save a copy of this instance of HashingVectorizer to be able to transform other data with this fit\n",
    "# # http://scikit-learn.org/stable/modules/model_persistence.html\n",
    "# joblib.dump(hv, 'hv.pkl') # pickle\n"
   ]
  },
  {
   "cell_type": "code",
   "execution_count": 517,
   "metadata": {},
   "outputs": [
    {
     "data": {
      "text/plain": [
       "['transformer.pkl']"
      ]
     },
     "execution_count": 517,
     "metadata": {},
     "output_type": "execute_result"
    }
   ],
   "source": [
    "# http://scikit-learn.org/stable/modules/generated/sklearn.feature_extraction.text.TfidfTransformer.html\n",
    "from sklearn.feature_extraction.text import TfidfTransformer\n",
    "transformer = TfidfTransformer()\n",
    "X_tfidf = transformer.fit_transform(X_bag_of_words)\n",
    "\n",
    "\n",
    "joblib.dump(transformer, 'transformer.pkl') # pickle"
   ]
  },
  {
   "cell_type": "code",
   "execution_count": 520,
   "metadata": {},
   "outputs": [
    {
     "name": "stdout",
     "output_type": "stream",
     "text": [
      "<class 'scipy.sparse.csr.csr_matrix'>\n",
      "<class 'scipy.sparse.csr.csr_matrix'>\n"
     ]
    }
   ],
   "source": [
    "print(type(X_tfidf))\n",
    "print(type(X2_tfidf))"
   ]
  },
  {
   "cell_type": "code",
   "execution_count": 530,
   "metadata": {},
   "outputs": [
    {
     "name": "stdout",
     "output_type": "stream",
     "text": [
      "0           (0, 34765)\\t1\\n  (1, 52158)\\t1\\n  (2, 39437)...\n",
      "1           (0, 34765)\\t1\\n  (1, 52158)\\t1\\n  (2, 39437)...\n",
      "2           (0, 34765)\\t1\\n  (1, 52158)\\t1\\n  (2, 39437)...\n",
      "3           (0, 34765)\\t1\\n  (1, 52158)\\t1\\n  (2, 39437)...\n",
      "4           (0, 34765)\\t1\\n  (1, 52158)\\t1\\n  (2, 39437)...\n",
      "5           (0, 34765)\\t1\\n  (1, 52158)\\t1\\n  (2, 39437)...\n",
      "6           (0, 34765)\\t1\\n  (1, 52158)\\t1\\n  (2, 39437)...\n",
      "7           (0, 34765)\\t1\\n  (1, 52158)\\t1\\n  (2, 39437)...\n",
      "8           (0, 34765)\\t1\\n  (1, 52158)\\t1\\n  (2, 39437)...\n",
      "9           (0, 34765)\\t1\\n  (1, 52158)\\t1\\n  (2, 39437)...\n",
      "10          (0, 34765)\\t1\\n  (1, 52158)\\t1\\n  (2, 39437)...\n",
      "11          (0, 34765)\\t1\\n  (1, 52158)\\t1\\n  (2, 39437)...\n",
      "12          (0, 34765)\\t1\\n  (1, 52158)\\t1\\n  (2, 39437)...\n",
      "13          (0, 34765)\\t1\\n  (1, 52158)\\t1\\n  (2, 39437)...\n",
      "14          (0, 34765)\\t1\\n  (1, 52158)\\t1\\n  (2, 39437)...\n",
      "15          (0, 34765)\\t1\\n  (1, 52158)\\t1\\n  (2, 39437)...\n",
      "16          (0, 34765)\\t1\\n  (1, 52158)\\t1\\n  (2, 39437)...\n",
      "17          (0, 34765)\\t1\\n  (1, 52158)\\t1\\n  (2, 39437)...\n",
      "18          (0, 34765)\\t1\\n  (1, 52158)\\t1\\n  (2, 39437)...\n",
      "19          (0, 34765)\\t1\\n  (1, 52158)\\t1\\n  (2, 39437)...\n",
      "20          (0, 34765)\\t1\\n  (1, 52158)\\t1\\n  (2, 39437)...\n",
      "21          (0, 34765)\\t1\\n  (1, 52158)\\t1\\n  (2, 39437)...\n",
      "22          (0, 34765)\\t1\\n  (1, 52158)\\t1\\n  (2, 39437)...\n",
      "23          (0, 34765)\\t1\\n  (1, 52158)\\t1\\n  (2, 39437)...\n",
      "24          (0, 34765)\\t1\\n  (1, 52158)\\t1\\n  (2, 39437)...\n",
      "25          (0, 34765)\\t1\\n  (1, 52158)\\t1\\n  (2, 39437)...\n",
      "26          (0, 34765)\\t1\\n  (1, 52158)\\t1\\n  (2, 39437)...\n",
      "27          (0, 34765)\\t1\\n  (1, 52158)\\t1\\n  (2, 39437)...\n",
      "28          (0, 34765)\\t1\\n  (1, 52158)\\t1\\n  (2, 39437)...\n",
      "29          (0, 34765)\\t1\\n  (1, 52158)\\t1\\n  (2, 39437)...\n",
      "                                ...                        \n",
      "363970      (0, 34765)\\t1\\n  (1, 52158)\\t1\\n  (2, 39437)...\n",
      "363971      (0, 34765)\\t1\\n  (1, 52158)\\t1\\n  (2, 39437)...\n",
      "363972      (0, 34765)\\t1\\n  (1, 52158)\\t1\\n  (2, 39437)...\n",
      "363973      (0, 34765)\\t1\\n  (1, 52158)\\t1\\n  (2, 39437)...\n",
      "363974      (0, 34765)\\t1\\n  (1, 52158)\\t1\\n  (2, 39437)...\n",
      "363975      (0, 34765)\\t1\\n  (1, 52158)\\t1\\n  (2, 39437)...\n",
      "363976      (0, 34765)\\t1\\n  (1, 52158)\\t1\\n  (2, 39437)...\n",
      "363977      (0, 34765)\\t1\\n  (1, 52158)\\t1\\n  (2, 39437)...\n",
      "363978      (0, 34765)\\t1\\n  (1, 52158)\\t1\\n  (2, 39437)...\n",
      "363979      (0, 34765)\\t1\\n  (1, 52158)\\t1\\n  (2, 39437)...\n",
      "363980      (0, 34765)\\t1\\n  (1, 52158)\\t1\\n  (2, 39437)...\n",
      "363981      (0, 34765)\\t1\\n  (1, 52158)\\t1\\n  (2, 39437)...\n",
      "363982      (0, 34765)\\t1\\n  (1, 52158)\\t1\\n  (2, 39437)...\n",
      "363983      (0, 34765)\\t1\\n  (1, 52158)\\t1\\n  (2, 39437)...\n",
      "363984      (0, 34765)\\t1\\n  (1, 52158)\\t1\\n  (2, 39437)...\n",
      "363985      (0, 34765)\\t1\\n  (1, 52158)\\t1\\n  (2, 39437)...\n",
      "363986      (0, 34765)\\t1\\n  (1, 52158)\\t1\\n  (2, 39437)...\n",
      "363987      (0, 34765)\\t1\\n  (1, 52158)\\t1\\n  (2, 39437)...\n",
      "363988      (0, 34765)\\t1\\n  (1, 52158)\\t1\\n  (2, 39437)...\n",
      "363989      (0, 34765)\\t1\\n  (1, 52158)\\t1\\n  (2, 39437)...\n",
      "363990      (0, 34765)\\t1\\n  (1, 52158)\\t1\\n  (2, 39437)...\n",
      "363991      (0, 34765)\\t1\\n  (1, 52158)\\t1\\n  (2, 39437)...\n",
      "363992      (0, 34765)\\t1\\n  (1, 52158)\\t1\\n  (2, 39437)...\n",
      "363993      (0, 34765)\\t1\\n  (1, 52158)\\t1\\n  (2, 39437)...\n",
      "363994      (0, 34765)\\t1\\n  (1, 52158)\\t1\\n  (2, 39437)...\n",
      "363995      (0, 34765)\\t1\\n  (1, 52158)\\t1\\n  (2, 39437)...\n",
      "363996      (0, 34765)\\t1\\n  (1, 52158)\\t1\\n  (2, 39437)...\n",
      "363997      (0, 34765)\\t1\\n  (1, 52158)\\t1\\n  (2, 39437)...\n",
      "363998      (0, 34765)\\t1\\n  (1, 52158)\\t1\\n  (2, 39437)...\n",
      "363999      (0, 34765)\\t1\\n  (1, 52158)\\t1\\n  (2, 39437)...\n",
      "Name: Pid, Length: 364000, dtype: object\n"
     ]
    }
   ],
   "source": [
    "amazon['Pid']= bagOfId\n",
    "print(amazon.Pid)"
   ]
  },
  {
   "cell_type": "markdown",
   "metadata": {},
   "source": [
    "### Time Converting"
   ]
  },
  {
   "cell_type": "code",
   "execution_count": 412,
   "metadata": {},
   "outputs": [
    {
     "name": "stdout",
     "output_type": "stream",
     "text": [
      "0    19\n",
      "1    20\n",
      "2    20\n",
      "3    19\n",
      "4    20\n",
      "5    19\n",
      "6    20\n",
      "7    19\n",
      "8    20\n",
      "9    20\n",
      "Name: amaHour, dtype: int64\n",
      "0    4\n",
      "1    1\n",
      "2    6\n",
      "3    1\n",
      "4    2\n",
      "5    6\n",
      "6    3\n",
      "7    0\n",
      "8    5\n",
      "9    1\n",
      "Name: amaDay, dtype: int64\n"
     ]
    }
   ],
   "source": [
    "import datetime\n",
    "# ts= time.\n",
    "# amazoneHour = datetime.datetime.fromtimestamp(1331337600).strftime(\"%H\")\n",
    "# amazoneDay = datetime.datetime.fromtimestamp(1331337600).strftime(\"%a\")\n",
    "\n",
    "# amazoneTest= datetime.datetime.strftime(datetime.datetime.fromtimestamp(1331337600), \"%H\")\n",
    "# # amazoneHour= datetime.datetime.strftime(\"%H\", amazoneHour)\n",
    "# print(amazoneTest)\n",
    "# print(amazoneDay)\n",
    "\n",
    "amazon['amaRead'] = amazon['Time'].apply(datetime.datetime.fromtimestamp)\n",
    "amazon['amaHour'] = amazon['amaRead'].apply(datetime.datetime.strftime, format=(\"%H\"))\n",
    "amazon['amaHour'] = amazon['amaHour'].apply(int)\n",
    "amazon['amaDay'] =amazon['amaRead'].apply(datetime.datetime.weekday)#is , format=(\"%A\"))\n",
    "# amazon['readableamaDay'] =amazon['amaRead'].apply(datetime.datetime.strftime , format=(\"%A\"))\n",
    "print(amazon['amaHour'].head(10))\n",
    "print(amazon['amaDay'].head(10))\n",
    "# print(amazon['readableamaDay'].head(10))"
   ]
  },
  {
   "cell_type": "markdown",
   "metadata": {
    "collapsed": true
   },
   "source": [
    "### Create additional quantitative features"
   ]
  },
  {
   "cell_type": "code",
   "execution_count": 463,
   "metadata": {},
   "outputs": [
    {
     "name": "stdout",
     "output_type": "stream",
     "text": [
      "   Score  reviewLen        Time  amaDay  amaHour\n",
      "0      4        212  1331337600       4       19\n",
      "1      5        246  1348617600       1       20\n",
      "2      5         43  1309737600       6       20\n",
      "3      5        155  1326240000       1       19\n",
      "4      4         95  1300924800       2       20\n",
      "5      5         85  1327881600       6       19\n",
      "6      5         74  1346976000       3       20\n",
      "7      5        453  1199750400       0       19\n",
      "8      5        886  1316908800       5       20\n",
      "9      5        384  1348012800       1       20\n",
      "<class 'pandas.core.frame.DataFrame'>\n"
     ]
    }
   ],
   "source": [
    "# features from Amazon.csv to add to feature set\n",
    "# amazon['reviewLen'] = amazon['Text'].str.len()\n",
    "amazon['reviewLen'] = amaDFOut.str.len()\n",
    "\n",
    "X_quant_features = amazon[[\"Score\", \"reviewLen\",\"Time\",\"amaDay\",\"amaHour\"]]\n",
    "print(X_quant_features.head(10))\n",
    "print(type(X_quant_features))"
   ]
  },
  {
   "cell_type": "code",
   "execution_count": 464,
   "metadata": {},
   "outputs": [],
   "source": [
    "#try adding time from amazon.csv"
   ]
  },
  {
   "cell_type": "markdown",
   "metadata": {},
   "source": [
    "### Combine all quantitative features into a single sparse matrix"
   ]
  },
  {
   "cell_type": "code",
   "execution_count": 465,
   "metadata": {},
   "outputs": [
    {
     "name": "stdout",
     "output_type": "stream",
     "text": [
      "(364000, 76970)\n"
     ]
    }
   ],
   "source": [
    "from scipy.sparse import csr_matrix, hstack\n",
    "X_quant_features_csr = csr_matrix(X_quant_features)\n",
    "X_combined = hstack([X_tfidf, X_quant_features_csr])\n",
    "X_matrix = csr_matrix(X_combined) # convert to sparse matrix\n",
    "print(X_matrix.shape)"
   ]
  },
  {
   "cell_type": "code",
   "execution_count": 466,
   "metadata": {},
   "outputs": [
    {
     "name": "stdout",
     "output_type": "stream",
     "text": [
      "  (0, 319)\t0.12662749456550074\n",
      "  (0, 639)\t0.1141985525464645\n",
      "  (0, 653)\t0.16834130209895304\n",
      "  (0, 2072)\t0.10257918920207251\n",
      "  (0, 3427)\t0.07622575306716277\n",
      "  (0, 4145)\t0.07611250760940237\n",
      "  (0, 6460)\t0.06042443070399772\n",
      "  (0, 7506)\t0.058150519491248456\n",
      "  (0, 7571)\t0.35677156884865163\n",
      "  (0, 9301)\t0.08316452745670265\n",
      "  (0, 10977)\t0.07776025414333387\n",
      "  (0, 13432)\t0.09264239190622757\n",
      "  (0, 13677)\t0.09317794080286396\n",
      "  (0, 14119)\t0.08634564222168303\n",
      "  (0, 15708)\t0.2731284918837669\n",
      "  (0, 20187)\t0.09240093941597419\n",
      "  (0, 20389)\t0.14686861772158682\n",
      "  (0, 23291)\t0.07570107932538182\n",
      "  (0, 24194)\t0.1697029254895429\n",
      "  (0, 24769)\t0.04122026140732424\n",
      "  (0, 25105)\t0.1191598898000981\n",
      "  (0, 25472)\t0.0954161026527231\n",
      "  (0, 26970)\t0.164473320560259\n",
      "  (0, 27373)\t0.05163146865798672\n",
      "  (0, 28276)\t0.03809647059718771\n",
      "  :\t:\n",
      "  (0, 50142)\t0.06510566160573458\n",
      "  (0, 51631)\t0.08634872175066564\n",
      "  (0, 58114)\t0.12243530794756873\n",
      "  (0, 59102)\t0.14785597050156818\n",
      "  (0, 59795)\t0.08776923020576301\n",
      "  (0, 60256)\t0.16749203453421377\n",
      "  (0, 60846)\t0.0721858494069424\n",
      "  (0, 62210)\t0.11698534811848442\n",
      "  (0, 62216)\t0.1102394020206979\n",
      "  (0, 64504)\t0.08605264279634005\n",
      "  (0, 64968)\t0.09616226442911849\n",
      "  (0, 65072)\t0.18802553688284676\n",
      "  (0, 66832)\t0.03562118496825432\n",
      "  (0, 67027)\t0.055610176570487564\n",
      "  (0, 67281)\t0.1466320838770288\n",
      "  (0, 67863)\t0.059722073365566244\n",
      "  (0, 69695)\t0.04154521021864269\n",
      "  (0, 71910)\t0.08402770944063663\n",
      "  (0, 72369)\t0.11332581874750199\n",
      "  (0, 75429)\t0.10012787960405009\n",
      "  (0, 76965)\t5.0\n",
      "  (0, 76966)\t476.0\n",
      "  (0, 76967)\t1261785600.0\n",
      "  (0, 76968)\t4.0\n",
      "  (0, 76969)\t19.0\n"
     ]
    }
   ],
   "source": [
    "# look at an example of a \"row\" of a sparse matrix\n",
    "print(X_matrix[1234])"
   ]
  },
  {
   "cell_type": "markdown",
   "metadata": {},
   "source": [
    "### Create `X`, scaled matrix of features"
   ]
  },
  {
   "cell_type": "code",
   "execution_count": 467,
   "metadata": {},
   "outputs": [
    {
     "name": "stdout",
     "output_type": "stream",
     "text": [
      "(364000, 76970)\n"
     ]
    },
    {
     "data": {
      "text/plain": [
       "['sc.pkl']"
      ]
     },
     "execution_count": 467,
     "metadata": {},
     "output_type": "execute_result"
    }
   ],
   "source": [
    "# feature scaling\n",
    "from sklearn.preprocessing import StandardScaler\n",
    "sc = StandardScaler(with_mean=False)\n",
    "X = sc.fit_transform(X_matrix)\n",
    "print(X.shape)\n",
    "\n",
    "joblib.dump(sc, 'sc.pkl') # pickle"
   ]
  },
  {
   "cell_type": "markdown",
   "metadata": {},
   "source": [
    "### create `y`, vector of Labels"
   ]
  },
  {
   "cell_type": "code",
   "execution_count": 468,
   "metadata": {
    "scrolled": true
   },
   "outputs": [
    {
     "name": "stdout",
     "output_type": "stream",
     "text": [
      "<class 'numpy.ndarray'>\n"
     ]
    }
   ],
   "source": [
    "y = amazon['helpful'].values\n",
    "print(type(y))"
   ]
  },
  {
   "cell_type": "markdown",
   "metadata": {},
   "source": [
    "# fit models"
   ]
  },
  {
   "cell_type": "code",
   "execution_count": 469,
   "metadata": {},
   "outputs": [],
   "source": [
    "from my_measures import BinaryClassificationPerformance"
   ]
  },
  {
   "cell_type": "markdown",
   "metadata": {},
   "source": [
    "### MODEL: ordinary least squares"
   ]
  },
  {
   "cell_type": "code",
   "execution_count": 470,
   "metadata": {},
   "outputs": [
    {
     "name": "stderr",
     "output_type": "stream",
     "text": [
      "/anaconda3/envs/Py36env/lib/python3.6/site-packages/sklearn/linear_model/stochastic_gradient.py:166: FutureWarning: max_iter and tol parameters have been added in SGDClassifier in 0.19. If both are left unset, they default to max_iter=5 and tol=None. If tol is not None, max_iter defaults to max_iter=1000. From 0.21, default max_iter will be 1000, and default tol will be 1e-3.\n",
      "  FutureWarning)\n"
     ]
    },
    {
     "name": "stdout",
     "output_type": "stream",
     "text": [
      "{'Pos': 26628, 'Neg': 337372, 'TP': 13966, 'TN': 159347, 'FP': 178025, 'FN': 12662, 'Accuracy': 0.4761346153846154, 'Precision': 0.07274299316113776, 'Recall': 0.5244855039807721, 'desc': 'ols'}\n"
     ]
    }
   ],
   "source": [
    "from sklearn import linear_model\n",
    "ols = linear_model.SGDClassifier(loss=\"squared_loss\")\n",
    "ols.fit(X, y)\n",
    "joblib.dump(ols, 'ols.pkl') # pickle\n",
    "\n",
    "ols_performance = BinaryClassificationPerformance(ols.predict(X), y, 'ols')\n",
    "ols_performance.compute_measures()\n",
    "print(ols_performance.performance_measures)"
   ]
  },
  {
   "cell_type": "markdown",
   "metadata": {},
   "source": [
    "### MODEL: SVM, linear"
   ]
  },
  {
   "cell_type": "code",
   "execution_count": 471,
   "metadata": {},
   "outputs": [
    {
     "name": "stdout",
     "output_type": "stream",
     "text": [
      "{'Pos': 26628, 'Neg': 337372, 'TP': 13540, 'TN': 326526, 'FP': 10846, 'FN': 13088, 'Accuracy': 0.9342472527472527, 'Precision': 0.5552366111703436, 'Recall': 0.5084873065945621, 'desc': 'svm'}\n"
     ]
    }
   ],
   "source": [
    "from sklearn import linear_model\n",
    "svm = linear_model.SGDClassifier()\n",
    "svm.fit(X, y)\n",
    "joblib.dump(svm, 'svm.pkl') # pickle\n",
    "\n",
    "svm_performance = BinaryClassificationPerformance(svm.predict(X), y, 'svm')\n",
    "svm_performance.compute_measures()\n",
    "print(svm_performance.performance_measures)"
   ]
  },
  {
   "cell_type": "markdown",
   "metadata": {},
   "source": [
    "### MODEL: logistic regression"
   ]
  },
  {
   "cell_type": "code",
   "execution_count": 472,
   "metadata": {},
   "outputs": [
    {
     "name": "stderr",
     "output_type": "stream",
     "text": [
      "/anaconda3/envs/Py36env/lib/python3.6/site-packages/sklearn/linear_model/stochastic_gradient.py:152: DeprecationWarning: n_iter parameter is deprecated in 0.19 and will be removed in 0.21. Use max_iter and tol instead.\n",
      "  DeprecationWarning)\n"
     ]
    },
    {
     "name": "stdout",
     "output_type": "stream",
     "text": [
      "{'Pos': 26628, 'Neg': 337372, 'TP': 12110, 'TN': 334754, 'FP': 2618, 'FN': 14518, 'Accuracy': 0.9529230769230769, 'Precision': 0.8222433460076045, 'Recall': 0.4547844374342797, 'desc': 'lgs'}\n"
     ]
    }
   ],
   "source": [
    "from sklearn import linear_model\n",
    "from tqdm import tqdm\n",
    "\n",
    "#for alpha in range(0.1, 1.0, 0.1):  #range只能取整数\n",
    "#tAlpha= np.linspace(0,1,11)\n",
    "#lgs = linear_model.SGDClassifier(loss='log', n_iter=50, alpha=alpha)\n",
    "\n",
    "# for alpha in np.linspace(0.000001, 0.003 ,10):\n",
    "#     lgs = linear_model.SGDClassifier(loss='log', max_iter=50, alpha=alpha) # default alpha= 0.00001   测试到5\n",
    "lgs = linear_model.SGDClassifier(loss='log', n_iter=80, alpha=0.0003)# default alpha= 0.00001   测试到5\n",
    "# lgs = linear_model.SGDClassifier(loss='log', max_iter=100, alpha=0.00165)\n",
    "lgs.fit(X, y)\n",
    "joblib.dump(lgs, 'lgs.pkl') # pickle\n",
    "lgs_performance = BinaryClassificationPerformance(lgs.predict(X), y, 'lgs')\n",
    "lgs_performance.compute_measures()\n",
    "print(lgs_performance.performance_measures)\n",
    "# print(alpha)"
   ]
  },
  {
   "cell_type": "markdown",
   "metadata": {},
   "source": [
    "### MODEL: Naive Bayes"
   ]
  },
  {
   "cell_type": "code",
   "execution_count": 473,
   "metadata": {},
   "outputs": [
    {
     "name": "stdout",
     "output_type": "stream",
     "text": [
      "{'Pos': 26628, 'Neg': 337372, 'TP': 15980, 'TN': 302983, 'FP': 34389, 'FN': 10648, 'Accuracy': 0.876271978021978, 'Precision': 0.31725863130099863, 'Recall': 0.6001201742526664, 'desc': 'nbs'}\n"
     ]
    }
   ],
   "source": [
    "from sklearn.naive_bayes import MultinomialNB\n",
    "nbs = MultinomialNB()\n",
    "nbs.fit(X, y)\n",
    "joblib.dump(nbs, 'nbs.pkl') # pickle\n",
    "\n",
    "nbs_performance = BinaryClassificationPerformance(nbs.predict(X), y, 'nbs')\n",
    "nbs_performance.compute_measures()\n",
    "print(nbs_performance.performance_measures)"
   ]
  },
  {
   "cell_type": "markdown",
   "metadata": {},
   "source": [
    "### MODEL: Perceptron"
   ]
  },
  {
   "cell_type": "code",
   "execution_count": 497,
   "metadata": {},
   "outputs": [
    {
     "name": "stdout",
     "output_type": "stream",
     "text": [
      "{'Pos': 26628, 'Neg': 337372, 'TP': 18547, 'TN': 293990, 'FP': 43382, 'FN': 8081, 'Accuracy': 0.8586181318681319, 'Precision': 0.29948812349626186, 'Recall': 0.696522457563467, 'desc': 'prc'}\n"
     ]
    }
   ],
   "source": [
    "from sklearn import linear_model\n",
    "prc = linear_model.SGDClassifier(loss='perceptron')\n",
    "prc.fit(X, y)\n",
    "joblib.dump(prc, 'prc.pkl') # pickle\n",
    "\n",
    "prc_performance = BinaryClassificationPerformance(prc.predict(X), y, 'prc')\n",
    "prc_performance.compute_measures()\n",
    "print(prc_performance.performance_measures)"
   ]
  },
  {
   "cell_type": "markdown",
   "metadata": {},
   "source": [
    "### MODEL: Ridge Regression Classifier"
   ]
  },
  {
   "cell_type": "code",
   "execution_count": 475,
   "metadata": {},
   "outputs": [
    {
     "name": "stdout",
     "output_type": "stream",
     "text": [
      "{'Pos': 26628, 'Neg': 337372, 'TP': 8441, 'TN': 336862, 'FP': 510, 'FN': 18187, 'Accuracy': 0.9486346153846154, 'Precision': 0.9430231259077199, 'Recall': 0.3169971458614992, 'desc': 'rdg'}\n"
     ]
    },
    {
     "name": "stderr",
     "output_type": "stream",
     "text": [
      "/anaconda3/envs/Py36env/lib/python3.6/site-packages/sklearn/linear_model/sag.py:334: ConvergenceWarning: The max_iter was reached which means the coef_ did not converge\n",
      "  \"the coef_ did not converge\", ConvergenceWarning)\n"
     ]
    }
   ],
   "source": [
    "from sklearn import linear_model\n",
    "from tqdm import tqdm\n",
    "\n",
    "# for NumberRRC in tqdm(np.linspace(0.00001,0.0001,4)):\n",
    "rdg = linear_model.RidgeClassifier(alpha=0.5, tol=0.00001)\n",
    "rdg.fit(X, y)\n",
    "joblib.dump(rdg, 'rdg.pkl') # pickle\n",
    "\n",
    "rdg_performance = BinaryClassificationPerformance(rdg.predict(X), y, 'rdg')\n",
    "rdg_performance.compute_measures()\n",
    "print(rdg_performance.performance_measures)\n",
    "#     print (NumberRRC)"
   ]
  },
  {
   "cell_type": "code",
   "execution_count": 476,
   "metadata": {},
   "outputs": [
    {
     "data": {
      "text/plain": [
       "{'alpha': 0.5,\n",
       " 'class_weight': None,\n",
       " 'copy_X': True,\n",
       " 'fit_intercept': True,\n",
       " 'max_iter': None,\n",
       " 'normalize': False,\n",
       " 'random_state': None,\n",
       " 'solver': 'auto',\n",
       " 'tol': 1e-05}"
      ]
     },
     "execution_count": 476,
     "metadata": {},
     "output_type": "execute_result"
    }
   ],
   "source": [
    "rdg.get_params()"
   ]
  },
  {
   "cell_type": "markdown",
   "metadata": {},
   "source": [
    "### What is the distribution of weights, OLS vs. ridge? "
   ]
  },
  {
   "cell_type": "code",
   "execution_count": 477,
   "metadata": {},
   "outputs": [
    {
     "data": {
      "image/png": "[encoded data removed]",
      "text/plain": [
       "<Figure size 432x288 with 1 Axes>"
      ]
     },
     "metadata": {
      "needs_background": "light"
     },
     "output_type": "display_data"
    },
    {
     "data": {
      "image/png": "[encoded data removed]",
      "text/plain": [
       "<Figure size 432x288 with 1 Axes>"
      ]
     },
     "metadata": {
      "needs_background": "light"
     },
     "output_type": "display_data"
    }
   ],
   "source": [
    "plt.hist(ols.coef_[0])\n",
    "plt.show()\n",
    "\n",
    "plt.hist(rdg.coef_[0])\n",
    "plt.show()"
   ]
  },
  {
   "cell_type": "markdown",
   "metadata": {},
   "source": [
    "### MODEL: Decision Tree Classifier"
   ]
  },
  {
   "cell_type": "code",
   "execution_count": 478,
   "metadata": {},
   "outputs": [
    {
     "name": "stdout",
     "output_type": "stream",
     "text": [
      "{'Pos': 26628, 'Neg': 337372, 'TP': 17296, 'TN': 337333, 'FP': 39, 'FN': 9332, 'Accuracy': 0.9742554945054945, 'Precision': 0.9977502163253533, 'Recall': 0.6495418356617095, 'desc': 'dtc'}\n"
     ]
    }
   ],
   "source": [
    "from sklearn import tree\n",
    "dtc = tree.DecisionTreeClassifier(max_depth=100)\n",
    "dtc.fit(X_matrix, y)\n",
    "joblib.dump(dtc, 'dtc.pkl') # pickle\n",
    "\n",
    "dtc_performance = BinaryClassificationPerformance(dtc.predict(X_matrix), y, 'dtc')\n",
    "dtc_performance.compute_measures()\n",
    "print(dtc_performance.performance_measures)"
   ]
  },
  {
   "cell_type": "markdown",
   "metadata": {},
   "source": [
    "### Random Forests"
   ]
  },
  {
   "cell_type": "code",
   "execution_count": 480,
   "metadata": {},
   "outputs": [
    {
     "name": "stdout",
     "output_type": "stream",
     "text": [
      "{'Pos': 26628, 'Neg': 337372, 'TP': 5213, 'TN': 337366, 'FP': 6, 'FN': 21415, 'Accuracy': 0.9411510989010989, 'Precision': 0.9988503544740371, 'Recall': 0.19577136848430224, 'desc': 'rfc'}\n"
     ]
    }
   ],
   "source": [
    "from sklearn.ensemble import RandomForestClassifier\n",
    "\n",
    "#max_depth 10-100, minsamples_split 样本量大增大, n_estimators弱学习最大迭代次数， 太小欠拟合默认100//min_samples_split =120\n",
    "rfc = RandomForestClassifier(max_depth= 100,n_estimators=100)\n",
    "rfc.fit(X_matrix, y)\n",
    "joblib.dump(rfc, 'rfc.pkl')\n",
    "\n",
    "rfc_performance = BinaryClassificationPerformance(rfc.predict(X_matrix), y, 'rfc')\n",
    "rfc_performance.compute_measures()\n",
    "print(rfc_performance.performance_measures)\n",
    "\n"
   ]
  },
  {
   "cell_type": "code",
   "execution_count": 481,
   "metadata": {},
   "outputs": [
    {
     "name": "stdout",
     "output_type": "stream",
     "text": [
      "[6.77760181e-06 1.87827566e-08 1.65262321e-06 0.00000000e+00\n",
      " 0.00000000e+00 3.73695103e-03 1.12879679e-02 2.73729879e-02\n",
      " 3.84057549e-03 2.24700718e-03]\n",
      "[9.91328364e-06 3.40642914e-06 2.20254803e-06 ... 2.73729879e-02\n",
      " 3.84057549e-03 2.24700718e-03]\n"
     ]
    }
   ],
   "source": [
    "print(rfc.feature_importances_[-10:])\n",
    "print(rfc.feature_importances_)"
   ]
  },
  {
   "cell_type": "markdown",
   "metadata": {},
   "source": [
    "### ROC plot to compare performance of various models and fits"
   ]
  },
  {
   "cell_type": "code",
   "execution_count": 498,
   "metadata": {},
   "outputs": [
    {
     "data": {
      "image/png": "[encoded data removed]",
      "text/plain": [
       "<Figure size 432x288 with 1 Axes>"
      ]
     },
     "metadata": {
      "needs_background": "light"
     },
     "output_type": "display_data"
    }
   ],
   "source": [
    "fits = [svm_performance, lgs_performance, rdg_performance, prc_performance, ols_performance, dtc_performance, nbs_performance,rfc_performance]\n",
    "\n",
    "for fit in fits:\n",
    "    plt.plot(fit.performance_measures['FP'] / fit.performance_measures['Neg'], \n",
    "             fit.performance_measures['TP'] / fit.performance_measures['Pos'], 'ro')\n",
    "    plt.text(fit.performance_measures['FP'] / fit.performance_measures['Neg'], \n",
    "             fit.performance_measures['TP'] / fit.performance_measures['Pos'], fit.desc)\n",
    "plt.axis([0, 1, 0, 1])\n",
    "plt.title('ROC plot: training set')\n",
    "plt.xlabel('False positive rate')\n",
    "plt.ylabel('True positive rate')\n",
    "plt.show()"
   ]
  },
  {
   "cell_type": "markdown",
   "metadata": {},
   "source": [
    "## a digression: looking inside the `rdg` object\n",
    "\n",
    "[documentation](https://scikit-learn.org/stable/modules/generated/sklearn.linear_model.RidgeClassifier.html)"
   ]
  },
  {
   "cell_type": "code",
   "execution_count": 193,
   "metadata": {},
   "outputs": [
    {
     "data": {
      "text/plain": [
       "['__abstractmethods__',\n",
       " '__class__',\n",
       " '__delattr__',\n",
       " '__dict__',\n",
       " '__dir__',\n",
       " '__doc__',\n",
       " '__eq__',\n",
       " '__format__',\n",
       " '__ge__',\n",
       " '__getattribute__',\n",
       " '__getstate__',\n",
       " '__gt__',\n",
       " '__hash__',\n",
       " '__init__',\n",
       " '__init_subclass__',\n",
       " '__le__',\n",
       " '__lt__',\n",
       " '__module__',\n",
       " '__ne__',\n",
       " '__new__',\n",
       " '__reduce__',\n",
       " '__reduce_ex__',\n",
       " '__repr__',\n",
       " '__setattr__',\n",
       " '__setstate__',\n",
       " '__sizeof__',\n",
       " '__str__',\n",
       " '__subclasshook__',\n",
       " '__weakref__',\n",
       " '_abc_cache',\n",
       " '_abc_negative_cache',\n",
       " '_abc_negative_cache_version',\n",
       " '_abc_registry',\n",
       " '_decision_function',\n",
       " '_estimator_type',\n",
       " '_get_param_names',\n",
       " '_label_binarizer',\n",
       " '_predict_proba_lr',\n",
       " '_preprocess_data',\n",
       " '_set_intercept',\n",
       " 'alpha',\n",
       " 'class_weight',\n",
       " 'classes_',\n",
       " 'coef_',\n",
       " 'copy_X',\n",
       " 'decision_function',\n",
       " 'fit',\n",
       " 'fit_intercept',\n",
       " 'get_params',\n",
       " 'intercept_',\n",
       " 'max_iter',\n",
       " 'n_iter_',\n",
       " 'normalize',\n",
       " 'predict',\n",
       " 'random_state',\n",
       " 'score',\n",
       " 'set_params',\n",
       " 'solver',\n",
       " 'tol']"
      ]
     },
     "execution_count": 193,
     "metadata": {},
     "output_type": "execute_result"
    }
   ],
   "source": [
    "dir(rdg)"
   ]
  },
  {
   "cell_type": "code",
   "execution_count": 28,
   "metadata": {},
   "outputs": [
    {
     "data": {
      "text/plain": [
       "{'alpha': 5,\n",
       " 'class_weight': None,\n",
       " 'copy_X': True,\n",
       " 'fit_intercept': True,\n",
       " 'max_iter': None,\n",
       " 'normalize': False,\n",
       " 'random_state': None,\n",
       " 'solver': 'auto',\n",
       " 'tol': 0.001}"
      ]
     },
     "execution_count": 28,
     "metadata": {},
     "output_type": "execute_result"
    }
   ],
   "source": [
    "rdg.get_params()"
   ]
  },
  {
   "cell_type": "code",
   "execution_count": 29,
   "metadata": {},
   "outputs": [
    {
     "data": {
      "text/plain": [
       "numpy.ndarray"
      ]
     },
     "execution_count": 29,
     "metadata": {},
     "output_type": "execute_result"
    }
   ],
   "source": [
    "type(rdg.coef_)"
   ]
  },
  {
   "cell_type": "code",
   "execution_count": 30,
   "metadata": {},
   "outputs": [
    {
     "data": {
      "text/plain": [
       "(1, 131074)"
      ]
     },
     "execution_count": 30,
     "metadata": {},
     "output_type": "execute_result"
    }
   ],
   "source": [
    "rdg.coef_.shape"
   ]
  },
  {
   "cell_type": "code",
   "execution_count": 31,
   "metadata": {},
   "outputs": [
    {
     "name": "stdout",
     "output_type": "stream",
     "text": [
      "[-0.00180212 -0.00019406  0.         ... -0.00045842  0.00120984\n",
      "  0.07918174]\n"
     ]
    }
   ],
   "source": [
    "print(rdg.coef_[0])"
   ]
  },
  {
   "cell_type": "code",
   "execution_count": 32,
   "metadata": {},
   "outputs": [
    {
     "data": {
      "image/png": "[encoded data removed]",
      "text/plain": [
       "<Figure size 432x288 with 1 Axes>"
      ]
     },
     "metadata": {
      "needs_background": "light"
     },
     "output_type": "display_data"
    }
   ],
   "source": [
    "plt.hist(rdg.coef_[0])\n",
    "plt.show()"
   ]
  },
  {
   "cell_type": "markdown",
   "metadata": {},
   "source": [
    "# looking at reviews based on their classification\n",
    "\n",
    "Let's say we decide that Ridge Regression is the best model for generalization. Let's take a look at some of the reviews and try to make a (subjective) determination of whether it's generalizing well. "
   ]
  },
  {
   "cell_type": "code",
   "execution_count": 33,
   "metadata": {},
   "outputs": [
    {
     "data": {
      "text/plain": [
       "'We tried I worried work. They work well. My family loved trying them. We enjoyed lunch salad dressing fruit greek yogurt natural. Tasty.<br />The pill hard took moments melt worked right away. It lasted 20-25 minutes active eating. I think acid sour foods washes away. I try again.'"
      ]
     },
     "execution_count": 33,
     "metadata": {},
     "output_type": "execute_result"
    }
   ],
   "source": [
    "amazon.loc[0, \"Text\"]"
   ]
  },
  {
   "cell_type": "code",
   "execution_count": 34,
   "metadata": {},
   "outputs": [
    {
     "data": {
      "text/plain": [
       "False"
      ]
     },
     "execution_count": 34,
     "metadata": {},
     "output_type": "execute_result"
    }
   ],
   "source": [
    "amazon.loc[0, \"helpful\"]"
   ]
  },
  {
   "cell_type": "code",
   "execution_count": 35,
   "metadata": {},
   "outputs": [],
   "source": [
    "ridge_predictions = rdg.predict(X)"
   ]
  },
  {
   "cell_type": "code",
   "execution_count": 36,
   "metadata": {},
   "outputs": [
    {
     "data": {
      "text/plain": [
       "(364000,)"
      ]
     },
     "execution_count": 36,
     "metadata": {},
     "output_type": "execute_result"
    }
   ],
   "source": [
    "ridge_predictions.shape"
   ]
  },
  {
   "cell_type": "code",
   "execution_count": 37,
   "metadata": {},
   "outputs": [
    {
     "name": "stdout",
     "output_type": "stream",
     "text": [
      "[False False False ...  True False False]\n"
     ]
    }
   ],
   "source": [
    "print(ridge_predictions)"
   ]
  },
  {
   "cell_type": "code",
   "execution_count": 38,
   "metadata": {},
   "outputs": [
    {
     "name": "stdout",
     "output_type": "stream",
     "text": [
      "2296\n",
      "2011-12-10 00:00:00\n",
      "2\n",
      "0\n",
      "B000HDCNMS\n",
      "The small bag perfect size you're sharing person want quick snack.<br />The popcorn little greasy, it's sooo delicious.<br />The (BIG) problem I bag tends burn, I don't know I'm wrong, I hate it.<br /><br />The time I it: bag super burnt popcorn didn't make, bag inflate. Second time I it, worked fine. Third time, bag burnt, butter melted, big mess.<br /><br />My microwave works fine popcorn, sure wrong.\n",
      "* * * * * * * * * \n",
      "29156\n",
      "2011-01-26 00:00:00\n",
      "5\n",
      "2\n",
      "B003ULDZLM\n",
      "*****<br />This yummy unique tea. It's sort creamy (the real vanilla luscious taste), spicy like chai. It absolutely perfect I'm drinking time taste belief, plus it's decaffeinated!<br /><br />Indian Night certified organic contains fair trade certified organic Fatrikcherra Estate black tea, organic vanilla beans---that's all---and oh, incredible combination! There oils natural flavorings all, unlike flavored teas, funny aftertaste. It kosher. This tea sustainable packaging materials biodegradable recyclable, carton 100% post-consumer waste, cello wrap used. Numi says tea bags \"are natural fiber paper, trendy, \"silky\" see-though nylon tea bags\". The reason called \"full leaf\" Numi black teas contain tea dust fannings, tend tea taste bitter; instead, contain leaf, expanding brewed, \"releasing robust long lasting experience\".<br /><br />On box, manufacturer writes: \"Inspired ancient Aztec culinary secret, Numi chosen aromatic vanilla beans blend premium organic black tea. The tea grows northern India bio-dynamic Fair Trade garden surrounded beautiful tropical forests. It decaffeinated revolutionary organic CO2 process, called 'Effervescence', chemical-free method extract flavor health properties. As Indian Night steeps vibrant bronzy hue, seductive fragrance, flowery familiar, flirts senses. Magnificently smooth, exotic vanilla harmonizes black tea creamy, rich satisfying cup.\" This new (as 2007) tea Numi, description romantically describes tea experience, doesn't oversell all.<br /><br />Highly recommended.<br />*****\n",
      "* * * * * * * * * \n",
      "36628\n",
      "2011-03-13 00:00:00\n",
      "5\n",
      "1\n",
      "B0025VRCJY\n",
      "One best lemon juice I tried. I recurring customer high quality product. When season fresh lemos out, supplement need citrus kitchen refreshments.<br /><br />I continue buying it.\n",
      "* * * * * * * * * \n",
      "59022\n",
      "2010-03-17 00:00:00\n",
      "2\n",
      "2\n",
      "B001GVIUTU\n",
      "I enjoy gluten-free carob chips kid, I sad weren't market adult. The chips I remembered tasted great straight bag. I happy I heard Chatfield's Carob Chips NOT icky barley malt, dairy free. They aren't available area, I ordered bulk Amazon. When arrived, I ripped open bag- sickeningly sweet I hardly eat them. They honestly taste like white chocolate carob. Seriously, Chatfield, taste mass producing them? I hope taste better baked recipes.\n",
      "* * * * * * * * * \n",
      "66125\n",
      "2009-04-24 00:00:00\n",
      "3\n",
      "1\n",
      "B001LGGH54\n",
      "Tasty superior drinks type I tried. I expected ordinary wasn't it. Is tasty, memorably so.\n",
      "* * * * * * * * * \n",
      "73377\n",
      "2012-07-19 00:00:00\n",
      "5\n",
      "0\n",
      "B004T4LVN8\n",
      "I LOVE lemon - color, taste, everything. And True Lemon SOOOO yummy! In crystalized form doesn't change consistancy in. Lemon juice that, depending use. I tried little packets I realized form enough. So I bought large caontainers. So good - I especially like add vanilla yogurt....now I'm getting hungry....\n",
      "* * * * * * * * * \n",
      "77498\n",
      "2012-02-08 00:00:00\n",
      "4\n",
      "3\n",
      "B000EEWZEG\n",
      "The sardines tasty. However, you're watching protein fats, I product half protein half times saturated fats Crown Prince sardines olive oil. And calories. Had Amazon shown Nutrition Facts printed package I aware difference. As was, I assumption oz sardines same. Oh, well, caveat emptor!\n",
      "* * * * * * * * * \n",
      "91376\n",
      "2011-05-16 00:00:00\n",
      "5\n",
      "1\n",
      "B003DNL9W4\n",
      "Markets area Crystal Light \"sale\" $2.99 $3.49 PER container (12 quarts) Amazon's price VERY competitive - use Subscribe & Save. Plus, run out, sent right door! What better? Also, flavor, Strawberry Kiwi, makes light pink color drink doesn't stain like RED flavors can. Also, I add couple tea bags & let cold brew overnight, little \"punch\" drink. I yardwork/gardening house refreshing cold drink ready pour I come heat, worrying gulping EMPTY CALORIES (the enemy, right?) So sign up, enjoy Crystal Light Summer!\n",
      "* * * * * * * * * \n",
      "95726\n",
      "2012-01-09 00:00:00\n",
      "5\n",
      "0\n",
      "B001A1TW02\n",
      "Pleased product's quality price. Packaging good practical. Good value money.<br /><br />Avoid buying flax powder, oil content starts oxidize immediately exposure air - makes rancid-tasting unhealthy. Flax seeds healthy daily. Flax seeds contain Omega 3 fatty acids good health. Buy organic, brown golden flax seeds inexpensive cool, dry pantry year.<br /><br />You digest flax seeds (they pass right digestive tract), grind - use regular, coffee grinder. Eat 15 minutes grinding, discard what's left, don't save powder. Taken meal, ground flaxseed makes feel satisfied longer. Moreover, oil content protects lining digestive tract, it's perfect sensitive stomach.<br /><br />You love ground flax seeds sprinkled salads cooked vegetables. They're simply delicious mixed fruit smoothies, protein shakes, yogurt, soups, oatmeal. Just sure plenty fluids 10 times ground flaxseed,otherwise cause constipation<br /><br />Normal daily serving 2 tablespoons 100 pounds body weight; that's 20 grams 90 calories.<br /><br />List health benefits flax seeds:<br /><br />*Improve cardiovascular health, lowers blood pressure, \"bad\" cholesterol (LDL) blood triglyceride values.<br /><br />*Prevent arterial clots result strokes, heart attacks thromboses.<br /><br />*Boost immune system, reduces inflammation body, relieves asthma.<br /><br />*Support healthy joints improves absorption calcium.<br /><br />*Soothe ulcers, irritable bowel disorders, improves colon health, lowering risk colon cancer.<br /><br />Flax seeds richest source lignans. These phytoestrogens powerful antioxidant, anti-tumor, anti-viral, anti-fungal, anti-bacterial properties, 100 times best source - wheat bran.<br /><br />And that's all.<br /><br />To fully realize flax seeds benefits related weight loss, understand thing. Its lecithin content dissolves fats food digestive tract fiber mucilage content trap nasty fats, taken eliminated body, stored body fat.<br /><br />I don't claim doctor but, I read I learned Flax seed: In short, ground flaxseed consumed widely Europe Asia, introduced North America Colonial days, widely food 1960s', flaxseed health benefits scientifically proven.\n",
      "* * * * * * * * * \n",
      "100163\n",
      "2011-02-20 00:00:00\n",
      "5\n",
      "7\n",
      "B0045X7H9A\n",
      "Red Rain berry flavor tastes great gives energy focus day. You drink 2oz all-at-once sip day. The directions use discard 3 days opening. Refrigeration required. One bottle contains 5 calories, 3g carbs, 8333% daily value vitamin B12, 2000% daily value vitamin B6, 200% daily value Niacin, 100% daily value Folic Acid. It contains 2000mg energy blend consists Glucuronolactone, Malic Acid, Caffeine, Choline Chloride, N-Acetyle L-Tyrosine. The caffeine says comparable cup leading brand coffee. At current price $12.00 12-pack, $10.20 Amazon's Subscribe Save, it's cheaper leading energy shot product.\n",
      "* * * * * * * * * \n",
      "118606\n",
      "2011-09-26 00:00:00\n",
      "3\n",
      "0\n",
      "B003YBLF2E\n",
      "I've tried GoPicnic lunches far, I usually love salmon, lunch favorite. I'd suggest <a href=\"http://www.amazon.com/gp/product/B003YBH398\">GoPicnic Ready-to-Eat Meals, Turkey Pepperoni + Cheese, 3-Ounce Boxes (Pack 6)</a>, <a href=\"http://www.amazon.com/gp/product/B003YBP6Q0\">GoPicnic Ready-to-Eat Meals, Hummus + Crackers, 4.4-Ounce Boxes (Pack 6)</a>, <a href=\"http://www.amazon.com/gp/product/B005PLC674\">GoPicnic Ready-To-Eat Meals Sunbutter + Crackers, 3.5-Ounce (Pack 6)</a>.\n",
      "* * * * * * * * * \n",
      "123892\n",
      "2012-06-30 00:00:00\n",
      "3\n",
      "0\n",
      "B007P2OQC4\n",
      "I tried I thought useful healthy snack work. Tried home cereal. It's certainly nutrient-dense, high fiber, low sugar salt - tasty. Couldn't taste banana flavor that's I bought for. I add lot honey order choke down, kind nullifies low-sugar low-calorie benefit.<br /><br />If you're okay granola sweetness whatsoever good product you. Just me.\n",
      "* * * * * * * * * \n",
      "124547\n",
      "2012-02-02 00:00:00\n",
      "2\n",
      "8\n",
      "B004G4CNWO\n",
      "vendor description ingredients \"marshmallows\" ordered product tagged Vegan reviewer. After contacting seller rushed update description Gelatin replied back. Refunded purchase shipping.\n",
      "* * * * * * * * * \n",
      "125650\n",
      "2011-10-19 00:00:00\n",
      "5\n",
      "3\n",
      "B002GWMD7I\n",
      "From purist passion excellent Central American coffee ... ultimate. What sets guys apart roasting skills. Not little, much, glisten oil, color polished mahogany, body mouth feel, complexity true coffee flavor.\n",
      "* * * * * * * * * \n",
      "139351\n",
      "2009-04-08 00:00:00\n",
      "5\n",
      "7\n",
      "B001E5E2LS\n",
      "My chiropractor recommended Himalayan Sea Salt THE salt salt lovers, contains minerals taken processing (he calls garbage) table salt, I love it. Glad I got grinders; home RV. It mite pricey, I able purchase salt refill chiropracter lot less. I recommend product. The grinder big cumbersome, good size.\n",
      "* * * * * * * * * \n",
      "151268\n",
      "2011-12-11 00:00:00\n",
      "4\n",
      "2\n",
      "B005CGUUJS\n",
      "<span class=\"tiny\"> Length:: 1:39 Mins<br /><br /></span>(* review originally posted 3 oz size, verified purchase Amazon)<br /><br />I purchased reviewed brands catnip Tristan, month old Savannah cat. In video, I placed plates catnip freshly opened packages. The brands left right <a href=\"http://www.amazon.com/gp/product/B00028HN5A\">Sojos Certified Organic Catnip</a>, middle product listing - Cosmic Catnip (this video review shows 3oz jar), far right <a href=\"http://www.amazon.com/gp/product/B001VNEII0\">Frontier Catnip Leaf & Flower C/s Certified Organic, 16 Ounce Bag</a>.<br /><br />Like little bear Goldilock's table, Tristan tries bit plate; end clip *overwhelming* preference particular brand though. As far physical reactions (sampled separately), act \"stoned\" hyper, merely scratches scratch pad bit catnip catnip gives good stretch. He strongly prefers catnip infused mice non-catnip mice I'm happy oblige.<br /><br />As far *I* prefer, it's cat (and is) here's things -<br /><br />The Frontier brand far expensive dollars 16oz. It slightly coarse little bit stems mixed in. VERY fragrant turned close second favorite cat reviewing products. I definitely buy Frontier brand use stuffing toys generously \"marinating\" little cloth mice. Organic suitable human consumption like tea.<br /><br />The Sojos brand (1oz can) expensive - calculations comes dollars 16oz!. The description says produces \"harmless, euphoric state\" saw evidence that. Smelled fresh definitely milder aroma brands; finest chopped leaves three. Hand harvested important cat.<br /><br />With Cosmic Cat brand, *may* winner.....<br /><br />When camera off, Tristan returned Cosmic Cat sample times brands. I repeated little taste test days Cosmic Cat small definite edge competition. I'd I agree choice; Cosmic Cat brand leaves darker fragrant brands. The leaves cut right - fine/not large, stems coarse pieces. I Cosmic Cat brand's price reasonable, storage container convenient, 3oz* size little stale spoil.<br /><br />Hope information useful choosing cat kitten.\n",
      "* * * * * * * * * \n",
      "195536\n",
      "2009-05-17 00:00:00\n",
      "5\n",
      "4\n",
      "B001GCTTYY\n",
      "A little bitter trying start mixing green tea gradually change over. Taste great way ice tea. Nettle good health.\n",
      "* * * * * * * * * \n"
     ]
    },
    {
     "name": "stdout",
     "output_type": "stream",
     "text": [
      "238370\n",
      "2010-04-26 00:00:00\n",
      "3\n",
      "1\n",
      "B000F4IREM\n",
      "Although low fiber processed oil (sunflower), rice snaps fairly tasty organic. It offers nice break wheat crackers, rice crackers crispy (sharp edged).\n",
      "* * * * * * * * * \n",
      "242923\n",
      "2012-09-19 00:00:00\n",
      "5\n",
      "0\n",
      "B004AN8Q86\n",
      "Chances looking Dick Van Patten's Natural Balance, looking finding quality cat food animals. I'm firm believer buying best quality foods animals order ensure optimum good health, especially 2007 pet food recalls melamine adulterated food. Initially, I purchased food didn't factor decision.<br /><br />I long-haired cat gifted hairballs frequent basis. A friend told food swore it, claiming rugs furniture longer suffered constant scrubbing. I decided Natural Balance try amazed results. I longer cat, inherit long-haired cutie pie LOVES food. I changed food month ago, gradually mixing previous food, helps body minimize hairball activity. I want healthy happy expense worth it. This brief blurb website, information bag well:<br /><br />* Fresh Chicken, Salmon Meal, New Zealand Lamb Meal This unique blend fresh, high quality proteins provides essential amino acids help maintain strong muscle tone healthy, shiny coat.<br /><br />* Taurine Fortified To help maintain healthy heart good vision.<br /><br />* Fresh Potatoes Rich potassium excellent source highly digestible carbohydrates.<br /><br />* Preserved Naturally To maintain freshness, Natural Balance uses mixed tocopherols (Vitamin E) formulas free artificial flavors, colors chemical preservatives.<br /><br />* Skin Coat Essential Fatty Acids combined produce excellent skin coat cat.<br /><br />* High Digestibility<br /><br />No Artificial Preservatives, Flavors, Colors, Bleached Ingredients.<br /><br />If need more, check food Petco head Natural Balance website. Of course opinion look factors purchasing animals. You know needs, I food satisfies (I don't invest paper towels), obviously cat. I perfectly acceptable organic food, I mixed ... well, lets likes Natural better organic. I'm happy she's happy I'm constantly cleaning days!<br /><br />Note: This essentially review I wrote Natural Balance couple years ago, cat loves I'm buying ... Amazon.\n",
      "* * * * * * * * * \n",
      "247817\n",
      "2012-06-08 00:00:00\n",
      "5\n",
      "1\n",
      "B001D0IZBM\n",
      "After FINALLY purchasing <a href=\"http://www.amazon.com/gp/product/B000AQPMHA\">the best coffee maker</a> I've 40 years drinking coffee, hunt best tasting coffee it. When comes coffee, I suppose it's \"to own\" thing. But I've tried 'em all, varieties offered Amazon, K-cup provides pleasurable mix I looking cup coffee undisputedly Emeril's Big Easy Bold.<br /><br />Nothing beats Emeril's Big Easy Bold. There plenty brands trying suggest they're bold. I've tried \"Midnight Magic\" brand; I've tried \"Jet Fuel\" brand; I've tried \"Donut Shop\" brand; I've tried \"Extra Bolds\"; K-cup tastes like jet fuel packed cup coffee best donut shop Emeril's Big Easy Bold.<br /><br />What's cool small cup large cup Emeril's Big Easy Bold, won't lose rich flavor. Most Keurig Coffee Makers buttons let choose large small cup. Some buttons large, medium small. I like large cup. Some brands noticeably lost flavor I went medium cup large...but Emeril's.<br /><br />There question here. If like darker roast that's flavor packs punch, you've right page Amazon. Wake people, add cart. Bam!\n",
      "* * * * * * * * * \n",
      "251136\n",
      "2010-04-14 00:00:00\n",
      "5\n",
      "2\n",
      "B000YBXCXW\n",
      "I agree Fazer chocolate simply best world. And talk skeptical it. The I sister ginger bread, cherries almonds it. And I thought \"What's gingerbread cherries chocolate?\" I thought going sickening. I understand almond part. Anyway, skeptical bites I sunk. I hard satisfied chocolate world, Fazer. And day I amazed I love chocolate. In way, I wish I wouldn't it, chocolate lacking now. I finally able try dark chocolate it's delicious milk chocolate. Hope enjoy I do.\n",
      "* * * * * * * * * \n",
      "258591\n",
      "2010-04-21 00:00:00\n",
      "5\n",
      "5\n",
      "B007OXJK3Y\n",
      "I traded member Yahoo group box Coffee People Donut Shop Coffee kcup it.<br /><br />Without realizing it, I B40 selected 9.25 mug size. Now remember I thought C.P.Dounut House XBold.<br /><br />Well coffee started filling cup, All sudden wonderful aroma chocolate filled air. I thought WOW!! coffee. Though chocolate flavor, favorite Van Houtte Chocolate Almond. So drinking coffee, I emptied box hoping one. Sadly wasn't. When I went dispose Kcup wonderful fragrance chocolate emitted Kcup. The sweet nuance chocolate strong I hate throw away; ( I Kcup now). I wish car freshener like this.<br /><br />So Chocoholic like me, try. Now I want buy box flavor LOL.<br /><br />This rated light medium roast.\n",
      "* * * * * * * * * \n",
      "263839\n",
      "2011-10-11 00:00:00\n",
      "5\n",
      "1\n",
      "B003C5PBO0\n",
      "My dog rescue mites I adopted puppy. She continued experiencing problematic skin mites issue resolved. Her vet kept Rx's I knew better way I went holistic vet suggested avocado based food Avoderm. I discontinued Rx's week noticeably itchy past 3 years. Her coat stays lustrous regular swims ocean baths biweekly. The food looks better brands. When set side, clear, kibbles look cleaner better quality. Lastly, price UNBELIEVABLE!! I've purchasing Pet-- I'd cheapest ($55), I'd accumulated stupid coupons spending set amounts money price blows Pet-- water. Coupled Prime shipping can't better. Thank Amazon offering wonderful product great price & Prime shipping!!!!\n",
      "* * * * * * * * * \n",
      "269391\n",
      "2011-06-08 00:00:00\n",
      "5\n",
      "0\n",
      "B000LQJKR2\n",
      "I absolutely love tea. I drink lot tea...probably average Turk. I usually order teas Republic Tea stuff good, best black tea I tried.<br /><br />Strong smooth. Perfect.<br /><br />The seller shipped quickly efficiently. I recommend purchasing seller I plan purchasing him/her soon.\n",
      "* * * * * * * * * \n",
      "288742\n",
      "2011-08-02 00:00:00\n",
      "5\n",
      "0\n",
      "B004LL4YOM\n",
      "I tried 3 different blends coffee think great. I use solofill, thinking buying ekobrew cup. Even solofill ekobrew cup good buy putting kcups landfill.\n",
      "* * * * * * * * * \n",
      "295880\n",
      "2006-11-22 00:00:00\n",
      "1\n",
      "13\n",
      "B000DZDJM8\n",
      "I throw raisins contained crawly things and/or looks like droppings crawly things. I I generally love Newman's products, I willing raisins benefit doubt. With natural products, bugs them. That's territory organic matter. But I white grubs little brown dots weren't raisins box shrink-wrapped box. Some boxes fine, I ate raisins them, majority tainted. I'll need assured there's improvement quality control I try Newman's snack-pack organic raisins again.\n",
      "* * * * * * * * * \n",
      "304011\n",
      "2003-10-27 00:00:00\n",
      "3\n",
      "2\n",
      "B00004RYGX\n",
      "*** 1/2 stars rating &quot;Beetlejuice&quot;. This movie biggest surprises 1988, revolutionized visual effects field, established Tim Burton director huge imagination, Winona Ryder map, helped Burton & Michael Keaton signed Warner Bros. film strongest 1989 project: &quot;Batman&quot;.<br /><br /> &quot;Beetlejuice&quot; funny ghosts tale lot creativity imagination, characters easy love, situations funny bizarre time, translates entertaining movie.<br /><br /> There memorable scenes &quot;Beetlejuice&quot;, possession scene tune Harry Belafonte's &quot;Banana Boat Song&quot;, Adam & Barbara (Alec Baldwin & Geena Davis respectively) taken underworld offices.<br /><br /> &quot;Beetlejuice&quot; good option gorgeous Winona Ryder key roles, creativity Tim Burton best, funny supernatural comedy.\n",
      "* * * * * * * * * \n",
      "322462\n",
      "2011-08-19 00:00:00\n",
      "5\n",
      "2\n",
      "B001GVJNC8\n",
      "I ordered edible flowers combing local grocery stores fresh edible flowers candy. With luck I bit bullet ordered crystalized expensive I liked. They beautiful, added cupcakes. Would recommend; come perfect shape!\n",
      "* * * * * * * * * \n",
      "357300\n",
      "2009-11-10 00:00:00\n",
      "5\n",
      "0\n",
      "B0019LA5WC\n",
      "Teff general delicious healthy grain, Teff different.<br />Cook according pkg. directions add morning oatmeal hearty healthy breakfast.<br />If I wish \"Organic Brown Teff.\"\n",
      "* * * * * * * * * \n"
     ]
    }
   ],
   "source": [
    "# false positives\n",
    "\n",
    "import random, time\n",
    "\n",
    "for i in range(0, len(ridge_predictions)):\n",
    "    if (ridge_predictions[i] == True):\n",
    "        if (amazon.loc[i, \"helpful\"] == False):\n",
    "            if (random.uniform(0, 1) < 0.05):\n",
    "                print(i)\n",
    "                print(time.strftime('%Y-%m-%d %H:%M:%S', time.gmtime(amazon.loc[i, \"Time\"])))\n",
    "                print(amazon.loc[i, \"Score\"])\n",
    "                print(amazon.loc[i, \"HelpfulnessDenominator\"])\n",
    "                print(amazon.loc[i, \"ProductId\"])\n",
    "                print(amazon.loc[i, \"Text\"])\n",
    "                print('* * * * * * * * * ')"
   ]
  },
  {
   "cell_type": "code",
   "execution_count": null,
   "metadata": {},
   "outputs": [],
   "source": []
  },
  {
   "cell_type": "code",
   "execution_count": null,
   "metadata": {},
   "outputs": [],
   "source": []
  },
  {
   "cell_type": "code",
   "execution_count": null,
   "metadata": {},
   "outputs": [],
   "source": []
  }
 ],
 "metadata": {
  "kernelspec": {
   "display_name": "Python 3",
   "language": "python",
   "name": "python3"
  },
  "language_info": {
   "codemirror_mode": {
    "name": "ipython",
    "version": 3
   },
   "file_extension": ".py",
   "mimetype": "text/x-python",
   "name": "python",
   "nbconvert_exporter": "python",
   "pygments_lexer": "ipython3",
   "version": "3.6.8"
  }
 },
 "nbformat": 4,
 "nbformat_minor": 1
}
