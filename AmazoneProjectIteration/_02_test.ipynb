{
 "cells": [
  {
   "cell_type": "markdown",
   "metadata": {},
   "source": [
    "# Test Set"
   ]
  },
  {
   "cell_type": "code",
   "execution_count": 1,
   "metadata": {},
   "outputs": [],
   "source": [
    "import numpy as np\n",
    "import pandas as pd\n",
    "import matplotlib.pyplot as plt\n",
    "from sklearn.externals import joblib\n",
    "from my_measures import BinaryClassificationPerformance\n",
    "%matplotlib inline\n",
    "from tqdm import tqdm"
   ]
  },
  {
   "cell_type": "markdown",
   "metadata": {},
   "source": [
    "### Read raw test data"
   ]
  },
  {
   "cell_type": "code",
   "execution_count": 2,
   "metadata": {},
   "outputs": [
    {
     "name": "stdout",
     "output_type": "stream",
     "text": [
      "(91000, 14)\n"
     ]
    }
   ],
   "source": [
    "amazon = pd.read_csv('/Users/working/Documents/ParsonsSchool/Sp19/MachineLearning/DATASET/amazon_data/raw_data_test.csv')\n",
    "\n",
    "print(amazon.shape)"
   ]
  },
  {
   "cell_type": "code",
   "execution_count": 3,
   "metadata": {},
   "outputs": [
    {
     "name": "stdout",
     "output_type": "stream",
     "text": [
      "strong taste but good! In my opinion it's not exactly a substitute for coffee but tastes really good mixed together.\n"
     ]
    }
   ],
   "source": [
    "print(amazon.loc[0, \"Text\"])"
   ]
  },
  {
   "cell_type": "code",
   "execution_count": 4,
   "metadata": {},
   "outputs": [
    {
     "name": "stdout",
     "output_type": "stream",
     "text": [
      "   Unnamed: 0  Unnamed: 0.1      Id   ProductId          UserId  \\\n",
      "0      207103        112082  112083  B002Y2QT2K  A22Y5TJPN98DWB   \n",
      "1      139933        224640  224641  B009D53XKC  A3MDY6Y3Z6D649   \n",
      "2       76100        399707  399708  B005GIF5WY  A3LCQXQ4SFYBAU   \n",
      "3      114178        567900  567901  B005K4Q68Q  A2E65ZXD654761   \n",
      "4      285272        263134  263135  B002WW3BW8  A1XAZ0MR4TRY16   \n",
      "\n",
      "                  ProfileName  HelpfulnessNumerator  HelpfulnessDenominator  \\\n",
      "0                Eva Juergens                     1                       1   \n",
      "1  The Man Behind the Curtain                     1                       1   \n",
      "2                  Johna Jane                     0                       0   \n",
      "3                   Barbara L                     0                       0   \n",
      "4                        bfn1                     0                       0   \n",
      "\n",
      "   Score        Time                          Summary  \\\n",
      "0      3  1339286400                 chicory \"coffee\"   \n",
      "1      5  1326844800  This salt will change your life   \n",
      "2      5  1345420800                   Cat's favorite   \n",
      "3      5  1351036800                    Great tasting   \n",
      "4      3  1311552000                               OK   \n",
      "\n",
      "                                                Text  helpScore  helpful  \n",
      "0  strong taste but good! In my opinion it's not ...        1.0    False  \n",
      "1  Those searching high and low for salt that wil...        1.0    False  \n",
      "2  These treats are my picky cat's favorite.  I'v...        NaN    False  \n",
      "3  The price was as fantastic as the taste. So co...        NaN    False  \n",
      "4  Alot of chocolate; not so much coffee bean.  N...        NaN    False  \n",
      "0.0726043956043956\n"
     ]
    }
   ],
   "source": [
    "print(amazon.head())\n",
    "print(amazon['helpful'].mean())"
   ]
  },
  {
   "cell_type": "code",
   "execution_count": 5,
   "metadata": {},
   "outputs": [
    {
     "name": "stdout",
     "output_type": "stream",
     "text": [
      "       Unnamed: 0  Unnamed: 0.1      Id   ProductId          UserId  \\\n",
      "7           74160        306680  306681  B000KNB0OW  A1UQBFCERIP7VJ   \n",
      "14         235629        224160  224161  B0002ARQYQ  A2T90OFSZ5QVE8   \n",
      "19         261341        100841  100842  B000O3EDA6  A1VPUK22B4MTDE   \n",
      "20         218022        107544  107545  B007TJGY4Q  A153ZN281OATI6   \n",
      "28         348320        246292  246293  B0009F3SB4  A23C3X5UGN7KMN   \n",
      "43         398064        506166  506167  B001CWVZUY  A1UKN7G4AM275R   \n",
      "57         268338        352657  352658  B000U3H4PQ   AYB4ELCS5AM8P   \n",
      "64          14378        464995  464996  B002EDIJCM  A191T1D7JURDMI   \n",
      "83         306766        551822  551823  B003RDFJ6C  A3NID9D9WMIV01   \n",
      "148        159725         45277   45278  B000OV5NBG  A3OQGS2G48ZURR   \n",
      "175         34171        417148  417149  B00112ILZM  A3FNMPXHHIVEYT   \n",
      "181         24886        447330  447331  B000GZU900  A1WXJ1I42UOQ2V   \n",
      "191        183906        394423  394424  B00269VK20  A154PTQXC5FFKH   \n",
      "202        369154        219877  219878  B0038B39E2  A1P46ZUN8P8T7H   \n",
      "231        155405        371920  371921  B0009YYKQM   AXTLJ5K0TTM0A   \n",
      "237        283468        546226  546227  B0009JEAP8  A3QFX2DMBWLM66   \n",
      "254         77941        104091  104092  B001E50THY  A3VS7WNFAWMOHL   \n",
      "256        184733        293764  293765  B001DR0LU8  A204QN2VRUQA9B   \n",
      "259        442286        319502  319503  B0007LXU9A  A2TO2BN3P4C00L   \n",
      "330        339410        376798  376799  B002O10K6C  A3L41148A5QJAX   \n",
      "336        184263        166502  166503  B003AYGMNC   A2LGV83LSQ4XI   \n",
      "349        170725         87991   87992  B0008JGW96  A2D7F2AGDX53XD   \n",
      "371        223550        113928  113929  B000KOWCMU  A2RVP684HZ7XMF   \n",
      "400        285305        550804  550805  B008LWVTA4   ASP7FI5BO281G   \n",
      "416        434089        194326  194327  B002HFLHEE  A2MOJANFPX353G   \n",
      "437        139944        540419  540420  B0000DG4NJ  A1VY03OJLTZBMJ   \n",
      "452        162694        283588  283589  B008MNDQPI  A2F0PCVFFG3PQZ   \n",
      "490         94487        397536  397537  B001L04BDA  A3SQZCA0JFB5CV   \n",
      "493        121194        198570  198571  B0017SPYN2   A7OLST5USCDGU   \n",
      "517        128303        379482  379483  B007RLRCLK  A38P3P5IV8T7AF   \n",
      "...           ...           ...     ...         ...             ...   \n",
      "90443      260957        203207  203208  B0042YATCY   AA0Q5NGVBBKR9   \n",
      "90453      125181         11271   11272  B000E21Z7Q   AEJATDURRZS5V   \n",
      "90454      313928        391239  391240  B00066ZXA0   AYZVIY5THIPK0   \n",
      "90490       60545        174469  174470  B004E484CO  A19Y15KDFXV244   \n",
      "90537       61857        394324  394325  B001E5E1LE  A3PI8JJ2E4VT5E   \n",
      "90551       91427        195634  195635  B000BC0ZIY  A1D72SGUQHI4V6   \n",
      "90555      102725        416004  416005  B0029NM5YA   A9101KNY0S3H2   \n",
      "90570      330434        305430  305431  B0010UOGWM  A3OXHLG6DIBRW8   \n",
      "90584      302269        546163  546164  B0000DGG8B  A1A8R9V546FNG4   \n",
      "90595      127634        278846  278847  B004XXXOQW  A1UYDUU2SSK0GU   \n",
      "90614      139685         42132   42133  B001ELL364  A14OZUBJGG209V   \n",
      "90617      301966        369759  369760  B001EQ522A  A1NYUEVWDD2ELY   \n",
      "90661       60563         85962   85963  B000CMKPDI   A3GRH6NEB9VLL   \n",
      "90671      316115        226455  226456  B00016LA7K  A10TAB23T7TBYB   \n",
      "90678      359042        511855  511856  B0016NRLHU   AEELWX3V2ZFAI   \n",
      "90685      104581        169211  169212  B0001ES9FI  A31P43H3DJQX9X   \n",
      "90686      208879        512183  512184  B000MAK3UA  A3HFU732R34KNA   \n",
      "90755      291168        365477  365478  B000CQG89Y  A1YUL9PCJR3JTY   \n",
      "90772       15843        522395  522396  B001KUWFPC  A3OVHYGLO988DI   \n",
      "90795      403831        261517  261518  B000MGWEZQ  A3KQ9HS0D646J2   \n",
      "90827      343807         75420   75421  B001E5E0Y2   AVBYIVT620ZL5   \n",
      "90853       16015        125804  125805  B005MGDP90  A2RIX3T3I9AGC3   \n",
      "90861      446736        430659  430660  B000EDG3UE  A3MPYXPDMN55ZV   \n",
      "90864      308210        163965  163966  B00497LNRY   AKCXD2PRGIK2S   \n",
      "90871      349046        375741  375742  B006VRQLWM  A2V3FTILDQEOX6   \n",
      "90917      289241        276344  276345  B0018Q2N3C  A3DAEVMDSPGKWB   \n",
      "90939      358972        157438  157439  B0019QT66I  A22TQGZAOF0LTK   \n",
      "90977      322224        327788  327789  B001KEF8PM  A28RSMADFCBJDT   \n",
      "90989       43870         31985   31986  B0062A87HA  A2PDX41RH1NKO6   \n",
      "90991      125260         18799   18800  B001PO7FIU  A1UQBFCERIP7VJ   \n",
      "\n",
      "                                  ProfileName  HelpfulnessNumerator  \\\n",
      "7                              Margaret Picky                     9   \n",
      "14                              Doxie Mom X 4                    39   \n",
      "19                          Thomas J. Stanley                    11   \n",
      "20                                       Lisa                     6   \n",
      "28                                 S. Hawkins                    20   \n",
      "43                  Bill Hamilton \"DaBaldGuy\"                    12   \n",
      "57                        John B. Goode \"JBG\"                     5   \n",
      "64                                      Kelli                    15   \n",
      "83                 Louie Arrighi \"Lou da Joo\"                     7   \n",
      "148                           Barbara J. Rice                     5   \n",
      "175                                 N. Barnes                     8   \n",
      "181                                AuburnTygr                     6   \n",
      "191                                    Lauren                    10   \n",
      "202                           A. Lamb \"Ava K\"                     5   \n",
      "231                                    J. Won                     8   \n",
      "237                             Melody Singer                    74   \n",
      "254                    Valerie Atkinson Brown                    19   \n",
      "256                       Fred T. Belcher Jr.                     6   \n",
      "259                            Music Fan Jeff                    29   \n",
      "330      Sandra M. Greenberg \"Sandy 2 Wheels\"                    14   \n",
      "336                             Alexi Darling                     8   \n",
      "349               Christine \"Christine Cooks\"                     9   \n",
      "371                                       GJV                     5   \n",
      "400                                     Steph                    12   \n",
      "416                                     Ken M                     8   \n",
      "437                                   Midiman                     6   \n",
      "452                                   merstar                    13   \n",
      "490                          Stephanie Martin                     6   \n",
      "493                                 Kahanalei                     5   \n",
      "517                                 yooluvtin                     6   \n",
      "...                                       ...                   ...   \n",
      "90443                                    Will                     5   \n",
      "90453                 L. O'Leary \"farklegirl\"                     7   \n",
      "90454                              Cruise Boy                     6   \n",
      "90490                     Gift Card Recipient                     6   \n",
      "90537                                Tiberius                    27   \n",
      "90551                   Ronnie S. \"Ronnie S.\"                    19   \n",
      "90555  My 2 Cents \"A penny for your thoughts\"                     5   \n",
      "90570                        C. F. Hill \"CFH\"                    42   \n",
      "90584                        Valerie J. Foyle                    30   \n",
      "90595                               C. Bishop                     9   \n",
      "90614                          GlutenFreeCook                    10   \n",
      "90617                       Photoshop Wannabe                     6   \n",
      "90661                       Elizabeth Spencer                    31   \n",
      "90671                             D. D. Falvo                    14   \n",
      "90678                            Mike Vaughan                     6   \n",
      "90685         Christine M. Brennan \"royalnag\"                    10   \n",
      "90686                       Shirley A. Hylton                     7   \n",
      "90755         O. Brown \"Ms. O. Khannah-Brown\"                     6   \n",
      "90772                          honestreviewer                    11   \n",
      "90795                         Marta Bachynsky                     9   \n",
      "90827                                 A. Hard                     5   \n",
      "90853                                  Blazer                    16   \n",
      "90861                                  Barb F                     5   \n",
      "90864                                     Amy                     9   \n",
      "90871                         Ronald J. Spoto                     5   \n",
      "90917                               BellaJack                    19   \n",
      "90939                  B. Breslin \"bpbreslin\"                     5   \n",
      "90977                               Pete Chen                     6   \n",
      "90989                               Terps fan                     7   \n",
      "90991                          Margaret Picky                     5   \n",
      "\n",
      "       HelpfulnessDenominator  Score        Time  \\\n",
      "7                           9      5  1265414400   \n",
      "14                         39      5  1117411200   \n",
      "19                         11      5  1170028800   \n",
      "20                          6      5  1225756800   \n",
      "28                         20      5  1190505600   \n",
      "43                         12      5  1248998400   \n",
      "57                          5      5  1261785600   \n",
      "64                         15      5  1258329600   \n",
      "83                          7      5  1279152000   \n",
      "148                         5      5  1219017600   \n",
      "175                         8      5  1236729600   \n",
      "181                         6      5  1168128000   \n",
      "191                        11      5  1315267200   \n",
      "202                         5      4  1322697600   \n",
      "231                         8      1  1275523200   \n",
      "237                        74      1  1139356800   \n",
      "254                        21      5  1201651200   \n",
      "256                         6      5  1291248000   \n",
      "259                        30      5  1130284800   \n",
      "330                        14      5  1264809600   \n",
      "336                         8      5  1304640000   \n",
      "349                        10      5  1168300800   \n",
      "371                         5      5  1273881600   \n",
      "400                        13      5  1326585600   \n",
      "416                         8      5  1214870400   \n",
      "437                         6      5  1322006400   \n",
      "452                        13      5  1186012800   \n",
      "490                         6      5  1295568000   \n",
      "493                         5      5  1256256000   \n",
      "517                         6      5  1311811200   \n",
      "...                       ...    ...         ...   \n",
      "90443                       5      5  1302480000   \n",
      "90453                       7      5  1156896000   \n",
      "90454                       6      4  1269216000   \n",
      "90490                       6      2  1302480000   \n",
      "90537                      28      5  1181174400   \n",
      "90551                      19      5  1167868800   \n",
      "90555                       5      5  1268006400   \n",
      "90570                      42      4  1324857600   \n",
      "90584                      32      3  1138492800   \n",
      "90595                       9      4  1315699200   \n",
      "90614                      10      4  1258761600   \n",
      "90617                       6      5  1276300800   \n",
      "90661                      31      1  1193184000   \n",
      "90671                      14      5  1295222400   \n",
      "90678                       6      5  1239840000   \n",
      "90685                      11      5  1081036800   \n",
      "90686                       7      5  1187222400   \n",
      "90755                       6      3  1192406400   \n",
      "90772                      11      5  1236556800   \n",
      "90795                       9      3  1256688000   \n",
      "90827                       5      5  1328140800   \n",
      "90853                      17      5  1310774400   \n",
      "90861                       5      5  1270944000   \n",
      "90864                      10      3  1340755200   \n",
      "90871                       5      5  1204329600   \n",
      "90917                      19      5  1219363200   \n",
      "90939                       5      5  1300406400   \n",
      "90977                       6      5  1278028800   \n",
      "90989                       7      1  1276473600   \n",
      "90991                       5      5  1328400000   \n",
      "\n",
      "                                                 Summary  \\\n",
      "7                        Very good quality organic oats.   \n",
      "14                       Don't Be Without a Buster Cube!   \n",
      "19                                       Excellent Value   \n",
      "20                     My husband's new favorite coffee.   \n",
      "28              Great tea! Good value too for six boxes.   \n",
      "43                               This is great dog food!   \n",
      "57                                            Fantastic!   \n",
      "64                                SO happy they are back   \n",
      "83                                  great foo foo coffee   \n",
      "148                                  AWESOME product!!!!   \n",
      "175                                           Best ever!   \n",
      "181            Correct amount to top cheesecakes........   \n",
      "191                                            Great Buy   \n",
      "202    Pleasantly Surprised (original flavor amazing ...   \n",
      "231                 Yup, not the pictured Biscuit Buddy.   \n",
      "237    Don't  Get Too Excited About Ice Cream of the ...   \n",
      "254                   Eight O'Clock Coffee is wonderful!   \n",
      "256                                          Great taste   \n",
      "259        a great tasting snack (small meal) substitute   \n",
      "330              A fave breakfast spread for my husband!   \n",
      "336                                    LOVE these chews!   \n",
      "349                             Top Flower, Fleur De Sel   \n",
      "371                                           Great Buy!   \n",
      "400              Great for hair! Does not smell horrible   \n",
      "416                            Excellent Tea, Good Price   \n",
      "437                  Great for Arthritis relief! Try it.   \n",
      "452                                         Top quality.   \n",
      "490                                  Beautiful and tasty   \n",
      "493    Can't go back to those other lollipops after o...   \n",
      "517                    Helps slow breast milk production   \n",
      "...                                                  ...   \n",
      "90443                                      Good product!   \n",
      "90453  Protein in a snack means Gastric Bypass patien...   \n",
      "90454                                 very good sweetner   \n",
      "90490                                   Look around more   \n",
      "90537             great product and keeps the body happy   \n",
      "90551                                       nice flowers   \n",
      "90555  Perfect for adding flavor to dry food. Our lit...   \n",
      "90570                   Tried Many, Some Great, Some Not   \n",
      "90584                Brussel's Fringe Flower Bonsai Tree   \n",
      "90595  These are a relatively good substition for Sun...   \n",
      "90614                                        Fine Flour!   \n",
      "90617                   are you kidding with that price?   \n",
      "90661                            no help on loose stools   \n",
      "90671                                  Terrible pricing!   \n",
      "90678                                         Caution...   \n",
      "90685  Best coffee I have ever had from Douwe Egberts...   \n",
      "90686                                        WW Friendly   \n",
      "90755                      Basic Lemon Ginger Herbal Tea   \n",
      "90772                          Love the Root Beer flavor   \n",
      "90795                                Bad batch of Stevia   \n",
      "90827                      Wow, This Stuff Gets Me High!   \n",
      "90853   Best Tasting Salt AND So Incredibly Good For You   \n",
      "90861      Great cereal choice for the gluten intolerant   \n",
      "90864                                   Highway Robbery.   \n",
      "90871                                 we love these bars   \n",
      "90917                       Great Tasting Low Carb Pasta   \n",
      "90939              A True Miracle for my 3 year old son!   \n",
      "90977                Excellent product, best deal around   \n",
      "90989                               every can was dented   \n",
      "90991  Excellent quality oil with a delicate color, f...   \n",
      "\n",
      "                                                    Text  helpScore  helpful  \n",
      "7      The Country Choice brand is domestically produ...   1.000000     True  \n",
      "14     I bought a mini buster cube for my miniature d...   1.000000     True  \n",
      "19     I make my own coffee flavoring syrup to save m...   1.000000     True  \n",
      "20     We ordered jet fuel and amazon sent us Black T...   1.000000     True  \n",
      "28     I felt the effects from this tea the first day...   1.000000     True  \n",
      "43     A few years back, prompted by the death of one...   1.000000     True  \n",
      "57     In the great British trifecta of British powde...   1.000000     True  \n",
      "64     I found these at our local base commissary and...   1.000000     True  \n",
      "83     <span class=\"tiny\"> Length:: 1:54 Mins<br /><b...   1.000000     True  \n",
      "148    Thank you so much for making this available. I...   1.000000     True  \n",
      "175    This tastes so good and is so healthy for you....   1.000000     True  \n",
      "181    My family loves cheesecakes, blueberry being t...   1.000000     True  \n",
      "191    I needed to buy organic ceylon cinnamon, becau...   0.909091     True  \n",
      "202    I ordered this after comparing other natural b...   1.000000     True  \n",
      "231    Yup, this is not the pictured bag. It is infer...   1.000000     True  \n",
      "237    I received 3 months of Ice Cream from this Clu...   1.000000     True  \n",
      "254    When I switched coffee brands and made Eight O...   0.904762     True  \n",
      "256    Whoa.....a really nice sweetness!  It is softe...   1.000000     True  \n",
      "259    If you're a former junk food junkie like me, t...   0.966667     True  \n",
      "330    After looking around at specialty stores in my...   1.000000     True  \n",
      "336    It is awesome to find a dental chew that is sa...   1.000000     True  \n",
      "349    I use many types of salt in my cooking but it ...   0.900000     True  \n",
      "371    I buy this product for my husband.  It's the o...   1.000000     True  \n",
      "400    First I want to start by saying this oil does ...   0.923077     True  \n",
      "416    I started loving Oolong tea after I discovered...   1.000000     True  \n",
      "437    I bought this to make my own pepper cream for ...   1.000000     True  \n",
      "452    Kadoya Sesame Oil is delicious, with a deep, d...   1.000000     True  \n",
      "490    I originally tried this tea in the Teavana sto...   1.000000     True  \n",
      "493    Best lollipops I've ever tasted, you can tell ...   1.000000     True  \n",
      "517    Used this to help slow breast milk production ...   1.000000     True  \n",
      "...                                                  ...        ...      ...  \n",
      "90443  I have found that some products used to decora...   1.000000     True  \n",
      "90453  After gastric bypass surgery, you have to eat ...   1.000000     True  \n",
      "90454  This sweetner is courser than the  xylitol I b...   1.000000     True  \n",
      "90490  I guess I should have looked around more, I wa...   1.000000     True  \n",
      "90537  I use this product everyday and I have continu...   0.964286     True  \n",
      "90551  I sent these to a friend who ran in the NYC Ma...   1.000000     True  \n",
      "90555  I don't know a lot about dogs but I thought th...   1.000000     True  \n",
      "90570  We have a <a href=\"http://www.amazon.com/gp/pr...   1.000000     True  \n",
      "90584  The tree is lovely and has many branches to tr...   0.937500     True  \n",
      "90595  I have been longing for Sunshine biscuits fore...   1.000000     True  \n",
      "90614  I've ordered this millet flour in bulk twice, ...   1.000000     True  \n",
      "90617  I can buy this at Walmart and many other groce...   1.000000     True  \n",
      "90661  <a href=\"http://www.amazon.com/gp/product/B000...   1.000000     True  \n",
      "90671  This is an awesome product. I've used it for y...   1.000000     True  \n",
      "90678  These can be very addictive.<br /><br />By far...   1.000000     True  \n",
      "90685  I have been drinking Douwe Egberts red label c...   0.909091     True  \n",
      "90686  This popcorn is only 1 Weight Watcher point pe...   1.000000     True  \n",
      "90755  ***<br />Stash's Lemon Ginger Caffeine Free He...   1.000000     True  \n",
      "90772  I finally found this soda at a local store. No...   1.000000     True  \n",
      "90795  Stevia is kind of funny. Brands and batches va...   1.000000     True  \n",
      "90827  The first time I used this brand of raw cacao ...   1.000000     True  \n",
      "90853  This is the best tasting salt I've ever had.  ...   0.941176     True  \n",
      "90861  Quinoa is not only a fantastic whole grain and...   1.000000     True  \n",
      "90864  Great oatmeal, but BUYER BEWARE! Wal-Mart sell...   0.900000     True  \n",
      "90871  These bars in the peanut/chocolate or the choc...   1.000000     True  \n",
      "90917  I have used Dreamfields Healthy Carb Living pa...   1.000000     True  \n",
      "90939  I have struggled for the last year with my 3 y...   1.000000     True  \n",
      "90977  This product is from Nutiva. Like other produc...   1.000000     True  \n",
      "90989  I am SO disappointed.  Even though I read many...   1.000000     True  \n",
      "90991  La Tourangelle Avocado Oil has a beautiful pal...   1.000000     True  \n",
      "\n",
      "[4825 rows x 14 columns]\n"
     ]
    }
   ],
   "source": [
    "##study chat\n",
    "\n",
    "print(amazon[(amazon.helpful == True) &  (amazon.HelpfulnessNumerator>=5)] )"
   ]
  },
  {
   "cell_type": "code",
   "execution_count": 6,
   "metadata": {},
   "outputs": [],
   "source": [
    "# from gensim.parsing.preprocessing import remove_stopwords\n",
    "# # remove stop words in amazon.Text\n",
    "# amazon['Text'] = amazon['Text'].apply(remove_stopwords)\n",
    "# #newText = amazon['Text'].apply(remove_stopwords)\n",
    "# print(amazon.Text)"
   ]
  },
  {
   "cell_type": "code",
   "execution_count": 7,
   "metadata": {},
   "outputs": [
    {
     "name": "stderr",
     "output_type": "stream",
     "text": [
      "\r",
      "  0%|          | 0/91000 [00:00<?, ?it/s]"
     ]
    },
    {
     "name": "stdout",
     "output_type": "stream",
     "text": [
      "**************************************************\n"
     ]
    },
    {
     "name": "stderr",
     "output_type": "stream",
     "text": [
      "100%|██████████| 91000/91000 [11:09<00:00, 136.01it/s]\n"
     ]
    }
   ],
   "source": [
    "#Lemmatization \n",
    "from gensim.utils import lemmatize\n",
    "print('**************************************************')\n",
    "amaLemma=[]\n",
    "for w in tqdm(amazon['Text']):\n",
    "    amaLemma.append([wd.decode('utf-8').split('/')[0] for wd in lemmatize(w)])"
   ]
  },
  {
   "cell_type": "code",
   "execution_count": 8,
   "metadata": {},
   "outputs": [
    {
     "name": "stdout",
     "output_type": "stream",
     "text": [
      "                                                       0\n",
      "0      [strong, taste, good, opinion, not, exactly, s...\n",
      "1      [search, high, low, salt, change, life, end, j...\n",
      "2      [treat, be, picky, cat, favorite, ve, try, dif...\n",
      "3      [price, be, fantastic, taste, so, convenient, ...\n",
      "4      [alot, chocolate, not, so, much, coffee, bean,...\n",
      "5      [look, ingredient, water, wheat, salt, sugar, ...\n",
      "6      [love, love, bread, mix, person, be, raise, ea...\n",
      "7      [country, choice, brand, be, domestically, pro...\n",
      "8      [taste, good, easy, prepare, separate, pouch, ...\n",
      "9      [only, recently, have, discover, satisy, inter...\n",
      "10     [always, enjoy, tazo, tea, earl, grey, be, fav...\n",
      "11     [be, skeptical, sister, tell, drug, rep, have,...\n",
      "12     [have, grand, kid, fall, play, ground, equipme...\n",
      "13     [guess, get, title, wrong, be, food, left, be,...\n",
      "14     [buy, mini, buster, cube, miniature, dachshund...\n",
      "15     [ll, confess, know, little, different, coffee,...\n",
      "16     [be, thrill, find, flavor, available, amazon, ...\n",
      "17     [best, lemonade, market, not, too, sweet, sple...\n",
      "18     [little, baby, have, save, finger, many, punct...\n",
      "19     [make, own, coffee, flavoring, syrup, save, mo...\n",
      "20     [order, jet, fuel, amazon, send, black, tiger,...\n",
      "21     [sorry, opt, item, get, only, apparently, coun...\n",
      "22     [very, tasty, fresh, only, complaint, be, expi...\n",
      "23     [excellent, taste, low, calorie, snack, size, ...\n",
      "24     [be, best, alternative, soda, ever, be, light,...\n",
      "25     [few, year, work, bed, breakfast, favorite, pa...\n",
      "26     [used, eat, marshmallow, cone, time, be, kid, ...\n",
      "27     [understood, bone, be, inch, long, be, thin, v...\n",
      "28     [feel, effect, tea, first, day, start, notice,...\n",
      "29     [handy, little, drawer, fit, perfectly, keurig...\n",
      "...                                                  ...\n",
      "90970  [be, so, many, way, use, product, be, so, good...\n",
      "90971  [kind, healthy, grain, never, call, cereal, be...\n",
      "90972  [big, fan, kettle, cook, chip, be, kid, tend, ...\n",
      "90973  [bay, leaf, be, list, oz, receive, oz, br, hav...\n",
      "90974  [wonderful, way, gently, feel, relaxed, sleepy...\n",
      "90975  [love, taste, wonderful, have, protein, calory...\n",
      "90976     [say, be, delicious, day, sip, heart, content]\n",
      "90977  [product, be, nutiva, other, product, company,...\n",
      "90978  [be, very, hard, purchase, other, brand, split...\n",
      "90979  [give, month, old, son, yesterday, then, find,...\n",
      "90980  [get, make, vietnamese, soup, pho, br, br, pro...\n",
      "90981  [think, be, nice, compromise, dinner, good, ch...\n",
      "90982  [totally, love, bar, re, look, protein, bar, b...\n",
      "90983  [right, consistency, excelent, product, overal...\n",
      "90984  [retriever, gotta, chew, do, bowser, tend, ign...\n",
      "90985  [flavor, tea, be, unmatchable, be, not, carry,...\n",
      "90986  [vegan, natural, kosher, have, certify, gluten...\n",
      "90987  [be, tasty, however, nutrition, info, package,...\n",
      "90988  [ve, try, rise, flavor, hazer, baba, haci, bek...\n",
      "90989  [be, so, disappointed, even, read, many, revie...\n",
      "90990  [terrible, not, only, do, cause, have, jam, le...\n",
      "90991  [la, tourangelle, avocado, oil, have, beautifu...\n",
      "90992  [be, least, favorite, desert, line, first, bit...\n",
      "90993  [stuff, be, just, awful, doesn, taste, chocola...\n",
      "90994  [really, enjoy, shampoo, only, small, amount, ...\n",
      "90995  [trident, minty, sweet, twist, be, best, gum, ...\n",
      "90996  [love, beef, jerky, be, not, good, way, very, ...\n",
      "90997  [be, great, dog, love, be, picky, be, healthy,...\n",
      "90998  [kettle, be, best, taste, healthiest, chip, ha...\n",
      "90999  [great, price, really, good, gum, def, be, bac...\n",
      "\n",
      "[91000 rows x 1 columns]\n"
     ]
    }
   ],
   "source": [
    "amaNp=np.array(amaLemma)\n",
    "amaDF=pd.DataFrame(amaNp)\n",
    "\n",
    "amaDF.to_csv('/Users/working/Documents/ParsonsSchool/Sp19/MachineLearning/DATASET/amazon_data/AmazonLemmatizedTestingwithStopWords.csv')\n",
    "print(amaDF)"
   ]
  },
  {
   "cell_type": "code",
   "execution_count": 9,
   "metadata": {},
   "outputs": [
    {
     "name": "stdout",
     "output_type": "stream",
     "text": [
      "0    strong taste good opinion not exactly substitu...\n",
      "1    search high low salt change life end journey m...\n",
      "2    treat be picky cat favorite ve try different b...\n",
      "3    price be fantastic taste so convenient make me...\n",
      "4    alot chocolate not so much coffee bean not big...\n",
      "Name: 0, dtype: object\n"
     ]
    }
   ],
   "source": [
    "#JOIN LIST TO STR\n",
    "\n",
    "\n",
    "amaDFOut = amaDF[0].apply(' '.join)\n",
    "print(amaDFOut.head())\n"
   ]
  },
  {
   "cell_type": "markdown",
   "metadata": {},
   "source": [
    "### Feature extraction on natural language data"
   ]
  },
  {
   "cell_type": "code",
   "execution_count": 10,
   "metadata": {},
   "outputs": [
    {
     "name": "stdout",
     "output_type": "stream",
     "text": [
      "(91000, 76362)\n"
     ]
    }
   ],
   "source": [
    "# # http://scikit-learn.org/stable/modules/generated/sklearn.feature_extraction.text.CountVectorizer.html\n",
    "# from sklearn.feature_extraction.text import CountVectorizer\n",
    "# vectorizer = CountVectorizer()\n",
    "# corpus = amazon.Text.as_matrix()\n",
    "# X_bag_of_words = vectorizer.fit_transform(corpus)\n",
    "# print(X_bag_of_words.toarray())\n",
    "hv = joblib.load('vectorizer.pkl')\n",
    "X_hv = hv.transform(amaDFOut)\n",
    "print(X_hv.shape)"
   ]
  },
  {
   "cell_type": "code",
   "execution_count": 11,
   "metadata": {},
   "outputs": [],
   "source": [
    "# # vectorize Bag of Words from review text; as sparse matrix\n",
    "# # from sklearn.feature_extraction.text import HashingVectorizer\n",
    "# # hv = HashingVectorizer(n_features=2 ** 17, non_negative=True)\n",
    "# hv = joblib.load('hv.pkl')\n",
    "# #X_hv = hv.transform(amazon.Text)\n",
    "# X_hv = hv.transform(amaDFOut)\n",
    "# print(X_hv.shape)\n",
    "# # print(hv.shape)"
   ]
  },
  {
   "cell_type": "code",
   "execution_count": 12,
   "metadata": {},
   "outputs": [],
   "source": [
    "# http://scikit-learn.org/stable/modules/generated/sklearn.feature_extraction.text.TfidfTransformer.html\n",
    "# from sklearn.feature_extraction.text import TfidfTransformer\n",
    "# transformer = TfidfTransformer()\n",
    "transformer = joblib.load('transformer.pkl')\n",
    "X_tfidf = transformer.transform(X_hv)"
   ]
  },
  {
   "cell_type": "code",
   "execution_count": 13,
   "metadata": {},
   "outputs": [
    {
     "name": "stdout",
     "output_type": "stream",
     "text": [
      "<class 'scipy.sparse.csr.csr_matrix'>\n"
     ]
    }
   ],
   "source": [
    "print(type(X_tfidf))"
   ]
  },
  {
   "cell_type": "markdown",
   "metadata": {},
   "source": [
    "### Time Converting "
   ]
  },
  {
   "cell_type": "code",
   "execution_count": 82,
   "metadata": {},
   "outputs": [
    {
     "name": "stdout",
     "output_type": "stream",
     "text": [
      "0    2012\n",
      "1    2012\n",
      "2    2012\n",
      "3    2012\n",
      "4    2011\n",
      "5    2012\n",
      "6    2011\n",
      "7    2010\n",
      "8    2010\n",
      "9    2008\n",
      "Name: amaYear, dtype: int64\n",
      "0     6\n",
      "1     1\n",
      "2     8\n",
      "3    10\n",
      "4     7\n",
      "5    10\n",
      "6     3\n",
      "7     2\n",
      "8    10\n",
      "9     2\n",
      "Name: amaMonth, dtype: int64\n",
      "0    5\n",
      "1    1\n",
      "2    6\n",
      "3    1\n",
      "4    6\n",
      "5    2\n",
      "6    0\n",
      "7    4\n",
      "8    0\n",
      "9    6\n",
      "Name: amaDay, dtype: int64\n"
     ]
    }
   ],
   "source": [
    "import datetime\n",
    "\n",
    "amazon['amaRead'] = amazon['Time'].apply(datetime.datetime.fromtimestamp)\n",
    "amazon['amaMonth'] = amazon['amaRead'].apply(datetime.datetime.strftime, format=(\"%m\"))\n",
    "amazon['amaMonth'] = amazon['amaMonth'].apply(int)\n",
    "amazon['amaDay'] =amazon['amaRead'].apply(datetime.datetime.weekday)\n",
    "\n",
    "amazon['amaYear']=amazon['amaRead'].apply(datetime.datetime.strftime, format=(\"%Y\"))\n",
    "amazon['amaYear']= amazon['amaYear'].apply(int)\n",
    "\n",
    "\n",
    "print(amazon['amaYear'].head(10))\n",
    "print(amazon['amaMonth'].head(10))\n",
    "print(amazon['amaDay'].head(10))"
   ]
  },
  {
   "cell_type": "markdown",
   "metadata": {
    "collapsed": true
   },
   "source": [
    "### Create additional quantitative features"
   ]
  },
  {
   "cell_type": "code",
   "execution_count": 84,
   "metadata": {},
   "outputs": [
    {
     "name": "stdout",
     "output_type": "stream",
     "text": [
      "   reviewLen  Score  reviewLenAfterLe  amaDay  amaMonth  revPlusScore  amaYear\n",
      "0        116      3                88       5         6           348     2012\n",
      "1       2915      5              1911       1         1         14575     2012\n",
      "2        152      5                97       6         8           760     2012\n",
      "3        167      5               109       1        10           835     2012\n",
      "4        120      3                90       6         7           360     2011\n",
      "5        193      1               133       2        10           193     2012\n",
      "6        732      5               428       0         3          3660     2011\n",
      "7       1122      5               792       4         2          5610     2010\n",
      "8         88      5                59       0        10           440     2010\n",
      "9        549      5               390       6         2          2745     2008\n",
      "<class 'pandas.core.frame.DataFrame'>\n"
     ]
    }
   ],
   "source": [
    "# features from Amazon.csv to add to feature set\n",
    "amazon['reviewLen'] = amazon['Text'].str.len()\n",
    "amazon['reviewLenAfterLe'] = amaDFOut.str.len()\n",
    "# X_quant_features = amazon[[\"Score\", \"reviewLen\"]]\n",
    "# X_quant_features = amazon[[\"Score\", \"reviewLen\",\"amaDay\",\"amaHour\"]]\n",
    "amazon['revPlusScore']=  amazon['reviewLen']*amazon['Score']\n",
    "\n",
    "\n",
    "X_quant_features = amazon[[\"reviewLen\",\"Score\",\"reviewLenAfterLe\",\"amaDay\", \"amaMonth\", \"revPlusScore\", \"amaYear\"]]\n",
    "\n",
    "print(X_quant_features.head(10))\n",
    "print(type(X_quant_features))"
   ]
  },
  {
   "cell_type": "markdown",
   "metadata": {},
   "source": [
    "### Combine all quantitative features into a single sparse matrix"
   ]
  },
  {
   "cell_type": "code",
   "execution_count": 85,
   "metadata": {},
   "outputs": [
    {
     "name": "stdout",
     "output_type": "stream",
     "text": [
      "(91000, 76369)\n"
     ]
    }
   ],
   "source": [
    "from scipy.sparse import csr_matrix, hstack\n",
    "X_quant_features_csr = csr_matrix(X_quant_features)\n",
    "X_combined = hstack([X_tfidf, X_quant_features_csr])\n",
    "X_matrix = csr_matrix(X_combined) # convert to sparse matrix\n",
    "print(X_matrix.shape)"
   ]
  },
  {
   "cell_type": "markdown",
   "metadata": {},
   "source": [
    "### Create `X`, scaled matrix of features"
   ]
  },
  {
   "cell_type": "code",
   "execution_count": 86,
   "metadata": {},
   "outputs": [
    {
     "name": "stdout",
     "output_type": "stream",
     "text": [
      "(91000, 76369)\n"
     ]
    }
   ],
   "source": [
    "# feature scaling\n",
    "# from sklearn.preprocessing import StandardScaler\n",
    "# sc = StandardScaler(with_mean=False)\n",
    "sc = joblib.load('sc.pkl')\n",
    "X = sc.transform(X_matrix)\n",
    "print(X.shape)"
   ]
  },
  {
   "cell_type": "markdown",
   "metadata": {},
   "source": [
    "### create `y`, vector of Labels"
   ]
  },
  {
   "cell_type": "code",
   "execution_count": 87,
   "metadata": {},
   "outputs": [
    {
     "name": "stdout",
     "output_type": "stream",
     "text": [
      "<class 'numpy.ndarray'>\n"
     ]
    }
   ],
   "source": [
    "y = amazon['helpful'].values\n",
    "print(type(y))"
   ]
  },
  {
   "cell_type": "markdown",
   "metadata": {},
   "source": [
    "### predict `y` with the fit on the training set"
   ]
  },
  {
   "cell_type": "code",
   "execution_count": 88,
   "metadata": {},
   "outputs": [
    {
     "name": "stdout",
     "output_type": "stream",
     "text": [
      "{'Pos': 6607, 'Neg': 84393, 'TP': 45, 'TN': 83937, 'FP': 456, 'FN': 6562, 'Accuracy': 0.9228791208791208, 'Precision': 0.08982035928143713, 'Recall': 0.0068109580747691845, 'desc': 'ols'}\n"
     ]
    }
   ],
   "source": [
    "# MODEL: ordinary least squares\n",
    "# from sklearn import linear_model\n",
    "# ols = linear_model.SGDClassifier(loss=\"squared_loss\")\n",
    "# ols.fit(X, y)\n",
    "# joblib.dump(ols, 'ols.pkl') # pickle\n",
    "ols = joblib.load('ols.pkl') # pickle\n",
    "\n",
    "ols_performance = BinaryClassificationPerformance(ols.predict(X), y, 'ols')\n",
    "ols_performance.compute_measures()\n",
    "print(ols_performance.performance_measures)"
   ]
  },
  {
   "cell_type": "code",
   "execution_count": 97,
   "metadata": {},
   "outputs": [
    {
     "name": "stdout",
     "output_type": "stream",
     "text": [
      "{'Pos': 6607, 'Neg': 84393, 'TP': 206, 'TN': 84228, 'FP': 165, 'FN': 6401, 'Accuracy': 0.9278461538461539, 'Precision': 0.555256064690027, 'Recall': 0.031179052520054488, 'desc': 'svm'}\n"
     ]
    }
   ],
   "source": [
    "# MODEL: SVM, linear\n",
    "# from sklearn import linear_model\n",
    "# svm = linear_model.SGDClassifier()\n",
    "# svm.fit(X, y)\n",
    "# joblib.dump(svm, 'svm.pkl') # pickle\n",
    "svm = joblib.load('svm.pkl') # pickle\n",
    "\n",
    "svm_performance = BinaryClassificationPerformance(svm.predict(X), y, 'svm')\n",
    "svm_performance.compute_measures()\n",
    "print(svm_performance.performance_measures)"
   ]
  },
  {
   "cell_type": "code",
   "execution_count": 106,
   "metadata": {},
   "outputs": [
    {
     "name": "stdout",
     "output_type": "stream",
     "text": [
      "{'Pos': 6607, 'Neg': 84393, 'TP': 3018, 'TN': 72645, 'FP': 11748, 'FN': 3589, 'Accuracy': 0.8314615384615385, 'Precision': 0.20438845997561966, 'Recall': 0.45678825488118663, 'desc': 'lgs'}\n"
     ]
    }
   ],
   "source": [
    "# MODEL: logistic regression\n",
    "# from sklearn import linear_model\n",
    "# lgs = linear_model.SGDClassifier(loss='log', n_iter=50, alpha=0.00001)\n",
    "# lgs.fit(X, y)\n",
    "# joblib.dump(lgs, 'lgs.pkl') # pickle\n",
    "lgs = joblib.load('lgs.pkl')\n",
    "\n",
    "lgs_performance = BinaryClassificationPerformance(lgs.predict(X), y, 'lgs')\n",
    "lgs_performance.compute_measures()\n",
    "print(lgs_performance.performance_measures)"
   ]
  },
  {
   "cell_type": "code",
   "execution_count": 99,
   "metadata": {},
   "outputs": [
    {
     "name": "stdout",
     "output_type": "stream",
     "text": [
      "{'Pos': 6607, 'Neg': 84393, 'TP': 2082, 'TN': 76227, 'FP': 8166, 'FN': 4525, 'Accuracy': 0.8605384615384616, 'Precision': 0.2031615925058548, 'Recall': 0.31512032692598757, 'desc': 'nbs'}\n"
     ]
    }
   ],
   "source": [
    "# MODEL: Naive Bayes\n",
    "# from sklearn.naive_bayes import MultinomialNB\n",
    "# nbs = MultinomialNB()\n",
    "# nbs.fit(X, y)\n",
    "# joblib.dump(nbs, 'nbs.pkl') # pickle\n",
    "nbs = joblib.load('nbs.pkl')\n",
    "\n",
    "nbs_performance = BinaryClassificationPerformance(nbs.predict(X), y, 'nbs')\n",
    "nbs_performance.compute_measures()\n",
    "print(nbs_performance.performance_measures)"
   ]
  },
  {
   "cell_type": "code",
   "execution_count": 100,
   "metadata": {},
   "outputs": [
    {
     "name": "stdout",
     "output_type": "stream",
     "text": [
      "{'Pos': 6607, 'Neg': 84393, 'TP': 3766, 'TN': 65174, 'FP': 19219, 'FN': 2841, 'Accuracy': 0.7575824175824176, 'Precision': 0.16384598651294321, 'Recall': 0.5700015135462388, 'desc': 'prc'}\n"
     ]
    }
   ],
   "source": [
    "# MODEL: Perceptron\n",
    "# from sklearn import linear_model\n",
    "# prc = linear_model.SGDClassifier(loss='perceptron')\n",
    "# prc.fit(X, y)\n",
    "# joblib.dump(prc, 'prc.pkl') # pickle\n",
    "prc = joblib.load('prc.pkl')\n",
    "\n",
    "prc_performance = BinaryClassificationPerformance(prc.predict(X), y, 'prc')\n",
    "prc_performance.compute_measures()\n",
    "print(prc_performance.performance_measures)"
   ]
  },
  {
   "cell_type": "code",
   "execution_count": 101,
   "metadata": {},
   "outputs": [
    {
     "name": "stdout",
     "output_type": "stream",
     "text": [
      "{'Pos': 6607, 'Neg': 84393, 'TP': 890, 'TN': 83331, 'FP': 1062, 'FN': 5717, 'Accuracy': 0.9255054945054945, 'Precision': 0.45594262295081966, 'Recall': 0.1347056152565461, 'desc': 'rdg'}\n"
     ]
    }
   ],
   "source": [
    "# MODEL: Ridge Regression Classifier\n",
    "# from sklearn import linear_model\n",
    "# rdg = linear_model.RidgeClassifier()\n",
    "# rdg.fit(X, y)\n",
    "# joblib.dump(rdg, 'rdg.pkl') # pickle\n",
    "rdg = joblib.load('rdg.pkl')\n",
    "\n",
    "rdg_performance = BinaryClassificationPerformance(rdg.predict(X), y, 'rdg')\n",
    "rdg_performance.compute_measures()\n",
    "print(rdg_performance.performance_measures)"
   ]
  },
  {
   "cell_type": "code",
   "execution_count": 102,
   "metadata": {},
   "outputs": [
    {
     "name": "stdout",
     "output_type": "stream",
     "text": [
      "{'Pos': 6607, 'Neg': 84393, 'TP': 2261, 'TN': 82600, 'FP': 1793, 'FN': 4346, 'Accuracy': 0.9325384615384615, 'Precision': 0.5577207696102615, 'Recall': 0.3422128046011806, 'desc': 'dtc'}\n"
     ]
    }
   ],
   "source": [
    "# MODEL: Decision Tree Classifier\n",
    "# from sklearn import tree\n",
    "# dtc = tree.DecisionTreeClassifier(max_depth=100)\n",
    "# dtc.fit(X_matrix, y)\n",
    "# joblib.dump(dtc, 'dtc.pkl') # pickle\n",
    "dtc = joblib.load('dtc.pkl')\n",
    "\n",
    "dtc_performance = BinaryClassificationPerformance(dtc.predict(X_matrix), y, 'dtc')\n",
    "dtc_performance.compute_measures()\n",
    "print(dtc_performance.performance_measures)"
   ]
  },
  {
   "cell_type": "markdown",
   "metadata": {},
   "source": [
    "### ROC plot to compare performance of various models and fits"
   ]
  },
  {
   "cell_type": "code",
   "execution_count": 107,
   "metadata": {},
   "outputs": [
    {
     "data": {
      "image/png": "[encoded data removed]",
      "text/plain": [
       "<Figure size 432x288 with 1 Axes>"
      ]
     },
     "metadata": {
      "needs_background": "light"
     },
     "output_type": "display_data"
    }
   ],
   "source": [
    "fits = [svm_performance, lgs_performance, nbs_performance, rdg_performance, prc_performance, ols_performance, dtc_performance]\n",
    "\n",
    "for fit in fits:\n",
    "    plt.plot(fit.performance_measures['FP'] / fit.performance_measures['Neg'], \n",
    "             fit.performance_measures['TP'] / fit.performance_measures['Pos'], 'bo')\n",
    "    plt.text(fit.performance_measures['FP'] / fit.performance_measures['Neg'], \n",
    "             fit.performance_measures['TP'] / fit.performance_measures['Pos'], fit.desc)\n",
    "plt.axis([0, 1, 0, 1])\n",
    "plt.title('ROC plot: test set')\n",
    "plt.xlabel('False positive rate')\n",
    "plt.ylabel('True positive rate')\n",
    "plt.show()"
   ]
  },
  {
   "cell_type": "markdown",
   "metadata": {
    "collapsed": true
   },
   "source": [
    "### looking at reviews based on their classification\n",
    "\n",
    "Let's say we decide that Ridge Regression is the best model for generalization. Let's take a look at some of the reviews and try to make a (subjective) determination of whether it's generalizing well. "
   ]
  },
  {
   "cell_type": "code",
   "execution_count": 30,
   "metadata": {},
   "outputs": [
    {
     "data": {
      "text/plain": [
       "\"strong taste good! In opinion it's exactly substitute coffee tastes good mixed together.\""
      ]
     },
     "execution_count": 30,
     "metadata": {},
     "output_type": "execute_result"
    }
   ],
   "source": [
    "amazon.loc[0, \"Text\"]"
   ]
  },
  {
   "cell_type": "code",
   "execution_count": 31,
   "metadata": {},
   "outputs": [
    {
     "data": {
      "text/plain": [
       "False"
      ]
     },
     "execution_count": 31,
     "metadata": {},
     "output_type": "execute_result"
    }
   ],
   "source": [
    "amazon.loc[0, \"helpful\"]"
   ]
  },
  {
   "cell_type": "code",
   "execution_count": 32,
   "metadata": {},
   "outputs": [],
   "source": [
    "ridge_predictions = rdg.predict(X)"
   ]
  },
  {
   "cell_type": "code",
   "execution_count": 33,
   "metadata": {},
   "outputs": [
    {
     "data": {
      "text/plain": [
       "(91000,)"
      ]
     },
     "execution_count": 33,
     "metadata": {},
     "output_type": "execute_result"
    }
   ],
   "source": [
    "ridge_predictions.shape"
   ]
  },
  {
   "cell_type": "code",
   "execution_count": 34,
   "metadata": {},
   "outputs": [
    {
     "name": "stdout",
     "output_type": "stream",
     "text": [
      "[False False False ... False False False]\n"
     ]
    }
   ],
   "source": [
    "print(ridge_predictions)"
   ]
  },
  {
   "cell_type": "code",
   "execution_count": 35,
   "metadata": {},
   "outputs": [
    {
     "name": "stdout",
     "output_type": "stream",
     "text": [
      "7427\n",
      "2012-09-15 00:00:00\n",
      "5\n",
      "1\n",
      "B003XUHGRO\n",
      "nice good neat cool great amazing fantastic stupendous exceptional review process complete bore useless. Let Check number Stars leave field optional.\n",
      "* * * * * * * * * \n",
      "7730\n",
      "2012-06-01 00:00:00\n",
      "4\n",
      "0\n",
      "B007RTR89S\n",
      "I color-treated (all-over blonde highlights) fine hair... lot it! I originally tried volumizing shampoo condition Clear I needed moisture. This great!<br /><br />Even washing hair manageable, styled better, shiney bright! One guys I work said looked blonder asked I got done!<br /><br />I know sulfate hair looks great anyway!\n",
      "* * * * * * * * * \n",
      "8649\n",
      "2012-06-11 00:00:00\n",
      "5\n",
      "0\n",
      "B00390T5JA\n",
      "Simple use, intuitive set up. Makes great coffee tea, provided use preferred brands. Fits kitchen counter, extra space, reservoir holds decent water cup, provide cups guests filling reservoir over. Great item.\n",
      "* * * * * * * * * \n",
      "9863\n",
      "2011-02-11 00:00:00\n",
      "4\n",
      "1\n",
      "B000FI4O90\n",
      "I received Aerogarden half weeks ago thrilled it. The reason I given stars I think expensive, particularly seed kits. I hope popularity grows price come down. At weeks seed pods sprouted. They expected sprout different times indicated seed pods sprouted schedule earlier. I'm new reviewing like upload picture sure possible.<br /><br /> The set ridiculously easy I recommend read instructions things certain order needed. Also supposed seed pods specific order (as box) I didn't read took separate seed kit box didn't know order in. I think likely error list order inserted enclosed box avoid problem. I guessed order growing well.<br /><br />After set add water nutrients future machine tells flashing lights. Couldn't easier!! The instruction booklet short ( nice don't like reading instructions :) The confusing adding nutrients. The instruction book refers tablets/pellets receive plastic tubes liquid don't add tubes instruction says add tablets. Just ensure read nutrient info instruction book seed pod box guidance ignore master instruction book. Also add nutrients depending 3 6 7 pod gardens read carefully.<br /><br />The light super bright. You don't want sleeping. I kitchen I sided board night ( small version kids use science faires exhibits block light seeps bedroom nearby. Herbs 7 8 hours day lights I set timer turn lights 11 PM automatically come 8 hours later. This fabulous feature super easy operate.<br /><br />The pump quiet I didn't think working.<br /><br />So I like lower price I HIGHLY recommend product can't wait enjoy herbs 2 half weeks ready start harvesting<br /><br />UPDATE weeks bulbs died. I contacted customer service immediately said send replacement. I disapointed week confirmed shipped shipped new bulbs currently working herbs continued grow I basil I harvest some.\n",
      "* * * * * * * * * \n",
      "13221\n",
      "2010-12-28 00:00:00\n",
      "5\n",
      "0\n",
      "B001E3VY7A\n",
      "Fast service, reasonably priced, free shipping, long,specific, detailed reassurance I satisfied product, happy. Refreshing! Thanks, Rita\n",
      "* * * * * * * * * \n",
      "14672\n",
      "2011-08-23 00:00:00\n",
      "5\n",
      "1\n",
      "B000093HKC\n",
      "Mycodex Plus Environmental Control Aerosol Household Spray amazing.<br />The basement fleas year. One sprayed basement floor took care problem. Other products tried, flea bombs having set off. Nothing work. This stuff A Plus. Would definitely use need.\n",
      "* * * * * * * * * \n",
      "15306\n",
      "2010-05-15 00:00:00\n",
      "3\n",
      "3\n",
      "B000UOAG3M\n",
      "Received gift I thrilled I've eyeing Bentely's Finest Elegant Wooden Tea Chest couple years. The box smaller I'd expected, especially houses 120 tea bags, footprint smaller, that's good thing small home. Each stack 10 teabags. The tea chest dark, non-wood appearing heavy box solid feet cheap looking shiny brass colored metal hardware. The interior contains red felt separators removed want use larger tea bags tea consumed. Since appears marketed presentation box Bentley teas, I'd solid 3 star half price cost, given 4 bright gold Bentley ad inside lid. If actually use chest present teas guests, it's tacky appearance. The teas far best I've drunk, I nice brewing iced tea. The bags bleached white paper, sealed edges, white string small paper hang tag attached pressed seam. Each bag enveloped brightly colored lightweight paper. There tea powder residual inside paper, tea contained well. The teas black assorted flavorings single green tea option additional flavoring. It's absolutely average product.\n",
      "* * * * * * * * * \n",
      "18619\n",
      "2007-09-27 00:00:00\n",
      "5\n",
      "3\n",
      "B001E5DY2G\n",
      "I fortune dine best restaurants America Europe. I training finest chefs (primarily French, Italian Indian, training Catonese cookery). My taste buds spoiled, worst, highly-refined, best.<br /><br />Coffee crucial health aesthics. THIS COFFEE answers needs. I highly cricitcal, use best (Kitchen=Aid) Grinder... French Press only. This coffee welcomes me, morning, I hate waking, welcomes day. The beans are, be, oily, dark, produce perfect cup. Though, I add, I blend select beans I local organic markets.<br /><br />But lacking blend, beans stand own. I've bought online, dry, lacking, etc. These beans proven consistent quality, hard palate.<br /><br />If like good, cup coffee, especially ascribe style, grind own, brew withing minutes consume, I imagine response devoute customer.<br /><br />Timothy\n",
      "* * * * * * * * * \n",
      "19301\n",
      "2011-12-20 00:00:00\n",
      "2\n",
      "2\n",
      "B000LRILNK\n",
      "I loved, bought Maille mustards. However, I recently bought jars Dijon Originale, Dijon Old Style different occasions months. Both Canada. The Dijon Originale jar closed properly, Old Style liquified I opened jar. I throw Old Style out. Be aware.\n",
      "* * * * * * * * * \n",
      "24416\n",
      "2012-02-09 00:00:00\n",
      "2\n",
      "6\n",
      "B005PANYEY\n",
      "As marathoner, century cyclist, half-ironman triathlete, I've fair share sports mixes. I've faithful Cytomax user years helps feel sore hard training easy stomach. However, I noticed recent bottle Cytomax states includes \"Stevia\". Stevia recently approved FDA approved Europe, not, frequently marketed, natural product. The plant natural, sweetener needs treated \"messed with\" sweet mask it's bitterness. It's safety debated, given large quantities sports drink I consume, that's switch products.\n",
      "* * * * * * * * * \n",
      "25968\n",
      "2010-10-25 00:00:00\n",
      "1\n",
      "12\n",
      "B000JVGJ1Y\n",
      "For $18.00, quantity cans purchase. I'm sure cost much. Thank you, Iva Jeane Driggers\n",
      "* * * * * * * * * \n",
      "30368\n",
      "2010-03-27 00:00:00\n",
      "3\n",
      "8\n",
      "B002V024CO\n",
      "I happy \"single-serve\" dried cherries. When arrived, happy notice added sugar. Surely cherries natural sugar adding unnecessary? And then, exceedingly sweet, \"sugar\" flavored, cherryish all. I choke 5 6 (while drinking lots water eliminate sugariness) time. Not repeat buy.\n",
      "* * * * * * * * * \n",
      "32304\n",
      "2012-08-15 00:00:00\n",
      "5\n",
      "0\n",
      "B003AYEHSE\n",
      "I happy quality packaging herb. I ordered Starwest products recommend them.\n",
      "* * * * * * * * * \n",
      "33731\n",
      "2012-05-24 00:00:00\n",
      "5\n",
      "0\n",
      "B002GWHE1I\n",
      "I tried flavors - Jamaican Me Crazy Creme Brulee - can't wait try others. Both flavors smooth rich. Jamaican hint rum, Creme Brulee tastes like dessert named - rich, silky cream.<br /><br />When I deciding buy sampler, I appreciated clear descriptions flavor note ones decaf (which I normally don't drink) <a href=\"http://www.amazon.com/gp/product/B002GWHE1I\">Coffee Bean Direct Assorted Flavored Whole Bean Coffee Sampler, 9-Pound Box</a>. The price ounce economical. I definitely buy (or perhaps, pick couple flavors order 1-2 lbs. each. I'm glad I discovered Amazon!\n",
      "* * * * * * * * * \n",
      "34134\n",
      "2011-12-18 00:00:00\n",
      "3\n",
      "1\n",
      "B003Q4TSMS\n",
      "I ordered mother regular blend bit sweet. And version sweet. But reason doesn't mix water. Leaving lot unpleasant unmixed bits cup.<br /><br />For record I've tried adding water mix first, adding mix water. works best, unsatisfactory.\n",
      "* * * * * * * * * \n",
      "34709\n",
      "2010-11-25 00:00:00\n",
      "4\n",
      "1\n",
      "B00020XNV6\n",
      "Hard USA, handful cities leonidas store.<br />Only reason didn't 5 stars chocolates arrived imperfect condition shipment.<br />They nice outer styrofoam packaging .. chocolates ended fused together.<br />That's old-school packaging - style chocolate store belgium, like leonidas.<br /><br />anyway it's delicious i'll order\n",
      "* * * * * * * * * \n",
      "36168\n",
      "2011-03-01 00:00:00\n",
      "5\n",
      "0\n",
      "B0041O2JR8\n",
      "We've tried pancake mixes coming to. You add water, wisk desired consistency, cook. On busy school morning plus. Caveat, I recommend batter mixed room temperature refrigerated previous night brought warmed first. This makes difference flavor kids quick notice. I use canola oil hot frying pan result restaurant quality pancakes, unlike batters I used. As grillworker I appreciate this! Concur reviewer's recommendation add product Amazon's subscribe list.\n",
      "* * * * * * * * * \n",
      "36845\n",
      "2011-11-24 00:00:00\n",
      "3\n",
      "0\n",
      "B00126GBP4\n",
      "It arrived cold fresh Ca. It derinded easiy cut. It cooked smelled wonderful. But, It 20% salty taste. The bacon edible good component dishes,but salty I couldn't eat 1 piece sitting. I order brand again.\n",
      "* * * * * * * * * \n",
      "39506\n",
      "2011-09-18 00:00:00\n",
      "5\n",
      "1\n",
      "B001VJ5838\n",
      "I 7 year old cats history food sensitivities. Their coats dry, vomit often, sluggish. I tried lot different foods them; however, Blue Buffalo best. They love Tuna Salmon. Since I've fed this, coats nicer, vomited, they're getting playful again. Also, week took neglected, flea infested 1.5 year old Manx. We treated fleas, got shots, neutered him. His skin covered scabs sores. Today, coat beautiful soft, sores completely healed, happier.\n",
      "* * * * * * * * * \n",
      "39696\n",
      "2012-02-25 00:00:00\n",
      "5\n",
      "0\n",
      "B003QDRJXY\n",
      "<a href=\"http://www.amazon.com/gp/product/B003QDRJXY\">Nutiva Organic Extra Virgin Coconut Oil, 54-Ounce Containers (Pack 2)</a><br /><br />I've product year & love it. Coconut oil beneficial purchasing Amazon certainly cost effective! I husband, sister & friends it.<br /><br />This oil totally replaced oils household. The taste amazing it's cooking & baking great results. At I thought coconut taste overpower food happened & I've bread, pastry, cookies, scones, soups, chili, EVERYTHING I cook, bake, simmer saute. By way, mushrooms sauteed coconut oil delicious & I eat mushrooms. Now favorite mine. I coconut oil/butter spread use substitute butter toast, pancakes, etc.<br /><br />I uses kitchen wonderful body & hair moisturizer. Also great makeup removal. It replaced skin & hair care products I like knowing artificial ingredients, perfumes, dyes absorbed skin. Just tiny bit hand goes long way & delicate coconut scent right - bit overpowering all!<br /><br />Coconut oil great benefit skin cuts & scrapes antibacterial antiviral. We use skin injuries & appears speed healing scarring.<br /><br />I typically 54 oz container month family husband joined I start taking advantage Amazon's subscribe & save order.\n",
      "* * * * * * * * * \n",
      "43663\n",
      "2008-05-14 00:00:00\n",
      "5\n",
      "5\n",
      "B004YVQ4DI\n",
      "When compare zesty Limonata Sparkling Lemon Beverage sparkly lemon beverages, begin realize sheer perfection Limonata beverage San Pellegrino. The balance lemon, sparkle zest takes drink level gourmet beverage, requires mixing. I tasted before, recently ordered eating Restaurant.<br /><br />San Pellegrino mineral water near town San Pellegrino Terme located 70 kilometers northeast Milan. The water flows thermal spring foot Dolomite mountain wall. The use water definitely adds energy drink possess.<br /><br />The carbonation sophisticated delicate. The way waters champagne sparkling waters.<br /><br />~The Rebecca Review\n",
      "* * * * * * * * * \n",
      "48276\n",
      "2012-01-11 00:00:00\n",
      "4\n",
      "1\n",
      "B001XUIGNY\n",
      "Stewart's abandoed longer making best ginger beers. Fever-Tree bit milder Stewarts sweet unlike Goya I tried live with, inflame intestines way down! It obviously expensive bottles tiny I suggestions: The Fever-Tree consider selling public concentrate let mix own. The product I believe UK shipped California likely concentrated form anyway. By going route adding product line, pay heavy glass bottles fizzy water.<br /><br />My suggestion mix couple inches Fever-Tree bottle like Arizona's bland Diet Iced Tea. It punches tea certainly stretches number glasses ginger beer taste. No afford days drink Fever-Tree straight daily basis. But worthwhile contender void Stewart's created I understand.\n",
      "* * * * * * * * * \n",
      "52055\n",
      "2011-02-16 00:00:00\n",
      "5\n",
      "0\n",
      "B001FA1S4Q\n",
      "The Back Nature Fudge Mint cookies Fudge Striped cookies favorites.<br /><br />The Fudge Striped cookies light crunch great chocolaty taste. For reason I eat upside-down taste better. These bit healthier Keebler's trans fat fudge striped cookies.\n",
      "* * * * * * * * * \n",
      "52317\n",
      "2007-02-05 00:00:00\n",
      "5\n",
      "2\n",
      "B000FFIL60\n",
      "little expensive worth it.<br /><br />it lasts allday long teapots\n",
      "* * * * * * * * * \n",
      "52548\n",
      "2008-12-03 00:00:00\n",
      "5\n",
      "0\n",
      "B001EQ5JLE\n",
      "This tea exactly I hoping reading reviews here. Using loose tea office time consuming creates mess rudimentary office kitchen I want deal with. These tea bags flavorfull, bitter I appreciate cafeine basic domestic mass market tea bags. They small afternoon boost I need. You easily higher quality varietal blended tea I cupboard home use I time fuss want savor special, I happy easy use, inexpensive tea bags quick right cup tea - office home.\n",
      "* * * * * * * * * \n",
      "52643\n",
      "2011-10-16 00:00:00\n",
      "4\n",
      "4\n",
      "B001UL5JWM\n",
      "My kitty epitome vacuum-ism. She eat kitties deem edible. Raw cooked meats, strings, whiskers...you right? As such, loves food-time (too much)...<br /><br />There awesome pet supplies store near I live, I often, I love place help try support business. Every time I shop there, dish PREMIUM cat food samples (and dog food too) front. Last time I went there, I got sample bags. Anyways, cat little smartie, she'd pick better food usual food, gobble up, leaving old food bowl.<br /><br />--<br /><br />Moving along, hands down, favorites. My issue is, kibbles ridiculously *small*. So small, eats whole, eats more. I wound having switch food, shame higher quality cat food, lacks corn-soy-wheat filler ever-so-popular known brands pet food.<br /><br />Ingredients:<br /><br />Chicken Meal, Chicken, Brown Rice, Barley, Oatmeal, Chicken Fat (Preserved With Natural Mixed Tocopherols), Duck Meal, Potatoes, Carrots, Lamb Meal, Canola Oil, Natural Flavor, Salmon Meal, Dried Egg, Brewers Yeast, Duck, Potassium Chloride, Whole Ground Flaxseed, Choline Chloride, Taurine, Natural Mixed Tocopherols, Spinach, Parsley Flakes, Cranberries, L-Lysine, L-Carnitine, Yucca Schidigera Extract, Dried Kelp, Zinc Proteinate, Vitamin E Supplement, Niacin, Manganese Proteinate, Copper Proteinate, Zinc Sulfate, Manganese Sulfate, Copper Sulfate, Thiamine Mononitrate (Vitamin B-1), Vitamin A Supplement, Biotin, Potassium Iodide, Calcium Pantothenate, Riboflavin (Vitamin B-2), Pyridoxine Hydrochloride (Vitamin B-6), Vitamin B-12 Supplement, Manganous Oxide, Sodium Selenite, Vitamin D-3 Supplement, Folic Acid.\n",
      "* * * * * * * * * \n",
      "60464\n",
      "2010-10-13 00:00:00\n",
      "5\n",
      "2\n",
      "B000K8ID2E\n",
      "I admit sceptical seeds sprouting, did, day kitten realised her, loved it.<br />The container sturdy planting seeds easy. I impressed little tablets dried peat, I'm going look buy plants.<br />The grass overgrown looks shaggy, I need order refills.\n",
      "* * * * * * * * * \n",
      "60554\n",
      "2011-12-23 00:00:00\n",
      "5\n",
      "2\n",
      "B005PXZ6JM\n",
      "I return work I pumping furiously.. however, I noticed lately medela bags sealing completely.. bag I laid flat freeze instantly started seeping milk past seal(wasted!)..anyone pumps knows precious drop is! After I store milk medela bags, I stand straight squeeze btwn random freezer objects freezes flat. Today I decided test honeysuckle bags I received reading tons positive reviews amazon surpassed expectations. I included photo comparison. I placing order more!! So thrilled I feel confident supply.\n",
      "* * * * * * * * * \n",
      "60990\n",
      "2010-07-10 00:00:00\n",
      "4\n",
      "0\n",
      "B002TMV34E\n",
      "In deciding review coffee, I knew opinion wasn't enough. While I smooth non-bitter treat mornings, I decided biggest risk serve coworkers.<br /><br />Cubicle inhabitants known maim responsible bad batch coffee, I prepared smile pleasantly use chair battering ram I ran exit.<br /><br />The person tried say;<br /><br />\"...It smooth taste allows drinker savor flavor bitterness unpleasant aftertaste higher priced coffees offered Starbucks. The overall taste reminiscent light medium roast <a href=\"http://www.amazon.com/gp/product/B001EQ5MS4\">Seattle's Best</a>. The drawback I coffee cup empty. Overall I think good coffee, good roast. While I normally prefer darker roasts I recommend coffee good choice.\"<br /><br />What I say, he's English major enjoys fine cuppa Joe. I pulling Swingline staples backside didn't like it.<br /><br />Here's said:<br /><br />\"...On initial taste, hottest, mistake light roast bitterness aftertaste usually associated Medium Dark Roasts. On subsequent sipping coffee's taste linger afterword little bitterness; like light roast, fuller flavor expects robust roasts. This coffee flavor warrant little sweetener cream coffee enthusiasts happy selection...Recommended.\"<br /><br />This works tech support - I typing review hand didn't enjoy coffee.<br /><br />I sure opinion usual tea drinker:<br /><br />\"Right-o. So, tea-drinking-my-coffee-must-have-creamer-so-I-don't-taste-the-coffee person, impressions:<br />Smell: slightly bitter earthy tone<br />Sight: Rather dark, pitch black, dark concern.<br />Taste (black): Dirt mud. Very straight forward coffee, messing about.<br />Taste (with creamer...lots creamer): tongue thanked me!<br /><br />Not favorite drinking coffee, I prefer lighter roast. But, good baking coffee, particularly dark mocha torte mocha cookies.\"<br /><br />So it!<br /><br /> I add I usually don't coffee office - I served this, I asked \"Where's coffee brought week? Are going bring more?\"<br /><br />If it's good cubicle crew, it's good you. :-)\n",
      "* * * * * * * * * \n",
      "62129\n",
      "2010-03-23 00:00:00\n",
      "5\n",
      "1\n",
      "B0028A9C72\n",
      "This stuff pretty good. I best landjagers place Salt Lake City . . . unfortunetly changed recipe recently; taste like bavarians.<br /><br />I buy stick smoker hours help dry age sausages. Then I like hang dry further. I'm hooked these.\n",
      "* * * * * * * * * \n",
      "62254\n",
      "2011-02-21 00:00:00\n",
      "5\n",
      "0\n",
      "B001P7AZN4\n",
      "I disappointed local grocer stopped carrying variety. It great portion control built in. I like flavor, I don't think tastes lot like kettle corn. I prefer artificial \"butter\" flavor. I like dry greasy. Taste personal matter, course. You'd try like it. I listened popping times I know exactly time set microwave. I tried time work, and, goodness, burnt offering! But I know time works microwave. You know packages \"applicances vary, adjust time accordingly\"? Well, yeah, right! I glad source product now.\n",
      "* * * * * * * * * \n",
      "64332\n",
      "2012-02-25 00:00:00\n",
      "4\n",
      "0\n",
      "B0074AP9H8\n",
      "Bought local natural foods store. Amazingly delicious- good smoothies/shakes raw chocolate cakes (see Ani Phyo books recipes & ideas!). Gives bit buzz don't dutched/regular cocoa powder.<br /><br />Only downside bit expensive stores. Looking forward amazon carrying product!\n",
      "* * * * * * * * * \n",
      "67090\n",
      "2012-03-01 00:00:00\n",
      "5\n",
      "2\n",
      "B000HQR3ZM\n",
      "I Rio Rancho Tostado Bowls local supermarket, Hannaford's, outstanding! I blown away superb flavor. Unlike reviewer, I product flimsy all; held tasty bite. (Perhaps problem shipping problems, product itself.) I love Mexican food, dislike artificial ingredients added prepackaged items. This product tasted authentic, I can't praise enough. In word, YUMMY!\n",
      "* * * * * * * * * \n",
      "67924\n",
      "2011-01-25 00:00:00\n",
      "3\n",
      "2\n",
      "B0000CEPDP\n",
      "Like others, I cats initially interested, quickly (a couple tries) decided Hi-Tor Neo wasn't them. For kitties late-stage renal failure, I working way commercial cat food options don't advertise renal diets, phosphorus protein levels comparable Neo-tor (which little higher prescription renal diets). There valuable updated diet information available [...] looking information protein phosphorus content cat foods (The site provides breakdowns canned dry cat foods). I prefer Organix flavors listed there, comparably low protein lower phosphorus. It little expensive, buy local stores try it-- I've seen Hi-Tor Neo store.\n",
      "* * * * * * * * * \n",
      "70866\n",
      "2012-05-16 00:00:00\n",
      "5\n",
      "2\n",
      "B0006Z7NOK\n",
      "ALl braggs apple cider vinegar works good. I given enegy, helps digestive especially feel full. My mothe rhas acid reflex takes prescibe medication problem. With vinegar problmes all.\n",
      "* * * * * * * * * \n",
      "70996\n",
      "2011-06-07 00:00:00\n",
      "5\n",
      "2\n",
      "B0001FR0BQ\n",
      "For San Pellegrino Chinotto sparkler special summertime treat ice rocks right bottle dinner afternoon break meals. You parched thirsty either, sipped slowly thoroughly enjoy flavor unique beverage. As taste Chinotto Orange taste herbal/liquorice root beer sharper. So love exotic flavors I think enjoy fine beverage.\n",
      "* * * * * * * * * \n",
      "74875\n",
      "2012-03-14 00:00:00\n",
      "1\n",
      "1\n",
      "B005GIF7YU\n",
      "I wish I read reviews I ordered product. These tasteless mushrooms imported China. I ordered large container Porcini mushrooms supplier. They marginally better...cost 2X shittakes. Never again.\n",
      "* * * * * * * * * \n",
      "79137\n",
      "2010-08-12 00:00:00\n",
      "3\n",
      "13\n",
      "B000VK08OC\n",
      "Got family staph infection! My year old likes way taste.(mix warm milk night) I love fact gets rid painful boils! The negative thing I high price way helping son's skin I buy again. O I have...<br /><br />One LOVE...\n",
      "* * * * * * * * * \n",
      "79865\n",
      "2012-10-07 00:00:00\n",
      "1\n",
      "0\n",
      "B0043XEL14\n",
      "This great tasting salad, beware food dyes, frozen fresh kinds FD&C Yellow Blue dyes, I noticed I bought it. When I opt healthy food, I prefer chemicals, especially ones linked health hazards. I opt paler looking seaweed, pumped dyes. Here link info food coloring:<br />[...]\n",
      "* * * * * * * * * \n",
      "80091\n",
      "2009-03-11 00:00:00\n",
      "4\n",
      "2\n",
      "B000LKZLCQ\n",
      "This product close youre going chopping coconut tree cutting open. I got hooked coconut water costa rica I drink time. And I feel great! This perfct alternative pedialyte children good dehydrated especially diharrea. The passion fruit flavor adds subtle sweetness abd nice tropical flavor.\n",
      "* * * * * * * * * \n",
      "80539\n",
      "2012-04-19 00:00:00\n",
      "4\n",
      "0\n",
      "B000L8CB76\n",
      "Very good robust flavor. Excellent milk cream. I comments err steeping longer instructed box maximum flavor.\n",
      "* * * * * * * * * \n",
      "81320\n",
      "2012-09-01 00:00:00\n",
      "5\n",
      "0\n",
      "B000RHUXKI\n",
      "My family big fan soups stews. These Blackeye Peas (Beans) wonderful soup add ham ham bone, finely chopped onion, finely chopped celery, lots freshly ground pepper, bit salt (to taste). I use Knorr Beef base boil ham w ham bone first. I pan cornbread Quaker corn meal. These beans soaked overnight...a big plus.<br />The thing crock pot stove easily. Blackeye peas (beans) healthy family. Sometimes I vegetable soup I add 1/2 - 3/4 cup blackeye peas. I add pearl barley.<br />Now, I going plea good folks there. Please start making meals scratch. Involve kids. All soups strews great left overs re-heated kids home school sports. This hard, OK? It takes bit planning fore thought. Let's healthy. Let's cook eat families. I know kids love cook did. I taught bake. . .we started grandmother's great chocolate chip cookie recipe. Now sons married approaching 40's. In homes help lot cooking, baking, housework. They love camping, fishing, hunting, golf. . .and football.<br />I hope purchase beans. I love packaging freshness. The quality superb. My blessings you, kitchens, families!\n",
      "* * * * * * * * * \n",
      "86697\n",
      "2011-02-22 00:00:00\n",
      "5\n",
      "1\n",
      "B000GJQ5C2\n",
      "After trying unsuccessfully buy Kuchenmeister brand rum cake, I thought I try Tortuga's rum cake. It delicious. I'd certainly buy again.\n",
      "* * * * * * * * * \n",
      "87979\n",
      "2008-09-30 00:00:00\n",
      "5\n",
      "0\n",
      "B0008D806A\n",
      "This stuff good practicly addictive! Awesome brautworsts! You try this!!!\n",
      "* * * * * * * * * \n",
      "89295\n",
      "2009-07-14 00:00:00\n",
      "4\n",
      "0\n",
      "B000V7SUPY\n",
      "I buy <a href=\"http://www.amazon.com/gp/product/B000EMQFF8\">Fruit Foot</a> <a href=\"http://www.amazon.com/gp/product/B000EMOCPI\">Fruit Roll-Ups</a>, high sugar expensive I wanted alternative. After trying fruit snacks settled <a href=\"http://www.amazon.com/gp/product/B000V7SUPY\">Florida's Natural Au'some Fruit Juice Stiks, 68% Fruit Content</a>. The sugar content best, definitely better buying. Also price piece went .36¢ .13¢ purchased Subscribe & Save. My kids enjoy I too.\n",
      "* * * * * * * * * \n"
     ]
    }
   ],
   "source": [
    "# false positives\n",
    "\n",
    "import random, time\n",
    "\n",
    "for i in range(0, len(ridge_predictions)):\n",
    "    if (ridge_predictions[i] == True):\n",
    "        if (amazon.loc[i, \"helpful\"] == False):\n",
    "            if (random.uniform(0, 1) < 0.05):\n",
    "                print(i)\n",
    "                print(time.strftime('%Y-%m-%d %H:%M:%S', time.gmtime(amazon.loc[i, \"Time\"])))\n",
    "                print(amazon.loc[i, \"Score\"])\n",
    "                print(amazon.loc[i, \"HelpfulnessDenominator\"])\n",
    "                print(amazon.loc[i, \"ProductId\"])\n",
    "                print(amazon.loc[i, \"Text\"])\n",
    "                print('* * * * * * * * * ')"
   ]
  },
  {
   "cell_type": "code",
   "execution_count": null,
   "metadata": {},
   "outputs": [],
   "source": []
  }
 ],
 "metadata": {
  "kernelspec": {
   "display_name": "Python 3",
   "language": "python",
   "name": "python3"
  },
  "language_info": {
   "codemirror_mode": {
    "name": "ipython",
    "version": 3
   },
   "file_extension": ".py",
   "mimetype": "text/x-python",
   "name": "python",
   "nbconvert_exporter": "python",
   "pygments_lexer": "ipython3",
   "version": "3.6.8"
  }
 },
 "nbformat": 4,
 "nbformat_minor": 1
}
