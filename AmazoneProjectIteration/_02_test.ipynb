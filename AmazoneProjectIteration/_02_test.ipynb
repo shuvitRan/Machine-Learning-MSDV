{
 "cells": [
  {
   "cell_type": "markdown",
   "metadata": {},
   "source": [
    "# Test Set"
   ]
  },
  {
   "cell_type": "code",
   "execution_count": 1,
   "metadata": {},
   "outputs": [],
   "source": [
    "import numpy as np\n",
    "import pandas as pd\n",
    "import matplotlib.pyplot as plt\n",
    "from sklearn.externals import joblib\n",
    "from my_measures import BinaryClassificationPerformance\n",
    "%matplotlib inline\n",
    "from tqdm import tqdm"
   ]
  },
  {
   "cell_type": "markdown",
   "metadata": {},
   "source": [
    "### Read raw test data"
   ]
  },
  {
   "cell_type": "code",
   "execution_count": 2,
   "metadata": {},
   "outputs": [
    {
     "name": "stdout",
     "output_type": "stream",
     "text": [
      "(91000, 14)\n"
     ]
    }
   ],
   "source": [
    "amazon = pd.read_csv('/Users/working/Documents/ParsonsSchool/Sp19/MachineLearning/DATASET/amazon_data/raw_data_test.csv')\n",
    "\n",
    "print(amazon.shape)"
   ]
  },
  {
   "cell_type": "code",
   "execution_count": 3,
   "metadata": {},
   "outputs": [
    {
     "name": "stdout",
     "output_type": "stream",
     "text": [
      "strong taste but good! In my opinion it's not exactly a substitute for coffee but tastes really good mixed together.\n"
     ]
    }
   ],
   "source": [
    "print(amazon.loc[0, \"Text\"])"
   ]
  },
  {
   "cell_type": "code",
   "execution_count": 4,
   "metadata": {},
   "outputs": [
    {
     "name": "stdout",
     "output_type": "stream",
     "text": [
      "   Unnamed: 0  Unnamed: 0.1      Id   ProductId          UserId  \\\n",
      "0      207103        112082  112083  B002Y2QT2K  A22Y5TJPN98DWB   \n",
      "1      139933        224640  224641  B009D53XKC  A3MDY6Y3Z6D649   \n",
      "2       76100        399707  399708  B005GIF5WY  A3LCQXQ4SFYBAU   \n",
      "3      114178        567900  567901  B005K4Q68Q  A2E65ZXD654761   \n",
      "4      285272        263134  263135  B002WW3BW8  A1XAZ0MR4TRY16   \n",
      "\n",
      "                  ProfileName  HelpfulnessNumerator  HelpfulnessDenominator  \\\n",
      "0                Eva Juergens                     1                       1   \n",
      "1  The Man Behind the Curtain                     1                       1   \n",
      "2                  Johna Jane                     0                       0   \n",
      "3                   Barbara L                     0                       0   \n",
      "4                        bfn1                     0                       0   \n",
      "\n",
      "   Score        Time                          Summary  \\\n",
      "0      3  1339286400                 chicory \"coffee\"   \n",
      "1      5  1326844800  This salt will change your life   \n",
      "2      5  1345420800                   Cat's favorite   \n",
      "3      5  1351036800                    Great tasting   \n",
      "4      3  1311552000                               OK   \n",
      "\n",
      "                                                Text  helpScore  helpful  \n",
      "0  strong taste but good! In my opinion it's not ...        1.0    False  \n",
      "1  Those searching high and low for salt that wil...        1.0    False  \n",
      "2  These treats are my picky cat's favorite.  I'v...        NaN    False  \n",
      "3  The price was as fantastic as the taste. So co...        NaN    False  \n",
      "4  Alot of chocolate; not so much coffee bean.  N...        NaN    False  \n",
      "0.0726043956043956\n"
     ]
    }
   ],
   "source": [
    "print(amazon.head())\n",
    "print(amazon['helpful'].mean())"
   ]
  },
  {
   "cell_type": "code",
   "execution_count": 5,
   "metadata": {},
   "outputs": [
    {
     "name": "stdout",
     "output_type": "stream",
     "text": [
      "       Unnamed: 0  Unnamed: 0.1      Id   ProductId          UserId  \\\n",
      "7           74160        306680  306681  B000KNB0OW  A1UQBFCERIP7VJ   \n",
      "14         235629        224160  224161  B0002ARQYQ  A2T90OFSZ5QVE8   \n",
      "19         261341        100841  100842  B000O3EDA6  A1VPUK22B4MTDE   \n",
      "20         218022        107544  107545  B007TJGY4Q  A153ZN281OATI6   \n",
      "28         348320        246292  246293  B0009F3SB4  A23C3X5UGN7KMN   \n",
      "43         398064        506166  506167  B001CWVZUY  A1UKN7G4AM275R   \n",
      "57         268338        352657  352658  B000U3H4PQ   AYB4ELCS5AM8P   \n",
      "64          14378        464995  464996  B002EDIJCM  A191T1D7JURDMI   \n",
      "83         306766        551822  551823  B003RDFJ6C  A3NID9D9WMIV01   \n",
      "148        159725         45277   45278  B000OV5NBG  A3OQGS2G48ZURR   \n",
      "175         34171        417148  417149  B00112ILZM  A3FNMPXHHIVEYT   \n",
      "181         24886        447330  447331  B000GZU900  A1WXJ1I42UOQ2V   \n",
      "191        183906        394423  394424  B00269VK20  A154PTQXC5FFKH   \n",
      "202        369154        219877  219878  B0038B39E2  A1P46ZUN8P8T7H   \n",
      "231        155405        371920  371921  B0009YYKQM   AXTLJ5K0TTM0A   \n",
      "237        283468        546226  546227  B0009JEAP8  A3QFX2DMBWLM66   \n",
      "254         77941        104091  104092  B001E50THY  A3VS7WNFAWMOHL   \n",
      "256        184733        293764  293765  B001DR0LU8  A204QN2VRUQA9B   \n",
      "259        442286        319502  319503  B0007LXU9A  A2TO2BN3P4C00L   \n",
      "330        339410        376798  376799  B002O10K6C  A3L41148A5QJAX   \n",
      "336        184263        166502  166503  B003AYGMNC   A2LGV83LSQ4XI   \n",
      "349        170725         87991   87992  B0008JGW96  A2D7F2AGDX53XD   \n",
      "371        223550        113928  113929  B000KOWCMU  A2RVP684HZ7XMF   \n",
      "400        285305        550804  550805  B008LWVTA4   ASP7FI5BO281G   \n",
      "416        434089        194326  194327  B002HFLHEE  A2MOJANFPX353G   \n",
      "437        139944        540419  540420  B0000DG4NJ  A1VY03OJLTZBMJ   \n",
      "452        162694        283588  283589  B008MNDQPI  A2F0PCVFFG3PQZ   \n",
      "490         94487        397536  397537  B001L04BDA  A3SQZCA0JFB5CV   \n",
      "493        121194        198570  198571  B0017SPYN2   A7OLST5USCDGU   \n",
      "517        128303        379482  379483  B007RLRCLK  A38P3P5IV8T7AF   \n",
      "...           ...           ...     ...         ...             ...   \n",
      "90443      260957        203207  203208  B0042YATCY   AA0Q5NGVBBKR9   \n",
      "90453      125181         11271   11272  B000E21Z7Q   AEJATDURRZS5V   \n",
      "90454      313928        391239  391240  B00066ZXA0   AYZVIY5THIPK0   \n",
      "90490       60545        174469  174470  B004E484CO  A19Y15KDFXV244   \n",
      "90537       61857        394324  394325  B001E5E1LE  A3PI8JJ2E4VT5E   \n",
      "90551       91427        195634  195635  B000BC0ZIY  A1D72SGUQHI4V6   \n",
      "90555      102725        416004  416005  B0029NM5YA   A9101KNY0S3H2   \n",
      "90570      330434        305430  305431  B0010UOGWM  A3OXHLG6DIBRW8   \n",
      "90584      302269        546163  546164  B0000DGG8B  A1A8R9V546FNG4   \n",
      "90595      127634        278846  278847  B004XXXOQW  A1UYDUU2SSK0GU   \n",
      "90614      139685         42132   42133  B001ELL364  A14OZUBJGG209V   \n",
      "90617      301966        369759  369760  B001EQ522A  A1NYUEVWDD2ELY   \n",
      "90661       60563         85962   85963  B000CMKPDI   A3GRH6NEB9VLL   \n",
      "90671      316115        226455  226456  B00016LA7K  A10TAB23T7TBYB   \n",
      "90678      359042        511855  511856  B0016NRLHU   AEELWX3V2ZFAI   \n",
      "90685      104581        169211  169212  B0001ES9FI  A31P43H3DJQX9X   \n",
      "90686      208879        512183  512184  B000MAK3UA  A3HFU732R34KNA   \n",
      "90755      291168        365477  365478  B000CQG89Y  A1YUL9PCJR3JTY   \n",
      "90772       15843        522395  522396  B001KUWFPC  A3OVHYGLO988DI   \n",
      "90795      403831        261517  261518  B000MGWEZQ  A3KQ9HS0D646J2   \n",
      "90827      343807         75420   75421  B001E5E0Y2   AVBYIVT620ZL5   \n",
      "90853       16015        125804  125805  B005MGDP90  A2RIX3T3I9AGC3   \n",
      "90861      446736        430659  430660  B000EDG3UE  A3MPYXPDMN55ZV   \n",
      "90864      308210        163965  163966  B00497LNRY   AKCXD2PRGIK2S   \n",
      "90871      349046        375741  375742  B006VRQLWM  A2V3FTILDQEOX6   \n",
      "90917      289241        276344  276345  B0018Q2N3C  A3DAEVMDSPGKWB   \n",
      "90939      358972        157438  157439  B0019QT66I  A22TQGZAOF0LTK   \n",
      "90977      322224        327788  327789  B001KEF8PM  A28RSMADFCBJDT   \n",
      "90989       43870         31985   31986  B0062A87HA  A2PDX41RH1NKO6   \n",
      "90991      125260         18799   18800  B001PO7FIU  A1UQBFCERIP7VJ   \n",
      "\n",
      "                                  ProfileName  HelpfulnessNumerator  \\\n",
      "7                              Margaret Picky                     9   \n",
      "14                              Doxie Mom X 4                    39   \n",
      "19                          Thomas J. Stanley                    11   \n",
      "20                                       Lisa                     6   \n",
      "28                                 S. Hawkins                    20   \n",
      "43                  Bill Hamilton \"DaBaldGuy\"                    12   \n",
      "57                        John B. Goode \"JBG\"                     5   \n",
      "64                                      Kelli                    15   \n",
      "83                 Louie Arrighi \"Lou da Joo\"                     7   \n",
      "148                           Barbara J. Rice                     5   \n",
      "175                                 N. Barnes                     8   \n",
      "181                                AuburnTygr                     6   \n",
      "191                                    Lauren                    10   \n",
      "202                           A. Lamb \"Ava K\"                     5   \n",
      "231                                    J. Won                     8   \n",
      "237                             Melody Singer                    74   \n",
      "254                    Valerie Atkinson Brown                    19   \n",
      "256                       Fred T. Belcher Jr.                     6   \n",
      "259                            Music Fan Jeff                    29   \n",
      "330      Sandra M. Greenberg \"Sandy 2 Wheels\"                    14   \n",
      "336                             Alexi Darling                     8   \n",
      "349               Christine \"Christine Cooks\"                     9   \n",
      "371                                       GJV                     5   \n",
      "400                                     Steph                    12   \n",
      "416                                     Ken M                     8   \n",
      "437                                   Midiman                     6   \n",
      "452                                   merstar                    13   \n",
      "490                          Stephanie Martin                     6   \n",
      "493                                 Kahanalei                     5   \n",
      "517                                 yooluvtin                     6   \n",
      "...                                       ...                   ...   \n",
      "90443                                    Will                     5   \n",
      "90453                 L. O'Leary \"farklegirl\"                     7   \n",
      "90454                              Cruise Boy                     6   \n",
      "90490                     Gift Card Recipient                     6   \n",
      "90537                                Tiberius                    27   \n",
      "90551                   Ronnie S. \"Ronnie S.\"                    19   \n",
      "90555  My 2 Cents \"A penny for your thoughts\"                     5   \n",
      "90570                        C. F. Hill \"CFH\"                    42   \n",
      "90584                        Valerie J. Foyle                    30   \n",
      "90595                               C. Bishop                     9   \n",
      "90614                          GlutenFreeCook                    10   \n",
      "90617                       Photoshop Wannabe                     6   \n",
      "90661                       Elizabeth Spencer                    31   \n",
      "90671                             D. D. Falvo                    14   \n",
      "90678                            Mike Vaughan                     6   \n",
      "90685         Christine M. Brennan \"royalnag\"                    10   \n",
      "90686                       Shirley A. Hylton                     7   \n",
      "90755         O. Brown \"Ms. O. Khannah-Brown\"                     6   \n",
      "90772                          honestreviewer                    11   \n",
      "90795                         Marta Bachynsky                     9   \n",
      "90827                                 A. Hard                     5   \n",
      "90853                                  Blazer                    16   \n",
      "90861                                  Barb F                     5   \n",
      "90864                                     Amy                     9   \n",
      "90871                         Ronald J. Spoto                     5   \n",
      "90917                               BellaJack                    19   \n",
      "90939                  B. Breslin \"bpbreslin\"                     5   \n",
      "90977                               Pete Chen                     6   \n",
      "90989                               Terps fan                     7   \n",
      "90991                          Margaret Picky                     5   \n",
      "\n",
      "       HelpfulnessDenominator  Score        Time  \\\n",
      "7                           9      5  1265414400   \n",
      "14                         39      5  1117411200   \n",
      "19                         11      5  1170028800   \n",
      "20                          6      5  1225756800   \n",
      "28                         20      5  1190505600   \n",
      "43                         12      5  1248998400   \n",
      "57                          5      5  1261785600   \n",
      "64                         15      5  1258329600   \n",
      "83                          7      5  1279152000   \n",
      "148                         5      5  1219017600   \n",
      "175                         8      5  1236729600   \n",
      "181                         6      5  1168128000   \n",
      "191                        11      5  1315267200   \n",
      "202                         5      4  1322697600   \n",
      "231                         8      1  1275523200   \n",
      "237                        74      1  1139356800   \n",
      "254                        21      5  1201651200   \n",
      "256                         6      5  1291248000   \n",
      "259                        30      5  1130284800   \n",
      "330                        14      5  1264809600   \n",
      "336                         8      5  1304640000   \n",
      "349                        10      5  1168300800   \n",
      "371                         5      5  1273881600   \n",
      "400                        13      5  1326585600   \n",
      "416                         8      5  1214870400   \n",
      "437                         6      5  1322006400   \n",
      "452                        13      5  1186012800   \n",
      "490                         6      5  1295568000   \n",
      "493                         5      5  1256256000   \n",
      "517                         6      5  1311811200   \n",
      "...                       ...    ...         ...   \n",
      "90443                       5      5  1302480000   \n",
      "90453                       7      5  1156896000   \n",
      "90454                       6      4  1269216000   \n",
      "90490                       6      2  1302480000   \n",
      "90537                      28      5  1181174400   \n",
      "90551                      19      5  1167868800   \n",
      "90555                       5      5  1268006400   \n",
      "90570                      42      4  1324857600   \n",
      "90584                      32      3  1138492800   \n",
      "90595                       9      4  1315699200   \n",
      "90614                      10      4  1258761600   \n",
      "90617                       6      5  1276300800   \n",
      "90661                      31      1  1193184000   \n",
      "90671                      14      5  1295222400   \n",
      "90678                       6      5  1239840000   \n",
      "90685                      11      5  1081036800   \n",
      "90686                       7      5  1187222400   \n",
      "90755                       6      3  1192406400   \n",
      "90772                      11      5  1236556800   \n",
      "90795                       9      3  1256688000   \n",
      "90827                       5      5  1328140800   \n",
      "90853                      17      5  1310774400   \n",
      "90861                       5      5  1270944000   \n",
      "90864                      10      3  1340755200   \n",
      "90871                       5      5  1204329600   \n",
      "90917                      19      5  1219363200   \n",
      "90939                       5      5  1300406400   \n",
      "90977                       6      5  1278028800   \n",
      "90989                       7      1  1276473600   \n",
      "90991                       5      5  1328400000   \n",
      "\n",
      "                                                 Summary  \\\n",
      "7                        Very good quality organic oats.   \n",
      "14                       Don't Be Without a Buster Cube!   \n",
      "19                                       Excellent Value   \n",
      "20                     My husband's new favorite coffee.   \n",
      "28              Great tea! Good value too for six boxes.   \n",
      "43                               This is great dog food!   \n",
      "57                                            Fantastic!   \n",
      "64                                SO happy they are back   \n",
      "83                                  great foo foo coffee   \n",
      "148                                  AWESOME product!!!!   \n",
      "175                                           Best ever!   \n",
      "181            Correct amount to top cheesecakes........   \n",
      "191                                            Great Buy   \n",
      "202    Pleasantly Surprised (original flavor amazing ...   \n",
      "231                 Yup, not the pictured Biscuit Buddy.   \n",
      "237    Don't  Get Too Excited About Ice Cream of the ...   \n",
      "254                   Eight O'Clock Coffee is wonderful!   \n",
      "256                                          Great taste   \n",
      "259        a great tasting snack (small meal) substitute   \n",
      "330              A fave breakfast spread for my husband!   \n",
      "336                                    LOVE these chews!   \n",
      "349                             Top Flower, Fleur De Sel   \n",
      "371                                           Great Buy!   \n",
      "400              Great for hair! Does not smell horrible   \n",
      "416                            Excellent Tea, Good Price   \n",
      "437                  Great for Arthritis relief! Try it.   \n",
      "452                                         Top quality.   \n",
      "490                                  Beautiful and tasty   \n",
      "493    Can't go back to those other lollipops after o...   \n",
      "517                    Helps slow breast milk production   \n",
      "...                                                  ...   \n",
      "90443                                      Good product!   \n",
      "90453  Protein in a snack means Gastric Bypass patien...   \n",
      "90454                                 very good sweetner   \n",
      "90490                                   Look around more   \n",
      "90537             great product and keeps the body happy   \n",
      "90551                                       nice flowers   \n",
      "90555  Perfect for adding flavor to dry food. Our lit...   \n",
      "90570                   Tried Many, Some Great, Some Not   \n",
      "90584                Brussel's Fringe Flower Bonsai Tree   \n",
      "90595  These are a relatively good substition for Sun...   \n",
      "90614                                        Fine Flour!   \n",
      "90617                   are you kidding with that price?   \n",
      "90661                            no help on loose stools   \n",
      "90671                                  Terrible pricing!   \n",
      "90678                                         Caution...   \n",
      "90685  Best coffee I have ever had from Douwe Egberts...   \n",
      "90686                                        WW Friendly   \n",
      "90755                      Basic Lemon Ginger Herbal Tea   \n",
      "90772                          Love the Root Beer flavor   \n",
      "90795                                Bad batch of Stevia   \n",
      "90827                      Wow, This Stuff Gets Me High!   \n",
      "90853   Best Tasting Salt AND So Incredibly Good For You   \n",
      "90861      Great cereal choice for the gluten intolerant   \n",
      "90864                                   Highway Robbery.   \n",
      "90871                                 we love these bars   \n",
      "90917                       Great Tasting Low Carb Pasta   \n",
      "90939              A True Miracle for my 3 year old son!   \n",
      "90977                Excellent product, best deal around   \n",
      "90989                               every can was dented   \n",
      "90991  Excellent quality oil with a delicate color, f...   \n",
      "\n",
      "                                                    Text  helpScore  helpful  \n",
      "7      The Country Choice brand is domestically produ...   1.000000     True  \n",
      "14     I bought a mini buster cube for my miniature d...   1.000000     True  \n",
      "19     I make my own coffee flavoring syrup to save m...   1.000000     True  \n",
      "20     We ordered jet fuel and amazon sent us Black T...   1.000000     True  \n",
      "28     I felt the effects from this tea the first day...   1.000000     True  \n",
      "43     A few years back, prompted by the death of one...   1.000000     True  \n",
      "57     In the great British trifecta of British powde...   1.000000     True  \n",
      "64     I found these at our local base commissary and...   1.000000     True  \n",
      "83     <span class=\"tiny\"> Length:: 1:54 Mins<br /><b...   1.000000     True  \n",
      "148    Thank you so much for making this available. I...   1.000000     True  \n",
      "175    This tastes so good and is so healthy for you....   1.000000     True  \n",
      "181    My family loves cheesecakes, blueberry being t...   1.000000     True  \n",
      "191    I needed to buy organic ceylon cinnamon, becau...   0.909091     True  \n",
      "202    I ordered this after comparing other natural b...   1.000000     True  \n",
      "231    Yup, this is not the pictured bag. It is infer...   1.000000     True  \n",
      "237    I received 3 months of Ice Cream from this Clu...   1.000000     True  \n",
      "254    When I switched coffee brands and made Eight O...   0.904762     True  \n",
      "256    Whoa.....a really nice sweetness!  It is softe...   1.000000     True  \n",
      "259    If you're a former junk food junkie like me, t...   0.966667     True  \n",
      "330    After looking around at specialty stores in my...   1.000000     True  \n",
      "336    It is awesome to find a dental chew that is sa...   1.000000     True  \n",
      "349    I use many types of salt in my cooking but it ...   0.900000     True  \n",
      "371    I buy this product for my husband.  It's the o...   1.000000     True  \n",
      "400    First I want to start by saying this oil does ...   0.923077     True  \n",
      "416    I started loving Oolong tea after I discovered...   1.000000     True  \n",
      "437    I bought this to make my own pepper cream for ...   1.000000     True  \n",
      "452    Kadoya Sesame Oil is delicious, with a deep, d...   1.000000     True  \n",
      "490    I originally tried this tea in the Teavana sto...   1.000000     True  \n",
      "493    Best lollipops I've ever tasted, you can tell ...   1.000000     True  \n",
      "517    Used this to help slow breast milk production ...   1.000000     True  \n",
      "...                                                  ...        ...      ...  \n",
      "90443  I have found that some products used to decora...   1.000000     True  \n",
      "90453  After gastric bypass surgery, you have to eat ...   1.000000     True  \n",
      "90454  This sweetner is courser than the  xylitol I b...   1.000000     True  \n",
      "90490  I guess I should have looked around more, I wa...   1.000000     True  \n",
      "90537  I use this product everyday and I have continu...   0.964286     True  \n",
      "90551  I sent these to a friend who ran in the NYC Ma...   1.000000     True  \n",
      "90555  I don't know a lot about dogs but I thought th...   1.000000     True  \n",
      "90570  We have a <a href=\"http://www.amazon.com/gp/pr...   1.000000     True  \n",
      "90584  The tree is lovely and has many branches to tr...   0.937500     True  \n",
      "90595  I have been longing for Sunshine biscuits fore...   1.000000     True  \n",
      "90614  I've ordered this millet flour in bulk twice, ...   1.000000     True  \n",
      "90617  I can buy this at Walmart and many other groce...   1.000000     True  \n",
      "90661  <a href=\"http://www.amazon.com/gp/product/B000...   1.000000     True  \n",
      "90671  This is an awesome product. I've used it for y...   1.000000     True  \n",
      "90678  These can be very addictive.<br /><br />By far...   1.000000     True  \n",
      "90685  I have been drinking Douwe Egberts red label c...   0.909091     True  \n",
      "90686  This popcorn is only 1 Weight Watcher point pe...   1.000000     True  \n",
      "90755  ***<br />Stash's Lemon Ginger Caffeine Free He...   1.000000     True  \n",
      "90772  I finally found this soda at a local store. No...   1.000000     True  \n",
      "90795  Stevia is kind of funny. Brands and batches va...   1.000000     True  \n",
      "90827  The first time I used this brand of raw cacao ...   1.000000     True  \n",
      "90853  This is the best tasting salt I've ever had.  ...   0.941176     True  \n",
      "90861  Quinoa is not only a fantastic whole grain and...   1.000000     True  \n",
      "90864  Great oatmeal, but BUYER BEWARE! Wal-Mart sell...   0.900000     True  \n",
      "90871  These bars in the peanut/chocolate or the choc...   1.000000     True  \n",
      "90917  I have used Dreamfields Healthy Carb Living pa...   1.000000     True  \n",
      "90939  I have struggled for the last year with my 3 y...   1.000000     True  \n",
      "90977  This product is from Nutiva. Like other produc...   1.000000     True  \n",
      "90989  I am SO disappointed.  Even though I read many...   1.000000     True  \n",
      "90991  La Tourangelle Avocado Oil has a beautiful pal...   1.000000     True  \n",
      "\n",
      "[4825 rows x 14 columns]\n"
     ]
    }
   ],
   "source": [
    "##study chat\n",
    "\n",
    "print(amazon[(amazon.helpful == True) &  (amazon.HelpfulnessNumerator>=5)] )"
   ]
  },
  {
   "cell_type": "code",
   "execution_count": 6,
   "metadata": {},
   "outputs": [],
   "source": [
    "# from gensim.parsing.preprocessing import remove_stopwords\n",
    "# # remove stop words in amazon.Text\n",
    "# amazon['Text'] = amazon['Text'].apply(remove_stopwords)\n",
    "# #newText = amazon['Text'].apply(remove_stopwords)\n",
    "# print(amazon.Text)"
   ]
  },
  {
   "cell_type": "code",
   "execution_count": 7,
   "metadata": {},
   "outputs": [
    {
     "name": "stderr",
     "output_type": "stream",
     "text": [
      "\r",
      "  0%|          | 0/91000 [00:00<?, ?it/s]"
     ]
    },
    {
     "name": "stdout",
     "output_type": "stream",
     "text": [
      "**************************************************\n"
     ]
    },
    {
     "name": "stderr",
     "output_type": "stream",
     "text": [
      "100%|██████████| 91000/91000 [11:09<00:00, 136.01it/s]\n"
     ]
    }
   ],
   "source": [
    "#Lemmatization \n",
    "from gensim.utils import lemmatize\n",
    "print('**************************************************')\n",
    "amaLemma=[]\n",
    "for w in tqdm(amazon['Text']):\n",
    "    amaLemma.append([wd.decode('utf-8').split('/')[0] for wd in lemmatize(w)])"
   ]
  },
  {
   "cell_type": "code",
   "execution_count": 373,
   "metadata": {},
   "outputs": [
    {
     "name": "stdout",
     "output_type": "stream",
     "text": [
      "                                                       0\n",
      "0      [strong, taste, good, opinion, not, exactly, s...\n",
      "1      [search, high, low, salt, change, life, end, j...\n",
      "2      [treat, be, picky, cat, favorite, ve, try, dif...\n",
      "3      [price, be, fantastic, taste, so, convenient, ...\n",
      "4      [alot, chocolate, not, so, much, coffee, bean,...\n",
      "5      [look, ingredient, water, wheat, salt, sugar, ...\n",
      "6      [love, love, bread, mix, person, be, raise, ea...\n",
      "7      [country, choice, brand, be, domestically, pro...\n",
      "8      [taste, good, easy, prepare, separate, pouch, ...\n",
      "9      [only, recently, have, discover, satisy, inter...\n",
      "10     [always, enjoy, tazo, tea, earl, grey, be, fav...\n",
      "11     [be, skeptical, sister, tell, drug, rep, have,...\n",
      "12     [have, grand, kid, fall, play, ground, equipme...\n",
      "13     [guess, get, title, wrong, be, food, left, be,...\n",
      "14     [buy, mini, buster, cube, miniature, dachshund...\n",
      "15     [ll, confess, know, little, different, coffee,...\n",
      "16     [be, thrill, find, flavor, available, amazon, ...\n",
      "17     [best, lemonade, market, not, too, sweet, sple...\n",
      "18     [little, baby, have, save, finger, many, punct...\n",
      "19     [make, own, coffee, flavoring, syrup, save, mo...\n",
      "20     [order, jet, fuel, amazon, send, black, tiger,...\n",
      "21     [sorry, opt, item, get, only, apparently, coun...\n",
      "22     [very, tasty, fresh, only, complaint, be, expi...\n",
      "23     [excellent, taste, low, calorie, snack, size, ...\n",
      "24     [be, best, alternative, soda, ever, be, light,...\n",
      "25     [few, year, work, bed, breakfast, favorite, pa...\n",
      "26     [used, eat, marshmallow, cone, time, be, kid, ...\n",
      "27     [understood, bone, be, inch, long, be, thin, v...\n",
      "28     [feel, effect, tea, first, day, start, notice,...\n",
      "29     [handy, little, drawer, fit, perfectly, keurig...\n",
      "...                                                  ...\n",
      "90970  [be, so, many, way, use, product, be, so, good...\n",
      "90971  [kind, healthy, grain, never, call, cereal, be...\n",
      "90972  [big, fan, kettle, cook, chip, be, kid, tend, ...\n",
      "90973  [bay, leaf, be, list, oz, receive, oz, br, hav...\n",
      "90974  [wonderful, way, gently, feel, relaxed, sleepy...\n",
      "90975  [love, taste, wonderful, have, protein, calory...\n",
      "90976     [say, be, delicious, day, sip, heart, content]\n",
      "90977  [product, be, nutiva, other, product, company,...\n",
      "90978  [be, very, hard, purchase, other, brand, split...\n",
      "90979  [give, month, old, son, yesterday, then, find,...\n",
      "90980  [get, make, vietnamese, soup, pho, br, br, pro...\n",
      "90981  [think, be, nice, compromise, dinner, good, ch...\n",
      "90982  [totally, love, bar, re, look, protein, bar, b...\n",
      "90983  [right, consistency, excelent, product, overal...\n",
      "90984  [retriever, gotta, chew, do, bowser, tend, ign...\n",
      "90985  [flavor, tea, be, unmatchable, be, not, carry,...\n",
      "90986  [vegan, natural, kosher, have, certify, gluten...\n",
      "90987  [be, tasty, however, nutrition, info, package,...\n",
      "90988  [ve, try, rise, flavor, hazer, baba, haci, bek...\n",
      "90989  [be, so, disappointed, even, read, many, revie...\n",
      "90990  [terrible, not, only, do, cause, have, jam, le...\n",
      "90991  [la, tourangelle, avocado, oil, have, beautifu...\n",
      "90992  [be, least, favorite, desert, line, first, bit...\n",
      "90993  [stuff, be, just, awful, doesn, taste, chocola...\n",
      "90994  [really, enjoy, shampoo, only, small, amount, ...\n",
      "90995  [trident, minty, sweet, twist, be, best, gum, ...\n",
      "90996  [love, beef, jerky, be, not, good, way, very, ...\n",
      "90997  [be, great, dog, love, be, picky, be, healthy,...\n",
      "90998  [kettle, be, best, taste, healthiest, chip, ha...\n",
      "90999  [great, price, really, good, gum, def, be, bac...\n",
      "\n",
      "[91000 rows x 1 columns]\n"
     ]
    }
   ],
   "source": [
    "amaNp=np.array(amaLemma)\n",
    "amaDF=pd.DataFrame(amaNp)\n",
    "\n",
    "amaDF.to_csv('/Users/working/Documents/ParsonsSchool/Sp19/MachineLearning/DATASET/amazon_data/AmazonLemmatizedTestingwithStopWords.csv')\n",
    "print(amaDF)"
   ]
  },
  {
   "cell_type": "code",
   "execution_count": 374,
   "metadata": {},
   "outputs": [
    {
     "name": "stdout",
     "output_type": "stream",
     "text": [
      "0    strong taste good opinion not exactly substitu...\n",
      "1    search high low salt change life end journey m...\n",
      "2    treat be picky cat favorite ve try different b...\n",
      "3    price be fantastic taste so convenient make me...\n",
      "4    alot chocolate not so much coffee bean not big...\n",
      "Name: 0, dtype: object\n"
     ]
    }
   ],
   "source": [
    "#JOIN LIST TO STR\n",
    "\n",
    "\n",
    "amaDFOut = amaDF[0].apply(' '.join)\n",
    "print(amaDFOut.head())\n"
   ]
  },
  {
   "cell_type": "markdown",
   "metadata": {},
   "source": [
    "### Feature extraction on natural language data"
   ]
  },
  {
   "cell_type": "code",
   "execution_count": 375,
   "metadata": {},
   "outputs": [
    {
     "name": "stdout",
     "output_type": "stream",
     "text": [
      "(91000, 76362)\n"
     ]
    }
   ],
   "source": [
    "# # http://scikit-learn.org/stable/modules/generated/sklearn.feature_extraction.text.CountVectorizer.html\n",
    "# from sklearn.feature_extraction.text import CountVectorizer\n",
    "# vectorizer = CountVectorizer()\n",
    "# corpus = amazon.Text.as_matrix()\n",
    "# X_bag_of_words = vectorizer.fit_transform(corpus)\n",
    "# print(X_bag_of_words.toarray())\n",
    "hv = joblib.load('vectorizer.pkl')\n",
    "X_hv = hv.transform(amaDFOut)\n",
    "print(X_hv.shape)"
   ]
  },
  {
   "cell_type": "code",
   "execution_count": 376,
   "metadata": {},
   "outputs": [],
   "source": [
    "# # vectorize Bag of Words from review text; as sparse matrix\n",
    "# # from sklearn.feature_extraction.text import HashingVectorizer\n",
    "# # hv = HashingVectorizer(n_features=2 ** 17, non_negative=True)\n",
    "# hv = joblib.load('hv.pkl')\n",
    "# #X_hv = hv.transform(amazon.Text)\n",
    "# X_hv = hv.transform(amaDFOut)\n",
    "# print(X_hv.shape)\n",
    "# # print(hv.shape)"
   ]
  },
  {
   "cell_type": "code",
   "execution_count": 377,
   "metadata": {},
   "outputs": [],
   "source": [
    "# http://scikit-learn.org/stable/modules/generated/sklearn.feature_extraction.text.TfidfTransformer.html\n",
    "# from sklearn.feature_extraction.text import TfidfTransformer\n",
    "# transformer = TfidfTransformer()\n",
    "transformer = joblib.load('transformer.pkl')\n",
    "X_tfidf = transformer.transform(X_hv)"
   ]
  },
  {
   "cell_type": "code",
   "execution_count": 378,
   "metadata": {},
   "outputs": [
    {
     "name": "stdout",
     "output_type": "stream",
     "text": [
      "<class 'scipy.sparse.csr.csr_matrix'>\n"
     ]
    }
   ],
   "source": [
    "print(type(X_tfidf))"
   ]
  },
  {
   "cell_type": "markdown",
   "metadata": {},
   "source": [
    "### Time Converting "
   ]
  },
  {
   "cell_type": "code",
   "execution_count": 379,
   "metadata": {},
   "outputs": [
    {
     "name": "stdout",
     "output_type": "stream",
     "text": [
      "0    2012\n",
      "1    2012\n",
      "2    2012\n",
      "3    2012\n",
      "4    2011\n",
      "5    2012\n",
      "6    2011\n",
      "7    2010\n",
      "8    2010\n",
      "9    2008\n",
      "Name: amaYear, dtype: int64\n",
      "0     6\n",
      "1     1\n",
      "2     8\n",
      "3    10\n",
      "4     7\n",
      "5    10\n",
      "6     3\n",
      "7     2\n",
      "8    10\n",
      "9     2\n",
      "Name: amaMonth, dtype: int64\n",
      "0    5\n",
      "1    1\n",
      "2    6\n",
      "3    1\n",
      "4    6\n",
      "5    2\n",
      "6    0\n",
      "7    4\n",
      "8    0\n",
      "9    6\n",
      "Name: amaDay, dtype: int64\n"
     ]
    }
   ],
   "source": [
    "import datetime\n",
    "\n",
    "amazon['amaRead'] = amazon['Time'].apply(datetime.datetime.fromtimestamp)\n",
    "amazon['amaMonth'] = amazon['amaRead'].apply(datetime.datetime.strftime, format=(\"%m\"))\n",
    "amazon['amaMonth'] = amazon['amaMonth'].apply(int)\n",
    "amazon['amaDay'] =amazon['amaRead'].apply(datetime.datetime.weekday)\n",
    "\n",
    "amazon['amaYear']=amazon['amaRead'].apply(datetime.datetime.strftime, format=(\"%Y\"))\n",
    "amazon['amaYear']= amazon['amaYear'].apply(int)\n",
    "\n",
    "\n",
    "print(amazon['amaYear'].head(10))\n",
    "print(amazon['amaMonth'].head(10))\n",
    "print(amazon['amaDay'].head(10))"
   ]
  },
  {
   "cell_type": "markdown",
   "metadata": {
    "collapsed": true
   },
   "source": [
    "### Create additional quantitative features"
   ]
  },
  {
   "cell_type": "code",
   "execution_count": 380,
   "metadata": {},
   "outputs": [
    {
     "name": "stdout",
     "output_type": "stream",
     "text": [
      "   reviewLen  Score  reviewLenAfterLe  amaDay  amaMonth  revPlusScore  \\\n",
      "0        116      3                88       5         6           348   \n",
      "1       2915      5              1911       1         1         14575   \n",
      "2        152      5                97       6         8           760   \n",
      "3        167      5               109       1        10           835   \n",
      "4        120      3                90       6         7           360   \n",
      "5        193      1               133       2        10           193   \n",
      "6        732      5               428       0         3          3660   \n",
      "7       1122      5               792       4         2          5610   \n",
      "8         88      5                59       0        10           440   \n",
      "9        549      5               390       6         2          2745   \n",
      "\n",
      "   amaYear  revLenMinLe  \n",
      "0     2012           28  \n",
      "1     2012         1004  \n",
      "2     2012           55  \n",
      "3     2012           58  \n",
      "4     2011           30  \n",
      "5     2012           60  \n",
      "6     2011          304  \n",
      "7     2010          330  \n",
      "8     2010           29  \n",
      "9     2008          159  \n",
      "<class 'pandas.core.frame.DataFrame'>\n"
     ]
    }
   ],
   "source": [
    "# features from Amazon.csv to add to feature set\n",
    "amazon['reviewLen'] = amazon['Text'].str.len()\n",
    "amazon['reviewLenAfterLe'] = amaDFOut.str.len()\n",
    "# X_quant_features = amazon[[\"Score\", \"reviewLen\"]]\n",
    "# X_quant_features = amazon[[\"Score\", \"reviewLen\",\"amaDay\",\"amaHour\"]]\n",
    "amazon['revPlusScore']=  amazon['reviewLen']*amazon['Score']\n",
    "amazon['revLenMinLe']=amazon['reviewLen']-amazon['reviewLenAfterLe']\n",
    "\n",
    "X_quant_features = amazon[[\"reviewLen\",\"Score\",\"reviewLenAfterLe\",\"amaDay\", \"amaMonth\", \"revPlusScore\", \"amaYear\",\"revLenMinLe\"]]\n",
    "\n",
    "print(X_quant_features.head(10))\n",
    "print(type(X_quant_features))"
   ]
  },
  {
   "cell_type": "markdown",
   "metadata": {},
   "source": [
    "### Combine all quantitative features into a single sparse matrix"
   ]
  },
  {
   "cell_type": "code",
   "execution_count": 381,
   "metadata": {},
   "outputs": [
    {
     "name": "stdout",
     "output_type": "stream",
     "text": [
      "(91000, 76370)\n"
     ]
    }
   ],
   "source": [
    "from scipy.sparse import csr_matrix, hstack\n",
    "X_quant_features_csr = csr_matrix(X_quant_features)\n",
    "X_combined = hstack([X_tfidf, X_quant_features_csr])\n",
    "X_matrix = csr_matrix(X_combined) # convert to sparse matrix\n",
    "print(X_matrix.shape)"
   ]
  },
  {
   "cell_type": "markdown",
   "metadata": {},
   "source": [
    "### Create `X`, scaled matrix of features"
   ]
  },
  {
   "cell_type": "code",
   "execution_count": 382,
   "metadata": {},
   "outputs": [
    {
     "name": "stdout",
     "output_type": "stream",
     "text": [
      "(91000, 76370)\n",
      "(91000, 76370)\n"
     ]
    }
   ],
   "source": [
    "# feature scaling\n",
    "# from sklearn.preprocessing import StandardScaler\n",
    "# sc = StandardScaler(with_mean=False)\n",
    "sc = joblib.load('sc.pkl')\n",
    "X = sc.transform(X_matrix)\n",
    "# X = sc.transform(sc)\n",
    "print(X.shape)\n",
    "print(X_matrix.shape)"
   ]
  },
  {
   "cell_type": "markdown",
   "metadata": {},
   "source": [
    "### create `y`, vector of Labels"
   ]
  },
  {
   "cell_type": "code",
   "execution_count": 383,
   "metadata": {},
   "outputs": [
    {
     "name": "stdout",
     "output_type": "stream",
     "text": [
      "<class 'numpy.ndarray'>\n"
     ]
    }
   ],
   "source": [
    "y = amazon['helpful'].values\n",
    "print(type(y))"
   ]
  },
  {
   "cell_type": "markdown",
   "metadata": {},
   "source": [
    "### predict `y` with the fit on the training set"
   ]
  },
  {
   "cell_type": "code",
   "execution_count": 384,
   "metadata": {},
   "outputs": [
    {
     "name": "stdout",
     "output_type": "stream",
     "text": [
      "{'Pos': 6607, 'Neg': 84393, 'TP': 82, 'TN': 83371, 'FP': 1022, 'FN': 6525, 'Accuracy': 0.9170659340659341, 'Precision': 0.07427536231884058, 'Recall': 0.01241107915846829, 'desc': 'ols'}\n"
     ]
    }
   ],
   "source": [
    "# MODEL: ordinary least squares\n",
    "# from sklearn import linear_model\n",
    "# ols = linear_model.SGDClassifier(loss=\"squared_loss\")\n",
    "# ols.fit(X, y)\n",
    "# joblib.dump(ols, 'ols.pkl') # pickle\n",
    "ols = joblib.load('ols.pkl') # pickle\n",
    "\n",
    "ols_performance = BinaryClassificationPerformance(ols.predict(X), y, 'ols')\n",
    "ols_performance.compute_measures()\n",
    "print(ols_performance.performance_measures)"
   ]
  },
  {
   "cell_type": "code",
   "execution_count": 385,
   "metadata": {},
   "outputs": [
    {
     "name": "stdout",
     "output_type": "stream",
     "text": [
      "{'Pos': 6607, 'Neg': 84393, 'TP': 675, 'TN': 83815, 'FP': 578, 'FN': 5932, 'Accuracy': 0.9284615384615384, 'Precision': 0.538707102952913, 'Recall': 0.10216437112153777, 'desc': 'svm'}\n"
     ]
    }
   ],
   "source": [
    "# MODEL: SVM, linear\n",
    "# from sklearn import linear_model\n",
    "# svm = linear_model.SGDClassifier()\n",
    "# svm.fit(X, y)\n",
    "# joblib.dump(svm, 'svm.pkl') # pickle\n",
    "svm = joblib.load('svm.pkl') # pickle\n",
    "\n",
    "svm_performance = BinaryClassificationPerformance(svm.predict(X), y, 'svm')\n",
    "svm_performance.compute_measures()\n",
    "print(svm_performance.performance_measures)"
   ]
  },
  {
   "cell_type": "code",
   "execution_count": 386,
   "metadata": {},
   "outputs": [
    {
     "name": "stdout",
     "output_type": "stream",
     "text": [
      "{'Pos': 6607, 'Neg': 84393, 'TP': 970, 'TN': 83308, 'FP': 1085, 'FN': 5637, 'Accuracy': 0.9261318681318681, 'Precision': 0.4720194647201946, 'Recall': 0.14681398516724686, 'desc': 'lgs'}\n"
     ]
    }
   ],
   "source": [
    "# MODEL: logistic regression\n",
    "# from sklearn import linear_model\n",
    "# lgs = linear_model.SGDClassifier(loss='log', n_iter=50, alpha=0.00001)\n",
    "# lgs.fit(X, y)\n",
    "# joblib.dump(lgs, 'lgs.pkl') # pickle\n",
    "lgs = joblib.load('lgs.pkl')\n",
    "\n",
    "lgs_performance = BinaryClassificationPerformance(lgs.predict(X), y, 'lgs')\n",
    "lgs_performance.compute_measures()\n",
    "print(lgs_performance.performance_measures)"
   ]
  },
  {
   "cell_type": "code",
   "execution_count": 387,
   "metadata": {},
   "outputs": [
    {
     "name": "stdout",
     "output_type": "stream",
     "text": [
      "{'Pos': 6607, 'Neg': 84393, 'TP': 2083, 'TN': 76226, 'FP': 8167, 'FN': 4524, 'Accuracy': 0.8605384615384616, 'Precision': 0.20321951219512194, 'Recall': 0.31527168154987134, 'desc': 'nbs'}\n"
     ]
    }
   ],
   "source": [
    "# MODEL: Naive Bayes\n",
    "# from sklearn.naive_bayes import MultinomialNB\n",
    "# nbs = MultinomialNB()\n",
    "# nbs.fit(X, y)\n",
    "# joblib.dump(nbs, 'nbs.pkl') # pickle\n",
    "nbs = joblib.load('nbs.pkl')\n",
    "\n",
    "nbs_performance = BinaryClassificationPerformance(nbs.predict(X), y, 'nbs')\n",
    "nbs_performance.compute_measures()\n",
    "print(nbs_performance.performance_measures)"
   ]
  },
  {
   "cell_type": "code",
   "execution_count": 388,
   "metadata": {},
   "outputs": [
    {
     "name": "stdout",
     "output_type": "stream",
     "text": [
      "{'Pos': 6607, 'Neg': 84393, 'TP': 2396, 'TN': 77086, 'FP': 7307, 'FN': 4211, 'Accuracy': 0.8734285714285714, 'Precision': 0.2469339379573328, 'Recall': 0.3626456788254881, 'desc': 'prc'}\n"
     ]
    }
   ],
   "source": [
    "# MODEL: Perceptron\n",
    "# from sklearn import linear_model\n",
    "# prc = linear_model.SGDClassifier(loss='perceptron')\n",
    "# prc.fit(X, y)\n",
    "# joblib.dump(prc, 'prc.pkl') # pickle\n",
    "prc = joblib.load('prc.pkl')\n",
    "\n",
    "prc_performance = BinaryClassificationPerformance(prc.predict(X), y, 'prc')\n",
    "prc_performance.compute_measures()\n",
    "print(prc_performance.performance_measures)"
   ]
  },
  {
   "cell_type": "code",
   "execution_count": 389,
   "metadata": {},
   "outputs": [
    {
     "ename": "ValueError",
     "evalue": "X has 76370 features per sample; expecting 772",
     "output_type": "error",
     "traceback": [
      "\u001b[0;31m---------------------------------------------------------------------------\u001b[0m",
      "\u001b[0;31mValueError\u001b[0m                                Traceback (most recent call last)",
      "\u001b[0;32m<ipython-input-389-9b55871e53a3>\u001b[0m in \u001b[0;36m<module>\u001b[0;34m\u001b[0m\n\u001b[1;32m      6\u001b[0m \u001b[0mrdg\u001b[0m \u001b[0;34m=\u001b[0m \u001b[0mjoblib\u001b[0m\u001b[0;34m.\u001b[0m\u001b[0mload\u001b[0m\u001b[0;34m(\u001b[0m\u001b[0;34m'rdg.pkl'\u001b[0m\u001b[0;34m)\u001b[0m\u001b[0;34m\u001b[0m\u001b[0;34m\u001b[0m\u001b[0m\n\u001b[1;32m      7\u001b[0m \u001b[0;34m\u001b[0m\u001b[0m\n\u001b[0;32m----> 8\u001b[0;31m \u001b[0mrdg_performance\u001b[0m \u001b[0;34m=\u001b[0m \u001b[0mBinaryClassificationPerformance\u001b[0m\u001b[0;34m(\u001b[0m\u001b[0mrdg\u001b[0m\u001b[0;34m.\u001b[0m\u001b[0mpredict\u001b[0m\u001b[0;34m(\u001b[0m\u001b[0mX\u001b[0m\u001b[0;34m)\u001b[0m\u001b[0;34m,\u001b[0m \u001b[0my\u001b[0m\u001b[0;34m,\u001b[0m \u001b[0;34m'rdg'\u001b[0m\u001b[0;34m)\u001b[0m\u001b[0;34m\u001b[0m\u001b[0;34m\u001b[0m\u001b[0m\n\u001b[0m\u001b[1;32m      9\u001b[0m \u001b[0mrdg_performance\u001b[0m\u001b[0;34m.\u001b[0m\u001b[0mcompute_measures\u001b[0m\u001b[0;34m(\u001b[0m\u001b[0;34m)\u001b[0m\u001b[0;34m\u001b[0m\u001b[0;34m\u001b[0m\u001b[0m\n\u001b[1;32m     10\u001b[0m \u001b[0mprint\u001b[0m\u001b[0;34m(\u001b[0m\u001b[0mrdg_performance\u001b[0m\u001b[0;34m.\u001b[0m\u001b[0mperformance_measures\u001b[0m\u001b[0;34m)\u001b[0m\u001b[0;34m\u001b[0m\u001b[0;34m\u001b[0m\u001b[0m\n",
      "\u001b[0;32m/anaconda3/envs/Py36env/lib/python3.6/site-packages/sklearn/linear_model/base.py\u001b[0m in \u001b[0;36mpredict\u001b[0;34m(self, X)\u001b[0m\n\u001b[1;32m    279\u001b[0m             \u001b[0mPredicted\u001b[0m \u001b[0;32mclass\u001b[0m \u001b[0mlabel\u001b[0m \u001b[0mper\u001b[0m \u001b[0msample\u001b[0m\u001b[0;34m.\u001b[0m\u001b[0;34m\u001b[0m\u001b[0;34m\u001b[0m\u001b[0m\n\u001b[1;32m    280\u001b[0m         \"\"\"\n\u001b[0;32m--> 281\u001b[0;31m         \u001b[0mscores\u001b[0m \u001b[0;34m=\u001b[0m \u001b[0mself\u001b[0m\u001b[0;34m.\u001b[0m\u001b[0mdecision_function\u001b[0m\u001b[0;34m(\u001b[0m\u001b[0mX\u001b[0m\u001b[0;34m)\u001b[0m\u001b[0;34m\u001b[0m\u001b[0;34m\u001b[0m\u001b[0m\n\u001b[0m\u001b[1;32m    282\u001b[0m         \u001b[0;32mif\u001b[0m \u001b[0mlen\u001b[0m\u001b[0;34m(\u001b[0m\u001b[0mscores\u001b[0m\u001b[0;34m.\u001b[0m\u001b[0mshape\u001b[0m\u001b[0;34m)\u001b[0m \u001b[0;34m==\u001b[0m \u001b[0;36m1\u001b[0m\u001b[0;34m:\u001b[0m\u001b[0;34m\u001b[0m\u001b[0;34m\u001b[0m\u001b[0m\n\u001b[1;32m    283\u001b[0m             \u001b[0mindices\u001b[0m \u001b[0;34m=\u001b[0m \u001b[0;34m(\u001b[0m\u001b[0mscores\u001b[0m \u001b[0;34m>\u001b[0m \u001b[0;36m0\u001b[0m\u001b[0;34m)\u001b[0m\u001b[0;34m.\u001b[0m\u001b[0mastype\u001b[0m\u001b[0;34m(\u001b[0m\u001b[0mnp\u001b[0m\u001b[0;34m.\u001b[0m\u001b[0mint\u001b[0m\u001b[0;34m)\u001b[0m\u001b[0;34m\u001b[0m\u001b[0;34m\u001b[0m\u001b[0m\n",
      "\u001b[0;32m/anaconda3/envs/Py36env/lib/python3.6/site-packages/sklearn/linear_model/base.py\u001b[0m in \u001b[0;36mdecision_function\u001b[0;34m(self, X)\u001b[0m\n\u001b[1;32m    260\u001b[0m         \u001b[0;32mif\u001b[0m \u001b[0mX\u001b[0m\u001b[0;34m.\u001b[0m\u001b[0mshape\u001b[0m\u001b[0;34m[\u001b[0m\u001b[0;36m1\u001b[0m\u001b[0;34m]\u001b[0m \u001b[0;34m!=\u001b[0m \u001b[0mn_features\u001b[0m\u001b[0;34m:\u001b[0m\u001b[0;34m\u001b[0m\u001b[0;34m\u001b[0m\u001b[0m\n\u001b[1;32m    261\u001b[0m             raise ValueError(\"X has %d features per sample; expecting %d\"\n\u001b[0;32m--> 262\u001b[0;31m                              % (X.shape[1], n_features))\n\u001b[0m\u001b[1;32m    263\u001b[0m \u001b[0;34m\u001b[0m\u001b[0m\n\u001b[1;32m    264\u001b[0m         scores = safe_sparse_dot(X, self.coef_.T,\n",
      "\u001b[0;31mValueError\u001b[0m: X has 76370 features per sample; expecting 772"
     ]
    }
   ],
   "source": [
    "# MODEL: Ridge Regression Classifier\n",
    "# from sklearn import linear_model\n",
    "# rdg = linear_model.RidgeClassifier()\n",
    "# rdg.fit(X, y)\n",
    "# joblib.dump(rdg, 'rdg.pkl') # pickle\n",
    "rdg = joblib.load('rdg.pkl')\n",
    "\n",
    "rdg_performance = BinaryClassificationPerformance(rdg.predict(X), y, 'rdg')\n",
    "rdg_performance.compute_measures()\n",
    "print(rdg_performance.performance_measures)"
   ]
  },
  {
   "cell_type": "code",
   "execution_count": 393,
   "metadata": {},
   "outputs": [
    {
     "name": "stdout",
     "output_type": "stream",
     "text": [
      "{'Pos': 6607, 'Neg': 84393, 'TP': 2671, 'TN': 81450, 'FP': 2943, 'FN': 3936, 'Accuracy': 0.9244065934065934, 'Precision': 0.4757748485928037, 'Recall': 0.404268200393522, 'desc': 'dtc'}\n"
     ]
    }
   ],
   "source": [
    "# MODEL: Decision Tree Classifier\n",
    "# from sklearn import tree\n",
    "# dtc = tree.DecisionTreeClassifier(max_depth=100)\n",
    "# dtc.fit(X_matrix, y)\n",
    "# joblib.dump(dtc, 'dtc.pkl') # pickle\n",
    "dtc = joblib.load('dtc.pkl')\n",
    "\n",
    "dtc_performance = BinaryClassificationPerformance(dtc.predict(X_matrix), y, 'dtc')\n",
    "dtc_performance.compute_measures()\n",
    "print(dtc_performance.performance_measures)"
   ]
  },
  {
   "cell_type": "code",
   "execution_count": null,
   "metadata": {},
   "outputs": [],
   "source": [
    "# MODEL: Randomforest\n",
    "\n",
    "rfc = joblib.load('/Users/working/Documents/ParsonsSchool/Sp19/MachineLearning/DATASET/rfc.pkl')\n",
    "rfc_performance = BinaryClassificationPerformance(rfc.predict(X_matrix), y, 'rfc')\n",
    "rfc_performance.compute_measures()\n",
    "print(rfc_performance.performance_measures)"
   ]
  },
  {
   "cell_type": "markdown",
   "metadata": {},
   "source": [
    "### ROC plot to compare performance of various models and fits"
   ]
  },
  {
   "cell_type": "code",
   "execution_count": 392,
   "metadata": {},
   "outputs": [
    {
     "data": {
      "image/png": "[encoded data removed]",
      "text/plain": [
       "<Figure size 432x288 with 1 Axes>"
      ]
     },
     "metadata": {
      "needs_background": "light"
     },
     "output_type": "display_data"
    }
   ],
   "source": [
    "fits = [svm_performance, lgs_performance, nbs_performance, rdg_performance, prc_performance, ols_performance, dtc_performance,rfc_performance]\n",
    "\n",
    "for fit in fits:\n",
    "    plt.plot(fit.performance_measures['FP'] / fit.performance_measures['Neg'], \n",
    "             fit.performance_measures['TP'] / fit.performance_measures['Pos'], 'bo')\n",
    "    plt.text(fit.performance_measures['FP'] / fit.performance_measures['Neg'], \n",
    "             fit.performance_measures['TP'] / fit.performance_measures['Pos'], fit.desc)\n",
    "plt.axis([0, 1, 0, 1])\n",
    "plt.title('ROC plot: test set')\n",
    "plt.xlabel('False positive rate')\n",
    "plt.ylabel('True positive rate')\n",
    "plt.show()"
   ]
  },
  {
   "cell_type": "markdown",
   "metadata": {
    "collapsed": true
   },
   "source": [
    "### looking at reviews based on their classification\n",
    "\n",
    "Let's say we decide that Ridge Regression is the best model for generalization. Let's take a look at some of the reviews and try to make a (subjective) determination of whether it's generalizing well. "
   ]
  },
  {
   "cell_type": "code",
   "execution_count": 127,
   "metadata": {},
   "outputs": [
    {
     "data": {
      "text/plain": [
       "\"strong taste but good! In my opinion it's not exactly a substitute for coffee but tastes really good mixed together.\""
      ]
     },
     "execution_count": 127,
     "metadata": {},
     "output_type": "execute_result"
    }
   ],
   "source": [
    "amazon.loc[0, \"Text\"]"
   ]
  },
  {
   "cell_type": "code",
   "execution_count": 128,
   "metadata": {},
   "outputs": [
    {
     "data": {
      "text/plain": [
       "False"
      ]
     },
     "execution_count": 128,
     "metadata": {},
     "output_type": "execute_result"
    }
   ],
   "source": [
    "amazon.loc[0, \"helpful\"]"
   ]
  },
  {
   "cell_type": "code",
   "execution_count": 129,
   "metadata": {},
   "outputs": [],
   "source": [
    "ridge_predictions = rdg.predict(X)"
   ]
  },
  {
   "cell_type": "code",
   "execution_count": 130,
   "metadata": {},
   "outputs": [
    {
     "data": {
      "text/plain": [
       "(91000,)"
      ]
     },
     "execution_count": 130,
     "metadata": {},
     "output_type": "execute_result"
    }
   ],
   "source": [
    "ridge_predictions.shape"
   ]
  },
  {
   "cell_type": "code",
   "execution_count": 131,
   "metadata": {},
   "outputs": [
    {
     "name": "stdout",
     "output_type": "stream",
     "text": [
      "[False False False ... False False False]\n"
     ]
    }
   ],
   "source": [
    "print(ridge_predictions)"
   ]
  },
  {
   "cell_type": "code",
   "execution_count": 132,
   "metadata": {},
   "outputs": [
    {
     "name": "stdout",
     "output_type": "stream",
     "text": [
      "180\n",
      "2010-08-10 00:00:00\n",
      "4\n",
      "0\n",
      "B0006J32A0\n",
      "No other chew will do for Bogart.  However, each one I give him, he sniffs like a cigar and only chews the ones that pass his sniff test.  The rest kick around awhile until I gather them up and give them to his city cousin, Chesty, who doesn't bother to sniff, just exudes delight and starts chewing!\n",
      "* * * * * * * * * \n",
      "3231\n",
      "2012-07-30 00:00:00\n",
      "5\n",
      "1\n",
      "B007JFMIWW\n",
      "These cookie bars are great.  Perfect to grab on the way out to a ballgame or any happening.....put in your pocket  and you're on your way to enjoy later....that is, if you can wait till you get where you're going to take a bite.  The crispy outside is the finishing touch and for so few calories...who can ask for more.  Highly recommended.\n",
      "* * * * * * * * * \n",
      "7902\n",
      "2012-08-11 00:00:00\n",
      "1\n",
      "0\n",
      "B007UL2910\n",
      "The product Grove Square Hot Cocoa Cups arrived with an expired date of July 2012. I wanted to call or email but my husband advised to just toss it out which I did as I had bought the cocoa for our grandkids.<br /><br />Sincerely,<br />Belinda Gonzalez\n",
      "* * * * * * * * * \n",
      "11072\n",
      "2012-04-11 00:00:00\n",
      "5\n",
      "3\n",
      "B001ONPN40\n",
      "So, a few years back, when my son was just 18 months old, I discovered these and thought they'd be great with chili (they were!). As I was eating them, my son saw them and wanted to try them. I figured, what the heck, they were kinda spicy but not enough to hurt the little guy. So I gave him a couple. He loved them! So, I gave him a handful, and he munched away happily.<br /><br />Fast-forward to the next day.<br /><br />My wife is in the office when she hears a blood-curdling scream from my son's room!<br /><br />She rushes in to see what's the matter, and there stands my son, a look of panic on his face, yelling \"Mom-Mom help! Hot poop! Hot poop!\" as he reaches back into his diaper to try and get it all out.<br /><br />Needless to say, at the time my wife was not amused.<br /><br />However, this brand of cracker has henceforth and forevermore become known in our family as \"Hot Poop Cheez-Its.\"<br /><br />And yes, my son still loves them.\n",
      "* * * * * * * * * \n",
      "11786\n",
      "2011-07-03 00:00:00\n",
      "5\n",
      "3\n",
      "B001EQ4IKW\n",
      "Out of all the coffee companies out there, I've probably been the most loyal to Millstone Coffee Company. Since 2001, I've been drinking Millstone Coffee Company coffees. In my opinion, they're honestly one of the nicest companies out there. In 2001, one of the few and rare times I entered an online contest/sweepstakes, I won second prize in Millstone's \"Gourmet Getaway Weekend\" sweepstakes. They gave me a Capresso Coffee Grinder and a package of their Foglifter coffee. I still have that Capresso Coffee Grinder in my kitchen. Honestly, Millstone's coffees do stand out. They're smooth, rich-tasting, and bold. And you truly get what you pay for with these coffee products. My co-workers and I have tried the majority of their products over the years ranging from Chocolate Velvet, Foglifter, French Vanilla, French Roast, Kona Blend, Caramel Truffle, Hazelnut Cream, Pumpkin Spice, etc. Millstone Coffee Company stay very true to the flavors they advertise on their coffee products. When you buy their Caramel Truffle - you taste the caramel. When you buy their Hazelnut Cream - you taste the hazelnut. When you buy their Pumpkin Spice - you taste the pumpkin. And of course, when you buy their Chocolate Velvet - you taste the chocolate. My co-workers and I have tried many coffees from many coffee brands over the years. And out of all the coffees out there that advertise \"chocolate\" flavor - Millstone, according to my opinion and my co-workers' opinions, are truly the most honest in advertising their \"chocolate\" flavor. You really do taste the chocolate in their Chocolate Velvet coffee. For example, I bought a bag of Godiva Chocolatier's Chocolate Truffle coffee a few months ago, and my co-workers and I were honestly very disappointed each time we made Godiva Chocolatier's Chocolate Truffle coffee. It didn't matter how strong we made the coffee - we didn't taste chocolate at all. My family, co-workers, and I think that Godiva Chocolatier make excellent and innovative chocolate candies and baked goods. I also think that Godiva Chocolatier's Lady Godiva 2011 mug they're currently selling online by New York artists Kurt Huggins and Zelda Devon is a beautiful and unique mug that many coffee drinkers would like to add to their coffee mug/tea cup collection. In my honest opinion, that Lady Godiva 2011 mug screams \"Lady Gaga\", and if I met Lady Gaga I would definitely give her that Lady Godiva 2011 mug as a gift because that mug just reminds me of her and I know that Lady Gaga loves all things New York-related, and New York-based designers created that mug. Really, I think that the Godiva Chocolatier company should send Lady Gaga that mug along with some of their hot chocolate. Anyways, if you want my complete honesty, if there is any Godiva Chocolatier product that needs improvement, it's their coffee. Really, out of all the companies out there, my co-workers and I thought that Godiva Chocolatier would make the best chocolate-flavored coffee, but it ends up that Millstone Coffee Company make the best chocolate-flavored coffee. Who knew? My verdict: Millstone Coffee Company make the best chocolate-flavored coffee - Chocolate Velvet. In general, they are truly one of the best coffee companies out there. And I hope that the Millstone Coffee Company make more flavored coffees in the future. To Millstone Coffee Company, if you're reading this - My co-workers and I have drank your coffees for more than a decade now. We have tried almost every coffee you have produced and made. We want more! Please make some new flavored coffees - we would greatly appreciate it. Thanks!\n",
      "* * * * * * * * * \n",
      "12232\n",
      "2010-12-21 00:00:00\n",
      "3\n",
      "1\n",
      "B002SZX9G2\n",
      "These are a little to big for bite size and the pastry tastes a bit too greasy. Hafner products are great for large parties. This particular vol au vent is not my favorite. I do not know where to use these. Too large for a cocktail party and too small for a plated dessert.\n",
      "* * * * * * * * * \n",
      "13372\n",
      "2010-03-04 00:00:00\n",
      "5\n",
      "0\n",
      "B000V4PW6M\n",
      "When I saw that Necco was still making Banana Split candies, I got so excited. My husband, who is from the Eastern hemisphere, fell in love with these nostalgic candies, too! In the 50s and 60s, my siblings and I bought Banana Splits - two for one penny in the Midwest. This delicious candy brings back fond childhood memories. I highly recommend these wonderfully flavored, chewy delights. And, I can tell you that once you have your second Banana Split, it will be very, very hard to stop yourself from eating many, many more. Enjoy!!\n",
      "* * * * * * * * * \n",
      "14025\n",
      "2012-04-29 00:00:00\n",
      "5\n",
      "0\n",
      "B004GQL1PW\n",
      "Real Food Toppers is truly a quality product with an extremely small amount of hard, unusable pieces. I am pleased with this purchase and so are my cats. I will continue buying this product for my finicky kitties. Thanks for money well spent.\n",
      "* * * * * * * * * \n",
      "16761\n",
      "2010-01-15 00:00:00\n",
      "5\n",
      "0\n",
      "B0012Y0HA6\n",
      "My dog (a 30 pound wire hair fox terrier and corgi mix) absolutely LOVES this toy!!! I originally got it so that he could have something to do while I was gone and he was in his crate, and was very disappointed to find that he pulled the circular rawhides off in a matter of minutes...at first I thought, \"well there goes 10 bucks down the drain!\". But after that, it became his FAVORITE bone. He just loves throwing it around and chewing on the bone ends. It lasted about 6 months before he chewed both ends off (note: he is a very very intense chewer), and even after that, he still loves playing with the purple ball that came in the middle. I bought him a new bone for christmas and again, he can't get enough of it. My roommates dog has the same feelings for these bones, and we have affectionately started calling them their \"crack\" bones because we don't know why they are completely obsessed with them! I would highly highly recommend!!!\n",
      "* * * * * * * * * \n",
      "25798\n",
      "2012-09-03 00:00:00\n",
      "5\n",
      "0\n",
      "B008KZ5KZ2\n",
      "I've made these for friends (both gluten-intolerant and not), and everybody loves these! They do not taste like they're gluten-free! Excellent job by Nuffins to mix convenience with quality and health.\n",
      "* * * * * * * * * \n",
      "26668\n",
      "2011-07-14 00:00:00\n",
      "3\n",
      "0\n",
      "B0019ZXA2K\n",
      "I received vanilla flavored Green Mountain K-cups instead of the Nantucket Blend I ordered.  Return authorization and logistics were very efficient and easy with Amazon.  I did not reorder because K-cups price with Amazon/vendors has increased significantly, by almost $10. per box.  I have found it cheaper to buy locally.\n",
      "* * * * * * * * * \n",
      "30911\n",
      "2011-07-28 00:00:00\n",
      "5\n",
      "0\n",
      "B0037YXQ5W\n",
      "my son loves only STRAWBERRY instant breakfast and has a difficult time finding that flavor. I goggled and found several sites but this was the most economical price and delivery was speedy! Will order again.\n",
      "* * * * * * * * * \n",
      "31039\n",
      "2011-06-04 00:00:00\n",
      "5\n",
      "0\n",
      "B000I6MC52\n",
      "Coffee Masters Creme Brulee is a true delight!  It is smooth, mellow and a relaxing treat whenever I need a calm, quiet moment in the midst of a busy day.  I first tried it at a friend's bridal shower and had to have the ordering information.  I am a regular buyer and hope that Amazon continues to make it available.  If you are looking for a guiltless, calorie free, simple pleasure that has an aroma as amazing as it's flavor, I would unconditionally recommend that you select this product.\n",
      "* * * * * * * * * \n",
      "35950\n",
      "2012-03-14 00:00:00\n",
      "5\n",
      "1\n",
      "B003IHO8MS\n",
      "I got this drink after my brother had one and said it was amazing. I believe his words were \"viagra in a cup\" lol. He said that it made his sex life amazing. I was curious to try one, but no stores will carry something with the word \"gasm\" in the tile. The day it arrived it just so happened I hadn't eaten at all since early that morning and it was about dinner time. I had one, which tasted great, a nice little buzz in the brain came on after a couple sips. I didn't notice anything after that so I immediately had another one. I didn't realize it takes a few minutes for these to take affect. I was seriously sceptical about these but a few minutes after after my second something happend. BAM, this stuff had a major affect on me. I have a high libito to begin with, but after taking two of these, OH MY GOSH! I've never had sex before or anything like it because I'm waiting to with my wife, so believe me when I tell you this stuff does not help when living an abstinence lifestyle lol. I had to go workout for 2.5 hours to work off the amount of \"energy\" this stuff gave me. This is not a placebo affect I assure you haha. For this to work best you have to take it on an empty stomach and it really does work. Hope this helped!\n",
      "* * * * * * * * * \n",
      "36500\n",
      "2011-03-20 00:00:00\n",
      "1\n",
      "9\n",
      "B000V1LXTU\n",
      "I have used this formerly terrifc product for over 10 years.  It was the only canned chicken sold in North America that contained no food additives.  It was just chicken, water, and sea salt.<br /><br />As of this month( March 2011) new labelling and contents  have appeared.  The label now proclaims \"Better Flavor\".<br /><br />The product now contains 50% more sodium - at a time when many manufacturers are either cutting back on salt content or introducing \"reduced sodium\" vesions of their tradtional products.<br /><br />Worse yet, the \"Better Flavor\" is achieved by adding \"rice starch\", \"vegetable starch\" ( a call to the company revealed that this is potato starch) and \"chicken broth\" - which contains, among other listed ingredients, \"natural flavor\" (derived from corn - an increasingly common food allergen ).<br /><br />This product is now useless to me as I am highly sensitive to corn products.  While the label still claims the product is gluten free, which was pretty much guaranteed before, since it had only chicken water and sea salt in it, this claim is now somewhat suspect in as much as with the introduction of each new additive, there is the possiblitly of cross contamination in the prodution of the various grain based starches and \"flavors\"<br /><br />The company needs to re-think this change.  What made them unique and a mainstay for people on specialized diets, was their plain and simple good food.  Now they are little differnt from every other canned meat that is adulterated with unecessary and unwanted food additives.<br /><br />They can kiss goodbye all their former customers who are allergic to or sensitive to corn, processed starches, who are on the Atkins or no grain diets, who have arthritis which is exacerbated by potatoes, and who avoid processed food additives in general.<br /><br />The company also needs to be more up front in their new labelling and say \"potato starch\" rather than \"vegetable starch\" AND in bold print say \"Contains Corn\" to warn customers who are allergic to corn products that they probably should now avoid the product.<br /><br />Hopefully this \"Better Flavor\" change will be about as successful as New Coke\" and we will see Valley Fresh \"Classic\" chicken in a year so.\n",
      "* * * * * * * * * \n",
      "38033\n",
      "2011-09-10 00:00:00\n",
      "5\n",
      "2\n",
      "B002N4KDV2\n",
      "My old cat who died last year had diabetes because I didn't understand the basic principles of feline nutrition. After he was diagnosed, I switched him to a canned food diet with multiple small feedings per day, and that was actually enough to get him off insulin!<br /><br />Although I would have done anything to prevent his diabetes, I didn't appreciate how unfussy it made him until he died and I got another cat. The old cat would eat anything. The new cat would starve himself to death before he'd eat something that doesn't meet his standards.<br /><br />Unfortunately, he's particularly fussy about canned food. He doesn't like pate-style or ground foods - if I even want there to be a prayer of him eating it, it has to have shredded meat. That's why I was so pleased to discover this brand.<br /><br />First of all, I love the ingredient list. The foods are balanced and grain-free (so important!) and don't contain unnecessary chemicals or preservatives. The only ingredient I'm less than thrilled about is the tapioca starch (used for thickening), but it's listed after the protein sources I really don't worry about it. When I was first considering this brand, I checked out reviews for it on other websites, and there were a lot of people upset that some of the flavors contain menadione. I looked into this, and it's a form of vitamin K which is an essential additive in fish-based foods because they don't contain enough natural vitamin K and it's required for health. The controversy appears to be based in that it was banned for humans...after a bunch of babies died when they were given great big whopping doses. Fortunately, the amount of menadione added is so minuscule that I'm totally comfortable with its inclusion. (And since it's not present in the chicken-based formulas, and since I think poultry is a better staple food for cats than fish, he gets that much less of it.)<br /><br />Actually, the chicken and pumpkin flavor seems to be his favorite. I was a little unsure of using pumpkin, since cats are carnivores and carbohydrates can have some bad effects, but it's apparently good for their digestion. Since I rotate the different flavors, the possible consequences are really reduced...and since cats seem to like to barf just to keep things interesting, I'm pleased about any possible stabilizing effect!<br /><br />Soulistic's website also promises to use human-grade ingredients. No by-products here! It even smells like regular people food, which, let me tell you, is a welcome relief.<br /><br />But the best part: the cat loves it. He doesn't refuse it, he's not even merely indifferent to it - he devours it. I've tried every single flavor of the \"in gravy\" flavors (I haven't tried the \"in gelee\" flavors) and every single one of them sends him into raptures.<br /><br />Seriously, it doesn't get any better than this. There's a canned grain-free cat food with a high moisture content and shreds or chunks of real meat and fish as the first ingredients, and the cat loves it. There are enough flavors to give him variety, both in taste and nutrition. I'm sold!\n",
      "* * * * * * * * * \n",
      "39648\n",
      "2008-10-21 00:00:00\n",
      "5\n",
      "0\n",
      "B001EO6D84\n",
      "Vegan. Natural. Wow! Super delicious. Fantastic treat. Deluxe mixed nuts with a wonderful maple syrup coating. Sweet & powdery covered delights. [Brazil nuts, my personal favorite, are unbelievable.] Surprise your guests (vegan or not) with these in a candy dish. Can also be used as a topping or for baking treats. Canada produces some of the best maple syrups. Dennis Farms is a top contender. Smiles from Up North. Boost your willpower before ordering. Made with pecans, almonds, cashews and filberts (roasted in expeller extracted peanut oil), raw Brazil nuts, and pure maple syrup. This review is out there for those for whom this makes a difference. See all of my reviews and the vegancompassion Profile for more great choices. Check out \"Vegan Grocery Favorites\" and \"Vegan Grocery Top Ten\" & all the other helpful \"Vegan Grocery\" Listmania. Your input counts and will be greatly appreciated to benefit the search of others. Thank you.\n",
      "* * * * * * * * * \n",
      "40223\n",
      "2012-08-04 00:00:00\n",
      "5\n",
      "0\n",
      "B003YARL1O\n",
      "This is really my fault for overestimating the capacity of my 30 lb Wheaten Terrier to navigate this bone. it's huge and only for dogs over 50 lbs w/large mouths.  I put this bone next to my African Safari pictures.\n",
      "* * * * * * * * * \n",
      "43637\n",
      "2011-11-09 00:00:00\n",
      "1\n",
      "5\n",
      "B001E50XAC\n",
      "Ingredient list on the package (which as we know goes from most to least): California raisins, yogurt coating (sugar,partially hydrogenated palm kernel oil, nonfat milk powder, nonfat yogurt powder, whey, titanium dioxide, soy lecithin, vanilla), confectioners glaze, corn syrup, dextrin and maltodextrin.<br /><br />This \"yogurt coating\" is basically sugar and partially hydrogenated oil, in other words TRANS FAT, which has undeniable harmful effects on your health. Palm oil is saturated fat, anyways. All the yogurt it conatins is a tiny bit of yogurt POWDER. And it has titanium dioxide, which is also an effective sun block that you wingredient<br /><br />Look at all that sugar named in different ways: sugar, confectioners glaze and corn syrup. As for the titanium dioxide, from Wikipedia:<br /><br />Pigment<br />\"...When deposited as a thin film, its refractive index and colour make it an excellent reflective optical coating for dielectric mirrors and some gemstones like \"mystic fire topaz\". TiO2 is also an effective opacifier in powder form, where it is employed as a pigment to provide whiteness and opacity to products such as paints, coatings, plastics, papers, inks, foods, medicines (i.e. pills and tablets) as well as most toothpastes. In paint, it is often referred to offhandedly as \"the perfect white\", \"the whitest white\", or other similar terms. Opacity is improved by optimal sizing of the titanium dioxide particles.<br />In ceramic glazes titanium dioxide acts as an opacifier and seeds crystal formation.<br />Titanium dioxide is often used to whiten skimmed milk; this has been shown statistically to increase skimmed milk's palatability.[23]<br />Titanium dioxide is used to mark the white lines on the tennis courts of the All England Lawn Tennis and Croquet Club, best known as the venue for the annual grand slam tennis tournament The Championships, Wimbledon.[24]<br />The exterior of the Saturn V rocket was painted with titanium dioxide; this later allowed astronomers to determine that J002E3 was the S-IVB stage from Apollo 12 and not an asteroid.<br /><br />Sunscreen and UV absorber<br /><br />In cosmetic and skin care products, titanium dioxide is used as a pigment, sunscreen and a thickener. It is also used as a tattoo pigment and in styptic pencils. Titanium dioxide is produced in varying particle sizes, oil and water dispersible, and with varying coatings for the cosmetic industry. This pigment is used extensively in plastics and other applications for its UV resistant properties where it acts as a UV absorber, efficiently transforming destructive UV light energy into heat.<br />Titanium dioxide is found in almost every sunscreen with a physical blocker because of its high refractive index, its strong UV light absorbing capabilities and its resistance to discolouration under ultraviolet light. This advantage enhances its stability and ability to protect the skin from ultraviolet light. Sunscreens designed for infants or people with sensitive skin are often based on titanium dioxide and/or zinc oxide, as these mineral UV blockers are believed to cause less skin irritation than other UV absorbing chemicals. The titanium dioxide particles used in sunscreens have to be coated with silica or alumina, because titanium dioxide creates radicals in the photocatalytic reaction. These radicals are carcinogenic, and could damage the skin.\n",
      "* * * * * * * * * \n",
      "43663\n",
      "2008-05-14 00:00:00\n",
      "5\n",
      "5\n",
      "B004YVQ4DI\n",
      "When you compare the zesty Limonata Sparkling Lemon Beverage to other sparkly lemon beverages, you begin to realize the sheer perfection of the Limonata beverage by San Pellegrino. The balance of lemon, sparkle and zest takes this drink to the level of a gourmet beverage, which requires no mixing. I may have tasted this before, but recently ordered it while eating out at a Restaurant.<br /><br />San Pellegrino is also made with mineral water found near the town of San Pellegrino Terme which is located 70 kilometers northeast of Milan. The water flows from a thermal spring at the foot of a Dolomite mountain wall. The use of this water definitely adds to the energy this drink seems to possess.<br /><br />The carbonation seems more sophisticated and delicate. The only way to describe it is to say these waters are the champagne of sparkling waters.<br /><br />~The Rebecca Review\n",
      "* * * * * * * * * \n",
      "46510\n",
      "2008-01-07 00:00:00\n",
      "5\n",
      "4\n",
      "B000KSTYBS\n",
      "Very oily, rich color and aroma, great smooth dark flavor. Also kind to peasants and all that. If you like French roast, this is better than the stuff in the grocery store and for less -- and if you buy two, shipping is free!<br /><br />UPS, on the other hand, gets a much worse review from me.\n",
      "* * * * * * * * * \n",
      "48760\n",
      "2007-05-12 00:00:00\n",
      "5\n",
      "0\n",
      "B000BF54O6\n",
      "I use this all the time in cooking.  I make chili and taco filling with it.  I use it to make a vegetarian meatloaf, browned to go in spagetti or on pizza, make a Vegeburger mix with it and so much more.  Great flavor and texture.  It is extrememly versitile.  Tender, yet just the right amount of chewiness to it.  I've used this product for years and we are so glad to find it available on Amazon.\n",
      "* * * * * * * * * \n",
      "49308\n",
      "2011-07-19 00:00:00\n",
      "1\n",
      "0\n",
      "B004X3VRLG\n",
      "I got one bag as a sample for review and tried giving one of the treats to my dog, but she wasn't willing to give it a serious try. I let her keep it for a week and every once in a while she'd toss it around the living room or pick it up and carry it around for a minute, but she never made any real effort to eat it.<br /><br />I ended up giving 2 of them to my nephew's dog, and he seemed to like them all right. I took the remainder to a playdate my dog was having with 3 other dogs and out of those one chewed on one a little but didn't seem awfully interested, one took no interest at all, and one really liked them. I tossed the bag after the playdate, forgetting that I'd want it for reference, but I seem to remember not being very thrilled by the ingredient list either.<br /><br />The final tally for me was 2 dogs out of 5 who seemed to like it, 1 who thought it was okay but nothing special, and 2 who didn't have any real interest.<br /><br />I'm not impressed with these at all and I can't see myself recommending them to anyone. Given that my own dog wouldn't eat hers, I definitely won't consider buying them in the future.<br /><br />Edit: Leaving my original review intact, but reducing from 2 stars to 1. I just heard that the dog that liked these the most was chewing on it a while after I went home and started whimpering. Her owners found that her gums were bleeding. It might just be a random thing that she bit at it wrong and no fault of the treat, but given the other problems people have reported having with these I wouldn't want to gamble on it. I'm definitely not going to be recommending these to anyone.\n",
      "* * * * * * * * * \n",
      "49460\n",
      "2009-07-31 00:00:00\n",
      "5\n",
      "3\n",
      "B001SAQSXY\n",
      "No doubt about it this is just the right combination of Lobster, scampi, prawns with a hint of Dry white wine & a dash of brandy finish this soup to perfection.<br />Ingredients<br />Water, Lobster (4%), Cod (3.5%), Scampi (2.5%), Concentrated Tomato Paste, Modified Cornflour, White Wine, Prawns (1.5%), Skimmed Milk Powder, Butterfat, Double Cream, Salt, Yeast Extract, Sugar, Shrimp Powder, Fish Powder, Vegetable Oil, Vegetable Extracts, Stabiliser (Polyphosphates), Brandy, Concentrated Lemon Juice, Spices, Herb and Spice Extracts with celery.<br />*No Artificial Colours<br />*No Artificial Flavours<br />*No Artificial Preservatives<br /><br />Information<br />Gluten Free<br />Contains: MILK, FISH, SHELLFISH, CELERY.\n",
      "* * * * * * * * * \n",
      "50776\n",
      "2009-09-12 00:00:00\n",
      "5\n",
      "0\n",
      "B000GQT3F6\n",
      "This item, The Feeding Assistant, although a bit pricey does an excellent job for feeding an elderly resident of ours that has trouble opening her mouth and eating. Naturally, the food is pureed. This is an asset for our care home that has more than paid for itself in time for caregivers to feed a resident. I recommend the Feeding Assistant for care homes with residents having eating issues. Dennis Craft, Manager, Trinity Homes of Scottsdale\n",
      "* * * * * * * * * \n",
      "54314\n",
      "2012-10-22 00:00:00\n",
      "5\n",
      "0\n",
      "B0049R83WW\n",
      "I ordered a 24 pack and was given extra to share and a nice handwritten note from the company, very nice.<br /><br />I really like the jello. I bought it originally to make homemade gummy candy, but it just did not get to like the store bought - which does not reflect on this product. I just didn't do it right. Anyhow, I make it as the direction on the package says and sometimes I will add a bit of agar agar to make it firmer. I pour it into the candy molds such as frogs, bears, and my kids love it. All the flavors are really good and the texture is nice, clean tasting.<br /><br />While it is a better alternative to the conventional Jello made with animal gelatin, it still does have artificial coloring. But 'organic' colorings usually involve some animal derivative. Will order again.\n",
      "* * * * * * * * * \n",
      "55698\n",
      "2011-09-27 00:00:00\n",
      "5\n",
      "0\n",
      "B0009F3QLQ\n",
      "I am not a fan of tea. I do not normally drink the stuff, any flavor, any type, for any symptom. BUT, I am now a believer. This tea is amazing. I suffer from severe cramps (Yes, I do cry because of it.. I even sometimes ask my sister to punch me in the stomach so that it would take away from the pain!). I have tried prescription pain medication and birth control to alleviate my pain. The prescription pain meds always made me sleepy (which is terrible while I'm at work, or need to drive) and for personal reasons I am not on birth control at the moment. When I wasn't taking either, I would take between 6-10 ibuprofen each day for the first 2 days of my cycle. Don't get me wrong, I still have to take it, but not nearly as much. So far, I have only drank the tea during the cycle, usually about 5 bags each day. I have done this for the past 3 months. But, I am going to start drinking it throughout the month... I'm hoping it will help the initial monstrous pain I get when my cycle decides to surprise me.<br />Also - you can't beat the subscribe and save price. I was paying $30+tax (for 6 boxes) before I found it here!\n",
      "* * * * * * * * * \n",
      "58337\n",
      "2008-09-04 00:00:00\n",
      "5\n",
      "2\n",
      "B0017SZTR8\n",
      "The Teas' Tea Golden Oolong is the best bottled tea I have tasted to date. I first ordered a case of the Oi Ocha from Amazon, but found it to have a little bit of a bitter taste that was hard to get used to.  The golden oolong is much smoother, and really delicious.  Definitely recommend trying, you will not be disappointed!\n",
      "* * * * * * * * * \n",
      "58709\n",
      "2012-07-26 00:00:00\n",
      "4\n",
      "0\n",
      "B007RTR8UC\n",
      "The Clear Scalp & Hair Beauty Total Care Nourishing Conditioner is about what you'd expect...it's conditioner and it leaves your hair more soft and manageable than shampoo would on its own. It's a good product and does the job as well as other more expensive brands (and a handful of less expensive ones). It's a thick, rich-looking conditioner, and if I have one complaint, it's that the scent can be a bit overpowering when it's on your hair. It's not a bad scent, but it is a very perfumey, \"cosmetic\" scent. Fortunately what's left behind after rinsing is just a hint of it, so that won't be a problem for most. My hair does seem to be better off for using it, and that's the most important thing (especially some of its renewed strength).<br /><br />As far as the packaging, this gets the same complaint as every other product in the Clear line, and that's the cap being on the bottom of the container. It's not a deal-breaker and is largely a non-issue, but I've received other products in the Clear line with the same bottle design that opened in transit, dumping a good bit of the product into the packaging. Amazon knows this, and takes some precautions (taping the cap on and wrapping the bottles in plastic bags), but it doesn't make this the most shipment-friendly product in the world.<br /><br />Over all, the Clear Total Care Nourishing Conditioner is a good product at a decent price. As long as you don't mind the fragrance and it doesn't open during shipping, you'll be satisfied with it.\n",
      "* * * * * * * * * \n",
      "61655\n",
      "2011-02-07 00:00:00\n",
      "1\n",
      "3\n",
      "B001M050T8\n",
      "I've been an Olvatine fan for years.  I hate the new stuff and will cease to buy it.  Obviously Nestle thinks substituting their product in an Olvatine container won't be noticed.  Probably an accounting decision.  GRRR!\n",
      "* * * * * * * * * \n",
      "64759\n",
      "2012-05-27 00:00:00\n",
      "5\n",
      "0\n",
      "B001E50TJC\n",
      "I have used this coffee for years. You are the only way I can find it in this ares. I had a young repairman here a few weeks ago and I offered him a cup. Before he left he asked to see the bag and wrote down all the info. He said it is the best coffee he ever had, so for what it is worth that makes two of us.\n",
      "* * * * * * * * * \n",
      "65029\n",
      "2011-06-15 00:00:00\n",
      "5\n",
      "3\n",
      "B003AYEHOI\n",
      "My hot-loving tastebuds are thrilled and nice to know it is not irradiated. Love to sprinkle on 90% cocoa bars for some sweet heat!\n",
      "* * * * * * * * * \n",
      "66151\n",
      "2008-05-31 00:00:00\n",
      "5\n",
      "2\n",
      "B000Y26LW0\n",
      "My mother loved the processed foods of the 70's.  Consequently, I ate a lot of hamburger and tuna helper!  Thiry years later, I still like them, but prefer a more healthful version.  These Amy's fit the bill.  If you are in a pinch for time, and can't make homemade tuna caserole, you just need to whip out a pan and have this made in minutes.  Nice to buy in bulk because my local stores don't always carry it.\n",
      "* * * * * * * * * \n",
      "67090\n",
      "2012-03-01 00:00:00\n",
      "5\n",
      "2\n",
      "B000HQR3ZM\n",
      "I found Rio Rancho Tostado Bowls in my local supermarket, a Hannaford's, and they were outstanding! I was blown away with the superb flavor. Unlike another reviewer, I did not find the product to be flimsy at all; they held up to the very last tasty bite. (Perhaps his or her problem was due to shipping problems, and not the product itself.) I love Mexican food, but dislike the artificial ingredients added to so many of the prepackaged items. This product tasted authentic, and I just can't praise it enough. In a word, they were YUMMY!\n",
      "* * * * * * * * * \n",
      "68360\n",
      "2011-03-29 00:00:00\n",
      "5\n",
      "0\n",
      "B002C4BOHK\n",
      "Maxwell house makes a nice strong coffee that tastes great. I like it as much as I like Folgers and the price is in my budget. The canisters ship without any problems, they are strong and unbreakable.\n",
      "* * * * * * * * * \n",
      "68372\n",
      "2011-06-15 00:00:00\n",
      "5\n",
      "3\n",
      "B001VNGK6I\n",
      "Smelled fresh. I like that it said what percentage of Curcumin is in it. I've used this along with mustard powder mixed with jojoba oil on some non-malignant sarcoid tumors on a horse and they went away so it must have some anti-tumor qualities as mentioned in my research.\n",
      "* * * * * * * * * \n",
      "70909\n",
      "2012-03-22 00:00:00\n",
      "5\n",
      "1\n",
      "B007I7YZJK\n",
      "I normaly do not reach for the decf items, and when this product arrived...I thought, oh gee...then, I thought how bad can it taste?  The taste was great.  Not overly sweet and  with a hint of honey. Just the right blend<br /><br />The packet that the power is contained, very easy to open,  unlike some of the other brands. The powder mixes well, unlike other brands.<br /><br />I recently had purchased the SodaStream soda maker, and use a liquid flavoring, I prepaired the carbonation in the bottle and poured in the Lipton packet ..... Oh boy!  It started to fizz and bubble and the color was a bright red like a strawberry! What a mess .... however, when it settled down the carbonation disapated and<br />I found that the ice tea had a rich light taste. Tip:  if your try this tea  carbonated  a light carbonation is advised ...Also, if you want a drink like a light water, just use less from the packet.  Refreshing and half the cost of flavored waters.<br /><br />The only down fall for this powdered tea is the color!  Scarlet Red, it stains if you spittle.. (bg).  Other than that, I will looking forward to our grocery store<br />has the new Lipton Ice Tea.<br />Diffently recommend this product.\n",
      "* * * * * * * * * \n"
     ]
    },
    {
     "name": "stdout",
     "output_type": "stream",
     "text": [
      "75229\n",
      "2011-02-19 00:00:00\n",
      "4\n",
      "6\n",
      "B001AYDFC0\n",
      "Overall this is a great product if you are a loose leaf tea drinker.  I say overall because, like most things, there are pluses and minuses.  I have been drinking loose leaf teas for about ten years now.  I would not rank myself as an expert, but I have sampled many varieties and flavors which I suppose gives me some degree of knowledge.<br /><br />I usually purchase a different brand Genmaicha which I have grown accustomed to over the years.  In my research this other tea is about what you would expect from a Genmaicha: loose leaf green tea with roasted brown rice in about a 50-50 ratio.  The Shirakiku I am reviewing now is somewhat different.  This \"Genmai Cha\" (note the spelling difference)seems to consist mostly of roasted brown rice with some loose leaf green tea and the addition of Matcha tea.  If you are not familiar with Matcha tea is is a Japanese tea variety which is commonly used in tea ceremonies.  It is in powdered form and prepared by being whisked into water not brewed and strained like loose leaf tea.  Had I known that this tea was manufactured the way it is I don't think that I would have purchased it.  That said, I am still happy with my purchase and enjoy this tea on a daily basis.<br /><br />My critique of the drinkability of the tea itself is a mixed bag.  The flavor is \"in the neighborhood\" of my usual Genmaicha.  However it is definitely not the same.  The bready flavor of the roasted rice is overpowered by the Matcha tea.  In addition, to me Matcha tea is somewhat akin to instant tea.  Although many may disagree strongly with that statement, it is how I feel.  I simply prefer brewed loose leaf tea, and since I was not aware of the nature of this tea, I suppose I am a little dissapointed.  In the cup the tea is very cloudy.  Genmaicha in general is a cloudy cup due to the rice.  The Genmai Cha is about twice as cloudy, due in part to the Matcha and also the high percentage of roasted rice that I mentioned earlier.<br /><br />The other factors to consider with this tea is the quantity and the pricing.  The Shirakiku comes in two vacuum sealed bricks weighing 2.2 pounds (1 Kilogram) each.  That means that you get about 4.4 pounds of tea in total.  That's a lot of tea!  Which leads me to the price.  After tax and with free shipping through Amazon I paid less than $10.50 per pound of tea.  This is less than half of what I would expect to pay for my usual brand.<br /><br />Overall the tea is a great value.  Cost per pound is very low, but 2 Kilograms is a lot of tea.  And the flavor is very good.  So I would have to say that I took away two stars for the introduction of the Matcha tea, but I added one star for the amazing value this tea offers.<br /><br />Pros:<br />Cost per pound<br />Flavor is very good<br /><br />Cons:<br />4.4 pounds of tea (you will be drinking it for a long time....)<br />Not a true Genmaicha (at least not to purists)<br />Lots of sediment at the bottom of the cup\n",
      "* * * * * * * * * \n",
      "76142\n",
      "2011-08-05 00:00:00\n",
      "2\n",
      "2\n",
      "B000VXYV6K\n",
      "The basic concept is there but someone cut too many corners trying to save a buck.  The plastic stakes should be replaced with simple tent stakes so they could be hammered into hard ground more easily.  These have blunt bottoms.  Why?  It is very hard to hammer these into anything but soft sand.  Also, the wire is a ball of wire instead of a rolling spool. This was a real pain in the ass trying to untangle the ball of wire they give you.  And putting the wire through a tiny hole in the stake?  How about a small spur on each stake that the wire could simply be looped around once to secure it rather than having to thread each one like a needle.  Once it was up it worked and then it didn't.  Probably my fault as if any part of the wire grounds it won't work.  But with the cheap wire and stakes it's hard to get a sturdy run that doesn't touch something.  When it does work it gives a nice shock but the only way to test it is to either zap yourself (or one of your kids) or buy a cheap lamp tester ($8.00)  Again, should be included with this product.  For the money this chould be a lot more user friendly.\n",
      "* * * * * * * * * \n",
      "76310\n",
      "2008-02-08 00:00:00\n",
      "5\n",
      "0\n",
      "B001P05K6I\n",
      "I've been purchasing VerBac  C.E.T. Chews for years. My dog loves them and the chews apparently keep my dog's teeth clean. Thus it has not been necessary to have her teeth cleaned every couple of years as was necessary before chews. Also the chews do not seem to be fatening.<br />  I think they are great and so does my dog.<br />  Harvey Palmer\n",
      "* * * * * * * * * \n",
      "76954\n",
      "2012-02-09 00:00:00\n",
      "5\n",
      "1\n",
      "B000QV0MA6\n",
      "The product was fresh, colorful, AND sugarless. The sender evidently shipped the package immediately...it arrived a quick three days later :-)\n",
      "* * * * * * * * * \n",
      "77651\n",
      "2011-07-05 00:00:00\n",
      "5\n",
      "2\n",
      "B001B0Y1S0\n",
      "This product is really great! Its design forces the dog the slow down; it also adds how to circumnavigate around the center to get the food, adding an element of thinking to an otherwise \"fast food\" experience. And it eliminates throwing the food back up. Thank you, DuraPet!\n",
      "* * * * * * * * * \n",
      "78296\n",
      "2012-08-26 00:00:00\n",
      "1\n",
      "1\n",
      "B003NUYBV8\n",
      "So very disappointed with this product. It came in a huge box with an over-abundance of paper packing. I opened the inner box and then chose a pack of what I thought would be a delicious seaweed snack only to be greeted by a rancid product that was anything but crispy...It was disappointing as I've always eaten the Trader Joe brand and had just shared an Amazon order of TJ's Seaweed with friends: Light, crunchy, delicious. This prouduct was the antithesis of TJ's product. I cannot recommend this product in spite of it's excellent price...\n",
      "* * * * * * * * * \n",
      "79176\n",
      "2011-05-03 00:00:00\n",
      "3\n",
      "1\n",
      "B004D503FA\n",
      "I had always heard of Smithfield hams, and so when I saw that amazon.com had them listed, I wanted to try one.  I ordered the smallest one I could find on their site.  Shipping was fast and the ham very well packaged for what that's worth.  (I know this is the product review page, but I did want to mention that here as well).  The ham, well the glaze was nice, sure.  Bit of a cinnamon flavor in it, along with honey if I had to guess.  The ham itself, tasty..but I can get just as nice locally from let's say CostCo or Honeybaked Hams.  Three stars seems low, but four doesn't quite seem right either given it's not exceptional.  Maybe I was just expecting too much and maybe based on that it should be a four or five star product, it very much is tasty.  But I just feel like I got an above average product that can be had locally from another retailler or reseller.  Would I order again?  Basically if ordering online ended up as cheap or cheaper then local purchase, then sure.  Otherwise maybe not.\n",
      "* * * * * * * * * \n",
      "81870\n",
      "2008-04-06 00:00:00\n",
      "5\n",
      "6\n",
      "B001EQ4J42\n",
      "This REALLY is great coffee!  It's an instant, (so it's easy to make),<br />and freeze-dried, (superiour instant coffee).  But it TASTES so much<br />better than other freeze-dried coffees I've tried....even 100% Colum-<br />bian bean instant freeze-dried coffees!<br /><br />By mistake, I left a jar out on the counter all night.  I've been told that one must put ALL coffee in the refrigerator, or it will turn<br />rancid.  Well --even without additives or preservatives of any kind -- my jar of Taster's Choice was still good in the morning!<br /><br />It used to come in a glass jar....which I preferred.  However, the new<br />plastic jar has been improved since its introduction, and now is MUCH<br />easier to open and close!  (Thanks, Nestle....I was almost beginning to toy with the idea of getting a sledge hammer to open the first plastic<br />jar opening you introduced....thank goodness you've changed it!)<br /><br />Now, with an easy-open, easy-close jar, and wonderful, just-right coffee<br />within, (not too strong, not too weak)...you can get a perfect cup of<br />coffee in an instant -- with Taster's Choice instant!  It sure is MY choice!\n",
      "* * * * * * * * * \n",
      "82196\n",
      "2012-07-17 00:00:00\n",
      "1\n",
      "1\n",
      "B000X1Q1G8\n",
      "I wouldn't subject prisoners to eat this \"peanut butter\" as part of their sentence. Even my German Shepard who eats everything (including sheetrock) was nauseated by it. I rinsed out my mouth with raw sewage afterwards, which was an improvement.\n",
      "* * * * * * * * * \n",
      "82214\n",
      "2011-07-31 00:00:00\n",
      "5\n",
      "1\n",
      "B003ZXG0VW\n",
      "These cookies taste exactly like the girlscout samoas - my favorites ever!  Unfortunately, I cannot find them in my local supermarket so it is great to be able to order them here.\n",
      "* * * * * * * * * \n",
      "83336\n",
      "2010-10-01 00:00:00\n",
      "5\n",
      "0\n",
      "B000VD6N5M\n",
      "Cote D'or Dark (86%) Brut Chocolate Cocoa is my guilty pleasure. Part of one square, held in my mouth as I sip hot Kona coffee at a morning break will get me over the usually stressful morning that I have had. The texture is crisp, the flavor smooth and bittersweet, and it is like silk when melting, a perfect harmony with really excellent coffee. I have had better chocolate, but NOT for the price. Find your own ceremony, this is excellent chocolate!\n",
      "* * * * * * * * * \n",
      "83556\n",
      "2009-05-28 00:00:00\n",
      "5\n",
      "0\n",
      "B000NMJWZO\n",
      "This is a good product for those who are gluten free.  It works well for many recipes, and widens the list of foods available.  There are good recipes for it, but it works for a cooks experimenting desires, too!\n",
      "* * * * * * * * * \n",
      "85640\n",
      "2012-04-04 00:00:00\n",
      "5\n",
      "0\n",
      "B003KI006S\n",
      "Ok, I am a skeptic, I admit it. I read all these reviews (on here and elsewhere) about the benefits of tart cherry juice. I'm diabetic, I have a LOT of health/joint issues and super-high inflammation in my body. So I hurt. I hurt A LOT. I thought I'd give this product a try, without really expecting it to do what people said it can do. I thought, \"It's natural, and better for me than medications that take a toll on my pocket and my health..\" and I really thought that it was all hype...but who knew?  I've tried it albeit for two days now and I honestly feel a difference. I can't believe it, but I honestly DO. I haven't had any rx painkillers all day and I am not writhing in pain!  I even went out to the park with my 6 yr old yesterday and didn't come home, crying in pain. I thought it had to be a fluke, but again, today, I feel better as well! It's not cheap, by any stretch...but if you can drink a small bottle of tart cherry juice (it has apple juice in it too but no sugar, and yes, it IS tart!) and feel so much better, it's worth it. At least it is for me!! Great product.\n",
      "* * * * * * * * * \n"
     ]
    }
   ],
   "source": [
    "# false positives\n",
    "\n",
    "import random, time\n",
    "\n",
    "for i in range(0, len(ridge_predictions)):\n",
    "    if (ridge_predictions[i] == True):\n",
    "        if (amazon.loc[i, \"helpful\"] == False):\n",
    "            if (random.uniform(0, 1) < 0.05):\n",
    "                print(i)\n",
    "                print(time.strftime('%Y-%m-%d %H:%M:%S', time.gmtime(amazon.loc[i, \"Time\"])))\n",
    "                print(amazon.loc[i, \"Score\"])\n",
    "                print(amazon.loc[i, \"HelpfulnessDenominator\"])\n",
    "                print(amazon.loc[i, \"ProductId\"])\n",
    "                print(amazon.loc[i, \"Text\"])\n",
    "                print('* * * * * * * * * ')"
   ]
  },
  {
   "cell_type": "code",
   "execution_count": 125,
   "metadata": {},
   "outputs": [],
   "source": [
    "rfc_predictions = rfc.predict(X)"
   ]
  },
  {
   "cell_type": "code",
   "execution_count": 136,
   "metadata": {},
   "outputs": [
    {
     "name": "stdout",
     "output_type": "stream",
     "text": [
      "23667\n",
      "2010-07-04 00:00:00\n",
      "5\n",
      "3\n",
      "B000WFORH0\n",
      "The pet food industry can be one of the most infuriating as you start doing research and discovering what trash manufacturers (and the vets who get paid off by the manufacturers) push onto the unsuspecting public. For reference, don't ask your vet - do some Internet research at sites like, for example, [...]. What you'll find is that even the supposed \"high-end\" lines from basically every major supermarket label are horrible for your fuzzy friends. People who trust the marketing or trust their vets overpay and feed their cats foods that are full of carcinogens, cheap ingredients that are inappropriate for a cat's digestive system, and byproducts that provide nothing of value and are basically a way to make cheap profit off of literal garbage. It's a tragedy, as these same cats end up with shorter lifespans, kidney problems, UTIs, cancer, and a host of other issues, all of which could have been avoided by a high quality food.<br /><br />This is an A-Grade food. What you'll find here is very high protein content, many meat meals, good carbs and oils, and no grains, which is great as a cat is not an omnivore, it's a carnivore, and it simply does not need grains. It has 50 percent protein, which is among the highest you'll see in cat food. The first 4 ingredients are all meats.<br /><br />What you will NOT find here is the kind of junk you'll see in things like Purina One and Science Diet - byproducts (aka beaks, feathers, bird feet), brewers rice (aka the waste product from making beer), wheat flour (a leading cause of pet allergies), corn gluten (a cheap waste of space), and things like \"liver flavor\" (because they don't want to pay for the real thing). I didn't just pull those ingredients out of the air - I was reading the ingredients list of Purina One. It's pathetic.<br /><br />Don't feed your cats trash. Pay a little more to feed them good food now, and they'll lead longer, healthier, more satisfied lives as a result. It's worth it.\n",
      "* * * * * * * * * \n",
      "23974\n",
      "2006-12-26 00:00:00\n",
      "5\n",
      "3\n",
      "B000EPUPSS\n",
      "THERE ARE MANY GOOD BRANDS OF BREWER'S YEAST - TWIN LABS ADDS TASTE & VALUE TO A WINNING FORMULA<br /><br />IN A NUTSHELL: VERY GOOD TASTING \"REAL BREWER'S YEAST\" -- NOTHING ADDED<br /><br />This \"Genuine Brewer's Yeast\" powder tastes very good for real Brewers Yeast. Having said that, remember this is not a vitamin or mineral -- BREWER'S YEAST is one of the ultimate super-foods, a veritable food supplement by itself. Traditionally, people who have been involved with weight lifting, body building or competitive sports that require strength, and muscle building have found that Brewer's Yeast had preceded them. It has very well balanced amino-acids plus all the B-complex vitamins which include large doses of Inositol and Choline. Add to this, the best, and most bioavailable source of chromium and selenium too, as well as many trace minerals and elements. AND - they're all naturally occurring -- nothing is added, no preservatives, sugars or additives of any kind. Really good food is what this Brewer's Yeast is, and you can add it to many things. Right now, I have a tablespoon mixed in with a huge glass of very diluted orange juice, but you can put it in anything you want, including; casseroles, yogurt, soup, juices, meat loaf, salads, milk and of course water. Honestly, I have been using this stuff on myself for over 40 years. Truly, I've never gotten over the wonder of how well, and alert Brewer's Yeast has always made me feel. My guess is that the large quantities of Inositol and Choline are the key to the alertness, combined with the natural amino-acids.<br /><br />BELOW IS A COPY OF THE LABELING INFO THAT IS PROBABLY EASIER TO READ -- remember, all the nutrients are naturally occurring - nothing is added!<br /><br />Supplement Facts<br /><br />Serving Size: 1 heaping tablespoonful (16 g)<br /><br />Servings per container: 31<br /><br />Amount Per Serving % Daily Value<br /><br />Calories 35<br /><br />Protein 8 g 16%<br /><br />Thiamin 1.4 mg 93%<br /><br />Riboflavin 0.7 mg 41%<br /><br />Niacin 5.3 mg 27%<br /><br />Vitamin B6 0.6 mg 30%<br /><br />Folic Acid 240 mcg 60%<br /><br />Vitamin B12 2 mcg 33%<br /><br />Biotin 16 mcg 5%<br /><br />Pantothenic Acid 0.4 mg 4%<br /><br />Calcium 59 mg 6%<br /><br />Iron 1.5 mg 8%<br /><br />Phosphorus 234 mg 23%<br /><br />Magnesium 33 mg 8%<br /><br />Zinc 1.2 mg 8%<br /><br />Copper 0.5 mg 25%<br /><br />Manganese 0.13 mg 7%<br /><br />Chromium 60 mcg 50%<br /><br />Sodium 60 mg 3%<br /><br />Potassium 222 mg 6%<br /><br />Alanine 592 mg *<br /><br />Arginine 464 mg *<br /><br />Aspartic Acid 800 mg *<br /><br />Glutamic Acid 1120 mg *<br /><br />Glycine 400 mg *<br /><br />Histidine 208 mg *<br /><br />Isoleucine2,3 400 mg *<br /><br />Cystine 112 mg *<br /><br />Leucine2,3 624 mg *<br /><br />Lysine' 592 mg *<br /><br />Methionine' 144 mg *<br /><br />Phenylalanine' 368 mg *<br /><br />Proline 400 mg *<br /><br />Threonine' 400 mg *<br /><br />Serine 448 mg *<br /><br />Tryptophan1,2 96 mg *<br /><br />Tyrosine 304 mg *<br /><br />Valine2,3 480 mg *<br /><br />'The L-Tryptophan in the product is naturally present in the protein. It is not added or manufactured.<br /><br />'Essential Amino Acids.<br /><br />'Branched Chain Amino Acids.<br /><br />Other ingredients: Debittered Brewers Yeast.<br /><br />Free Of Contains absolutely no preservatives, fructose, honey, sugars or any additives.<br /><br />BOTTOM LINE: GREAT PRODUCT -- EXCELLENT PRICE<br /><br />I usually shop this item for the best price as it is handled by all the large vendors that sell via Amazon including Swanson's. Interestingly, the larger vendors tend to have fresher product, and this is evidenced by the expiration date on the jar which typically gives you about 2 years on these vacuum sealed containers.<br /><br />PLEASE NOTE:<br /><br />[WE AND I ARE NOT INVOLVED IN THE SALE OR PROMOTION OF THIS OR ANY OTHER PRODUCT -- I SIMPLY BELIEVE IN BREWER'S YEAST AND THIS HAS BEEN ONE OF ABOUT 4 BRANDS THAT I HAVE ALWAYS PURCHASED FOR OUR PERSONAL CONSUMPTION OVER THE YEARS]\n",
      "* * * * * * * * * \n",
      "43813\n",
      "2010-07-04 00:00:00\n",
      "5\n",
      "3\n",
      "B000WFPJIG\n",
      "The pet food industry can be one of the most infuriating as you start doing research and discovering what trash manufacturers (and the vets who get paid off by the manufacturers) push onto the unsuspecting public. For reference, don't ask your vet - do some Internet research at sites like, for example, [...]. What you'll find is that even the supposed \"high-end\" lines from basically every major supermarket label are horrible for your fuzzy friends. People who trust the marketing or trust their vets overpay and feed their cats foods that are full of carcinogens, cheap ingredients that are inappropriate for a cat's digestive system, and byproducts that provide nothing of value and are basically a way to make cheap profit off of literal garbage. It's a tragedy, as these same cats end up with shorter lifespans, kidney problems, UTIs, cancer, and a host of other issues, all of which could have been avoided by a high quality food.<br /><br />This is an A-Grade food. What you'll find here is very high protein content, many meat meals, good carbs and oils, and no grains, which is great as a cat is not an omnivore, it's a carnivore, and it simply does not need grains. It has 50 percent protein, which is among the highest you'll see in cat food. The first 4 ingredients are all meats.<br /><br />What you will NOT find here is the kind of junk you'll see in things like Purina One and Science Diet - byproducts (aka beaks, feathers, bird feet), brewers rice (aka the waste product from making beer), wheat flour (a leading cause of pet allergies), corn gluten (a cheap waste of space), and things like \"liver flavor\" (because they don't want to pay for the real thing). I didn't just pull those ingredients out of the air - I was reading the ingredients list of Purina One. It's pathetic.<br /><br />Don't feed your cats trash. Pay a little more to feed them good food now, and they'll lead longer, healthier, more satisfied lives as a result. It's worth it.\n",
      "* * * * * * * * * \n",
      "45450\n",
      "2010-04-10 00:00:00\n",
      "5\n",
      "0\n",
      "B0012OV5VG\n",
      "We've been enjoying McCormick's crock-pot chilli for some time now so I thought why not try this newest recipe. Of course it's simple: chicken ( I use thighs with skin removed ), a couple cans of stewed tomatoes ( plain is good, Italian better ), can of tomato paste and a half pound of sliced mushrooms. That's it. I put these ingredients in my slow cooker around noon time. A while later ( 4-5 hours on high or 8 hours on low per the instructions ) it's ready. It can be eaten as is or, as we do, put on top of spaghetti. Sometimes to make it even more like spaghetti sauce I'll add a can of marinara ( Hunt's works well ) which is just the right touch and stretches the sauce base.<br /><br />  This dish isn't what you'd call 'gourmet' but when time is an issue using this mix will definitely make life easier. The only down side to using thighs I find is pulling out the bones and other things not wanted. But thighs are inexpensive and tasty. I've also used chicken breast sliced into long strips which is better if you have young ones who just want to dive in and can't watch for those unwanted items.<br /><br />  Along with the chilli mix and the beef stew mix ( both get eaten very quickly around here ) the Italian Herb mix is a good kitchen tool to have when a wholesome, quick meal is called for. It's easily modified to taste and keeps you coming back for more. And buying these mixes from Amazon in bulk packs almost cuts the cost in half compared to individual packs bought at large food stores. Can't beat that!\n",
      "* * * * * * * * * \n",
      "46650\n",
      "2011-08-13 00:00:00\n",
      "3\n",
      "1\n",
      "B004YV80O4\n",
      "I've tried to write this review three times now, and every time I get a power blip or something happens to the browser and I lose it.  One more time.<br /><br />I made this carefully, and it is not tasty.  It has a big packet of spices that has a lot of whey, onion, and cheese and spices like black pepper are lower than an ingredient that is listed as \"not more than 2%.<br /><br />I've eaten tasty mac and cheese, and I've even eaten decent hamburger helper, like <a href=\"http://www.amazon.com/gp/product/B001EQ59EQ\">Hamburger Helper, Cheesy Nacho, 7.9-Ounce Boxes (Pack of 6)</a>.  That stuff is cheaper and tastes better.<br /><br />This stuff is easy to make.  You brown one pound of beef (I weighed it to be sure I was following directions) and then drain it (pouring out the tasty juices, I won't do that again), then add the misnamed seasoning packet and the pasta, along with two cups of water.<br /><br />Bring it to a boil, reduce heat, cover, and cook for 11-13 minutes.<br /><br />Then remove from the heat and mix in the velveeta packet.<br /><br />They suggest that you add lettuce?  Or chopped tomatoes, so I added Ro-Tel to part of it - the other part I kept pristine so that I could taste it as made.  I used hot Ro-Tel, and, other than the flavor of the Ro-Tel it was bland.  I have to think that the pasta is sort of bland and the spicing in the packet is lacking.  It could have some more onion flavor, or more than 0.5% garlic or something.<br /><br />The value in this is what I believe to be parboiled pasta that can be cooked in this fashion.<br /><br />The net weight of this stuff is 12.8 ounces - with a pound of beef, it makes 5 one cup servings.  My wife guesses that it serves three adults, or six-eight toddlers (if you were making lunch for a day care, say).<br /><br />Now, this is my suggestion:<br /><br />Suppose you buy a piece of velveeta in the store, some cream, some beef, and a little garlic powder, some onion powder, and some pasta.<br /><br />Cook a quarter pound of pasta in one pan, boiling and draining normally, and then brown a pound or two of beef with a bunch of onion and garlic powder, to taste.  In a third pan (or in the one you boiled the pasta in), grate or cube about a pound of Velveeta and heat it gently with a 2 tbsp of butter, stirring frequently until melted, then add about 1/4 to 1/2 cup cream a little at a time while stirring. Add a little white pepper and 1/8 tsp nutmeg, if you like it. Or use sour cream instead of whole cream, or put a little beef broth into the beef after it has browned.<br /><br />Now combine the cheese sauce, the pasta (use more or less to taste, the beef (please don't drain it unless you are on a low fat diet, and then do so carefully - if you have one of those old fat brushes, use that, try to save the juices).  Then add a whole can of Ro-Tel, to your family's taste, hot, mild, lime-chili, whatever.  Taste it - and if it is bland, fix it.<br /><br />Dust the top with paprika before serving it.<br /><br />This dish will taste good, and it won't take you much longer to make it than it would to start with this mix.  And if it is bland, you have only yourself to blame.  You can put more or less salt, pepper, herbs, and whatever - you don't need to use a mix to make a cheese/macaroni/beef dish.  This stuff really isn't that hard.<br /><br />Now, there is nothing wrong with Velveeta.  It melts nicely, it makes a great cheese sauce.  It usually has some flavor.  And there is nothing wrong with this stuff except that it is just tasteless, and almost anyone can do better.  Seriously, YOU can do better than this bland product.  If you like Velveeta, use it. If you don't like Velveeta, well, making it yourself allows you to make your cheese sauce from a different type of cheese.  Mexican melting cheese is good.  Heck, Sargento six cheese is great.<br /><br />If you don't want to do it yourself, save money and buy Hamburger Helper.<br /><br />I can't rate this less than 3 stars, far as I can tell, it is wholesome and it doesn't actively taste bad. It doesn't actively taste of much at all.  So it gets three stars, and a suggestion that you can do so much better by doing it yourself that you should try.<br /><br />If I had some of this stuff I had to use, I'd:<br /><br />Add a half tsp of white pepper, a half tsp of paprika, garlic powder to taste and onion powder to taste.  I might consider a knorr garlic cube.  Or Chipotle.  I would always add the Ro-Tel, this is the biggest fix you can make to this stuff. Paprika to dust the top before serving.  And, well, beef broth instead of water - that \"seasoning\" is really, really bland. A dollop of sour cream when you put the cheese sauce in, and a tablespoon of butter.<br /><br />Because as shipped, it is horribly bland.\n",
      "* * * * * * * * * \n",
      "59738\n",
      "2009-08-11 00:00:00\n",
      "3\n",
      "57\n",
      "B00012182G\n",
      "**Former Child Star Thumper Meets Tragic End**<br /><br />The mystery of the disappearance of Thumper, on par with that of Judge Crater and Jimmy Hoffa, came to a shocking end yesterday when a gory photograph of the famous actor was posted on the Amazon web site.<br /><br />Clues in the photograph, showing Thumper's headless and trussed body, led California Private Investigator, Edward \"Eddie\" Valiant to the Cloverdale processing plant where Thumper's long and fabled life had evidently ended.<br /><br />\"Who would do such a dastardly thing to my uncle?\"  sobbed  family spokesman Roger Rabbit, who is Thumper's nephew and also a known Hollywood actor, at the mobbed press conference held hours after the gristly discovery. \"If I hadn't hired Eddie Valiant to get the job done, the cops would still have their heads down a rabbit hole!\" and \"Where the %@*& is my uncle's head?\"<br /><br />Born Oscar Q Rabbit to a theatrical family of animated characters specializing in animal roles, Rabbit was hired by the Disney Studios when just a tiny bunny. Nicknamed \"Thumper\" for an endearing but nervous twitch of the left hind foot, he eventually became known throughout the world by that single name, joining the exclusive rank of one named stars such as Cher, Madonna and Pele.<br /><br />Cast as a child character in a small supporting role in the movie Bambi in 1942, Thumper's adorable and enduring persona lit the screen with a charisma way beyond that of a humble sidekick.<br /><br />A memorable line in Bambi became the touchstone of Thumper's life. \"If you can't say something nice, don't say nothing at all!\" formed the basis of what is now known as \"The Thumperian Principle\" . Grown to a world movement, Thumperian disciples believe in the tenant that bad grammar and good deeds are cosmically linked.<br /><br />Thumper continued work at the Disney Studios with Thumper2 and Thumper Goes Exploring but was eventually released from his contract when as a young adult, despite desperate efforts, he could not control the twitch in his hind leg. Rumors of drug abuse were never proven although Thumper spent several months at a private hospital for reported exhaustion  after completing the filming Thumper Goes Exploring.<br /><br />Never making the transition to television as did his younger relatives, Crusader Rabbit and Bugs Bunny, Thumper's career floundered until he was reduced to starring in three rabbitsploitation movies, \"Suck My Carrot\", \"Young Bunny Coed Love\", and finally, \"The Bunny Hole\".<br /><br />A long time alcoholic and well known visitor to the watering holes along the Sunset Strip and Las Vegas, Thumper lent his name to what has become a popular drinking game.<br /><br />Thumper spent his final years prior to his disappearance making celebrity appearances at Bambi reunions and Thumperian conferences and spent two seasons on Hollywood Squares where the muffled thumping of his hind led could often be heard in the background.<br /><br />Thumper was the founder and president of the \"Shake A Leg Foundation\" a research and charitable organization for rabbits and other small mammals suffering from hind leg movement disorder. Contributions to the foundation can be made in his name.<br /><br />Thumper is survived by his older brother, Benjamin Bunny, his nephew, Roger Rabbit, and his fourth wife, Jessica Rabbit and 974 children.\n",
      "* * * * * * * * * \n",
      "70375\n",
      "2011-01-03 00:00:00\n",
      "5\n",
      "5\n",
      "B003J9D2CC\n",
      "I tried a few dry food brands after the pet food recall of 2007.  I tried some grain free, and noticed some problems from the cats.  I tried going all wet - but apparently - my 17 yo needs some of the grains in dry food,  Their main food of choice (I'm not much of one for switching - had trouble with Turkey and Salmon flavors) is <a href=\"http://www.amazon.com/gp/product/B000WFORH0\">Wellness Canned Cat Food for Adult Cats, Chicken Formula (Pack of 12 12.5 Ounce Cans)</a>.<br /><br />I started with this Dry when it was Eagle Pack Holistic Select.  The formula was EU certified (which has a higher degree of ingredient integrity than US pet foods).  Since then, this company merged with the new owners of Wellness - so the 2 brands can compliment each other.<br /><br />The cats ages range currently from 7 to 17.  The below feeding schedule is modified slightly (sometimes only two feedings a day, maybe half the amount of dry, etc.)  If your cat has a sensitive tummy, it is best to feed more frequent, smaller meals each day.<br /><br />EDIT: 3/24/2011<br />I've switched some things up since the Wellness problems (and still waiting for Wellness Chicken Recipe to Return).<br /><br />I have started rotation feeding wet food, and have found that I use less dry food than before - here is my general shopping list:<br /><br /><a href=\"http://www.amazon.com/gp/product/B001TM70WY\">Weruva Green Eggs & Chicken Cat Food, 5.5-Ounce Cans (Pack of 24)</a>.  Will be giving the <a href=\"http://www.amazon.com/gp/product/B001TM70V0\">Weruva Paw Lickin' Chicken Cat Food, 5.5-Ounce Cans (Pack of 24)</a> a try.<br />Wellness Adult Turkey Canned Cat Food (I prefer the Chicken, but until it reappears, this will do just as well).<br /><a href=\"http://www.amazon.com/gp/product/B000WFMCCM\">Felidae Canned Cat Food for Adult Cats and Kittens, Chicken and Rice Formula in Chicken Broth (Pack of 12 13 Ounce Cans)</a> (Its not grain free, but I personally don't like the mix for the regular, and neither do my cats)<br /><a href=\"http://www.amazon.com/gp/product/B000F74248\">Innova Cat and Kitten Formula Canned Cat Food</a> (Also not grain free, and Multi protein source. It does contain Herring. However, cats have reacted positively to this food).<br /><a href=\"http://www.amazon.com/gp/product/B0012PZ7U0\">Holistic Select Feline Radiant Adult and Kitten Health Chicken Meal Recipe Dry Cat Food, 3-Pound Bag</a><br /><br />I feed a little dry first thing in morning every day.  Then 1/2 can of one flavor, remainder placed in refrig plastic lid.  Then 1/2 can of another flavor, same storage.  The next day, those cans are used up by adding a little hot water and nuking from 5 to 8 secs (this depends on your microwave and amount of food).  The next day, we have 5.5 oz can of Weruva split between 3 cats, and 1/2 can of the last flavor.  The next day we have another 5.5 oz can, and the remainder of the previous can.  That is four days, fifth day we are back to the beginning.<br /><br />This is why I prefer the smaller bag.  Except for the removal of additional Vitamin K (google on that one), the ingredients haven't changed much since I started in 2008 (when it was EU certified).  For saving Vet Bills - it pays to have kitties on a high quality diet.<br /><br />PS - the bag comes with its own zip lock closure, I've never had a problem with spoilage nor a-toxins.<br />PPS - some have found this a good rotation ONLY, it eases the budget: <a href=\"http://www.amazon.com/gp/product/B002CJAOR6\">Friskies Cat Food Classic Pate, Turkey & Giblets Dinner, 5.5-Ounce Cans (Pack of 24)</a>.\n",
      "* * * * * * * * * \n"
     ]
    }
   ],
   "source": [
    "# false positives\n",
    "\n",
    "# import random, time\n",
    "\n",
    "for i in range(0, len(rfc_predictions)):\n",
    "    if (rfc_predictions[i] == True):\n",
    "        if (amazon.loc[i, \"helpful\"] == False):\n",
    "            if (random.uniform(0, 1) < 0.05):\n",
    "                print(i)\n",
    "                print(time.strftime('%Y-%m-%d %H:%M:%S', time.gmtime(amazon.loc[i, \"Time\"])))\n",
    "                print(amazon.loc[i, \"Score\"])\n",
    "                print(amazon.loc[i, \"HelpfulnessDenominator\"])\n",
    "                print(amazon.loc[i, \"ProductId\"])\n",
    "                print(amazon.loc[i, \"Text\"])\n",
    "                print('* * * * * * * * * ')"
   ]
  },
  {
   "cell_type": "code",
   "execution_count": null,
   "metadata": {},
   "outputs": [],
   "source": []
  }
 ],
 "metadata": {
  "kernelspec": {
   "display_name": "Python 3",
   "language": "python",
   "name": "python3"
  },
  "language_info": {
   "codemirror_mode": {
    "name": "ipython",
    "version": 3
   },
   "file_extension": ".py",
   "mimetype": "text/x-python",
   "name": "python",
   "nbconvert_exporter": "python",
   "pygments_lexer": "ipython3",
   "version": "3.6.8"
  }
 },
 "nbformat": 4,
 "nbformat_minor": 1
}
