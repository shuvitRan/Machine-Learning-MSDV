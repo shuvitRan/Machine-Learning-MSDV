{
 "cells": [
  {
   "cell_type": "markdown",
   "metadata": {},
   "source": [
    "# Test Set"
   ]
  },
  {
   "cell_type": "code",
   "execution_count": 1,
   "metadata": {},
   "outputs": [],
   "source": [
    "import numpy as np\n",
    "import pandas as pd\n",
    "import matplotlib.pyplot as plt\n",
    "from sklearn.externals import joblib\n",
    "from my_measures import BinaryClassificationPerformance\n",
    "%matplotlib inline"
   ]
  },
  {
   "cell_type": "markdown",
   "metadata": {},
   "source": [
    "### Read raw test data"
   ]
  },
  {
   "cell_type": "code",
   "execution_count": 2,
   "metadata": {},
   "outputs": [
    {
     "name": "stdout",
     "output_type": "stream",
     "text": [
      "(91000, 14)\n"
     ]
    }
   ],
   "source": [
    "amazon = pd.read_csv('/Users/working/Documents/ParsonsSchool/Sp19/MachineLearning/DATASET/amazon_data/raw_data_test.csv')\n",
    "\n",
    "print(amazon.shape)"
   ]
  },
  {
   "cell_type": "code",
   "execution_count": 3,
   "metadata": {},
   "outputs": [
    {
     "name": "stdout",
     "output_type": "stream",
     "text": [
      "strong taste but good! In my opinion it's not exactly a substitute for coffee but tastes really good mixed together.\n"
     ]
    }
   ],
   "source": [
    "print(amazon.loc[0, \"Text\"])"
   ]
  },
  {
   "cell_type": "code",
   "execution_count": 4,
   "metadata": {},
   "outputs": [
    {
     "name": "stdout",
     "output_type": "stream",
     "text": [
      "   Unnamed: 0  Unnamed: 0.1      Id   ProductId          UserId  \\\n",
      "0      207103        112082  112083  B002Y2QT2K  A22Y5TJPN98DWB   \n",
      "1      139933        224640  224641  B009D53XKC  A3MDY6Y3Z6D649   \n",
      "2       76100        399707  399708  B005GIF5WY  A3LCQXQ4SFYBAU   \n",
      "3      114178        567900  567901  B005K4Q68Q  A2E65ZXD654761   \n",
      "4      285272        263134  263135  B002WW3BW8  A1XAZ0MR4TRY16   \n",
      "\n",
      "                  ProfileName  HelpfulnessNumerator  HelpfulnessDenominator  \\\n",
      "0                Eva Juergens                     1                       1   \n",
      "1  The Man Behind the Curtain                     1                       1   \n",
      "2                  Johna Jane                     0                       0   \n",
      "3                   Barbara L                     0                       0   \n",
      "4                        bfn1                     0                       0   \n",
      "\n",
      "   Score        Time                          Summary  \\\n",
      "0      3  1339286400                 chicory \"coffee\"   \n",
      "1      5  1326844800  This salt will change your life   \n",
      "2      5  1345420800                   Cat's favorite   \n",
      "3      5  1351036800                    Great tasting   \n",
      "4      3  1311552000                               OK   \n",
      "\n",
      "                                                Text  helpScore  helpful  \n",
      "0  strong taste but good! In my opinion it's not ...        1.0    False  \n",
      "1  Those searching high and low for salt that wil...        1.0    False  \n",
      "2  These treats are my picky cat's favorite.  I'v...        NaN    False  \n",
      "3  The price was as fantastic as the taste. So co...        NaN    False  \n",
      "4  Alot of chocolate; not so much coffee bean.  N...        NaN    False  \n",
      "0.0726043956043956\n"
     ]
    }
   ],
   "source": [
    "print(amazon.head())\n",
    "print(amazon['helpful'].mean())"
   ]
  },
  {
   "cell_type": "code",
   "execution_count": 5,
   "metadata": {},
   "outputs": [
    {
     "name": "stdout",
     "output_type": "stream",
     "text": [
      "0        strong taste good! In opinion it's exactly sub...\n",
      "1        Those searching high low salt change life end ...\n",
      "2        These treats picky cat's favorite. I've tried ...\n",
      "3        The price fantastic taste. So convenient messy...\n",
      "4        Alot chocolate; coffee bean. Not big caf-kick ...\n",
      "5        Look ingredients: water, wheat, salt, sugar \"t...\n",
      "6        I love LOVE bread mix. I'm people raised eatin...\n",
      "7        The Country Choice brand domestically produced...\n",
      "8        tastes good, easy prepare, separate pouches ea...\n",
      "9        Only recently I discovered satisying, interest...\n",
      "10       I enjoyed Tazo tea (Earl Grey favorite) restau...\n",
      "11       I skeptical sister told drug rep suggested bla...\n",
      "12       I seven grand kids. 2 fell play ground equipme...\n",
      "13       I guess I got title wrong. If food left say. I...\n",
      "14       I bought mini buster cube miniature dachshund ...\n",
      "15       I'll confess knowing little different coffees....\n",
      "16       I thrilled flavor available amazon. I seen gro...\n",
      "17       Best Lemonade market. Not sweet, Splenda inste...\n",
      "18       This little babies saved fingers puncture woun...\n",
      "19       I coffee flavoring syrup save money, expensive...\n",
      "20       We ordered jet fuel amazon sent Black Tiger da...\n",
      "21       I'm sorry I opted item. I got apparently count...\n",
      "22       Very tasty fresh. My complaint expiration date...\n",
      "23       Excellent taste low calorie snack. This size b...\n",
      "24       This best alternative soda ever. It light fres...\n",
      "25       A years ago, I worked bed breakfast favorite p...\n",
      "26       I eat marshmallow cones time I kid, I excited ...\n",
      "27       I understood bones 4 - 5 inches long, flimsy. ...\n",
      "28       I felt effects tea day I started. I noticed I ...\n",
      "29       This handy little drawer fits perfectly undern...\n",
      "                               ...                        \n",
      "90970    There ways use product good them. It stores em...\n",
      "90971    Kind Healthy Grains calls cereal, probably goo...\n",
      "90972    A big fan kettle-cooked chips I kid, I tend bu...\n",
      "90973    These bay leaves listed 16.4 oz. I received 4 ...\n",
      "90974    A wonderful way gently feel relaxed sleepy loo...\n",
      "90975    I love these.. They taste wonderful 14g protei...\n",
      "90976    What I say??? This delicious day. Sip til hear...\n",
      "90977    This product Nutiva. Like products company, hi...\n",
      "90978    It hard purchase brand split peas having pleas...\n",
      "90979    We gave month old son yesterday, formula givin...\n",
      "90980    I got Vietnamese soup Pho with.<br /><br />Pro...\n",
      "90981    I thought nice compromise I like dinner, good ...\n",
      "90982    I totally LOVE bars! If you're looking protein...\n",
      "90983    Right consistency, Excelent product overall. T...\n",
      "90984    A retriever's gotta chew! That's do! My bowser...\n",
      "90985    The flavor tea unmatchable. It carried stores ...\n",
      "90986    Vegan. Natural. Kosher. Has \"Certified Gluten-...\n",
      "90987    These tasty, however, nutrition info package, ...\n",
      "90988    I've tried rose flavor Hazer Baba Haci Bekir. ...\n",
      "90989    I SO disappointed. Even I read reviews complai...\n",
      "90990    Terrible! Not cause jam lever seat capsule, fe...\n",
      "90991    La Tourangelle Avocado Oil beautiful pale gree...\n",
      "90992    This favorite desert line. The bite it's like,...\n",
      "90993    This stuff awful. Doesn't taste like chocolate...\n",
      "90994    enjoyed shampoo. Only small needed later entir...\n",
      "90995    Trident Minty Sweet Twist best gum ever. It ke...\n",
      "90996    I love beef jerky good way. It's very, fatty, ...\n",
      "90997    These great dog, loves picky. They healthy add...\n",
      "90998    Kettle best tasting healthiest chips I tried. ...\n",
      "90999    Such great price good gum!! I def. run out!! d...\n",
      "Name: Text, Length: 91000, dtype: object\n"
     ]
    }
   ],
   "source": [
    "from gensim.parsing.preprocessing import remove_stopwords\n",
    "# remove stop words in amazon.Text\n",
    "amazon['Text'] = amazon['Text'].apply(remove_stopwords)\n",
    "#newText = amazon['Text'].apply(remove_stopwords)\n",
    "print(amazon.Text)"
   ]
  },
  {
   "cell_type": "markdown",
   "metadata": {},
   "source": [
    "### Feature extraction on natural language data"
   ]
  },
  {
   "cell_type": "code",
   "execution_count": 6,
   "metadata": {},
   "outputs": [],
   "source": [
    "# # http://scikit-learn.org/stable/modules/generated/sklearn.feature_extraction.text.CountVectorizer.html\n",
    "# from sklearn.feature_extraction.text import CountVectorizer\n",
    "# vectorizer = CountVectorizer()\n",
    "# corpus = amazon.Text.as_matrix()\n",
    "# X_bag_of_words = vectorizer.fit_transform(corpus)\n",
    "# print(X_bag_of_words.toarray())"
   ]
  },
  {
   "cell_type": "code",
   "execution_count": 7,
   "metadata": {},
   "outputs": [
    {
     "name": "stderr",
     "output_type": "stream",
     "text": [
      "/anaconda3/lib/python3.7/site-packages/sklearn/feature_extraction/hashing.py:102: DeprecationWarning: the option non_negative=True has been deprecated in 0.19 and will be removed in version 0.21.\n",
      "  \" in version 0.21.\", DeprecationWarning)\n"
     ]
    },
    {
     "name": "stdout",
     "output_type": "stream",
     "text": [
      "(91000, 131072)\n"
     ]
    }
   ],
   "source": [
    "# vectorize Bag of Words from review text; as sparse matrix\n",
    "# from sklearn.feature_extraction.text import HashingVectorizer\n",
    "# hv = HashingVectorizer(n_features=2 ** 17, non_negative=True)\n",
    "hv = joblib.load('hv.pkl')\n",
    "X_hv = hv.transform(amazon.Text)\n",
    "print(X_hv.shape)"
   ]
  },
  {
   "cell_type": "code",
   "execution_count": 8,
   "metadata": {},
   "outputs": [],
   "source": [
    "# http://scikit-learn.org/stable/modules/generated/sklearn.feature_extraction.text.TfidfTransformer.html\n",
    "# from sklearn.feature_extraction.text import TfidfTransformer\n",
    "# transformer = TfidfTransformer()\n",
    "transformer = joblib.load('transformer.pkl')\n",
    "X_tfidf = transformer.transform(X_hv)"
   ]
  },
  {
   "cell_type": "code",
   "execution_count": 9,
   "metadata": {},
   "outputs": [
    {
     "name": "stdout",
     "output_type": "stream",
     "text": [
      "<class 'scipy.sparse.csr.csr_matrix'>\n"
     ]
    }
   ],
   "source": [
    "print(type(X_tfidf))"
   ]
  },
  {
   "cell_type": "markdown",
   "metadata": {
    "collapsed": true
   },
   "source": [
    "### Create additional quantitative features"
   ]
  },
  {
   "cell_type": "code",
   "execution_count": 10,
   "metadata": {},
   "outputs": [
    {
     "name": "stdout",
     "output_type": "stream",
     "text": [
      "   Score  reviewLen\n",
      "0      3         88\n",
      "1      5       1936\n",
      "2      5        105\n",
      "3      5        118\n",
      "4      3         85\n",
      "5      1        147\n",
      "6      5        448\n",
      "7      5        817\n",
      "8      5         60\n",
      "9      5        382\n",
      "<class 'pandas.core.frame.DataFrame'>\n"
     ]
    }
   ],
   "source": [
    "# features from Amazon.csv to add to feature set\n",
    "amazon['reviewLen'] = amazon['Text'].str.len()\n",
    "\n",
    "X_quant_features = amazon[[\"Score\", \"reviewLen\"]]\n",
    "print(X_quant_features.head(10))\n",
    "print(type(X_quant_features))"
   ]
  },
  {
   "cell_type": "markdown",
   "metadata": {},
   "source": [
    "### Combine all quantitative features into a single sparse matrix"
   ]
  },
  {
   "cell_type": "code",
   "execution_count": 11,
   "metadata": {},
   "outputs": [
    {
     "name": "stdout",
     "output_type": "stream",
     "text": [
      "(91000, 131074)\n"
     ]
    }
   ],
   "source": [
    "from scipy.sparse import csr_matrix, hstack\n",
    "X_quant_features_csr = csr_matrix(X_quant_features)\n",
    "X_combined = hstack([X_tfidf, X_quant_features_csr])\n",
    "X_matrix = csr_matrix(X_combined) # convert to sparse matrix\n",
    "print(X_matrix.shape)"
   ]
  },
  {
   "cell_type": "markdown",
   "metadata": {},
   "source": [
    "### Create `X`, scaled matrix of features"
   ]
  },
  {
   "cell_type": "code",
   "execution_count": 12,
   "metadata": {},
   "outputs": [
    {
     "name": "stdout",
     "output_type": "stream",
     "text": [
      "(91000, 131074)\n"
     ]
    }
   ],
   "source": [
    "# feature scaling\n",
    "# from sklearn.preprocessing import StandardScaler\n",
    "# sc = StandardScaler(with_mean=False)\n",
    "sc = joblib.load('sc.pkl')\n",
    "X = sc.transform(X_matrix)\n",
    "print(X.shape)"
   ]
  },
  {
   "cell_type": "markdown",
   "metadata": {},
   "source": [
    "### create `y`, vector of Labels"
   ]
  },
  {
   "cell_type": "code",
   "execution_count": 13,
   "metadata": {},
   "outputs": [
    {
     "name": "stdout",
     "output_type": "stream",
     "text": [
      "<class 'numpy.ndarray'>\n"
     ]
    }
   ],
   "source": [
    "y = amazon['helpful'].values\n",
    "print(type(y))"
   ]
  },
  {
   "cell_type": "markdown",
   "metadata": {},
   "source": [
    "### predict `y` with the fit on the training set"
   ]
  },
  {
   "cell_type": "code",
   "execution_count": 14,
   "metadata": {},
   "outputs": [
    {
     "name": "stdout",
     "output_type": "stream",
     "text": [
      "{'Pos': 6607, 'Neg': 84393, 'TP': 3165, 'TN': 42844, 'FP': 41549, 'FN': 3442, 'Accuracy': 0.5055934065934066, 'Precision': 0.07078319989265107, 'Recall': 0.47903738459209927, 'desc': 'ols'}\n"
     ]
    }
   ],
   "source": [
    "# MODEL: ordinary least squares\n",
    "# from sklearn import linear_model\n",
    "# ols = linear_model.SGDClassifier(loss=\"squared_loss\")\n",
    "# ols.fit(X, y)\n",
    "# joblib.dump(ols, 'ols.pkl') # pickle\n",
    "ols = joblib.load('ols.pkl') # pickle\n",
    "\n",
    "ols_performance = BinaryClassificationPerformance(ols.predict(X), y, 'ols')\n",
    "ols_performance.compute_measures()\n",
    "print(ols_performance.performance_measures)"
   ]
  },
  {
   "cell_type": "code",
   "execution_count": 15,
   "metadata": {},
   "outputs": [
    {
     "name": "stdout",
     "output_type": "stream",
     "text": [
      "{'Pos': 6607, 'Neg': 84393, 'TP': 1723, 'TN': 78454, 'FP': 5939, 'FN': 4884, 'Accuracy': 0.881065934065934, 'Precision': 0.22487601148525188, 'Recall': 0.2607840169517179, 'desc': 'svm'}\n"
     ]
    }
   ],
   "source": [
    "# MODEL: SVM, linear\n",
    "# from sklearn import linear_model\n",
    "# svm = linear_model.SGDClassifier()\n",
    "# svm.fit(X, y)\n",
    "# joblib.dump(svm, 'svm.pkl') # pickle\n",
    "svm = joblib.load('svm.pkl') # pickle\n",
    "\n",
    "svm_performance = BinaryClassificationPerformance(svm.predict(X), y, 'svm')\n",
    "svm_performance.compute_measures()\n",
    "print(svm_performance.performance_measures)"
   ]
  },
  {
   "cell_type": "code",
   "execution_count": 16,
   "metadata": {},
   "outputs": [
    {
     "name": "stdout",
     "output_type": "stream",
     "text": [
      "{'Pos': 6607, 'Neg': 84393, 'TP': 1454, 'TN': 81895, 'FP': 2498, 'FN': 5153, 'Accuracy': 0.915923076923077, 'Precision': 0.36791497975708504, 'Recall': 0.22006962312698652, 'desc': 'lgs'}\n"
     ]
    }
   ],
   "source": [
    "# MODEL: logistic regression\n",
    "# from sklearn import linear_model\n",
    "# lgs = linear_model.SGDClassifier(loss='log', n_iter=50, alpha=0.00001)\n",
    "# lgs.fit(X, y)\n",
    "# joblib.dump(lgs, 'lgs.pkl') # pickle\n",
    "lgs = joblib.load('lgs.pkl')\n",
    "\n",
    "lgs_performance = BinaryClassificationPerformance(lgs.predict(X), y, 'lgs')\n",
    "lgs_performance.compute_measures()\n",
    "print(lgs_performance.performance_measures)"
   ]
  },
  {
   "cell_type": "code",
   "execution_count": 17,
   "metadata": {},
   "outputs": [
    {
     "name": "stdout",
     "output_type": "stream",
     "text": [
      "{'Pos': 6607, 'Neg': 84393, 'TP': 2628, 'TN': 71740, 'FP': 12653, 'FN': 3979, 'Accuracy': 0.8172307692307692, 'Precision': 0.17197827367318894, 'Recall': 0.39775995156652033, 'desc': 'nbs'}\n"
     ]
    }
   ],
   "source": [
    "# MODEL: Naive Bayes\n",
    "# from sklearn.naive_bayes import MultinomialNB\n",
    "# nbs = MultinomialNB()\n",
    "# nbs.fit(X, y)\n",
    "# joblib.dump(nbs, 'nbs.pkl') # pickle\n",
    "nbs = joblib.load('nbs.pkl')\n",
    "\n",
    "nbs_performance = BinaryClassificationPerformance(nbs.predict(X), y, 'nbs')\n",
    "nbs_performance.compute_measures()\n",
    "print(nbs_performance.performance_measures)"
   ]
  },
  {
   "cell_type": "code",
   "execution_count": 18,
   "metadata": {},
   "outputs": [
    {
     "name": "stdout",
     "output_type": "stream",
     "text": [
      "{'Pos': 6607, 'Neg': 84393, 'TP': 1771, 'TN': 77936, 'FP': 6457, 'FN': 4836, 'Accuracy': 0.8759010989010989, 'Precision': 0.21524064171122995, 'Recall': 0.26804903889813836, 'desc': 'prc'}\n"
     ]
    }
   ],
   "source": [
    "# MODEL: Perceptron\n",
    "# from sklearn import linear_model\n",
    "# prc = linear_model.SGDClassifier(loss='perceptron')\n",
    "# prc.fit(X, y)\n",
    "# joblib.dump(prc, 'prc.pkl') # pickle\n",
    "prc = joblib.load('prc.pkl')\n",
    "\n",
    "prc_performance = BinaryClassificationPerformance(prc.predict(X), y, 'prc')\n",
    "prc_performance.compute_measures()\n",
    "print(prc_performance.performance_measures)"
   ]
  },
  {
   "cell_type": "code",
   "execution_count": 19,
   "metadata": {},
   "outputs": [
    {
     "name": "stdout",
     "output_type": "stream",
     "text": [
      "{'Pos': 6607, 'Neg': 84393, 'TP': 948, 'TN': 82986, 'FP': 1407, 'FN': 5659, 'Accuracy': 0.9223516483516484, 'Precision': 0.40254777070063696, 'Recall': 0.14348418344180414, 'desc': 'rdg'}\n"
     ]
    }
   ],
   "source": [
    "# MODEL: Ridge Regression Classifier\n",
    "# from sklearn import linear_model\n",
    "# rdg = linear_model.RidgeClassifier()\n",
    "# rdg.fit(X, y)\n",
    "# joblib.dump(rdg, 'rdg.pkl') # pickle\n",
    "rdg = joblib.load('rdg.pkl')\n",
    "\n",
    "rdg_performance = BinaryClassificationPerformance(rdg.predict(X), y, 'rdg')\n",
    "rdg_performance.compute_measures()\n",
    "print(rdg_performance.performance_measures)"
   ]
  },
  {
   "cell_type": "code",
   "execution_count": 20,
   "metadata": {},
   "outputs": [
    {
     "name": "stdout",
     "output_type": "stream",
     "text": [
      "{'Pos': 6607, 'Neg': 84393, 'TP': 1284, 'TN': 83554, 'FP': 839, 'FN': 5323, 'Accuracy': 0.9322857142857143, 'Precision': 0.6048045219029675, 'Recall': 0.1943393370667474, 'desc': 'dtc'}\n"
     ]
    }
   ],
   "source": [
    "# MODEL: Decision Tree Classifier\n",
    "# from sklearn import tree\n",
    "# dtc = tree.DecisionTreeClassifier(max_depth=100)\n",
    "# dtc.fit(X_matrix, y)\n",
    "# joblib.dump(dtc, 'dtc.pkl') # pickle\n",
    "dtc = joblib.load('dtc.pkl')\n",
    "\n",
    "dtc_performance = BinaryClassificationPerformance(dtc.predict(X_matrix), y, 'dtc')\n",
    "dtc_performance.compute_measures()\n",
    "print(dtc_performance.performance_measures)"
   ]
  },
  {
   "cell_type": "markdown",
   "metadata": {},
   "source": [
    "### ROC plot to compare performance of various models and fits"
   ]
  },
  {
   "cell_type": "code",
   "execution_count": 21,
   "metadata": {},
   "outputs": [
    {
     "data": {
      "image/png": "[encoded data removed]",
      "text/plain": [
       "<Figure size 432x288 with 1 Axes>"
      ]
     },
     "metadata": {
      "needs_background": "light"
     },
     "output_type": "display_data"
    }
   ],
   "source": [
    "fits = [svm_performance, lgs_performance, nbs_performance, rdg_performance, prc_performance, ols_performance, dtc_performance]\n",
    "\n",
    "for fit in fits:\n",
    "    plt.plot(fit.performance_measures['FP'] / fit.performance_measures['Neg'], \n",
    "             fit.performance_measures['TP'] / fit.performance_measures['Pos'], 'bo')\n",
    "    plt.text(fit.performance_measures['FP'] / fit.performance_measures['Neg'], \n",
    "             fit.performance_measures['TP'] / fit.performance_measures['Pos'], fit.desc)\n",
    "plt.axis([0, 1, 0, 1])\n",
    "plt.title('ROC plot: test set')\n",
    "plt.xlabel('False positive rate')\n",
    "plt.ylabel('True positive rate')\n",
    "plt.show()"
   ]
  },
  {
   "cell_type": "markdown",
   "metadata": {
    "collapsed": true
   },
   "source": [
    "### looking at reviews based on their classification\n",
    "\n",
    "Let's say we decide that Ridge Regression is the best model for generalization. Let's take a look at some of the reviews and try to make a (subjective) determination of whether it's generalizing well. "
   ]
  },
  {
   "cell_type": "code",
   "execution_count": 22,
   "metadata": {},
   "outputs": [
    {
     "data": {
      "text/plain": [
       "\"strong taste good! In opinion it's exactly substitute coffee tastes good mixed together.\""
      ]
     },
     "execution_count": 22,
     "metadata": {},
     "output_type": "execute_result"
    }
   ],
   "source": [
    "amazon.loc[0, \"Text\"]"
   ]
  },
  {
   "cell_type": "code",
   "execution_count": 23,
   "metadata": {},
   "outputs": [
    {
     "data": {
      "text/plain": [
       "False"
      ]
     },
     "execution_count": 23,
     "metadata": {},
     "output_type": "execute_result"
    }
   ],
   "source": [
    "amazon.loc[0, \"helpful\"]"
   ]
  },
  {
   "cell_type": "code",
   "execution_count": 24,
   "metadata": {},
   "outputs": [],
   "source": [
    "ridge_predictions = rdg.predict(X)"
   ]
  },
  {
   "cell_type": "code",
   "execution_count": 66,
   "metadata": {},
   "outputs": [
    {
     "data": {
      "text/plain": [
       "(91000,)"
      ]
     },
     "execution_count": 66,
     "metadata": {},
     "output_type": "execute_result"
    }
   ],
   "source": [
    "ridge_predictions.shape"
   ]
  },
  {
   "cell_type": "code",
   "execution_count": 67,
   "metadata": {},
   "outputs": [
    {
     "name": "stdout",
     "output_type": "stream",
     "text": [
      "[False False False ... False False False]\n"
     ]
    }
   ],
   "source": [
    "print(ridge_predictions)"
   ]
  },
  {
   "cell_type": "code",
   "execution_count": 68,
   "metadata": {},
   "outputs": [
    {
     "name": "stdout",
     "output_type": "stream",
     "text": [
      "6795\n",
      "2012-01-04 00:00:00\n",
      "5\n",
      "2\n",
      "B001DP4TRQ\n",
      "\"Diet Fountain Mist\" for the <a href=\"http://www.amazon.com/gp/product/B001KYT6CS\">Sodastream Fountain Jet Soda Maker Starter Kit</a> is the most preferred \"diet\" syrup flavor for my family. It does taste a lot like diet Mountain Dew, but I found it takes just a little more than the recommended amount of syrup to get it strong enough.<br /><br />Highly Recommended!<br /><br />CFH\n",
      "* * * * * * * * * \n",
      "25005\n",
      "2011-02-23 00:00:00\n",
      "4\n",
      "0\n",
      "B002NHYQAS\n",
      "This chocolate bar arrived today, and I didn't wait very long before trying it! :) What can I say, I can't resist chocolate. And I liked it!<br /><br />It's 54% cacao, so it's not going to be the most intense dark chocolate experience you've ever had. But it's quite tasty, and if you think the darker chocolates are too bitter, this may be exactly what you were looking for.<br /><br />It probably won't make me break up with my usual indulgence, Ghirardelli's squares, but I'd definitely consider a dalliance from time to time. Mmm, chocolate.\n",
      "* * * * * * * * * \n",
      "36246\n",
      "2009-05-11 00:00:00\n",
      "5\n",
      "1\n",
      "B001LG943G\n",
      "This is one canned juice drink that I really like. Its not too sweet and has a nice clean flavor. The only things that I didn't really care about is that its a little over carbinated for me, and there isn't really enough of it when I'm used to 16 oz. size or larger drinks. The cans could be at least a little bigger.<br />  One other thing that I really liked about it is a little shot of Spiced Rum goes good with it too.\n",
      "* * * * * * * * * \n",
      "36500\n",
      "2011-03-20 00:00:00\n",
      "1\n",
      "9\n",
      "B000V1LXTU\n",
      "I have used this formerly terrifc product for over 10 years.  It was the only canned chicken sold in North America that contained no food additives.  It was just chicken, water, and sea salt.<br /><br />As of this month( March 2011) new labelling and contents  have appeared.  The label now proclaims \"Better Flavor\".<br /><br />The product now contains 50% more sodium - at a time when many manufacturers are either cutting back on salt content or introducing \"reduced sodium\" vesions of their tradtional products.<br /><br />Worse yet, the \"Better Flavor\" is achieved by adding \"rice starch\", \"vegetable starch\" ( a call to the company revealed that this is potato starch) and \"chicken broth\" - which contains, among other listed ingredients, \"natural flavor\" (derived from corn - an increasingly common food allergen ).<br /><br />This product is now useless to me as I am highly sensitive to corn products.  While the label still claims the product is gluten free, which was pretty much guaranteed before, since it had only chicken water and sea salt in it, this claim is now somewhat suspect in as much as with the introduction of each new additive, there is the possiblitly of cross contamination in the prodution of the various grain based starches and \"flavors\"<br /><br />The company needs to re-think this change.  What made them unique and a mainstay for people on specialized diets, was their plain and simple good food.  Now they are little differnt from every other canned meat that is adulterated with unecessary and unwanted food additives.<br /><br />They can kiss goodbye all their former customers who are allergic to or sensitive to corn, processed starches, who are on the Atkins or no grain diets, who have arthritis which is exacerbated by potatoes, and who avoid processed food additives in general.<br /><br />The company also needs to be more up front in their new labelling and say \"potato starch\" rather than \"vegetable starch\" AND in bold print say \"Contains Corn\" to warn customers who are allergic to corn products that they probably should now avoid the product.<br /><br />Hopefully this \"Better Flavor\" change will be about as successful as New Coke\" and we will see Valley Fresh \"Classic\" chicken in a year so.\n",
      "* * * * * * * * * \n",
      "61869\n",
      "2006-10-23 00:00:00\n",
      "5\n",
      "31\n",
      "B000PKFZH8\n",
      "First thing is I did not purchase crab legs from Omaha as the price  is 10 steps beyond gouging. Here in the NY area they can be purchased for $7.99 a pound, no S&H. There are 2 sizes of legs, larger and smaller [usually referred to as A's & B's] with the larger being approximately $2.00 a pound more.<br /><br />Considering that there's more shell weight than meat weight, $25 a pound is completely outrageous.<br /><br />Look elsewhere for your crab legs. I hope Amazon takes note of this review.\n",
      "* * * * * * * * * \n",
      "85806\n",
      "2012-01-08 00:00:00\n",
      "5\n",
      "0\n",
      "B003161EV4\n",
      "I read somewhere that this was the only espresso worth buying preground and to give it a try if you didn't want to spend $300 on a Rocky or similar big-buck grinder. The taste is smooth and sweet, not overpowering or bitter. It's a great espresso, affordable, proper grind, and works with my Sylvia - which by all accounts can be a temperamental machine. I've been using Blu + Sylvia for over a year now and get perfect espresso for shots or latte/cappuccino drinks every time.\n",
      "* * * * * * * * * \n",
      "87274\n",
      "2012-03-18 00:00:00\n",
      "5\n",
      "0\n",
      "B001E5E1MI\n",
      "This is an amazing product. I use it as a face cleanser--it leaves my skin so soft, I put it in my coffee for coconut flavor and in my scrambled eggs because it is so beneficial to the body--antiviral, anti fungal, etc., I rub it on my feet and legs to relieve diabetic muscle cramps. It is a medium chain fat and therefore does not store fat the way other oils do. You can use it in food in place of other oils. It is going to be a staple in my house. (My mom was having an allergic reaction to meds on her skin and we rubbed coconut oil on it and within mins it went away!!!! Also, after having blood drawn I had a big bruise on my arm which as a diabetic would take many months to go away, well I rubbed coconut oil on it and it was gone in about four days!!).\n",
      "* * * * * * * * * \n"
     ]
    }
   ],
   "source": [
    "# false positives\n",
    "\n",
    "import random, time\n",
    "\n",
    "for i in range(0, len(ridge_predictions)):\n",
    "    if (ridge_predictions[i] == True):\n",
    "        if (amazon.loc[i, \"helpful\"] == False):\n",
    "            if (random.uniform(0, 1) < 0.05):\n",
    "                print(i)\n",
    "                print(time.strftime('%Y-%m-%d %H:%M:%S', time.gmtime(amazon.loc[i, \"Time\"])))\n",
    "                print(amazon.loc[i, \"Score\"])\n",
    "                print(amazon.loc[i, \"HelpfulnessDenominator\"])\n",
    "                print(amazon.loc[i, \"ProductId\"])\n",
    "                print(amazon.loc[i, \"Text\"])\n",
    "                print('* * * * * * * * * ')"
   ]
  },
  {
   "cell_type": "code",
   "execution_count": null,
   "metadata": {},
   "outputs": [],
   "source": []
  }
 ],
 "metadata": {
  "kernelspec": {
   "display_name": "Python 3",
   "language": "python",
   "name": "python3"
  },
  "language_info": {
   "codemirror_mode": {
    "name": "ipython",
    "version": 3
   },
   "file_extension": ".py",
   "mimetype": "text/x-python",
   "name": "python",
   "nbconvert_exporter": "python",
   "pygments_lexer": "ipython3",
   "version": "3.7.1"
  }
 },
 "nbformat": 4,
 "nbformat_minor": 1
}
