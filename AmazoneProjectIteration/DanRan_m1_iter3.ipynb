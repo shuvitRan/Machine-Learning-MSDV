{
 "cells": [
  {
   "cell_type": "markdown",
   "metadata": {},
   "source": [
    "# Test Set"
   ]
  },
  {
   "cell_type": "code",
   "execution_count": 1,
   "metadata": {},
   "outputs": [],
   "source": [
    "import numpy as np\n",
    "import pandas as pd\n",
    "import matplotlib.pyplot as plt\n",
    "from sklearn.externals import joblib\n",
    "from my_measures import BinaryClassificationPerformance\n",
    "%matplotlib inline\n",
    "from tqdm import tqdm"
   ]
  },
  {
   "cell_type": "markdown",
   "metadata": {},
   "source": [
    "### Read raw test data"
   ]
  },
  {
   "cell_type": "code",
   "execution_count": 2,
   "metadata": {},
   "outputs": [
    {
     "name": "stdout",
     "output_type": "stream",
     "text": [
      "(91000, 14)\n"
     ]
    }
   ],
   "source": [
    "amazon = pd.read_csv('/Users/working/Documents/ParsonsSchool/Sp19/MachineLearning/DATASET/amazon_data/raw_data_test.csv')\n",
    "\n",
    "print(amazon.shape)"
   ]
  },
  {
   "cell_type": "code",
   "execution_count": 3,
   "metadata": {},
   "outputs": [
    {
     "name": "stdout",
     "output_type": "stream",
     "text": [
      "strong taste but good! In my opinion it's not exactly a substitute for coffee but tastes really good mixed together.\n"
     ]
    }
   ],
   "source": [
    "print(amazon.loc[0, \"Text\"])"
   ]
  },
  {
   "cell_type": "code",
   "execution_count": 4,
   "metadata": {
    "scrolled": true
   },
   "outputs": [
    {
     "name": "stdout",
     "output_type": "stream",
     "text": [
      "   Unnamed: 0  Unnamed: 0.1      Id   ProductId          UserId  \\\n",
      "0      207103        112082  112083  B002Y2QT2K  A22Y5TJPN98DWB   \n",
      "1      139933        224640  224641  B009D53XKC  A3MDY6Y3Z6D649   \n",
      "2       76100        399707  399708  B005GIF5WY  A3LCQXQ4SFYBAU   \n",
      "3      114178        567900  567901  B005K4Q68Q  A2E65ZXD654761   \n",
      "4      285272        263134  263135  B002WW3BW8  A1XAZ0MR4TRY16   \n",
      "\n",
      "                  ProfileName  HelpfulnessNumerator  HelpfulnessDenominator  \\\n",
      "0                Eva Juergens                     1                       1   \n",
      "1  The Man Behind the Curtain                     1                       1   \n",
      "2                  Johna Jane                     0                       0   \n",
      "3                   Barbara L                     0                       0   \n",
      "4                        bfn1                     0                       0   \n",
      "\n",
      "   Score        Time                          Summary  \\\n",
      "0      3  1339286400                 chicory \"coffee\"   \n",
      "1      5  1326844800  This salt will change your life   \n",
      "2      5  1345420800                   Cat's favorite   \n",
      "3      5  1351036800                    Great tasting   \n",
      "4      3  1311552000                               OK   \n",
      "\n",
      "                                                Text  helpScore  helpful  \n",
      "0  strong taste but good! In my opinion it's not ...        1.0    False  \n",
      "1  Those searching high and low for salt that wil...        1.0    False  \n",
      "2  These treats are my picky cat's favorite.  I'v...        NaN    False  \n",
      "3  The price was as fantastic as the taste. So co...        NaN    False  \n",
      "4  Alot of chocolate; not so much coffee bean.  N...        NaN    False  \n",
      "0.0726043956043956\n"
     ]
    }
   ],
   "source": [
    "print(amazon.head())\n",
    "print(amazon['helpful'].mean())"
   ]
  },
  {
   "cell_type": "markdown",
   "metadata": {},
   "source": [
    "### Lemmatization "
   ]
  },
  {
   "cell_type": "markdown",
   "metadata": {},
   "source": [
    "#### Important : Gensim lemmatization requires Python version 3.6 and ‘pattern’ package is installed."
   ]
  },
  {
   "cell_type": "code",
   "execution_count": 5,
   "metadata": {},
   "outputs": [
    {
     "name": "stderr",
     "output_type": "stream",
     "text": [
      "\r",
      "  0%|          | 0/91000 [00:00<?, ?it/s]"
     ]
    },
    {
     "name": "stdout",
     "output_type": "stream",
     "text": [
      "**************************************************\n"
     ]
    },
    {
     "name": "stderr",
     "output_type": "stream",
     "text": [
      "100%|██████████| 91000/91000 [12:48<00:00, 118.40it/s]\n"
     ]
    }
   ],
   "source": [
    "#Lemmatization \n",
    "from gensim.utils import lemmatize\n",
    "print('**************************************************')\n",
    "amaLemma=[]\n",
    "for w in tqdm(amazon['Text']):\n",
    "    amaLemma.append([wd.decode('utf-8').split('/')[0] for wd in lemmatize(w)])"
   ]
  },
  {
   "cell_type": "code",
   "execution_count": 19,
   "metadata": {},
   "outputs": [
    {
     "name": "stdout",
     "output_type": "stream",
     "text": [
      "                                                       0\n",
      "0      [strong, taste, good, opinion, not, exactly, s...\n",
      "1      [search, high, low, salt, change, life, end, j...\n",
      "2      [treat, be, picky, cat, favorite, ve, try, dif...\n",
      "3      [price, be, fantastic, taste, so, convenient, ...\n",
      "4      [alot, chocolate, not, so, much, coffee, bean,...\n",
      "5      [look, ingredient, water, wheat, salt, sugar, ...\n",
      "6      [love, love, bread, mix, person, be, raise, ea...\n",
      "7      [country, choice, brand, be, domestically, pro...\n",
      "8      [taste, good, easy, prepare, separate, pouch, ...\n",
      "9      [only, recently, have, discover, satisy, inter...\n",
      "10     [always, enjoy, tazo, tea, earl, grey, be, fav...\n",
      "11     [be, skeptical, sister, tell, drug, rep, have,...\n",
      "12     [have, grand, kid, fall, play, ground, equipme...\n",
      "13     [guess, get, title, wrong, be, food, left, be,...\n",
      "14     [buy, mini, buster, cube, miniature, dachshund...\n",
      "15     [ll, confess, know, little, different, coffee,...\n",
      "16     [be, thrill, find, flavor, available, amazon, ...\n",
      "17     [best, lemonade, market, not, too, sweet, sple...\n",
      "18     [little, baby, have, save, finger, many, punct...\n",
      "19     [make, own, coffee, flavoring, syrup, save, mo...\n",
      "20     [order, jet, fuel, amazon, send, black, tiger,...\n",
      "21     [sorry, opt, item, get, only, apparently, coun...\n",
      "22     [very, tasty, fresh, only, complaint, be, expi...\n",
      "23     [excellent, taste, low, calorie, snack, size, ...\n",
      "24     [be, best, alternative, soda, ever, be, light,...\n",
      "25     [few, year, work, bed, breakfast, favorite, pa...\n",
      "26     [used, eat, marshmallow, cone, time, be, kid, ...\n",
      "27     [understood, bone, be, inch, long, be, thin, v...\n",
      "28     [feel, effect, tea, first, day, start, notice,...\n",
      "29     [handy, little, drawer, fit, perfectly, keurig...\n",
      "...                                                  ...\n",
      "90970  [be, so, many, way, use, product, be, so, good...\n",
      "90971  [kind, healthy, grain, never, call, cereal, be...\n",
      "90972  [big, fan, kettle, cook, chip, be, kid, tend, ...\n",
      "90973  [bay, leaf, be, list, oz, receive, oz, br, hav...\n",
      "90974  [wonderful, way, gently, feel, relaxed, sleepy...\n",
      "90975  [love, taste, wonderful, have, protein, calory...\n",
      "90976     [say, be, delicious, day, sip, heart, content]\n",
      "90977  [product, be, nutiva, other, product, company,...\n",
      "90978  [be, very, hard, purchase, other, brand, split...\n",
      "90979  [give, month, old, son, yesterday, then, find,...\n",
      "90980  [get, make, vietnamese, soup, pho, br, br, pro...\n",
      "90981  [think, be, nice, compromise, dinner, good, ch...\n",
      "90982  [totally, love, bar, re, look, protein, bar, b...\n",
      "90983  [right, consistency, excelent, product, overal...\n",
      "90984  [retriever, gotta, chew, do, bowser, tend, ign...\n",
      "90985  [flavor, tea, be, unmatchable, be, not, carry,...\n",
      "90986  [vegan, natural, kosher, have, certify, gluten...\n",
      "90987  [be, tasty, however, nutrition, info, package,...\n",
      "90988  [ve, try, rise, flavor, hazer, baba, haci, bek...\n",
      "90989  [be, so, disappointed, even, read, many, revie...\n",
      "90990  [terrible, not, only, do, cause, have, jam, le...\n",
      "90991  [la, tourangelle, avocado, oil, have, beautifu...\n",
      "90992  [be, least, favorite, desert, line, first, bit...\n",
      "90993  [stuff, be, just, awful, doesn, taste, chocola...\n",
      "90994  [really, enjoy, shampoo, only, small, amount, ...\n",
      "90995  [trident, minty, sweet, twist, be, best, gum, ...\n",
      "90996  [love, beef, jerky, be, not, good, way, very, ...\n",
      "90997  [be, great, dog, love, be, picky, be, healthy,...\n",
      "90998  [kettle, be, best, taste, healthiest, chip, ha...\n",
      "90999  [great, price, really, good, gum, def, be, bac...\n",
      "\n",
      "[91000 rows x 1 columns]\n"
     ]
    }
   ],
   "source": [
    "amaNp=np.array(amaLemma)\n",
    "amaDF=pd.DataFrame(amaNp)\n",
    "\n",
    "amaDF.to_csv('/Users/working/Documents/ParsonsSchool/Sp19/MachineLearning/DATASET/amazon_data/AmazonLemmatizedTestingwithStopWords.csv')\n",
    "print(amaDF)"
   ]
  },
  {
   "cell_type": "code",
   "execution_count": 20,
   "metadata": {},
   "outputs": [
    {
     "name": "stdout",
     "output_type": "stream",
     "text": [
      "0    strong taste good opinion not exactly substitu...\n",
      "1    search high low salt change life end journey m...\n",
      "2    treat be picky cat favorite ve try different b...\n",
      "3    price be fantastic taste so convenient make me...\n",
      "4    alot chocolate not so much coffee bean not big...\n",
      "Name: 0, dtype: object\n"
     ]
    }
   ],
   "source": [
    "#JOIN LIST TO STR\n",
    "\n",
    "amaDFOut = amaDF[0].apply(' '.join)\n",
    "print(amaDFOut.head())\n"
   ]
  },
  {
   "cell_type": "markdown",
   "metadata": {},
   "source": [
    "### Feature extraction on natural language data"
   ]
  },
  {
   "cell_type": "code",
   "execution_count": 21,
   "metadata": {},
   "outputs": [
    {
     "name": "stdout",
     "output_type": "stream",
     "text": [
      "(91000, 76362)\n"
     ]
    }
   ],
   "source": [
    "# # http://scikit-learn.org/stable/modules/generated/sklearn.feature_extraction.text.CountVectorizer.html\n",
    "# from sklearn.feature_extraction.text import CountVectorizer\n",
    "# vectorizer = CountVectorizer()\n",
    "# corpus = amazon.Text.as_matrix()\n",
    "# X_bag_of_words = vectorizer.fit_transform(corpus)\n",
    "# print(X_bag_of_words.toarray())\n",
    "hv = joblib.load('vectorizer.pkl')\n",
    "X_hv = hv.transform(amaDFOut)\n",
    "print(X_hv.shape)"
   ]
  },
  {
   "cell_type": "code",
   "execution_count": 22,
   "metadata": {},
   "outputs": [],
   "source": [
    "# # vectorize Bag of Words from review text; as sparse matrix\n",
    "# # from sklearn.feature_extraction.text import HashingVectorizer\n",
    "# # hv = HashingVectorizer(n_features=2 ** 17, non_negative=True)\n",
    "# hv = joblib.load('hv.pkl')\n",
    "# #X_hv = hv.transform(amazon.Text)\n",
    "# X_hv = hv.transform(amaDFOut)\n",
    "# print(X_hv.shape)\n",
    "# # print(hv.shape)"
   ]
  },
  {
   "cell_type": "code",
   "execution_count": 32,
   "metadata": {},
   "outputs": [],
   "source": [
    "# http://scikit-learn.org/stable/modules/generated/sklearn.feature_extraction.text.TfidfTransformer.html\n",
    "# from sklearn.feature_extraction.text import TfidfTransformer\n",
    "# transformer = TfidfTransformer()\n",
    "transformer = joblib.load('transformer.pkl')\n",
    "X_tfidf = transformer.transform(X_hv)"
   ]
  },
  {
   "cell_type": "code",
   "execution_count": 33,
   "metadata": {},
   "outputs": [
    {
     "name": "stdout",
     "output_type": "stream",
     "text": [
      "<class 'scipy.sparse.csr.csr_matrix'>\n"
     ]
    }
   ],
   "source": [
    "print(type(X_tfidf))"
   ]
  },
  {
   "cell_type": "markdown",
   "metadata": {},
   "source": [
    "### Time Converting "
   ]
  },
  {
   "cell_type": "code",
   "execution_count": 34,
   "metadata": {},
   "outputs": [
    {
     "name": "stdout",
     "output_type": "stream",
     "text": [
      "90990     7\n",
      "90991     2\n",
      "90992     2\n",
      "90993     4\n",
      "90994     8\n",
      "90995     2\n",
      "90996     9\n",
      "90997     7\n",
      "90998     7\n",
      "90999    10\n",
      "Name: amaMonth, dtype: int64\n",
      "0    5\n",
      "1    1\n",
      "2    6\n",
      "3    1\n",
      "4    6\n",
      "5    2\n",
      "6    0\n",
      "7    4\n",
      "8    0\n",
      "9    6\n",
      "Name: amaDay, dtype: int64\n",
      "0    2012\n",
      "1    2012\n",
      "2    2012\n",
      "3    2012\n",
      "4    2011\n",
      "5    2012\n",
      "6    2011\n",
      "7    2010\n",
      "8    2010\n",
      "9    2008\n",
      "Name: amaYear, dtype: int64\n"
     ]
    }
   ],
   "source": [
    "import datetime\n",
    "\n",
    "\n",
    "amazon['amaRead'] = amazon['Time'].apply(datetime.datetime.fromtimestamp)\n",
    "amazon['amaMonth'] = amazon['amaRead'].apply(datetime.datetime.strftime, format=(\"%m\"))\n",
    "amazon['amaMonth'] = amazon['amaMonth'].apply(int)\n",
    "amazon['amaDay'] =amazon['amaRead'].apply(datetime.datetime.weekday)#is , format=(\"%A\"))\n",
    "\n",
    "\n",
    "amazon['amaYear']=amazon['amaRead'].apply(datetime.datetime.strftime, format=(\"%Y\"))\n",
    "amazon['amaYear']= amazon['amaYear'].apply(int)\n",
    "# amazon['readableamaDay'] =amazon['amaRead'].apply(datetime.datetime.strftime , format=(\"%A\"))\n",
    "# print(amazon['amaRead'].tail(10))\n",
    "print(amazon['amaMonth'].tail(10))\n",
    "print(amazon['amaDay'].head(10))\n",
    "print(amazon['amaYear'].head(10))\n"
   ]
  },
  {
   "cell_type": "markdown",
   "metadata": {
    "collapsed": true
   },
   "source": [
    "### Create additional quantitative features"
   ]
  },
  {
   "cell_type": "code",
   "execution_count": 35,
   "metadata": {},
   "outputs": [
    {
     "name": "stdout",
     "output_type": "stream",
     "text": [
      "   reviewLen  Score  reviewLenAfterLe  amaDay  amaMonth  revPlusScore  \\\n",
      "0        116      3                88       5         6           348   \n",
      "1       2915      5              1911       1         1         14575   \n",
      "2        152      5                97       6         8           760   \n",
      "3        167      5               109       1        10           835   \n",
      "4        120      3                90       6         7           360   \n",
      "5        193      1               133       2        10           193   \n",
      "6        732      5               428       0         3          3660   \n",
      "7       1122      5               792       4         2          5610   \n",
      "8         88      5                59       0        10           440   \n",
      "9        549      5               390       6         2          2745   \n",
      "\n",
      "   amaYear  revLenMinLe  \n",
      "0     2012           28  \n",
      "1     2012         1004  \n",
      "2     2012           55  \n",
      "3     2012           58  \n",
      "4     2011           30  \n",
      "5     2012           60  \n",
      "6     2011          304  \n",
      "7     2010          330  \n",
      "8     2010           29  \n",
      "9     2008          159  \n",
      "<class 'pandas.core.frame.DataFrame'>\n"
     ]
    }
   ],
   "source": [
    "# features from Amazon.csv to add to feature set\n",
    "amazon['reviewLen'] = amazon['Text'].str.len()\n",
    "amazon['reviewLenAfterLe'] = amaDFOut.str.len()\n",
    "# X_quant_features = amazon[[\"Score\", \"reviewLen\"]]\n",
    "# X_quant_features = amazon[[\"Score\", \"reviewLen\",\"amaDay\",\"amaHour\"]]\n",
    "amazon['revPlusScore']=  amazon['reviewLen']*amazon['Score']\n",
    "amazon['revLenMinLe']=amazon['reviewLen']-amazon['reviewLenAfterLe']\n",
    "\n",
    "X_quant_features = amazon[[\"reviewLen\",\"Score\",\"reviewLenAfterLe\",\"amaDay\", \"amaMonth\", \"revPlusScore\", \"amaYear\",\"revLenMinLe\"]]\n",
    "\n",
    "print(X_quant_features.head(10))\n",
    "print(type(X_quant_features))"
   ]
  },
  {
   "cell_type": "markdown",
   "metadata": {},
   "source": [
    "### Combine all quantitative features into a single sparse matrix"
   ]
  },
  {
   "cell_type": "code",
   "execution_count": 36,
   "metadata": {},
   "outputs": [
    {
     "name": "stdout",
     "output_type": "stream",
     "text": [
      "(91000, 76370)\n"
     ]
    }
   ],
   "source": [
    "from scipy.sparse import csr_matrix, hstack\n",
    "X_quant_features_csr = csr_matrix(X_quant_features)\n",
    "X_combined = hstack([X_tfidf, X_quant_features_csr])\n",
    "X_matrix = csr_matrix(X_combined) # convert to sparse matrix\n",
    "print(X_matrix.shape)"
   ]
  },
  {
   "cell_type": "markdown",
   "metadata": {},
   "source": [
    "### Create `X`, scaled matrix of features"
   ]
  },
  {
   "cell_type": "code",
   "execution_count": 37,
   "metadata": {},
   "outputs": [
    {
     "name": "stdout",
     "output_type": "stream",
     "text": [
      "(91000, 76370)\n"
     ]
    }
   ],
   "source": [
    "# feature scaling\n",
    "# from sklearn.preprocessing import StandardScaler\n",
    "# sc = StandardScaler(with_mean=False)\n",
    "sc = joblib.load('sc.pkl')\n",
    "X = sc.transform(X_matrix)\n",
    "print(X.shape)"
   ]
  },
  {
   "cell_type": "markdown",
   "metadata": {},
   "source": [
    "### create `y`, vector of Labels"
   ]
  },
  {
   "cell_type": "code",
   "execution_count": 38,
   "metadata": {},
   "outputs": [
    {
     "name": "stdout",
     "output_type": "stream",
     "text": [
      "<class 'numpy.ndarray'>\n"
     ]
    }
   ],
   "source": [
    "y = amazon['helpful'].values\n",
    "print(type(y))"
   ]
  },
  {
   "cell_type": "code",
   "execution_count": 39,
   "metadata": {},
   "outputs": [
    {
     "name": "stdout",
     "output_type": "stream",
     "text": [
      "{'Pos': 6607, 'Neg': 84393, 'TP': 2669, 'TN': 81527, 'FP': 2866, 'FN': 3938, 'Accuracy': 0.9252307692307692, 'Precision': 0.4822041553748871, 'Recall': 0.40396549114575453, 'desc': 'dtc'}\n"
     ]
    }
   ],
   "source": [
    "# MODEL: Decision Tree Classifier\n",
    "# from sklearn import tree\n",
    "# dtc = tree.DecisionTreeClassifier(max_depth=100)\n",
    "# dtc.fit(X_matrix, y)\n",
    "# joblib.dump(dtc, 'dtc.pkl') # pickle\n",
    "dtc = joblib.load('dtc.pkl')\n",
    "\n",
    "dtc_performance = BinaryClassificationPerformance(dtc.predict(X_matrix), y, 'dtc')\n",
    "dtc_performance.compute_measures()\n",
    "print(dtc_performance.performance_measures)"
   ]
  },
  {
   "cell_type": "markdown",
   "metadata": {},
   "source": [
    "### ROC plot performance of models and fits"
   ]
  },
  {
   "cell_type": "code",
   "execution_count": 40,
   "metadata": {},
   "outputs": [
    {
     "data": {
      "image/png": "[encoded data removed]",
      "text/plain": [
       "<Figure size 432x288 with 1 Axes>"
      ]
     },
     "metadata": {
      "needs_background": "light"
     },
     "output_type": "display_data"
    }
   ],
   "source": [
    "fits = [dtc_performance]\n",
    "\n",
    "for fit in fits:\n",
    "    plt.plot(fit.performance_measures['FP'] / fit.performance_measures['Neg'], \n",
    "             fit.performance_measures['TP'] / fit.performance_measures['Pos'], 'bo')\n",
    "    plt.text(fit.performance_measures['FP'] / fit.performance_measures['Neg'], \n",
    "             fit.performance_measures['TP'] / fit.performance_measures['Pos'], fit.desc)\n",
    "plt.axis([0, 1, 0, 1])\n",
    "plt.title('ROC plot: test set')\n",
    "plt.xlabel('False positive rate')\n",
    "plt.ylabel('True positive rate')\n",
    "plt.show()"
   ]
  },
  {
   "cell_type": "markdown",
   "metadata": {
    "collapsed": true
   },
   "source": [
    "### looking at reviews based on their classification\n",
    "\n",
    "Let's say we decide that Ridge Regression is the best model for generalization. Let's take a look at some of the reviews and try to make a (subjective) determination of whether it's generalizing well. "
   ]
  },
  {
   "cell_type": "code",
   "execution_count": 30,
   "metadata": {},
   "outputs": [
    {
     "data": {
      "text/plain": [
       "\"strong taste good! In opinion it's exactly substitute coffee tastes good mixed together.\""
      ]
     },
     "execution_count": 30,
     "metadata": {},
     "output_type": "execute_result"
    }
   ],
   "source": [
    "amazon.loc[0, \"Text\"]"
   ]
  },
  {
   "cell_type": "code",
   "execution_count": 31,
   "metadata": {},
   "outputs": [
    {
     "data": {
      "text/plain": [
       "False"
      ]
     },
     "execution_count": 31,
     "metadata": {},
     "output_type": "execute_result"
    }
   ],
   "source": [
    "amazon.loc[0, \"helpful\"]"
   ]
  },
  {
   "cell_type": "code",
   "execution_count": 32,
   "metadata": {},
   "outputs": [],
   "source": [
    "ridge_predictions = rdg.predict(X)"
   ]
  },
  {
   "cell_type": "code",
   "execution_count": 33,
   "metadata": {},
   "outputs": [
    {
     "data": {
      "text/plain": [
       "(91000,)"
      ]
     },
     "execution_count": 33,
     "metadata": {},
     "output_type": "execute_result"
    }
   ],
   "source": [
    "ridge_predictions.shape"
   ]
  },
  {
   "cell_type": "code",
   "execution_count": 34,
   "metadata": {},
   "outputs": [
    {
     "name": "stdout",
     "output_type": "stream",
     "text": [
      "[False False False ... False False False]\n"
     ]
    }
   ],
   "source": [
    "print(ridge_predictions)"
   ]
  },
  {
   "cell_type": "code",
   "execution_count": 35,
   "metadata": {},
   "outputs": [
    {
     "name": "stdout",
     "output_type": "stream",
     "text": [
      "7427\n",
      "2012-09-15 00:00:00\n",
      "5\n",
      "1\n",
      "B003XUHGRO\n",
      "nice good neat cool great amazing fantastic stupendous exceptional review process complete bore useless. Let Check number Stars leave field optional.\n",
      "* * * * * * * * * \n",
      "7730\n",
      "2012-06-01 00:00:00\n",
      "4\n",
      "0\n",
      "B007RTR89S\n",
      "I color-treated (all-over blonde highlights) fine hair... lot it! I originally tried volumizing shampoo condition Clear I needed moisture. This great!<br /><br />Even washing hair manageable, styled better, shiney bright! One guys I work said looked blonder asked I got done!<br /><br />I know sulfate hair looks great anyway!\n",
      "* * * * * * * * * \n",
      "8649\n",
      "2012-06-11 00:00:00\n",
      "5\n",
      "0\n",
      "B00390T5JA\n",
      "Simple use, intuitive set up. Makes great coffee tea, provided use preferred brands. Fits kitchen counter, extra space, reservoir holds decent water cup, provide cups guests filling reservoir over. Great item.\n",
      "* * * * * * * * * \n",
      "9863\n",
      "2011-02-11 00:00:00\n",
      "4\n",
      "1\n",
      "B000FI4O90\n",
      "I received Aerogarden half weeks ago thrilled it. The reason I given stars I think expensive, particularly seed kits. I hope popularity grows price come down. At weeks seed pods sprouted. They expected sprout different times indicated seed pods sprouted schedule earlier. I'm new reviewing like upload picture sure possible.<br /><br /> The set ridiculously easy I recommend read instructions things certain order needed. Also supposed seed pods specific order (as box) I didn't read took separate seed kit box didn't know order in. I think likely error list order inserted enclosed box avoid problem. I guessed order growing well.<br /><br />After set add water nutrients future machine tells flashing lights. Couldn't easier!! The instruction booklet short ( nice don't like reading instructions :) The confusing adding nutrients. The instruction book refers tablets/pellets receive plastic tubes liquid don't add tubes instruction says add tablets. Just ensure read nutrient info instruction book seed pod box guidance ignore master instruction book. Also add nutrients depending 3 6 7 pod gardens read carefully.<br /><br />The light super bright. You don't want sleeping. I kitchen I sided board night ( small version kids use science faires exhibits block light seeps bedroom nearby. Herbs 7 8 hours day lights I set timer turn lights 11 PM automatically come 8 hours later. This fabulous feature super easy operate.<br /><br />The pump quiet I didn't think working.<br /><br />So I like lower price I HIGHLY recommend product can't wait enjoy herbs 2 half weeks ready start harvesting<br /><br />UPDATE weeks bulbs died. I contacted customer service immediately said send replacement. I disapointed week confirmed shipped shipped new bulbs currently working herbs continued grow I basil I harvest some.\n",
      "* * * * * * * * * \n",
      "13221\n",
      "2010-12-28 00:00:00\n",
      "5\n",
      "0\n",
      "B001E3VY7A\n",
      "Fast service, reasonably priced, free shipping, long,specific, detailed reassurance I satisfied product, happy. Refreshing! Thanks, Rita\n",
      "* * * * * * * * * \n",
      "14672\n",
      "2011-08-23 00:00:00\n",
      "5\n",
      "1\n",
      "B000093HKC\n",
      "Mycodex Plus Environmental Control Aerosol Household Spray amazing.<br />The basement fleas year. One sprayed basement floor took care problem. Other products tried, flea bombs having set off. Nothing work. This stuff A Plus. Would definitely use need.\n",
      "* * * * * * * * * \n",
      "15306\n",
      "2010-05-15 00:00:00\n",
      "3\n",
      "3\n",
      "B000UOAG3M\n",
      "Received gift I thrilled I've eyeing Bentely's Finest Elegant Wooden Tea Chest couple years. The box smaller I'd expected, especially houses 120 tea bags, footprint smaller, that's good thing small home. Each stack 10 teabags. The tea chest dark, non-wood appearing heavy box solid feet cheap looking shiny brass colored metal hardware. The interior contains red felt separators removed want use larger tea bags tea consumed. Since appears marketed presentation box Bentley teas, I'd solid 3 star half price cost, given 4 bright gold Bentley ad inside lid. If actually use chest present teas guests, it's tacky appearance. The teas far best I've drunk, I nice brewing iced tea. The bags bleached white paper, sealed edges, white string small paper hang tag attached pressed seam. Each bag enveloped brightly colored lightweight paper. There tea powder residual inside paper, tea contained well. The teas black assorted flavorings single green tea option additional flavoring. It's absolutely average product.\n",
      "* * * * * * * * * \n",
      "18619\n",
      "2007-09-27 00:00:00\n",
      "5\n",
      "3\n",
      "B001E5DY2G\n",
      "I fortune dine best restaurants America Europe. I training finest chefs (primarily French, Italian Indian, training Catonese cookery). My taste buds spoiled, worst, highly-refined, best.<br /><br />Coffee crucial health aesthics. THIS COFFEE answers needs. I highly cricitcal, use best (Kitchen=Aid) Grinder... French Press only. This coffee welcomes me, morning, I hate waking, welcomes day. The beans are, be, oily, dark, produce perfect cup. Though, I add, I blend select beans I local organic markets.<br /><br />But lacking blend, beans stand own. I've bought online, dry, lacking, etc. These beans proven consistent quality, hard palate.<br /><br />If like good, cup coffee, especially ascribe style, grind own, brew withing minutes consume, I imagine response devoute customer.<br /><br />Timothy\n",
      "* * * * * * * * * \n",
      "19301\n",
      "2011-12-20 00:00:00\n",
      "2\n",
      "2\n",
      "B000LRILNK\n",
      "I loved, bought Maille mustards. However, I recently bought jars Dijon Originale, Dijon Old Style different occasions months. Both Canada. The Dijon Originale jar closed properly, Old Style liquified I opened jar. I throw Old Style out. Be aware.\n",
      "* * * * * * * * * \n",
      "24416\n",
      "2012-02-09 00:00:00\n",
      "2\n",
      "6\n",
      "B005PANYEY\n",
      "As marathoner, century cyclist, half-ironman triathlete, I've fair share sports mixes. I've faithful Cytomax user years helps feel sore hard training easy stomach. However, I noticed recent bottle Cytomax states includes \"Stevia\". Stevia recently approved FDA approved Europe, not, frequently marketed, natural product. The plant natural, sweetener needs treated \"messed with\" sweet mask it's bitterness. It's safety debated, given large quantities sports drink I consume, that's switch products.\n",
      "* * * * * * * * * \n",
      "25968\n",
      "2010-10-25 00:00:00\n",
      "1\n",
      "12\n",
      "B000JVGJ1Y\n",
      "For $18.00, quantity cans purchase. I'm sure cost much. Thank you, Iva Jeane Driggers\n",
      "* * * * * * * * * \n",
      "30368\n",
      "2010-03-27 00:00:00\n",
      "3\n",
      "8\n",
      "B002V024CO\n",
      "I happy \"single-serve\" dried cherries. When arrived, happy notice added sugar. Surely cherries natural sugar adding unnecessary? And then, exceedingly sweet, \"sugar\" flavored, cherryish all. I choke 5 6 (while drinking lots water eliminate sugariness) time. Not repeat buy.\n",
      "* * * * * * * * * \n",
      "32304\n",
      "2012-08-15 00:00:00\n",
      "5\n",
      "0\n",
      "B003AYEHSE\n",
      "I happy quality packaging herb. I ordered Starwest products recommend them.\n",
      "* * * * * * * * * \n",
      "33731\n",
      "2012-05-24 00:00:00\n",
      "5\n",
      "0\n",
      "B002GWHE1I\n",
      "I tried flavors - Jamaican Me Crazy Creme Brulee - can't wait try others. Both flavors smooth rich. Jamaican hint rum, Creme Brulee tastes like dessert named - rich, silky cream.<br /><br />When I deciding buy sampler, I appreciated clear descriptions flavor note ones decaf (which I normally don't drink) <a href=\"http://www.amazon.com/gp/product/B002GWHE1I\">Coffee Bean Direct Assorted Flavored Whole Bean Coffee Sampler, 9-Pound Box</a>. The price ounce economical. I definitely buy (or perhaps, pick couple flavors order 1-2 lbs. each. I'm glad I discovered Amazon!\n",
      "* * * * * * * * * \n",
      "34134\n",
      "2011-12-18 00:00:00\n",
      "3\n",
      "1\n",
      "B003Q4TSMS\n",
      "I ordered mother regular blend bit sweet. And version sweet. But reason doesn't mix water. Leaving lot unpleasant unmixed bits cup.<br /><br />For record I've tried adding water mix first, adding mix water. works best, unsatisfactory.\n",
      "* * * * * * * * * \n",
      "34709\n",
      "2010-11-25 00:00:00\n",
      "4\n",
      "1\n",
      "B00020XNV6\n",
      "Hard USA, handful cities leonidas store.<br />Only reason didn't 5 stars chocolates arrived imperfect condition shipment.<br />They nice outer styrofoam packaging .. chocolates ended fused together.<br />That's old-school packaging - style chocolate store belgium, like leonidas.<br /><br />anyway it's delicious i'll order\n",
      "* * * * * * * * * \n",
      "36168\n",
      "2011-03-01 00:00:00\n",
      "5\n",
      "0\n",
      "B0041O2JR8\n",
      "We've tried pancake mixes coming to. You add water, wisk desired consistency, cook. On busy school morning plus. Caveat, I recommend batter mixed room temperature refrigerated previous night brought warmed first. This makes difference flavor kids quick notice. I use canola oil hot frying pan result restaurant quality pancakes, unlike batters I used. As grillworker I appreciate this! Concur reviewer's recommendation add product Amazon's subscribe list.\n",
      "* * * * * * * * * \n",
      "36845\n",
      "2011-11-24 00:00:00\n",
      "3\n",
      "0\n",
      "B00126GBP4\n",
      "It arrived cold fresh Ca. It derinded easiy cut. It cooked smelled wonderful. But, It 20% salty taste. The bacon edible good component dishes,but salty I couldn't eat 1 piece sitting. I order brand again.\n",
      "* * * * * * * * * \n",
      "39506\n",
      "2011-09-18 00:00:00\n",
      "5\n",
      "1\n",
      "B001VJ5838\n",
      "I 7 year old cats history food sensitivities. Their coats dry, vomit often, sluggish. I tried lot different foods them; however, Blue Buffalo best. They love Tuna Salmon. Since I've fed this, coats nicer, vomited, they're getting playful again. Also, week took neglected, flea infested 1.5 year old Manx. We treated fleas, got shots, neutered him. His skin covered scabs sores. Today, coat beautiful soft, sores completely healed, happier.\n",
      "* * * * * * * * * \n",
      "39696\n",
      "2012-02-25 00:00:00\n",
      "5\n",
      "0\n",
      "B003QDRJXY\n",
      "<a href=\"http://www.amazon.com/gp/product/B003QDRJXY\">Nutiva Organic Extra Virgin Coconut Oil, 54-Ounce Containers (Pack 2)</a><br /><br />I've product year & love it. Coconut oil beneficial purchasing Amazon certainly cost effective! I husband, sister & friends it.<br /><br />This oil totally replaced oils household. The taste amazing it's cooking & baking great results. At I thought coconut taste overpower food happened & I've bread, pastry, cookies, scones, soups, chili, EVERYTHING I cook, bake, simmer saute. By way, mushrooms sauteed coconut oil delicious & I eat mushrooms. Now favorite mine. I coconut oil/butter spread use substitute butter toast, pancakes, etc.<br /><br />I uses kitchen wonderful body & hair moisturizer. Also great makeup removal. It replaced skin & hair care products I like knowing artificial ingredients, perfumes, dyes absorbed skin. Just tiny bit hand goes long way & delicate coconut scent right - bit overpowering all!<br /><br />Coconut oil great benefit skin cuts & scrapes antibacterial antiviral. We use skin injuries & appears speed healing scarring.<br /><br />I typically 54 oz container month family husband joined I start taking advantage Amazon's subscribe & save order.\n",
      "* * * * * * * * * \n",
      "43663\n",
      "2008-05-14 00:00:00\n",
      "5\n",
      "5\n",
      "B004YVQ4DI\n",
      "When compare zesty Limonata Sparkling Lemon Beverage sparkly lemon beverages, begin realize sheer perfection Limonata beverage San Pellegrino. The balance lemon, sparkle zest takes drink level gourmet beverage, requires mixing. I tasted before, recently ordered eating Restaurant.<br /><br />San Pellegrino mineral water near town San Pellegrino Terme located 70 kilometers northeast Milan. The water flows thermal spring foot Dolomite mountain wall. The use water definitely adds energy drink possess.<br /><br />The carbonation sophisticated delicate. The way waters champagne sparkling waters.<br /><br />~The Rebecca Review\n",
      "* * * * * * * * * \n",
      "48276\n",
      "2012-01-11 00:00:00\n",
      "4\n",
      "1\n",
      "B001XUIGNY\n",
      "Stewart's abandoed longer making best ginger beers. Fever-Tree bit milder Stewarts sweet unlike Goya I tried live with, inflame intestines way down! It obviously expensive bottles tiny I suggestions: The Fever-Tree consider selling public concentrate let mix own. The product I believe UK shipped California likely concentrated form anyway. By going route adding product line, pay heavy glass bottles fizzy water.<br /><br />My suggestion mix couple inches Fever-Tree bottle like Arizona's bland Diet Iced Tea. It punches tea certainly stretches number glasses ginger beer taste. No afford days drink Fever-Tree straight daily basis. But worthwhile contender void Stewart's created I understand.\n",
      "* * * * * * * * * \n",
      "52055\n",
      "2011-02-16 00:00:00\n",
      "5\n",
      "0\n",
      "B001FA1S4Q\n",
      "The Back Nature Fudge Mint cookies Fudge Striped cookies favorites.<br /><br />The Fudge Striped cookies light crunch great chocolaty taste. For reason I eat upside-down taste better. These bit healthier Keebler's trans fat fudge striped cookies.\n",
      "* * * * * * * * * \n",
      "52317\n",
      "2007-02-05 00:00:00\n",
      "5\n",
      "2\n",
      "B000FFIL60\n",
      "little expensive worth it.<br /><br />it lasts allday long teapots\n",
      "* * * * * * * * * \n",
      "52548\n",
      "2008-12-03 00:00:00\n",
      "5\n",
      "0\n",
      "B001EQ5JLE\n",
      "This tea exactly I hoping reading reviews here. Using loose tea office time consuming creates mess rudimentary office kitchen I want deal with. These tea bags flavorfull, bitter I appreciate cafeine basic domestic mass market tea bags. They small afternoon boost I need. You easily higher quality varietal blended tea I cupboard home use I time fuss want savor special, I happy easy use, inexpensive tea bags quick right cup tea - office home.\n",
      "* * * * * * * * * \n",
      "52643\n",
      "2011-10-16 00:00:00\n",
      "4\n",
      "4\n",
      "B001UL5JWM\n",
      "My kitty epitome vacuum-ism. She eat kitties deem edible. Raw cooked meats, strings, whiskers...you right? As such, loves food-time (too much)...<br /><br />There awesome pet supplies store near I live, I often, I love place help try support business. Every time I shop there, dish PREMIUM cat food samples (and dog food too) front. Last time I went there, I got sample bags. Anyways, cat little smartie, she'd pick better food usual food, gobble up, leaving old food bowl.<br /><br />--<br /><br />Moving along, hands down, favorites. My issue is, kibbles ridiculously *small*. So small, eats whole, eats more. I wound having switch food, shame higher quality cat food, lacks corn-soy-wheat filler ever-so-popular known brands pet food.<br /><br />Ingredients:<br /><br />Chicken Meal, Chicken, Brown Rice, Barley, Oatmeal, Chicken Fat (Preserved With Natural Mixed Tocopherols), Duck Meal, Potatoes, Carrots, Lamb Meal, Canola Oil, Natural Flavor, Salmon Meal, Dried Egg, Brewers Yeast, Duck, Potassium Chloride, Whole Ground Flaxseed, Choline Chloride, Taurine, Natural Mixed Tocopherols, Spinach, Parsley Flakes, Cranberries, L-Lysine, L-Carnitine, Yucca Schidigera Extract, Dried Kelp, Zinc Proteinate, Vitamin E Supplement, Niacin, Manganese Proteinate, Copper Proteinate, Zinc Sulfate, Manganese Sulfate, Copper Sulfate, Thiamine Mononitrate (Vitamin B-1), Vitamin A Supplement, Biotin, Potassium Iodide, Calcium Pantothenate, Riboflavin (Vitamin B-2), Pyridoxine Hydrochloride (Vitamin B-6), Vitamin B-12 Supplement, Manganous Oxide, Sodium Selenite, Vitamin D-3 Supplement, Folic Acid.\n",
      "* * * * * * * * * \n",
      "60464\n",
      "2010-10-13 00:00:00\n",
      "5\n",
      "2\n",
      "B000K8ID2E\n",
      "I admit sceptical seeds sprouting, did, day kitten realised her, loved it.<br />The container sturdy planting seeds easy. I impressed little tablets dried peat, I'm going look buy plants.<br />The grass overgrown looks shaggy, I need order refills.\n",
      "* * * * * * * * * \n",
      "60554\n",
      "2011-12-23 00:00:00\n",
      "5\n",
      "2\n",
      "B005PXZ6JM\n",
      "I return work I pumping furiously.. however, I noticed lately medela bags sealing completely.. bag I laid flat freeze instantly started seeping milk past seal(wasted!)..anyone pumps knows precious drop is! After I store milk medela bags, I stand straight squeeze btwn random freezer objects freezes flat. Today I decided test honeysuckle bags I received reading tons positive reviews amazon surpassed expectations. I included photo comparison. I placing order more!! So thrilled I feel confident supply.\n",
      "* * * * * * * * * \n",
      "60990\n",
      "2010-07-10 00:00:00\n",
      "4\n",
      "0\n",
      "B002TMV34E\n",
      "In deciding review coffee, I knew opinion wasn't enough. While I smooth non-bitter treat mornings, I decided biggest risk serve coworkers.<br /><br />Cubicle inhabitants known maim responsible bad batch coffee, I prepared smile pleasantly use chair battering ram I ran exit.<br /><br />The person tried say;<br /><br />\"...It smooth taste allows drinker savor flavor bitterness unpleasant aftertaste higher priced coffees offered Starbucks. The overall taste reminiscent light medium roast <a href=\"http://www.amazon.com/gp/product/B001EQ5MS4\">Seattle's Best</a>. The drawback I coffee cup empty. Overall I think good coffee, good roast. While I normally prefer darker roasts I recommend coffee good choice.\"<br /><br />What I say, he's English major enjoys fine cuppa Joe. I pulling Swingline staples backside didn't like it.<br /><br />Here's said:<br /><br />\"...On initial taste, hottest, mistake light roast bitterness aftertaste usually associated Medium Dark Roasts. On subsequent sipping coffee's taste linger afterword little bitterness; like light roast, fuller flavor expects robust roasts. This coffee flavor warrant little sweetener cream coffee enthusiasts happy selection...Recommended.\"<br /><br />This works tech support - I typing review hand didn't enjoy coffee.<br /><br />I sure opinion usual tea drinker:<br /><br />\"Right-o. So, tea-drinking-my-coffee-must-have-creamer-so-I-don't-taste-the-coffee person, impressions:<br />Smell: slightly bitter earthy tone<br />Sight: Rather dark, pitch black, dark concern.<br />Taste (black): Dirt mud. Very straight forward coffee, messing about.<br />Taste (with creamer...lots creamer): tongue thanked me!<br /><br />Not favorite drinking coffee, I prefer lighter roast. But, good baking coffee, particularly dark mocha torte mocha cookies.\"<br /><br />So it!<br /><br /> I add I usually don't coffee office - I served this, I asked \"Where's coffee brought week? Are going bring more?\"<br /><br />If it's good cubicle crew, it's good you. :-)\n",
      "* * * * * * * * * \n",
      "62129\n",
      "2010-03-23 00:00:00\n",
      "5\n",
      "1\n",
      "B0028A9C72\n",
      "This stuff pretty good. I best landjagers place Salt Lake City . . . unfortunetly changed recipe recently; taste like bavarians.<br /><br />I buy stick smoker hours help dry age sausages. Then I like hang dry further. I'm hooked these.\n",
      "* * * * * * * * * \n",
      "62254\n",
      "2011-02-21 00:00:00\n",
      "5\n",
      "0\n",
      "B001P7AZN4\n",
      "I disappointed local grocer stopped carrying variety. It great portion control built in. I like flavor, I don't think tastes lot like kettle corn. I prefer artificial \"butter\" flavor. I like dry greasy. Taste personal matter, course. You'd try like it. I listened popping times I know exactly time set microwave. I tried time work, and, goodness, burnt offering! But I know time works microwave. You know packages \"applicances vary, adjust time accordingly\"? Well, yeah, right! I glad source product now.\n",
      "* * * * * * * * * \n",
      "64332\n",
      "2012-02-25 00:00:00\n",
      "4\n",
      "0\n",
      "B0074AP9H8\n",
      "Bought local natural foods store. Amazingly delicious- good smoothies/shakes raw chocolate cakes (see Ani Phyo books recipes & ideas!). Gives bit buzz don't dutched/regular cocoa powder.<br /><br />Only downside bit expensive stores. Looking forward amazon carrying product!\n",
      "* * * * * * * * * \n",
      "67090\n",
      "2012-03-01 00:00:00\n",
      "5\n",
      "2\n",
      "B000HQR3ZM\n",
      "I Rio Rancho Tostado Bowls local supermarket, Hannaford's, outstanding! I blown away superb flavor. Unlike reviewer, I product flimsy all; held tasty bite. (Perhaps problem shipping problems, product itself.) I love Mexican food, dislike artificial ingredients added prepackaged items. This product tasted authentic, I can't praise enough. In word, YUMMY!\n",
      "* * * * * * * * * \n",
      "67924\n",
      "2011-01-25 00:00:00\n",
      "3\n",
      "2\n",
      "B0000CEPDP\n",
      "Like others, I cats initially interested, quickly (a couple tries) decided Hi-Tor Neo wasn't them. For kitties late-stage renal failure, I working way commercial cat food options don't advertise renal diets, phosphorus protein levels comparable Neo-tor (which little higher prescription renal diets). There valuable updated diet information available [...] looking information protein phosphorus content cat foods (The site provides breakdowns canned dry cat foods). I prefer Organix flavors listed there, comparably low protein lower phosphorus. It little expensive, buy local stores try it-- I've seen Hi-Tor Neo store.\n",
      "* * * * * * * * * \n",
      "70866\n",
      "2012-05-16 00:00:00\n",
      "5\n",
      "2\n",
      "B0006Z7NOK\n",
      "ALl braggs apple cider vinegar works good. I given enegy, helps digestive especially feel full. My mothe rhas acid reflex takes prescibe medication problem. With vinegar problmes all.\n",
      "* * * * * * * * * \n",
      "70996\n",
      "2011-06-07 00:00:00\n",
      "5\n",
      "2\n",
      "B0001FR0BQ\n",
      "For San Pellegrino Chinotto sparkler special summertime treat ice rocks right bottle dinner afternoon break meals. You parched thirsty either, sipped slowly thoroughly enjoy flavor unique beverage. As taste Chinotto Orange taste herbal/liquorice root beer sharper. So love exotic flavors I think enjoy fine beverage.\n",
      "* * * * * * * * * \n",
      "74875\n",
      "2012-03-14 00:00:00\n",
      "1\n",
      "1\n",
      "B005GIF7YU\n",
      "I wish I read reviews I ordered product. These tasteless mushrooms imported China. I ordered large container Porcini mushrooms supplier. They marginally better...cost 2X shittakes. Never again.\n",
      "* * * * * * * * * \n",
      "79137\n",
      "2010-08-12 00:00:00\n",
      "3\n",
      "13\n",
      "B000VK08OC\n",
      "Got family staph infection! My year old likes way taste.(mix warm milk night) I love fact gets rid painful boils! The negative thing I high price way helping son's skin I buy again. O I have...<br /><br />One LOVE...\n",
      "* * * * * * * * * \n",
      "79865\n",
      "2012-10-07 00:00:00\n",
      "1\n",
      "0\n",
      "B0043XEL14\n",
      "This great tasting salad, beware food dyes, frozen fresh kinds FD&C Yellow Blue dyes, I noticed I bought it. When I opt healthy food, I prefer chemicals, especially ones linked health hazards. I opt paler looking seaweed, pumped dyes. Here link info food coloring:<br />[...]\n",
      "* * * * * * * * * \n",
      "80091\n",
      "2009-03-11 00:00:00\n",
      "4\n",
      "2\n",
      "B000LKZLCQ\n",
      "This product close youre going chopping coconut tree cutting open. I got hooked coconut water costa rica I drink time. And I feel great! This perfct alternative pedialyte children good dehydrated especially diharrea. The passion fruit flavor adds subtle sweetness abd nice tropical flavor.\n",
      "* * * * * * * * * \n",
      "80539\n",
      "2012-04-19 00:00:00\n",
      "4\n",
      "0\n",
      "B000L8CB76\n",
      "Very good robust flavor. Excellent milk cream. I comments err steeping longer instructed box maximum flavor.\n",
      "* * * * * * * * * \n",
      "81320\n",
      "2012-09-01 00:00:00\n",
      "5\n",
      "0\n",
      "B000RHUXKI\n",
      "My family big fan soups stews. These Blackeye Peas (Beans) wonderful soup add ham ham bone, finely chopped onion, finely chopped celery, lots freshly ground pepper, bit salt (to taste). I use Knorr Beef base boil ham w ham bone first. I pan cornbread Quaker corn meal. These beans soaked overnight...a big plus.<br />The thing crock pot stove easily. Blackeye peas (beans) healthy family. Sometimes I vegetable soup I add 1/2 - 3/4 cup blackeye peas. I add pearl barley.<br />Now, I going plea good folks there. Please start making meals scratch. Involve kids. All soups strews great left overs re-heated kids home school sports. This hard, OK? It takes bit planning fore thought. Let's healthy. Let's cook eat families. I know kids love cook did. I taught bake. . .we started grandmother's great chocolate chip cookie recipe. Now sons married approaching 40's. In homes help lot cooking, baking, housework. They love camping, fishing, hunting, golf. . .and football.<br />I hope purchase beans. I love packaging freshness. The quality superb. My blessings you, kitchens, families!\n",
      "* * * * * * * * * \n",
      "86697\n",
      "2011-02-22 00:00:00\n",
      "5\n",
      "1\n",
      "B000GJQ5C2\n",
      "After trying unsuccessfully buy Kuchenmeister brand rum cake, I thought I try Tortuga's rum cake. It delicious. I'd certainly buy again.\n",
      "* * * * * * * * * \n",
      "87979\n",
      "2008-09-30 00:00:00\n",
      "5\n",
      "0\n",
      "B0008D806A\n",
      "This stuff good practicly addictive! Awesome brautworsts! You try this!!!\n",
      "* * * * * * * * * \n",
      "89295\n",
      "2009-07-14 00:00:00\n",
      "4\n",
      "0\n",
      "B000V7SUPY\n",
      "I buy <a href=\"http://www.amazon.com/gp/product/B000EMQFF8\">Fruit Foot</a> <a href=\"http://www.amazon.com/gp/product/B000EMOCPI\">Fruit Roll-Ups</a>, high sugar expensive I wanted alternative. After trying fruit snacks settled <a href=\"http://www.amazon.com/gp/product/B000V7SUPY\">Florida's Natural Au'some Fruit Juice Stiks, 68% Fruit Content</a>. The sugar content best, definitely better buying. Also price piece went .36¢ .13¢ purchased Subscribe & Save. My kids enjoy I too.\n",
      "* * * * * * * * * \n"
     ]
    }
   ],
   "source": [
    "# false positives\n",
    "\n",
    "import random, time\n",
    "\n",
    "for i in range(0, len(ridge_predictions)):\n",
    "    if (ridge_predictions[i] == True):\n",
    "        if (amazon.loc[i, \"helpful\"] == False):\n",
    "            if (random.uniform(0, 1) < 0.05):\n",
    "                print(i)\n",
    "                print(time.strftime('%Y-%m-%d %H:%M:%S', time.gmtime(amazon.loc[i, \"Time\"])))\n",
    "                print(amazon.loc[i, \"Score\"])\n",
    "                print(amazon.loc[i, \"HelpfulnessDenominator\"])\n",
    "                print(amazon.loc[i, \"ProductId\"])\n",
    "                print(amazon.loc[i, \"Text\"])\n",
    "                print('* * * * * * * * * ')"
   ]
  },
  {
   "cell_type": "code",
   "execution_count": null,
   "metadata": {},
   "outputs": [],
   "source": []
  }
 ],
 "metadata": {
  "kernelspec": {
   "display_name": "Python 3",
   "language": "python",
   "name": "python3"
  },
  "language_info": {
   "codemirror_mode": {
    "name": "ipython",
    "version": 3
   },
   "file_extension": ".py",
   "mimetype": "text/x-python",
   "name": "python",
   "nbconvert_exporter": "python",
   "pygments_lexer": "ipython3",
   "version": "3.6.8"
  }
 },
 "nbformat": 4,
 "nbformat_minor": 1
}
