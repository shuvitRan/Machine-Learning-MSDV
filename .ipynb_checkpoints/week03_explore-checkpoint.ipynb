{
 "cells": [
  {
   "cell_type": "markdown",
   "metadata": {
    "collapsed": true
   },
   "source": [
    "## Week 3, explore\n",
    "* Read Amazon.csv\n",
    "* Get to know the data\n"
   ]
  },
  {
   "cell_type": "code",
   "execution_count": 1,
   "metadata": {},
   "outputs": [],
   "source": [
    "# imports and specifications\n",
    "import numpy as np\n",
    "import pandas as pd\n",
    "import matplotlib.pyplot as plt\n",
    "%matplotlib inline"
   ]
  },
  {
   "cell_type": "markdown",
   "metadata": {},
   "source": [
    "### read Amazon.csv"
   ]
  },
  {
   "cell_type": "code",
   "execution_count": 4,
   "metadata": {},
   "outputs": [
    {
     "ename": "NameError",
     "evalue": "name 'pd' is not defined",
     "output_type": "error",
     "traceback": [
      "\u001b[0;31m---------------------------------------------------------------------------\u001b[0m",
      "\u001b[0;31mNameError\u001b[0m                                 Traceback (most recent call last)",
      "\u001b[0;32m<ipython-input-4-de7fa1eaf22d>\u001b[0m in \u001b[0;36m<module>\u001b[0;34m\u001b[0m\n\u001b[0;32m----> 1\u001b[0;31m \u001b[0mamazon\u001b[0m \u001b[0;34m=\u001b[0m \u001b[0mpd\u001b[0m\u001b[0;34m.\u001b[0m\u001b[0mread_csv\u001b[0m\u001b[0;34m(\u001b[0m\u001b[0;34m'/Users/working/Documents/ParsonsSchool/Sp19/MachineLearning/DATASET/Amazon.csv'\u001b[0m\u001b[0;34m)\u001b[0m\u001b[0;34m\u001b[0m\u001b[0;34m\u001b[0m\u001b[0m\n\u001b[0m",
      "\u001b[0;31mNameError\u001b[0m: name 'pd' is not defined"
     ]
    }
   ],
   "source": [
    "amazon = pd.read_csv('../DATASET/Amazon.csv')"
   ]
  },
  {
   "cell_type": "markdown",
   "metadata": {},
   "source": [
    "### get to know the data"
   ]
  },
  {
   "cell_type": "code",
   "execution_count": 3,
   "metadata": {},
   "outputs": [
    {
     "ename": "NameError",
     "evalue": "name 'amazon' is not defined",
     "output_type": "error",
     "traceback": [
      "\u001b[0;31m---------------------------------------------------------------------------\u001b[0m",
      "\u001b[0;31mNameError\u001b[0m                                 Traceback (most recent call last)",
      "\u001b[0;32m<ipython-input-3-978fb7cf134f>\u001b[0m in \u001b[0;36m<module>\u001b[0;34m\u001b[0m\n\u001b[0;32m----> 1\u001b[0;31m \u001b[0mprint\u001b[0m\u001b[0;34m(\u001b[0m\u001b[0;34m\"amazon is:\"\u001b[0m\u001b[0;34m,\u001b[0m \u001b[0mtype\u001b[0m\u001b[0;34m(\u001b[0m\u001b[0mamazon\u001b[0m\u001b[0;34m)\u001b[0m\u001b[0;34m)\u001b[0m\u001b[0;34m\u001b[0m\u001b[0;34m\u001b[0m\u001b[0m\n\u001b[0m\u001b[1;32m      2\u001b[0m \u001b[0mprint\u001b[0m\u001b[0;34m(\u001b[0m\u001b[0;34m\"amazon has\"\u001b[0m\u001b[0;34m,\u001b[0m \u001b[0mamazon\u001b[0m\u001b[0;34m.\u001b[0m\u001b[0mshape\u001b[0m\u001b[0;34m[\u001b[0m\u001b[0;36m0\u001b[0m\u001b[0;34m]\u001b[0m\u001b[0;34m,\u001b[0m \u001b[0;34m\"rows and\"\u001b[0m\u001b[0;34m,\u001b[0m \u001b[0mamazon\u001b[0m\u001b[0;34m.\u001b[0m\u001b[0mshape\u001b[0m\u001b[0;34m[\u001b[0m\u001b[0;36m1\u001b[0m\u001b[0;34m]\u001b[0m\u001b[0;34m,\u001b[0m \u001b[0;34m\"columns\"\u001b[0m\u001b[0;34m,\u001b[0m \u001b[0;34m\"\\n\"\u001b[0m\u001b[0;34m)\u001b[0m\u001b[0;34m\u001b[0m\u001b[0;34m\u001b[0m\u001b[0m\n\u001b[1;32m      3\u001b[0m \u001b[0mprint\u001b[0m\u001b[0;34m(\u001b[0m\u001b[0;34m\"the data types for each of the columns in amazon:\"\u001b[0m\u001b[0;34m)\u001b[0m\u001b[0;34m\u001b[0m\u001b[0;34m\u001b[0m\u001b[0m\n\u001b[1;32m      4\u001b[0m \u001b[0mprint\u001b[0m\u001b[0;34m(\u001b[0m\u001b[0mamazon\u001b[0m\u001b[0;34m.\u001b[0m\u001b[0mdtypes\u001b[0m\u001b[0;34m,\u001b[0m \u001b[0;34m\"\\n\"\u001b[0m\u001b[0;34m)\u001b[0m\u001b[0;34m\u001b[0m\u001b[0;34m\u001b[0m\u001b[0m\n\u001b[1;32m      5\u001b[0m \u001b[0mprint\u001b[0m\u001b[0;34m(\u001b[0m\u001b[0;34m\"the first 10 rows in amazon:\"\u001b[0m\u001b[0;34m)\u001b[0m\u001b[0;34m\u001b[0m\u001b[0;34m\u001b[0m\u001b[0m\n",
      "\u001b[0;31mNameError\u001b[0m: name 'amazon' is not defined"
     ]
    }
   ],
   "source": [
    "print(\"amazon is:\", type(amazon))\n",
    "print(\"amazon has\", amazon.shape[0], \"rows and\", amazon.shape[1], \"columns\", \"\\n\")\n",
    "print(\"the data types for each of the columns in amazon:\")\n",
    "print(amazon.dtypes, \"\\n\")\n",
    "print(\"the first 10 rows in amazon:\")\n",
    "print(amazon.head(10))"
   ]
  },
  {
   "cell_type": "markdown",
   "metadata": {},
   "source": [
    "### What is the relationship between the \"Helpful Denominator\" and the number of stars given?"
   ]
  },
  {
   "cell_type": "code",
   "execution_count": 4,
   "metadata": {},
   "outputs": [
    {
     "data": {
      "text/plain": [
       "<matplotlib.collections.PathCollection at 0x121c3b630>"
      ]
     },
     "execution_count": 4,
     "metadata": {},
     "output_type": "execute_result"
    },
    {
     "data": {
      "image/png": "[encoded data removed]",
      "text/plain": [
       "<Figure size 432x288 with 1 Axes>"
      ]
     },
     "metadata": {
      "needs_background": "light"
     },
     "output_type": "display_data"
    }
   ],
   "source": [
    "plt.scatter(amazon[\"HelpfulnessDenominator\"], amazon[\"Score\"])"
   ]
  },
  {
   "cell_type": "markdown",
   "metadata": {},
   "source": [
    "### Let's get to know \"HelpfulnessDenominator\""
   ]
  },
  {
   "cell_type": "code",
   "execution_count": 5,
   "metadata": {},
   "outputs": [
    {
     "data": {
      "text/plain": [
       "455000"
      ]
     },
     "execution_count": 5,
     "metadata": {},
     "output_type": "execute_result"
    }
   ],
   "source": [
    "amazon[\"HelpfulnessDenominator\"].count()"
   ]
  },
  {
   "cell_type": "code",
   "execution_count": 6,
   "metadata": {},
   "outputs": [
    {
     "data": {
      "text/plain": [
       "2.2188945054945055"
      ]
     },
     "execution_count": 6,
     "metadata": {},
     "output_type": "execute_result"
    }
   ],
   "source": [
    "amazon[\"HelpfulnessDenominator\"].mean()"
   ]
  },
  {
   "cell_type": "code",
   "execution_count": 7,
   "metadata": {},
   "outputs": [
    {
     "data": {
      "text/plain": [
       "238678"
      ]
     },
     "execution_count": 7,
     "metadata": {},
     "output_type": "execute_result"
    }
   ],
   "source": [
    "amazon['helpfulness_denom_nonzero'] = amazon['HelpfulnessDenominator'] > 0\n",
    "amazon['helpfulness_denom_nonzero'].sum()"
   ]
  },
  {
   "cell_type": "markdown",
   "metadata": {},
   "source": [
    "### create a subset of Amazon that only includes reviews where someone marked whether it's helpful"
   ]
  },
  {
   "cell_type": "code",
   "execution_count": 8,
   "metadata": {},
   "outputs": [
    {
     "data": {
      "text/plain": [
       "(238678, 14)"
      ]
     },
     "execution_count": 8,
     "metadata": {},
     "output_type": "execute_result"
    }
   ],
   "source": [
    "a2 = amazon.loc[amazon[\"helpfulness_denom_nonzero\"]==True]\n",
    "a2.shape"
   ]
  },
  {
   "cell_type": "markdown",
   "metadata": {},
   "source": [
    "### Create a feature that contains the quantity of the number of words in a review (word count)"
   ]
  },
  {
   "cell_type": "code",
   "execution_count": 9,
   "metadata": {},
   "outputs": [
    {
     "name": "stdout",
     "output_type": "stream",
     "text": [
      "                                                Text  word_count\n",
      "0  I was looking forward to try cranberry apple f...          32\n",
      "1  TY for everything.  The seeds arrived quickly,...          27\n",
      "2  I've finally found the best cereal in the worl...         124\n",
      "3  I originally bought these chips because I'd he...         179\n",
      "4  Really excellent tea, flowers are visible in t...          39\n"
     ]
    }
   ],
   "source": [
    "amazon['word_count'] = amazon['Text'].str.split(' ').str.len()\n",
    "print(amazon[[\"Text\", \"word_count\"]].head())"
   ]
  },
  {
   "cell_type": "markdown",
   "metadata": {},
   "source": [
    "### What is the datatype of `amazon`?"
   ]
  },
  {
   "cell_type": "code",
   "execution_count": 10,
   "metadata": {},
   "outputs": [
    {
     "name": "stdout",
     "output_type": "stream",
     "text": [
      "<class 'pandas.core.frame.DataFrame'>\n",
      "<class 'numpy.ndarray'>\n"
     ]
    }
   ],
   "source": [
    "print(type(amazon))\n",
    "print(type(amazon.values))"
   ]
  },
  {
   "cell_type": "markdown",
   "metadata": {},
   "source": [
    "### What are the datatypes of the features in `amazon`?"
   ]
  },
  {
   "cell_type": "code",
   "execution_count": 11,
   "metadata": {},
   "outputs": [
    {
     "name": "stdout",
     "output_type": "stream",
     "text": [
      "Unnamed: 0                     int64\n",
      "Id                             int64\n",
      "ProductId                     object\n",
      "UserId                        object\n",
      "ProfileName                   object\n",
      "HelpfulnessNumerator           int64\n",
      "HelpfulnessDenominator         int64\n",
      "Score                          int64\n",
      "Time                           int64\n",
      "Summary                       object\n",
      "Text                          object\n",
      "helpScore                    float64\n",
      "helpful                         bool\n",
      "helpfulness_denom_nonzero       bool\n",
      "word_count                     int64\n",
      "dtype: object\n"
     ]
    }
   ],
   "source": [
    "# http://www.datacarpentry.org/python-ecology-lesson/03-data-types-and-format/\n",
    "print(amazon.dtypes)"
   ]
  },
  {
   "cell_type": "markdown",
   "metadata": {},
   "source": [
    "### Look at the text of 10 random reviews"
   ]
  },
  {
   "cell_type": "code",
   "execution_count": 12,
   "metadata": {},
   "outputs": [
    {
     "name": "stdout",
     "output_type": "stream",
     "text": [
      "Received in good condition and in a timely manner.  Great for relaxing the heart. \n",
      "\n",
      "My husband and I love these!  We have them every day with our coffee and so much more economical to buy a case at a time from Amazon rather than individually at the grocery store.  Not only are they \"delish\" but at 100 calories per cookie, it's a guilty pleasure! \n",
      "\n",
      "I recently purchased a case of Zevia.  I was anxious to try out this product.  It arrived today, much to my delight.  After drinking just a half of a can, I came down with a terrible headache.  I couldn't believe it.  The culprit...ERYTHRITOL, a sugar alcohol, the second ingredient in the product; not STEVIA, the fifth ingredient. Also, the product is purported to have -0- calories.  Erythritol contains 2.6 calories per gram.  There are 12 grams of erythritol in each can.  Most erythritol is made from fermenting GMO corn.  How healthy is that? This beverage is VERY expensive and would be well worth it if it were truly an all natural<br />drink, sweetened only with stevia, which is what I thought I purchased. \n",
      "\n",
      "Pop-Tarts are a great source for breakfast, because you can eat them on the run. Living on a ranch you just grab and go. They have super taste and you can eat them without milk or coffee.<br />KC \n",
      "\n",
      "The only Minestrone soup I will eat....and the grocery stores in my area do not carry it.  I am able to buy Muir Glen tomato sauce in Charlotte, NC.<br />  B. Stanley \n",
      "\n",
      "These bars were so good.  There were big pieces of macadamia nut in them and the mango taste was intense. \n",
      "\n",
      "There are only a few treats that are enjoyed by both my cats, Feline Greenies are one of them. One cat is very finicky and won't eat most treats, but then again, that is the nature of cats. They get a few as a treat and they LOVE them. They have an added benefit that they are good for their teeth, though it is not a replacement for teeth cleaning. For those that don't know, teeth cleaning is quite important for cats!<br /><br />These treats have several flavors and they are low in calories, so they are a good treat in my book. 5 stars for being an excellent product. \n",
      "\n",
      "I previously purchased this as a set with 3 other different kinds of pods. This and the breakfast blend I enjoyed the most. The Kona Blend has a little bit of sweetness to it, with bold flavor. It has quickly become my favorite flavor. \n",
      "\n",
      "It took me almost fifteen days to get the candies.<br />It tasted not like the soda candies I had before.<br />The deadline is only two months in the future. \n",
      "\n",
      "I know some people will say \"aw you just don't know nothing about chocolate\" or \"aw you didn't major in chocolate in college\" or \"aw you and Stalin have the same taste in chocolate so who will listen to you\" but believe it or not I did not find these great or worth bragging on.  I loved the dark chocolate and the milk I had before from Leonidas and I finished them in a day.  These I found to be rather bland and after eating a couple I was ready to give them up and eat something else.  I found them really enjoyable though with a nice hot cup of coffee.  With the taste in mind I even let my wife taste and she agreed that these are not of the same taste quality as what we had before.  I think some people will eat these and love them and think they are great but they are just not for me.  Its kind of like when my brother use to eat ketchup sandwiches and loved them so I decided to try it and the taste just wasn't for me and in fact was quite terrible.  I am not a trying to be a jerk but I find that a lot of people have a hard time believing that we all don't have the same taste but I hope if they struggle with my review they will seek help and counseling and come to an understanding. \n",
      "\n"
     ]
    }
   ],
   "source": [
    "this_sample = amazon['Text'].sample(n=10)\n",
    "for sample in this_sample: \n",
    "    print(sample, '\\n')"
   ]
  }
 ],
 "metadata": {
  "kernelspec": {
   "display_name": "Python 3",
   "language": "python",
   "name": "python3"
  },
  "language_info": {
   "codemirror_mode": {
    "name": "ipython",
    "version": 3
   },
   "file_extension": ".py",
   "mimetype": "text/x-python",
   "name": "python",
   "nbconvert_exporter": "python",
   "pygments_lexer": "ipython3",
   "version": "3.7.1"
  }
 },
 "nbformat": 4,
 "nbformat_minor": 1
}
