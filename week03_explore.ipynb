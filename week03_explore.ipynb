{
 "cells": [
  {
   "cell_type": "markdown",
   "metadata": {
    "collapsed": true
   },
   "source": [
    "## Week 3, explore\n",
    "* Read Amazon.csv\n",
    "* Get to know the data\n"
   ]
  },
  {
   "cell_type": "code",
   "execution_count": 1,
   "metadata": {},
   "outputs": [],
   "source": [
    "# imports and specifications\n",
    "import numpy as np\n",
    "import pandas as pd\n",
    "import matplotlib.pyplot as plt\n",
    "%matplotlib inline"
   ]
  },
  {
   "cell_type": "markdown",
   "metadata": {},
   "source": [
    "### read Amazon.csv"
   ]
  },
  {
   "cell_type": "code",
   "execution_count": 2,
   "metadata": {},
   "outputs": [],
   "source": [
    "amazon = pd.read_csv('../DATASET/Amazon.csv')"
   ]
  },
  {
   "cell_type": "markdown",
   "metadata": {},
   "source": [
    "### get to know the data"
   ]
  },
  {
   "cell_type": "code",
   "execution_count": 3,
   "metadata": {},
   "outputs": [
    {
     "name": "stdout",
     "output_type": "stream",
     "text": [
      "amazon is: <class 'pandas.core.frame.DataFrame'>\n",
      "amazon has 455000 rows and 13 columns \n",
      "\n",
      "the data types for each of the columns in amazon:\n",
      "Unnamed: 0                  int64\n",
      "Id                          int64\n",
      "ProductId                  object\n",
      "UserId                     object\n",
      "ProfileName                object\n",
      "HelpfulnessNumerator        int64\n",
      "HelpfulnessDenominator      int64\n",
      "Score                       int64\n",
      "Time                        int64\n",
      "Summary                    object\n",
      "Text                       object\n",
      "helpScore                 float64\n",
      "helpful                      bool\n",
      "dtype: object \n",
      "\n",
      "the first 10 rows in amazon:\n",
      "   Unnamed: 0      Id   ProductId          UserId       ProfileName  \\\n",
      "0      138806  138807  B000E63LME  A1CQGW1AOD0LF2  Alena K. \"Alena\"   \n",
      "1      469680  469681  B004ZIH4KM  A37S7U1OX2MCWI        Becky Cole   \n",
      "2      238202  238203  B003ZXE9QA  A2OM6G73E64EQ9              jeff   \n",
      "3      485307  485308  B001RVFERK  A25W349EE97NBK          Tangent4   \n",
      "4      375283  375284  B000OQZNTS  A3CPPW0HUC07YS       Amy Nicolai   \n",
      "5      530491  530492  B001E5DX90  A26XS571YR9XPF          Briana B   \n",
      "6      355114  355115  B000IGAE66   A1WFG6OC3PPGZ          N. Myhre   \n",
      "7      565582  565583  B002GKEK7G  A119CG9WIR9PEG         SWalling1   \n",
      "8      173265  173266  B000XZBXP8  A26F4DH22KS0ZC            DocT65   \n",
      "9      500973  500974  B001EQ5GZI  A206PQUGK87WZ7          N. Wells   \n",
      "\n",
      "   HelpfulnessNumerator  HelpfulnessDenominator  Score        Time  \\\n",
      "0                     1                       2      2  1294185600   \n",
      "1                     0                       0      5  1349740800   \n",
      "2                     0                       0      5  1329264000   \n",
      "3                     1                       1      4  1248307200   \n",
      "4                     0                       0      5  1333238400   \n",
      "5                     0                       0      5  1191628800   \n",
      "6                     0                       0      5  1293321600   \n",
      "7                     0                       0      5  1261094400   \n",
      "8                     1                       1      5  1326672000   \n",
      "9                     0                       0      5  1274054400   \n",
      "\n",
      "                                      Summary  \\\n",
      "0                            Not as pictured.   \n",
      "1                                       seeds   \n",
      "2                               I'm addicted!   \n",
      "3                   I wanted to love these...   \n",
      "4                     Excellent chamomile tea   \n",
      "5                          Better than Coffee   \n",
      "6  Great Ceasers Ghost- These Cakes Are Great   \n",
      "7               Are you kidding me!? SO GOOD!   \n",
      "8                          Fantastic dog food   \n",
      "9                        morning wake up call   \n",
      "\n",
      "                                                Text  helpScore  helpful  \n",
      "0  I was looking forward to try cranberry apple f...        0.5    False  \n",
      "1  TY for everything.  The seeds arrived quickly,...        NaN    False  \n",
      "2  I've finally found the best cereal in the worl...        NaN    False  \n",
      "3  I originally bought these chips because I'd he...        1.0    False  \n",
      "4  Really excellent tea, flowers are visible in t...        NaN    False  \n",
      "5  I never was a big fan of tea but this is not l...        NaN    False  \n",
      "6  WOW WOW WOW WOW,WOW,truly great tasting Banana...        NaN    False  \n",
      "7  The words 'protein drink' don't generally conj...        NaN    False  \n",
      "8  We have 2 dogs, Dachshund and a German Shepher...        1.0    False  \n",
      "9  after trying most brands of coffee, I have set...        NaN    False  \n"
     ]
    }
   ],
   "source": [
    "print(\"amazon is:\", type(amazon))\n",
    "print(\"amazon has\", amazon.shape[0], \"rows and\", amazon.shape[1], \"columns\", \"\\n\")\n",
    "print(\"the data types for each of the columns in amazon:\")\n",
    "print(amazon.dtypes, \"\\n\")\n",
    "print(\"the first 10 rows in amazon:\")\n",
    "print(amazon.head(10))"
   ]
  },
  {
   "cell_type": "markdown",
   "metadata": {},
   "source": [
    "### What is the relationship between the \"Helpful Denominator\" and the number of stars given?"
   ]
  },
  {
   "cell_type": "code",
   "execution_count": 4,
   "metadata": {},
   "outputs": [
    {
     "data": {
      "text/plain": [
       "<matplotlib.collections.PathCollection at 0x116904588>"
      ]
     },
     "execution_count": 4,
     "metadata": {},
     "output_type": "execute_result"
    },
    {
     "data": {
      "image/png": "[encoded data removed]",
      "text/plain": [
       "<Figure size 432x288 with 1 Axes>"
      ]
     },
     "metadata": {
      "needs_background": "light"
     },
     "output_type": "display_data"
    }
   ],
   "source": [
    "plt.scatter(amazon[\"HelpfulnessDenominator\"], amazon[\"Score\"])"
   ]
  },
  {
   "cell_type": "markdown",
   "metadata": {},
   "source": [
    "### Let's get to know \"HelpfulnessDenominator\""
   ]
  },
  {
   "cell_type": "code",
   "execution_count": 5,
   "metadata": {},
   "outputs": [
    {
     "data": {
      "text/plain": [
       "455000"
      ]
     },
     "execution_count": 5,
     "metadata": {},
     "output_type": "execute_result"
    }
   ],
   "source": [
    "amazon[\"HelpfulnessDenominator\"].count()"
   ]
  },
  {
   "cell_type": "code",
   "execution_count": 6,
   "metadata": {},
   "outputs": [
    {
     "data": {
      "text/plain": [
       "2.2188945054945055"
      ]
     },
     "execution_count": 6,
     "metadata": {},
     "output_type": "execute_result"
    }
   ],
   "source": [
    "amazon[\"HelpfulnessDenominator\"].mean()"
   ]
  },
  {
   "cell_type": "code",
   "execution_count": 7,
   "metadata": {},
   "outputs": [
    {
     "data": {
      "text/plain": [
       "238678"
      ]
     },
     "execution_count": 7,
     "metadata": {},
     "output_type": "execute_result"
    }
   ],
   "source": [
    "amazon['helpfulness_denom_nonzero'] = amazon['HelpfulnessDenominator'] > 0\n",
    "amazon['helpfulness_denom_nonzero'].sum()"
   ]
  },
  {
   "cell_type": "markdown",
   "metadata": {},
   "source": [
    "### create a subset of Amazon that only includes reviews where someone marked whether it's helpful"
   ]
  },
  {
   "cell_type": "code",
   "execution_count": 8,
   "metadata": {},
   "outputs": [
    {
     "data": {
      "text/plain": [
       "(238678, 14)"
      ]
     },
     "execution_count": 8,
     "metadata": {},
     "output_type": "execute_result"
    }
   ],
   "source": [
    "a2 = amazon.loc[amazon[\"helpfulness_denom_nonzero\"]==True]\n",
    "a2.shape"
   ]
  },
  {
   "cell_type": "markdown",
   "metadata": {},
   "source": [
    "### Create a feature that contains the quantity of the number of words in a review (word count)"
   ]
  },
  {
   "cell_type": "code",
   "execution_count": 9,
   "metadata": {},
   "outputs": [
    {
     "name": "stdout",
     "output_type": "stream",
     "text": [
      "                                                Text  word_count\n",
      "0  I was looking forward to try cranberry apple f...          32\n",
      "1  TY for everything.  The seeds arrived quickly,...          27\n",
      "2  I've finally found the best cereal in the worl...         124\n",
      "3  I originally bought these chips because I'd he...         179\n",
      "4  Really excellent tea, flowers are visible in t...          39\n"
     ]
    }
   ],
   "source": [
    "amazon['word_count'] = amazon['Text'].str.split(' ').str.len()\n",
    "print(amazon[[\"Text\", \"word_count\"]].head())"
   ]
  },
  {
   "cell_type": "markdown",
   "metadata": {},
   "source": [
    "### What is the datatype of `amazon`?"
   ]
  },
  {
   "cell_type": "code",
   "execution_count": 10,
   "metadata": {},
   "outputs": [
    {
     "name": "stdout",
     "output_type": "stream",
     "text": [
      "<class 'pandas.core.frame.DataFrame'>\n",
      "<class 'numpy.ndarray'>\n"
     ]
    }
   ],
   "source": [
    "print(type(amazon))\n",
    "print(type(amazon.values))"
   ]
  },
  {
   "cell_type": "markdown",
   "metadata": {},
   "source": [
    "### What are the datatypes of the features in `amazon`?"
   ]
  },
  {
   "cell_type": "code",
   "execution_count": 11,
   "metadata": {},
   "outputs": [
    {
     "name": "stdout",
     "output_type": "stream",
     "text": [
      "Unnamed: 0                     int64\n",
      "Id                             int64\n",
      "ProductId                     object\n",
      "UserId                        object\n",
      "ProfileName                   object\n",
      "HelpfulnessNumerator           int64\n",
      "HelpfulnessDenominator         int64\n",
      "Score                          int64\n",
      "Time                           int64\n",
      "Summary                       object\n",
      "Text                          object\n",
      "helpScore                    float64\n",
      "helpful                         bool\n",
      "helpfulness_denom_nonzero       bool\n",
      "word_count                     int64\n",
      "dtype: object\n"
     ]
    }
   ],
   "source": [
    "# http://www.datacarpentry.org/python-ecology-lesson/03-data-types-and-format/\n",
    "print(amazon.dtypes)"
   ]
  },
  {
   "cell_type": "markdown",
   "metadata": {},
   "source": [
    "### Look at the text of 10 random reviews"
   ]
  },
  {
   "cell_type": "code",
   "execution_count": 19,
   "metadata": {},
   "outputs": [
    {
     "name": "stdout",
     "output_type": "stream",
     "text": [
      "We recently recieved 2 samples of the 5-Hour Energy and my Husband and my Son inlaw used them the next morning. They had both just gotten off from working night shift, my son in law a 8-10hr shift and my hubby a 12hr shift. They had to work on the car so both took the 5-Hour energy shots and were up all day. Not only did it give them the energy to stay awake and alert enough to fix the car, they also fixed the mower, built on a clubhouse for the kids and cut up a fallen treee in the yard. So in my oppinion the 5-Hour Energy is well worth the cost, and I would buy and use them again. \"I received a free sample of 5-Hour ENERGY® from Smiley360.\" \n",
      "\n",
      "-----------------\n",
      "I ordered this product from Amazon with hesitancy, which I normally buy from Indian grocery stores.  When I placed the order the shipping date showed as 30 to 45 days, but it arrived in 7 days.  The product was fresher and cheaper than any grocery stores.  I use it as a snack and to and to desserts. I was thrilled with the experience of ordering a food item from a website, from where I only bought electronic items and books.  This is one of the best purchases I made at Amazon. I ordered the \"Frontier Cardamom Pods\" along with this order to avoid paying shipping charges and plus I use it in Indian tea and desserts.  I give this product 5 stars as it arrived on time, and when I opened the packet it was fresh, and full of flavor and would highly recommend buying this product from Amazon. \n",
      "\n",
      "-----------------\n",
      "One of my cats had food allergy. He vomited once to twice a week so my vet suggested to feed him Hill's Prescription Diet d/d - Duck & Green Pea Dry Food. It helped! My cat stopped vomiting but it didn't help my wallet!  That particular dry food is extremely pricey (3.5 lbs for $24. Yikes!!)  So I had to look for alternative.  Nature Balance Green Pea & Duck is a great replacement and much cheaper (although not as cheap as I hope but I accept the fact that premium food cost more).  The only downside is that it is not available in the stores near my house. Although it is convenient to order online but still, I like to be able to pick it up in the local store. \n",
      "\n",
      "-----------------\n",
      "This some good sausage seasoning, has a great garlic taste, I use half the recommended seasoning on a 10lb mix and its just right for me. Great product \n",
      "\n",
      "-----------------\n",
      "I decided to try this product based on the reviews. Taste is subjective, I realize. But I was not  pleased. The coffee had a good enough flavor but it left a chalky after feel and slightly bitter. I was disappointed. \n",
      "\n",
      "-----------------\n",
      "These cubes are perfect for the morning espresso or cappuccino. Their taste is complementing taste of coffee.<br /><br />I used to buy a <a href=\"http://www.amazon.com/gp/product/B002ONPXH6\">Tate Lyle Demerera</a> cubes at the local store - not anymore! \n",
      "\n",
      "-----------------\n",
      "... I was excited to find these on Amazon, but i was a bit disappointed.  Unlike the bars I have purchased locally, the bar cannot be extracted from the wrapper intact; they stick to the wrapper as if they had not been kept in a cool dry place.  Except for the annoyance of peeling them off by pieces from the wrapper, they are still quite tasty. \n",
      "\n",
      "-----------------\n",
      "These take a bit of work; rise them off, then boil for a bit, then try to dry them off, then fry them till squeeky, then add them to your item you're making.  Good luck trying to cut them.  They have no taste so works well in stir fry, or soup, or even spagetti sauce.  I am used to dry noodles; these are slippery and wet when you take them out of the package.  I'm not impressed. \n",
      "\n",
      "-----------------\n",
      "I love to blend the chocolate with a couple frozen bananas to make a great chocolate smoothie. I only wish it was a little bit cheaper because I want to drink these every single day. \n",
      "\n",
      "-----------------\n",
      "I DRINK THE SENSEO ESPRESSO EVERY DAY & LOVE IT.  THEY ARE MUCH MORE EXPENSIVE AT THE SUPERMARKET.  THIS IS SO MUCH EASIER & COST EFFECTIVE. HIGHLY RECOMMEND. \n",
      "\n",
      "-----------------\n",
      "I buy a bag for him every month and allow him 1-1.5 strips a day.  He hears the package crumple and comes running! He has separation anxiety and this is the only thing he will eat if he suspects we are leaving. If he knows I'm holding he will not let me out of his sight. He has a great nose, so I like to hide them in various places and he loves the hunt. Have tried numerous other treats - Mellow Mutt and Happy Hips jerky is the brand he goes crazy for \n",
      "\n",
      "-----------------\n",
      "My son cannot have gluten and this was wonderful, the pancakes were delicious. Everyone had them even the picky kids.Thanks I ordered two more. Tricia \n",
      "\n",
      "-----------------\n",
      "This product has improved our dog's breath and the tartar build up on her teeth.  I would recommend this product. \n",
      "\n",
      "-----------------\n",
      "My dog loved these snacks which only used to have a few solid ingredients but then they added a bunch of crap to include sugar.  Dog treats shouldn't have sugar and even products from Milo's Kitchen which is supposed to be nutritious/wholesome has sugar.  I'm very disappointed and I reached out to them and they gave me a generic response (we have received your message and will forward to the appropriate folks). \n",
      "\n",
      "-----------------\n",
      "Maybe the title above says it all.  A cup of Folger's is a perfectly fine cup of coffee but it's the Little League compared to Starbucks.  When we stop at a Starbucks' coffee shop, we know that we'll be paying a good deal more for the coffee -- but we're glad (?) to do so.  It's really fine coffee.  And so too with this 11-ounce package of ground coffee -- the price is more than a bit higher than the regular coffees.  And the taste, especially this one with the strong hint of vanilla, is better too.<br /><br />So treat yourself at home.  Buy the packaged ground Starbucks coffee and get that same great taste. \n",
      "\n",
      "-----------------\n",
      "Price dropped by $5 in matter of 2 days.  Item didn't even arrive but Amazon refused to price match.  Disappointed with policy but tea itself is good. \n",
      "\n",
      "-----------------\n",
      "Both flavors I bought,coffee and chocolate, have great taste, 11gm. of protein and only 180 calories. The price was right and delivery rapid. \n",
      "\n",
      "-----------------\n",
      "I found this product in a coffee shop in Chincoteague, VA  And was blown away by it's taste.  Energizing, but not too over the top.  And I received it quickly. \n",
      "\n",
      "-----------------\n",
      "It's distracting to drink something that smells like pipe tobacco, so I am not giving this product a high personal rating. Also, I like my fruit drinks more authentic, with fewer mystery ingredients and preservatives added. This product is so well preserved, they recommend keeping it in the refrigerator, not the freezer. \n",
      "\n",
      "-----------------\n",
      "As a foodie, I'm also a bit of a snob about teas, generally preferring organic, muslin-bagged or loose teas. That said, this Stash Chanakara Tea sampler, on first try, immediately became my favourite tea purchase, and I promptly ordered this excellent bulk value offered by Amazon, soon after trying each of the seven teas included in the box. Each tea \"chakra\" consists of extremely aromatic and flavour-filled combinations of herbs, flowers, leaves of a colour corresponding to each chakra. While I cannot offer evidence of their efficacy in chakra work, I will say I did some best-guessing about where my particular energies were on a given day, and found that the chakra-tea I chose each time really did seem particularly soothing. New age-y ideas aside, the teas really are extremely flavourful without being overly sour (as I find many brands, like Celestial Seasonings, can be). The scents are noticeably lovely, and for me, I didn't find one flavour that I didn't truly love. Highly recommend. \n",
      "\n",
      "-----------------\n",
      "I thought I didn't care for decaf espresso since it always had a bitter flavor that ranged from a moderate undertone to an overwhelming bite. I enjoy strong-flavored coffee, but bitter coffee is another story.<br /><br />Well, it turns out that I was just drinking the wrong stuff. Lavazza decaf is absolutely delightful. Strong, full-bodied, but no bitterness. Nice crema, smooth and rich. Really hits the spot!<br /><br />It does, however, have a bit more caffeine than other decafs. Not much, but I can feel it a bit (I'm very sensitive to caffeine - if you're not, you probably won't notice it). Not enough that it causes a problem. But even if it did, I'd probably still drink this - it's that good!<br /><br />Highly recommend. \n",
      "\n",
      "-----------------\n",
      "Couldn't find this cereal in any stores near me so I ordered from Amazon.  It was packaged nicely and now I am stocked up and probably won't need to buy anymore cereal as my 9 month old REALLY wants to eat table food!  Watch the pricing as it does skyrocket then come back down to \"normal\".  I got this product for a little less than what I would spend for a regular box of Earth's Best whole grain cereal in the stores. \n",
      "\n",
      "-----------------\n",
      "With the subscribe and save option these are MUCH cheaper per box then my local stores. I did open the box to discover the flavor treats, but my puppy isn't complaining a bit!! ;) \n",
      "\n",
      "-----------------\n",
      "I heard about this product through a friend and decided to give it a try. Peanut butter without the fat, yes please! I found this product to be delicious and use it mainly in refrigerator oatmeal. It tastes just like peanut butter and mixes perfectly! Not to mention it lasts a while so you are definitely getting the bang for your buck. I can't wait to try this in smoothies and PB cookies! I am for sure recommending this to my friends! Give it a try! \n",
      "\n",
      "-----------------\n",
      "I love this product and the taste is amazing. I use it in recipes too that call for ginger instead of ginger powder. This is fast and convenient. I take it for travel and after a long scuba dive, super convenient and a great price. Love, love, love this... \n",
      "\n",
      "-----------------\n",
      "Having spent a decent amount on time in SE Asia (and Singapore specifically) during my childhood, I frequently get cravings for Singaporean-style curry, hawker food and snacks.  As a result I am constantly on a hunt for fresh and authentic ingredients when and where I can get them to attempt to reproduce those dishes at home.  I even have friends send spice mixes and tinned pastes  from Singapore when the markets here fail me.<br /><br />What makes this curry-in-a-packet so good is that it has 2 separate pouches for the spice mix and for the coconut mix. This ensures freshness and authentic flavour when the coconut is added to the mix at the correct moment during the cooking process.  Also, other Singaporean brands do not include the coconut  mixture (requiring additional purchases) or the coconut is already added (affecting flavour).  Prima Taste is one of many curry packets available in Singapore and has a loyal following for its authentic spices.  This is one of the brands that I am sent if my Singaporean friends don't use it all up first!<br /><br />Needless to say, I am really happy that Prima Taste is now available in N. America and through Amazon.<br /><br />To sum:<br />+ Authentic spices in a vacuum-packed pouch<br />+ Pouch of correct amount of coconut mixture (coconut milk plus fresh shredded coconut). So there is no need to buy a separate can of coconut milk and shredded coconut to be partially used.<br />+ All-in-one - just add meat<br />+ No need to hunt down separate ingredients.<br /><br />The only CON is that the prices are double that of Singapore but hopefully should come down as more people discover Prima Taste. \n",
      "\n",
      "-----------------\n",
      "Really enjoy those Redskins. Realy disappointment that Planters discontinued those big cans. Now I have to buy small ones frequently. Let's get them back. \n",
      "\n",
      "-----------------\n",
      "Nice surprise for an instant product - dissolved immediately.<br /><br />The lemon wasn't too tart, it was very good. The ginger had just the right amount of kick to it. And the honey sweetened it up just enough, without taking over the flavor.<br /><br />Masterfully blended ingredients, all healthy and natural.<br /><br />Take a foil packet to a restaurant and ask for a cup of hot water (and, you probably only need to use 1/2 a packet in a regular coffee cup).<br /><br />Hint for those natural health types that exercise regularly: Ginger before your workout will get you sweating fairly fast.<br /><br />MOST HIGHLY RECOMMENDED!!! \n",
      "\n",
      "-----------------\n",
      "These are ironically too gritty. The texture is completely different than any other grit I've had. I was trying to find an organic grit as opposed to commercial brands but we couldn't even eat them.... \n",
      "\n",
      "-----------------\n",
      "Great taste and texture. Bought this on a whim and didn't think it would be as good as Oat Meal due to the higher fiber content (but did it any way given it's healthier). I actually prefer it to Oat Meal after my first bowl. Strongly recommended! \n",
      "\n",
      "-----------------\n"
     ]
    }
   ],
   "source": [
    "this_sample = amazon['Text'].sample(n=30)\n",
    "for sample in this_sample: \n",
    "    print(sample, '\\n')\n",
    "    print('-----------------')"
   ]
  },
  {
   "cell_type": "code",
   "execution_count": null,
   "metadata": {},
   "outputs": [],
   "source": []
  }
 ],
 "metadata": {
  "kernelspec": {
   "display_name": "Python 3",
   "language": "python",
   "name": "python3"
  },
  "language_info": {
   "codemirror_mode": {
    "name": "ipython",
    "version": 3
   },
   "file_extension": ".py",
   "mimetype": "text/x-python",
   "name": "python",
   "nbconvert_exporter": "python",
   "pygments_lexer": "ipython3",
   "version": "3.7.1"
  }
 },
 "nbformat": 4,
 "nbformat_minor": 1
}
