{
 "cells": [
  {
   "cell_type": "code",
   "execution_count": 1,
   "metadata": {},
   "outputs": [],
   "source": [
    "import numpy as np\n",
    "import pandas as pd\n",
    "import matplotlib.pyplot as plt\n",
    "%matplotlib inline"
   ]
  },
  {
   "cell_type": "code",
   "execution_count": 7,
   "metadata": {},
   "outputs": [
    {
     "name": "stdout",
     "output_type": "stream",
     "text": [
      "Unnamed: 0                  int64\n",
      "Id                          int64\n",
      "ProductId                  object\n",
      "UserId                     object\n",
      "ProfileName                object\n",
      "HelpfulnessNumerator        int64\n",
      "HelpfulnessDenominator      int64\n",
      "Score                       int64\n",
      "Time                        int64\n",
      "Summary                    object\n",
      "Text                       object\n",
      "helpScore                 float64\n",
      "helpful                      bool\n",
      "dtype: object\n",
      "   Unnamed: 0      Id   ProductId          UserId       ProfileName  \\\n",
      "0      138806  138807  B000E63LME  A1CQGW1AOD0LF2  Alena K. \"Alena\"   \n",
      "1      469680  469681  B004ZIH4KM  A37S7U1OX2MCWI        Becky Cole   \n",
      "2      238202  238203  B003ZXE9QA  A2OM6G73E64EQ9              jeff   \n",
      "3      485307  485308  B001RVFERK  A25W349EE97NBK          Tangent4   \n",
      "4      375283  375284  B000OQZNTS  A3CPPW0HUC07YS       Amy Nicolai   \n",
      "5      530491  530492  B001E5DX90  A26XS571YR9XPF          Briana B   \n",
      "6      355114  355115  B000IGAE66   A1WFG6OC3PPGZ          N. Myhre   \n",
      "7      565582  565583  B002GKEK7G  A119CG9WIR9PEG         SWalling1   \n",
      "8      173265  173266  B000XZBXP8  A26F4DH22KS0ZC            DocT65   \n",
      "9      500973  500974  B001EQ5GZI  A206PQUGK87WZ7          N. Wells   \n",
      "\n",
      "   HelpfulnessNumerator  HelpfulnessDenominator  Score        Time  \\\n",
      "0                     1                       2      2  1294185600   \n",
      "1                     0                       0      5  1349740800   \n",
      "2                     0                       0      5  1329264000   \n",
      "3                     1                       1      4  1248307200   \n",
      "4                     0                       0      5  1333238400   \n",
      "5                     0                       0      5  1191628800   \n",
      "6                     0                       0      5  1293321600   \n",
      "7                     0                       0      5  1261094400   \n",
      "8                     1                       1      5  1326672000   \n",
      "9                     0                       0      5  1274054400   \n",
      "\n",
      "                                      Summary  \\\n",
      "0                            Not as pictured.   \n",
      "1                                       seeds   \n",
      "2                               I'm addicted!   \n",
      "3                   I wanted to love these...   \n",
      "4                     Excellent chamomile tea   \n",
      "5                          Better than Coffee   \n",
      "6  Great Ceasers Ghost- These Cakes Are Great   \n",
      "7               Are you kidding me!? SO GOOD!   \n",
      "8                          Fantastic dog food   \n",
      "9                        morning wake up call   \n",
      "\n",
      "                                                Text  helpScore  helpful  \n",
      "0  I was looking forward to try cranberry apple f...        0.5    False  \n",
      "1  TY for everything.  The seeds arrived quickly,...        NaN    False  \n",
      "2  I've finally found the best cereal in the worl...        NaN    False  \n",
      "3  I originally bought these chips because I'd he...        1.0    False  \n",
      "4  Really excellent tea, flowers are visible in t...        NaN    False  \n",
      "5  I never was a big fan of tea but this is not l...        NaN    False  \n",
      "6  WOW WOW WOW WOW,WOW,truly great tasting Banana...        NaN    False  \n",
      "7  The words 'protein drink' don't generally conj...        NaN    False  \n",
      "8  We have 2 dogs, Dachshund and a German Shepher...        1.0    False  \n",
      "9  after trying most brands of coffee, I have set...        NaN    False  \n"
     ]
    }
   ],
   "source": [
    "data = pd.read_csv('/Users/working/Documents/ParsonsSchool/Sp19/MachineLearning/DATASET/Amazon.csv')\n",
    "\n",
    "# create a boolean indicator =True if the definition is of \"machine learning\"\n",
    "#data['ml'] = data['term'] == 'machine learning'\n",
    "\n",
    "print(data.dtypes)\n",
    "print(data.head(10))"
   ]
  },
  {
   "cell_type": "markdown",
   "metadata": {},
   "source": [
    "### <span style=\"color:red\">create feature set X (matrix) and vector of labels L</span>\n",
    "\n",
    "Use [feature extraction methods in scikit-learn](http://scikit-learn.org/stable/modules/feature_extraction.html#text-feature-extraction) to *vectorize* the text of machine learning/AI definitions into an X matrix. \n",
    "                                                "
   ]
  },
  {
   "cell_type": "code",
   "execution_count": 6,
   "metadata": {},
   "outputs": [
    {
     "name": "stdout",
     "output_type": "stream",
     "text": [
      "(455000, 109302)\n"
     ]
    }
   ],
   "source": [
    "from sklearn.feature_extraction.text import CountVectorizer\n",
    "\n",
    "L = data[\"helpful\"] # labels\n",
    "corpus = data['Text'] # corpus of reviews in words\n",
    "vectorizer = CountVectorizer()\n",
    "X = vectorizer.fit_transform(corpus)  #所有的 column\n",
    "print(X.shape)"
   ]
  },
  {
   "cell_type": "code",
   "execution_count": 13,
   "metadata": {},
   "outputs": [
    {
     "name": "stdout",
     "output_type": "stream",
     "text": [
      "109302\n",
      "* * * * *\n"
     ]
    },
    {
     "ename": "AttributeError",
     "evalue": "'CountVectorizer' object has no attribute 'head'",
     "output_type": "error",
     "traceback": [
      "\u001b[0;31m---------------------------------------------------------------------------\u001b[0m",
      "\u001b[0;31mAttributeError\u001b[0m                            Traceback (most recent call last)",
      "\u001b[0;32m<ipython-input-13-52bfe4c2b377>\u001b[0m in \u001b[0;36m<module>\u001b[0;34m\u001b[0m\n\u001b[1;32m      1\u001b[0m \u001b[0mprint\u001b[0m\u001b[0;34m(\u001b[0m\u001b[0mlen\u001b[0m\u001b[0;34m(\u001b[0m\u001b[0mvectorizer\u001b[0m\u001b[0;34m.\u001b[0m\u001b[0mvocabulary_\u001b[0m\u001b[0;34m)\u001b[0m\u001b[0;34m)\u001b[0m\u001b[0;34m\u001b[0m\u001b[0;34m\u001b[0m\u001b[0m\n\u001b[1;32m      2\u001b[0m \u001b[0mprint\u001b[0m\u001b[0;34m(\u001b[0m\u001b[0;34m\"* * * * *\"\u001b[0m\u001b[0;34m)\u001b[0m\u001b[0;34m\u001b[0m\u001b[0;34m\u001b[0m\u001b[0m\n\u001b[0;32m----> 3\u001b[0;31m \u001b[0mprint\u001b[0m\u001b[0;34m(\u001b[0m\u001b[0mvectorizer\u001b[0m\u001b[0;34m.\u001b[0m\u001b[0mhead\u001b[0m\u001b[0;34m(\u001b[0m\u001b[0;36m10\u001b[0m\u001b[0;34m)\u001b[0m\u001b[0;34m)\u001b[0m  \u001b[0;31m#Too huge find a way out.\u001b[0m\u001b[0;34m\u001b[0m\u001b[0;34m\u001b[0m\u001b[0m\n\u001b[0m",
      "\u001b[0;31mAttributeError\u001b[0m: 'CountVectorizer' object has no attribute 'head'"
     ]
    }
   ],
   "source": [
    "print(len(vectorizer.vocabulary_))\n",
    "print(\"* * * * *\")\n",
    "print(vectorizer.vocabulary_.head(10))  #Too huge find a way out. "
   ]
  },
  {
   "cell_type": "markdown",
   "metadata": {},
   "source": [
    "### <span style=\"color:red\">fit X, L to SVM using gradient descent</span>\n",
    "\n",
    "[gradient descent documentation](http://scikit-learn.org/stable/modules/generated/sklearn.linear_model.SGDClassifier.html)"
   ]
  },
  {
   "cell_type": "code",
   "execution_count": 11,
   "metadata": {},
   "outputs": [
    {
     "name": "stderr",
     "output_type": "stream",
     "text": [
      "/anaconda3/lib/python3.7/site-packages/sklearn/linear_model/stochastic_gradient.py:166: FutureWarning: max_iter and tol parameters have been added in SGDClassifier in 0.19. If both are left unset, they default to max_iter=5 and tol=None. If tol is not None, max_iter defaults to max_iter=1000. From 0.21, default max_iter will be 1000, and default tol will be 1e-3.\n",
      "  FutureWarning)\n"
     ]
    },
    {
     "data": {
      "text/plain": [
       "SGDClassifier(alpha=0.0001, average=False, class_weight=None,\n",
       "       early_stopping=False, epsilon=0.1, eta0=0.0, fit_intercept=True,\n",
       "       l1_ratio=0.15, learning_rate='optimal', loss='hinge', max_iter=None,\n",
       "       n_iter=None, n_iter_no_change=5, n_jobs=None, penalty='l2',\n",
       "       power_t=0.5, random_state=None, shuffle=True, tol=None,\n",
       "       validation_fraction=0.1, verbose=0, warm_start=False)"
      ]
     },
     "execution_count": 11,
     "metadata": {},
     "output_type": "execute_result"
    }
   ],
   "source": [
    "# fit SVM linear classifier\n",
    "from sklearn import linear_model\n",
    "sgd = linear_model.SGDClassifier()\n",
    "sgd.fit(X, L)"
   ]
  },
  {
   "cell_type": "code",
   "execution_count": null,
   "metadata": {},
   "outputs": [],
   "source": []
  }
 ],
 "metadata": {
  "kernelspec": {
   "display_name": "Python 3",
   "language": "python",
   "name": "python3"
  },
  "language_info": {
   "codemirror_mode": {
    "name": "ipython",
    "version": 3
   },
   "file_extension": ".py",
   "mimetype": "text/x-python",
   "name": "python",
   "nbconvert_exporter": "python",
   "pygments_lexer": "ipython3",
   "version": "3.7.1"
  }
 },
 "nbformat": 4,
 "nbformat_minor": 2
}
