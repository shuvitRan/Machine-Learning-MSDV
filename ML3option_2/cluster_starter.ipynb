{
 "cells": [
  {
   "cell_type": "code",
   "execution_count": 121,
   "metadata": {},
   "outputs": [],
   "source": [
    "import numpy as np\n",
    "import pandas as pd\n",
    "import matplotlib.pyplot as plt\n",
    "%matplotlib inline"
   ]
  },
  {
   "cell_type": "markdown",
   "metadata": {},
   "source": [
    "## read and describe the metadata"
   ]
  },
  {
   "cell_type": "code",
   "execution_count": 122,
   "metadata": {},
   "outputs": [],
   "source": [
    "fpn_csv = '/Users/working/Documents/ParsonsSchool/Sp19/MachineLearning/MLProject/ML3option_2/cluster_images.csv'\n",
    "data = pd.read_csv(fpn_csv, encoding='ISO-8859-1')"
   ]
  },
  {
   "cell_type": "code",
   "execution_count": 123,
   "metadata": {},
   "outputs": [
    {
     "data": {
      "text/plain": [
       "['s_no',\n",
       " 'artist',\n",
       " 'title',\n",
       " 'art_movement',\n",
       " 'museum_venue',\n",
       " 'country_of_origin',\n",
       " 'has_text',\n",
       " 'primary_medium',\n",
       " 'medium',\n",
       " 'work_size',\n",
       " 'date',\n",
       " 'representation',\n",
       " 'representation_semi',\n",
       " 'kinetic',\n",
       " 'map',\n",
       " 'map2',\n",
       " 'spatial_dimension',\n",
       " 'spatial_dimension2',\n",
       " 'pl',\n",
       " 'si',\n",
       " 'va',\n",
       " 'te',\n",
       " 'co',\n",
       " 'or',\n",
       " 'sh',\n",
       " 'reflection',\n",
       " 'po',\n",
       " 'li',\n",
       " 'ar',\n",
       " 'notes']"
      ]
     },
     "execution_count": 123,
     "metadata": {},
     "output_type": "execute_result"
    }
   ],
   "source": [
    "# get column names\n",
    "list(data)"
   ]
  },
  {
   "cell_type": "code",
   "execution_count": 124,
   "metadata": {},
   "outputs": [
    {
     "data": {
      "text/html": [
       "<div>\n",
       "<style scoped>\n",
       "    .dataframe tbody tr th:only-of-type {\n",
       "        vertical-align: middle;\n",
       "    }\n",
       "\n",
       "    .dataframe tbody tr th {\n",
       "        vertical-align: top;\n",
       "    }\n",
       "\n",
       "    .dataframe thead th {\n",
       "        text-align: right;\n",
       "    }\n",
       "</style>\n",
       "<table border=\"1\" class=\"dataframe\">\n",
       "  <thead>\n",
       "    <tr style=\"text-align: right;\">\n",
       "      <th></th>\n",
       "      <th>s_no</th>\n",
       "      <th>artist</th>\n",
       "      <th>title</th>\n",
       "      <th>art_movement</th>\n",
       "      <th>museum_venue</th>\n",
       "      <th>country_of_origin</th>\n",
       "      <th>has_text</th>\n",
       "      <th>primary_medium</th>\n",
       "      <th>medium</th>\n",
       "      <th>work_size</th>\n",
       "      <th>...</th>\n",
       "      <th>va</th>\n",
       "      <th>te</th>\n",
       "      <th>co</th>\n",
       "      <th>or</th>\n",
       "      <th>sh</th>\n",
       "      <th>reflection</th>\n",
       "      <th>po</th>\n",
       "      <th>li</th>\n",
       "      <th>ar</th>\n",
       "      <th>notes</th>\n",
       "    </tr>\n",
       "  </thead>\n",
       "  <tbody>\n",
       "    <tr>\n",
       "      <th>0</th>\n",
       "      <td>2</td>\n",
       "      <td>Giorgio de Chirico</td>\n",
       "      <td>The Uncertainty of the Poet</td>\n",
       "      <td>surrealism</td>\n",
       "      <td>Tate</td>\n",
       "      <td>Italy</td>\n",
       "      <td>False</td>\n",
       "      <td>painting</td>\n",
       "      <td>painting, oil on canvas</td>\n",
       "      <td>106 x 94 cm</td>\n",
       "      <td>...</td>\n",
       "      <td>3</td>\n",
       "      <td>0</td>\n",
       "      <td>0</td>\n",
       "      <td>4</td>\n",
       "      <td>3</td>\n",
       "      <td>False</td>\n",
       "      <td>0</td>\n",
       "      <td>0</td>\n",
       "      <td>5</td>\n",
       "      <td>distorted perspective, shadow, signification o...</td>\n",
       "    </tr>\n",
       "    <tr>\n",
       "      <th>1</th>\n",
       "      <td>3</td>\n",
       "      <td>Giovanni Anselmo</td>\n",
       "      <td>Direction</td>\n",
       "      <td>arte povera</td>\n",
       "      <td>Tate</td>\n",
       "      <td>Italy</td>\n",
       "      <td>False</td>\n",
       "      <td>sculpture</td>\n",
       "      <td>sculpture, fabric, glass &amp; metal</td>\n",
       "      <td>24 x 420 x 335 cm</td>\n",
       "      <td>...</td>\n",
       "      <td>1</td>\n",
       "      <td>3</td>\n",
       "      <td>0</td>\n",
       "      <td>3</td>\n",
       "      <td>2</td>\n",
       "      <td>False</td>\n",
       "      <td>0</td>\n",
       "      <td>0</td>\n",
       "      <td>5</td>\n",
       "      <td>hard to understand the viewpoint, sense of for...</td>\n",
       "    </tr>\n",
       "    <tr>\n",
       "      <th>2</th>\n",
       "      <td>4</td>\n",
       "      <td>Milton Avery</td>\n",
       "      <td>Yellow Sky</td>\n",
       "      <td>modernism</td>\n",
       "      <td>Tate</td>\n",
       "      <td>America</td>\n",
       "      <td>False</td>\n",
       "      <td>painting</td>\n",
       "      <td>painting, oil on canvas</td>\n",
       "      <td>156 x 184 cm</td>\n",
       "      <td>...</td>\n",
       "      <td>2</td>\n",
       "      <td>4</td>\n",
       "      <td>4</td>\n",
       "      <td>2</td>\n",
       "      <td>4</td>\n",
       "      <td>False</td>\n",
       "      <td>0</td>\n",
       "      <td>0</td>\n",
       "      <td>5</td>\n",
       "      <td>flatish, textured shapes &amp; specific colors-lin...</td>\n",
       "    </tr>\n",
       "    <tr>\n",
       "      <th>3</th>\n",
       "      <td>5</td>\n",
       "      <td>Gillian Avery</td>\n",
       "      <td>Distillation</td>\n",
       "      <td>abstraction</td>\n",
       "      <td>Tate</td>\n",
       "      <td>UK</td>\n",
       "      <td>False</td>\n",
       "      <td>painting</td>\n",
       "      <td>painting, oil, household paint on hardboard</td>\n",
       "      <td>213 x 152 cm</td>\n",
       "      <td>...</td>\n",
       "      <td>1</td>\n",
       "      <td>2</td>\n",
       "      <td>0</td>\n",
       "      <td>2</td>\n",
       "      <td>4</td>\n",
       "      <td>False</td>\n",
       "      <td>0</td>\n",
       "      <td>0</td>\n",
       "      <td>5</td>\n",
       "      <td>shapes, layers, paint handlng/texture, orienta...</td>\n",
       "    </tr>\n",
       "    <tr>\n",
       "      <th>4</th>\n",
       "      <td>6</td>\n",
       "      <td>Joseph (Jef) Banc</td>\n",
       "      <td>Pair-Bearing Matrix</td>\n",
       "      <td>abstraction</td>\n",
       "      <td>Tate</td>\n",
       "      <td>France</td>\n",
       "      <td>False</td>\n",
       "      <td>painting</td>\n",
       "      <td>painting, mixed media on canvas</td>\n",
       "      <td>73 x 60 cm</td>\n",
       "      <td>...</td>\n",
       "      <td>1</td>\n",
       "      <td>4</td>\n",
       "      <td>1</td>\n",
       "      <td>0</td>\n",
       "      <td>4</td>\n",
       "      <td>False</td>\n",
       "      <td>0</td>\n",
       "      <td>0</td>\n",
       "      <td>5</td>\n",
       "      <td>ambiguity through abstraction, odd shape, v te...</td>\n",
       "    </tr>\n",
       "  </tbody>\n",
       "</table>\n",
       "<p>5 rows × 30 columns</p>\n",
       "</div>"
      ],
      "text/plain": [
       "   s_no              artist                         title art_movement  \\\n",
       "0     2  Giorgio de Chirico  The Uncertainty of the Poet    surrealism   \n",
       "1     3    Giovanni Anselmo                     Direction  arte povera   \n",
       "2     4        Milton Avery                   Yellow Sky     modernism   \n",
       "3     5       Gillian Avery                  Distillation  abstraction   \n",
       "4     6   Joseph (Jef) Banc          Pair-Bearing Matrix   abstraction   \n",
       "\n",
       "  museum_venue country_of_origin  has_text primary_medium  \\\n",
       "0         Tate             Italy     False       painting   \n",
       "1         Tate             Italy     False      sculpture   \n",
       "2         Tate           America     False       painting   \n",
       "3         Tate                UK     False       painting   \n",
       "4         Tate            France     False       painting   \n",
       "\n",
       "                                        medium          work_size  ... va  te  \\\n",
       "0                      painting, oil on canvas        106 x 94 cm  ...  3   0   \n",
       "1             sculpture, fabric, glass & metal  24 x 420 x 335 cm  ...  1   3   \n",
       "2                      painting, oil on canvas       156 x 184 cm  ...  2   4   \n",
       "3  painting, oil, household paint on hardboard       213 x 152 cm  ...  1   2   \n",
       "4              painting, mixed media on canvas         73 x 60 cm  ...  1   4   \n",
       "\n",
       "   co  or  sh  reflection  po  li  ar  \\\n",
       "0   0   4   3       False   0   0   5   \n",
       "1   0   3   2       False   0   0   5   \n",
       "2   4   2   4       False   0   0   5   \n",
       "3   0   2   4       False   0   0   5   \n",
       "4   1   0   4       False   0   0   5   \n",
       "\n",
       "                                               notes  \n",
       "0  distorted perspective, shadow, signification o...  \n",
       "1  hard to understand the viewpoint, sense of for...  \n",
       "2  flatish, textured shapes & specific colors-lin...  \n",
       "3  shapes, layers, paint handlng/texture, orienta...  \n",
       "4  ambiguity through abstraction, odd shape, v te...  \n",
       "\n",
       "[5 rows x 30 columns]"
      ]
     },
     "execution_count": 124,
     "metadata": {},
     "output_type": "execute_result"
    }
   ],
   "source": [
    "data.head()"
   ]
  },
  {
   "cell_type": "markdown",
   "metadata": {},
   "source": [
    "## create a subset of the columns you will use to fit KMeans\n",
    "\n",
    "Here, I am **arbitrarily** choosing the seven [visual variables defined by Bertin](http://www.infovis-wiki.net/index.php?title=Visual_Variables#Jaques_Bertin). Variable descriptions [here](https://github.com/visualizedata/ml/blob/master/ML_assignment_3/contents-of-cluster_images.csv). \n",
    "\n",
    "You should choose the columns that you decide will best define the clusters. You may need to make transformations on existing variables. "
   ]
  },
  {
   "cell_type": "code",
   "execution_count": 233,
   "metadata": {},
   "outputs": [],
   "source": [
    "# X = data[[ 'va','co','sh','li','ar','te']]\n",
    "# X = data[['va','co','ar', 'or','po', 'sh','li','te']]\n",
    "X = data[['co','te']]"
   ]
  },
  {
   "cell_type": "code",
   "execution_count": 234,
   "metadata": {},
   "outputs": [
    {
     "data": {
      "text/html": [
       "<div>\n",
       "<style scoped>\n",
       "    .dataframe tbody tr th:only-of-type {\n",
       "        vertical-align: middle;\n",
       "    }\n",
       "\n",
       "    .dataframe tbody tr th {\n",
       "        vertical-align: top;\n",
       "    }\n",
       "\n",
       "    .dataframe thead th {\n",
       "        text-align: right;\n",
       "    }\n",
       "</style>\n",
       "<table border=\"1\" class=\"dataframe\">\n",
       "  <thead>\n",
       "    <tr style=\"text-align: right;\">\n",
       "      <th></th>\n",
       "      <th>co</th>\n",
       "      <th>te</th>\n",
       "    </tr>\n",
       "  </thead>\n",
       "  <tbody>\n",
       "    <tr>\n",
       "      <th>0</th>\n",
       "      <td>0</td>\n",
       "      <td>0</td>\n",
       "    </tr>\n",
       "    <tr>\n",
       "      <th>1</th>\n",
       "      <td>0</td>\n",
       "      <td>3</td>\n",
       "    </tr>\n",
       "    <tr>\n",
       "      <th>2</th>\n",
       "      <td>4</td>\n",
       "      <td>4</td>\n",
       "    </tr>\n",
       "    <tr>\n",
       "      <th>3</th>\n",
       "      <td>0</td>\n",
       "      <td>2</td>\n",
       "    </tr>\n",
       "    <tr>\n",
       "      <th>4</th>\n",
       "      <td>1</td>\n",
       "      <td>4</td>\n",
       "    </tr>\n",
       "  </tbody>\n",
       "</table>\n",
       "</div>"
      ],
      "text/plain": [
       "   co  te\n",
       "0   0   0\n",
       "1   0   3\n",
       "2   4   4\n",
       "3   0   2\n",
       "4   1   4"
      ]
     },
     "execution_count": 234,
     "metadata": {},
     "output_type": "execute_result"
    }
   ],
   "source": [
    "X.head()"
   ]
  },
  {
   "cell_type": "markdown",
   "metadata": {},
   "source": [
    "# KMeans"
   ]
  },
  {
   "cell_type": "code",
   "execution_count": 235,
   "metadata": {},
   "outputs": [],
   "source": [
    "from sklearn.cluster import KMeans"
   ]
  },
  {
   "cell_type": "markdown",
   "metadata": {},
   "source": [
    "## plot inertia scores by number of clusters"
   ]
  },
  {
   "cell_type": "code",
   "execution_count": 236,
   "metadata": {},
   "outputs": [
    {
     "name": "stderr",
     "output_type": "stream",
     "text": [
      "/anaconda3/envs/Py36env/lib/python3.6/site-packages/sklearn/cluster/k_means_.py:971: ConvergenceWarning: Number of distinct clusters (26) found smaller than n_clusters (27). Possibly due to duplicate points in X.\n",
      "  return_n_iter=True)\n",
      "/anaconda3/envs/Py36env/lib/python3.6/site-packages/sklearn/cluster/k_means_.py:971: ConvergenceWarning: Number of distinct clusters (26) found smaller than n_clusters (28). Possibly due to duplicate points in X.\n",
      "  return_n_iter=True)\n",
      "/anaconda3/envs/Py36env/lib/python3.6/site-packages/sklearn/cluster/k_means_.py:971: ConvergenceWarning: Number of distinct clusters (26) found smaller than n_clusters (29). Possibly due to duplicate points in X.\n",
      "  return_n_iter=True)\n",
      "/anaconda3/envs/Py36env/lib/python3.6/site-packages/sklearn/cluster/k_means_.py:971: ConvergenceWarning: Number of distinct clusters (26) found smaller than n_clusters (30). Possibly due to duplicate points in X.\n",
      "  return_n_iter=True)\n",
      "/anaconda3/envs/Py36env/lib/python3.6/site-packages/sklearn/cluster/k_means_.py:971: ConvergenceWarning: Number of distinct clusters (26) found smaller than n_clusters (31). Possibly due to duplicate points in X.\n",
      "  return_n_iter=True)\n",
      "/anaconda3/envs/Py36env/lib/python3.6/site-packages/sklearn/cluster/k_means_.py:971: ConvergenceWarning: Number of distinct clusters (26) found smaller than n_clusters (32). Possibly due to duplicate points in X.\n",
      "  return_n_iter=True)\n",
      "/anaconda3/envs/Py36env/lib/python3.6/site-packages/sklearn/cluster/k_means_.py:971: ConvergenceWarning: Number of distinct clusters (26) found smaller than n_clusters (33). Possibly due to duplicate points in X.\n",
      "  return_n_iter=True)\n",
      "/anaconda3/envs/Py36env/lib/python3.6/site-packages/sklearn/cluster/k_means_.py:971: ConvergenceWarning: Number of distinct clusters (26) found smaller than n_clusters (34). Possibly due to duplicate points in X.\n",
      "  return_n_iter=True)\n",
      "/anaconda3/envs/Py36env/lib/python3.6/site-packages/sklearn/cluster/k_means_.py:971: ConvergenceWarning: Number of distinct clusters (26) found smaller than n_clusters (35). Possibly due to duplicate points in X.\n",
      "  return_n_iter=True)\n",
      "/anaconda3/envs/Py36env/lib/python3.6/site-packages/sklearn/cluster/k_means_.py:971: ConvergenceWarning: Number of distinct clusters (26) found smaller than n_clusters (36). Possibly due to duplicate points in X.\n",
      "  return_n_iter=True)\n",
      "/anaconda3/envs/Py36env/lib/python3.6/site-packages/sklearn/cluster/k_means_.py:971: ConvergenceWarning: Number of distinct clusters (26) found smaller than n_clusters (37). Possibly due to duplicate points in X.\n",
      "  return_n_iter=True)\n",
      "/anaconda3/envs/Py36env/lib/python3.6/site-packages/sklearn/cluster/k_means_.py:971: ConvergenceWarning: Number of distinct clusters (26) found smaller than n_clusters (38). Possibly due to duplicate points in X.\n",
      "  return_n_iter=True)\n",
      "/anaconda3/envs/Py36env/lib/python3.6/site-packages/sklearn/cluster/k_means_.py:971: ConvergenceWarning: Number of distinct clusters (26) found smaller than n_clusters (39). Possibly due to duplicate points in X.\n",
      "  return_n_iter=True)\n",
      "/anaconda3/envs/Py36env/lib/python3.6/site-packages/sklearn/cluster/k_means_.py:971: ConvergenceWarning: Number of distinct clusters (26) found smaller than n_clusters (40). Possibly due to duplicate points in X.\n",
      "  return_n_iter=True)\n",
      "/anaconda3/envs/Py36env/lib/python3.6/site-packages/sklearn/cluster/k_means_.py:971: ConvergenceWarning: Number of distinct clusters (26) found smaller than n_clusters (41). Possibly due to duplicate points in X.\n",
      "  return_n_iter=True)\n",
      "/anaconda3/envs/Py36env/lib/python3.6/site-packages/sklearn/cluster/k_means_.py:971: ConvergenceWarning: Number of distinct clusters (26) found smaller than n_clusters (42). Possibly due to duplicate points in X.\n",
      "  return_n_iter=True)\n",
      "/anaconda3/envs/Py36env/lib/python3.6/site-packages/sklearn/cluster/k_means_.py:971: ConvergenceWarning: Number of distinct clusters (26) found smaller than n_clusters (43). Possibly due to duplicate points in X.\n",
      "  return_n_iter=True)\n",
      "/anaconda3/envs/Py36env/lib/python3.6/site-packages/sklearn/cluster/k_means_.py:971: ConvergenceWarning: Number of distinct clusters (26) found smaller than n_clusters (44). Possibly due to duplicate points in X.\n",
      "  return_n_iter=True)\n",
      "/anaconda3/envs/Py36env/lib/python3.6/site-packages/sklearn/cluster/k_means_.py:971: ConvergenceWarning: Number of distinct clusters (26) found smaller than n_clusters (45). Possibly due to duplicate points in X.\n",
      "  return_n_iter=True)\n",
      "/anaconda3/envs/Py36env/lib/python3.6/site-packages/sklearn/cluster/k_means_.py:971: ConvergenceWarning: Number of distinct clusters (26) found smaller than n_clusters (46). Possibly due to duplicate points in X.\n",
      "  return_n_iter=True)\n",
      "/anaconda3/envs/Py36env/lib/python3.6/site-packages/sklearn/cluster/k_means_.py:971: ConvergenceWarning: Number of distinct clusters (26) found smaller than n_clusters (47). Possibly due to duplicate points in X.\n",
      "  return_n_iter=True)\n",
      "/anaconda3/envs/Py36env/lib/python3.6/site-packages/sklearn/cluster/k_means_.py:971: ConvergenceWarning: Number of distinct clusters (26) found smaller than n_clusters (48). Possibly due to duplicate points in X.\n",
      "  return_n_iter=True)\n",
      "/anaconda3/envs/Py36env/lib/python3.6/site-packages/sklearn/cluster/k_means_.py:971: ConvergenceWarning: Number of distinct clusters (26) found smaller than n_clusters (49). Possibly due to duplicate points in X.\n",
      "  return_n_iter=True)\n",
      "/anaconda3/envs/Py36env/lib/python3.6/site-packages/sklearn/cluster/k_means_.py:971: ConvergenceWarning: Number of distinct clusters (26) found smaller than n_clusters (50). Possibly due to duplicate points in X.\n",
      "  return_n_iter=True)\n",
      "/anaconda3/envs/Py36env/lib/python3.6/site-packages/sklearn/cluster/k_means_.py:971: ConvergenceWarning: Number of distinct clusters (26) found smaller than n_clusters (51). Possibly due to duplicate points in X.\n",
      "  return_n_iter=True)\n",
      "/anaconda3/envs/Py36env/lib/python3.6/site-packages/sklearn/cluster/k_means_.py:971: ConvergenceWarning: Number of distinct clusters (26) found smaller than n_clusters (52). Possibly due to duplicate points in X.\n",
      "  return_n_iter=True)\n",
      "/anaconda3/envs/Py36env/lib/python3.6/site-packages/sklearn/cluster/k_means_.py:971: ConvergenceWarning: Number of distinct clusters (26) found smaller than n_clusters (53). Possibly due to duplicate points in X.\n",
      "  return_n_iter=True)\n",
      "/anaconda3/envs/Py36env/lib/python3.6/site-packages/sklearn/cluster/k_means_.py:971: ConvergenceWarning: Number of distinct clusters (26) found smaller than n_clusters (54). Possibly due to duplicate points in X.\n",
      "  return_n_iter=True)\n",
      "/anaconda3/envs/Py36env/lib/python3.6/site-packages/sklearn/cluster/k_means_.py:971: ConvergenceWarning: Number of distinct clusters (26) found smaller than n_clusters (55). Possibly due to duplicate points in X.\n",
      "  return_n_iter=True)\n",
      "/anaconda3/envs/Py36env/lib/python3.6/site-packages/sklearn/cluster/k_means_.py:971: ConvergenceWarning: Number of distinct clusters (26) found smaller than n_clusters (56). Possibly due to duplicate points in X.\n",
      "  return_n_iter=True)\n",
      "/anaconda3/envs/Py36env/lib/python3.6/site-packages/sklearn/cluster/k_means_.py:971: ConvergenceWarning: Number of distinct clusters (26) found smaller than n_clusters (57). Possibly due to duplicate points in X.\n",
      "  return_n_iter=True)\n",
      "/anaconda3/envs/Py36env/lib/python3.6/site-packages/sklearn/cluster/k_means_.py:971: ConvergenceWarning: Number of distinct clusters (26) found smaller than n_clusters (58). Possibly due to duplicate points in X.\n",
      "  return_n_iter=True)\n",
      "/anaconda3/envs/Py36env/lib/python3.6/site-packages/sklearn/cluster/k_means_.py:971: ConvergenceWarning: Number of distinct clusters (26) found smaller than n_clusters (59). Possibly due to duplicate points in X.\n",
      "  return_n_iter=True)\n",
      "/anaconda3/envs/Py36env/lib/python3.6/site-packages/sklearn/cluster/k_means_.py:971: ConvergenceWarning: Number of distinct clusters (26) found smaller than n_clusters (60). Possibly due to duplicate points in X.\n",
      "  return_n_iter=True)\n",
      "/anaconda3/envs/Py36env/lib/python3.6/site-packages/sklearn/cluster/k_means_.py:971: ConvergenceWarning: Number of distinct clusters (26) found smaller than n_clusters (61). Possibly due to duplicate points in X.\n",
      "  return_n_iter=True)\n"
     ]
    },
    {
     "name": "stderr",
     "output_type": "stream",
     "text": [
      "/anaconda3/envs/Py36env/lib/python3.6/site-packages/sklearn/cluster/k_means_.py:971: ConvergenceWarning: Number of distinct clusters (26) found smaller than n_clusters (62). Possibly due to duplicate points in X.\n",
      "  return_n_iter=True)\n",
      "/anaconda3/envs/Py36env/lib/python3.6/site-packages/sklearn/cluster/k_means_.py:971: ConvergenceWarning: Number of distinct clusters (26) found smaller than n_clusters (63). Possibly due to duplicate points in X.\n",
      "  return_n_iter=True)\n",
      "/anaconda3/envs/Py36env/lib/python3.6/site-packages/sklearn/cluster/k_means_.py:971: ConvergenceWarning: Number of distinct clusters (26) found smaller than n_clusters (64). Possibly due to duplicate points in X.\n",
      "  return_n_iter=True)\n",
      "/anaconda3/envs/Py36env/lib/python3.6/site-packages/sklearn/cluster/k_means_.py:971: ConvergenceWarning: Number of distinct clusters (26) found smaller than n_clusters (65). Possibly due to duplicate points in X.\n",
      "  return_n_iter=True)\n",
      "/anaconda3/envs/Py36env/lib/python3.6/site-packages/sklearn/cluster/k_means_.py:971: ConvergenceWarning: Number of distinct clusters (26) found smaller than n_clusters (66). Possibly due to duplicate points in X.\n",
      "  return_n_iter=True)\n",
      "/anaconda3/envs/Py36env/lib/python3.6/site-packages/sklearn/cluster/k_means_.py:971: ConvergenceWarning: Number of distinct clusters (26) found smaller than n_clusters (67). Possibly due to duplicate points in X.\n",
      "  return_n_iter=True)\n",
      "/anaconda3/envs/Py36env/lib/python3.6/site-packages/sklearn/cluster/k_means_.py:971: ConvergenceWarning: Number of distinct clusters (26) found smaller than n_clusters (68). Possibly due to duplicate points in X.\n",
      "  return_n_iter=True)\n",
      "/anaconda3/envs/Py36env/lib/python3.6/site-packages/sklearn/cluster/k_means_.py:971: ConvergenceWarning: Number of distinct clusters (26) found smaller than n_clusters (69). Possibly due to duplicate points in X.\n",
      "  return_n_iter=True)\n",
      "/anaconda3/envs/Py36env/lib/python3.6/site-packages/sklearn/cluster/k_means_.py:971: ConvergenceWarning: Number of distinct clusters (26) found smaller than n_clusters (70). Possibly due to duplicate points in X.\n",
      "  return_n_iter=True)\n",
      "/anaconda3/envs/Py36env/lib/python3.6/site-packages/sklearn/cluster/k_means_.py:971: ConvergenceWarning: Number of distinct clusters (26) found smaller than n_clusters (71). Possibly due to duplicate points in X.\n",
      "  return_n_iter=True)\n",
      "/anaconda3/envs/Py36env/lib/python3.6/site-packages/sklearn/cluster/k_means_.py:971: ConvergenceWarning: Number of distinct clusters (26) found smaller than n_clusters (72). Possibly due to duplicate points in X.\n",
      "  return_n_iter=True)\n",
      "/anaconda3/envs/Py36env/lib/python3.6/site-packages/sklearn/cluster/k_means_.py:971: ConvergenceWarning: Number of distinct clusters (26) found smaller than n_clusters (73). Possibly due to duplicate points in X.\n",
      "  return_n_iter=True)\n",
      "/anaconda3/envs/Py36env/lib/python3.6/site-packages/sklearn/cluster/k_means_.py:971: ConvergenceWarning: Number of distinct clusters (26) found smaller than n_clusters (74). Possibly due to duplicate points in X.\n",
      "  return_n_iter=True)\n",
      "/anaconda3/envs/Py36env/lib/python3.6/site-packages/sklearn/cluster/k_means_.py:971: ConvergenceWarning: Number of distinct clusters (26) found smaller than n_clusters (75). Possibly due to duplicate points in X.\n",
      "  return_n_iter=True)\n",
      "/anaconda3/envs/Py36env/lib/python3.6/site-packages/sklearn/cluster/k_means_.py:971: ConvergenceWarning: Number of distinct clusters (26) found smaller than n_clusters (76). Possibly due to duplicate points in X.\n",
      "  return_n_iter=True)\n",
      "/anaconda3/envs/Py36env/lib/python3.6/site-packages/sklearn/cluster/k_means_.py:971: ConvergenceWarning: Number of distinct clusters (26) found smaller than n_clusters (77). Possibly due to duplicate points in X.\n",
      "  return_n_iter=True)\n",
      "/anaconda3/envs/Py36env/lib/python3.6/site-packages/sklearn/cluster/k_means_.py:971: ConvergenceWarning: Number of distinct clusters (26) found smaller than n_clusters (78). Possibly due to duplicate points in X.\n",
      "  return_n_iter=True)\n",
      "/anaconda3/envs/Py36env/lib/python3.6/site-packages/sklearn/cluster/k_means_.py:971: ConvergenceWarning: Number of distinct clusters (26) found smaller than n_clusters (79). Possibly due to duplicate points in X.\n",
      "  return_n_iter=True)\n",
      "/anaconda3/envs/Py36env/lib/python3.6/site-packages/sklearn/cluster/k_means_.py:971: ConvergenceWarning: Number of distinct clusters (26) found smaller than n_clusters (80). Possibly due to duplicate points in X.\n",
      "  return_n_iter=True)\n",
      "/anaconda3/envs/Py36env/lib/python3.6/site-packages/sklearn/cluster/k_means_.py:971: ConvergenceWarning: Number of distinct clusters (26) found smaller than n_clusters (81). Possibly due to duplicate points in X.\n",
      "  return_n_iter=True)\n",
      "/anaconda3/envs/Py36env/lib/python3.6/site-packages/sklearn/cluster/k_means_.py:971: ConvergenceWarning: Number of distinct clusters (26) found smaller than n_clusters (82). Possibly due to duplicate points in X.\n",
      "  return_n_iter=True)\n",
      "/anaconda3/envs/Py36env/lib/python3.6/site-packages/sklearn/cluster/k_means_.py:971: ConvergenceWarning: Number of distinct clusters (26) found smaller than n_clusters (83). Possibly due to duplicate points in X.\n",
      "  return_n_iter=True)\n",
      "/anaconda3/envs/Py36env/lib/python3.6/site-packages/sklearn/cluster/k_means_.py:971: ConvergenceWarning: Number of distinct clusters (26) found smaller than n_clusters (84). Possibly due to duplicate points in X.\n",
      "  return_n_iter=True)\n",
      "/anaconda3/envs/Py36env/lib/python3.6/site-packages/sklearn/cluster/k_means_.py:971: ConvergenceWarning: Number of distinct clusters (26) found smaller than n_clusters (85). Possibly due to duplicate points in X.\n",
      "  return_n_iter=True)\n",
      "/anaconda3/envs/Py36env/lib/python3.6/site-packages/sklearn/cluster/k_means_.py:971: ConvergenceWarning: Number of distinct clusters (26) found smaller than n_clusters (86). Possibly due to duplicate points in X.\n",
      "  return_n_iter=True)\n",
      "/anaconda3/envs/Py36env/lib/python3.6/site-packages/sklearn/cluster/k_means_.py:971: ConvergenceWarning: Number of distinct clusters (26) found smaller than n_clusters (87). Possibly due to duplicate points in X.\n",
      "  return_n_iter=True)\n",
      "/anaconda3/envs/Py36env/lib/python3.6/site-packages/sklearn/cluster/k_means_.py:971: ConvergenceWarning: Number of distinct clusters (26) found smaller than n_clusters (88). Possibly due to duplicate points in X.\n",
      "  return_n_iter=True)\n",
      "/anaconda3/envs/Py36env/lib/python3.6/site-packages/sklearn/cluster/k_means_.py:971: ConvergenceWarning: Number of distinct clusters (26) found smaller than n_clusters (89). Possibly due to duplicate points in X.\n",
      "  return_n_iter=True)\n",
      "/anaconda3/envs/Py36env/lib/python3.6/site-packages/sklearn/cluster/k_means_.py:971: ConvergenceWarning: Number of distinct clusters (26) found smaller than n_clusters (90). Possibly due to duplicate points in X.\n",
      "  return_n_iter=True)\n",
      "/anaconda3/envs/Py36env/lib/python3.6/site-packages/sklearn/cluster/k_means_.py:971: ConvergenceWarning: Number of distinct clusters (26) found smaller than n_clusters (91). Possibly due to duplicate points in X.\n",
      "  return_n_iter=True)\n",
      "/anaconda3/envs/Py36env/lib/python3.6/site-packages/sklearn/cluster/k_means_.py:971: ConvergenceWarning: Number of distinct clusters (26) found smaller than n_clusters (92). Possibly due to duplicate points in X.\n",
      "  return_n_iter=True)\n",
      "/anaconda3/envs/Py36env/lib/python3.6/site-packages/sklearn/cluster/k_means_.py:971: ConvergenceWarning: Number of distinct clusters (26) found smaller than n_clusters (93). Possibly due to duplicate points in X.\n",
      "  return_n_iter=True)\n",
      "/anaconda3/envs/Py36env/lib/python3.6/site-packages/sklearn/cluster/k_means_.py:971: ConvergenceWarning: Number of distinct clusters (26) found smaller than n_clusters (94). Possibly due to duplicate points in X.\n",
      "  return_n_iter=True)\n",
      "/anaconda3/envs/Py36env/lib/python3.6/site-packages/sklearn/cluster/k_means_.py:971: ConvergenceWarning: Number of distinct clusters (26) found smaller than n_clusters (95). Possibly due to duplicate points in X.\n",
      "  return_n_iter=True)\n",
      "/anaconda3/envs/Py36env/lib/python3.6/site-packages/sklearn/cluster/k_means_.py:971: ConvergenceWarning: Number of distinct clusters (26) found smaller than n_clusters (96). Possibly due to duplicate points in X.\n",
      "  return_n_iter=True)\n"
     ]
    },
    {
     "name": "stderr",
     "output_type": "stream",
     "text": [
      "/anaconda3/envs/Py36env/lib/python3.6/site-packages/sklearn/cluster/k_means_.py:971: ConvergenceWarning: Number of distinct clusters (26) found smaller than n_clusters (97). Possibly due to duplicate points in X.\n",
      "  return_n_iter=True)\n",
      "/anaconda3/envs/Py36env/lib/python3.6/site-packages/sklearn/cluster/k_means_.py:971: ConvergenceWarning: Number of distinct clusters (26) found smaller than n_clusters (98). Possibly due to duplicate points in X.\n",
      "  return_n_iter=True)\n",
      "/anaconda3/envs/Py36env/lib/python3.6/site-packages/sklearn/cluster/k_means_.py:971: ConvergenceWarning: Number of distinct clusters (26) found smaller than n_clusters (99). Possibly due to duplicate points in X.\n",
      "  return_n_iter=True)\n",
      "/anaconda3/envs/Py36env/lib/python3.6/site-packages/sklearn/cluster/k_means_.py:971: ConvergenceWarning: Number of distinct clusters (26) found smaller than n_clusters (100). Possibly due to duplicate points in X.\n",
      "  return_n_iter=True)\n"
     ]
    },
    {
     "data": {
      "image/png": "[encoded data removed]",
      "text/plain": [
       "<Figure size 432x288 with 1 Axes>"
      ]
     },
     "metadata": {
      "needs_background": "light"
     },
     "output_type": "display_data"
    }
   ],
   "source": [
    "# first attempt at fitting K means to view change in Inertia\n",
    "\n",
    "# container to store inertia scores over iterations\n",
    "distortions = []\n",
    "\n",
    "# fit KMeans iteratively to begin to assess the appropriate number of clusters\n",
    "for i in range(1, 101):\n",
    "    km = KMeans(n_clusters=i)\n",
    "    km.fit(X)\n",
    "    distortions.append(km.inertia_)\n",
    "    \n",
    "# vizualize change in inertia\n",
    "plt.plot(range(1, 101), distortions, marker='o')\n",
    "plt.xlabel('Number of clusters')\n",
    "plt.ylabel('Inertia')\n",
    "plt.show()"
   ]
  },
  {
   "cell_type": "markdown",
   "metadata": {},
   "source": [
    "## create silhouette plots to assess various specifications for `n_clusters` in `KMeans`"
   ]
  },
  {
   "cell_type": "code",
   "execution_count": 237,
   "metadata": {},
   "outputs": [],
   "source": [
    "# modify this list to include the numbers of clusters you want to see\n",
    "# I have *arbitrarily* chosen these values\n",
    "range_n_clusters = [4,5, 6,7,8, 10, 15, 20]"
   ]
  },
  {
   "cell_type": "code",
   "execution_count": 238,
   "metadata": {},
   "outputs": [
    {
     "name": "stdout",
     "output_type": "stream",
     "text": [
      "For n_clusters = 4 The average silhouette_score is : 0.5904784775394325\n"
     ]
    },
    {
     "data": {
      "image/png": "[encoded data removed]",
      "text/plain": [
       "<Figure size 648x1224 with 1 Axes>"
      ]
     },
     "metadata": {
      "needs_background": "light"
     },
     "output_type": "display_data"
    },
    {
     "name": "stdout",
     "output_type": "stream",
     "text": [
      "For n_clusters = 5 The average silhouette_score is : 0.5974912144665752\n"
     ]
    },
    {
     "data": {
      "image/png": "[encoded data removed]",
      "text/plain": [
       "<Figure size 648x1224 with 1 Axes>"
      ]
     },
     "metadata": {
      "needs_background": "light"
     },
     "output_type": "display_data"
    },
    {
     "name": "stdout",
     "output_type": "stream",
     "text": [
      "For n_clusters = 6 The average silhouette_score is : 0.6034399509849927\n"
     ]
    },
    {
     "data": {
      "image/png": "[encoded data removed]",
      "text/plain": [
       "<Figure size 648x1224 with 1 Axes>"
      ]
     },
     "metadata": {
      "needs_background": "light"
     },
     "output_type": "display_data"
    },
    {
     "name": "stdout",
     "output_type": "stream",
     "text": [
      "For n_clusters = 7 The average silhouette_score is : 0.7260379928209035\n"
     ]
    },
    {
     "data": {
      "image/png": "[encoded data removed]",
      "text/plain": [
       "<Figure size 648x1224 with 1 Axes>"
      ]
     },
     "metadata": {
      "needs_background": "light"
     },
     "output_type": "display_data"
    },
    {
     "name": "stdout",
     "output_type": "stream",
     "text": [
      "For n_clusters = 8 The average silhouette_score is : 0.7579912101623639\n"
     ]
    },
    {
     "data": {
      "image/png": "[encoded data removed]",
      "text/plain": [
       "<Figure size 648x1224 with 1 Axes>"
      ]
     },
     "metadata": {
      "needs_background": "light"
     },
     "output_type": "display_data"
    },
    {
     "name": "stdout",
     "output_type": "stream",
     "text": [
      "For n_clusters = 10 The average silhouette_score is : 0.8095507637060306\n"
     ]
    },
    {
     "data": {
      "image/png": "[encoded data removed]",
      "text/plain": [
       "<Figure size 648x1224 with 1 Axes>"
      ]
     },
     "metadata": {
      "needs_background": "light"
     },
     "output_type": "display_data"
    },
    {
     "name": "stdout",
     "output_type": "stream",
     "text": [
      "For n_clusters = 15 The average silhouette_score is : 0.9252321553453527\n"
     ]
    },
    {
     "data": {
      "image/png": "[encoded data removed]",
      "text/plain": [
       "<Figure size 648x1224 with 1 Axes>"
      ]
     },
     "metadata": {
      "needs_background": "light"
     },
     "output_type": "display_data"
    },
    {
     "name": "stdout",
     "output_type": "stream",
     "text": [
      "For n_clusters = 20 The average silhouette_score is : 0.9671599012300158\n"
     ]
    },
    {
     "data": {
      "image/png": "[encoded data removed]",
      "text/plain": [
       "<Figure size 648x1224 with 1 Axes>"
      ]
     },
     "metadata": {
      "needs_background": "light"
     },
     "output_type": "display_data"
    }
   ],
   "source": [
    "# modified from: http://scikit-learn.org/stable/auto_examples/cluster/plot_kmeans_silhouette_analysis.html\n",
    "\n",
    "from sklearn.metrics import silhouette_samples, silhouette_score\n",
    "import matplotlib.cm as cm\n",
    "import random\n",
    "\n",
    "for n_clusters in range_n_clusters:\n",
    "    # Create a subplot\n",
    "    fig, (ax1) = plt.subplots(1, 1)\n",
    "    fig.set_size_inches(9, 17)\n",
    "\n",
    "    # The silhouette coefficient can range from -1, 1 but in this example all lie within [-0.1, 1]\n",
    "    ax1.set_xlim([-0.1, 1])\n",
    "    # The (n_clusters+1)*10 is for inserting blank space between silhouette plots of individual clusters, to demarcate them clearly.\n",
    "    ax1.set_ylim([0, len(X) + (n_clusters + 1) * 10])\n",
    "\n",
    "    # Initialize the clusterer with n_clusters value and a random generator seed of 10 for reproducibility.\n",
    "    clusterer = KMeans(n_clusters=n_clusters, random_state=10)\n",
    "    cluster_labels = clusterer.fit_predict(X)\n",
    "\n",
    "    # The silhouette_score gives the average value for all the samples.\n",
    "    silhouette_avg = silhouette_score(X, cluster_labels)\n",
    "    print(\"For n_clusters =\", n_clusters, \"The average silhouette_score is :\", silhouette_avg)\n",
    "\n",
    "    # Compute the silhouette scores for each sample\n",
    "    sample_silhouette_values = silhouette_samples(X, cluster_labels)\n",
    "\n",
    "    y_lower = 10\n",
    "    for i in range(n_clusters):\n",
    "        # Aggregate the silhouette scores for samples belonging to cluster i, and sort them\n",
    "        ith_cluster_silhouette_values = \\\n",
    "            sample_silhouette_values[cluster_labels == i]\n",
    "\n",
    "        ith_cluster_silhouette_values.sort()\n",
    "\n",
    "        size_cluster_i = ith_cluster_silhouette_values.shape[0]\n",
    "        y_upper = y_lower + size_cluster_i\n",
    "\n",
    "        # select a random color for this cluster\n",
    "        r = lambda: random.randint(0,255)\n",
    "        color = '#%02X%02X%02X' % (r(),r(),r())\n",
    "        ax1.fill_betweenx(np.arange(y_lower, y_upper),\n",
    "                          0, ith_cluster_silhouette_values,\n",
    "                          facecolor=color, edgecolor=color, alpha=0.7)\n",
    "\n",
    "        # Label the silhouette plots with their cluster numbers at the middle\n",
    "        ax1.text(-0.05, y_lower + 0.5 * size_cluster_i, str(i))\n",
    "\n",
    "        # Compute the new y_lower for next plot\n",
    "        y_lower = y_upper + 10  # 10 for the 0 samples\n",
    "\n",
    "    ax1.set_title(\"The silhouette plot for the various clusters.\")\n",
    "    ax1.set_xlabel(\"The silhouette coefficient values\")\n",
    "    ax1.set_ylabel(\"Cluster label\")\n",
    "\n",
    "    # The vertical line for average silhouette score of all the values\n",
    "    ax1.axvline(x=silhouette_avg, color=\"red\", linestyle=\"--\")\n",
    "\n",
    "    ax1.set_yticks([])  # Clear the yaxis labels / ticks\n",
    "    ax1.set_xticks([-0.1, 0, 0.2, 0.4, 0.6, 0.8, 1])\n",
    "\n",
    "    plt.suptitle((\"Silhouette analysis for KMeans clustering on sample data \"\n",
    "                  \"with n_clusters = %d\" % n_clusters),\n",
    "                 fontsize=14, fontweight='bold')\n",
    "\n",
    "    plt.show()"
   ]
  },
  {
   "cell_type": "markdown",
   "metadata": {},
   "source": [
    "## final fit\n",
    "\n",
    "After you have decided which features to include and the number of clusters you want, fit your final KMeans model. I have **arbitrarily** chosen 5. "
   ]
  },
  {
   "cell_type": "code",
   "execution_count": 244,
   "metadata": {},
   "outputs": [],
   "source": [
    "# set the number of clusters in the final model\n",
    "my_n_clusters = 15"
   ]
  },
  {
   "cell_type": "code",
   "execution_count": 245,
   "metadata": {},
   "outputs": [
    {
     "data": {
      "text/plain": [
       "KMeans(algorithm='auto', copy_x=True, init='k-means++', max_iter=300,\n",
       "    n_clusters=15, n_init=10, n_jobs=None, precompute_distances='auto',\n",
       "    random_state=None, tol=0.0001, verbose=0)"
      ]
     },
     "execution_count": 245,
     "metadata": {},
     "output_type": "execute_result"
    }
   ],
   "source": [
    "km = KMeans(n_clusters=my_n_clusters)\n",
    "km.fit(X)"
   ]
  },
  {
   "cell_type": "markdown",
   "metadata": {},
   "source": [
    "## look at results\n",
    "\n",
    "The key to knowing if you have chosen the right features and clusters: looking at the images in each cluster and deciding whether they seem to belong together. You could extend this starter code to display the images in this notebook, or you may decide to use Python to write an html file/files to view the images by cluster."
   ]
  },
  {
   "cell_type": "code",
   "execution_count": 246,
   "metadata": {},
   "outputs": [
    {
     "name": "stdout",
     "output_type": "stream",
     "text": [
      " \n",
      "* * * * * * * * * * * * * * * * * * * * * * * * * * * * * * \n",
      "Images in cluster: 0\n",
      "* * * * * * * * * * * * * * * * * * * * * * * * * * * * * * \n",
      "8_small.jpg\n",
      "10_small.jpg\n",
      "12_small.jpg\n",
      "18_small.jpg\n",
      "34_small.jpg\n",
      "37_small.jpg\n",
      "38_small.jpg\n",
      "54_small.jpg\n",
      "59_small.jpg\n",
      "70_small.jpg\n",
      "73_small.jpg\n",
      "86_small.jpg\n",
      "97_small.jpg\n",
      "99_small.jpg\n",
      "120_small.jpg\n",
      "129_small.jpg\n",
      "130_small.jpg\n",
      "148_small.jpg\n",
      "156_small.jpg\n",
      "157_small.jpg\n",
      "164_small.jpg\n",
      "186_small.jpg\n",
      "193_small.jpg\n",
      "195_small.jpg\n",
      "209_small.jpg\n",
      "223_small.jpg\n",
      "227_small.jpg\n",
      "237_small.jpg\n",
      "246_small.jpg\n",
      "259_small.jpg\n",
      "289_small.jpg\n",
      "300_small.jpg\n",
      "308_small.jpg\n",
      "316_small.jpg\n",
      "332_small.jpg\n",
      "334_small.jpg\n",
      "345_small.jpg\n",
      "349_small.jpg\n",
      "351_small.jpg\n",
      "359_small.jpg\n",
      "362_small.jpg\n",
      "372_small.jpg\n",
      "380_small.jpg\n",
      "390_small.jpg\n",
      "393_small.jpg\n",
      "394_small.jpg\n",
      "399_small.jpg\n",
      " \n",
      "* * * * * * * * * * * * * * * * * * * * * * * * * * * * * * \n",
      "Images in cluster: 1\n",
      "* * * * * * * * * * * * * * * * * * * * * * * * * * * * * * \n",
      "17_small.jpg\n",
      "24_small.jpg\n",
      "27_small.jpg\n",
      "28_small.jpg\n",
      "29_small.jpg\n",
      "36_small.jpg\n",
      "39_small.jpg\n",
      "45_small.jpg\n",
      "46_small.jpg\n",
      "47_small.jpg\n",
      "53_small.jpg\n",
      "60_small.jpg\n",
      "72_small.jpg\n",
      "74_small.jpg\n",
      "94_small.jpg\n",
      "107_small.jpg\n",
      "110_small.jpg\n",
      "113_small.jpg\n",
      "114_small.jpg\n",
      "119_small.jpg\n",
      "124_small.jpg\n",
      "131_small.jpg\n",
      "135_small.jpg\n",
      "138_small.jpg\n",
      "140_small.jpg\n",
      "142_small.jpg\n",
      "147_small.jpg\n",
      "149_small.jpg\n",
      "152_small.jpg\n",
      "159_small.jpg\n",
      "167_small.jpg\n",
      "173_small.jpg\n",
      "194_small.jpg\n",
      "200_small.jpg\n",
      "202_small.jpg\n",
      "211_small.jpg\n",
      "218_small.jpg\n",
      "219_small.jpg\n",
      "225_small.jpg\n",
      "257_small.jpg\n",
      "258_small.jpg\n",
      "265_small.jpg\n",
      "272_small.jpg\n",
      "278_small.jpg\n",
      "280_small.jpg\n",
      "282_small.jpg\n",
      "283_small.jpg\n",
      "315_small.jpg\n",
      "317_small.jpg\n",
      "320_small.jpg\n",
      "323_small.jpg\n",
      "327_small.jpg\n",
      "336_small.jpg\n",
      "340_small.jpg\n",
      "342_small.jpg\n",
      "344_small.jpg\n",
      "348_small.jpg\n",
      "370_small.jpg\n",
      "386_small.jpg\n",
      "387_small.jpg\n",
      "391_small.jpg\n",
      "400_small.jpg\n",
      "402_small.jpg\n",
      "404_small.jpg\n",
      " \n",
      "* * * * * * * * * * * * * * * * * * * * * * * * * * * * * * \n",
      "Images in cluster: 2\n",
      "* * * * * * * * * * * * * * * * * * * * * * * * * * * * * * \n",
      "75_small.jpg\n",
      "89_small.jpg\n",
      "101_small.jpg\n",
      "102_small.jpg\n",
      "115_small.jpg\n",
      "191_small.jpg\n",
      "352_small.jpg\n",
      "364_small.jpg\n",
      "371_small.jpg\n",
      " \n",
      "* * * * * * * * * * * * * * * * * * * * * * * * * * * * * * \n",
      "Images in cluster: 3\n",
      "* * * * * * * * * * * * * * * * * * * * * * * * * * * * * * \n",
      "2_small.jpg\n",
      "14_small.jpg\n",
      "19_small.jpg\n",
      "21_small.jpg\n",
      "26_small.jpg\n",
      "32_small.jpg\n",
      "42_small.jpg\n",
      "44_small.jpg\n",
      "51_small.jpg\n",
      "52_small.jpg\n",
      "56_small.jpg\n",
      "58_small.jpg\n",
      "61_small.jpg\n",
      "63_small.jpg\n",
      "64_small.jpg\n",
      "66_small.jpg\n",
      "68_small.jpg\n",
      "77_small.jpg\n",
      "79_small.jpg\n",
      "80_small.jpg\n",
      "83_small.jpg\n",
      "85_small.jpg\n",
      "91_small.jpg\n",
      "92_small.jpg\n",
      "100_small.jpg\n",
      "105_small.jpg\n",
      "106_small.jpg\n",
      "109_small.jpg\n",
      "117_small.jpg\n",
      "118_small.jpg\n",
      "121_small.jpg\n",
      "123_small.jpg\n",
      "126_small.jpg\n",
      "133_small.jpg\n",
      "134_small.jpg\n",
      "139_small.jpg\n",
      "145_small.jpg\n",
      "154_small.jpg\n",
      "161_small.jpg\n",
      "162_small.jpg\n",
      "168_small.jpg\n",
      "170_small.jpg\n",
      "171_small.jpg\n",
      "177_small.jpg\n",
      "185_small.jpg\n",
      "188_small.jpg\n",
      "189_small.jpg\n",
      "190_small.jpg\n",
      "192_small.jpg\n",
      "205_small.jpg\n",
      "207_small.jpg\n",
      "217_small.jpg\n",
      "221_small.jpg\n",
      "222_small.jpg\n",
      "226_small.jpg\n",
      "233_small.jpg\n",
      "238_small.jpg\n",
      "239_small.jpg\n",
      "253_small.jpg\n",
      "263_small.jpg\n",
      "269_small.jpg\n",
      "276_small.jpg\n",
      "279_small.jpg\n",
      "281_small.jpg\n",
      "286_small.jpg\n",
      "287_small.jpg\n",
      "295_small.jpg\n",
      "296_small.jpg\n",
      "297_small.jpg\n",
      "306_small.jpg\n",
      "314_small.jpg\n",
      "326_small.jpg\n",
      "328_small.jpg\n",
      "329_small.jpg\n",
      "350_small.jpg\n",
      "353_small.jpg\n",
      "358_small.jpg\n",
      "363_small.jpg\n",
      "365_small.jpg\n",
      "367_small.jpg\n",
      "374_small.jpg\n",
      "377_small.jpg\n",
      "378_small.jpg\n",
      "392_small.jpg\n",
      "398_small.jpg\n",
      "403_small.jpg\n",
      " \n",
      "* * * * * * * * * * * * * * * * * * * * * * * * * * * * * * \n",
      "Images in cluster: 4\n",
      "* * * * * * * * * * * * * * * * * * * * * * * * * * * * * * \n",
      "3_small.jpg\n",
      "11_small.jpg\n",
      "22_small.jpg\n",
      "31_small.jpg\n",
      "48_small.jpg\n",
      "55_small.jpg\n",
      "57_small.jpg\n",
      "111_small.jpg\n",
      "122_small.jpg\n",
      "125_small.jpg\n",
      "136_small.jpg\n",
      "137_small.jpg\n",
      "143_small.jpg\n",
      "150_small.jpg\n",
      "155_small.jpg\n",
      "158_small.jpg\n",
      "160_small.jpg\n",
      "163_small.jpg\n",
      "165_small.jpg\n",
      "166_small.jpg\n",
      "175_small.jpg\n",
      "182_small.jpg\n",
      "196_small.jpg\n",
      "199_small.jpg\n",
      "212_small.jpg\n",
      "215_small.jpg\n",
      "244_small.jpg\n",
      "249_small.jpg\n",
      "250_small.jpg\n",
      "262_small.jpg\n",
      "266_small.jpg\n",
      "268_small.jpg\n",
      "274_small.jpg\n",
      "291_small.jpg\n",
      "293_small.jpg\n",
      "310_small.jpg\n",
      "313_small.jpg\n",
      "321_small.jpg\n",
      "322_small.jpg\n",
      "331_small.jpg\n",
      "335_small.jpg\n",
      "337_small.jpg\n",
      "354_small.jpg\n",
      "375_small.jpg\n",
      "382_small.jpg\n",
      "384_small.jpg\n",
      "395_small.jpg\n",
      "401_small.jpg\n",
      " \n",
      "* * * * * * * * * * * * * * * * * * * * * * * * * * * * * * \n",
      "Images in cluster: 5\n",
      "* * * * * * * * * * * * * * * * * * * * * * * * * * * * * * \n",
      "4_small.jpg\n",
      "25_small.jpg\n",
      "198_small.jpg\n",
      "206_small.jpg\n",
      "301_small.jpg\n",
      "360_small.jpg\n",
      "388_small.jpg\n",
      " \n",
      "* * * * * * * * * * * * * * * * * * * * * * * * * * * * * * \n",
      "Images in cluster: 6\n",
      "* * * * * * * * * * * * * * * * * * * * * * * * * * * * * * \n",
      "103_small.jpg\n",
      "112_small.jpg\n",
      "179_small.jpg\n",
      "216_small.jpg\n",
      "228_small.jpg\n",
      "229_small.jpg\n",
      "230_small.jpg\n",
      "232_small.jpg\n",
      "235_small.jpg\n",
      "242_small.jpg\n",
      "251_small.jpg\n",
      "305_small.jpg\n",
      "330_small.jpg\n",
      "389_small.jpg\n",
      "396_small.jpg\n",
      " \n",
      "* * * * * * * * * * * * * * * * * * * * * * * * * * * * * * \n",
      "Images in cluster: 7\n",
      "* * * * * * * * * * * * * * * * * * * * * * * * * * * * * * \n",
      "9_small.jpg\n",
      "13_small.jpg\n",
      "15_small.jpg\n",
      "95_small.jpg\n",
      "108_small.jpg\n",
      "144_small.jpg\n",
      "254_small.jpg\n",
      "260_small.jpg\n",
      "307_small.jpg\n",
      "309_small.jpg\n",
      "311_small.jpg\n",
      "312_small.jpg\n",
      "318_small.jpg\n",
      "366_small.jpg\n",
      "385_small.jpg\n",
      " \n",
      "* * * * * * * * * * * * * * * * * * * * * * * * * * * * * * \n",
      "Images in cluster: 8\n",
      "* * * * * * * * * * * * * * * * * * * * * * * * * * * * * * \n",
      "5_small.jpg\n",
      "7_small.jpg\n",
      "20_small.jpg\n",
      "35_small.jpg\n",
      "40_small.jpg\n",
      "41_small.jpg\n",
      "43_small.jpg\n",
      "50_small.jpg\n",
      "67_small.jpg\n",
      "69_small.jpg\n",
      "78_small.jpg\n",
      "81_small.jpg\n",
      "82_small.jpg\n",
      "84_small.jpg\n",
      "87_small.jpg\n",
      "90_small.jpg\n",
      "93_small.jpg\n",
      "104_small.jpg\n",
      "116_small.jpg\n",
      "127_small.jpg\n",
      "128_small.jpg\n",
      "132_small.jpg\n",
      "141_small.jpg\n",
      "146_small.jpg\n",
      "153_small.jpg\n",
      "180_small.jpg\n",
      "183_small.jpg\n",
      "203_small.jpg\n",
      "214_small.jpg\n",
      "245_small.jpg\n",
      "248_small.jpg\n",
      "252_small.jpg\n",
      "261_small.jpg\n",
      "267_small.jpg\n",
      "285_small.jpg\n",
      "290_small.jpg\n",
      "292_small.jpg\n",
      "298_small.jpg\n",
      "299_small.jpg\n",
      "325_small.jpg\n",
      "338_small.jpg\n",
      "346_small.jpg\n",
      "347_small.jpg\n",
      "368_small.jpg\n",
      "376_small.jpg\n",
      "379_small.jpg\n",
      " \n",
      "* * * * * * * * * * * * * * * * * * * * * * * * * * * * * * \n",
      "Images in cluster: 9\n",
      "* * * * * * * * * * * * * * * * * * * * * * * * * * * * * * \n",
      "16_small.jpg\n",
      "98_small.jpg\n",
      "169_small.jpg\n",
      "240_small.jpg\n",
      "284_small.jpg\n",
      "294_small.jpg\n",
      "343_small.jpg\n",
      "381_small.jpg\n",
      " \n",
      "* * * * * * * * * * * * * * * * * * * * * * * * * * * * * * \n",
      "Images in cluster: 10\n",
      "* * * * * * * * * * * * * * * * * * * * * * * * * * * * * * \n",
      "71_small.jpg\n",
      "174_small.jpg\n",
      "213_small.jpg\n",
      "220_small.jpg\n",
      "234_small.jpg\n",
      "319_small.jpg\n",
      "341_small.jpg\n",
      "369_small.jpg\n",
      "373_small.jpg\n",
      " \n",
      "* * * * * * * * * * * * * * * * * * * * * * * * * * * * * * \n",
      "Images in cluster: 11\n",
      "* * * * * * * * * * * * * * * * * * * * * * * * * * * * * * \n",
      "33_small.jpg\n",
      "208_small.jpg\n",
      "210_small.jpg\n",
      "231_small.jpg\n",
      "241_small.jpg\n",
      "247_small.jpg\n",
      "304_small.jpg\n",
      "333_small.jpg\n",
      " \n",
      "* * * * * * * * * * * * * * * * * * * * * * * * * * * * * * \n",
      "Images in cluster: 12\n",
      "* * * * * * * * * * * * * * * * * * * * * * * * * * * * * * \n",
      "23_small.jpg\n",
      "30_small.jpg\n",
      "88_small.jpg\n",
      "96_small.jpg\n",
      "151_small.jpg\n",
      "172_small.jpg\n",
      "181_small.jpg\n",
      "201_small.jpg\n",
      "255_small.jpg\n",
      "264_small.jpg\n",
      "271_small.jpg\n",
      "273_small.jpg\n",
      "275_small.jpg\n",
      "288_small.jpg\n",
      "324_small.jpg\n",
      " \n",
      "* * * * * * * * * * * * * * * * * * * * * * * * * * * * * * \n",
      "Images in cluster: 13\n",
      "* * * * * * * * * * * * * * * * * * * * * * * * * * * * * * \n",
      "62_small.jpg\n",
      "176_small.jpg\n",
      "178_small.jpg\n",
      "184_small.jpg\n",
      "187_small.jpg\n",
      "204_small.jpg\n",
      "236_small.jpg\n",
      "243_small.jpg\n",
      "256_small.jpg\n",
      "355_small.jpg\n",
      "356_small.jpg\n",
      "357_small.jpg\n",
      "361_small.jpg\n",
      "383_small.jpg\n",
      "397_small.jpg\n",
      " \n",
      "* * * * * * * * * * * * * * * * * * * * * * * * * * * * * * \n",
      "Images in cluster: 14\n",
      "* * * * * * * * * * * * * * * * * * * * * * * * * * * * * * \n",
      "6_small.jpg\n",
      "49_small.jpg\n",
      "65_small.jpg\n",
      "76_small.jpg\n",
      "197_small.jpg\n",
      "224_small.jpg\n",
      "270_small.jpg\n",
      "277_small.jpg\n",
      "302_small.jpg\n",
      "303_small.jpg\n",
      "339_small.jpg\n",
      "405_small.jpg\n"
     ]
    }
   ],
   "source": [
    "for i in range(0, max(km.labels_)+1):\n",
    "    print(\" \")\n",
    "    print(\"* * * * * * * * * * * * * * * * * * * * * * * * * * * * * * \")\n",
    "    print(\"Images in cluster: \" + str(i))\n",
    "    print(\"* * * * * * * * * * * * * * * * * * * * * * * * * * * * * * \")\n",
    "    for j in range(0, len(km.labels_)):\n",
    "        if km.labels_[j] == i:\n",
    "            print(str(j+2) + '_small.jpg')"
   ]
  },
  {
   "cell_type": "code",
   "execution_count": 247,
   "metadata": {
    "scrolled": false
   },
   "outputs": [
    {
     "name": "stdout",
     "output_type": "stream",
     "text": [
      " \n",
      "* * * * * * * * * * * * * * * * * * * * * * * * * * * * * * \n",
      "Images in cluster: 0\n",
      "* * * * * * * * * * * * * * * * * * * * * * * * * * * * * * \n"
     ]
    },
    {
     "data": {
      "text/html": [
       "<img src =\"/notebooks/ML3option_2/img_small/8_small.jpg\" alt =\"ss\" width =\"50\" height=\"70\" display=\"inline;\">"
      ],
      "text/plain": [
       "<IPython.core.display.HTML object>"
      ]
     },
     "metadata": {},
     "output_type": "display_data"
    },
    {
     "data": {
      "text/html": [
       "<img src =\"/notebooks/ML3option_2/img_small/10_small.jpg\" alt =\"ss\" width =\"50\" height=\"70\" display=\"inline;\">"
      ],
      "text/plain": [
       "<IPython.core.display.HTML object>"
      ]
     },
     "metadata": {},
     "output_type": "display_data"
    },
    {
     "data": {
      "text/html": [
       "<img src =\"/notebooks/ML3option_2/img_small/12_small.jpg\" alt =\"ss\" width =\"50\" height=\"70\" display=\"inline;\">"
      ],
      "text/plain": [
       "<IPython.core.display.HTML object>"
      ]
     },
     "metadata": {},
     "output_type": "display_data"
    },
    {
     "data": {
      "text/html": [
       "<img src =\"/notebooks/ML3option_2/img_small/18_small.jpg\" alt =\"ss\" width =\"50\" height=\"70\" display=\"inline;\">"
      ],
      "text/plain": [
       "<IPython.core.display.HTML object>"
      ]
     },
     "metadata": {},
     "output_type": "display_data"
    },
    {
     "data": {
      "text/html": [
       "<img src =\"/notebooks/ML3option_2/img_small/34_small.jpg\" alt =\"ss\" width =\"50\" height=\"70\" display=\"inline;\">"
      ],
      "text/plain": [
       "<IPython.core.display.HTML object>"
      ]
     },
     "metadata": {},
     "output_type": "display_data"
    },
    {
     "data": {
      "text/html": [
       "<img src =\"/notebooks/ML3option_2/img_small/37_small.jpg\" alt =\"ss\" width =\"50\" height=\"70\" display=\"inline;\">"
      ],
      "text/plain": [
       "<IPython.core.display.HTML object>"
      ]
     },
     "metadata": {},
     "output_type": "display_data"
    },
    {
     "data": {
      "text/html": [
       "<img src =\"/notebooks/ML3option_2/img_small/38_small.jpg\" alt =\"ss\" width =\"50\" height=\"70\" display=\"inline;\">"
      ],
      "text/plain": [
       "<IPython.core.display.HTML object>"
      ]
     },
     "metadata": {},
     "output_type": "display_data"
    },
    {
     "data": {
      "text/html": [
       "<img src =\"/notebooks/ML3option_2/img_small/54_small.jpg\" alt =\"ss\" width =\"50\" height=\"70\" display=\"inline;\">"
      ],
      "text/plain": [
       "<IPython.core.display.HTML object>"
      ]
     },
     "metadata": {},
     "output_type": "display_data"
    },
    {
     "data": {
      "text/html": [
       "<img src =\"/notebooks/ML3option_2/img_small/59_small.jpg\" alt =\"ss\" width =\"50\" height=\"70\" display=\"inline;\">"
      ],
      "text/plain": [
       "<IPython.core.display.HTML object>"
      ]
     },
     "metadata": {},
     "output_type": "display_data"
    },
    {
     "data": {
      "text/html": [
       "<img src =\"/notebooks/ML3option_2/img_small/70_small.jpg\" alt =\"ss\" width =\"50\" height=\"70\" display=\"inline;\">"
      ],
      "text/plain": [
       "<IPython.core.display.HTML object>"
      ]
     },
     "metadata": {},
     "output_type": "display_data"
    },
    {
     "data": {
      "text/html": [
       "<img src =\"/notebooks/ML3option_2/img_small/73_small.jpg\" alt =\"ss\" width =\"50\" height=\"70\" display=\"inline;\">"
      ],
      "text/plain": [
       "<IPython.core.display.HTML object>"
      ]
     },
     "metadata": {},
     "output_type": "display_data"
    },
    {
     "data": {
      "text/html": [
       "<img src =\"/notebooks/ML3option_2/img_small/86_small.jpg\" alt =\"ss\" width =\"50\" height=\"70\" display=\"inline;\">"
      ],
      "text/plain": [
       "<IPython.core.display.HTML object>"
      ]
     },
     "metadata": {},
     "output_type": "display_data"
    },
    {
     "data": {
      "text/html": [
       "<img src =\"/notebooks/ML3option_2/img_small/97_small.jpg\" alt =\"ss\" width =\"50\" height=\"70\" display=\"inline;\">"
      ],
      "text/plain": [
       "<IPython.core.display.HTML object>"
      ]
     },
     "metadata": {},
     "output_type": "display_data"
    },
    {
     "data": {
      "text/html": [
       "<img src =\"/notebooks/ML3option_2/img_small/99_small.jpg\" alt =\"ss\" width =\"50\" height=\"70\" display=\"inline;\">"
      ],
      "text/plain": [
       "<IPython.core.display.HTML object>"
      ]
     },
     "metadata": {},
     "output_type": "display_data"
    },
    {
     "data": {
      "text/html": [
       "<img src =\"/notebooks/ML3option_2/img_small/120_small.jpg\" alt =\"ss\" width =\"50\" height=\"70\" display=\"inline;\">"
      ],
      "text/plain": [
       "<IPython.core.display.HTML object>"
      ]
     },
     "metadata": {},
     "output_type": "display_data"
    },
    {
     "data": {
      "text/html": [
       "<img src =\"/notebooks/ML3option_2/img_small/129_small.jpg\" alt =\"ss\" width =\"50\" height=\"70\" display=\"inline;\">"
      ],
      "text/plain": [
       "<IPython.core.display.HTML object>"
      ]
     },
     "metadata": {},
     "output_type": "display_data"
    },
    {
     "data": {
      "text/html": [
       "<img src =\"/notebooks/ML3option_2/img_small/130_small.jpg\" alt =\"ss\" width =\"50\" height=\"70\" display=\"inline;\">"
      ],
      "text/plain": [
       "<IPython.core.display.HTML object>"
      ]
     },
     "metadata": {},
     "output_type": "display_data"
    },
    {
     "data": {
      "text/html": [
       "<img src =\"/notebooks/ML3option_2/img_small/148_small.jpg\" alt =\"ss\" width =\"50\" height=\"70\" display=\"inline;\">"
      ],
      "text/plain": [
       "<IPython.core.display.HTML object>"
      ]
     },
     "metadata": {},
     "output_type": "display_data"
    },
    {
     "data": {
      "text/html": [
       "<img src =\"/notebooks/ML3option_2/img_small/156_small.jpg\" alt =\"ss\" width =\"50\" height=\"70\" display=\"inline;\">"
      ],
      "text/plain": [
       "<IPython.core.display.HTML object>"
      ]
     },
     "metadata": {},
     "output_type": "display_data"
    },
    {
     "data": {
      "text/html": [
       "<img src =\"/notebooks/ML3option_2/img_small/157_small.jpg\" alt =\"ss\" width =\"50\" height=\"70\" display=\"inline;\">"
      ],
      "text/plain": [
       "<IPython.core.display.HTML object>"
      ]
     },
     "metadata": {},
     "output_type": "display_data"
    },
    {
     "data": {
      "text/html": [
       "<img src =\"/notebooks/ML3option_2/img_small/164_small.jpg\" alt =\"ss\" width =\"50\" height=\"70\" display=\"inline;\">"
      ],
      "text/plain": [
       "<IPython.core.display.HTML object>"
      ]
     },
     "metadata": {},
     "output_type": "display_data"
    },
    {
     "data": {
      "text/html": [
       "<img src =\"/notebooks/ML3option_2/img_small/186_small.jpg\" alt =\"ss\" width =\"50\" height=\"70\" display=\"inline;\">"
      ],
      "text/plain": [
       "<IPython.core.display.HTML object>"
      ]
     },
     "metadata": {},
     "output_type": "display_data"
    },
    {
     "data": {
      "text/html": [
       "<img src =\"/notebooks/ML3option_2/img_small/193_small.jpg\" alt =\"ss\" width =\"50\" height=\"70\" display=\"inline;\">"
      ],
      "text/plain": [
       "<IPython.core.display.HTML object>"
      ]
     },
     "metadata": {},
     "output_type": "display_data"
    },
    {
     "data": {
      "text/html": [
       "<img src =\"/notebooks/ML3option_2/img_small/195_small.jpg\" alt =\"ss\" width =\"50\" height=\"70\" display=\"inline;\">"
      ],
      "text/plain": [
       "<IPython.core.display.HTML object>"
      ]
     },
     "metadata": {},
     "output_type": "display_data"
    },
    {
     "data": {
      "text/html": [
       "<img src =\"/notebooks/ML3option_2/img_small/209_small.jpg\" alt =\"ss\" width =\"50\" height=\"70\" display=\"inline;\">"
      ],
      "text/plain": [
       "<IPython.core.display.HTML object>"
      ]
     },
     "metadata": {},
     "output_type": "display_data"
    },
    {
     "data": {
      "text/html": [
       "<img src =\"/notebooks/ML3option_2/img_small/223_small.jpg\" alt =\"ss\" width =\"50\" height=\"70\" display=\"inline;\">"
      ],
      "text/plain": [
       "<IPython.core.display.HTML object>"
      ]
     },
     "metadata": {},
     "output_type": "display_data"
    },
    {
     "data": {
      "text/html": [
       "<img src =\"/notebooks/ML3option_2/img_small/227_small.jpg\" alt =\"ss\" width =\"50\" height=\"70\" display=\"inline;\">"
      ],
      "text/plain": [
       "<IPython.core.display.HTML object>"
      ]
     },
     "metadata": {},
     "output_type": "display_data"
    },
    {
     "data": {
      "text/html": [
       "<img src =\"/notebooks/ML3option_2/img_small/237_small.jpg\" alt =\"ss\" width =\"50\" height=\"70\" display=\"inline;\">"
      ],
      "text/plain": [
       "<IPython.core.display.HTML object>"
      ]
     },
     "metadata": {},
     "output_type": "display_data"
    },
    {
     "data": {
      "text/html": [
       "<img src =\"/notebooks/ML3option_2/img_small/246_small.jpg\" alt =\"ss\" width =\"50\" height=\"70\" display=\"inline;\">"
      ],
      "text/plain": [
       "<IPython.core.display.HTML object>"
      ]
     },
     "metadata": {},
     "output_type": "display_data"
    },
    {
     "data": {
      "text/html": [
       "<img src =\"/notebooks/ML3option_2/img_small/259_small.jpg\" alt =\"ss\" width =\"50\" height=\"70\" display=\"inline;\">"
      ],
      "text/plain": [
       "<IPython.core.display.HTML object>"
      ]
     },
     "metadata": {},
     "output_type": "display_data"
    },
    {
     "data": {
      "text/html": [
       "<img src =\"/notebooks/ML3option_2/img_small/289_small.jpg\" alt =\"ss\" width =\"50\" height=\"70\" display=\"inline;\">"
      ],
      "text/plain": [
       "<IPython.core.display.HTML object>"
      ]
     },
     "metadata": {},
     "output_type": "display_data"
    },
    {
     "data": {
      "text/html": [
       "<img src =\"/notebooks/ML3option_2/img_small/300_small.jpg\" alt =\"ss\" width =\"50\" height=\"70\" display=\"inline;\">"
      ],
      "text/plain": [
       "<IPython.core.display.HTML object>"
      ]
     },
     "metadata": {},
     "output_type": "display_data"
    },
    {
     "data": {
      "text/html": [
       "<img src =\"/notebooks/ML3option_2/img_small/308_small.jpg\" alt =\"ss\" width =\"50\" height=\"70\" display=\"inline;\">"
      ],
      "text/plain": [
       "<IPython.core.display.HTML object>"
      ]
     },
     "metadata": {},
     "output_type": "display_data"
    },
    {
     "data": {
      "text/html": [
       "<img src =\"/notebooks/ML3option_2/img_small/316_small.jpg\" alt =\"ss\" width =\"50\" height=\"70\" display=\"inline;\">"
      ],
      "text/plain": [
       "<IPython.core.display.HTML object>"
      ]
     },
     "metadata": {},
     "output_type": "display_data"
    },
    {
     "data": {
      "text/html": [
       "<img src =\"/notebooks/ML3option_2/img_small/332_small.jpg\" alt =\"ss\" width =\"50\" height=\"70\" display=\"inline;\">"
      ],
      "text/plain": [
       "<IPython.core.display.HTML object>"
      ]
     },
     "metadata": {},
     "output_type": "display_data"
    },
    {
     "data": {
      "text/html": [
       "<img src =\"/notebooks/ML3option_2/img_small/334_small.jpg\" alt =\"ss\" width =\"50\" height=\"70\" display=\"inline;\">"
      ],
      "text/plain": [
       "<IPython.core.display.HTML object>"
      ]
     },
     "metadata": {},
     "output_type": "display_data"
    },
    {
     "data": {
      "text/html": [
       "<img src =\"/notebooks/ML3option_2/img_small/345_small.jpg\" alt =\"ss\" width =\"50\" height=\"70\" display=\"inline;\">"
      ],
      "text/plain": [
       "<IPython.core.display.HTML object>"
      ]
     },
     "metadata": {},
     "output_type": "display_data"
    },
    {
     "data": {
      "text/html": [
       "<img src =\"/notebooks/ML3option_2/img_small/349_small.jpg\" alt =\"ss\" width =\"50\" height=\"70\" display=\"inline;\">"
      ],
      "text/plain": [
       "<IPython.core.display.HTML object>"
      ]
     },
     "metadata": {},
     "output_type": "display_data"
    },
    {
     "data": {
      "text/html": [
       "<img src =\"/notebooks/ML3option_2/img_small/351_small.jpg\" alt =\"ss\" width =\"50\" height=\"70\" display=\"inline;\">"
      ],
      "text/plain": [
       "<IPython.core.display.HTML object>"
      ]
     },
     "metadata": {},
     "output_type": "display_data"
    },
    {
     "data": {
      "text/html": [
       "<img src =\"/notebooks/ML3option_2/img_small/359_small.jpg\" alt =\"ss\" width =\"50\" height=\"70\" display=\"inline;\">"
      ],
      "text/plain": [
       "<IPython.core.display.HTML object>"
      ]
     },
     "metadata": {},
     "output_type": "display_data"
    },
    {
     "data": {
      "text/html": [
       "<img src =\"/notebooks/ML3option_2/img_small/362_small.jpg\" alt =\"ss\" width =\"50\" height=\"70\" display=\"inline;\">"
      ],
      "text/plain": [
       "<IPython.core.display.HTML object>"
      ]
     },
     "metadata": {},
     "output_type": "display_data"
    },
    {
     "data": {
      "text/html": [
       "<img src =\"/notebooks/ML3option_2/img_small/372_small.jpg\" alt =\"ss\" width =\"50\" height=\"70\" display=\"inline;\">"
      ],
      "text/plain": [
       "<IPython.core.display.HTML object>"
      ]
     },
     "metadata": {},
     "output_type": "display_data"
    },
    {
     "data": {
      "text/html": [
       "<img src =\"/notebooks/ML3option_2/img_small/380_small.jpg\" alt =\"ss\" width =\"50\" height=\"70\" display=\"inline;\">"
      ],
      "text/plain": [
       "<IPython.core.display.HTML object>"
      ]
     },
     "metadata": {},
     "output_type": "display_data"
    },
    {
     "data": {
      "text/html": [
       "<img src =\"/notebooks/ML3option_2/img_small/390_small.jpg\" alt =\"ss\" width =\"50\" height=\"70\" display=\"inline;\">"
      ],
      "text/plain": [
       "<IPython.core.display.HTML object>"
      ]
     },
     "metadata": {},
     "output_type": "display_data"
    },
    {
     "data": {
      "text/html": [
       "<img src =\"/notebooks/ML3option_2/img_small/393_small.jpg\" alt =\"ss\" width =\"50\" height=\"70\" display=\"inline;\">"
      ],
      "text/plain": [
       "<IPython.core.display.HTML object>"
      ]
     },
     "metadata": {},
     "output_type": "display_data"
    },
    {
     "data": {
      "text/html": [
       "<img src =\"/notebooks/ML3option_2/img_small/394_small.jpg\" alt =\"ss\" width =\"50\" height=\"70\" display=\"inline;\">"
      ],
      "text/plain": [
       "<IPython.core.display.HTML object>"
      ]
     },
     "metadata": {},
     "output_type": "display_data"
    },
    {
     "data": {
      "text/html": [
       "<img src =\"/notebooks/ML3option_2/img_small/399_small.jpg\" alt =\"ss\" width =\"50\" height=\"70\" display=\"inline;\">"
      ],
      "text/plain": [
       "<IPython.core.display.HTML object>"
      ]
     },
     "metadata": {},
     "output_type": "display_data"
    },
    {
     "name": "stdout",
     "output_type": "stream",
     "text": [
      " \n",
      "* * * * * * * * * * * * * * * * * * * * * * * * * * * * * * \n",
      "Images in cluster: 1\n",
      "* * * * * * * * * * * * * * * * * * * * * * * * * * * * * * \n"
     ]
    },
    {
     "data": {
      "text/html": [
       "<img src =\"/notebooks/ML3option_2/img_small/8_small.jpg\" alt =\"ss\" width =\"50\" height=\"70\" display=\"inline;\">"
      ],
      "text/plain": [
       "<IPython.core.display.HTML object>"
      ]
     },
     "metadata": {},
     "output_type": "display_data"
    },
    {
     "data": {
      "text/html": [
       "<img src =\"/notebooks/ML3option_2/img_small/10_small.jpg\" alt =\"ss\" width =\"50\" height=\"70\" display=\"inline;\">"
      ],
      "text/plain": [
       "<IPython.core.display.HTML object>"
      ]
     },
     "metadata": {},
     "output_type": "display_data"
    },
    {
     "data": {
      "text/html": [
       "<img src =\"/notebooks/ML3option_2/img_small/12_small.jpg\" alt =\"ss\" width =\"50\" height=\"70\" display=\"inline;\">"
      ],
      "text/plain": [
       "<IPython.core.display.HTML object>"
      ]
     },
     "metadata": {},
     "output_type": "display_data"
    },
    {
     "data": {
      "text/html": [
       "<img src =\"/notebooks/ML3option_2/img_small/17_small.jpg\" alt =\"ss\" width =\"50\" height=\"70\" display=\"inline;\">"
      ],
      "text/plain": [
       "<IPython.core.display.HTML object>"
      ]
     },
     "metadata": {},
     "output_type": "display_data"
    },
    {
     "data": {
      "text/html": [
       "<img src =\"/notebooks/ML3option_2/img_small/18_small.jpg\" alt =\"ss\" width =\"50\" height=\"70\" display=\"inline;\">"
      ],
      "text/plain": [
       "<IPython.core.display.HTML object>"
      ]
     },
     "metadata": {},
     "output_type": "display_data"
    },
    {
     "data": {
      "text/html": [
       "<img src =\"/notebooks/ML3option_2/img_small/27_small.jpg\" alt =\"ss\" width =\"50\" height=\"70\" display=\"inline;\">"
      ],
      "text/plain": [
       "<IPython.core.display.HTML object>"
      ]
     },
     "metadata": {},
     "output_type": "display_data"
    },
    {
     "data": {
      "text/html": [
       "<img src =\"/notebooks/ML3option_2/img_small/29_small.jpg\" alt =\"ss\" width =\"50\" height=\"70\" display=\"inline;\">"
      ],
      "text/plain": [
       "<IPython.core.display.HTML object>"
      ]
     },
     "metadata": {},
     "output_type": "display_data"
    },
    {
     "data": {
      "text/html": [
       "<img src =\"/notebooks/ML3option_2/img_small/34_small.jpg\" alt =\"ss\" width =\"50\" height=\"70\" display=\"inline;\">"
      ],
      "text/plain": [
       "<IPython.core.display.HTML object>"
      ]
     },
     "metadata": {},
     "output_type": "display_data"
    },
    {
     "data": {
      "text/html": [
       "<img src =\"/notebooks/ML3option_2/img_small/38_small.jpg\" alt =\"ss\" width =\"50\" height=\"70\" display=\"inline;\">"
      ],
      "text/plain": [
       "<IPython.core.display.HTML object>"
      ]
     },
     "metadata": {},
     "output_type": "display_data"
    },
    {
     "data": {
      "text/html": [
       "<img src =\"/notebooks/ML3option_2/img_small/39_small.jpg\" alt =\"ss\" width =\"50\" height=\"70\" display=\"inline;\">"
      ],
      "text/plain": [
       "<IPython.core.display.HTML object>"
      ]
     },
     "metadata": {},
     "output_type": "display_data"
    },
    {
     "data": {
      "text/html": [
       "<img src =\"/notebooks/ML3option_2/img_small/45_small.jpg\" alt =\"ss\" width =\"50\" height=\"70\" display=\"inline;\">"
      ],
      "text/plain": [
       "<IPython.core.display.HTML object>"
      ]
     },
     "metadata": {},
     "output_type": "display_data"
    },
    {
     "data": {
      "text/html": [
       "<img src =\"/notebooks/ML3option_2/img_small/47_small.jpg\" alt =\"ss\" width =\"50\" height=\"70\" display=\"inline;\">"
      ],
      "text/plain": [
       "<IPython.core.display.HTML object>"
      ]
     },
     "metadata": {},
     "output_type": "display_data"
    },
    {
     "data": {
      "text/html": [
       "<img src =\"/notebooks/ML3option_2/img_small/53_small.jpg\" alt =\"ss\" width =\"50\" height=\"70\" display=\"inline;\">"
      ],
      "text/plain": [
       "<IPython.core.display.HTML object>"
      ]
     },
     "metadata": {},
     "output_type": "display_data"
    },
    {
     "data": {
      "text/html": [
       "<img src =\"/notebooks/ML3option_2/img_small/54_small.jpg\" alt =\"ss\" width =\"50\" height=\"70\" display=\"inline;\">"
      ],
      "text/plain": [
       "<IPython.core.display.HTML object>"
      ]
     },
     "metadata": {},
     "output_type": "display_data"
    },
    {
     "data": {
      "text/html": [
       "<img src =\"/notebooks/ML3option_2/img_small/70_small.jpg\" alt =\"ss\" width =\"50\" height=\"70\" display=\"inline;\">"
      ],
      "text/plain": [
       "<IPython.core.display.HTML object>"
      ]
     },
     "metadata": {},
     "output_type": "display_data"
    },
    {
     "data": {
      "text/html": [
       "<img src =\"/notebooks/ML3option_2/img_small/86_small.jpg\" alt =\"ss\" width =\"50\" height=\"70\" display=\"inline;\">"
      ],
      "text/plain": [
       "<IPython.core.display.HTML object>"
      ]
     },
     "metadata": {},
     "output_type": "display_data"
    },
    {
     "data": {
      "text/html": [
       "<img src =\"/notebooks/ML3option_2/img_small/107_small.jpg\" alt =\"ss\" width =\"50\" height=\"70\" display=\"inline;\">"
      ],
      "text/plain": [
       "<IPython.core.display.HTML object>"
      ]
     },
     "metadata": {},
     "output_type": "display_data"
    },
    {
     "data": {
      "text/html": [
       "<img src =\"/notebooks/ML3option_2/img_small/113_small.jpg\" alt =\"ss\" width =\"50\" height=\"70\" display=\"inline;\">"
      ],
      "text/plain": [
       "<IPython.core.display.HTML object>"
      ]
     },
     "metadata": {},
     "output_type": "display_data"
    },
    {
     "data": {
      "text/html": [
       "<img src =\"/notebooks/ML3option_2/img_small/119_small.jpg\" alt =\"ss\" width =\"50\" height=\"70\" display=\"inline;\">"
      ],
      "text/plain": [
       "<IPython.core.display.HTML object>"
      ]
     },
     "metadata": {},
     "output_type": "display_data"
    },
    {
     "data": {
      "text/html": [
       "<img src =\"/notebooks/ML3option_2/img_small/120_small.jpg\" alt =\"ss\" width =\"50\" height=\"70\" display=\"inline;\">"
      ],
      "text/plain": [
       "<IPython.core.display.HTML object>"
      ]
     },
     "metadata": {},
     "output_type": "display_data"
    },
    {
     "data": {
      "text/html": [
       "<img src =\"/notebooks/ML3option_2/img_small/130_small.jpg\" alt =\"ss\" width =\"50\" height=\"70\" display=\"inline;\">"
      ],
      "text/plain": [
       "<IPython.core.display.HTML object>"
      ]
     },
     "metadata": {},
     "output_type": "display_data"
    },
    {
     "data": {
      "text/html": [
       "<img src =\"/notebooks/ML3option_2/img_small/131_small.jpg\" alt =\"ss\" width =\"50\" height=\"70\" display=\"inline;\">"
      ],
      "text/plain": [
       "<IPython.core.display.HTML object>"
      ]
     },
     "metadata": {},
     "output_type": "display_data"
    },
    {
     "data": {
      "text/html": [
       "<img src =\"/notebooks/ML3option_2/img_small/135_small.jpg\" alt =\"ss\" width =\"50\" height=\"70\" display=\"inline;\">"
      ],
      "text/plain": [
       "<IPython.core.display.HTML object>"
      ]
     },
     "metadata": {},
     "output_type": "display_data"
    },
    {
     "data": {
      "text/html": [
       "<img src =\"/notebooks/ML3option_2/img_small/147_small.jpg\" alt =\"ss\" width =\"50\" height=\"70\" display=\"inline;\">"
      ],
      "text/plain": [
       "<IPython.core.display.HTML object>"
      ]
     },
     "metadata": {},
     "output_type": "display_data"
    },
    {
     "data": {
      "text/html": [
       "<img src =\"/notebooks/ML3option_2/img_small/148_small.jpg\" alt =\"ss\" width =\"50\" height=\"70\" display=\"inline;\">"
      ],
      "text/plain": [
       "<IPython.core.display.HTML object>"
      ]
     },
     "metadata": {},
     "output_type": "display_data"
    },
    {
     "data": {
      "text/html": [
       "<img src =\"/notebooks/ML3option_2/img_small/149_small.jpg\" alt =\"ss\" width =\"50\" height=\"70\" display=\"inline;\">"
      ],
      "text/plain": [
       "<IPython.core.display.HTML object>"
      ]
     },
     "metadata": {},
     "output_type": "display_data"
    },
    {
     "data": {
      "text/html": [
       "<img src =\"/notebooks/ML3option_2/img_small/156_small.jpg\" alt =\"ss\" width =\"50\" height=\"70\" display=\"inline;\">"
      ],
      "text/plain": [
       "<IPython.core.display.HTML object>"
      ]
     },
     "metadata": {},
     "output_type": "display_data"
    },
    {
     "data": {
      "text/html": [
       "<img src =\"/notebooks/ML3option_2/img_small/159_small.jpg\" alt =\"ss\" width =\"50\" height=\"70\" display=\"inline;\">"
      ],
      "text/plain": [
       "<IPython.core.display.HTML object>"
      ]
     },
     "metadata": {},
     "output_type": "display_data"
    },
    {
     "data": {
      "text/html": [
       "<img src =\"/notebooks/ML3option_2/img_small/164_small.jpg\" alt =\"ss\" width =\"50\" height=\"70\" display=\"inline;\">"
      ],
      "text/plain": [
       "<IPython.core.display.HTML object>"
      ]
     },
     "metadata": {},
     "output_type": "display_data"
    },
    {
     "data": {
      "text/html": [
       "<img src =\"/notebooks/ML3option_2/img_small/167_small.jpg\" alt =\"ss\" width =\"50\" height=\"70\" display=\"inline;\">"
      ],
      "text/plain": [
       "<IPython.core.display.HTML object>"
      ]
     },
     "metadata": {},
     "output_type": "display_data"
    },
    {
     "data": {
      "text/html": [
       "<img src =\"/notebooks/ML3option_2/img_small/173_small.jpg\" alt =\"ss\" width =\"50\" height=\"70\" display=\"inline;\">"
      ],
      "text/plain": [
       "<IPython.core.display.HTML object>"
      ]
     },
     "metadata": {},
     "output_type": "display_data"
    },
    {
     "data": {
      "text/html": [
       "<img src =\"/notebooks/ML3option_2/img_small/186_small.jpg\" alt =\"ss\" width =\"50\" height=\"70\" display=\"inline;\">"
      ],
      "text/plain": [
       "<IPython.core.display.HTML object>"
      ]
     },
     "metadata": {},
     "output_type": "display_data"
    },
    {
     "data": {
      "text/html": [
       "<img src =\"/notebooks/ML3option_2/img_small/211_small.jpg\" alt =\"ss\" width =\"50\" height=\"70\" display=\"inline;\">"
      ],
      "text/plain": [
       "<IPython.core.display.HTML object>"
      ]
     },
     "metadata": {},
     "output_type": "display_data"
    },
    {
     "data": {
      "text/html": [
       "<img src =\"/notebooks/ML3option_2/img_small/219_small.jpg\" alt =\"ss\" width =\"50\" height=\"70\" display=\"inline;\">"
      ],
      "text/plain": [
       "<IPython.core.display.HTML object>"
      ]
     },
     "metadata": {},
     "output_type": "display_data"
    },
    {
     "data": {
      "text/html": [
       "<img src =\"/notebooks/ML3option_2/img_small/225_small.jpg\" alt =\"ss\" width =\"50\" height=\"70\" display=\"inline;\">"
      ],
      "text/plain": [
       "<IPython.core.display.HTML object>"
      ]
     },
     "metadata": {},
     "output_type": "display_data"
    },
    {
     "data": {
      "text/html": [
       "<img src =\"/notebooks/ML3option_2/img_small/246_small.jpg\" alt =\"ss\" width =\"50\" height=\"70\" display=\"inline;\">"
      ],
      "text/plain": [
       "<IPython.core.display.HTML object>"
      ]
     },
     "metadata": {},
     "output_type": "display_data"
    },
    {
     "data": {
      "text/html": [
       "<img src =\"/notebooks/ML3option_2/img_small/257_small.jpg\" alt =\"ss\" width =\"50\" height=\"70\" display=\"inline;\">"
      ],
      "text/plain": [
       "<IPython.core.display.HTML object>"
      ]
     },
     "metadata": {},
     "output_type": "display_data"
    },
    {
     "data": {
      "text/html": [
       "<img src =\"/notebooks/ML3option_2/img_small/265_small.jpg\" alt =\"ss\" width =\"50\" height=\"70\" display=\"inline;\">"
      ],
      "text/plain": [
       "<IPython.core.display.HTML object>"
      ]
     },
     "metadata": {},
     "output_type": "display_data"
    },
    {
     "data": {
      "text/html": [
       "<img src =\"/notebooks/ML3option_2/img_small/283_small.jpg\" alt =\"ss\" width =\"50\" height=\"70\" display=\"inline;\">"
      ],
      "text/plain": [
       "<IPython.core.display.HTML object>"
      ]
     },
     "metadata": {},
     "output_type": "display_data"
    },
    {
     "data": {
      "text/html": [
       "<img src =\"/notebooks/ML3option_2/img_small/300_small.jpg\" alt =\"ss\" width =\"50\" height=\"70\" display=\"inline;\">"
      ],
      "text/plain": [
       "<IPython.core.display.HTML object>"
      ]
     },
     "metadata": {},
     "output_type": "display_data"
    },
    {
     "data": {
      "text/html": [
       "<img src =\"/notebooks/ML3option_2/img_small/308_small.jpg\" alt =\"ss\" width =\"50\" height=\"70\" display=\"inline;\">"
      ],
      "text/plain": [
       "<IPython.core.display.HTML object>"
      ]
     },
     "metadata": {},
     "output_type": "display_data"
    },
    {
     "data": {
      "text/html": [
       "<img src =\"/notebooks/ML3option_2/img_small/315_small.jpg\" alt =\"ss\" width =\"50\" height=\"70\" display=\"inline;\">"
      ],
      "text/plain": [
       "<IPython.core.display.HTML object>"
      ]
     },
     "metadata": {},
     "output_type": "display_data"
    },
    {
     "data": {
      "text/html": [
       "<img src =\"/notebooks/ML3option_2/img_small/316_small.jpg\" alt =\"ss\" width =\"50\" height=\"70\" display=\"inline;\">"
      ],
      "text/plain": [
       "<IPython.core.display.HTML object>"
      ]
     },
     "metadata": {},
     "output_type": "display_data"
    },
    {
     "data": {
      "text/html": [
       "<img src =\"/notebooks/ML3option_2/img_small/317_small.jpg\" alt =\"ss\" width =\"50\" height=\"70\" display=\"inline;\">"
      ],
      "text/plain": [
       "<IPython.core.display.HTML object>"
      ]
     },
     "metadata": {},
     "output_type": "display_data"
    },
    {
     "data": {
      "text/html": [
       "<img src =\"/notebooks/ML3option_2/img_small/323_small.jpg\" alt =\"ss\" width =\"50\" height=\"70\" display=\"inline;\">"
      ],
      "text/plain": [
       "<IPython.core.display.HTML object>"
      ]
     },
     "metadata": {},
     "output_type": "display_data"
    },
    {
     "data": {
      "text/html": [
       "<img src =\"/notebooks/ML3option_2/img_small/327_small.jpg\" alt =\"ss\" width =\"50\" height=\"70\" display=\"inline;\">"
      ],
      "text/plain": [
       "<IPython.core.display.HTML object>"
      ]
     },
     "metadata": {},
     "output_type": "display_data"
    },
    {
     "data": {
      "text/html": [
       "<img src =\"/notebooks/ML3option_2/img_small/332_small.jpg\" alt =\"ss\" width =\"50\" height=\"70\" display=\"inline;\">"
      ],
      "text/plain": [
       "<IPython.core.display.HTML object>"
      ]
     },
     "metadata": {},
     "output_type": "display_data"
    },
    {
     "data": {
      "text/html": [
       "<img src =\"/notebooks/ML3option_2/img_small/334_small.jpg\" alt =\"ss\" width =\"50\" height=\"70\" display=\"inline;\">"
      ],
      "text/plain": [
       "<IPython.core.display.HTML object>"
      ]
     },
     "metadata": {},
     "output_type": "display_data"
    },
    {
     "data": {
      "text/html": [
       "<img src =\"/notebooks/ML3option_2/img_small/362_small.jpg\" alt =\"ss\" width =\"50\" height=\"70\" display=\"inline;\">"
      ],
      "text/plain": [
       "<IPython.core.display.HTML object>"
      ]
     },
     "metadata": {},
     "output_type": "display_data"
    },
    {
     "data": {
      "text/html": [
       "<img src =\"/notebooks/ML3option_2/img_small/372_small.jpg\" alt =\"ss\" width =\"50\" height=\"70\" display=\"inline;\">"
      ],
      "text/plain": [
       "<IPython.core.display.HTML object>"
      ]
     },
     "metadata": {},
     "output_type": "display_data"
    },
    {
     "data": {
      "text/html": [
       "<img src =\"/notebooks/ML3option_2/img_small/380_small.jpg\" alt =\"ss\" width =\"50\" height=\"70\" display=\"inline;\">"
      ],
      "text/plain": [
       "<IPython.core.display.HTML object>"
      ]
     },
     "metadata": {},
     "output_type": "display_data"
    },
    {
     "data": {
      "text/html": [
       "<img src =\"/notebooks/ML3option_2/img_small/387_small.jpg\" alt =\"ss\" width =\"50\" height=\"70\" display=\"inline;\">"
      ],
      "text/plain": [
       "<IPython.core.display.HTML object>"
      ]
     },
     "metadata": {},
     "output_type": "display_data"
    },
    {
     "data": {
      "text/html": [
       "<img src =\"/notebooks/ML3option_2/img_small/390_small.jpg\" alt =\"ss\" width =\"50\" height=\"70\" display=\"inline;\">"
      ],
      "text/plain": [
       "<IPython.core.display.HTML object>"
      ]
     },
     "metadata": {},
     "output_type": "display_data"
    },
    {
     "data": {
      "text/html": [
       "<img src =\"/notebooks/ML3option_2/img_small/391_small.jpg\" alt =\"ss\" width =\"50\" height=\"70\" display=\"inline;\">"
      ],
      "text/plain": [
       "<IPython.core.display.HTML object>"
      ]
     },
     "metadata": {},
     "output_type": "display_data"
    },
    {
     "data": {
      "text/html": [
       "<img src =\"/notebooks/ML3option_2/img_small/394_small.jpg\" alt =\"ss\" width =\"50\" height=\"70\" display=\"inline;\">"
      ],
      "text/plain": [
       "<IPython.core.display.HTML object>"
      ]
     },
     "metadata": {},
     "output_type": "display_data"
    },
    {
     "name": "stdout",
     "output_type": "stream",
     "text": [
      " \n",
      "* * * * * * * * * * * * * * * * * * * * * * * * * * * * * * \n",
      "Images in cluster: 2\n",
      "* * * * * * * * * * * * * * * * * * * * * * * * * * * * * * \n"
     ]
    },
    {
     "data": {
      "text/html": [
       "<img src =\"/notebooks/ML3option_2/img_small/10_small.jpg\" alt =\"ss\" width =\"50\" height=\"70\" display=\"inline;\">"
      ],
      "text/plain": [
       "<IPython.core.display.HTML object>"
      ]
     },
     "metadata": {},
     "output_type": "display_data"
    },
    {
     "data": {
      "text/html": [
       "<img src =\"/notebooks/ML3option_2/img_small/18_small.jpg\" alt =\"ss\" width =\"50\" height=\"70\" display=\"inline;\">"
      ],
      "text/plain": [
       "<IPython.core.display.HTML object>"
      ]
     },
     "metadata": {},
     "output_type": "display_data"
    },
    {
     "data": {
      "text/html": [
       "<img src =\"/notebooks/ML3option_2/img_small/34_small.jpg\" alt =\"ss\" width =\"50\" height=\"70\" display=\"inline;\">"
      ],
      "text/plain": [
       "<IPython.core.display.HTML object>"
      ]
     },
     "metadata": {},
     "output_type": "display_data"
    },
    {
     "data": {
      "text/html": [
       "<img src =\"/notebooks/ML3option_2/img_small/38_small.jpg\" alt =\"ss\" width =\"50\" height=\"70\" display=\"inline;\">"
      ],
      "text/plain": [
       "<IPython.core.display.HTML object>"
      ]
     },
     "metadata": {},
     "output_type": "display_data"
    },
    {
     "data": {
      "text/html": [
       "<img src =\"/notebooks/ML3option_2/img_small/54_small.jpg\" alt =\"ss\" width =\"50\" height=\"70\" display=\"inline;\">"
      ],
      "text/plain": [
       "<IPython.core.display.HTML object>"
      ]
     },
     "metadata": {},
     "output_type": "display_data"
    },
    {
     "data": {
      "text/html": [
       "<img src =\"/notebooks/ML3option_2/img_small/59_small.jpg\" alt =\"ss\" width =\"50\" height=\"70\" display=\"inline;\">"
      ],
      "text/plain": [
       "<IPython.core.display.HTML object>"
      ]
     },
     "metadata": {},
     "output_type": "display_data"
    },
    {
     "data": {
      "text/html": [
       "<img src =\"/notebooks/ML3option_2/img_small/70_small.jpg\" alt =\"ss\" width =\"50\" height=\"70\" display=\"inline;\">"
      ],
      "text/plain": [
       "<IPython.core.display.HTML object>"
      ]
     },
     "metadata": {},
     "output_type": "display_data"
    },
    {
     "data": {
      "text/html": [
       "<img src =\"/notebooks/ML3option_2/img_small/86_small.jpg\" alt =\"ss\" width =\"50\" height=\"70\" display=\"inline;\">"
      ],
      "text/plain": [
       "<IPython.core.display.HTML object>"
      ]
     },
     "metadata": {},
     "output_type": "display_data"
    },
    {
     "data": {
      "text/html": [
       "<img src =\"/notebooks/ML3option_2/img_small/89_small.jpg\" alt =\"ss\" width =\"50\" height=\"70\" display=\"inline;\">"
      ],
      "text/plain": [
       "<IPython.core.display.HTML object>"
      ]
     },
     "metadata": {},
     "output_type": "display_data"
    },
    {
     "data": {
      "text/html": [
       "<img src =\"/notebooks/ML3option_2/img_small/99_small.jpg\" alt =\"ss\" width =\"50\" height=\"70\" display=\"inline;\">"
      ],
      "text/plain": [
       "<IPython.core.display.HTML object>"
      ]
     },
     "metadata": {},
     "output_type": "display_data"
    },
    {
     "data": {
      "text/html": [
       "<img src =\"/notebooks/ML3option_2/img_small/101_small.jpg\" alt =\"ss\" width =\"50\" height=\"70\" display=\"inline;\">"
      ],
      "text/plain": [
       "<IPython.core.display.HTML object>"
      ]
     },
     "metadata": {},
     "output_type": "display_data"
    },
    {
     "data": {
      "text/html": [
       "<img src =\"/notebooks/ML3option_2/img_small/130_small.jpg\" alt =\"ss\" width =\"50\" height=\"70\" display=\"inline;\">"
      ],
      "text/plain": [
       "<IPython.core.display.HTML object>"
      ]
     },
     "metadata": {},
     "output_type": "display_data"
    },
    {
     "data": {
      "text/html": [
       "<img src =\"/notebooks/ML3option_2/img_small/186_small.jpg\" alt =\"ss\" width =\"50\" height=\"70\" display=\"inline;\">"
      ],
      "text/plain": [
       "<IPython.core.display.HTML object>"
      ]
     },
     "metadata": {},
     "output_type": "display_data"
    },
    {
     "data": {
      "text/html": [
       "<img src =\"/notebooks/ML3option_2/img_small/195_small.jpg\" alt =\"ss\" width =\"50\" height=\"70\" display=\"inline;\">"
      ],
      "text/plain": [
       "<IPython.core.display.HTML object>"
      ]
     },
     "metadata": {},
     "output_type": "display_data"
    },
    {
     "data": {
      "text/html": [
       "<img src =\"/notebooks/ML3option_2/img_small/223_small.jpg\" alt =\"ss\" width =\"50\" height=\"70\" display=\"inline;\">"
      ],
      "text/plain": [
       "<IPython.core.display.HTML object>"
      ]
     },
     "metadata": {},
     "output_type": "display_data"
    },
    {
     "data": {
      "text/html": [
       "<img src =\"/notebooks/ML3option_2/img_small/227_small.jpg\" alt =\"ss\" width =\"50\" height=\"70\" display=\"inline;\">"
      ],
      "text/plain": [
       "<IPython.core.display.HTML object>"
      ]
     },
     "metadata": {},
     "output_type": "display_data"
    },
    {
     "data": {
      "text/html": [
       "<img src =\"/notebooks/ML3option_2/img_small/246_small.jpg\" alt =\"ss\" width =\"50\" height=\"70\" display=\"inline;\">"
      ],
      "text/plain": [
       "<IPython.core.display.HTML object>"
      ]
     },
     "metadata": {},
     "output_type": "display_data"
    },
    {
     "data": {
      "text/html": [
       "<img src =\"/notebooks/ML3option_2/img_small/259_small.jpg\" alt =\"ss\" width =\"50\" height=\"70\" display=\"inline;\">"
      ],
      "text/plain": [
       "<IPython.core.display.HTML object>"
      ]
     },
     "metadata": {},
     "output_type": "display_data"
    },
    {
     "data": {
      "text/html": [
       "<img src =\"/notebooks/ML3option_2/img_small/334_small.jpg\" alt =\"ss\" width =\"50\" height=\"70\" display=\"inline;\">"
      ],
      "text/plain": [
       "<IPython.core.display.HTML object>"
      ]
     },
     "metadata": {},
     "output_type": "display_data"
    },
    {
     "data": {
      "text/html": [
       "<img src =\"/notebooks/ML3option_2/img_small/351_small.jpg\" alt =\"ss\" width =\"50\" height=\"70\" display=\"inline;\">"
      ],
      "text/plain": [
       "<IPython.core.display.HTML object>"
      ]
     },
     "metadata": {},
     "output_type": "display_data"
    },
    {
     "data": {
      "text/html": [
       "<img src =\"/notebooks/ML3option_2/img_small/352_small.jpg\" alt =\"ss\" width =\"50\" height=\"70\" display=\"inline;\">"
      ],
      "text/plain": [
       "<IPython.core.display.HTML object>"
      ]
     },
     "metadata": {},
     "output_type": "display_data"
    },
    {
     "data": {
      "text/html": [
       "<img src =\"/notebooks/ML3option_2/img_small/359_small.jpg\" alt =\"ss\" width =\"50\" height=\"70\" display=\"inline;\">"
      ],
      "text/plain": [
       "<IPython.core.display.HTML object>"
      ]
     },
     "metadata": {},
     "output_type": "display_data"
    },
    {
     "data": {
      "text/html": [
       "<img src =\"/notebooks/ML3option_2/img_small/362_small.jpg\" alt =\"ss\" width =\"50\" height=\"70\" display=\"inline;\">"
      ],
      "text/plain": [
       "<IPython.core.display.HTML object>"
      ]
     },
     "metadata": {},
     "output_type": "display_data"
    },
    {
     "data": {
      "text/html": [
       "<img src =\"/notebooks/ML3option_2/img_small/364_small.jpg\" alt =\"ss\" width =\"50\" height=\"70\" display=\"inline;\">"
      ],
      "text/plain": [
       "<IPython.core.display.HTML object>"
      ]
     },
     "metadata": {},
     "output_type": "display_data"
    },
    {
     "data": {
      "text/html": [
       "<img src =\"/notebooks/ML3option_2/img_small/390_small.jpg\" alt =\"ss\" width =\"50\" height=\"70\" display=\"inline;\">"
      ],
      "text/plain": [
       "<IPython.core.display.HTML object>"
      ]
     },
     "metadata": {},
     "output_type": "display_data"
    },
    {
     "data": {
      "text/html": [
       "<img src =\"/notebooks/ML3option_2/img_small/394_small.jpg\" alt =\"ss\" width =\"50\" height=\"70\" display=\"inline;\">"
      ],
      "text/plain": [
       "<IPython.core.display.HTML object>"
      ]
     },
     "metadata": {},
     "output_type": "display_data"
    },
    {
     "data": {
      "text/html": [
       "<img src =\"/notebooks/ML3option_2/img_small/399_small.jpg\" alt =\"ss\" width =\"50\" height=\"70\" display=\"inline;\">"
      ],
      "text/plain": [
       "<IPython.core.display.HTML object>"
      ]
     },
     "metadata": {},
     "output_type": "display_data"
    },
    {
     "name": "stdout",
     "output_type": "stream",
     "text": [
      " \n",
      "* * * * * * * * * * * * * * * * * * * * * * * * * * * * * * \n",
      "Images in cluster: 3\n",
      "* * * * * * * * * * * * * * * * * * * * * * * * * * * * * * \n"
     ]
    },
    {
     "data": {
      "text/html": [
       "<img src =\"/notebooks/ML3option_2/img_small/10_small.jpg\" alt =\"ss\" width =\"50\" height=\"70\" display=\"inline;\">"
      ],
      "text/plain": [
       "<IPython.core.display.HTML object>"
      ]
     },
     "metadata": {},
     "output_type": "display_data"
    },
    {
     "data": {
      "text/html": [
       "<img src =\"/notebooks/ML3option_2/img_small/18_small.jpg\" alt =\"ss\" width =\"50\" height=\"70\" display=\"inline;\">"
      ],
      "text/plain": [
       "<IPython.core.display.HTML object>"
      ]
     },
     "metadata": {},
     "output_type": "display_data"
    },
    {
     "data": {
      "text/html": [
       "<img src =\"/notebooks/ML3option_2/img_small/21_small.jpg\" alt =\"ss\" width =\"50\" height=\"70\" display=\"inline;\">"
      ],
      "text/plain": [
       "<IPython.core.display.HTML object>"
      ]
     },
     "metadata": {},
     "output_type": "display_data"
    },
    {
     "data": {
      "text/html": [
       "<img src =\"/notebooks/ML3option_2/img_small/27_small.jpg\" alt =\"ss\" width =\"50\" height=\"70\" display=\"inline;\">"
      ],
      "text/plain": [
       "<IPython.core.display.HTML object>"
      ]
     },
     "metadata": {},
     "output_type": "display_data"
    },
    {
     "data": {
      "text/html": [
       "<img src =\"/notebooks/ML3option_2/img_small/34_small.jpg\" alt =\"ss\" width =\"50\" height=\"70\" display=\"inline;\">"
      ],
      "text/plain": [
       "<IPython.core.display.HTML object>"
      ]
     },
     "metadata": {},
     "output_type": "display_data"
    },
    {
     "data": {
      "text/html": [
       "<img src =\"/notebooks/ML3option_2/img_small/38_small.jpg\" alt =\"ss\" width =\"50\" height=\"70\" display=\"inline;\">"
      ],
      "text/plain": [
       "<IPython.core.display.HTML object>"
      ]
     },
     "metadata": {},
     "output_type": "display_data"
    },
    {
     "data": {
      "text/html": [
       "<img src =\"/notebooks/ML3option_2/img_small/39_small.jpg\" alt =\"ss\" width =\"50\" height=\"70\" display=\"inline;\">"
      ],
      "text/plain": [
       "<IPython.core.display.HTML object>"
      ]
     },
     "metadata": {},
     "output_type": "display_data"
    },
    {
     "data": {
      "text/html": [
       "<img src =\"/notebooks/ML3option_2/img_small/47_small.jpg\" alt =\"ss\" width =\"50\" height=\"70\" display=\"inline;\">"
      ],
      "text/plain": [
       "<IPython.core.display.HTML object>"
      ]
     },
     "metadata": {},
     "output_type": "display_data"
    },
    {
     "data": {
      "text/html": [
       "<img src =\"/notebooks/ML3option_2/img_small/54_small.jpg\" alt =\"ss\" width =\"50\" height=\"70\" display=\"inline;\">"
      ],
      "text/plain": [
       "<IPython.core.display.HTML object>"
      ]
     },
     "metadata": {},
     "output_type": "display_data"
    },
    {
     "data": {
      "text/html": [
       "<img src =\"/notebooks/ML3option_2/img_small/61_small.jpg\" alt =\"ss\" width =\"50\" height=\"70\" display=\"inline;\">"
      ],
      "text/plain": [
       "<IPython.core.display.HTML object>"
      ]
     },
     "metadata": {},
     "output_type": "display_data"
    },
    {
     "data": {
      "text/html": [
       "<img src =\"/notebooks/ML3option_2/img_small/70_small.jpg\" alt =\"ss\" width =\"50\" height=\"70\" display=\"inline;\">"
      ],
      "text/plain": [
       "<IPython.core.display.HTML object>"
      ]
     },
     "metadata": {},
     "output_type": "display_data"
    },
    {
     "data": {
      "text/html": [
       "<img src =\"/notebooks/ML3option_2/img_small/77_small.jpg\" alt =\"ss\" width =\"50\" height=\"70\" display=\"inline;\">"
      ],
      "text/plain": [
       "<IPython.core.display.HTML object>"
      ]
     },
     "metadata": {},
     "output_type": "display_data"
    },
    {
     "data": {
      "text/html": [
       "<img src =\"/notebooks/ML3option_2/img_small/85_small.jpg\" alt =\"ss\" width =\"50\" height=\"70\" display=\"inline;\">"
      ],
      "text/plain": [
       "<IPython.core.display.HTML object>"
      ]
     },
     "metadata": {},
     "output_type": "display_data"
    },
    {
     "data": {
      "text/html": [
       "<img src =\"/notebooks/ML3option_2/img_small/86_small.jpg\" alt =\"ss\" width =\"50\" height=\"70\" display=\"inline;\">"
      ],
      "text/plain": [
       "<IPython.core.display.HTML object>"
      ]
     },
     "metadata": {},
     "output_type": "display_data"
    },
    {
     "data": {
      "text/html": [
       "<img src =\"/notebooks/ML3option_2/img_small/105_small.jpg\" alt =\"ss\" width =\"50\" height=\"70\" display=\"inline;\">"
      ],
      "text/plain": [
       "<IPython.core.display.HTML object>"
      ]
     },
     "metadata": {},
     "output_type": "display_data"
    },
    {
     "data": {
      "text/html": [
       "<img src =\"/notebooks/ML3option_2/img_small/107_small.jpg\" alt =\"ss\" width =\"50\" height=\"70\" display=\"inline;\">"
      ],
      "text/plain": [
       "<IPython.core.display.HTML object>"
      ]
     },
     "metadata": {},
     "output_type": "display_data"
    },
    {
     "data": {
      "text/html": [
       "<img src =\"/notebooks/ML3option_2/img_small/109_small.jpg\" alt =\"ss\" width =\"50\" height=\"70\" display=\"inline;\">"
      ],
      "text/plain": [
       "<IPython.core.display.HTML object>"
      ]
     },
     "metadata": {},
     "output_type": "display_data"
    },
    {
     "data": {
      "text/html": [
       "<img src =\"/notebooks/ML3option_2/img_small/117_small.jpg\" alt =\"ss\" width =\"50\" height=\"70\" display=\"inline;\">"
      ],
      "text/plain": [
       "<IPython.core.display.HTML object>"
      ]
     },
     "metadata": {},
     "output_type": "display_data"
    },
    {
     "data": {
      "text/html": [
       "<img src =\"/notebooks/ML3option_2/img_small/119_small.jpg\" alt =\"ss\" width =\"50\" height=\"70\" display=\"inline;\">"
      ],
      "text/plain": [
       "<IPython.core.display.HTML object>"
      ]
     },
     "metadata": {},
     "output_type": "display_data"
    },
    {
     "data": {
      "text/html": [
       "<img src =\"/notebooks/ML3option_2/img_small/121_small.jpg\" alt =\"ss\" width =\"50\" height=\"70\" display=\"inline;\">"
      ],
      "text/plain": [
       "<IPython.core.display.HTML object>"
      ]
     },
     "metadata": {},
     "output_type": "display_data"
    },
    {
     "data": {
      "text/html": [
       "<img src =\"/notebooks/ML3option_2/img_small/130_small.jpg\" alt =\"ss\" width =\"50\" height=\"70\" display=\"inline;\">"
      ],
      "text/plain": [
       "<IPython.core.display.HTML object>"
      ]
     },
     "metadata": {},
     "output_type": "display_data"
    },
    {
     "data": {
      "text/html": [
       "<img src =\"/notebooks/ML3option_2/img_small/131_small.jpg\" alt =\"ss\" width =\"50\" height=\"70\" display=\"inline;\">"
      ],
      "text/plain": [
       "<IPython.core.display.HTML object>"
      ]
     },
     "metadata": {},
     "output_type": "display_data"
    },
    {
     "data": {
      "text/html": [
       "<img src =\"/notebooks/ML3option_2/img_small/133_small.jpg\" alt =\"ss\" width =\"50\" height=\"70\" display=\"inline;\">"
      ],
      "text/plain": [
       "<IPython.core.display.HTML object>"
      ]
     },
     "metadata": {},
     "output_type": "display_data"
    },
    {
     "data": {
      "text/html": [
       "<img src =\"/notebooks/ML3option_2/img_small/135_small.jpg\" alt =\"ss\" width =\"50\" height=\"70\" display=\"inline;\">"
      ],
      "text/plain": [
       "<IPython.core.display.HTML object>"
      ]
     },
     "metadata": {},
     "output_type": "display_data"
    },
    {
     "data": {
      "text/html": [
       "<img src =\"/notebooks/ML3option_2/img_small/145_small.jpg\" alt =\"ss\" width =\"50\" height=\"70\" display=\"inline;\">"
      ],
      "text/plain": [
       "<IPython.core.display.HTML object>"
      ]
     },
     "metadata": {},
     "output_type": "display_data"
    },
    {
     "data": {
      "text/html": [
       "<img src =\"/notebooks/ML3option_2/img_small/147_small.jpg\" alt =\"ss\" width =\"50\" height=\"70\" display=\"inline;\">"
      ],
      "text/plain": [
       "<IPython.core.display.HTML object>"
      ]
     },
     "metadata": {},
     "output_type": "display_data"
    },
    {
     "data": {
      "text/html": [
       "<img src =\"/notebooks/ML3option_2/img_small/159_small.jpg\" alt =\"ss\" width =\"50\" height=\"70\" display=\"inline;\">"
      ],
      "text/plain": [
       "<IPython.core.display.HTML object>"
      ]
     },
     "metadata": {},
     "output_type": "display_data"
    },
    {
     "data": {
      "text/html": [
       "<img src =\"/notebooks/ML3option_2/img_small/161_small.jpg\" alt =\"ss\" width =\"50\" height=\"70\" display=\"inline;\">"
      ],
      "text/plain": [
       "<IPython.core.display.HTML object>"
      ]
     },
     "metadata": {},
     "output_type": "display_data"
    },
    {
     "data": {
      "text/html": [
       "<img src =\"/notebooks/ML3option_2/img_small/167_small.jpg\" alt =\"ss\" width =\"50\" height=\"70\" display=\"inline;\">"
      ],
      "text/plain": [
       "<IPython.core.display.HTML object>"
      ]
     },
     "metadata": {},
     "output_type": "display_data"
    },
    {
     "data": {
      "text/html": [
       "<img src =\"/notebooks/ML3option_2/img_small/177_small.jpg\" alt =\"ss\" width =\"50\" height=\"70\" display=\"inline;\">"
      ],
      "text/plain": [
       "<IPython.core.display.HTML object>"
      ]
     },
     "metadata": {},
     "output_type": "display_data"
    },
    {
     "data": {
      "text/html": [
       "<img src =\"/notebooks/ML3option_2/img_small/185_small.jpg\" alt =\"ss\" width =\"50\" height=\"70\" display=\"inline;\">"
      ],
      "text/plain": [
       "<IPython.core.display.HTML object>"
      ]
     },
     "metadata": {},
     "output_type": "display_data"
    },
    {
     "data": {
      "text/html": [
       "<img src =\"/notebooks/ML3option_2/img_small/186_small.jpg\" alt =\"ss\" width =\"50\" height=\"70\" display=\"inline;\">"
      ],
      "text/plain": [
       "<IPython.core.display.HTML object>"
      ]
     },
     "metadata": {},
     "output_type": "display_data"
    },
    {
     "data": {
      "text/html": [
       "<img src =\"/notebooks/ML3option_2/img_small/189_small.jpg\" alt =\"ss\" width =\"50\" height=\"70\" display=\"inline;\">"
      ],
      "text/plain": [
       "<IPython.core.display.HTML object>"
      ]
     },
     "metadata": {},
     "output_type": "display_data"
    },
    {
     "data": {
      "text/html": [
       "<img src =\"/notebooks/ML3option_2/img_small/205_small.jpg\" alt =\"ss\" width =\"50\" height=\"70\" display=\"inline;\">"
      ],
      "text/plain": [
       "<IPython.core.display.HTML object>"
      ]
     },
     "metadata": {},
     "output_type": "display_data"
    },
    {
     "data": {
      "text/html": [
       "<img src =\"/notebooks/ML3option_2/img_small/211_small.jpg\" alt =\"ss\" width =\"50\" height=\"70\" display=\"inline;\">"
      ],
      "text/plain": [
       "<IPython.core.display.HTML object>"
      ]
     },
     "metadata": {},
     "output_type": "display_data"
    },
    {
     "data": {
      "text/html": [
       "<img src =\"/notebooks/ML3option_2/img_small/217_small.jpg\" alt =\"ss\" width =\"50\" height=\"70\" display=\"inline;\">"
      ],
      "text/plain": [
       "<IPython.core.display.HTML object>"
      ]
     },
     "metadata": {},
     "output_type": "display_data"
    },
    {
     "data": {
      "text/html": [
       "<img src =\"/notebooks/ML3option_2/img_small/219_small.jpg\" alt =\"ss\" width =\"50\" height=\"70\" display=\"inline;\">"
      ],
      "text/plain": [
       "<IPython.core.display.HTML object>"
      ]
     },
     "metadata": {},
     "output_type": "display_data"
    },
    {
     "data": {
      "text/html": [
       "<img src =\"/notebooks/ML3option_2/img_small/221_small.jpg\" alt =\"ss\" width =\"50\" height=\"70\" display=\"inline;\">"
      ],
      "text/plain": [
       "<IPython.core.display.HTML object>"
      ]
     },
     "metadata": {},
     "output_type": "display_data"
    },
    {
     "data": {
      "text/html": [
       "<img src =\"/notebooks/ML3option_2/img_small/233_small.jpg\" alt =\"ss\" width =\"50\" height=\"70\" display=\"inline;\">"
      ],
      "text/plain": [
       "<IPython.core.display.HTML object>"
      ]
     },
     "metadata": {},
     "output_type": "display_data"
    },
    {
     "data": {
      "text/html": [
       "<img src =\"/notebooks/ML3option_2/img_small/246_small.jpg\" alt =\"ss\" width =\"50\" height=\"70\" display=\"inline;\">"
      ],
      "text/plain": [
       "<IPython.core.display.HTML object>"
      ]
     },
     "metadata": {},
     "output_type": "display_data"
    },
    {
     "data": {
      "text/html": [
       "<img src =\"/notebooks/ML3option_2/img_small/253_small.jpg\" alt =\"ss\" width =\"50\" height=\"70\" display=\"inline;\">"
      ],
      "text/plain": [
       "<IPython.core.display.HTML object>"
      ]
     },
     "metadata": {},
     "output_type": "display_data"
    },
    {
     "data": {
      "text/html": [
       "<img src =\"/notebooks/ML3option_2/img_small/269_small.jpg\" alt =\"ss\" width =\"50\" height=\"70\" display=\"inline;\">"
      ],
      "text/plain": [
       "<IPython.core.display.HTML object>"
      ]
     },
     "metadata": {},
     "output_type": "display_data"
    },
    {
     "data": {
      "text/html": [
       "<img src =\"/notebooks/ML3option_2/img_small/281_small.jpg\" alt =\"ss\" width =\"50\" height=\"70\" display=\"inline;\">"
      ],
      "text/plain": [
       "<IPython.core.display.HTML object>"
      ]
     },
     "metadata": {},
     "output_type": "display_data"
    },
    {
     "data": {
      "text/html": [
       "<img src =\"/notebooks/ML3option_2/img_small/283_small.jpg\" alt =\"ss\" width =\"50\" height=\"70\" display=\"inline;\">"
      ],
      "text/plain": [
       "<IPython.core.display.HTML object>"
      ]
     },
     "metadata": {},
     "output_type": "display_data"
    },
    {
     "data": {
      "text/html": [
       "<img src =\"/notebooks/ML3option_2/img_small/297_small.jpg\" alt =\"ss\" width =\"50\" height=\"70\" display=\"inline;\">"
      ],
      "text/plain": [
       "<IPython.core.display.HTML object>"
      ]
     },
     "metadata": {},
     "output_type": "display_data"
    },
    {
     "data": {
      "text/html": [
       "<img src =\"/notebooks/ML3option_2/img_small/315_small.jpg\" alt =\"ss\" width =\"50\" height=\"70\" display=\"inline;\">"
      ],
      "text/plain": [
       "<IPython.core.display.HTML object>"
      ]
     },
     "metadata": {},
     "output_type": "display_data"
    },
    {
     "data": {
      "text/html": [
       "<img src =\"/notebooks/ML3option_2/img_small/323_small.jpg\" alt =\"ss\" width =\"50\" height=\"70\" display=\"inline;\">"
      ],
      "text/plain": [
       "<IPython.core.display.HTML object>"
      ]
     },
     "metadata": {},
     "output_type": "display_data"
    },
    {
     "data": {
      "text/html": [
       "<img src =\"/notebooks/ML3option_2/img_small/327_small.jpg\" alt =\"ss\" width =\"50\" height=\"70\" display=\"inline;\">"
      ],
      "text/plain": [
       "<IPython.core.display.HTML object>"
      ]
     },
     "metadata": {},
     "output_type": "display_data"
    },
    {
     "data": {
      "text/html": [
       "<img src =\"/notebooks/ML3option_2/img_small/329_small.jpg\" alt =\"ss\" width =\"50\" height=\"70\" display=\"inline;\">"
      ],
      "text/plain": [
       "<IPython.core.display.HTML object>"
      ]
     },
     "metadata": {},
     "output_type": "display_data"
    },
    {
     "data": {
      "text/html": [
       "<img src =\"/notebooks/ML3option_2/img_small/334_small.jpg\" alt =\"ss\" width =\"50\" height=\"70\" display=\"inline;\">"
      ],
      "text/plain": [
       "<IPython.core.display.HTML object>"
      ]
     },
     "metadata": {},
     "output_type": "display_data"
    },
    {
     "data": {
      "text/html": [
       "<img src =\"/notebooks/ML3option_2/img_small/352_small.jpg\" alt =\"ss\" width =\"50\" height=\"70\" display=\"inline;\">"
      ],
      "text/plain": [
       "<IPython.core.display.HTML object>"
      ]
     },
     "metadata": {},
     "output_type": "display_data"
    },
    {
     "data": {
      "text/html": [
       "<img src =\"/notebooks/ML3option_2/img_small/353_small.jpg\" alt =\"ss\" width =\"50\" height=\"70\" display=\"inline;\">"
      ],
      "text/plain": [
       "<IPython.core.display.HTML object>"
      ]
     },
     "metadata": {},
     "output_type": "display_data"
    },
    {
     "data": {
      "text/html": [
       "<img src =\"/notebooks/ML3option_2/img_small/362_small.jpg\" alt =\"ss\" width =\"50\" height=\"70\" display=\"inline;\">"
      ],
      "text/plain": [
       "<IPython.core.display.HTML object>"
      ]
     },
     "metadata": {},
     "output_type": "display_data"
    },
    {
     "data": {
      "text/html": [
       "<img src =\"/notebooks/ML3option_2/img_small/364_small.jpg\" alt =\"ss\" width =\"50\" height=\"70\" display=\"inline;\">"
      ],
      "text/plain": [
       "<IPython.core.display.HTML object>"
      ]
     },
     "metadata": {},
     "output_type": "display_data"
    },
    {
     "data": {
      "text/html": [
       "<img src =\"/notebooks/ML3option_2/img_small/365_small.jpg\" alt =\"ss\" width =\"50\" height=\"70\" display=\"inline;\">"
      ],
      "text/plain": [
       "<IPython.core.display.HTML object>"
      ]
     },
     "metadata": {},
     "output_type": "display_data"
    },
    {
     "data": {
      "text/html": [
       "<img src =\"/notebooks/ML3option_2/img_small/377_small.jpg\" alt =\"ss\" width =\"50\" height=\"70\" display=\"inline;\">"
      ],
      "text/plain": [
       "<IPython.core.display.HTML object>"
      ]
     },
     "metadata": {},
     "output_type": "display_data"
    },
    {
     "data": {
      "text/html": [
       "<img src =\"/notebooks/ML3option_2/img_small/387_small.jpg\" alt =\"ss\" width =\"50\" height=\"70\" display=\"inline;\">"
      ],
      "text/plain": [
       "<IPython.core.display.HTML object>"
      ]
     },
     "metadata": {},
     "output_type": "display_data"
    },
    {
     "data": {
      "text/html": [
       "<img src =\"/notebooks/ML3option_2/img_small/390_small.jpg\" alt =\"ss\" width =\"50\" height=\"70\" display=\"inline;\">"
      ],
      "text/plain": [
       "<IPython.core.display.HTML object>"
      ]
     },
     "metadata": {},
     "output_type": "display_data"
    },
    {
     "data": {
      "text/html": [
       "<img src =\"/notebooks/ML3option_2/img_small/391_small.jpg\" alt =\"ss\" width =\"50\" height=\"70\" display=\"inline;\">"
      ],
      "text/plain": [
       "<IPython.core.display.HTML object>"
      ]
     },
     "metadata": {},
     "output_type": "display_data"
    },
    {
     "data": {
      "text/html": [
       "<img src =\"/notebooks/ML3option_2/img_small/394_small.jpg\" alt =\"ss\" width =\"50\" height=\"70\" display=\"inline;\">"
      ],
      "text/plain": [
       "<IPython.core.display.HTML object>"
      ]
     },
     "metadata": {},
     "output_type": "display_data"
    },
    {
     "name": "stdout",
     "output_type": "stream",
     "text": [
      " \n",
      "* * * * * * * * * * * * * * * * * * * * * * * * * * * * * * \n",
      "Images in cluster: 4\n",
      "* * * * * * * * * * * * * * * * * * * * * * * * * * * * * * \n"
     ]
    },
    {
     "data": {
      "text/html": [
       "<img src =\"/notebooks/ML3option_2/img_small/10_small.jpg\" alt =\"ss\" width =\"50\" height=\"70\" display=\"inline;\">"
      ],
      "text/plain": [
       "<IPython.core.display.HTML object>"
      ]
     },
     "metadata": {},
     "output_type": "display_data"
    },
    {
     "data": {
      "text/html": [
       "<img src =\"/notebooks/ML3option_2/img_small/12_small.jpg\" alt =\"ss\" width =\"50\" height=\"70\" display=\"inline;\">"
      ],
      "text/plain": [
       "<IPython.core.display.HTML object>"
      ]
     },
     "metadata": {},
     "output_type": "display_data"
    },
    {
     "data": {
      "text/html": [
       "<img src =\"/notebooks/ML3option_2/img_small/18_small.jpg\" alt =\"ss\" width =\"50\" height=\"70\" display=\"inline;\">"
      ],
      "text/plain": [
       "<IPython.core.display.HTML object>"
      ]
     },
     "metadata": {},
     "output_type": "display_data"
    },
    {
     "data": {
      "text/html": [
       "<img src =\"/notebooks/ML3option_2/img_small/22_small.jpg\" alt =\"ss\" width =\"50\" height=\"70\" display=\"inline;\">"
      ],
      "text/plain": [
       "<IPython.core.display.HTML object>"
      ]
     },
     "metadata": {},
     "output_type": "display_data"
    },
    {
     "data": {
      "text/html": [
       "<img src =\"/notebooks/ML3option_2/img_small/31_small.jpg\" alt =\"ss\" width =\"50\" height=\"70\" display=\"inline;\">"
      ],
      "text/plain": [
       "<IPython.core.display.HTML object>"
      ]
     },
     "metadata": {},
     "output_type": "display_data"
    },
    {
     "data": {
      "text/html": [
       "<img src =\"/notebooks/ML3option_2/img_small/34_small.jpg\" alt =\"ss\" width =\"50\" height=\"70\" display=\"inline;\">"
      ],
      "text/plain": [
       "<IPython.core.display.HTML object>"
      ]
     },
     "metadata": {},
     "output_type": "display_data"
    },
    {
     "data": {
      "text/html": [
       "<img src =\"/notebooks/ML3option_2/img_small/37_small.jpg\" alt =\"ss\" width =\"50\" height=\"70\" display=\"inline;\">"
      ],
      "text/plain": [
       "<IPython.core.display.HTML object>"
      ]
     },
     "metadata": {},
     "output_type": "display_data"
    },
    {
     "data": {
      "text/html": [
       "<img src =\"/notebooks/ML3option_2/img_small/48_small.jpg\" alt =\"ss\" width =\"50\" height=\"70\" display=\"inline;\">"
      ],
      "text/plain": [
       "<IPython.core.display.HTML object>"
      ]
     },
     "metadata": {},
     "output_type": "display_data"
    },
    {
     "data": {
      "text/html": [
       "<img src =\"/notebooks/ML3option_2/img_small/55_small.jpg\" alt =\"ss\" width =\"50\" height=\"70\" display=\"inline;\">"
      ],
      "text/plain": [
       "<IPython.core.display.HTML object>"
      ]
     },
     "metadata": {},
     "output_type": "display_data"
    },
    {
     "data": {
      "text/html": [
       "<img src =\"/notebooks/ML3option_2/img_small/57_small.jpg\" alt =\"ss\" width =\"50\" height=\"70\" display=\"inline;\">"
      ],
      "text/plain": [
       "<IPython.core.display.HTML object>"
      ]
     },
     "metadata": {},
     "output_type": "display_data"
    },
    {
     "data": {
      "text/html": [
       "<img src =\"/notebooks/ML3option_2/img_small/59_small.jpg\" alt =\"ss\" width =\"50\" height=\"70\" display=\"inline;\">"
      ],
      "text/plain": [
       "<IPython.core.display.HTML object>"
      ]
     },
     "metadata": {},
     "output_type": "display_data"
    },
    {
     "data": {
      "text/html": [
       "<img src =\"/notebooks/ML3option_2/img_small/99_small.jpg\" alt =\"ss\" width =\"50\" height=\"70\" display=\"inline;\">"
      ],
      "text/plain": [
       "<IPython.core.display.HTML object>"
      ]
     },
     "metadata": {},
     "output_type": "display_data"
    },
    {
     "data": {
      "text/html": [
       "<img src =\"/notebooks/ML3option_2/img_small/111_small.jpg\" alt =\"ss\" width =\"50\" height=\"70\" display=\"inline;\">"
      ],
      "text/plain": [
       "<IPython.core.display.HTML object>"
      ]
     },
     "metadata": {},
     "output_type": "display_data"
    },
    {
     "data": {
      "text/html": [
       "<img src =\"/notebooks/ML3option_2/img_small/130_small.jpg\" alt =\"ss\" width =\"50\" height=\"70\" display=\"inline;\">"
      ],
      "text/plain": [
       "<IPython.core.display.HTML object>"
      ]
     },
     "metadata": {},
     "output_type": "display_data"
    },
    {
     "data": {
      "text/html": [
       "<img src =\"/notebooks/ML3option_2/img_small/136_small.jpg\" alt =\"ss\" width =\"50\" height=\"70\" display=\"inline;\">"
      ],
      "text/plain": [
       "<IPython.core.display.HTML object>"
      ]
     },
     "metadata": {},
     "output_type": "display_data"
    },
    {
     "data": {
      "text/html": [
       "<img src =\"/notebooks/ML3option_2/img_small/137_small.jpg\" alt =\"ss\" width =\"50\" height=\"70\" display=\"inline;\">"
      ],
      "text/plain": [
       "<IPython.core.display.HTML object>"
      ]
     },
     "metadata": {},
     "output_type": "display_data"
    },
    {
     "data": {
      "text/html": [
       "<img src =\"/notebooks/ML3option_2/img_small/143_small.jpg\" alt =\"ss\" width =\"50\" height=\"70\" display=\"inline;\">"
      ],
      "text/plain": [
       "<IPython.core.display.HTML object>"
      ]
     },
     "metadata": {},
     "output_type": "display_data"
    },
    {
     "data": {
      "text/html": [
       "<img src =\"/notebooks/ML3option_2/img_small/148_small.jpg\" alt =\"ss\" width =\"50\" height=\"70\" display=\"inline;\">"
      ],
      "text/plain": [
       "<IPython.core.display.HTML object>"
      ]
     },
     "metadata": {},
     "output_type": "display_data"
    },
    {
     "data": {
      "text/html": [
       "<img src =\"/notebooks/ML3option_2/img_small/150_small.jpg\" alt =\"ss\" width =\"50\" height=\"70\" display=\"inline;\">"
      ],
      "text/plain": [
       "<IPython.core.display.HTML object>"
      ]
     },
     "metadata": {},
     "output_type": "display_data"
    },
    {
     "data": {
      "text/html": [
       "<img src =\"/notebooks/ML3option_2/img_small/156_small.jpg\" alt =\"ss\" width =\"50\" height=\"70\" display=\"inline;\">"
      ],
      "text/plain": [
       "<IPython.core.display.HTML object>"
      ]
     },
     "metadata": {},
     "output_type": "display_data"
    },
    {
     "data": {
      "text/html": [
       "<img src =\"/notebooks/ML3option_2/img_small/157_small.jpg\" alt =\"ss\" width =\"50\" height=\"70\" display=\"inline;\">"
      ],
      "text/plain": [
       "<IPython.core.display.HTML object>"
      ]
     },
     "metadata": {},
     "output_type": "display_data"
    },
    {
     "data": {
      "text/html": [
       "<img src =\"/notebooks/ML3option_2/img_small/158_small.jpg\" alt =\"ss\" width =\"50\" height=\"70\" display=\"inline;\">"
      ],
      "text/plain": [
       "<IPython.core.display.HTML object>"
      ]
     },
     "metadata": {},
     "output_type": "display_data"
    },
    {
     "data": {
      "text/html": [
       "<img src =\"/notebooks/ML3option_2/img_small/160_small.jpg\" alt =\"ss\" width =\"50\" height=\"70\" display=\"inline;\">"
      ],
      "text/plain": [
       "<IPython.core.display.HTML object>"
      ]
     },
     "metadata": {},
     "output_type": "display_data"
    },
    {
     "data": {
      "text/html": [
       "<img src =\"/notebooks/ML3option_2/img_small/164_small.jpg\" alt =\"ss\" width =\"50\" height=\"70\" display=\"inline;\">"
      ],
      "text/plain": [
       "<IPython.core.display.HTML object>"
      ]
     },
     "metadata": {},
     "output_type": "display_data"
    },
    {
     "data": {
      "text/html": [
       "<img src =\"/notebooks/ML3option_2/img_small/166_small.jpg\" alt =\"ss\" width =\"50\" height=\"70\" display=\"inline;\">"
      ],
      "text/plain": [
       "<IPython.core.display.HTML object>"
      ]
     },
     "metadata": {},
     "output_type": "display_data"
    },
    {
     "data": {
      "text/html": [
       "<img src =\"/notebooks/ML3option_2/img_small/175_small.jpg\" alt =\"ss\" width =\"50\" height=\"70\" display=\"inline;\">"
      ],
      "text/plain": [
       "<IPython.core.display.HTML object>"
      ]
     },
     "metadata": {},
     "output_type": "display_data"
    },
    {
     "data": {
      "text/html": [
       "<img src =\"/notebooks/ML3option_2/img_small/182_small.jpg\" alt =\"ss\" width =\"50\" height=\"70\" display=\"inline;\">"
      ],
      "text/plain": [
       "<IPython.core.display.HTML object>"
      ]
     },
     "metadata": {},
     "output_type": "display_data"
    },
    {
     "data": {
      "text/html": [
       "<img src =\"/notebooks/ML3option_2/img_small/186_small.jpg\" alt =\"ss\" width =\"50\" height=\"70\" display=\"inline;\">"
      ],
      "text/plain": [
       "<IPython.core.display.HTML object>"
      ]
     },
     "metadata": {},
     "output_type": "display_data"
    },
    {
     "data": {
      "text/html": [
       "<img src =\"/notebooks/ML3option_2/img_small/195_small.jpg\" alt =\"ss\" width =\"50\" height=\"70\" display=\"inline;\">"
      ],
      "text/plain": [
       "<IPython.core.display.HTML object>"
      ]
     },
     "metadata": {},
     "output_type": "display_data"
    },
    {
     "data": {
      "text/html": [
       "<img src =\"/notebooks/ML3option_2/img_small/199_small.jpg\" alt =\"ss\" width =\"50\" height=\"70\" display=\"inline;\">"
      ],
      "text/plain": [
       "<IPython.core.display.HTML object>"
      ]
     },
     "metadata": {},
     "output_type": "display_data"
    },
    {
     "data": {
      "text/html": [
       "<img src =\"/notebooks/ML3option_2/img_small/215_small.jpg\" alt =\"ss\" width =\"50\" height=\"70\" display=\"inline;\">"
      ],
      "text/plain": [
       "<IPython.core.display.HTML object>"
      ]
     },
     "metadata": {},
     "output_type": "display_data"
    },
    {
     "data": {
      "text/html": [
       "<img src =\"/notebooks/ML3option_2/img_small/227_small.jpg\" alt =\"ss\" width =\"50\" height=\"70\" display=\"inline;\">"
      ],
      "text/plain": [
       "<IPython.core.display.HTML object>"
      ]
     },
     "metadata": {},
     "output_type": "display_data"
    },
    {
     "data": {
      "text/html": [
       "<img src =\"/notebooks/ML3option_2/img_small/237_small.jpg\" alt =\"ss\" width =\"50\" height=\"70\" display=\"inline;\">"
      ],
      "text/plain": [
       "<IPython.core.display.HTML object>"
      ]
     },
     "metadata": {},
     "output_type": "display_data"
    },
    {
     "data": {
      "text/html": [
       "<img src =\"/notebooks/ML3option_2/img_small/249_small.jpg\" alt =\"ss\" width =\"50\" height=\"70\" display=\"inline;\">"
      ],
      "text/plain": [
       "<IPython.core.display.HTML object>"
      ]
     },
     "metadata": {},
     "output_type": "display_data"
    },
    {
     "data": {
      "text/html": [
       "<img src =\"/notebooks/ML3option_2/img_small/259_small.jpg\" alt =\"ss\" width =\"50\" height=\"70\" display=\"inline;\">"
      ],
      "text/plain": [
       "<IPython.core.display.HTML object>"
      ]
     },
     "metadata": {},
     "output_type": "display_data"
    },
    {
     "data": {
      "text/html": [
       "<img src =\"/notebooks/ML3option_2/img_small/262_small.jpg\" alt =\"ss\" width =\"50\" height=\"70\" display=\"inline;\">"
      ],
      "text/plain": [
       "<IPython.core.display.HTML object>"
      ]
     },
     "metadata": {},
     "output_type": "display_data"
    },
    {
     "data": {
      "text/html": [
       "<img src =\"/notebooks/ML3option_2/img_small/300_small.jpg\" alt =\"ss\" width =\"50\" height=\"70\" display=\"inline;\">"
      ],
      "text/plain": [
       "<IPython.core.display.HTML object>"
      ]
     },
     "metadata": {},
     "output_type": "display_data"
    },
    {
     "data": {
      "text/html": [
       "<img src =\"/notebooks/ML3option_2/img_small/308_small.jpg\" alt =\"ss\" width =\"50\" height=\"70\" display=\"inline;\">"
      ],
      "text/plain": [
       "<IPython.core.display.HTML object>"
      ]
     },
     "metadata": {},
     "output_type": "display_data"
    },
    {
     "data": {
      "text/html": [
       "<img src =\"/notebooks/ML3option_2/img_small/310_small.jpg\" alt =\"ss\" width =\"50\" height=\"70\" display=\"inline;\">"
      ],
      "text/plain": [
       "<IPython.core.display.HTML object>"
      ]
     },
     "metadata": {},
     "output_type": "display_data"
    },
    {
     "data": {
      "text/html": [
       "<img src =\"/notebooks/ML3option_2/img_small/313_small.jpg\" alt =\"ss\" width =\"50\" height=\"70\" display=\"inline;\">"
      ],
      "text/plain": [
       "<IPython.core.display.HTML object>"
      ]
     },
     "metadata": {},
     "output_type": "display_data"
    },
    {
     "data": {
      "text/html": [
       "<img src =\"/notebooks/ML3option_2/img_small/316_small.jpg\" alt =\"ss\" width =\"50\" height=\"70\" display=\"inline;\">"
      ],
      "text/plain": [
       "<IPython.core.display.HTML object>"
      ]
     },
     "metadata": {},
     "output_type": "display_data"
    },
    {
     "data": {
      "text/html": [
       "<img src =\"/notebooks/ML3option_2/img_small/321_small.jpg\" alt =\"ss\" width =\"50\" height=\"70\" display=\"inline;\">"
      ],
      "text/plain": [
       "<IPython.core.display.HTML object>"
      ]
     },
     "metadata": {},
     "output_type": "display_data"
    },
    {
     "data": {
      "text/html": [
       "<img src =\"/notebooks/ML3option_2/img_small/332_small.jpg\" alt =\"ss\" width =\"50\" height=\"70\" display=\"inline;\">"
      ],
      "text/plain": [
       "<IPython.core.display.HTML object>"
      ]
     },
     "metadata": {},
     "output_type": "display_data"
    },
    {
     "data": {
      "text/html": [
       "<img src =\"/notebooks/ML3option_2/img_small/335_small.jpg\" alt =\"ss\" width =\"50\" height=\"70\" display=\"inline;\">"
      ],
      "text/plain": [
       "<IPython.core.display.HTML object>"
      ]
     },
     "metadata": {},
     "output_type": "display_data"
    },
    {
     "data": {
      "text/html": [
       "<img src =\"/notebooks/ML3option_2/img_small/337_small.jpg\" alt =\"ss\" width =\"50\" height=\"70\" display=\"inline;\">"
      ],
      "text/plain": [
       "<IPython.core.display.HTML object>"
      ]
     },
     "metadata": {},
     "output_type": "display_data"
    },
    {
     "data": {
      "text/html": [
       "<img src =\"/notebooks/ML3option_2/img_small/349_small.jpg\" alt =\"ss\" width =\"50\" height=\"70\" display=\"inline;\">"
      ],
      "text/plain": [
       "<IPython.core.display.HTML object>"
      ]
     },
     "metadata": {},
     "output_type": "display_data"
    },
    {
     "data": {
      "text/html": [
       "<img src =\"/notebooks/ML3option_2/img_small/362_small.jpg\" alt =\"ss\" width =\"50\" height=\"70\" display=\"inline;\">"
      ],
      "text/plain": [
       "<IPython.core.display.HTML object>"
      ]
     },
     "metadata": {},
     "output_type": "display_data"
    },
    {
     "data": {
      "text/html": [
       "<img src =\"/notebooks/ML3option_2/img_small/372_small.jpg\" alt =\"ss\" width =\"50\" height=\"70\" display=\"inline;\">"
      ],
      "text/plain": [
       "<IPython.core.display.HTML object>"
      ]
     },
     "metadata": {},
     "output_type": "display_data"
    },
    {
     "data": {
      "text/html": [
       "<img src =\"/notebooks/ML3option_2/img_small/375_small.jpg\" alt =\"ss\" width =\"50\" height=\"70\" display=\"inline;\">"
      ],
      "text/plain": [
       "<IPython.core.display.HTML object>"
      ]
     },
     "metadata": {},
     "output_type": "display_data"
    },
    {
     "data": {
      "text/html": [
       "<img src =\"/notebooks/ML3option_2/img_small/380_small.jpg\" alt =\"ss\" width =\"50\" height=\"70\" display=\"inline;\">"
      ],
      "text/plain": [
       "<IPython.core.display.HTML object>"
      ]
     },
     "metadata": {},
     "output_type": "display_data"
    },
    {
     "data": {
      "text/html": [
       "<img src =\"/notebooks/ML3option_2/img_small/382_small.jpg\" alt =\"ss\" width =\"50\" height=\"70\" display=\"inline;\">"
      ],
      "text/plain": [
       "<IPython.core.display.HTML object>"
      ]
     },
     "metadata": {},
     "output_type": "display_data"
    },
    {
     "data": {
      "text/html": [
       "<img src =\"/notebooks/ML3option_2/img_small/384_small.jpg\" alt =\"ss\" width =\"50\" height=\"70\" display=\"inline;\">"
      ],
      "text/plain": [
       "<IPython.core.display.HTML object>"
      ]
     },
     "metadata": {},
     "output_type": "display_data"
    },
    {
     "data": {
      "text/html": [
       "<img src =\"/notebooks/ML3option_2/img_small/394_small.jpg\" alt =\"ss\" width =\"50\" height=\"70\" display=\"inline;\">"
      ],
      "text/plain": [
       "<IPython.core.display.HTML object>"
      ]
     },
     "metadata": {},
     "output_type": "display_data"
    },
    {
     "data": {
      "text/html": [
       "<img src =\"/notebooks/ML3option_2/img_small/401_small.jpg\" alt =\"ss\" width =\"50\" height=\"70\" display=\"inline;\">"
      ],
      "text/plain": [
       "<IPython.core.display.HTML object>"
      ]
     },
     "metadata": {},
     "output_type": "display_data"
    },
    {
     "name": "stdout",
     "output_type": "stream",
     "text": [
      " \n",
      "* * * * * * * * * * * * * * * * * * * * * * * * * * * * * * \n",
      "Images in cluster: 5\n",
      "* * * * * * * * * * * * * * * * * * * * * * * * * * * * * * \n"
     ]
    },
    {
     "data": {
      "text/html": [
       "<img src =\"/notebooks/ML3option_2/img_small/10_small.jpg\" alt =\"ss\" width =\"50\" height=\"70\" display=\"inline;\">"
      ],
      "text/plain": [
       "<IPython.core.display.HTML object>"
      ]
     },
     "metadata": {},
     "output_type": "display_data"
    },
    {
     "data": {
      "text/html": [
       "<img src =\"/notebooks/ML3option_2/img_small/12_small.jpg\" alt =\"ss\" width =\"50\" height=\"70\" display=\"inline;\">"
      ],
      "text/plain": [
       "<IPython.core.display.HTML object>"
      ]
     },
     "metadata": {},
     "output_type": "display_data"
    },
    {
     "data": {
      "text/html": [
       "<img src =\"/notebooks/ML3option_2/img_small/18_small.jpg\" alt =\"ss\" width =\"50\" height=\"70\" display=\"inline;\">"
      ],
      "text/plain": [
       "<IPython.core.display.HTML object>"
      ]
     },
     "metadata": {},
     "output_type": "display_data"
    },
    {
     "data": {
      "text/html": [
       "<img src =\"/notebooks/ML3option_2/img_small/22_small.jpg\" alt =\"ss\" width =\"50\" height=\"70\" display=\"inline;\">"
      ],
      "text/plain": [
       "<IPython.core.display.HTML object>"
      ]
     },
     "metadata": {},
     "output_type": "display_data"
    },
    {
     "data": {
      "text/html": [
       "<img src =\"/notebooks/ML3option_2/img_small/25_small.jpg\" alt =\"ss\" width =\"50\" height=\"70\" display=\"inline;\">"
      ],
      "text/plain": [
       "<IPython.core.display.HTML object>"
      ]
     },
     "metadata": {},
     "output_type": "display_data"
    },
    {
     "data": {
      "text/html": [
       "<img src =\"/notebooks/ML3option_2/img_small/27_small.jpg\" alt =\"ss\" width =\"50\" height=\"70\" display=\"inline;\">"
      ],
      "text/plain": [
       "<IPython.core.display.HTML object>"
      ]
     },
     "metadata": {},
     "output_type": "display_data"
    },
    {
     "data": {
      "text/html": [
       "<img src =\"/notebooks/ML3option_2/img_small/29_small.jpg\" alt =\"ss\" width =\"50\" height=\"70\" display=\"inline;\">"
      ],
      "text/plain": [
       "<IPython.core.display.HTML object>"
      ]
     },
     "metadata": {},
     "output_type": "display_data"
    },
    {
     "data": {
      "text/html": [
       "<img src =\"/notebooks/ML3option_2/img_small/34_small.jpg\" alt =\"ss\" width =\"50\" height=\"70\" display=\"inline;\">"
      ],
      "text/plain": [
       "<IPython.core.display.HTML object>"
      ]
     },
     "metadata": {},
     "output_type": "display_data"
    },
    {
     "data": {
      "text/html": [
       "<img src =\"/notebooks/ML3option_2/img_small/45_small.jpg\" alt =\"ss\" width =\"50\" height=\"70\" display=\"inline;\">"
      ],
      "text/plain": [
       "<IPython.core.display.HTML object>"
      ]
     },
     "metadata": {},
     "output_type": "display_data"
    },
    {
     "data": {
      "text/html": [
       "<img src =\"/notebooks/ML3option_2/img_small/48_small.jpg\" alt =\"ss\" width =\"50\" height=\"70\" display=\"inline;\">"
      ],
      "text/plain": [
       "<IPython.core.display.HTML object>"
      ]
     },
     "metadata": {},
     "output_type": "display_data"
    },
    {
     "data": {
      "text/html": [
       "<img src =\"/notebooks/ML3option_2/img_small/53_small.jpg\" alt =\"ss\" width =\"50\" height=\"70\" display=\"inline;\">"
      ],
      "text/plain": [
       "<IPython.core.display.HTML object>"
      ]
     },
     "metadata": {},
     "output_type": "display_data"
    },
    {
     "data": {
      "text/html": [
       "<img src =\"/notebooks/ML3option_2/img_small/107_small.jpg\" alt =\"ss\" width =\"50\" height=\"70\" display=\"inline;\">"
      ],
      "text/plain": [
       "<IPython.core.display.HTML object>"
      ]
     },
     "metadata": {},
     "output_type": "display_data"
    },
    {
     "data": {
      "text/html": [
       "<img src =\"/notebooks/ML3option_2/img_small/130_small.jpg\" alt =\"ss\" width =\"50\" height=\"70\" display=\"inline;\">"
      ],
      "text/plain": [
       "<IPython.core.display.HTML object>"
      ]
     },
     "metadata": {},
     "output_type": "display_data"
    },
    {
     "data": {
      "text/html": [
       "<img src =\"/notebooks/ML3option_2/img_small/131_small.jpg\" alt =\"ss\" width =\"50\" height=\"70\" display=\"inline;\">"
      ],
      "text/plain": [
       "<IPython.core.display.HTML object>"
      ]
     },
     "metadata": {},
     "output_type": "display_data"
    },
    {
     "data": {
      "text/html": [
       "<img src =\"/notebooks/ML3option_2/img_small/136_small.jpg\" alt =\"ss\" width =\"50\" height=\"70\" display=\"inline;\">"
      ],
      "text/plain": [
       "<IPython.core.display.HTML object>"
      ]
     },
     "metadata": {},
     "output_type": "display_data"
    },
    {
     "data": {
      "text/html": [
       "<img src =\"/notebooks/ML3option_2/img_small/147_small.jpg\" alt =\"ss\" width =\"50\" height=\"70\" display=\"inline;\">"
      ],
      "text/plain": [
       "<IPython.core.display.HTML object>"
      ]
     },
     "metadata": {},
     "output_type": "display_data"
    },
    {
     "data": {
      "text/html": [
       "<img src =\"/notebooks/ML3option_2/img_small/148_small.jpg\" alt =\"ss\" width =\"50\" height=\"70\" display=\"inline;\">"
      ],
      "text/plain": [
       "<IPython.core.display.HTML object>"
      ]
     },
     "metadata": {},
     "output_type": "display_data"
    },
    {
     "data": {
      "text/html": [
       "<img src =\"/notebooks/ML3option_2/img_small/149_small.jpg\" alt =\"ss\" width =\"50\" height=\"70\" display=\"inline;\">"
      ],
      "text/plain": [
       "<IPython.core.display.HTML object>"
      ]
     },
     "metadata": {},
     "output_type": "display_data"
    },
    {
     "data": {
      "text/html": [
       "<img src =\"/notebooks/ML3option_2/img_small/150_small.jpg\" alt =\"ss\" width =\"50\" height=\"70\" display=\"inline;\">"
      ],
      "text/plain": [
       "<IPython.core.display.HTML object>"
      ]
     },
     "metadata": {},
     "output_type": "display_data"
    },
    {
     "data": {
      "text/html": [
       "<img src =\"/notebooks/ML3option_2/img_small/156_small.jpg\" alt =\"ss\" width =\"50\" height=\"70\" display=\"inline;\">"
      ],
      "text/plain": [
       "<IPython.core.display.HTML object>"
      ]
     },
     "metadata": {},
     "output_type": "display_data"
    },
    {
     "data": {
      "text/html": [
       "<img src =\"/notebooks/ML3option_2/img_small/158_small.jpg\" alt =\"ss\" width =\"50\" height=\"70\" display=\"inline;\">"
      ],
      "text/plain": [
       "<IPython.core.display.HTML object>"
      ]
     },
     "metadata": {},
     "output_type": "display_data"
    },
    {
     "data": {
      "text/html": [
       "<img src =\"/notebooks/ML3option_2/img_small/160_small.jpg\" alt =\"ss\" width =\"50\" height=\"70\" display=\"inline;\">"
      ],
      "text/plain": [
       "<IPython.core.display.HTML object>"
      ]
     },
     "metadata": {},
     "output_type": "display_data"
    },
    {
     "data": {
      "text/html": [
       "<img src =\"/notebooks/ML3option_2/img_small/164_small.jpg\" alt =\"ss\" width =\"50\" height=\"70\" display=\"inline;\">"
      ],
      "text/plain": [
       "<IPython.core.display.HTML object>"
      ]
     },
     "metadata": {},
     "output_type": "display_data"
    },
    {
     "data": {
      "text/html": [
       "<img src =\"/notebooks/ML3option_2/img_small/166_small.jpg\" alt =\"ss\" width =\"50\" height=\"70\" display=\"inline;\">"
      ],
      "text/plain": [
       "<IPython.core.display.HTML object>"
      ]
     },
     "metadata": {},
     "output_type": "display_data"
    },
    {
     "data": {
      "text/html": [
       "<img src =\"/notebooks/ML3option_2/img_small/173_small.jpg\" alt =\"ss\" width =\"50\" height=\"70\" display=\"inline;\">"
      ],
      "text/plain": [
       "<IPython.core.display.HTML object>"
      ]
     },
     "metadata": {},
     "output_type": "display_data"
    },
    {
     "data": {
      "text/html": [
       "<img src =\"/notebooks/ML3option_2/img_small/182_small.jpg\" alt =\"ss\" width =\"50\" height=\"70\" display=\"inline;\">"
      ],
      "text/plain": [
       "<IPython.core.display.HTML object>"
      ]
     },
     "metadata": {},
     "output_type": "display_data"
    },
    {
     "data": {
      "text/html": [
       "<img src =\"/notebooks/ML3option_2/img_small/186_small.jpg\" alt =\"ss\" width =\"50\" height=\"70\" display=\"inline;\">"
      ],
      "text/plain": [
       "<IPython.core.display.HTML object>"
      ]
     },
     "metadata": {},
     "output_type": "display_data"
    },
    {
     "data": {
      "text/html": [
       "<img src =\"/notebooks/ML3option_2/img_small/211_small.jpg\" alt =\"ss\" width =\"50\" height=\"70\" display=\"inline;\">"
      ],
      "text/plain": [
       "<IPython.core.display.HTML object>"
      ]
     },
     "metadata": {},
     "output_type": "display_data"
    },
    {
     "data": {
      "text/html": [
       "<img src =\"/notebooks/ML3option_2/img_small/219_small.jpg\" alt =\"ss\" width =\"50\" height=\"70\" display=\"inline;\">"
      ],
      "text/plain": [
       "<IPython.core.display.HTML object>"
      ]
     },
     "metadata": {},
     "output_type": "display_data"
    },
    {
     "data": {
      "text/html": [
       "<img src =\"/notebooks/ML3option_2/img_small/262_small.jpg\" alt =\"ss\" width =\"50\" height=\"70\" display=\"inline;\">"
      ],
      "text/plain": [
       "<IPython.core.display.HTML object>"
      ]
     },
     "metadata": {},
     "output_type": "display_data"
    },
    {
     "data": {
      "text/html": [
       "<img src =\"/notebooks/ML3option_2/img_small/283_small.jpg\" alt =\"ss\" width =\"50\" height=\"70\" display=\"inline;\">"
      ],
      "text/plain": [
       "<IPython.core.display.HTML object>"
      ]
     },
     "metadata": {},
     "output_type": "display_data"
    },
    {
     "data": {
      "text/html": [
       "<img src =\"/notebooks/ML3option_2/img_small/300_small.jpg\" alt =\"ss\" width =\"50\" height=\"70\" display=\"inline;\">"
      ],
      "text/plain": [
       "<IPython.core.display.HTML object>"
      ]
     },
     "metadata": {},
     "output_type": "display_data"
    },
    {
     "data": {
      "text/html": [
       "<img src =\"/notebooks/ML3option_2/img_small/308_small.jpg\" alt =\"ss\" width =\"50\" height=\"70\" display=\"inline;\">"
      ],
      "text/plain": [
       "<IPython.core.display.HTML object>"
      ]
     },
     "metadata": {},
     "output_type": "display_data"
    },
    {
     "data": {
      "text/html": [
       "<img src =\"/notebooks/ML3option_2/img_small/310_small.jpg\" alt =\"ss\" width =\"50\" height=\"70\" display=\"inline;\">"
      ],
      "text/plain": [
       "<IPython.core.display.HTML object>"
      ]
     },
     "metadata": {},
     "output_type": "display_data"
    },
    {
     "data": {
      "text/html": [
       "<img src =\"/notebooks/ML3option_2/img_small/315_small.jpg\" alt =\"ss\" width =\"50\" height=\"70\" display=\"inline;\">"
      ],
      "text/plain": [
       "<IPython.core.display.HTML object>"
      ]
     },
     "metadata": {},
     "output_type": "display_data"
    },
    {
     "data": {
      "text/html": [
       "<img src =\"/notebooks/ML3option_2/img_small/316_small.jpg\" alt =\"ss\" width =\"50\" height=\"70\" display=\"inline;\">"
      ],
      "text/plain": [
       "<IPython.core.display.HTML object>"
      ]
     },
     "metadata": {},
     "output_type": "display_data"
    },
    {
     "data": {
      "text/html": [
       "<img src =\"/notebooks/ML3option_2/img_small/317_small.jpg\" alt =\"ss\" width =\"50\" height=\"70\" display=\"inline;\">"
      ],
      "text/plain": [
       "<IPython.core.display.HTML object>"
      ]
     },
     "metadata": {},
     "output_type": "display_data"
    },
    {
     "data": {
      "text/html": [
       "<img src =\"/notebooks/ML3option_2/img_small/323_small.jpg\" alt =\"ss\" width =\"50\" height=\"70\" display=\"inline;\">"
      ],
      "text/plain": [
       "<IPython.core.display.HTML object>"
      ]
     },
     "metadata": {},
     "output_type": "display_data"
    },
    {
     "data": {
      "text/html": [
       "<img src =\"/notebooks/ML3option_2/img_small/332_small.jpg\" alt =\"ss\" width =\"50\" height=\"70\" display=\"inline;\">"
      ],
      "text/plain": [
       "<IPython.core.display.HTML object>"
      ]
     },
     "metadata": {},
     "output_type": "display_data"
    },
    {
     "data": {
      "text/html": [
       "<img src =\"/notebooks/ML3option_2/img_small/362_small.jpg\" alt =\"ss\" width =\"50\" height=\"70\" display=\"inline;\">"
      ],
      "text/plain": [
       "<IPython.core.display.HTML object>"
      ]
     },
     "metadata": {},
     "output_type": "display_data"
    },
    {
     "data": {
      "text/html": [
       "<img src =\"/notebooks/ML3option_2/img_small/372_small.jpg\" alt =\"ss\" width =\"50\" height=\"70\" display=\"inline;\">"
      ],
      "text/plain": [
       "<IPython.core.display.HTML object>"
      ]
     },
     "metadata": {},
     "output_type": "display_data"
    },
    {
     "data": {
      "text/html": [
       "<img src =\"/notebooks/ML3option_2/img_small/380_small.jpg\" alt =\"ss\" width =\"50\" height=\"70\" display=\"inline;\">"
      ],
      "text/plain": [
       "<IPython.core.display.HTML object>"
      ]
     },
     "metadata": {},
     "output_type": "display_data"
    },
    {
     "data": {
      "text/html": [
       "<img src =\"/notebooks/ML3option_2/img_small/382_small.jpg\" alt =\"ss\" width =\"50\" height=\"70\" display=\"inline;\">"
      ],
      "text/plain": [
       "<IPython.core.display.HTML object>"
      ]
     },
     "metadata": {},
     "output_type": "display_data"
    },
    {
     "data": {
      "text/html": [
       "<img src =\"/notebooks/ML3option_2/img_small/384_small.jpg\" alt =\"ss\" width =\"50\" height=\"70\" display=\"inline;\">"
      ],
      "text/plain": [
       "<IPython.core.display.HTML object>"
      ]
     },
     "metadata": {},
     "output_type": "display_data"
    },
    {
     "data": {
      "text/html": [
       "<img src =\"/notebooks/ML3option_2/img_small/387_small.jpg\" alt =\"ss\" width =\"50\" height=\"70\" display=\"inline;\">"
      ],
      "text/plain": [
       "<IPython.core.display.HTML object>"
      ]
     },
     "metadata": {},
     "output_type": "display_data"
    },
    {
     "data": {
      "text/html": [
       "<img src =\"/notebooks/ML3option_2/img_small/394_small.jpg\" alt =\"ss\" width =\"50\" height=\"70\" display=\"inline;\">"
      ],
      "text/plain": [
       "<IPython.core.display.HTML object>"
      ]
     },
     "metadata": {},
     "output_type": "display_data"
    },
    {
     "name": "stdout",
     "output_type": "stream",
     "text": [
      " \n",
      "* * * * * * * * * * * * * * * * * * * * * * * * * * * * * * \n",
      "Images in cluster: 6\n",
      "* * * * * * * * * * * * * * * * * * * * * * * * * * * * * * \n"
     ]
    },
    {
     "data": {
      "text/html": [
       "<img src =\"/notebooks/ML3option_2/img_small/10_small.jpg\" alt =\"ss\" width =\"50\" height=\"70\" display=\"inline;\">"
      ],
      "text/plain": [
       "<IPython.core.display.HTML object>"
      ]
     },
     "metadata": {},
     "output_type": "display_data"
    },
    {
     "data": {
      "text/html": [
       "<img src =\"/notebooks/ML3option_2/img_small/18_small.jpg\" alt =\"ss\" width =\"50\" height=\"70\" display=\"inline;\">"
      ],
      "text/plain": [
       "<IPython.core.display.HTML object>"
      ]
     },
     "metadata": {},
     "output_type": "display_data"
    },
    {
     "data": {
      "text/html": [
       "<img src =\"/notebooks/ML3option_2/img_small/22_small.jpg\" alt =\"ss\" width =\"50\" height=\"70\" display=\"inline;\">"
      ],
      "text/plain": [
       "<IPython.core.display.HTML object>"
      ]
     },
     "metadata": {},
     "output_type": "display_data"
    },
    {
     "data": {
      "text/html": [
       "<img src =\"/notebooks/ML3option_2/img_small/31_small.jpg\" alt =\"ss\" width =\"50\" height=\"70\" display=\"inline;\">"
      ],
      "text/plain": [
       "<IPython.core.display.HTML object>"
      ]
     },
     "metadata": {},
     "output_type": "display_data"
    },
    {
     "data": {
      "text/html": [
       "<img src =\"/notebooks/ML3option_2/img_small/34_small.jpg\" alt =\"ss\" width =\"50\" height=\"70\" display=\"inline;\">"
      ],
      "text/plain": [
       "<IPython.core.display.HTML object>"
      ]
     },
     "metadata": {},
     "output_type": "display_data"
    },
    {
     "data": {
      "text/html": [
       "<img src =\"/notebooks/ML3option_2/img_small/55_small.jpg\" alt =\"ss\" width =\"50\" height=\"70\" display=\"inline;\">"
      ],
      "text/plain": [
       "<IPython.core.display.HTML object>"
      ]
     },
     "metadata": {},
     "output_type": "display_data"
    },
    {
     "data": {
      "text/html": [
       "<img src =\"/notebooks/ML3option_2/img_small/59_small.jpg\" alt =\"ss\" width =\"50\" height=\"70\" display=\"inline;\">"
      ],
      "text/plain": [
       "<IPython.core.display.HTML object>"
      ]
     },
     "metadata": {},
     "output_type": "display_data"
    },
    {
     "data": {
      "text/html": [
       "<img src =\"/notebooks/ML3option_2/img_small/99_small.jpg\" alt =\"ss\" width =\"50\" height=\"70\" display=\"inline;\">"
      ],
      "text/plain": [
       "<IPython.core.display.HTML object>"
      ]
     },
     "metadata": {},
     "output_type": "display_data"
    },
    {
     "data": {
      "text/html": [
       "<img src =\"/notebooks/ML3option_2/img_small/101_small.jpg\" alt =\"ss\" width =\"50\" height=\"70\" display=\"inline;\">"
      ],
      "text/plain": [
       "<IPython.core.display.HTML object>"
      ]
     },
     "metadata": {},
     "output_type": "display_data"
    },
    {
     "data": {
      "text/html": [
       "<img src =\"/notebooks/ML3option_2/img_small/111_small.jpg\" alt =\"ss\" width =\"50\" height=\"70\" display=\"inline;\">"
      ],
      "text/plain": [
       "<IPython.core.display.HTML object>"
      ]
     },
     "metadata": {},
     "output_type": "display_data"
    },
    {
     "data": {
      "text/html": [
       "<img src =\"/notebooks/ML3option_2/img_small/112_small.jpg\" alt =\"ss\" width =\"50\" height=\"70\" display=\"inline;\">"
      ],
      "text/plain": [
       "<IPython.core.display.HTML object>"
      ]
     },
     "metadata": {},
     "output_type": "display_data"
    },
    {
     "data": {
      "text/html": [
       "<img src =\"/notebooks/ML3option_2/img_small/130_small.jpg\" alt =\"ss\" width =\"50\" height=\"70\" display=\"inline;\">"
      ],
      "text/plain": [
       "<IPython.core.display.HTML object>"
      ]
     },
     "metadata": {},
     "output_type": "display_data"
    },
    {
     "data": {
      "text/html": [
       "<img src =\"/notebooks/ML3option_2/img_small/143_small.jpg\" alt =\"ss\" width =\"50\" height=\"70\" display=\"inline;\">"
      ],
      "text/plain": [
       "<IPython.core.display.HTML object>"
      ]
     },
     "metadata": {},
     "output_type": "display_data"
    },
    {
     "data": {
      "text/html": [
       "<img src =\"/notebooks/ML3option_2/img_small/150_small.jpg\" alt =\"ss\" width =\"50\" height=\"70\" display=\"inline;\">"
      ],
      "text/plain": [
       "<IPython.core.display.HTML object>"
      ]
     },
     "metadata": {},
     "output_type": "display_data"
    },
    {
     "data": {
      "text/html": [
       "<img src =\"/notebooks/ML3option_2/img_small/158_small.jpg\" alt =\"ss\" width =\"50\" height=\"70\" display=\"inline;\">"
      ],
      "text/plain": [
       "<IPython.core.display.HTML object>"
      ]
     },
     "metadata": {},
     "output_type": "display_data"
    },
    {
     "data": {
      "text/html": [
       "<img src =\"/notebooks/ML3option_2/img_small/166_small.jpg\" alt =\"ss\" width =\"50\" height=\"70\" display=\"inline;\">"
      ],
      "text/plain": [
       "<IPython.core.display.HTML object>"
      ]
     },
     "metadata": {},
     "output_type": "display_data"
    },
    {
     "data": {
      "text/html": [
       "<img src =\"/notebooks/ML3option_2/img_small/175_small.jpg\" alt =\"ss\" width =\"50\" height=\"70\" display=\"inline;\">"
      ],
      "text/plain": [
       "<IPython.core.display.HTML object>"
      ]
     },
     "metadata": {},
     "output_type": "display_data"
    },
    {
     "data": {
      "text/html": [
       "<img src =\"/notebooks/ML3option_2/img_small/182_small.jpg\" alt =\"ss\" width =\"50\" height=\"70\" display=\"inline;\">"
      ],
      "text/plain": [
       "<IPython.core.display.HTML object>"
      ]
     },
     "metadata": {},
     "output_type": "display_data"
    },
    {
     "data": {
      "text/html": [
       "<img src =\"/notebooks/ML3option_2/img_small/186_small.jpg\" alt =\"ss\" width =\"50\" height=\"70\" display=\"inline;\">"
      ],
      "text/plain": [
       "<IPython.core.display.HTML object>"
      ]
     },
     "metadata": {},
     "output_type": "display_data"
    },
    {
     "data": {
      "text/html": [
       "<img src =\"/notebooks/ML3option_2/img_small/195_small.jpg\" alt =\"ss\" width =\"50\" height=\"70\" display=\"inline;\">"
      ],
      "text/plain": [
       "<IPython.core.display.HTML object>"
      ]
     },
     "metadata": {},
     "output_type": "display_data"
    },
    {
     "data": {
      "text/html": [
       "<img src =\"/notebooks/ML3option_2/img_small/199_small.jpg\" alt =\"ss\" width =\"50\" height=\"70\" display=\"inline;\">"
      ],
      "text/plain": [
       "<IPython.core.display.HTML object>"
      ]
     },
     "metadata": {},
     "output_type": "display_data"
    },
    {
     "data": {
      "text/html": [
       "<img src =\"/notebooks/ML3option_2/img_small/215_small.jpg\" alt =\"ss\" width =\"50\" height=\"70\" display=\"inline;\">"
      ],
      "text/plain": [
       "<IPython.core.display.HTML object>"
      ]
     },
     "metadata": {},
     "output_type": "display_data"
    },
    {
     "data": {
      "text/html": [
       "<img src =\"/notebooks/ML3option_2/img_small/216_small.jpg\" alt =\"ss\" width =\"50\" height=\"70\" display=\"inline;\">"
      ],
      "text/plain": [
       "<IPython.core.display.HTML object>"
      ]
     },
     "metadata": {},
     "output_type": "display_data"
    },
    {
     "data": {
      "text/html": [
       "<img src =\"/notebooks/ML3option_2/img_small/227_small.jpg\" alt =\"ss\" width =\"50\" height=\"70\" display=\"inline;\">"
      ],
      "text/plain": [
       "<IPython.core.display.HTML object>"
      ]
     },
     "metadata": {},
     "output_type": "display_data"
    },
    {
     "data": {
      "text/html": [
       "<img src =\"/notebooks/ML3option_2/img_small/232_small.jpg\" alt =\"ss\" width =\"50\" height=\"70\" display=\"inline;\">"
      ],
      "text/plain": [
       "<IPython.core.display.HTML object>"
      ]
     },
     "metadata": {},
     "output_type": "display_data"
    },
    {
     "data": {
      "text/html": [
       "<img src =\"/notebooks/ML3option_2/img_small/259_small.jpg\" alt =\"ss\" width =\"50\" height=\"70\" display=\"inline;\">"
      ],
      "text/plain": [
       "<IPython.core.display.HTML object>"
      ]
     },
     "metadata": {},
     "output_type": "display_data"
    },
    {
     "data": {
      "text/html": [
       "<img src =\"/notebooks/ML3option_2/img_small/262_small.jpg\" alt =\"ss\" width =\"50\" height=\"70\" display=\"inline;\">"
      ],
      "text/plain": [
       "<IPython.core.display.HTML object>"
      ]
     },
     "metadata": {},
     "output_type": "display_data"
    },
    {
     "data": {
      "text/html": [
       "<img src =\"/notebooks/ML3option_2/img_small/305_small.jpg\" alt =\"ss\" width =\"50\" height=\"70\" display=\"inline;\">"
      ],
      "text/plain": [
       "<IPython.core.display.HTML object>"
      ]
     },
     "metadata": {},
     "output_type": "display_data"
    },
    {
     "data": {
      "text/html": [
       "<img src =\"/notebooks/ML3option_2/img_small/310_small.jpg\" alt =\"ss\" width =\"50\" height=\"70\" display=\"inline;\">"
      ],
      "text/plain": [
       "<IPython.core.display.HTML object>"
      ]
     },
     "metadata": {},
     "output_type": "display_data"
    },
    {
     "data": {
      "text/html": [
       "<img src =\"/notebooks/ML3option_2/img_small/335_small.jpg\" alt =\"ss\" width =\"50\" height=\"70\" display=\"inline;\">"
      ],
      "text/plain": [
       "<IPython.core.display.HTML object>"
      ]
     },
     "metadata": {},
     "output_type": "display_data"
    },
    {
     "data": {
      "text/html": [
       "<img src =\"/notebooks/ML3option_2/img_small/362_small.jpg\" alt =\"ss\" width =\"50\" height=\"70\" display=\"inline;\">"
      ],
      "text/plain": [
       "<IPython.core.display.HTML object>"
      ]
     },
     "metadata": {},
     "output_type": "display_data"
    },
    {
     "data": {
      "text/html": [
       "<img src =\"/notebooks/ML3option_2/img_small/364_small.jpg\" alt =\"ss\" width =\"50\" height=\"70\" display=\"inline;\">"
      ],
      "text/plain": [
       "<IPython.core.display.HTML object>"
      ]
     },
     "metadata": {},
     "output_type": "display_data"
    },
    {
     "data": {
      "text/html": [
       "<img src =\"/notebooks/ML3option_2/img_small/375_small.jpg\" alt =\"ss\" width =\"50\" height=\"70\" display=\"inline;\">"
      ],
      "text/plain": [
       "<IPython.core.display.HTML object>"
      ]
     },
     "metadata": {},
     "output_type": "display_data"
    },
    {
     "data": {
      "text/html": [
       "<img src =\"/notebooks/ML3option_2/img_small/382_small.jpg\" alt =\"ss\" width =\"50\" height=\"70\" display=\"inline;\">"
      ],
      "text/plain": [
       "<IPython.core.display.HTML object>"
      ]
     },
     "metadata": {},
     "output_type": "display_data"
    },
    {
     "data": {
      "text/html": [
       "<img src =\"/notebooks/ML3option_2/img_small/394_small.jpg\" alt =\"ss\" width =\"50\" height=\"70\" display=\"inline;\">"
      ],
      "text/plain": [
       "<IPython.core.display.HTML object>"
      ]
     },
     "metadata": {},
     "output_type": "display_data"
    },
    {
     "name": "stdout",
     "output_type": "stream",
     "text": [
      " \n",
      "* * * * * * * * * * * * * * * * * * * * * * * * * * * * * * \n",
      "Images in cluster: 7\n",
      "* * * * * * * * * * * * * * * * * * * * * * * * * * * * * * \n"
     ]
    },
    {
     "data": {
      "text/html": [
       "<img src =\"/notebooks/ML3option_2/img_small/9_small.jpg\" alt =\"ss\" width =\"50\" height=\"70\" display=\"inline;\">"
      ],
      "text/plain": [
       "<IPython.core.display.HTML object>"
      ]
     },
     "metadata": {},
     "output_type": "display_data"
    },
    {
     "data": {
      "text/html": [
       "<img src =\"/notebooks/ML3option_2/img_small/10_small.jpg\" alt =\"ss\" width =\"50\" height=\"70\" display=\"inline;\">"
      ],
      "text/plain": [
       "<IPython.core.display.HTML object>"
      ]
     },
     "metadata": {},
     "output_type": "display_data"
    },
    {
     "data": {
      "text/html": [
       "<img src =\"/notebooks/ML3option_2/img_small/18_small.jpg\" alt =\"ss\" width =\"50\" height=\"70\" display=\"inline;\">"
      ],
      "text/plain": [
       "<IPython.core.display.HTML object>"
      ]
     },
     "metadata": {},
     "output_type": "display_data"
    },
    {
     "data": {
      "text/html": [
       "<img src =\"/notebooks/ML3option_2/img_small/21_small.jpg\" alt =\"ss\" width =\"50\" height=\"70\" display=\"inline;\">"
      ],
      "text/plain": [
       "<IPython.core.display.HTML object>"
      ]
     },
     "metadata": {},
     "output_type": "display_data"
    },
    {
     "data": {
      "text/html": [
       "<img src =\"/notebooks/ML3option_2/img_small/22_small.jpg\" alt =\"ss\" width =\"50\" height=\"70\" display=\"inline;\">"
      ],
      "text/plain": [
       "<IPython.core.display.HTML object>"
      ]
     },
     "metadata": {},
     "output_type": "display_data"
    },
    {
     "data": {
      "text/html": [
       "<img src =\"/notebooks/ML3option_2/img_small/27_small.jpg\" alt =\"ss\" width =\"50\" height=\"70\" display=\"inline;\">"
      ],
      "text/plain": [
       "<IPython.core.display.HTML object>"
      ]
     },
     "metadata": {},
     "output_type": "display_data"
    },
    {
     "data": {
      "text/html": [
       "<img src =\"/notebooks/ML3option_2/img_small/34_small.jpg\" alt =\"ss\" width =\"50\" height=\"70\" display=\"inline;\">"
      ],
      "text/plain": [
       "<IPython.core.display.HTML object>"
      ]
     },
     "metadata": {},
     "output_type": "display_data"
    },
    {
     "data": {
      "text/html": [
       "<img src =\"/notebooks/ML3option_2/img_small/61_small.jpg\" alt =\"ss\" width =\"50\" height=\"70\" display=\"inline;\">"
      ],
      "text/plain": [
       "<IPython.core.display.HTML object>"
      ]
     },
     "metadata": {},
     "output_type": "display_data"
    },
    {
     "data": {
      "text/html": [
       "<img src =\"/notebooks/ML3option_2/img_small/77_small.jpg\" alt =\"ss\" width =\"50\" height=\"70\" display=\"inline;\">"
      ],
      "text/plain": [
       "<IPython.core.display.HTML object>"
      ]
     },
     "metadata": {},
     "output_type": "display_data"
    },
    {
     "data": {
      "text/html": [
       "<img src =\"/notebooks/ML3option_2/img_small/85_small.jpg\" alt =\"ss\" width =\"50\" height=\"70\" display=\"inline;\">"
      ],
      "text/plain": [
       "<IPython.core.display.HTML object>"
      ]
     },
     "metadata": {},
     "output_type": "display_data"
    },
    {
     "data": {
      "text/html": [
       "<img src =\"/notebooks/ML3option_2/img_small/107_small.jpg\" alt =\"ss\" width =\"50\" height=\"70\" display=\"inline;\">"
      ],
      "text/plain": [
       "<IPython.core.display.HTML object>"
      ]
     },
     "metadata": {},
     "output_type": "display_data"
    },
    {
     "data": {
      "text/html": [
       "<img src =\"/notebooks/ML3option_2/img_small/109_small.jpg\" alt =\"ss\" width =\"50\" height=\"70\" display=\"inline;\">"
      ],
      "text/plain": [
       "<IPython.core.display.HTML object>"
      ]
     },
     "metadata": {},
     "output_type": "display_data"
    },
    {
     "data": {
      "text/html": [
       "<img src =\"/notebooks/ML3option_2/img_small/112_small.jpg\" alt =\"ss\" width =\"50\" height=\"70\" display=\"inline;\">"
      ],
      "text/plain": [
       "<IPython.core.display.HTML object>"
      ]
     },
     "metadata": {},
     "output_type": "display_data"
    },
    {
     "data": {
      "text/html": [
       "<img src =\"/notebooks/ML3option_2/img_small/117_small.jpg\" alt =\"ss\" width =\"50\" height=\"70\" display=\"inline;\">"
      ],
      "text/plain": [
       "<IPython.core.display.HTML object>"
      ]
     },
     "metadata": {},
     "output_type": "display_data"
    },
    {
     "data": {
      "text/html": [
       "<img src =\"/notebooks/ML3option_2/img_small/130_small.jpg\" alt =\"ss\" width =\"50\" height=\"70\" display=\"inline;\">"
      ],
      "text/plain": [
       "<IPython.core.display.HTML object>"
      ]
     },
     "metadata": {},
     "output_type": "display_data"
    },
    {
     "data": {
      "text/html": [
       "<img src =\"/notebooks/ML3option_2/img_small/131_small.jpg\" alt =\"ss\" width =\"50\" height=\"70\" display=\"inline;\">"
      ],
      "text/plain": [
       "<IPython.core.display.HTML object>"
      ]
     },
     "metadata": {},
     "output_type": "display_data"
    },
    {
     "data": {
      "text/html": [
       "<img src =\"/notebooks/ML3option_2/img_small/133_small.jpg\" alt =\"ss\" width =\"50\" height=\"70\" display=\"inline;\">"
      ],
      "text/plain": [
       "<IPython.core.display.HTML object>"
      ]
     },
     "metadata": {},
     "output_type": "display_data"
    },
    {
     "data": {
      "text/html": [
       "<img src =\"/notebooks/ML3option_2/img_small/147_small.jpg\" alt =\"ss\" width =\"50\" height=\"70\" display=\"inline;\">"
      ],
      "text/plain": [
       "<IPython.core.display.HTML object>"
      ]
     },
     "metadata": {},
     "output_type": "display_data"
    },
    {
     "data": {
      "text/html": [
       "<img src =\"/notebooks/ML3option_2/img_small/150_small.jpg\" alt =\"ss\" width =\"50\" height=\"70\" display=\"inline;\">"
      ],
      "text/plain": [
       "<IPython.core.display.HTML object>"
      ]
     },
     "metadata": {},
     "output_type": "display_data"
    },
    {
     "data": {
      "text/html": [
       "<img src =\"/notebooks/ML3option_2/img_small/158_small.jpg\" alt =\"ss\" width =\"50\" height=\"70\" display=\"inline;\">"
      ],
      "text/plain": [
       "<IPython.core.display.HTML object>"
      ]
     },
     "metadata": {},
     "output_type": "display_data"
    },
    {
     "data": {
      "text/html": [
       "<img src =\"/notebooks/ML3option_2/img_small/166_small.jpg\" alt =\"ss\" width =\"50\" height=\"70\" display=\"inline;\">"
      ],
      "text/plain": [
       "<IPython.core.display.HTML object>"
      ]
     },
     "metadata": {},
     "output_type": "display_data"
    },
    {
     "data": {
      "text/html": [
       "<img src =\"/notebooks/ML3option_2/img_small/182_small.jpg\" alt =\"ss\" width =\"50\" height=\"70\" display=\"inline;\">"
      ],
      "text/plain": [
       "<IPython.core.display.HTML object>"
      ]
     },
     "metadata": {},
     "output_type": "display_data"
    },
    {
     "data": {
      "text/html": [
       "<img src =\"/notebooks/ML3option_2/img_small/186_small.jpg\" alt =\"ss\" width =\"50\" height=\"70\" display=\"inline;\">"
      ],
      "text/plain": [
       "<IPython.core.display.HTML object>"
      ]
     },
     "metadata": {},
     "output_type": "display_data"
    },
    {
     "data": {
      "text/html": [
       "<img src =\"/notebooks/ML3option_2/img_small/189_small.jpg\" alt =\"ss\" width =\"50\" height=\"70\" display=\"inline;\">"
      ],
      "text/plain": [
       "<IPython.core.display.HTML object>"
      ]
     },
     "metadata": {},
     "output_type": "display_data"
    },
    {
     "data": {
      "text/html": [
       "<img src =\"/notebooks/ML3option_2/img_small/205_small.jpg\" alt =\"ss\" width =\"50\" height=\"70\" display=\"inline;\">"
      ],
      "text/plain": [
       "<IPython.core.display.HTML object>"
      ]
     },
     "metadata": {},
     "output_type": "display_data"
    },
    {
     "data": {
      "text/html": [
       "<img src =\"/notebooks/ML3option_2/img_small/211_small.jpg\" alt =\"ss\" width =\"50\" height=\"70\" display=\"inline;\">"
      ],
      "text/plain": [
       "<IPython.core.display.HTML object>"
      ]
     },
     "metadata": {},
     "output_type": "display_data"
    },
    {
     "data": {
      "text/html": [
       "<img src =\"/notebooks/ML3option_2/img_small/216_small.jpg\" alt =\"ss\" width =\"50\" height=\"70\" display=\"inline;\">"
      ],
      "text/plain": [
       "<IPython.core.display.HTML object>"
      ]
     },
     "metadata": {},
     "output_type": "display_data"
    },
    {
     "data": {
      "text/html": [
       "<img src =\"/notebooks/ML3option_2/img_small/219_small.jpg\" alt =\"ss\" width =\"50\" height=\"70\" display=\"inline;\">"
      ],
      "text/plain": [
       "<IPython.core.display.HTML object>"
      ]
     },
     "metadata": {},
     "output_type": "display_data"
    },
    {
     "data": {
      "text/html": [
       "<img src =\"/notebooks/ML3option_2/img_small/221_small.jpg\" alt =\"ss\" width =\"50\" height=\"70\" display=\"inline;\">"
      ],
      "text/plain": [
       "<IPython.core.display.HTML object>"
      ]
     },
     "metadata": {},
     "output_type": "display_data"
    },
    {
     "data": {
      "text/html": [
       "<img src =\"/notebooks/ML3option_2/img_small/232_small.jpg\" alt =\"ss\" width =\"50\" height=\"70\" display=\"inline;\">"
      ],
      "text/plain": [
       "<IPython.core.display.HTML object>"
      ]
     },
     "metadata": {},
     "output_type": "display_data"
    },
    {
     "data": {
      "text/html": [
       "<img src =\"/notebooks/ML3option_2/img_small/253_small.jpg\" alt =\"ss\" width =\"50\" height=\"70\" display=\"inline;\">"
      ],
      "text/plain": [
       "<IPython.core.display.HTML object>"
      ]
     },
     "metadata": {},
     "output_type": "display_data"
    },
    {
     "data": {
      "text/html": [
       "<img src =\"/notebooks/ML3option_2/img_small/262_small.jpg\" alt =\"ss\" width =\"50\" height=\"70\" display=\"inline;\">"
      ],
      "text/plain": [
       "<IPython.core.display.HTML object>"
      ]
     },
     "metadata": {},
     "output_type": "display_data"
    },
    {
     "data": {
      "text/html": [
       "<img src =\"/notebooks/ML3option_2/img_small/269_small.jpg\" alt =\"ss\" width =\"50\" height=\"70\" display=\"inline;\">"
      ],
      "text/plain": [
       "<IPython.core.display.HTML object>"
      ]
     },
     "metadata": {},
     "output_type": "display_data"
    },
    {
     "data": {
      "text/html": [
       "<img src =\"/notebooks/ML3option_2/img_small/283_small.jpg\" alt =\"ss\" width =\"50\" height=\"70\" display=\"inline;\">"
      ],
      "text/plain": [
       "<IPython.core.display.HTML object>"
      ]
     },
     "metadata": {},
     "output_type": "display_data"
    },
    {
     "data": {
      "text/html": [
       "<img src =\"/notebooks/ML3option_2/img_small/310_small.jpg\" alt =\"ss\" width =\"50\" height=\"70\" display=\"inline;\">"
      ],
      "text/plain": [
       "<IPython.core.display.HTML object>"
      ]
     },
     "metadata": {},
     "output_type": "display_data"
    },
    {
     "data": {
      "text/html": [
       "<img src =\"/notebooks/ML3option_2/img_small/315_small.jpg\" alt =\"ss\" width =\"50\" height=\"70\" display=\"inline;\">"
      ],
      "text/plain": [
       "<IPython.core.display.HTML object>"
      ]
     },
     "metadata": {},
     "output_type": "display_data"
    },
    {
     "data": {
      "text/html": [
       "<img src =\"/notebooks/ML3option_2/img_small/323_small.jpg\" alt =\"ss\" width =\"50\" height=\"70\" display=\"inline;\">"
      ],
      "text/plain": [
       "<IPython.core.display.HTML object>"
      ]
     },
     "metadata": {},
     "output_type": "display_data"
    },
    {
     "data": {
      "text/html": [
       "<img src =\"/notebooks/ML3option_2/img_small/362_small.jpg\" alt =\"ss\" width =\"50\" height=\"70\" display=\"inline;\">"
      ],
      "text/plain": [
       "<IPython.core.display.HTML object>"
      ]
     },
     "metadata": {},
     "output_type": "display_data"
    },
    {
     "data": {
      "text/html": [
       "<img src =\"/notebooks/ML3option_2/img_small/364_small.jpg\" alt =\"ss\" width =\"50\" height=\"70\" display=\"inline;\">"
      ],
      "text/plain": [
       "<IPython.core.display.HTML object>"
      ]
     },
     "metadata": {},
     "output_type": "display_data"
    },
    {
     "data": {
      "text/html": [
       "<img src =\"/notebooks/ML3option_2/img_small/365_small.jpg\" alt =\"ss\" width =\"50\" height=\"70\" display=\"inline;\">"
      ],
      "text/plain": [
       "<IPython.core.display.HTML object>"
      ]
     },
     "metadata": {},
     "output_type": "display_data"
    },
    {
     "data": {
      "text/html": [
       "<img src =\"/notebooks/ML3option_2/img_small/382_small.jpg\" alt =\"ss\" width =\"50\" height=\"70\" display=\"inline;\">"
      ],
      "text/plain": [
       "<IPython.core.display.HTML object>"
      ]
     },
     "metadata": {},
     "output_type": "display_data"
    },
    {
     "data": {
      "text/html": [
       "<img src =\"/notebooks/ML3option_2/img_small/385_small.jpg\" alt =\"ss\" width =\"50\" height=\"70\" display=\"inline;\">"
      ],
      "text/plain": [
       "<IPython.core.display.HTML object>"
      ]
     },
     "metadata": {},
     "output_type": "display_data"
    },
    {
     "data": {
      "text/html": [
       "<img src =\"/notebooks/ML3option_2/img_small/387_small.jpg\" alt =\"ss\" width =\"50\" height=\"70\" display=\"inline;\">"
      ],
      "text/plain": [
       "<IPython.core.display.HTML object>"
      ]
     },
     "metadata": {},
     "output_type": "display_data"
    },
    {
     "data": {
      "text/html": [
       "<img src =\"/notebooks/ML3option_2/img_small/394_small.jpg\" alt =\"ss\" width =\"50\" height=\"70\" display=\"inline;\">"
      ],
      "text/plain": [
       "<IPython.core.display.HTML object>"
      ]
     },
     "metadata": {},
     "output_type": "display_data"
    },
    {
     "name": "stdout",
     "output_type": "stream",
     "text": [
      " \n",
      "* * * * * * * * * * * * * * * * * * * * * * * * * * * * * * \n",
      "Images in cluster: 8\n",
      "* * * * * * * * * * * * * * * * * * * * * * * * * * * * * * \n"
     ]
    },
    {
     "data": {
      "text/html": [
       "<img src =\"/notebooks/ML3option_2/img_small/8_small.jpg\" alt =\"ss\" width =\"50\" height=\"70\" display=\"inline;\">"
      ],
      "text/plain": [
       "<IPython.core.display.HTML object>"
      ]
     },
     "metadata": {},
     "output_type": "display_data"
    },
    {
     "data": {
      "text/html": [
       "<img src =\"/notebooks/ML3option_2/img_small/18_small.jpg\" alt =\"ss\" width =\"50\" height=\"70\" display=\"inline;\">"
      ],
      "text/plain": [
       "<IPython.core.display.HTML object>"
      ]
     },
     "metadata": {},
     "output_type": "display_data"
    },
    {
     "data": {
      "text/html": [
       "<img src =\"/notebooks/ML3option_2/img_small/34_small.jpg\" alt =\"ss\" width =\"50\" height=\"70\" display=\"inline;\">"
      ],
      "text/plain": [
       "<IPython.core.display.HTML object>"
      ]
     },
     "metadata": {},
     "output_type": "display_data"
    },
    {
     "data": {
      "text/html": [
       "<img src =\"/notebooks/ML3option_2/img_small/37_small.jpg\" alt =\"ss\" width =\"50\" height=\"70\" display=\"inline;\">"
      ],
      "text/plain": [
       "<IPython.core.display.HTML object>"
      ]
     },
     "metadata": {},
     "output_type": "display_data"
    },
    {
     "data": {
      "text/html": [
       "<img src =\"/notebooks/ML3option_2/img_small/38_small.jpg\" alt =\"ss\" width =\"50\" height=\"70\" display=\"inline;\">"
      ],
      "text/plain": [
       "<IPython.core.display.HTML object>"
      ]
     },
     "metadata": {},
     "output_type": "display_data"
    },
    {
     "data": {
      "text/html": [
       "<img src =\"/notebooks/ML3option_2/img_small/43_small.jpg\" alt =\"ss\" width =\"50\" height=\"70\" display=\"inline;\">"
      ],
      "text/plain": [
       "<IPython.core.display.HTML object>"
      ]
     },
     "metadata": {},
     "output_type": "display_data"
    },
    {
     "data": {
      "text/html": [
       "<img src =\"/notebooks/ML3option_2/img_small/54_small.jpg\" alt =\"ss\" width =\"50\" height=\"70\" display=\"inline;\">"
      ],
      "text/plain": [
       "<IPython.core.display.HTML object>"
      ]
     },
     "metadata": {},
     "output_type": "display_data"
    },
    {
     "data": {
      "text/html": [
       "<img src =\"/notebooks/ML3option_2/img_small/70_small.jpg\" alt =\"ss\" width =\"50\" height=\"70\" display=\"inline;\">"
      ],
      "text/plain": [
       "<IPython.core.display.HTML object>"
      ]
     },
     "metadata": {},
     "output_type": "display_data"
    },
    {
     "data": {
      "text/html": [
       "<img src =\"/notebooks/ML3option_2/img_small/73_small.jpg\" alt =\"ss\" width =\"50\" height=\"70\" display=\"inline;\">"
      ],
      "text/plain": [
       "<IPython.core.display.HTML object>"
      ]
     },
     "metadata": {},
     "output_type": "display_data"
    },
    {
     "data": {
      "text/html": [
       "<img src =\"/notebooks/ML3option_2/img_small/78_small.jpg\" alt =\"ss\" width =\"50\" height=\"70\" display=\"inline;\">"
      ],
      "text/plain": [
       "<IPython.core.display.HTML object>"
      ]
     },
     "metadata": {},
     "output_type": "display_data"
    },
    {
     "data": {
      "text/html": [
       "<img src =\"/notebooks/ML3option_2/img_small/81_small.jpg\" alt =\"ss\" width =\"50\" height=\"70\" display=\"inline;\">"
      ],
      "text/plain": [
       "<IPython.core.display.HTML object>"
      ]
     },
     "metadata": {},
     "output_type": "display_data"
    },
    {
     "data": {
      "text/html": [
       "<img src =\"/notebooks/ML3option_2/img_small/86_small.jpg\" alt =\"ss\" width =\"50\" height=\"70\" display=\"inline;\">"
      ],
      "text/plain": [
       "<IPython.core.display.HTML object>"
      ]
     },
     "metadata": {},
     "output_type": "display_data"
    },
    {
     "data": {
      "text/html": [
       "<img src =\"/notebooks/ML3option_2/img_small/90_small.jpg\" alt =\"ss\" width =\"50\" height=\"70\" display=\"inline;\">"
      ],
      "text/plain": [
       "<IPython.core.display.HTML object>"
      ]
     },
     "metadata": {},
     "output_type": "display_data"
    },
    {
     "data": {
      "text/html": [
       "<img src =\"/notebooks/ML3option_2/img_small/93_small.jpg\" alt =\"ss\" width =\"50\" height=\"70\" display=\"inline;\">"
      ],
      "text/plain": [
       "<IPython.core.display.HTML object>"
      ]
     },
     "metadata": {},
     "output_type": "display_data"
    },
    {
     "data": {
      "text/html": [
       "<img src =\"/notebooks/ML3option_2/img_small/99_small.jpg\" alt =\"ss\" width =\"50\" height=\"70\" display=\"inline;\">"
      ],
      "text/plain": [
       "<IPython.core.display.HTML object>"
      ]
     },
     "metadata": {},
     "output_type": "display_data"
    },
    {
     "data": {
      "text/html": [
       "<img src =\"/notebooks/ML3option_2/img_small/120_small.jpg\" alt =\"ss\" width =\"50\" height=\"70\" display=\"inline;\">"
      ],
      "text/plain": [
       "<IPython.core.display.HTML object>"
      ]
     },
     "metadata": {},
     "output_type": "display_data"
    },
    {
     "data": {
      "text/html": [
       "<img src =\"/notebooks/ML3option_2/img_small/127_small.jpg\" alt =\"ss\" width =\"50\" height=\"70\" display=\"inline;\">"
      ],
      "text/plain": [
       "<IPython.core.display.HTML object>"
      ]
     },
     "metadata": {},
     "output_type": "display_data"
    },
    {
     "data": {
      "text/html": [
       "<img src =\"/notebooks/ML3option_2/img_small/128_small.jpg\" alt =\"ss\" width =\"50\" height=\"70\" display=\"inline;\">"
      ],
      "text/plain": [
       "<IPython.core.display.HTML object>"
      ]
     },
     "metadata": {},
     "output_type": "display_data"
    },
    {
     "data": {
      "text/html": [
       "<img src =\"/notebooks/ML3option_2/img_small/130_small.jpg\" alt =\"ss\" width =\"50\" height=\"70\" display=\"inline;\">"
      ],
      "text/plain": [
       "<IPython.core.display.HTML object>"
      ]
     },
     "metadata": {},
     "output_type": "display_data"
    },
    {
     "data": {
      "text/html": [
       "<img src =\"/notebooks/ML3option_2/img_small/141_small.jpg\" alt =\"ss\" width =\"50\" height=\"70\" display=\"inline;\">"
      ],
      "text/plain": [
       "<IPython.core.display.HTML object>"
      ]
     },
     "metadata": {},
     "output_type": "display_data"
    },
    {
     "data": {
      "text/html": [
       "<img src =\"/notebooks/ML3option_2/img_small/148_small.jpg\" alt =\"ss\" width =\"50\" height=\"70\" display=\"inline;\">"
      ],
      "text/plain": [
       "<IPython.core.display.HTML object>"
      ]
     },
     "metadata": {},
     "output_type": "display_data"
    },
    {
     "data": {
      "text/html": [
       "<img src =\"/notebooks/ML3option_2/img_small/164_small.jpg\" alt =\"ss\" width =\"50\" height=\"70\" display=\"inline;\">"
      ],
      "text/plain": [
       "<IPython.core.display.HTML object>"
      ]
     },
     "metadata": {},
     "output_type": "display_data"
    },
    {
     "data": {
      "text/html": [
       "<img src =\"/notebooks/ML3option_2/img_small/195_small.jpg\" alt =\"ss\" width =\"50\" height=\"70\" display=\"inline;\">"
      ],
      "text/plain": [
       "<IPython.core.display.HTML object>"
      ]
     },
     "metadata": {},
     "output_type": "display_data"
    },
    {
     "data": {
      "text/html": [
       "<img src =\"/notebooks/ML3option_2/img_small/203_small.jpg\" alt =\"ss\" width =\"50\" height=\"70\" display=\"inline;\">"
      ],
      "text/plain": [
       "<IPython.core.display.HTML object>"
      ]
     },
     "metadata": {},
     "output_type": "display_data"
    },
    {
     "data": {
      "text/html": [
       "<img src =\"/notebooks/ML3option_2/img_small/227_small.jpg\" alt =\"ss\" width =\"50\" height=\"70\" display=\"inline;\">"
      ],
      "text/plain": [
       "<IPython.core.display.HTML object>"
      ]
     },
     "metadata": {},
     "output_type": "display_data"
    },
    {
     "data": {
      "text/html": [
       "<img src =\"/notebooks/ML3option_2/img_small/246_small.jpg\" alt =\"ss\" width =\"50\" height=\"70\" display=\"inline;\">"
      ],
      "text/plain": [
       "<IPython.core.display.HTML object>"
      ]
     },
     "metadata": {},
     "output_type": "display_data"
    },
    {
     "data": {
      "text/html": [
       "<img src =\"/notebooks/ML3option_2/img_small/252_small.jpg\" alt =\"ss\" width =\"50\" height=\"70\" display=\"inline;\">"
      ],
      "text/plain": [
       "<IPython.core.display.HTML object>"
      ]
     },
     "metadata": {},
     "output_type": "display_data"
    },
    {
     "data": {
      "text/html": [
       "<img src =\"/notebooks/ML3option_2/img_small/259_small.jpg\" alt =\"ss\" width =\"50\" height=\"70\" display=\"inline;\">"
      ],
      "text/plain": [
       "<IPython.core.display.HTML object>"
      ]
     },
     "metadata": {},
     "output_type": "display_data"
    },
    {
     "data": {
      "text/html": [
       "<img src =\"/notebooks/ML3option_2/img_small/267_small.jpg\" alt =\"ss\" width =\"50\" height=\"70\" display=\"inline;\">"
      ],
      "text/plain": [
       "<IPython.core.display.HTML object>"
      ]
     },
     "metadata": {},
     "output_type": "display_data"
    },
    {
     "data": {
      "text/html": [
       "<img src =\"/notebooks/ML3option_2/img_small/285_small.jpg\" alt =\"ss\" width =\"50\" height=\"70\" display=\"inline;\">"
      ],
      "text/plain": [
       "<IPython.core.display.HTML object>"
      ]
     },
     "metadata": {},
     "output_type": "display_data"
    },
    {
     "data": {
      "text/html": [
       "<img src =\"/notebooks/ML3option_2/img_small/298_small.jpg\" alt =\"ss\" width =\"50\" height=\"70\" display=\"inline;\">"
      ],
      "text/plain": [
       "<IPython.core.display.HTML object>"
      ]
     },
     "metadata": {},
     "output_type": "display_data"
    },
    {
     "data": {
      "text/html": [
       "<img src =\"/notebooks/ML3option_2/img_small/299_small.jpg\" alt =\"ss\" width =\"50\" height=\"70\" display=\"inline;\">"
      ],
      "text/plain": [
       "<IPython.core.display.HTML object>"
      ]
     },
     "metadata": {},
     "output_type": "display_data"
    },
    {
     "data": {
      "text/html": [
       "<img src =\"/notebooks/ML3option_2/img_small/308_small.jpg\" alt =\"ss\" width =\"50\" height=\"70\" display=\"inline;\">"
      ],
      "text/plain": [
       "<IPython.core.display.HTML object>"
      ]
     },
     "metadata": {},
     "output_type": "display_data"
    },
    {
     "data": {
      "text/html": [
       "<img src =\"/notebooks/ML3option_2/img_small/345_small.jpg\" alt =\"ss\" width =\"50\" height=\"70\" display=\"inline;\">"
      ],
      "text/plain": [
       "<IPython.core.display.HTML object>"
      ]
     },
     "metadata": {},
     "output_type": "display_data"
    },
    {
     "data": {
      "text/html": [
       "<img src =\"/notebooks/ML3option_2/img_small/346_small.jpg\" alt =\"ss\" width =\"50\" height=\"70\" display=\"inline;\">"
      ],
      "text/plain": [
       "<IPython.core.display.HTML object>"
      ]
     },
     "metadata": {},
     "output_type": "display_data"
    },
    {
     "data": {
      "text/html": [
       "<img src =\"/notebooks/ML3option_2/img_small/347_small.jpg\" alt =\"ss\" width =\"50\" height=\"70\" display=\"inline;\">"
      ],
      "text/plain": [
       "<IPython.core.display.HTML object>"
      ]
     },
     "metadata": {},
     "output_type": "display_data"
    },
    {
     "data": {
      "text/html": [
       "<img src =\"/notebooks/ML3option_2/img_small/359_small.jpg\" alt =\"ss\" width =\"50\" height=\"70\" display=\"inline;\">"
      ],
      "text/plain": [
       "<IPython.core.display.HTML object>"
      ]
     },
     "metadata": {},
     "output_type": "display_data"
    },
    {
     "data": {
      "text/html": [
       "<img src =\"/notebooks/ML3option_2/img_small/368_small.jpg\" alt =\"ss\" width =\"50\" height=\"70\" display=\"inline;\">"
      ],
      "text/plain": [
       "<IPython.core.display.HTML object>"
      ]
     },
     "metadata": {},
     "output_type": "display_data"
    },
    {
     "data": {
      "text/html": [
       "<img src =\"/notebooks/ML3option_2/img_small/372_small.jpg\" alt =\"ss\" width =\"50\" height=\"70\" display=\"inline;\">"
      ],
      "text/plain": [
       "<IPython.core.display.HTML object>"
      ]
     },
     "metadata": {},
     "output_type": "display_data"
    },
    {
     "data": {
      "text/html": [
       "<img src =\"/notebooks/ML3option_2/img_small/379_small.jpg\" alt =\"ss\" width =\"50\" height=\"70\" display=\"inline;\">"
      ],
      "text/plain": [
       "<IPython.core.display.HTML object>"
      ]
     },
     "metadata": {},
     "output_type": "display_data"
    },
    {
     "data": {
      "text/html": [
       "<img src =\"/notebooks/ML3option_2/img_small/390_small.jpg\" alt =\"ss\" width =\"50\" height=\"70\" display=\"inline;\">"
      ],
      "text/plain": [
       "<IPython.core.display.HTML object>"
      ]
     },
     "metadata": {},
     "output_type": "display_data"
    },
    {
     "data": {
      "text/html": [
       "<img src =\"/notebooks/ML3option_2/img_small/393_small.jpg\" alt =\"ss\" width =\"50\" height=\"70\" display=\"inline;\">"
      ],
      "text/plain": [
       "<IPython.core.display.HTML object>"
      ]
     },
     "metadata": {},
     "output_type": "display_data"
    },
    {
     "name": "stdout",
     "output_type": "stream",
     "text": [
      " \n",
      "* * * * * * * * * * * * * * * * * * * * * * * * * * * * * * \n",
      "Images in cluster: 9\n",
      "* * * * * * * * * * * * * * * * * * * * * * * * * * * * * * \n"
     ]
    },
    {
     "data": {
      "text/html": [
       "<img src =\"/notebooks/ML3option_2/img_small/8_small.jpg\" alt =\"ss\" width =\"50\" height=\"70\" display=\"inline;\">"
      ],
      "text/plain": [
       "<IPython.core.display.HTML object>"
      ]
     },
     "metadata": {},
     "output_type": "display_data"
    },
    {
     "data": {
      "text/html": [
       "<img src =\"/notebooks/ML3option_2/img_small/18_small.jpg\" alt =\"ss\" width =\"50\" height=\"70\" display=\"inline;\">"
      ],
      "text/plain": [
       "<IPython.core.display.HTML object>"
      ]
     },
     "metadata": {},
     "output_type": "display_data"
    },
    {
     "data": {
      "text/html": [
       "<img src =\"/notebooks/ML3option_2/img_small/34_small.jpg\" alt =\"ss\" width =\"50\" height=\"70\" display=\"inline;\">"
      ],
      "text/plain": [
       "<IPython.core.display.HTML object>"
      ]
     },
     "metadata": {},
     "output_type": "display_data"
    },
    {
     "data": {
      "text/html": [
       "<img src =\"/notebooks/ML3option_2/img_small/38_small.jpg\" alt =\"ss\" width =\"50\" height=\"70\" display=\"inline;\">"
      ],
      "text/plain": [
       "<IPython.core.display.HTML object>"
      ]
     },
     "metadata": {},
     "output_type": "display_data"
    },
    {
     "data": {
      "text/html": [
       "<img src =\"/notebooks/ML3option_2/img_small/39_small.jpg\" alt =\"ss\" width =\"50\" height=\"70\" display=\"inline;\">"
      ],
      "text/plain": [
       "<IPython.core.display.HTML object>"
      ]
     },
     "metadata": {},
     "output_type": "display_data"
    },
    {
     "data": {
      "text/html": [
       "<img src =\"/notebooks/ML3option_2/img_small/53_small.jpg\" alt =\"ss\" width =\"50\" height=\"70\" display=\"inline;\">"
      ],
      "text/plain": [
       "<IPython.core.display.HTML object>"
      ]
     },
     "metadata": {},
     "output_type": "display_data"
    },
    {
     "data": {
      "text/html": [
       "<img src =\"/notebooks/ML3option_2/img_small/54_small.jpg\" alt =\"ss\" width =\"50\" height=\"70\" display=\"inline;\">"
      ],
      "text/plain": [
       "<IPython.core.display.HTML object>"
      ]
     },
     "metadata": {},
     "output_type": "display_data"
    },
    {
     "data": {
      "text/html": [
       "<img src =\"/notebooks/ML3option_2/img_small/70_small.jpg\" alt =\"ss\" width =\"50\" height=\"70\" display=\"inline;\">"
      ],
      "text/plain": [
       "<IPython.core.display.HTML object>"
      ]
     },
     "metadata": {},
     "output_type": "display_data"
    },
    {
     "data": {
      "text/html": [
       "<img src =\"/notebooks/ML3option_2/img_small/78_small.jpg\" alt =\"ss\" width =\"50\" height=\"70\" display=\"inline;\">"
      ],
      "text/plain": [
       "<IPython.core.display.HTML object>"
      ]
     },
     "metadata": {},
     "output_type": "display_data"
    },
    {
     "data": {
      "text/html": [
       "<img src =\"/notebooks/ML3option_2/img_small/86_small.jpg\" alt =\"ss\" width =\"50\" height=\"70\" display=\"inline;\">"
      ],
      "text/plain": [
       "<IPython.core.display.HTML object>"
      ]
     },
     "metadata": {},
     "output_type": "display_data"
    },
    {
     "data": {
      "text/html": [
       "<img src =\"/notebooks/ML3option_2/img_small/90_small.jpg\" alt =\"ss\" width =\"50\" height=\"70\" display=\"inline;\">"
      ],
      "text/plain": [
       "<IPython.core.display.HTML object>"
      ]
     },
     "metadata": {},
     "output_type": "display_data"
    },
    {
     "data": {
      "text/html": [
       "<img src =\"/notebooks/ML3option_2/img_small/119_small.jpg\" alt =\"ss\" width =\"50\" height=\"70\" display=\"inline;\">"
      ],
      "text/plain": [
       "<IPython.core.display.HTML object>"
      ]
     },
     "metadata": {},
     "output_type": "display_data"
    },
    {
     "data": {
      "text/html": [
       "<img src =\"/notebooks/ML3option_2/img_small/120_small.jpg\" alt =\"ss\" width =\"50\" height=\"70\" display=\"inline;\">"
      ],
      "text/plain": [
       "<IPython.core.display.HTML object>"
      ]
     },
     "metadata": {},
     "output_type": "display_data"
    },
    {
     "data": {
      "text/html": [
       "<img src =\"/notebooks/ML3option_2/img_small/128_small.jpg\" alt =\"ss\" width =\"50\" height=\"70\" display=\"inline;\">"
      ],
      "text/plain": [
       "<IPython.core.display.HTML object>"
      ]
     },
     "metadata": {},
     "output_type": "display_data"
    },
    {
     "data": {
      "text/html": [
       "<img src =\"/notebooks/ML3option_2/img_small/130_small.jpg\" alt =\"ss\" width =\"50\" height=\"70\" display=\"inline;\">"
      ],
      "text/plain": [
       "<IPython.core.display.HTML object>"
      ]
     },
     "metadata": {},
     "output_type": "display_data"
    },
    {
     "data": {
      "text/html": [
       "<img src =\"/notebooks/ML3option_2/img_small/131_small.jpg\" alt =\"ss\" width =\"50\" height=\"70\" display=\"inline;\">"
      ],
      "text/plain": [
       "<IPython.core.display.HTML object>"
      ]
     },
     "metadata": {},
     "output_type": "display_data"
    },
    {
     "data": {
      "text/html": [
       "<img src =\"/notebooks/ML3option_2/img_small/135_small.jpg\" alt =\"ss\" width =\"50\" height=\"70\" display=\"inline;\">"
      ],
      "text/plain": [
       "<IPython.core.display.HTML object>"
      ]
     },
     "metadata": {},
     "output_type": "display_data"
    },
    {
     "data": {
      "text/html": [
       "<img src =\"/notebooks/ML3option_2/img_small/147_small.jpg\" alt =\"ss\" width =\"50\" height=\"70\" display=\"inline;\">"
      ],
      "text/plain": [
       "<IPython.core.display.HTML object>"
      ]
     },
     "metadata": {},
     "output_type": "display_data"
    },
    {
     "data": {
      "text/html": [
       "<img src =\"/notebooks/ML3option_2/img_small/148_small.jpg\" alt =\"ss\" width =\"50\" height=\"70\" display=\"inline;\">"
      ],
      "text/plain": [
       "<IPython.core.display.HTML object>"
      ]
     },
     "metadata": {},
     "output_type": "display_data"
    },
    {
     "data": {
      "text/html": [
       "<img src =\"/notebooks/ML3option_2/img_small/149_small.jpg\" alt =\"ss\" width =\"50\" height=\"70\" display=\"inline;\">"
      ],
      "text/plain": [
       "<IPython.core.display.HTML object>"
      ]
     },
     "metadata": {},
     "output_type": "display_data"
    },
    {
     "data": {
      "text/html": [
       "<img src =\"/notebooks/ML3option_2/img_small/164_small.jpg\" alt =\"ss\" width =\"50\" height=\"70\" display=\"inline;\">"
      ],
      "text/plain": [
       "<IPython.core.display.HTML object>"
      ]
     },
     "metadata": {},
     "output_type": "display_data"
    },
    {
     "data": {
      "text/html": [
       "<img src =\"/notebooks/ML3option_2/img_small/167_small.jpg\" alt =\"ss\" width =\"50\" height=\"70\" display=\"inline;\">"
      ],
      "text/plain": [
       "<IPython.core.display.HTML object>"
      ]
     },
     "metadata": {},
     "output_type": "display_data"
    },
    {
     "data": {
      "text/html": [
       "<img src =\"/notebooks/ML3option_2/img_small/211_small.jpg\" alt =\"ss\" width =\"50\" height=\"70\" display=\"inline;\">"
      ],
      "text/plain": [
       "<IPython.core.display.HTML object>"
      ]
     },
     "metadata": {},
     "output_type": "display_data"
    },
    {
     "data": {
      "text/html": [
       "<img src =\"/notebooks/ML3option_2/img_small/246_small.jpg\" alt =\"ss\" width =\"50\" height=\"70\" display=\"inline;\">"
      ],
      "text/plain": [
       "<IPython.core.display.HTML object>"
      ]
     },
     "metadata": {},
     "output_type": "display_data"
    },
    {
     "data": {
      "text/html": [
       "<img src =\"/notebooks/ML3option_2/img_small/252_small.jpg\" alt =\"ss\" width =\"50\" height=\"70\" display=\"inline;\">"
      ],
      "text/plain": [
       "<IPython.core.display.HTML object>"
      ]
     },
     "metadata": {},
     "output_type": "display_data"
    },
    {
     "data": {
      "text/html": [
       "<img src =\"/notebooks/ML3option_2/img_small/265_small.jpg\" alt =\"ss\" width =\"50\" height=\"70\" display=\"inline;\">"
      ],
      "text/plain": [
       "<IPython.core.display.HTML object>"
      ]
     },
     "metadata": {},
     "output_type": "display_data"
    },
    {
     "data": {
      "text/html": [
       "<img src =\"/notebooks/ML3option_2/img_small/298_small.jpg\" alt =\"ss\" width =\"50\" height=\"70\" display=\"inline;\">"
      ],
      "text/plain": [
       "<IPython.core.display.HTML object>"
      ]
     },
     "metadata": {},
     "output_type": "display_data"
    },
    {
     "data": {
      "text/html": [
       "<img src =\"/notebooks/ML3option_2/img_small/308_small.jpg\" alt =\"ss\" width =\"50\" height=\"70\" display=\"inline;\">"
      ],
      "text/plain": [
       "<IPython.core.display.HTML object>"
      ]
     },
     "metadata": {},
     "output_type": "display_data"
    },
    {
     "data": {
      "text/html": [
       "<img src =\"/notebooks/ML3option_2/img_small/323_small.jpg\" alt =\"ss\" width =\"50\" height=\"70\" display=\"inline;\">"
      ],
      "text/plain": [
       "<IPython.core.display.HTML object>"
      ]
     },
     "metadata": {},
     "output_type": "display_data"
    },
    {
     "data": {
      "text/html": [
       "<img src =\"/notebooks/ML3option_2/img_small/327_small.jpg\" alt =\"ss\" width =\"50\" height=\"70\" display=\"inline;\">"
      ],
      "text/plain": [
       "<IPython.core.display.HTML object>"
      ]
     },
     "metadata": {},
     "output_type": "display_data"
    },
    {
     "data": {
      "text/html": [
       "<img src =\"/notebooks/ML3option_2/img_small/346_small.jpg\" alt =\"ss\" width =\"50\" height=\"70\" display=\"inline;\">"
      ],
      "text/plain": [
       "<IPython.core.display.HTML object>"
      ]
     },
     "metadata": {},
     "output_type": "display_data"
    },
    {
     "data": {
      "text/html": [
       "<img src =\"/notebooks/ML3option_2/img_small/368_small.jpg\" alt =\"ss\" width =\"50\" height=\"70\" display=\"inline;\">"
      ],
      "text/plain": [
       "<IPython.core.display.HTML object>"
      ]
     },
     "metadata": {},
     "output_type": "display_data"
    },
    {
     "data": {
      "text/html": [
       "<img src =\"/notebooks/ML3option_2/img_small/372_small.jpg\" alt =\"ss\" width =\"50\" height=\"70\" display=\"inline;\">"
      ],
      "text/plain": [
       "<IPython.core.display.HTML object>"
      ]
     },
     "metadata": {},
     "output_type": "display_data"
    },
    {
     "data": {
      "text/html": [
       "<img src =\"/notebooks/ML3option_2/img_small/381_small.jpg\" alt =\"ss\" width =\"50\" height=\"70\" display=\"inline;\">"
      ],
      "text/plain": [
       "<IPython.core.display.HTML object>"
      ]
     },
     "metadata": {},
     "output_type": "display_data"
    },
    {
     "data": {
      "text/html": [
       "<img src =\"/notebooks/ML3option_2/img_small/387_small.jpg\" alt =\"ss\" width =\"50\" height=\"70\" display=\"inline;\">"
      ],
      "text/plain": [
       "<IPython.core.display.HTML object>"
      ]
     },
     "metadata": {},
     "output_type": "display_data"
    },
    {
     "data": {
      "text/html": [
       "<img src =\"/notebooks/ML3option_2/img_small/390_small.jpg\" alt =\"ss\" width =\"50\" height=\"70\" display=\"inline;\">"
      ],
      "text/plain": [
       "<IPython.core.display.HTML object>"
      ]
     },
     "metadata": {},
     "output_type": "display_data"
    },
    {
     "data": {
      "text/html": [
       "<img src =\"/notebooks/ML3option_2/img_small/391_small.jpg\" alt =\"ss\" width =\"50\" height=\"70\" display=\"inline;\">"
      ],
      "text/plain": [
       "<IPython.core.display.HTML object>"
      ]
     },
     "metadata": {},
     "output_type": "display_data"
    },
    {
     "name": "stdout",
     "output_type": "stream",
     "text": [
      " \n",
      "* * * * * * * * * * * * * * * * * * * * * * * * * * * * * * \n",
      "Images in cluster: 10\n",
      "* * * * * * * * * * * * * * * * * * * * * * * * * * * * * * \n"
     ]
    },
    {
     "data": {
      "text/html": [
       "<img src =\"/notebooks/ML3option_2/img_small/18_small.jpg\" alt =\"ss\" width =\"50\" height=\"70\" display=\"inline;\">"
      ],
      "text/plain": [
       "<IPython.core.display.HTML object>"
      ]
     },
     "metadata": {},
     "output_type": "display_data"
    },
    {
     "data": {
      "text/html": [
       "<img src =\"/notebooks/ML3option_2/img_small/34_small.jpg\" alt =\"ss\" width =\"50\" height=\"70\" display=\"inline;\">"
      ],
      "text/plain": [
       "<IPython.core.display.HTML object>"
      ]
     },
     "metadata": {},
     "output_type": "display_data"
    },
    {
     "data": {
      "text/html": [
       "<img src =\"/notebooks/ML3option_2/img_small/38_small.jpg\" alt =\"ss\" width =\"50\" height=\"70\" display=\"inline;\">"
      ],
      "text/plain": [
       "<IPython.core.display.HTML object>"
      ]
     },
     "metadata": {},
     "output_type": "display_data"
    },
    {
     "data": {
      "text/html": [
       "<img src =\"/notebooks/ML3option_2/img_small/43_small.jpg\" alt =\"ss\" width =\"50\" height=\"70\" display=\"inline;\">"
      ],
      "text/plain": [
       "<IPython.core.display.HTML object>"
      ]
     },
     "metadata": {},
     "output_type": "display_data"
    },
    {
     "data": {
      "text/html": [
       "<img src =\"/notebooks/ML3option_2/img_small/54_small.jpg\" alt =\"ss\" width =\"50\" height=\"70\" display=\"inline;\">"
      ],
      "text/plain": [
       "<IPython.core.display.HTML object>"
      ]
     },
     "metadata": {},
     "output_type": "display_data"
    },
    {
     "data": {
      "text/html": [
       "<img src =\"/notebooks/ML3option_2/img_small/70_small.jpg\" alt =\"ss\" width =\"50\" height=\"70\" display=\"inline;\">"
      ],
      "text/plain": [
       "<IPython.core.display.HTML object>"
      ]
     },
     "metadata": {},
     "output_type": "display_data"
    },
    {
     "data": {
      "text/html": [
       "<img src =\"/notebooks/ML3option_2/img_small/78_small.jpg\" alt =\"ss\" width =\"50\" height=\"70\" display=\"inline;\">"
      ],
      "text/plain": [
       "<IPython.core.display.HTML object>"
      ]
     },
     "metadata": {},
     "output_type": "display_data"
    },
    {
     "data": {
      "text/html": [
       "<img src =\"/notebooks/ML3option_2/img_small/86_small.jpg\" alt =\"ss\" width =\"50\" height=\"70\" display=\"inline;\">"
      ],
      "text/plain": [
       "<IPython.core.display.HTML object>"
      ]
     },
     "metadata": {},
     "output_type": "display_data"
    },
    {
     "data": {
      "text/html": [
       "<img src =\"/notebooks/ML3option_2/img_small/89_small.jpg\" alt =\"ss\" width =\"50\" height=\"70\" display=\"inline;\">"
      ],
      "text/plain": [
       "<IPython.core.display.HTML object>"
      ]
     },
     "metadata": {},
     "output_type": "display_data"
    },
    {
     "data": {
      "text/html": [
       "<img src =\"/notebooks/ML3option_2/img_small/90_small.jpg\" alt =\"ss\" width =\"50\" height=\"70\" display=\"inline;\">"
      ],
      "text/plain": [
       "<IPython.core.display.HTML object>"
      ]
     },
     "metadata": {},
     "output_type": "display_data"
    },
    {
     "data": {
      "text/html": [
       "<img src =\"/notebooks/ML3option_2/img_small/99_small.jpg\" alt =\"ss\" width =\"50\" height=\"70\" display=\"inline;\">"
      ],
      "text/plain": [
       "<IPython.core.display.HTML object>"
      ]
     },
     "metadata": {},
     "output_type": "display_data"
    },
    {
     "data": {
      "text/html": [
       "<img src =\"/notebooks/ML3option_2/img_small/101_small.jpg\" alt =\"ss\" width =\"50\" height=\"70\" display=\"inline;\">"
      ],
      "text/plain": [
       "<IPython.core.display.HTML object>"
      ]
     },
     "metadata": {},
     "output_type": "display_data"
    },
    {
     "data": {
      "text/html": [
       "<img src =\"/notebooks/ML3option_2/img_small/127_small.jpg\" alt =\"ss\" width =\"50\" height=\"70\" display=\"inline;\">"
      ],
      "text/plain": [
       "<IPython.core.display.HTML object>"
      ]
     },
     "metadata": {},
     "output_type": "display_data"
    },
    {
     "data": {
      "text/html": [
       "<img src =\"/notebooks/ML3option_2/img_small/130_small.jpg\" alt =\"ss\" width =\"50\" height=\"70\" display=\"inline;\">"
      ],
      "text/plain": [
       "<IPython.core.display.HTML object>"
      ]
     },
     "metadata": {},
     "output_type": "display_data"
    },
    {
     "data": {
      "text/html": [
       "<img src =\"/notebooks/ML3option_2/img_small/195_small.jpg\" alt =\"ss\" width =\"50\" height=\"70\" display=\"inline;\">"
      ],
      "text/plain": [
       "<IPython.core.display.HTML object>"
      ]
     },
     "metadata": {},
     "output_type": "display_data"
    },
    {
     "data": {
      "text/html": [
       "<img src =\"/notebooks/ML3option_2/img_small/203_small.jpg\" alt =\"ss\" width =\"50\" height=\"70\" display=\"inline;\">"
      ],
      "text/plain": [
       "<IPython.core.display.HTML object>"
      ]
     },
     "metadata": {},
     "output_type": "display_data"
    },
    {
     "data": {
      "text/html": [
       "<img src =\"/notebooks/ML3option_2/img_small/220_small.jpg\" alt =\"ss\" width =\"50\" height=\"70\" display=\"inline;\">"
      ],
      "text/plain": [
       "<IPython.core.display.HTML object>"
      ]
     },
     "metadata": {},
     "output_type": "display_data"
    },
    {
     "data": {
      "text/html": [
       "<img src =\"/notebooks/ML3option_2/img_small/227_small.jpg\" alt =\"ss\" width =\"50\" height=\"70\" display=\"inline;\">"
      ],
      "text/plain": [
       "<IPython.core.display.HTML object>"
      ]
     },
     "metadata": {},
     "output_type": "display_data"
    },
    {
     "data": {
      "text/html": [
       "<img src =\"/notebooks/ML3option_2/img_small/246_small.jpg\" alt =\"ss\" width =\"50\" height=\"70\" display=\"inline;\">"
      ],
      "text/plain": [
       "<IPython.core.display.HTML object>"
      ]
     },
     "metadata": {},
     "output_type": "display_data"
    },
    {
     "data": {
      "text/html": [
       "<img src =\"/notebooks/ML3option_2/img_small/259_small.jpg\" alt =\"ss\" width =\"50\" height=\"70\" display=\"inline;\">"
      ],
      "text/plain": [
       "<IPython.core.display.HTML object>"
      ]
     },
     "metadata": {},
     "output_type": "display_data"
    },
    {
     "data": {
      "text/html": [
       "<img src =\"/notebooks/ML3option_2/img_small/267_small.jpg\" alt =\"ss\" width =\"50\" height=\"70\" display=\"inline;\">"
      ],
      "text/plain": [
       "<IPython.core.display.HTML object>"
      ]
     },
     "metadata": {},
     "output_type": "display_data"
    },
    {
     "data": {
      "text/html": [
       "<img src =\"/notebooks/ML3option_2/img_small/298_small.jpg\" alt =\"ss\" width =\"50\" height=\"70\" display=\"inline;\">"
      ],
      "text/plain": [
       "<IPython.core.display.HTML object>"
      ]
     },
     "metadata": {},
     "output_type": "display_data"
    },
    {
     "data": {
      "text/html": [
       "<img src =\"/notebooks/ML3option_2/img_small/299_small.jpg\" alt =\"ss\" width =\"50\" height=\"70\" display=\"inline;\">"
      ],
      "text/plain": [
       "<IPython.core.display.HTML object>"
      ]
     },
     "metadata": {},
     "output_type": "display_data"
    },
    {
     "data": {
      "text/html": [
       "<img src =\"/notebooks/ML3option_2/img_small/346_small.jpg\" alt =\"ss\" width =\"50\" height=\"70\" display=\"inline;\">"
      ],
      "text/plain": [
       "<IPython.core.display.HTML object>"
      ]
     },
     "metadata": {},
     "output_type": "display_data"
    },
    {
     "data": {
      "text/html": [
       "<img src =\"/notebooks/ML3option_2/img_small/347_small.jpg\" alt =\"ss\" width =\"50\" height=\"70\" display=\"inline;\">"
      ],
      "text/plain": [
       "<IPython.core.display.HTML object>"
      ]
     },
     "metadata": {},
     "output_type": "display_data"
    },
    {
     "data": {
      "text/html": [
       "<img src =\"/notebooks/ML3option_2/img_small/359_small.jpg\" alt =\"ss\" width =\"50\" height=\"70\" display=\"inline;\">"
      ],
      "text/plain": [
       "<IPython.core.display.HTML object>"
      ]
     },
     "metadata": {},
     "output_type": "display_data"
    },
    {
     "data": {
      "text/html": [
       "<img src =\"/notebooks/ML3option_2/img_small/369_small.jpg\" alt =\"ss\" width =\"50\" height=\"70\" display=\"inline;\">"
      ],
      "text/plain": [
       "<IPython.core.display.HTML object>"
      ]
     },
     "metadata": {},
     "output_type": "display_data"
    },
    {
     "data": {
      "text/html": [
       "<img src =\"/notebooks/ML3option_2/img_small/379_small.jpg\" alt =\"ss\" width =\"50\" height=\"70\" display=\"inline;\">"
      ],
      "text/plain": [
       "<IPython.core.display.HTML object>"
      ]
     },
     "metadata": {},
     "output_type": "display_data"
    },
    {
     "data": {
      "text/html": [
       "<img src =\"/notebooks/ML3option_2/img_small/390_small.jpg\" alt =\"ss\" width =\"50\" height=\"70\" display=\"inline;\">"
      ],
      "text/plain": [
       "<IPython.core.display.HTML object>"
      ]
     },
     "metadata": {},
     "output_type": "display_data"
    },
    {
     "name": "stdout",
     "output_type": "stream",
     "text": [
      " \n",
      "* * * * * * * * * * * * * * * * * * * * * * * * * * * * * * \n",
      "Images in cluster: 11\n",
      "* * * * * * * * * * * * * * * * * * * * * * * * * * * * * * \n"
     ]
    },
    {
     "data": {
      "text/html": [
       "<img src =\"/notebooks/ML3option_2/img_small/18_small.jpg\" alt =\"ss\" width =\"50\" height=\"70\" display=\"inline;\">"
      ],
      "text/plain": [
       "<IPython.core.display.HTML object>"
      ]
     },
     "metadata": {},
     "output_type": "display_data"
    },
    {
     "data": {
      "text/html": [
       "<img src =\"/notebooks/ML3option_2/img_small/21_small.jpg\" alt =\"ss\" width =\"50\" height=\"70\" display=\"inline;\">"
      ],
      "text/plain": [
       "<IPython.core.display.HTML object>"
      ]
     },
     "metadata": {},
     "output_type": "display_data"
    },
    {
     "data": {
      "text/html": [
       "<img src =\"/notebooks/ML3option_2/img_small/34_small.jpg\" alt =\"ss\" width =\"50\" height=\"70\" display=\"inline;\">"
      ],
      "text/plain": [
       "<IPython.core.display.HTML object>"
      ]
     },
     "metadata": {},
     "output_type": "display_data"
    },
    {
     "data": {
      "text/html": [
       "<img src =\"/notebooks/ML3option_2/img_small/38_small.jpg\" alt =\"ss\" width =\"50\" height=\"70\" display=\"inline;\">"
      ],
      "text/plain": [
       "<IPython.core.display.HTML object>"
      ]
     },
     "metadata": {},
     "output_type": "display_data"
    },
    {
     "data": {
      "text/html": [
       "<img src =\"/notebooks/ML3option_2/img_small/39_small.jpg\" alt =\"ss\" width =\"50\" height=\"70\" display=\"inline;\">"
      ],
      "text/plain": [
       "<IPython.core.display.HTML object>"
      ]
     },
     "metadata": {},
     "output_type": "display_data"
    },
    {
     "data": {
      "text/html": [
       "<img src =\"/notebooks/ML3option_2/img_small/54_small.jpg\" alt =\"ss\" width =\"50\" height=\"70\" display=\"inline;\">"
      ],
      "text/plain": [
       "<IPython.core.display.HTML object>"
      ]
     },
     "metadata": {},
     "output_type": "display_data"
    },
    {
     "data": {
      "text/html": [
       "<img src =\"/notebooks/ML3option_2/img_small/70_small.jpg\" alt =\"ss\" width =\"50\" height=\"70\" display=\"inline;\">"
      ],
      "text/plain": [
       "<IPython.core.display.HTML object>"
      ]
     },
     "metadata": {},
     "output_type": "display_data"
    },
    {
     "data": {
      "text/html": [
       "<img src =\"/notebooks/ML3option_2/img_small/78_small.jpg\" alt =\"ss\" width =\"50\" height=\"70\" display=\"inline;\">"
      ],
      "text/plain": [
       "<IPython.core.display.HTML object>"
      ]
     },
     "metadata": {},
     "output_type": "display_data"
    },
    {
     "data": {
      "text/html": [
       "<img src =\"/notebooks/ML3option_2/img_small/85_small.jpg\" alt =\"ss\" width =\"50\" height=\"70\" display=\"inline;\">"
      ],
      "text/plain": [
       "<IPython.core.display.HTML object>"
      ]
     },
     "metadata": {},
     "output_type": "display_data"
    },
    {
     "data": {
      "text/html": [
       "<img src =\"/notebooks/ML3option_2/img_small/86_small.jpg\" alt =\"ss\" width =\"50\" height=\"70\" display=\"inline;\">"
      ],
      "text/plain": [
       "<IPython.core.display.HTML object>"
      ]
     },
     "metadata": {},
     "output_type": "display_data"
    },
    {
     "data": {
      "text/html": [
       "<img src =\"/notebooks/ML3option_2/img_small/90_small.jpg\" alt =\"ss\" width =\"50\" height=\"70\" display=\"inline;\">"
      ],
      "text/plain": [
       "<IPython.core.display.HTML object>"
      ]
     },
     "metadata": {},
     "output_type": "display_data"
    },
    {
     "data": {
      "text/html": [
       "<img src =\"/notebooks/ML3option_2/img_small/105_small.jpg\" alt =\"ss\" width =\"50\" height=\"70\" display=\"inline;\">"
      ],
      "text/plain": [
       "<IPython.core.display.HTML object>"
      ]
     },
     "metadata": {},
     "output_type": "display_data"
    },
    {
     "data": {
      "text/html": [
       "<img src =\"/notebooks/ML3option_2/img_small/117_small.jpg\" alt =\"ss\" width =\"50\" height=\"70\" display=\"inline;\">"
      ],
      "text/plain": [
       "<IPython.core.display.HTML object>"
      ]
     },
     "metadata": {},
     "output_type": "display_data"
    },
    {
     "data": {
      "text/html": [
       "<img src =\"/notebooks/ML3option_2/img_small/119_small.jpg\" alt =\"ss\" width =\"50\" height=\"70\" display=\"inline;\">"
      ],
      "text/plain": [
       "<IPython.core.display.HTML object>"
      ]
     },
     "metadata": {},
     "output_type": "display_data"
    },
    {
     "data": {
      "text/html": [
       "<img src =\"/notebooks/ML3option_2/img_small/121_small.jpg\" alt =\"ss\" width =\"50\" height=\"70\" display=\"inline;\">"
      ],
      "text/plain": [
       "<IPython.core.display.HTML object>"
      ]
     },
     "metadata": {},
     "output_type": "display_data"
    },
    {
     "data": {
      "text/html": [
       "<img src =\"/notebooks/ML3option_2/img_small/130_small.jpg\" alt =\"ss\" width =\"50\" height=\"70\" display=\"inline;\">"
      ],
      "text/plain": [
       "<IPython.core.display.HTML object>"
      ]
     },
     "metadata": {},
     "output_type": "display_data"
    },
    {
     "data": {
      "text/html": [
       "<img src =\"/notebooks/ML3option_2/img_small/131_small.jpg\" alt =\"ss\" width =\"50\" height=\"70\" display=\"inline;\">"
      ],
      "text/plain": [
       "<IPython.core.display.HTML object>"
      ]
     },
     "metadata": {},
     "output_type": "display_data"
    },
    {
     "data": {
      "text/html": [
       "<img src =\"/notebooks/ML3option_2/img_small/133_small.jpg\" alt =\"ss\" width =\"50\" height=\"70\" display=\"inline;\">"
      ],
      "text/plain": [
       "<IPython.core.display.HTML object>"
      ]
     },
     "metadata": {},
     "output_type": "display_data"
    },
    {
     "data": {
      "text/html": [
       "<img src =\"/notebooks/ML3option_2/img_small/135_small.jpg\" alt =\"ss\" width =\"50\" height=\"70\" display=\"inline;\">"
      ],
      "text/plain": [
       "<IPython.core.display.HTML object>"
      ]
     },
     "metadata": {},
     "output_type": "display_data"
    },
    {
     "data": {
      "text/html": [
       "<img src =\"/notebooks/ML3option_2/img_small/147_small.jpg\" alt =\"ss\" width =\"50\" height=\"70\" display=\"inline;\">"
      ],
      "text/plain": [
       "<IPython.core.display.HTML object>"
      ]
     },
     "metadata": {},
     "output_type": "display_data"
    },
    {
     "data": {
      "text/html": [
       "<img src =\"/notebooks/ML3option_2/img_small/167_small.jpg\" alt =\"ss\" width =\"50\" height=\"70\" display=\"inline;\">"
      ],
      "text/plain": [
       "<IPython.core.display.HTML object>"
      ]
     },
     "metadata": {},
     "output_type": "display_data"
    },
    {
     "data": {
      "text/html": [
       "<img src =\"/notebooks/ML3option_2/img_small/185_small.jpg\" alt =\"ss\" width =\"50\" height=\"70\" display=\"inline;\">"
      ],
      "text/plain": [
       "<IPython.core.display.HTML object>"
      ]
     },
     "metadata": {},
     "output_type": "display_data"
    },
    {
     "data": {
      "text/html": [
       "<img src =\"/notebooks/ML3option_2/img_small/211_small.jpg\" alt =\"ss\" width =\"50\" height=\"70\" display=\"inline;\">"
      ],
      "text/plain": [
       "<IPython.core.display.HTML object>"
      ]
     },
     "metadata": {},
     "output_type": "display_data"
    },
    {
     "data": {
      "text/html": [
       "<img src =\"/notebooks/ML3option_2/img_small/217_small.jpg\" alt =\"ss\" width =\"50\" height=\"70\" display=\"inline;\">"
      ],
      "text/plain": [
       "<IPython.core.display.HTML object>"
      ]
     },
     "metadata": {},
     "output_type": "display_data"
    },
    {
     "data": {
      "text/html": [
       "<img src =\"/notebooks/ML3option_2/img_small/220_small.jpg\" alt =\"ss\" width =\"50\" height=\"70\" display=\"inline;\">"
      ],
      "text/plain": [
       "<IPython.core.display.HTML object>"
      ]
     },
     "metadata": {},
     "output_type": "display_data"
    },
    {
     "data": {
      "text/html": [
       "<img src =\"/notebooks/ML3option_2/img_small/233_small.jpg\" alt =\"ss\" width =\"50\" height=\"70\" display=\"inline;\">"
      ],
      "text/plain": [
       "<IPython.core.display.HTML object>"
      ]
     },
     "metadata": {},
     "output_type": "display_data"
    },
    {
     "data": {
      "text/html": [
       "<img src =\"/notebooks/ML3option_2/img_small/246_small.jpg\" alt =\"ss\" width =\"50\" height=\"70\" display=\"inline;\">"
      ],
      "text/plain": [
       "<IPython.core.display.HTML object>"
      ]
     },
     "metadata": {},
     "output_type": "display_data"
    },
    {
     "data": {
      "text/html": [
       "<img src =\"/notebooks/ML3option_2/img_small/281_small.jpg\" alt =\"ss\" width =\"50\" height=\"70\" display=\"inline;\">"
      ],
      "text/plain": [
       "<IPython.core.display.HTML object>"
      ]
     },
     "metadata": {},
     "output_type": "display_data"
    },
    {
     "data": {
      "text/html": [
       "<img src =\"/notebooks/ML3option_2/img_small/297_small.jpg\" alt =\"ss\" width =\"50\" height=\"70\" display=\"inline;\">"
      ],
      "text/plain": [
       "<IPython.core.display.HTML object>"
      ]
     },
     "metadata": {},
     "output_type": "display_data"
    },
    {
     "data": {
      "text/html": [
       "<img src =\"/notebooks/ML3option_2/img_small/298_small.jpg\" alt =\"ss\" width =\"50\" height=\"70\" display=\"inline;\">"
      ],
      "text/plain": [
       "<IPython.core.display.HTML object>"
      ]
     },
     "metadata": {},
     "output_type": "display_data"
    },
    {
     "data": {
      "text/html": [
       "<img src =\"/notebooks/ML3option_2/img_small/323_small.jpg\" alt =\"ss\" width =\"50\" height=\"70\" display=\"inline;\">"
      ],
      "text/plain": [
       "<IPython.core.display.HTML object>"
      ]
     },
     "metadata": {},
     "output_type": "display_data"
    },
    {
     "data": {
      "text/html": [
       "<img src =\"/notebooks/ML3option_2/img_small/327_small.jpg\" alt =\"ss\" width =\"50\" height=\"70\" display=\"inline;\">"
      ],
      "text/plain": [
       "<IPython.core.display.HTML object>"
      ]
     },
     "metadata": {},
     "output_type": "display_data"
    },
    {
     "data": {
      "text/html": [
       "<img src =\"/notebooks/ML3option_2/img_small/329_small.jpg\" alt =\"ss\" width =\"50\" height=\"70\" display=\"inline;\">"
      ],
      "text/plain": [
       "<IPython.core.display.HTML object>"
      ]
     },
     "metadata": {},
     "output_type": "display_data"
    },
    {
     "data": {
      "text/html": [
       "<img src =\"/notebooks/ML3option_2/img_small/346_small.jpg\" alt =\"ss\" width =\"50\" height=\"70\" display=\"inline;\">"
      ],
      "text/plain": [
       "<IPython.core.display.HTML object>"
      ]
     },
     "metadata": {},
     "output_type": "display_data"
    },
    {
     "data": {
      "text/html": [
       "<img src =\"/notebooks/ML3option_2/img_small/377_small.jpg\" alt =\"ss\" width =\"50\" height=\"70\" display=\"inline;\">"
      ],
      "text/plain": [
       "<IPython.core.display.HTML object>"
      ]
     },
     "metadata": {},
     "output_type": "display_data"
    },
    {
     "data": {
      "text/html": [
       "<img src =\"/notebooks/ML3option_2/img_small/387_small.jpg\" alt =\"ss\" width =\"50\" height=\"70\" display=\"inline;\">"
      ],
      "text/plain": [
       "<IPython.core.display.HTML object>"
      ]
     },
     "metadata": {},
     "output_type": "display_data"
    },
    {
     "data": {
      "text/html": [
       "<img src =\"/notebooks/ML3option_2/img_small/390_small.jpg\" alt =\"ss\" width =\"50\" height=\"70\" display=\"inline;\">"
      ],
      "text/plain": [
       "<IPython.core.display.HTML object>"
      ]
     },
     "metadata": {},
     "output_type": "display_data"
    },
    {
     "data": {
      "text/html": [
       "<img src =\"/notebooks/ML3option_2/img_small/391_small.jpg\" alt =\"ss\" width =\"50\" height=\"70\" display=\"inline;\">"
      ],
      "text/plain": [
       "<IPython.core.display.HTML object>"
      ]
     },
     "metadata": {},
     "output_type": "display_data"
    },
    {
     "name": "stdout",
     "output_type": "stream",
     "text": [
      " \n",
      "* * * * * * * * * * * * * * * * * * * * * * * * * * * * * * \n",
      "Images in cluster: 12\n",
      "* * * * * * * * * * * * * * * * * * * * * * * * * * * * * * \n"
     ]
    },
    {
     "data": {
      "text/html": [
       "<img src =\"/notebooks/ML3option_2/img_small/18_small.jpg\" alt =\"ss\" width =\"50\" height=\"70\" display=\"inline;\">"
      ],
      "text/plain": [
       "<IPython.core.display.HTML object>"
      ]
     },
     "metadata": {},
     "output_type": "display_data"
    },
    {
     "data": {
      "text/html": [
       "<img src =\"/notebooks/ML3option_2/img_small/22_small.jpg\" alt =\"ss\" width =\"50\" height=\"70\" display=\"inline;\">"
      ],
      "text/plain": [
       "<IPython.core.display.HTML object>"
      ]
     },
     "metadata": {},
     "output_type": "display_data"
    },
    {
     "data": {
      "text/html": [
       "<img src =\"/notebooks/ML3option_2/img_small/34_small.jpg\" alt =\"ss\" width =\"50\" height=\"70\" display=\"inline;\">"
      ],
      "text/plain": [
       "<IPython.core.display.HTML object>"
      ]
     },
     "metadata": {},
     "output_type": "display_data"
    },
    {
     "data": {
      "text/html": [
       "<img src =\"/notebooks/ML3option_2/img_small/37_small.jpg\" alt =\"ss\" width =\"50\" height=\"70\" display=\"inline;\">"
      ],
      "text/plain": [
       "<IPython.core.display.HTML object>"
      ]
     },
     "metadata": {},
     "output_type": "display_data"
    },
    {
     "data": {
      "text/html": [
       "<img src =\"/notebooks/ML3option_2/img_small/43_small.jpg\" alt =\"ss\" width =\"50\" height=\"70\" display=\"inline;\">"
      ],
      "text/plain": [
       "<IPython.core.display.HTML object>"
      ]
     },
     "metadata": {},
     "output_type": "display_data"
    },
    {
     "data": {
      "text/html": [
       "<img src =\"/notebooks/ML3option_2/img_small/55_small.jpg\" alt =\"ss\" width =\"50\" height=\"70\" display=\"inline;\">"
      ],
      "text/plain": [
       "<IPython.core.display.HTML object>"
      ]
     },
     "metadata": {},
     "output_type": "display_data"
    },
    {
     "data": {
      "text/html": [
       "<img src =\"/notebooks/ML3option_2/img_small/57_small.jpg\" alt =\"ss\" width =\"50\" height=\"70\" display=\"inline;\">"
      ],
      "text/plain": [
       "<IPython.core.display.HTML object>"
      ]
     },
     "metadata": {},
     "output_type": "display_data"
    },
    {
     "data": {
      "text/html": [
       "<img src =\"/notebooks/ML3option_2/img_small/90_small.jpg\" alt =\"ss\" width =\"50\" height=\"70\" display=\"inline;\">"
      ],
      "text/plain": [
       "<IPython.core.display.HTML object>"
      ]
     },
     "metadata": {},
     "output_type": "display_data"
    },
    {
     "data": {
      "text/html": [
       "<img src =\"/notebooks/ML3option_2/img_small/93_small.jpg\" alt =\"ss\" width =\"50\" height=\"70\" display=\"inline;\">"
      ],
      "text/plain": [
       "<IPython.core.display.HTML object>"
      ]
     },
     "metadata": {},
     "output_type": "display_data"
    },
    {
     "data": {
      "text/html": [
       "<img src =\"/notebooks/ML3option_2/img_small/99_small.jpg\" alt =\"ss\" width =\"50\" height=\"70\" display=\"inline;\">"
      ],
      "text/plain": [
       "<IPython.core.display.HTML object>"
      ]
     },
     "metadata": {},
     "output_type": "display_data"
    },
    {
     "data": {
      "text/html": [
       "<img src =\"/notebooks/ML3option_2/img_small/130_small.jpg\" alt =\"ss\" width =\"50\" height=\"70\" display=\"inline;\">"
      ],
      "text/plain": [
       "<IPython.core.display.HTML object>"
      ]
     },
     "metadata": {},
     "output_type": "display_data"
    },
    {
     "data": {
      "text/html": [
       "<img src =\"/notebooks/ML3option_2/img_small/136_small.jpg\" alt =\"ss\" width =\"50\" height=\"70\" display=\"inline;\">"
      ],
      "text/plain": [
       "<IPython.core.display.HTML object>"
      ]
     },
     "metadata": {},
     "output_type": "display_data"
    },
    {
     "data": {
      "text/html": [
       "<img src =\"/notebooks/ML3option_2/img_small/137_small.jpg\" alt =\"ss\" width =\"50\" height=\"70\" display=\"inline;\">"
      ],
      "text/plain": [
       "<IPython.core.display.HTML object>"
      ]
     },
     "metadata": {},
     "output_type": "display_data"
    },
    {
     "data": {
      "text/html": [
       "<img src =\"/notebooks/ML3option_2/img_small/141_small.jpg\" alt =\"ss\" width =\"50\" height=\"70\" display=\"inline;\">"
      ],
      "text/plain": [
       "<IPython.core.display.HTML object>"
      ]
     },
     "metadata": {},
     "output_type": "display_data"
    },
    {
     "data": {
      "text/html": [
       "<img src =\"/notebooks/ML3option_2/img_small/148_small.jpg\" alt =\"ss\" width =\"50\" height=\"70\" display=\"inline;\">"
      ],
      "text/plain": [
       "<IPython.core.display.HTML object>"
      ]
     },
     "metadata": {},
     "output_type": "display_data"
    },
    {
     "data": {
      "text/html": [
       "<img src =\"/notebooks/ML3option_2/img_small/150_small.jpg\" alt =\"ss\" width =\"50\" height=\"70\" display=\"inline;\">"
      ],
      "text/plain": [
       "<IPython.core.display.HTML object>"
      ]
     },
     "metadata": {},
     "output_type": "display_data"
    },
    {
     "data": {
      "text/html": [
       "<img src =\"/notebooks/ML3option_2/img_small/164_small.jpg\" alt =\"ss\" width =\"50\" height=\"70\" display=\"inline;\">"
      ],
      "text/plain": [
       "<IPython.core.display.HTML object>"
      ]
     },
     "metadata": {},
     "output_type": "display_data"
    },
    {
     "data": {
      "text/html": [
       "<img src =\"/notebooks/ML3option_2/img_small/166_small.jpg\" alt =\"ss\" width =\"50\" height=\"70\" display=\"inline;\">"
      ],
      "text/plain": [
       "<IPython.core.display.HTML object>"
      ]
     },
     "metadata": {},
     "output_type": "display_data"
    },
    {
     "data": {
      "text/html": [
       "<img src =\"/notebooks/ML3option_2/img_small/182_small.jpg\" alt =\"ss\" width =\"50\" height=\"70\" display=\"inline;\">"
      ],
      "text/plain": [
       "<IPython.core.display.HTML object>"
      ]
     },
     "metadata": {},
     "output_type": "display_data"
    },
    {
     "data": {
      "text/html": [
       "<img src =\"/notebooks/ML3option_2/img_small/195_small.jpg\" alt =\"ss\" width =\"50\" height=\"70\" display=\"inline;\">"
      ],
      "text/plain": [
       "<IPython.core.display.HTML object>"
      ]
     },
     "metadata": {},
     "output_type": "display_data"
    },
    {
     "data": {
      "text/html": [
       "<img src =\"/notebooks/ML3option_2/img_small/199_small.jpg\" alt =\"ss\" width =\"50\" height=\"70\" display=\"inline;\">"
      ],
      "text/plain": [
       "<IPython.core.display.HTML object>"
      ]
     },
     "metadata": {},
     "output_type": "display_data"
    },
    {
     "data": {
      "text/html": [
       "<img src =\"/notebooks/ML3option_2/img_small/203_small.jpg\" alt =\"ss\" width =\"50\" height=\"70\" display=\"inline;\">"
      ],
      "text/plain": [
       "<IPython.core.display.HTML object>"
      ]
     },
     "metadata": {},
     "output_type": "display_data"
    },
    {
     "data": {
      "text/html": [
       "<img src =\"/notebooks/ML3option_2/img_small/215_small.jpg\" alt =\"ss\" width =\"50\" height=\"70\" display=\"inline;\">"
      ],
      "text/plain": [
       "<IPython.core.display.HTML object>"
      ]
     },
     "metadata": {},
     "output_type": "display_data"
    },
    {
     "data": {
      "text/html": [
       "<img src =\"/notebooks/ML3option_2/img_small/227_small.jpg\" alt =\"ss\" width =\"50\" height=\"70\" display=\"inline;\">"
      ],
      "text/plain": [
       "<IPython.core.display.HTML object>"
      ]
     },
     "metadata": {},
     "output_type": "display_data"
    },
    {
     "data": {
      "text/html": [
       "<img src =\"/notebooks/ML3option_2/img_small/249_small.jpg\" alt =\"ss\" width =\"50\" height=\"70\" display=\"inline;\">"
      ],
      "text/plain": [
       "<IPython.core.display.HTML object>"
      ]
     },
     "metadata": {},
     "output_type": "display_data"
    },
    {
     "data": {
      "text/html": [
       "<img src =\"/notebooks/ML3option_2/img_small/252_small.jpg\" alt =\"ss\" width =\"50\" height=\"70\" display=\"inline;\">"
      ],
      "text/plain": [
       "<IPython.core.display.HTML object>"
      ]
     },
     "metadata": {},
     "output_type": "display_data"
    },
    {
     "data": {
      "text/html": [
       "<img src =\"/notebooks/ML3option_2/img_small/259_small.jpg\" alt =\"ss\" width =\"50\" height=\"70\" display=\"inline;\">"
      ],
      "text/plain": [
       "<IPython.core.display.HTML object>"
      ]
     },
     "metadata": {},
     "output_type": "display_data"
    },
    {
     "data": {
      "text/html": [
       "<img src =\"/notebooks/ML3option_2/img_small/262_small.jpg\" alt =\"ss\" width =\"50\" height=\"70\" display=\"inline;\">"
      ],
      "text/plain": [
       "<IPython.core.display.HTML object>"
      ]
     },
     "metadata": {},
     "output_type": "display_data"
    },
    {
     "data": {
      "text/html": [
       "<img src =\"/notebooks/ML3option_2/img_small/267_small.jpg\" alt =\"ss\" width =\"50\" height=\"70\" display=\"inline;\">"
      ],
      "text/plain": [
       "<IPython.core.display.HTML object>"
      ]
     },
     "metadata": {},
     "output_type": "display_data"
    },
    {
     "data": {
      "text/html": [
       "<img src =\"/notebooks/ML3option_2/img_small/285_small.jpg\" alt =\"ss\" width =\"50\" height=\"70\" display=\"inline;\">"
      ],
      "text/plain": [
       "<IPython.core.display.HTML object>"
      ]
     },
     "metadata": {},
     "output_type": "display_data"
    },
    {
     "data": {
      "text/html": [
       "<img src =\"/notebooks/ML3option_2/img_small/298_small.jpg\" alt =\"ss\" width =\"50\" height=\"70\" display=\"inline;\">"
      ],
      "text/plain": [
       "<IPython.core.display.HTML object>"
      ]
     },
     "metadata": {},
     "output_type": "display_data"
    },
    {
     "data": {
      "text/html": [
       "<img src =\"/notebooks/ML3option_2/img_small/299_small.jpg\" alt =\"ss\" width =\"50\" height=\"70\" display=\"inline;\">"
      ],
      "text/plain": [
       "<IPython.core.display.HTML object>"
      ]
     },
     "metadata": {},
     "output_type": "display_data"
    },
    {
     "data": {
      "text/html": [
       "<img src =\"/notebooks/ML3option_2/img_small/308_small.jpg\" alt =\"ss\" width =\"50\" height=\"70\" display=\"inline;\">"
      ],
      "text/plain": [
       "<IPython.core.display.HTML object>"
      ]
     },
     "metadata": {},
     "output_type": "display_data"
    },
    {
     "data": {
      "text/html": [
       "<img src =\"/notebooks/ML3option_2/img_small/310_small.jpg\" alt =\"ss\" width =\"50\" height=\"70\" display=\"inline;\">"
      ],
      "text/plain": [
       "<IPython.core.display.HTML object>"
      ]
     },
     "metadata": {},
     "output_type": "display_data"
    },
    {
     "data": {
      "text/html": [
       "<img src =\"/notebooks/ML3option_2/img_small/313_small.jpg\" alt =\"ss\" width =\"50\" height=\"70\" display=\"inline;\">"
      ],
      "text/plain": [
       "<IPython.core.display.HTML object>"
      ]
     },
     "metadata": {},
     "output_type": "display_data"
    },
    {
     "data": {
      "text/html": [
       "<img src =\"/notebooks/ML3option_2/img_small/346_small.jpg\" alt =\"ss\" width =\"50\" height=\"70\" display=\"inline;\">"
      ],
      "text/plain": [
       "<IPython.core.display.HTML object>"
      ]
     },
     "metadata": {},
     "output_type": "display_data"
    },
    {
     "data": {
      "text/html": [
       "<img src =\"/notebooks/ML3option_2/img_small/347_small.jpg\" alt =\"ss\" width =\"50\" height=\"70\" display=\"inline;\">"
      ],
      "text/plain": [
       "<IPython.core.display.HTML object>"
      ]
     },
     "metadata": {},
     "output_type": "display_data"
    },
    {
     "data": {
      "text/html": [
       "<img src =\"/notebooks/ML3option_2/img_small/372_small.jpg\" alt =\"ss\" width =\"50\" height=\"70\" display=\"inline;\">"
      ],
      "text/plain": [
       "<IPython.core.display.HTML object>"
      ]
     },
     "metadata": {},
     "output_type": "display_data"
    },
    {
     "data": {
      "text/html": [
       "<img src =\"/notebooks/ML3option_2/img_small/375_small.jpg\" alt =\"ss\" width =\"50\" height=\"70\" display=\"inline;\">"
      ],
      "text/plain": [
       "<IPython.core.display.HTML object>"
      ]
     },
     "metadata": {},
     "output_type": "display_data"
    },
    {
     "data": {
      "text/html": [
       "<img src =\"/notebooks/ML3option_2/img_small/379_small.jpg\" alt =\"ss\" width =\"50\" height=\"70\" display=\"inline;\">"
      ],
      "text/plain": [
       "<IPython.core.display.HTML object>"
      ]
     },
     "metadata": {},
     "output_type": "display_data"
    },
    {
     "name": "stdout",
     "output_type": "stream",
     "text": [
      " \n",
      "* * * * * * * * * * * * * * * * * * * * * * * * * * * * * * \n",
      "Images in cluster: 13\n",
      "* * * * * * * * * * * * * * * * * * * * * * * * * * * * * * \n"
     ]
    },
    {
     "data": {
      "text/html": [
       "<img src =\"/notebooks/ML3option_2/img_small/18_small.jpg\" alt =\"ss\" width =\"50\" height=\"70\" display=\"inline;\">"
      ],
      "text/plain": [
       "<IPython.core.display.HTML object>"
      ]
     },
     "metadata": {},
     "output_type": "display_data"
    },
    {
     "data": {
      "text/html": [
       "<img src =\"/notebooks/ML3option_2/img_small/22_small.jpg\" alt =\"ss\" width =\"50\" height=\"70\" display=\"inline;\">"
      ],
      "text/plain": [
       "<IPython.core.display.HTML object>"
      ]
     },
     "metadata": {},
     "output_type": "display_data"
    },
    {
     "data": {
      "text/html": [
       "<img src =\"/notebooks/ML3option_2/img_small/25_small.jpg\" alt =\"ss\" width =\"50\" height=\"70\" display=\"inline;\">"
      ],
      "text/plain": [
       "<IPython.core.display.HTML object>"
      ]
     },
     "metadata": {},
     "output_type": "display_data"
    },
    {
     "data": {
      "text/html": [
       "<img src =\"/notebooks/ML3option_2/img_small/34_small.jpg\" alt =\"ss\" width =\"50\" height=\"70\" display=\"inline;\">"
      ],
      "text/plain": [
       "<IPython.core.display.HTML object>"
      ]
     },
     "metadata": {},
     "output_type": "display_data"
    },
    {
     "data": {
      "text/html": [
       "<img src =\"/notebooks/ML3option_2/img_small/53_small.jpg\" alt =\"ss\" width =\"50\" height=\"70\" display=\"inline;\">"
      ],
      "text/plain": [
       "<IPython.core.display.HTML object>"
      ]
     },
     "metadata": {},
     "output_type": "display_data"
    },
    {
     "data": {
      "text/html": [
       "<img src =\"/notebooks/ML3option_2/img_small/90_small.jpg\" alt =\"ss\" width =\"50\" height=\"70\" display=\"inline;\">"
      ],
      "text/plain": [
       "<IPython.core.display.HTML object>"
      ]
     },
     "metadata": {},
     "output_type": "display_data"
    },
    {
     "data": {
      "text/html": [
       "<img src =\"/notebooks/ML3option_2/img_small/130_small.jpg\" alt =\"ss\" width =\"50\" height=\"70\" display=\"inline;\">"
      ],
      "text/plain": [
       "<IPython.core.display.HTML object>"
      ]
     },
     "metadata": {},
     "output_type": "display_data"
    },
    {
     "data": {
      "text/html": [
       "<img src =\"/notebooks/ML3option_2/img_small/131_small.jpg\" alt =\"ss\" width =\"50\" height=\"70\" display=\"inline;\">"
      ],
      "text/plain": [
       "<IPython.core.display.HTML object>"
      ]
     },
     "metadata": {},
     "output_type": "display_data"
    },
    {
     "data": {
      "text/html": [
       "<img src =\"/notebooks/ML3option_2/img_small/136_small.jpg\" alt =\"ss\" width =\"50\" height=\"70\" display=\"inline;\">"
      ],
      "text/plain": [
       "<IPython.core.display.HTML object>"
      ]
     },
     "metadata": {},
     "output_type": "display_data"
    },
    {
     "data": {
      "text/html": [
       "<img src =\"/notebooks/ML3option_2/img_small/147_small.jpg\" alt =\"ss\" width =\"50\" height=\"70\" display=\"inline;\">"
      ],
      "text/plain": [
       "<IPython.core.display.HTML object>"
      ]
     },
     "metadata": {},
     "output_type": "display_data"
    },
    {
     "data": {
      "text/html": [
       "<img src =\"/notebooks/ML3option_2/img_small/148_small.jpg\" alt =\"ss\" width =\"50\" height=\"70\" display=\"inline;\">"
      ],
      "text/plain": [
       "<IPython.core.display.HTML object>"
      ]
     },
     "metadata": {},
     "output_type": "display_data"
    },
    {
     "data": {
      "text/html": [
       "<img src =\"/notebooks/ML3option_2/img_small/149_small.jpg\" alt =\"ss\" width =\"50\" height=\"70\" display=\"inline;\">"
      ],
      "text/plain": [
       "<IPython.core.display.HTML object>"
      ]
     },
     "metadata": {},
     "output_type": "display_data"
    },
    {
     "data": {
      "text/html": [
       "<img src =\"/notebooks/ML3option_2/img_small/150_small.jpg\" alt =\"ss\" width =\"50\" height=\"70\" display=\"inline;\">"
      ],
      "text/plain": [
       "<IPython.core.display.HTML object>"
      ]
     },
     "metadata": {},
     "output_type": "display_data"
    },
    {
     "data": {
      "text/html": [
       "<img src =\"/notebooks/ML3option_2/img_small/164_small.jpg\" alt =\"ss\" width =\"50\" height=\"70\" display=\"inline;\">"
      ],
      "text/plain": [
       "<IPython.core.display.HTML object>"
      ]
     },
     "metadata": {},
     "output_type": "display_data"
    },
    {
     "data": {
      "text/html": [
       "<img src =\"/notebooks/ML3option_2/img_small/166_small.jpg\" alt =\"ss\" width =\"50\" height=\"70\" display=\"inline;\">"
      ],
      "text/plain": [
       "<IPython.core.display.HTML object>"
      ]
     },
     "metadata": {},
     "output_type": "display_data"
    },
    {
     "data": {
      "text/html": [
       "<img src =\"/notebooks/ML3option_2/img_small/182_small.jpg\" alt =\"ss\" width =\"50\" height=\"70\" display=\"inline;\">"
      ],
      "text/plain": [
       "<IPython.core.display.HTML object>"
      ]
     },
     "metadata": {},
     "output_type": "display_data"
    },
    {
     "data": {
      "text/html": [
       "<img src =\"/notebooks/ML3option_2/img_small/211_small.jpg\" alt =\"ss\" width =\"50\" height=\"70\" display=\"inline;\">"
      ],
      "text/plain": [
       "<IPython.core.display.HTML object>"
      ]
     },
     "metadata": {},
     "output_type": "display_data"
    },
    {
     "data": {
      "text/html": [
       "<img src =\"/notebooks/ML3option_2/img_small/252_small.jpg\" alt =\"ss\" width =\"50\" height=\"70\" display=\"inline;\">"
      ],
      "text/plain": [
       "<IPython.core.display.HTML object>"
      ]
     },
     "metadata": {},
     "output_type": "display_data"
    },
    {
     "data": {
      "text/html": [
       "<img src =\"/notebooks/ML3option_2/img_small/262_small.jpg\" alt =\"ss\" width =\"50\" height=\"70\" display=\"inline;\">"
      ],
      "text/plain": [
       "<IPython.core.display.HTML object>"
      ]
     },
     "metadata": {},
     "output_type": "display_data"
    },
    {
     "data": {
      "text/html": [
       "<img src =\"/notebooks/ML3option_2/img_small/298_small.jpg\" alt =\"ss\" width =\"50\" height=\"70\" display=\"inline;\">"
      ],
      "text/plain": [
       "<IPython.core.display.HTML object>"
      ]
     },
     "metadata": {},
     "output_type": "display_data"
    },
    {
     "data": {
      "text/html": [
       "<img src =\"/notebooks/ML3option_2/img_small/308_small.jpg\" alt =\"ss\" width =\"50\" height=\"70\" display=\"inline;\">"
      ],
      "text/plain": [
       "<IPython.core.display.HTML object>"
      ]
     },
     "metadata": {},
     "output_type": "display_data"
    },
    {
     "data": {
      "text/html": [
       "<img src =\"/notebooks/ML3option_2/img_small/310_small.jpg\" alt =\"ss\" width =\"50\" height=\"70\" display=\"inline;\">"
      ],
      "text/plain": [
       "<IPython.core.display.HTML object>"
      ]
     },
     "metadata": {},
     "output_type": "display_data"
    },
    {
     "data": {
      "text/html": [
       "<img src =\"/notebooks/ML3option_2/img_small/323_small.jpg\" alt =\"ss\" width =\"50\" height=\"70\" display=\"inline;\">"
      ],
      "text/plain": [
       "<IPython.core.display.HTML object>"
      ]
     },
     "metadata": {},
     "output_type": "display_data"
    },
    {
     "data": {
      "text/html": [
       "<img src =\"/notebooks/ML3option_2/img_small/346_small.jpg\" alt =\"ss\" width =\"50\" height=\"70\" display=\"inline;\">"
      ],
      "text/plain": [
       "<IPython.core.display.HTML object>"
      ]
     },
     "metadata": {},
     "output_type": "display_data"
    },
    {
     "data": {
      "text/html": [
       "<img src =\"/notebooks/ML3option_2/img_small/372_small.jpg\" alt =\"ss\" width =\"50\" height=\"70\" display=\"inline;\">"
      ],
      "text/plain": [
       "<IPython.core.display.HTML object>"
      ]
     },
     "metadata": {},
     "output_type": "display_data"
    },
    {
     "data": {
      "text/html": [
       "<img src =\"/notebooks/ML3option_2/img_small/381_small.jpg\" alt =\"ss\" width =\"50\" height=\"70\" display=\"inline;\">"
      ],
      "text/plain": [
       "<IPython.core.display.HTML object>"
      ]
     },
     "metadata": {},
     "output_type": "display_data"
    },
    {
     "data": {
      "text/html": [
       "<img src =\"/notebooks/ML3option_2/img_small/387_small.jpg\" alt =\"ss\" width =\"50\" height=\"70\" display=\"inline;\">"
      ],
      "text/plain": [
       "<IPython.core.display.HTML object>"
      ]
     },
     "metadata": {},
     "output_type": "display_data"
    },
    {
     "name": "stdout",
     "output_type": "stream",
     "text": [
      " \n",
      "* * * * * * * * * * * * * * * * * * * * * * * * * * * * * * \n",
      "Images in cluster: 14\n",
      "* * * * * * * * * * * * * * * * * * * * * * * * * * * * * * \n"
     ]
    },
    {
     "data": {
      "text/html": [
       "<img src =\"/notebooks/ML3option_2/img_small/18_small.jpg\" alt =\"ss\" width =\"50\" height=\"70\" display=\"inline;\">"
      ],
      "text/plain": [
       "<IPython.core.display.HTML object>"
      ]
     },
     "metadata": {},
     "output_type": "display_data"
    },
    {
     "data": {
      "text/html": [
       "<img src =\"/notebooks/ML3option_2/img_small/22_small.jpg\" alt =\"ss\" width =\"50\" height=\"70\" display=\"inline;\">"
      ],
      "text/plain": [
       "<IPython.core.display.HTML object>"
      ]
     },
     "metadata": {},
     "output_type": "display_data"
    },
    {
     "data": {
      "text/html": [
       "<img src =\"/notebooks/ML3option_2/img_small/34_small.jpg\" alt =\"ss\" width =\"50\" height=\"70\" display=\"inline;\">"
      ],
      "text/plain": [
       "<IPython.core.display.HTML object>"
      ]
     },
     "metadata": {},
     "output_type": "display_data"
    },
    {
     "data": {
      "text/html": [
       "<img src =\"/notebooks/ML3option_2/img_small/43_small.jpg\" alt =\"ss\" width =\"50\" height=\"70\" display=\"inline;\">"
      ],
      "text/plain": [
       "<IPython.core.display.HTML object>"
      ]
     },
     "metadata": {},
     "output_type": "display_data"
    },
    {
     "data": {
      "text/html": [
       "<img src =\"/notebooks/ML3option_2/img_small/55_small.jpg\" alt =\"ss\" width =\"50\" height=\"70\" display=\"inline;\">"
      ],
      "text/plain": [
       "<IPython.core.display.HTML object>"
      ]
     },
     "metadata": {},
     "output_type": "display_data"
    },
    {
     "data": {
      "text/html": [
       "<img src =\"/notebooks/ML3option_2/img_small/90_small.jpg\" alt =\"ss\" width =\"50\" height=\"70\" display=\"inline;\">"
      ],
      "text/plain": [
       "<IPython.core.display.HTML object>"
      ]
     },
     "metadata": {},
     "output_type": "display_data"
    },
    {
     "data": {
      "text/html": [
       "<img src =\"/notebooks/ML3option_2/img_small/99_small.jpg\" alt =\"ss\" width =\"50\" height=\"70\" display=\"inline;\">"
      ],
      "text/plain": [
       "<IPython.core.display.HTML object>"
      ]
     },
     "metadata": {},
     "output_type": "display_data"
    },
    {
     "data": {
      "text/html": [
       "<img src =\"/notebooks/ML3option_2/img_small/101_small.jpg\" alt =\"ss\" width =\"50\" height=\"70\" display=\"inline;\">"
      ],
      "text/plain": [
       "<IPython.core.display.HTML object>"
      ]
     },
     "metadata": {},
     "output_type": "display_data"
    },
    {
     "data": {
      "text/html": [
       "<img src =\"/notebooks/ML3option_2/img_small/130_small.jpg\" alt =\"ss\" width =\"50\" height=\"70\" display=\"inline;\">"
      ],
      "text/plain": [
       "<IPython.core.display.HTML object>"
      ]
     },
     "metadata": {},
     "output_type": "display_data"
    },
    {
     "data": {
      "text/html": [
       "<img src =\"/notebooks/ML3option_2/img_small/150_small.jpg\" alt =\"ss\" width =\"50\" height=\"70\" display=\"inline;\">"
      ],
      "text/plain": [
       "<IPython.core.display.HTML object>"
      ]
     },
     "metadata": {},
     "output_type": "display_data"
    },
    {
     "data": {
      "text/html": [
       "<img src =\"/notebooks/ML3option_2/img_small/166_small.jpg\" alt =\"ss\" width =\"50\" height=\"70\" display=\"inline;\">"
      ],
      "text/plain": [
       "<IPython.core.display.HTML object>"
      ]
     },
     "metadata": {},
     "output_type": "display_data"
    },
    {
     "data": {
      "text/html": [
       "<img src =\"/notebooks/ML3option_2/img_small/182_small.jpg\" alt =\"ss\" width =\"50\" height=\"70\" display=\"inline;\">"
      ],
      "text/plain": [
       "<IPython.core.display.HTML object>"
      ]
     },
     "metadata": {},
     "output_type": "display_data"
    },
    {
     "data": {
      "text/html": [
       "<img src =\"/notebooks/ML3option_2/img_small/195_small.jpg\" alt =\"ss\" width =\"50\" height=\"70\" display=\"inline;\">"
      ],
      "text/plain": [
       "<IPython.core.display.HTML object>"
      ]
     },
     "metadata": {},
     "output_type": "display_data"
    },
    {
     "data": {
      "text/html": [
       "<img src =\"/notebooks/ML3option_2/img_small/199_small.jpg\" alt =\"ss\" width =\"50\" height=\"70\" display=\"inline;\">"
      ],
      "text/plain": [
       "<IPython.core.display.HTML object>"
      ]
     },
     "metadata": {},
     "output_type": "display_data"
    },
    {
     "data": {
      "text/html": [
       "<img src =\"/notebooks/ML3option_2/img_small/203_small.jpg\" alt =\"ss\" width =\"50\" height=\"70\" display=\"inline;\">"
      ],
      "text/plain": [
       "<IPython.core.display.HTML object>"
      ]
     },
     "metadata": {},
     "output_type": "display_data"
    },
    {
     "data": {
      "text/html": [
       "<img src =\"/notebooks/ML3option_2/img_small/215_small.jpg\" alt =\"ss\" width =\"50\" height=\"70\" display=\"inline;\">"
      ],
      "text/plain": [
       "<IPython.core.display.HTML object>"
      ]
     },
     "metadata": {},
     "output_type": "display_data"
    },
    {
     "data": {
      "text/html": [
       "<img src =\"/notebooks/ML3option_2/img_small/216_small.jpg\" alt =\"ss\" width =\"50\" height=\"70\" display=\"inline;\">"
      ],
      "text/plain": [
       "<IPython.core.display.HTML object>"
      ]
     },
     "metadata": {},
     "output_type": "display_data"
    },
    {
     "data": {
      "text/html": [
       "<img src =\"/notebooks/ML3option_2/img_small/220_small.jpg\" alt =\"ss\" width =\"50\" height=\"70\" display=\"inline;\">"
      ],
      "text/plain": [
       "<IPython.core.display.HTML object>"
      ]
     },
     "metadata": {},
     "output_type": "display_data"
    },
    {
     "data": {
      "text/html": [
       "<img src =\"/notebooks/ML3option_2/img_small/227_small.jpg\" alt =\"ss\" width =\"50\" height=\"70\" display=\"inline;\">"
      ],
      "text/plain": [
       "<IPython.core.display.HTML object>"
      ]
     },
     "metadata": {},
     "output_type": "display_data"
    },
    {
     "data": {
      "text/html": [
       "<img src =\"/notebooks/ML3option_2/img_small/232_small.jpg\" alt =\"ss\" width =\"50\" height=\"70\" display=\"inline;\">"
      ],
      "text/plain": [
       "<IPython.core.display.HTML object>"
      ]
     },
     "metadata": {},
     "output_type": "display_data"
    },
    {
     "data": {
      "text/html": [
       "<img src =\"/notebooks/ML3option_2/img_small/259_small.jpg\" alt =\"ss\" width =\"50\" height=\"70\" display=\"inline;\">"
      ],
      "text/plain": [
       "<IPython.core.display.HTML object>"
      ]
     },
     "metadata": {},
     "output_type": "display_data"
    },
    {
     "data": {
      "text/html": [
       "<img src =\"/notebooks/ML3option_2/img_small/262_small.jpg\" alt =\"ss\" width =\"50\" height=\"70\" display=\"inline;\">"
      ],
      "text/plain": [
       "<IPython.core.display.HTML object>"
      ]
     },
     "metadata": {},
     "output_type": "display_data"
    },
    {
     "data": {
      "text/html": [
       "<img src =\"/notebooks/ML3option_2/img_small/267_small.jpg\" alt =\"ss\" width =\"50\" height=\"70\" display=\"inline;\">"
      ],
      "text/plain": [
       "<IPython.core.display.HTML object>"
      ]
     },
     "metadata": {},
     "output_type": "display_data"
    },
    {
     "data": {
      "text/html": [
       "<img src =\"/notebooks/ML3option_2/img_small/298_small.jpg\" alt =\"ss\" width =\"50\" height=\"70\" display=\"inline;\">"
      ],
      "text/plain": [
       "<IPython.core.display.HTML object>"
      ]
     },
     "metadata": {},
     "output_type": "display_data"
    },
    {
     "data": {
      "text/html": [
       "<img src =\"/notebooks/ML3option_2/img_small/299_small.jpg\" alt =\"ss\" width =\"50\" height=\"70\" display=\"inline;\">"
      ],
      "text/plain": [
       "<IPython.core.display.HTML object>"
      ]
     },
     "metadata": {},
     "output_type": "display_data"
    },
    {
     "data": {
      "text/html": [
       "<img src =\"/notebooks/ML3option_2/img_small/310_small.jpg\" alt =\"ss\" width =\"50\" height=\"70\" display=\"inline;\">"
      ],
      "text/plain": [
       "<IPython.core.display.HTML object>"
      ]
     },
     "metadata": {},
     "output_type": "display_data"
    },
    {
     "data": {
      "text/html": [
       "<img src =\"/notebooks/ML3option_2/img_small/346_small.jpg\" alt =\"ss\" width =\"50\" height=\"70\" display=\"inline;\">"
      ],
      "text/plain": [
       "<IPython.core.display.HTML object>"
      ]
     },
     "metadata": {},
     "output_type": "display_data"
    },
    {
     "data": {
      "text/html": [
       "<img src =\"/notebooks/ML3option_2/img_small/347_small.jpg\" alt =\"ss\" width =\"50\" height=\"70\" display=\"inline;\">"
      ],
      "text/plain": [
       "<IPython.core.display.HTML object>"
      ]
     },
     "metadata": {},
     "output_type": "display_data"
    },
    {
     "data": {
      "text/html": [
       "<img src =\"/notebooks/ML3option_2/img_small/375_small.jpg\" alt =\"ss\" width =\"50\" height=\"70\" display=\"inline;\">"
      ],
      "text/plain": [
       "<IPython.core.display.HTML object>"
      ]
     },
     "metadata": {},
     "output_type": "display_data"
    },
    {
     "data": {
      "text/html": [
       "<img src =\"/notebooks/ML3option_2/img_small/379_small.jpg\" alt =\"ss\" width =\"50\" height=\"70\" display=\"inline;\">"
      ],
      "text/plain": [
       "<IPython.core.display.HTML object>"
      ]
     },
     "metadata": {},
     "output_type": "display_data"
    }
   ],
   "source": [
    "from IPython.core.display import display, HTML\n",
    "# display(HTML('<p>Hello, world!</p>'))\n",
    "# display(HTML('<img src=\"/notebooks/ML3option_2/img_small/3_small.jpg\">'))\n",
    "for i in range(0, max(km.labels_)+1):\n",
    "    print(\" \")\n",
    "    print(\"* * * * * * * * * * * * * * * * * * * * * * * * * * * * * * \")\n",
    "    print(\"Images in cluster: \" + str(i))\n",
    "    print(\"* * * * * * * * * * * * * * * * * * * * * * * * * * * * * * \")\n",
    "    for j in range(0, len(km.labels_)):\n",
    "        if km.labels_[j] == i & j<=10:\n",
    "#             print(str(j+2) + '_small.jpg')\n",
    "            imgscr = \"/notebooks/ML3option_2/img_small/\"+str(j+2)+'_small.jpg'\n",
    "#             print(imgscr)\n",
    "            display(HTML('<img src ='+ '\"'+imgscr+ '\" alt =\"ss\" width =\"50\" height=\"70\" display=\"inline;\">'))\n"
   ]
  },
  {
   "cell_type": "code",
   "execution_count": 243,
   "metadata": {},
   "outputs": [],
   "source": [
    "# /Users/working/Documents/ParsonsSchool/Sp19/MachineLearning/DATASET/img_small \n",
    "\n"
   ]
  },
  {
   "cell_type": "code",
   "execution_count": null,
   "metadata": {},
   "outputs": [],
   "source": []
  },
  {
   "cell_type": "code",
   "execution_count": null,
   "metadata": {},
   "outputs": [],
   "source": []
  }
 ],
 "metadata": {
  "kernelspec": {
   "display_name": "Python 3",
   "language": "python",
   "name": "python3"
  },
  "language_info": {
   "codemirror_mode": {
    "name": "ipython",
    "version": 3
   },
   "file_extension": ".py",
   "mimetype": "text/x-python",
   "name": "python",
   "nbconvert_exporter": "python",
   "pygments_lexer": "ipython3",
   "version": "3.6.8"
  }
 },
 "nbformat": 4,
 "nbformat_minor": 2
}
